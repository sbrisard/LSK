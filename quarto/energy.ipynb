{
 "cells": [
  {
   "cell_type": "markdown",
   "id": "8a04f073-c617-45bf-a085-81b6e47b8cac",
   "metadata": {},
   "source": [
    "# Asymptotic expansion of the energy {#sec-20230523130742}"
   ]
  },
  {
   "cell_type": "markdown",
   "id": "b624a84a-498f-462c-a7a7-7fc41e6834ee",
   "metadata": {},
   "source": [
    "This notebook uses $\\LaTeX\\newcommand{\\D}{\\mathrm{d}}\\newcommand{\\E}{\\mathcal{E}}\\newcommand{\\order}[2][1]{#2^{(#1)}}\\newcommand{\\reals}{\\mathbb{R}}$ custom macros."
   ]
  },
  {
   "cell_type": "markdown",
   "id": "60aa1100-f5ad-4900-91f8-9e44d0db70fd",
   "metadata": {},
   "source": [
    "In this chapter, we derive the asymptotic expansion (@eq-20230528190539) of the energy along the bifurcated branch. More precisely, the following quantity is expanded at the critical point"
   ]
  },
  {
   "cell_type": "markdown",
   "id": "0cb3ae4c-92f6-4553-8f9d-ee3287dbee1f",
   "metadata": {},
   "source": [
    "$$\n",
    "\\Delta\\E(\\eta) = \\E[u(\\eta), \\lambda(\\eta)] - \\E[u^\\ast \\circ \\lambda(\\eta), \\lambda(\\eta)],\n",
    "$$"
   ]
  },
  {
   "cell_type": "markdown",
   "id": "9fe45c3f-91ef-419b-bd44-96dd6353e45c",
   "metadata": {},
   "source": [
    "where $\\eta$ is an arbitrary parametrization of the bifurcated branch ($\\eta = 0$ at the critical point)."
   ]
  },
  {
   "cell_type": "markdown",
   "id": "cccf271e-1f64-44a8-9c9c-f01bc3d44e0e",
   "metadata": {},
   "source": [
    "The asymptotic expansion of the energy results from plugging the asymptotic expansions (@eq-20230528174310) and (@eq-20230411141319) of $\\lambda(\\eta)$ and $u(\\eta)$ into the general expression of the energy that was derived in @sec-20230402140105."
   ]
  },
  {
   "cell_type": "code",
   "execution_count": 1,
   "id": "db2575b5-31a5-4aff-b879-69f26e037041",
   "metadata": {},
   "outputs": [],
   "source": [
    "from lsk import *\n",
    "from sympy import *"
   ]
  },
  {
   "cell_type": "markdown",
   "id": "a1ed4efa-fa64-4a7a-bc8d-92e3761f4061",
   "metadata": {},
   "source": [
    "We first define the asymptotic expansion of $\\lambda$ w.r.t. the (unspecified) parameter $\\eta$."
   ]
  },
  {
   "cell_type": "code",
   "execution_count": 2,
   "id": "67a7a81f-e693-4edf-9ef6-23b35b3a35d9",
   "metadata": {},
   "outputs": [],
   "source": [
    "def create_λ():\n",
    "    return λ1 * η + λ2 * η**2 / 2 + λ3 * η**3 / 6 + λ4 * η**4 / 24 + O(η**5)"
   ]
  },
  {
   "cell_type": "code",
   "execution_count": 3,
   "id": "96ee04a4-40f9-41ad-aaa8-b4d77f0dd892",
   "metadata": {},
   "outputs": [
    {
     "data": {
      "text/latex": [
       "$\\displaystyle \\lambda(\\eta)=\\eta {\\order[1]{\\lambda}} + \\frac{\\eta^{2} {\\order[2]{\\lambda}}}{2} + \\frac{\\eta^{3} {\\order[3]{\\lambda}}}{6} + \\frac{\\eta^{4} {\\order[4]{\\lambda}}}{24} + O\\left(\\eta^{5}\\right)$"
      ],
      "text/plain": [
       "<IPython.core.display.Math object>"
      ]
     },
     "metadata": {},
     "output_type": "display_data"
    }
   ],
   "source": [
    "#| code-fold: true\n",
    "display_latex_equation(r\"\\lambda(\\eta)\", create_λ())"
   ]
  },
  {
   "cell_type": "raw",
   "id": "0e926a49-11da-419b-aa76-814f99f598ea",
   "metadata": {},
   "source": [
    "::: {.callout-note}"
   ]
  },
  {
   "cell_type": "markdown",
   "id": "3719e958-cac9-42d7-8377-49d80ce877ad",
   "metadata": {},
   "source": [
    "In the previous chapters, we have derived the asymptotic expansions of $\\lambda$, $u^\\ast$ and $u$ \n",
    "up to fourth-order in $\\eta$. It will be shown below that these expansion lead to an expansion of $\\Delta\\E$ up to **fourth-order** terms in $\\eta$.\n",
    "\n",
    "For the sake of consistency, expansions of $\\lambda$, $u^\\ast$ and $u$ will be postulated up to fourth-order: it will be finally checked that the fourth-order expansion of $\\Delta\\E$ refers only to: $\\order[1]{\\lambda}$, $\\order[2]{\\lambda}$, $w_{i\\lambda}$ and $w_{ij}$ (which are all known quantities)."
   ]
  },
  {
   "cell_type": "raw",
   "id": "0cb508ca-5e1f-479c-a30d-f0785fb1c1a7",
   "metadata": {},
   "source": [
    ":::"
   ]
  },
  {
   "cell_type": "markdown",
   "id": "4c6e9419-189a-4485-9a01-cbcd748d978e",
   "metadata": {},
   "source": [
    "The fundamental branch $u^\\ast(\\lambda)$ was previously defined as an asymptotic expansion w.r.t. $\\lambda$. We can now define it as a function of $\\eta$, keeping only fourth-order terms."
   ]
  },
  {
   "cell_type": "code",
   "execution_count": 4,
   "id": "30e4d106-0efd-47d1-af9c-8e84bccbdc28",
   "metadata": {},
   "outputs": [],
   "source": [
    "def create_u_star_2():\n",
    "    return create_u_star(λ_fun=create_λ)"
   ]
  },
  {
   "cell_type": "code",
   "execution_count": 5,
   "id": "8aa88dbd-4664-4353-a4d6-dc6ba99491be",
   "metadata": {},
   "outputs": [
    {
     "data": {
      "text/latex": [
       "$\\displaystyle u^\\ast(\\eta)=\\dot{u}_0 \\eta {\\order[1]{\\lambda}} + \\frac{\\dot{u}_0 \\eta^{2} {\\order[2]{\\lambda}}}{2} + \\frac{\\dot{u}_0 \\eta^{3} {\\order[3]{\\lambda}}}{6} + \\frac{\\dot{u}_0 \\eta^{4} {\\order[4]{\\lambda}}}{24} + \\frac{\\ddot{u}_0 \\eta^{2} {\\order[1]{\\lambda}}^{2}}{2} + \\frac{\\ddot{u}_0 \\eta^{3} {\\order[1]{\\lambda}} {\\order[2]{\\lambda}}}{2} + \\frac{\\ddot{u}_0 \\eta^{4} {\\order[2]{\\lambda}}^{2}}{8} + \\frac{\\ddot{u}_0 \\eta^{4} {\\order[1]{\\lambda}} {\\order[3]{\\lambda}}}{6} + \\frac{\\dddot{u}_0 \\eta^{3} {\\order[1]{\\lambda}}^{3}}{6} + \\frac{\\dddot{u}_0 \\eta^{4} {\\order[1]{\\lambda}}^{2} {\\order[2]{\\lambda}}}{4} + \\frac{\\ddddot{u}_0 \\eta^{4} {\\order[1]{\\lambda}}^{4}}{24} + O\\left(\\eta^{5}\\right)$"
      ],
      "text/plain": [
       "<IPython.core.display.Math object>"
      ]
     },
     "metadata": {},
     "output_type": "display_data"
    }
   ],
   "source": [
    "#| code-fold: true\n",
    "display_latex_equation(r\"u^\\ast(\\eta)\", create_u_star_2().expand())"
   ]
  },
  {
   "cell_type": "markdown",
   "id": "f93b5e81-d8f7-4b24-8211-6ba933e7285d",
   "metadata": {},
   "source": [
    "Similarly, we define the asymptotic expansion of $u$, see Eqs. (@eq-20230528174310) and (@eq-20230411141319); note that the quantities $\\order[3]{\\tilde{u}}$ and $\\order[4]{\\tilde{u}}$ are unknown (and will in fact disappear from the derivation). "
   ]
  },
  {
   "cell_type": "code",
   "execution_count": 6,
   "id": "f36b6e11-ff55-4019-8bfe-c1007485868a",
   "metadata": {},
   "outputs": [],
   "source": [
    "u1 = Symbol(r\"{\\order[1]{u}}\")\n",
    "u2_V = Symbol(r\"{\\order[2]{u}_V}\")\n",
    "u2_W = Symbol(r\"{\\order[2]{u}_W}\")\n",
    "u3 = Symbol(r\"{\\order[3]{u}}\")\n",
    "u4 = Symbol(r\"{\\order[4]{u}}\")\n",
    "\n",
    "def create_u():\n",
    "    return (create_u_star(create_λ) + η * u1 + η**2 / 2 * (u2_V + u2_W) + η**3 / 6 * u3 + η**4 / 24 * u4)"
   ]
  },
  {
   "cell_type": "code",
   "execution_count": 7,
   "id": "415eb725-0af8-4db5-a4d3-29edbdd6a86a",
   "metadata": {},
   "outputs": [
    {
     "data": {
      "text/latex": [
       "$\\displaystyle u(\\eta)=\\eta {\\order[1]{u}} + \\frac{\\eta^{2} {\\order[2]{u}_W}}{2} + \\frac{\\eta^{2} {\\order[2]{u}_V}}{2} + \\frac{\\eta^{3} {\\order[3]{u}}}{6} + \\frac{\\eta^{4} {\\order[4]{u}}}{24} + \\dot{u}_0 \\eta {\\order[1]{\\lambda}} + \\frac{\\dot{u}_0 \\eta^{2} {\\order[2]{\\lambda}}}{2} + \\frac{\\dot{u}_0 \\eta^{3} {\\order[3]{\\lambda}}}{6} + \\frac{\\dot{u}_0 \\eta^{4} {\\order[4]{\\lambda}}}{24} + \\frac{\\ddot{u}_0 \\eta^{2} {\\order[1]{\\lambda}}^{2}}{2} + \\frac{\\ddot{u}_0 \\eta^{3} {\\order[1]{\\lambda}} {\\order[2]{\\lambda}}}{2} + \\frac{\\ddot{u}_0 \\eta^{4} {\\order[2]{\\lambda}}^{2}}{8} + \\frac{\\ddot{u}_0 \\eta^{4} {\\order[1]{\\lambda}} {\\order[3]{\\lambda}}}{6} + \\frac{\\dddot{u}_0 \\eta^{3} {\\order[1]{\\lambda}}^{3}}{6} + \\frac{\\dddot{u}_0 \\eta^{4} {\\order[1]{\\lambda}}^{2} {\\order[2]{\\lambda}}}{4} + \\frac{\\ddddot{u}_0 \\eta^{4} {\\order[1]{\\lambda}}^{4}}{24} + O\\left(\\eta^{5}\\right)$"
      ],
      "text/plain": [
       "<IPython.core.display.Math object>"
      ]
     },
     "metadata": {},
     "output_type": "display_data"
    }
   ],
   "source": [
    "#| code-fold: true\n",
    "display_latex_equation(r\"u(\\eta)\", create_u().expand())"
   ]
  },
  {
   "cell_type": "markdown",
   "id": "025e7664-b949-44b9-ad27-8092d6d56003",
   "metadata": {},
   "source": [
    "We then use these expansions to evaluate the energy along the **fundamental** and **bifurcated** branches, as well as the difference $\\Delta\\E$ of these two quantities. The resulting expressions are too long to be displayed. We first apply some elementary simplifications."
   ]
  },
  {
   "cell_type": "code",
   "execution_count": 22,
   "id": "fe9580a6-db09-4afb-96da-d7a261178f2a",
   "metadata": {},
   "outputs": [],
   "source": [
    "E_fund = create_E(λ_fun=create_λ, u_fun=create_u_star_2).expand()\n",
    "E_bif = create_E(λ_fun=create_λ, u_fun=create_u).expand()"
   ]
  },
  {
   "cell_type": "code",
   "execution_count": 24,
   "id": "04f03ca1-4a90-465b-bc13-1d3fe794e27f",
   "metadata": {},
   "outputs": [
    {
     "data": {
      "text/latex": [
       "$\\displaystyle \\frac{\\dot{\\E}_3 \\eta^{4} {\\order[1]{\\lambda}} {v}_{Idx\\left(i\\right)} {v}_{Idx\\left(j\\right)} {v}_{Idx\\left(k\\right)} {{\\order[1]{\\xi}}}_{Idx\\left(i\\right)} {{\\order[1]{\\xi}}}_{Idx\\left(j\\right)} {{\\order[1]{\\xi}}}_{Idx\\left(k\\right)}}{6} + \\frac{\\dot{\\E}_2 \\eta^{3} {\\order[1]{\\lambda}} {v}_{Idx\\left(i\\right)} {v}_{Idx\\left(j\\right)} {{\\order[1]{\\xi}}}_{Idx\\left(i\\right)} {{\\order[1]{\\xi}}}_{Idx\\left(j\\right)}}{2} + \\frac{\\dot{\\E}_2 \\eta^{4} {\\order[2]{\\lambda}} {v}_{Idx\\left(i\\right)} {v}_{Idx\\left(j\\right)} {{\\order[1]{\\xi}}}_{Idx\\left(i\\right)} {{\\order[1]{\\xi}}}_{Idx\\left(j\\right)}}{4} + \\frac{\\dot{\\E}_2 \\eta^{4} {\\order[1]{\\lambda}} {v}_{Idx\\left(i\\right)} {w}_{Idx\\left(j\\right),Idx\\left(k\\right)} {{\\order[1]{\\xi}}}_{Idx\\left(i\\right)} {{\\order[1]{\\xi}}}_{Idx\\left(j\\right)} {{\\order[1]{\\xi}}}_{Idx\\left(k\\right)}}{2} + \\frac{\\dot{\\E}_2 \\eta^{4} {\\order[1]{\\lambda}} {v}_{Idx\\left(i\\right)} {v}_{Idx\\left(j\\right)} {{\\order[1]{\\xi}}}_{Idx\\left(i\\right)} {{\\order[2]{\\xi}}}_{Idx\\left(j\\right)}}{2} + \\dot{\\E}_2 \\eta^{4} {\\order[1]{\\lambda}}^{2} {v}_{Idx\\left(i\\right)} {w}_{Idx\\left(j\\right),Idx\\left(\\lambda\\right)} {{\\order[1]{\\xi}}}_{Idx\\left(i\\right)} {{\\order[1]{\\xi}}}_{Idx\\left(j\\right)} + \\frac{\\ddot{\\E}_2 \\eta^{4} {\\order[1]{\\lambda}}^{2} {v}_{Idx\\left(i\\right)} {v}_{Idx\\left(j\\right)} {{\\order[1]{\\xi}}}_{Idx\\left(i\\right)} {{\\order[1]{\\xi}}}_{Idx\\left(j\\right)}}{4} + \\frac{\\E_{4} \\eta^{4} {v}_{Idx\\left(i\\right)} {v}_{Idx\\left(j\\right)} {v}_{Idx\\left(k\\right)} {v}_{Idx\\left(l\\right)} {{\\order[1]{\\xi}}}_{Idx\\left(i\\right)} {{\\order[1]{\\xi}}}_{Idx\\left(j\\right)} {{\\order[1]{\\xi}}}_{Idx\\left(k\\right)} {{\\order[1]{\\xi}}}_{Idx\\left(l\\right)}}{24} + \\frac{\\E_{3} \\eta^{3} {v}_{Idx\\left(i\\right)} {v}_{Idx\\left(j\\right)} {v}_{Idx\\left(k\\right)} {{\\order[1]{\\xi}}}_{Idx\\left(i\\right)} {{\\order[1]{\\xi}}}_{Idx\\left(j\\right)} {{\\order[1]{\\xi}}}_{Idx\\left(k\\right)}}{6} + \\frac{\\E_{3} \\eta^{4} {v}_{Idx\\left(i\\right)} {v}_{Idx\\left(j\\right)} {w}_{Idx\\left(k\\right),Idx\\left(l\\right)} {{\\order[1]{\\xi}}}_{Idx\\left(i\\right)} {{\\order[1]{\\xi}}}_{Idx\\left(j\\right)} {{\\order[1]{\\xi}}}_{Idx\\left(k\\right)} {{\\order[1]{\\xi}}}_{Idx\\left(l\\right)}}{4} + \\frac{\\E_{3} \\eta^{4} {v}_{Idx\\left(i\\right)} {v}_{Idx\\left(j\\right)} {v}_{Idx\\left(k\\right)} {{\\order[1]{\\xi}}}_{Idx\\left(i\\right)} {{\\order[1]{\\xi}}}_{Idx\\left(j\\right)} {{\\order[2]{\\xi}}}_{Idx\\left(k\\right)}}{4} + \\frac{\\E_{3} \\eta^{4} {\\order[1]{\\lambda}} {v}_{Idx\\left(i\\right)} {v}_{Idx\\left(j\\right)} {w}_{Idx\\left(k\\right),Idx\\left(\\lambda\\right)} {{\\order[1]{\\xi}}}_{Idx\\left(i\\right)} {{\\order[1]{\\xi}}}_{Idx\\left(j\\right)} {{\\order[1]{\\xi}}}_{Idx\\left(k\\right)}}{2} + \\frac{\\E_{2} \\eta^{4} {w}_{Idx\\left(i\\right),Idx\\left(j\\right)} {w}_{Idx\\left(k\\right),Idx\\left(l\\right)} {{\\order[1]{\\xi}}}_{Idx\\left(i\\right)} {{\\order[1]{\\xi}}}_{Idx\\left(j\\right)} {{\\order[1]{\\xi}}}_{Idx\\left(k\\right)} {{\\order[1]{\\xi}}}_{Idx\\left(l\\right)}}{8} + \\frac{\\E_{2} \\eta^{4} {\\order[1]{\\lambda}} {w}_{Idx\\left(i\\right),Idx\\left(j\\right)} {w}_{Idx\\left(k\\right),Idx\\left(\\lambda\\right)} {{\\order[1]{\\xi}}}_{Idx\\left(i\\right)} {{\\order[1]{\\xi}}}_{Idx\\left(j\\right)} {{\\order[1]{\\xi}}}_{Idx\\left(k\\right)}}{4} + \\frac{\\E_{2} \\eta^{4} {\\order[1]{\\lambda}} {w}_{Idx\\left(i\\right),Idx\\left(\\lambda\\right)} {w}_{Idx\\left(k\\right),Idx\\left(l\\right)} {{\\order[1]{\\xi}}}_{Idx\\left(i\\right)} {{\\order[1]{\\xi}}}_{Idx\\left(k\\right)} {{\\order[1]{\\xi}}}_{Idx\\left(l\\right)}}{4} + \\frac{\\E_{2} \\eta^{4} {\\order[1]{\\lambda}}^{2} {w}_{Idx\\left(i\\right),Idx\\left(\\lambda\\right)} {w}_{Idx\\left(k\\right),Idx\\left(\\lambda\\right)} {{\\order[1]{\\xi}}}_{Idx\\left(i\\right)} {{\\order[1]{\\xi}}}_{Idx\\left(k\\right)}}{2} + O\\left(\\eta^{5}\\right)$"
      ],
      "text/plain": [
       "\\dot{\\E}_3*\\eta**4*{\\order[1]{\\lambda}}*v[i]*v[j]*v[k]*{\\order[1]{\\xi}}[i]*{\\order[1]{\\xi}}[j]*{\\order[1]{\\xi}}[k]/6 + \\dot{\\E}_2*\\eta**3*{\\order[1]{\\lambda}}*v[i]*v[j]*{\\order[1]{\\xi}}[i]*{\\order[1]{\\xi}}[j]/2 + \\dot{\\E}_2*\\eta**4*{\\order[2]{\\lambda}}*v[i]*v[j]*{\\order[1]{\\xi}}[i]*{\\order[1]{\\xi}}[j]/4 + \\dot{\\E}_2*\\eta**4*{\\order[1]{\\lambda}}*v[i]*w[j, k]*{\\order[1]{\\xi}}[i]*{\\order[1]{\\xi}}[j]*{\\order[1]{\\xi}}[k]/2 + \\dot{\\E}_2*\\eta**4*{\\order[1]{\\lambda}}*v[i]*v[j]*{\\order[1]{\\xi}}[i]*{\\order[2]{\\xi}}[j]/2 + \\dot{\\E}_2*\\eta**4*{\\order[1]{\\lambda}}**2*v[i]*w[j, \\lambda]*{\\order[1]{\\xi}}[i]*{\\order[1]{\\xi}}[j] + \\ddot{\\E}_2*\\eta**4*{\\order[1]{\\lambda}}**2*v[i]*v[j]*{\\order[1]{\\xi}}[i]*{\\order[1]{\\xi}}[j]/4 + \\E_4*\\eta**4*v[i]*v[j]*v[k]*v[l]*{\\order[1]{\\xi}}[i]*{\\order[1]{\\xi}}[j]*{\\order[1]{\\xi}}[k]*{\\order[1]{\\xi}}[l]/24 + \\E_3*\\eta**3*v[i]*v[j]*v[k]*{\\order[1]{\\xi}}[i]*{\\order[1]{\\xi}}[j]*{\\order[1]{\\xi}}[k]/6 + \\E_3*\\eta**4*v[i]*v[j]*w[k, l]*{\\order[1]{\\xi}}[i]*{\\order[1]{\\xi}}[j]*{\\order[1]{\\xi}}[k]*{\\order[1]{\\xi}}[l]/4 + \\E_3*\\eta**4*v[i]*v[j]*v[k]*{\\order[1]{\\xi}}[i]*{\\order[1]{\\xi}}[j]*{\\order[2]{\\xi}}[k]/4 + \\E_3*\\eta**4*{\\order[1]{\\lambda}}*v[i]*v[j]*w[k, \\lambda]*{\\order[1]{\\xi}}[i]*{\\order[1]{\\xi}}[j]*{\\order[1]{\\xi}}[k]/2 + \\E_2*\\eta**4*w[i, j]*w[k, l]*{\\order[1]{\\xi}}[i]*{\\order[1]{\\xi}}[j]*{\\order[1]{\\xi}}[k]*{\\order[1]{\\xi}}[l]/8 + \\E_2*\\eta**4*{\\order[1]{\\lambda}}*w[i, j]*w[k, \\lambda]*{\\order[1]{\\xi}}[i]*{\\order[1]{\\xi}}[j]*{\\order[1]{\\xi}}[k]/4 + \\E_2*\\eta**4*{\\order[1]{\\lambda}}*w[i, \\lambda]*w[k, l]*{\\order[1]{\\xi}}[i]*{\\order[1]{\\xi}}[k]*{\\order[1]{\\xi}}[l]/4 + \\E_2*\\eta**4*{\\order[1]{\\lambda}}**2*w[i, \\lambda]*w[k, \\lambda]*{\\order[1]{\\xi}}[i]*{\\order[1]{\\xi}}[k]/2 + O(\\eta**5)"
      ]
     },
     "execution_count": 24,
     "metadata": {},
     "output_type": "execute_result"
    }
   ],
   "source": [
    "_λ = Idx(r\"\\lambda\")\n",
    "\n",
    "def u1_(i1):\n",
    "    return ξ1_[i1] * v_[i1]\n",
    "\n",
    "def u2_V_(i1):\n",
    "    return ξ2_[i1] * v_[i1]\n",
    "\n",
    "def u2_W_(i1, i2):\n",
    "    return ξ1_[i1] * (ξ1_[i2] * w_[i1, i2] + 2 * λ1 * w_[i1, _λ])\n",
    "\n",
    "ΔE = expand(E_bif - E_fund).subs({\n",
    "    E2 * u1: 0,\n",
    "    E2 * u2_V: 0\n",
    "})\n",
    "\n",
    "my_list  = [\n",
    "    (u1 ** 4, u1_(i) * u1_(j) * u1_(k) * u1_(l)),\n",
    "    (u1 ** 3, u1_(i) * u1_(j) * u1_(k)),\n",
    "    (u1 ** 2 * u2_V, u1_(i) * u1_(j) * u2_V_(k)),\n",
    "    (u1 ** 2 * u2_W, u1_(i) * u1_(j) * u2_W_(k, l)),\n",
    "    (u1 ** 2, u1_(i) * u1_(j)),\n",
    "    (u2_W ** 2, u2_W_(i, j) * u2_W_(k, l)), \n",
    "    (u1 * u2_V, u1_(i) * u2_V_(j)),\n",
    "    (u1 * u2_W, u1_(i) * u2_W_(j, k))\n",
    "]\n",
    "\n",
    "for pair in my_list:\n",
    "    ΔE = ΔE.subs(*pair)\n",
    "\n",
    "ΔE = ΔE.expand()\n",
    "ΔE"
   ]
  },
  {
   "cell_type": "markdown",
   "id": "f93a7cae-ef68-4364-9dd9-00c7efb6fc10",
   "metadata": {},
   "source": [
    "The terms of order 0, 1 and 2 in $\\eta$ are identically null:"
   ]
  },
  {
   "cell_type": "code",
   "execution_count": 25,
   "id": "001997f6-1067-42d4-bf9d-504c876cdbc1",
   "metadata": {},
   "outputs": [],
   "source": [
    "assert ΔE.coeff(η, 0) == 0\n",
    "assert ΔE.coeff(η, 1) == 0\n",
    "assert ΔE.coeff(η, 2) == 0"
   ]
  },
  {
   "cell_type": "code",
   "execution_count": 27,
   "id": "5c00f45f-705e-4ae2-9903-d588dc51c458",
   "metadata": {},
   "outputs": [],
   "source": [
    "ΔE3 = ΔE.coeff(η, 3)\n",
    "\n",
    "for r in (r\"\\dot{E}_ij\", r\"E_ijk\", \"BifEq1\"):\n",
    "    ΔE3 = ΔE3.subs(rules[r])"
   ]
  },
  {
   "cell_type": "code",
   "execution_count": 28,
   "id": "f1784471-0250-486d-a856-71c3eb38a773",
   "metadata": {},
   "outputs": [
    {
     "data": {
      "text/latex": [
       "$\\displaystyle \\order[3]{\\Delta\\E}=\\frac{{\\order[1]{\\lambda}} {\\dot{E}}_{Idx\\left(i\\right),Idx\\left(j\\right)} {{\\order[1]{\\xi}}}_{Idx\\left(i\\right)} {{\\order[1]{\\xi}}}_{Idx\\left(j\\right)}}{6}$"
      ],
      "text/plain": [
       "<IPython.core.display.Math object>"
      ]
     },
     "metadata": {},
     "output_type": "display_data"
    }
   ],
   "source": [
    "#| code-fold: true\n",
    "display_latex_equation(r\"\\order[3]{\\Delta\\E}\", ΔE3)"
   ]
  },
  {
   "cell_type": "markdown",
   "id": "191037dc-c750-47bc-948b-a56d4b12418e",
   "metadata": {},
   "source": [
    "Finally, the fourth-order term is simplified."
   ]
  },
  {
   "cell_type": "code",
   "execution_count": 42,
   "id": "a04721fa-5585-4eba-81c5-7366d7b3f286",
   "metadata": {},
   "outputs": [
    {
     "data": {
      "text/latex": [
       "$\\displaystyle \\frac{\\E_{2} {\\order[1]{\\lambda}}^{2} {w}_{Idx\\left(i\\right),Idx\\left(\\lambda\\right)} {w}_{Idx\\left(k\\right),Idx\\left(\\lambda\\right)} {{\\order[1]{\\xi}}}_{Idx\\left(i\\right)} {{\\order[1]{\\xi}}}_{Idx\\left(k\\right)}}{2} + \\frac{\\E_{2} {\\order[1]{\\lambda}} {w}_{Idx\\left(i\\right),Idx\\left(\\lambda\\right)} {w}_{Idx\\left(k\\right),Idx\\left(l\\right)} {{\\order[1]{\\xi}}}_{Idx\\left(i\\right)} {{\\order[1]{\\xi}}}_{Idx\\left(k\\right)} {{\\order[1]{\\xi}}}_{Idx\\left(l\\right)}}{4} + \\frac{\\E_{2} {\\order[1]{\\lambda}} {w}_{Idx\\left(i\\right),Idx\\left(j\\right)} {w}_{Idx\\left(k\\right),Idx\\left(\\lambda\\right)} {{\\order[1]{\\xi}}}_{Idx\\left(i\\right)} {{\\order[1]{\\xi}}}_{Idx\\left(j\\right)} {{\\order[1]{\\xi}}}_{Idx\\left(k\\right)}}{4} + \\frac{\\E_{2} {w}_{Idx\\left(i\\right),Idx\\left(j\\right)} {w}_{Idx\\left(k\\right),Idx\\left(l\\right)} {{\\order[1]{\\xi}}}_{Idx\\left(i\\right)} {{\\order[1]{\\xi}}}_{Idx\\left(j\\right)} {{\\order[1]{\\xi}}}_{Idx\\left(k\\right)} {{\\order[1]{\\xi}}}_{Idx\\left(l\\right)}}{8} + \\frac{\\E_{3} {\\order[1]{\\lambda}} {v}_{Idx\\left(i\\right)} {v}_{Idx\\left(j\\right)} {w}_{Idx\\left(k\\right),Idx\\left(\\lambda\\right)} {{\\order[1]{\\xi}}}_{Idx\\left(i\\right)} {{\\order[1]{\\xi}}}_{Idx\\left(j\\right)} {{\\order[1]{\\xi}}}_{Idx\\left(k\\right)}}{2} + \\frac{5 \\E_{3} {v}_{Idx\\left(i\\right)} {v}_{Idx\\left(j\\right)} {w}_{Idx\\left(k\\right),Idx\\left(l\\right)} {{\\order[1]{\\xi}}}_{Idx\\left(i\\right)} {{\\order[1]{\\xi}}}_{Idx\\left(j\\right)} {{\\order[1]{\\xi}}}_{Idx\\left(k\\right)} {{\\order[1]{\\xi}}}_{Idx\\left(l\\right)}}{24} - \\frac{\\E_{3} {v}_{Idx\\left(i\\right)} {v}_{Idx\\left(k\\right)} {w}_{Idx\\left(j\\right),Idx\\left(l\\right)} {{\\order[1]{\\xi}}}_{Idx\\left(i\\right)} {{\\order[1]{\\xi}}}_{Idx\\left(j\\right)} {{\\order[1]{\\xi}}}_{Idx\\left(k\\right)} {{\\order[1]{\\xi}}}_{Idx\\left(l\\right)}}{24} - \\frac{\\E_{3} {v}_{Idx\\left(i\\right)} {v}_{Idx\\left(l\\right)} {w}_{Idx\\left(j\\right),Idx\\left(k\\right)} {{\\order[1]{\\xi}}}_{Idx\\left(i\\right)} {{\\order[1]{\\xi}}}_{Idx\\left(j\\right)} {{\\order[1]{\\xi}}}_{Idx\\left(k\\right)} {{\\order[1]{\\xi}}}_{Idx\\left(l\\right)}}{24} + \\frac{3 \\dot{\\E}_2 {\\order[1]{\\lambda}}^{2} {v}_{Idx\\left(i\\right)} {w}_{Idx\\left(j\\right),Idx\\left(\\lambda\\right)} {{\\order[1]{\\xi}}}_{Idx\\left(i\\right)} {{\\order[1]{\\xi}}}_{Idx\\left(j\\right)}}{4} - \\frac{\\dot{\\E}_2 {\\order[1]{\\lambda}}^{2} {v}_{Idx\\left(j\\right)} {w}_{Idx\\left(i\\right),Idx\\left(\\lambda\\right)} {{\\order[1]{\\xi}}}_{Idx\\left(i\\right)} {{\\order[1]{\\xi}}}_{Idx\\left(j\\right)}}{4} + \\frac{\\dot{\\E}_2 {\\order[1]{\\lambda}} {v}_{Idx\\left(i\\right)} {w}_{Idx\\left(j\\right),Idx\\left(k\\right)} {{\\order[1]{\\xi}}}_{Idx\\left(i\\right)} {{\\order[1]{\\xi}}}_{Idx\\left(j\\right)} {{\\order[1]{\\xi}}}_{Idx\\left(k\\right)}}{3} - \\frac{\\dot{\\E}_2 {\\order[1]{\\lambda}} {v}_{Idx\\left(j\\right)} {w}_{Idx\\left(i\\right),Idx\\left(k\\right)} {{\\order[1]{\\xi}}}_{Idx\\left(i\\right)} {{\\order[1]{\\xi}}}_{Idx\\left(j\\right)} {{\\order[1]{\\xi}}}_{Idx\\left(k\\right)}}{6} - \\frac{\\dot{\\E}_2 {\\order[1]{\\lambda}} {v}_{Idx\\left(k\\right)} {w}_{Idx\\left(i\\right),Idx\\left(j\\right)} {{\\order[1]{\\xi}}}_{Idx\\left(i\\right)} {{\\order[1]{\\xi}}}_{Idx\\left(j\\right)} {{\\order[1]{\\xi}}}_{Idx\\left(k\\right)}}{6} + \\frac{{\\order[1]{\\lambda}}^{2} {\\ddot{E}}_{Idx\\left(i\\right),Idx\\left(j\\right)} {{\\order[1]{\\xi}}}_{Idx\\left(i\\right)} {{\\order[1]{\\xi}}}_{Idx\\left(j\\right)}}{4} + \\frac{{\\order[1]{\\lambda}} {\\dot{E}}_{Idx\\left(i\\right),Idx\\left(j\\right),Idx\\left(k\\right)} {{\\order[1]{\\xi}}}_{Idx\\left(i\\right)} {{\\order[1]{\\xi}}}_{Idx\\left(j\\right)} {{\\order[1]{\\xi}}}_{Idx\\left(k\\right)}}{6} + \\frac{{\\order[1]{\\lambda}} {\\dot{E}}_{Idx\\left(i\\right),Idx\\left(j\\right)} {{\\order[1]{\\xi}}}_{Idx\\left(i\\right)} {{\\order[2]{\\xi}}}_{Idx\\left(j\\right)}}{2} + \\frac{{\\order[2]{\\lambda}} {\\dot{E}}_{Idx\\left(i\\right),Idx\\left(j\\right)} {{\\order[1]{\\xi}}}_{Idx\\left(i\\right)} {{\\order[1]{\\xi}}}_{Idx\\left(j\\right)}}{4} + \\frac{{E}_{Idx\\left(i\\right),Idx\\left(j\\right),Idx\\left(k\\right),Idx\\left(l\\right)} {{\\order[1]{\\xi}}}_{Idx\\left(i\\right)} {{\\order[1]{\\xi}}}_{Idx\\left(j\\right)} {{\\order[1]{\\xi}}}_{Idx\\left(k\\right)} {{\\order[1]{\\xi}}}_{Idx\\left(l\\right)}}{24} + \\frac{{E}_{Idx\\left(i\\right),Idx\\left(j\\right),Idx\\left(k\\right)} {{\\order[1]{\\xi}}}_{Idx\\left(i\\right)} {{\\order[1]{\\xi}}}_{Idx\\left(j\\right)} {{\\order[2]{\\xi}}}_{Idx\\left(k\\right)}}{4}$"
      ],
      "text/plain": [
       "\\E_2*{\\order[1]{\\lambda}}**2*w[i, \\lambda]*w[k, \\lambda]*{\\order[1]{\\xi}}[i]*{\\order[1]{\\xi}}[k]/2 + \\E_2*{\\order[1]{\\lambda}}*w[i, \\lambda]*w[k, l]*{\\order[1]{\\xi}}[i]*{\\order[1]{\\xi}}[k]*{\\order[1]{\\xi}}[l]/4 + \\E_2*{\\order[1]{\\lambda}}*w[i, j]*w[k, \\lambda]*{\\order[1]{\\xi}}[i]*{\\order[1]{\\xi}}[j]*{\\order[1]{\\xi}}[k]/4 + \\E_2*w[i, j]*w[k, l]*{\\order[1]{\\xi}}[i]*{\\order[1]{\\xi}}[j]*{\\order[1]{\\xi}}[k]*{\\order[1]{\\xi}}[l]/8 + \\E_3*{\\order[1]{\\lambda}}*v[i]*v[j]*w[k, \\lambda]*{\\order[1]{\\xi}}[i]*{\\order[1]{\\xi}}[j]*{\\order[1]{\\xi}}[k]/2 + 5*\\E_3*v[i]*v[j]*w[k, l]*{\\order[1]{\\xi}}[i]*{\\order[1]{\\xi}}[j]*{\\order[1]{\\xi}}[k]*{\\order[1]{\\xi}}[l]/24 - \\E_3*v[i]*v[k]*w[j, l]*{\\order[1]{\\xi}}[i]*{\\order[1]{\\xi}}[j]*{\\order[1]{\\xi}}[k]*{\\order[1]{\\xi}}[l]/24 - \\E_3*v[i]*v[l]*w[j, k]*{\\order[1]{\\xi}}[i]*{\\order[1]{\\xi}}[j]*{\\order[1]{\\xi}}[k]*{\\order[1]{\\xi}}[l]/24 + 3*\\dot{\\E}_2*{\\order[1]{\\lambda}}**2*v[i]*w[j, \\lambda]*{\\order[1]{\\xi}}[i]*{\\order[1]{\\xi}}[j]/4 - \\dot{\\E}_2*{\\order[1]{\\lambda}}**2*v[j]*w[i, \\lambda]*{\\order[1]{\\xi}}[i]*{\\order[1]{\\xi}}[j]/4 + \\dot{\\E}_2*{\\order[1]{\\lambda}}*v[i]*w[j, k]*{\\order[1]{\\xi}}[i]*{\\order[1]{\\xi}}[j]*{\\order[1]{\\xi}}[k]/3 - \\dot{\\E}_2*{\\order[1]{\\lambda}}*v[j]*w[i, k]*{\\order[1]{\\xi}}[i]*{\\order[1]{\\xi}}[j]*{\\order[1]{\\xi}}[k]/6 - \\dot{\\E}_2*{\\order[1]{\\lambda}}*v[k]*w[i, j]*{\\order[1]{\\xi}}[i]*{\\order[1]{\\xi}}[j]*{\\order[1]{\\xi}}[k]/6 + {\\order[1]{\\lambda}}**2*\\ddot{E}[i, j]*{\\order[1]{\\xi}}[i]*{\\order[1]{\\xi}}[j]/4 + {\\order[1]{\\lambda}}*\\dot{E}[i, j, k]*{\\order[1]{\\xi}}[i]*{\\order[1]{\\xi}}[j]*{\\order[1]{\\xi}}[k]/6 + {\\order[1]{\\lambda}}*\\dot{E}[i, j]*{\\order[1]{\\xi}}[i]*{\\order[2]{\\xi}}[j]/2 + {\\order[2]{\\lambda}}*\\dot{E}[i, j]*{\\order[1]{\\xi}}[i]*{\\order[1]{\\xi}}[j]/4 + E[i, j, k, l]*{\\order[1]{\\xi}}[i]*{\\order[1]{\\xi}}[j]*{\\order[1]{\\xi}}[k]*{\\order[1]{\\xi}}[l]/24 + E[i, j, k]*{\\order[1]{\\xi}}[i]*{\\order[1]{\\xi}}[j]*{\\order[2]{\\xi}}[k]/4"
      ]
     },
     "execution_count": 42,
     "metadata": {},
     "output_type": "execute_result"
    }
   ],
   "source": [
    "ΔE4 = ΔE.coeff(η, 4)\n",
    "\n",
    "#\"E₃(v_i, v_j, w_kλ)\", r\"\\dot{E}₂(v_i, w_jλ)\", \n",
    "for r in [\"E_ijkl\", \"E_ijk\", r\"\\dot{E}_ijk\", r\"\\ddot{E}_ij\", r\"\\dot{E}_ij\"]:\n",
    "    ΔE4 = ΔE4.subs(rules[r]).expand()\n",
    "\n",
    "ΔE4"
   ]
  },
  {
   "cell_type": "code",
   "execution_count": 30,
   "id": "747759f0-d45f-4062-a6e1-fdd89e660fcc",
   "metadata": {},
   "outputs": [
    {
     "data": {
      "text/latex": [
       "$\\displaystyle \\order[4]{\\Delta\\E}=\\frac{\\E_{2} {\\order[1]{\\lambda}}^{2} {w}_{Idx\\left(i\\right),Idx\\left(\\lambda\\right)} {w}_{Idx\\left(k\\right),Idx\\left(\\lambda\\right)} {{\\order[1]{\\xi}}}_{Idx\\left(i\\right)} {{\\order[1]{\\xi}}}_{Idx\\left(k\\right)}}{2} + \\frac{\\E_{2} {\\order[1]{\\lambda}} {w}_{Idx\\left(i\\right),Idx\\left(\\lambda\\right)} {w}_{Idx\\left(k\\right),Idx\\left(l\\right)} {{\\order[1]{\\xi}}}_{Idx\\left(i\\right)} {{\\order[1]{\\xi}}}_{Idx\\left(k\\right)} {{\\order[1]{\\xi}}}_{Idx\\left(l\\right)}}{4} + \\frac{\\E_{2} {\\order[1]{\\lambda}} {w}_{Idx\\left(i\\right),Idx\\left(j\\right)} {w}_{Idx\\left(k\\right),Idx\\left(\\lambda\\right)} {{\\order[1]{\\xi}}}_{Idx\\left(i\\right)} {{\\order[1]{\\xi}}}_{Idx\\left(j\\right)} {{\\order[1]{\\xi}}}_{Idx\\left(k\\right)}}{4} + \\frac{\\E_{2} {w}_{Idx\\left(i\\right),Idx\\left(j\\right)} {w}_{Idx\\left(k\\right),Idx\\left(l\\right)} {{\\order[1]{\\xi}}}_{Idx\\left(i\\right)} {{\\order[1]{\\xi}}}_{Idx\\left(j\\right)} {{\\order[1]{\\xi}}}_{Idx\\left(k\\right)} {{\\order[1]{\\xi}}}_{Idx\\left(l\\right)}}{8} + \\frac{\\E_{3} {\\order[1]{\\lambda}} {v}_{Idx\\left(i\\right)} {v}_{Idx\\left(j\\right)} {w}_{Idx\\left(k\\right),Idx\\left(\\lambda\\right)} {{\\order[1]{\\xi}}}_{Idx\\left(i\\right)} {{\\order[1]{\\xi}}}_{Idx\\left(j\\right)} {{\\order[1]{\\xi}}}_{Idx\\left(k\\right)}}{2} + \\frac{\\E_{3} {v}_{Idx\\left(i\\right)} {v}_{Idx\\left(j\\right)} {v}_{Idx\\left(k\\right)} {{\\order[1]{\\xi}}}_{Idx\\left(i\\right)} {{\\order[1]{\\xi}}}_{Idx\\left(j\\right)} {{\\order[2]{\\xi}}}_{Idx\\left(k\\right)}}{4} + \\frac{\\E_{3} {v}_{Idx\\left(i\\right)} {v}_{Idx\\left(j\\right)} {w}_{Idx\\left(k\\right),Idx\\left(l\\right)} {{\\order[1]{\\xi}}}_{Idx\\left(i\\right)} {{\\order[1]{\\xi}}}_{Idx\\left(j\\right)} {{\\order[1]{\\xi}}}_{Idx\\left(k\\right)} {{\\order[1]{\\xi}}}_{Idx\\left(l\\right)}}{4} + \\frac{\\E_{4} {v}_{Idx\\left(i\\right)} {v}_{Idx\\left(j\\right)} {v}_{Idx\\left(k\\right)} {v}_{Idx\\left(l\\right)} {{\\order[1]{\\xi}}}_{Idx\\left(i\\right)} {{\\order[1]{\\xi}}}_{Idx\\left(j\\right)} {{\\order[1]{\\xi}}}_{Idx\\left(k\\right)} {{\\order[1]{\\xi}}}_{Idx\\left(l\\right)}}{24} + \\frac{\\ddot{\\E}_2 {\\order[1]{\\lambda}}^{2} {v}_{Idx\\left(i\\right)} {v}_{Idx\\left(j\\right)} {{\\order[1]{\\xi}}}_{Idx\\left(i\\right)} {{\\order[1]{\\xi}}}_{Idx\\left(j\\right)}}{4} + \\dot{\\E}_2 {\\order[1]{\\lambda}}^{2} {v}_{Idx\\left(i\\right)} {w}_{Idx\\left(j\\right),Idx\\left(\\lambda\\right)} {{\\order[1]{\\xi}}}_{Idx\\left(i\\right)} {{\\order[1]{\\xi}}}_{Idx\\left(j\\right)} + \\frac{\\dot{\\E}_2 {\\order[1]{\\lambda}} {v}_{Idx\\left(i\\right)} {v}_{Idx\\left(j\\right)} {{\\order[1]{\\xi}}}_{Idx\\left(i\\right)} {{\\order[2]{\\xi}}}_{Idx\\left(j\\right)}}{2} + \\frac{\\dot{\\E}_2 {\\order[1]{\\lambda}} {v}_{Idx\\left(i\\right)} {w}_{Idx\\left(j\\right),Idx\\left(k\\right)} {{\\order[1]{\\xi}}}_{Idx\\left(i\\right)} {{\\order[1]{\\xi}}}_{Idx\\left(j\\right)} {{\\order[1]{\\xi}}}_{Idx\\left(k\\right)}}{2} + \\frac{\\dot{\\E}_2 {\\order[2]{\\lambda}} {v}_{Idx\\left(i\\right)} {v}_{Idx\\left(j\\right)} {{\\order[1]{\\xi}}}_{Idx\\left(i\\right)} {{\\order[1]{\\xi}}}_{Idx\\left(j\\right)}}{4} + \\frac{\\dot{\\E}_3 {\\order[1]{\\lambda}} {v}_{Idx\\left(i\\right)} {v}_{Idx\\left(j\\right)} {v}_{Idx\\left(k\\right)} {{\\order[1]{\\xi}}}_{Idx\\left(i\\right)} {{\\order[1]{\\xi}}}_{Idx\\left(j\\right)} {{\\order[1]{\\xi}}}_{Idx\\left(k\\right)}}{6}$"
      ],
      "text/plain": [
       "<IPython.core.display.Math object>"
      ]
     },
     "metadata": {},
     "output_type": "display_data"
    }
   ],
   "source": [
    "#| code-fold: true\n",
    "display_latex_equation(r\"\\order[4]{\\Delta\\E}\", ΔE4)"
   ]
  },
  {
   "cell_type": "markdown",
   "id": "6d9101f4-df60-49b0-b7a2-7ca804126a66",
   "metadata": {},
   "source": [
    "Upon simplification of $\\E_2(v_i, \\bullet) = 0$, the above expression should be understood as follows"
   ]
  },
  {
   "cell_type": "markdown",
   "id": "bdcd5a6a-90b0-401a-b028-2df2fc70beb2",
   "metadata": {},
   "source": [
    "$$\n",
    "\\begin{aligned}[b]\n",
    "\\order[4]{\\Delta\\E} ={}& \\tfrac{1}{8} \\order[1]{\\xi}_i \\, \\order[1]{\\xi}_j \\, \\order[1]{\\xi}_k \\, \\order[1]{\\xi}_l \\, \\E_2(w_{ij}, w_{kl})\n",
    "+ \\tfrac{1}{2} \\order[1]{\\lambda} \\, \\order[1]{\\xi}_i \\, \\order[1]{\\xi}_j \\, \\order[1]{\\xi}_k  \\, \\E_2(w_{ij}, w_{k\\lambda})\\\\\n",
    "&+ \\tfrac{1}{2} \\bigl( \\order[1]{\\lambda} \\bigr)^2 \\, \\order[1]{\\xi}_i \\, \\order[1]{\\xi}_j \\, \\E_2(w_{i\\lambda}, w_{j\\lambda})\n",
    "+ \\tfrac{1}{4} \\order[1]{\\xi}_i \\, \\order[1]{\\xi}_j \\, \\order[2]{\\xi}_k \\, \\E_3(v_i, v_j, v_k)\\\\\n",
    "&+ \\tfrac{1}{4} \\order[1]{\\xi}_i \\, \\order[1]{\\xi}_j \\, \\order[1]{\\xi}_k \\, \\order[1]{\\xi}_l \\, \\E_3(v_i, v_j, w_{kl})\n",
    "+ \\tfrac{1}{2} \\order[1]{\\lambda} \\, \\order[1]{\\xi}_i \\, \\order[1]{\\xi}_j \\, \\order[1]{\\xi}_k  \\, \\E_3(v_i, v_j, w_{k\\lambda})\\\\\n",
    "&+ \\tfrac{1}{24} \\order[1]{\\xi}_i \\, \\order[1]{\\xi}_j \\, \\order[1]{\\xi}_k \\, \\order[1]{\\xi}_l \\, \\E_4(v_i, v_j, v_k, v_l)\n",
    "+ \\tfrac{1}{4} \\bigl( \\order[1]{\\lambda} \\bigr)^2 \\, \\order[1]{\\xi}_i \\, \\order[1]{\\xi}_j \\, \\ddot{\\E}_2(v_i, v_j)\\\\\n",
    "&+ \\tfrac{1}{4} \\order[2]{\\lambda} \\, \\order[1]{\\xi}_i \\, \\order[1]{\\xi}_j \\, \\dot{\\E}_2(v_i, v_j)\n",
    "+ \\tfrac{1}{2} \\order[1]{\\lambda} \\, \\order[1]{\\xi}_i \\, \\order[2]{\\xi}_j \\, \\dot{\\E}_2(v_i, v_j)\\\\\n",
    "&+ \\tfrac{1}{2} \\order[1]{\\lambda} \\, \\order[1]{\\xi}_i \\, \\order[1]{\\xi}_j \\, \\order[1]{\\xi}_k  \\, \\dot{E}_2(v_i, w_{jk})\n",
    "+ \\bigl( \\order[1]{\\lambda} \\bigr)^2 \\, \\order[1]{\\xi}_i \\, \\order[1]{\\xi}_j \\, \\dot{\\E}_2(v_i, w_{j\\lambda})\\\\\n",
    "&+ \\tfrac{1}{6} \\order[1]{\\lambda} \\, \\order[1]{\\xi}_i \\, \\order[1]{\\xi}_j \\, \\order[1]{\\xi}_k \\, \\dot{\\E}_3(v_i, v_j, v_k),\n",
    "\\end{aligned}\n",
    "$$"
   ]
  },
  {
   "cell_type": "markdown",
   "id": "20d6ae09-3083-4912-906f-8323648077f3",
   "metadata": {},
   "source": [
    "and, upon reordering"
   ]
  },
  {
   "cell_type": "markdown",
   "id": "236b54c7-899a-4e1c-9a9f-3d25657107fa",
   "metadata": {},
   "source": [
    "$$\n",
    "\\begin{aligned}\n",
    "\\order[4]{\\Delta\\E} ={} & \\tfrac{1}{24} \\order[1]{\\xi}_i \\, \\order[1]{\\xi}_j \\, \\order[1]{\\xi}_k \\, \\order[1]{\\xi}_l \\, \\bigl\\{ \\E_4(v_i, v_j, v_k, v_l) + 3\\E_3(v_i, v_j, w_{kl}) + 3\\bigl[\\E_2(w_{ij}, w_{kl}) + \\E_3(v_i, v_j, w_{kl}) \\bigr] \\bigr\\}\\\\\n",
    "&+ \\tfrac{1}{6} \\order[1]{\\lambda} \\, \\order[1]{\\xi}_i \\, \\order[1]{\\xi}_j \\, \\order[1]{\\xi}_k  \\, \\bigl\\{ \\dot{\\E}_3(v_i, v_j, v_k) + 3\\dot{\\E}_2(v_i, w_{jk}) + 3 \\bigl[ \\E_2(w_{ij}, w_{k\\lambda}) + \\E_3(v_i, v_j, w_{k\\lambda}) \\bigr] \\bigr\\}\\\\\n",
    "&+ \\tfrac{1}{4} \\bigl( \\order[1]{\\lambda} \\bigr)^2 \\, \\order[1]{\\xi}_i \\, \\order[1]{\\xi}_j \\, \\bigl\\{ \\ddot{\\E}_2(v_i, v_j) + 2\\dot{\\E}_2(v_i, w_{j\\lambda}) + 2\\bigl[ \\E_2(w_{i\\lambda}, w_{j\\lambda}) + \\dot{\\E}_2(v_i, w_{j\\lambda}) \\bigr] \\bigr\\}\\\\\n",
    "&+ \\tfrac{1}{4} \\order[1]{\\xi}_i \\, \\order[2]{\\xi}_j \\, \\bigl[ \\E_3(v_i, v_j, v_k) \\, \\order[1]{\\xi}_k + 2\\order[1]{\\lambda} \\, \\dot{\\E}_2(v_i, v_j) \\bigl]\\\\\n",
    "&+ \\tfrac{1}{4} \\order[2]{\\lambda} \\, \\order[1]{\\xi}_i \\, \\order[1]{\\xi}_j \\, \\dot{\\E}_2(v_i, v_j).\n",
    "\\end{aligned}\n",
    "$$"
   ]
  },
  {
   "cell_type": "markdown",
   "id": "3656692d-f2eb-468d-bfdc-6569f2c22ffd",
   "metadata": {},
   "source": [
    "Testing Eq. (@eq-20230107180410) with $w_{kl}$ and $w_{k\\lambda}$, successively and Eq. (@eq-20230107180501) with $w_{j\\lambda}$ and further using the first bifurcation equation (@eq-20230125062336)"
   ]
  },
  {
   "cell_type": "markdown",
   "id": "8784aa5c-2828-4c1e-a514-7153a6fa5789",
   "metadata": {},
   "source": [
    "$$\n",
    "\\begin{aligned}\n",
    "\\order[4]{\\Delta\\E} ={} & \\tfrac{1}{24} \\order[1]{\\xi}_i \\, \\order[1]{\\xi}_j \\, \\order[1]{\\xi}_k \\, \\order[1]{\\xi}_l \\, \\bigl[ \\E_4(v_i, v_j, v_k, v_l) + 3\\E_3(v_i, v_j, w_{kl}) \\bigr]\\\\\n",
    "&+ \\tfrac{1}{6} \\order[1]{\\lambda} \\, \\order[1]{\\xi}_i \\, \\order[1]{\\xi}_j \\, \\order[1]{\\xi}_k  \\, \\bigl[ \\dot{\\E}_3(v_i, v_j, v_k) + 3\\dot{\\E}_2(v_i, w_{jk}) \\bigr]\\\\\n",
    "&+ \\tfrac{1}{4} \\bigl( \\order[1]{\\lambda} \\bigr)^2 \\, \\order[1]{\\xi}_i \\, \\order[1]{\\xi}_j \\, \\bigl[\\ddot{\\E}_2(v_i, v_j) + 2\\dot{\\E}_2(v_i, w_{j\\lambda}) \\bigr]\\\\\n",
    "&+ \\tfrac{1}{4} \\order[2]{\\lambda} \\, \\order[1]{\\xi}_i \\, \\order[1]{\\xi}_j \\, \\dot{\\E}_2(v_i, v_j).\n",
    "\\end{aligned}\n",
    "$$"
   ]
  },
  {
   "cell_type": "markdown",
   "id": "4aad3701-b72b-41bd-a257-8c9b78175f27",
   "metadata": {},
   "source": [
    "Now, recognizing the definitions (@eq-20230125062505), (@eq-20230124211207), (@eq-20230124210649) and (@eq-20230124210049) finally delivers"
   ]
  },
  {
   "cell_type": "markdown",
   "id": "ef7902a0-f278-45f7-be42-6180c4dac7fa",
   "metadata": {},
   "source": [
    "$$\n",
    "\\begin{aligned}[b]\n",
    "\\order[4]{\\Delta\\E} ={} & \\tfrac{1}{24} \\bigl\\{ E_{ijkl} \\, \\order[1]{\\xi}_i \\, \\order[1]{\\xi}_j \\, \\order[1]{\\xi}_k \\, \\order[1]{\\xi}_l + 4\\order[1]{\\lambda} \\, \\dot{E}_{ijk} \\, \\order[1]{\\xi}_i \\, \\order[1]{\\xi}_j \\, \\order[1]{\\xi}_k\\\\\n",
    "&+ 6 \\bigl[ \\bigl( \\order[1]{\\lambda} \\bigr)^2 \\, \\ddot{E}_{ij} + \\order[2]{\\lambda} \\, \\dot{E}_{ij} \\bigr] \\, \\order[1]{\\xi}_i \\, \\order[1]{\\xi}_j \\bigr\\}.\n",
    "\\end{aligned}\n",
    "$$ {#eq-20230402101651}"
   ]
  },
  {
   "cell_type": "markdown",
   "id": "90c10728-dc74-4018-87f5-32d384452c91",
   "metadata": {},
   "source": [
    "and the asymptotic expansion (@eq-20230528190539) is retrieved."
   ]
  },
  {
   "cell_type": "markdown",
   "id": "6c26933f-3da5-4b3c-9e41-9f6d077b19e0",
   "metadata": {},
   "source": [
    "## Asymptotic expansion of the hessian of the energy"
   ]
  },
  {
   "cell_type": "markdown",
   "id": "8a4c237c-aa6e-451b-81b6-9d6866c15d2c",
   "metadata": {},
   "source": [
    "We use the same code to derive an asymptotic expansion of the hessian $\\E_{,uu}$ of the energy along the bifurcated branch."
   ]
  },
  {
   "cell_type": "code",
   "execution_count": null,
   "id": "2f0c721b-5f01-4bfa-b300-462129ff1ef0",
   "metadata": {},
   "outputs": [],
   "source": [
    "E_uu = (eval(data[\"E_uu\"]).subs({Symbol(\"\\lambda\"): λ, Symbol(\"u\"): u})  + O(η**3)).expand()"
   ]
  },
  {
   "cell_type": "code",
   "execution_count": null,
   "id": "28cf39aa-1576-420b-9001-5169d9acb6d1",
   "metadata": {},
   "outputs": [],
   "source": [
    "#| code-fold: true\n",
    "lsk.display_latex_equation(r\"\\E_{,uu}[u(\\eta), \\lambda(\\eta)]\", E_uu)"
   ]
  },
  {
   "cell_type": "markdown",
   "id": "94320791-0268-4d31-9f5d-b46524b92377",
   "metadata": {},
   "source": [
    "The above expression must be understood as follows"
   ]
  },
  {
   "cell_type": "markdown",
   "id": "c547d691-d92c-4d9e-9254-3aaaa0eda3db",
   "metadata": {},
   "source": [
    "$$\n",
    "\\begin{aligned}[b]\n",
    "\\E_{,uu}[u(\\eta), \\lambda(\\eta); \\bullet, \\bullet] ={} \n",
    "& \\E_2(\\bullet, \\bullet) + \\eta \\, \\bigl[ \\order[1]{\\xi}_i \\, \\E_3(v_i, \\bullet, \\bullet) + \\order[1]{\\lambda} \\, \\dot{\\E}_2(\\bullet, \\bullet) \\bigr]\\\\\n",
    "&+ \\tfrac{1}{2}\\eta^2 \\, \\bigl[ \\order[1]{\\xi}_i \\, \\order[1]{\\xi}_j \\, \\E_4(v_i, v_j, \\bullet, \\bullet)\n",
    "+ \\order[2]{\\xi}_i \\, \\E_3(v_i, \\bullet, \\bullet) \\\\\n",
    "&+ \\order[1]{\\xi}_i \\, \\order[1]{\\xi}_j \\, \\E_3(w_{ij}, \\bullet, \\bullet)\n",
    "+ 2\\order[1]{\\lambda} \\, \\order[1]{\\xi}_i \\, \\E_3(w_{i\\lambda}, \\bullet, \\bullet)\\\\\n",
    "&+ 2\\order[1]{\\lambda} \\, \\order[1]{\\xi}_i \\, \\dot{\\E}_3(v_i, \\bullet, \\bullet)\n",
    "+ (\\order[1]{\\lambda})^2 \\, \\ddot{\\E}_2(\\bullet, \\bullet) + \\order[2]{\\lambda} \\, \\dot{\\E}_2(\\bullet, \\bullet)\\bigr],\n",
    "\\end{aligned}\n",
    "$$"
   ]
  },
  {
   "cell_type": "markdown",
   "id": "44231374-7557-4714-8cbd-a0b577fcbf0e",
   "metadata": {},
   "source": [
    "or, equivalently"
   ]
  },
  {
   "cell_type": "markdown",
   "id": "087377f5-aa32-4fd5-8049-522c5bbdd64d",
   "metadata": {},
   "source": [
    "$$\n",
    "\\begin{aligned}[b]\n",
    "\\E_{,uu}[u(\\eta), \\lambda(\\eta); \\bullet, \\bullet] ={} \n",
    "& \\E_2(\\bullet, \\bullet) + \\eta \\, \\bigl[ \\E_3(\\order[1]{u}, \\bullet, \\bullet) + \\order[1]{\\lambda} \\, \\dot{\\E}_2(\\bullet, \\bullet) \\bigr]\\\\\n",
    "&+ \\tfrac{1}{2}\\eta^2 \\, \\bigl[ \\E_4(\\order[1]{u}, \\order[1]{u}, \\bullet, \\bullet)\n",
    "+ \\E_3(\\order[2]{u}, \\bullet, \\bullet) \\\\\n",
    "&+ 2\\order[1]{\\lambda} \\, \\dot{\\E}_3(\\order[1]{u}, \\bullet, \\bullet)\n",
    "+ (\\order[1]{\\lambda})^2 \\, \\ddot{\\E}_2(\\bullet, \\bullet) + \\order[2]{\\lambda} \\, \\dot{\\E}_2(\\bullet, \\bullet)\\bigr],\n",
    "\\end{aligned}\n",
    "$$ {#eq-20230517061452}"
   ]
  },
  {
   "cell_type": "markdown",
   "id": "edbecd85-2e66-4242-bc3a-dadb0453d116",
   "metadata": {},
   "source": [
    "where $\\order[1]{u}$ and $\\order[2]{u}$ are given by Eq. (@eq-20230411141319)."
   ]
  }
 ],
 "metadata": {
  "kernelspec": {
   "display_name": "Python 3 (ipykernel)",
   "language": "python",
   "name": "python3"
  },
  "language_info": {
   "codemirror_mode": {
    "name": "ipython",
    "version": 3
   },
   "file_extension": ".py",
   "mimetype": "text/x-python",
   "name": "python",
   "nbconvert_exporter": "python",
   "pygments_lexer": "ipython3",
   "version": "3.10.6"
  }
 },
 "nbformat": 4,
 "nbformat_minor": 5
}
