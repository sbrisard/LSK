{
 "cells": [
  {
   "cell_type": "markdown",
   "id": "4a96626a-9147-4126-b3e2-4b3f56bc36aa",
   "metadata": {},
   "source": [
    "# Bifurcations of the perfect system: sympy analysis"
   ]
  },
  {
   "cell_type": "markdown",
   "id": "1e0bfaab-3bd5-443a-b572-14a0b0ff41cc",
   "metadata": {},
   "source": [
    "$$\\newcommand{\\E}{\\mathcal{E}}$$"
   ]
  },
  {
   "cell_type": "code",
   "execution_count": null,
   "id": "bdeb78ed-5e1e-4302-8e3f-6b23ed8cc666",
   "metadata": {},
   "outputs": [],
   "source": [
    "#import sympy\n",
    "\n",
    "from sympy import Eq, solve, Symbol, symbols"
   ]
  },
  {
   "cell_type": "code",
   "execution_count": null,
   "id": "fe20fc62-0a75-4454-b00a-476499b5e09a",
   "metadata": {},
   "outputs": [],
   "source": [
    "def display_dict(d):\n",
    "    for k, v in d.items():\n",
    "        display(Eq(k, v))"
   ]
  },
  {
   "cell_type": "code",
   "execution_count": null,
   "id": "1ce5601d-736c-44d8-8725-3df3ae45e4df",
   "metadata": {},
   "outputs": [],
   "source": [
    "λ, u, v = symbols(r\"\\lambda u v\")"
   ]
  },
  {
   "cell_type": "code",
   "execution_count": null,
   "id": "62a1896e-ff4b-4ad5-b1b8-d2f19d3cbf04",
   "metadata": {},
   "outputs": [],
   "source": [
    "δu, δv, δw = symbols(r\"\\delta{}u \\delta{}v \\delta{}w\")"
   ]
  },
  {
   "cell_type": "code",
   "execution_count": null,
   "id": "2305eade-0d7a-477e-9e57-c132813236e9",
   "metadata": {},
   "outputs": [],
   "source": [
    "u0_dot, u0_ddot, u0_dddot, u0_ddddot = symbols(r\"\\dot{u}_0 \\ddot{u}_0 \\dddot{u}_0 \\ddddot{u}_0\")\n",
    "\n",
    "u_star = λ * u0_dot + λ**2 * u0_ddot / 2 + λ**3 * u0_dddot / 6 + λ**4 * u0_ddddot / 24"
   ]
  },
  {
   "cell_type": "code",
   "execution_count": null,
   "id": "8d30566e-7445-4070-acef-9db61f28255c",
   "metadata": {},
   "outputs": [],
   "source": [
    "E_λ = symbols(r\"\\E_\\lambda\")\n",
    "E2, E_uλ, E_λλ = symbols(r\"\\E_2 \\E_{u\\lambda} \\E_{\\lambda\\lambda}\")\n",
    "E3, E_uuλ, E_uλλ, E_λλλ = symbols(r\"\\E_3 \\E_{uu\\lambda} \\E_{u\\lambda\\lambda} \\E_{\\lambda\\lambda\\lambda}\")\n",
    "E4, E_uuuλ, E_uuλλ, E_uλλλ, E_λλλλ = symbols(r\"\\E_4 \\E_{uuu\\lambda} \\E_{uu\\lambda\\lambda}\"\n",
    "                                                 \" \\E_{u\\lambda\\lambda\\lambda} \\E_{\\lambda\\lambda\\lambda\\lambda}\")\n",
    "\n",
    "E = (λ * E_λ \n",
    "     + (E2 * u**2 + 2 * λ * E_uλ * u + λ**2 * E_λλ) / 2 \n",
    "     + (E3 * u**3 + 3 * λ * E_uuλ * u**2 + 3 * λ**2  * E_uλλ * u + λ**3 * E_λλλ) / 6\n",
    "     + (E4 * u**4 + 4 * λ * E_uuuλ * u**3 + 6 * λ**2 * E_uuλλ * u**2 + 4 * λ**3 * E_uλλλ * u + λ**4 * E_λλλλ) / 24)\n",
    "E"
   ]
  },
  {
   "cell_type": "markdown",
   "id": "7e2a3907-bb7e-4f5c-898f-81ea3c8f29d2",
   "metadata": {},
   "source": [
    "It will be assumed in the following that $v, \\delta v \\in V$, therefore terms of the form $\\E_2 \\, v$ and $\\E_2 \\, \\delta v$ should vanish. The following function performs this simplification."
   ]
  },
  {
   "cell_type": "code",
   "execution_count": null,
   "id": "8330cfe6-bcf3-43a0-bf32-3891ce3a5ea7",
   "metadata": {},
   "outputs": [],
   "source": [
    "def simplify_E2(expr):\n",
    "    expr = expr.expand()\n",
    "    coeff_E2 = expr.coeff(E2).expand()\n",
    "    return (expr - (coeff_E2.coeff(v) * v + coeff_E2.coeff(δv) * δv) * E2).expand()"
   ]
  },
  {
   "cell_type": "code",
   "execution_count": null,
   "id": "ad3d5130-5925-4cf4-8c7f-d904e0febd50",
   "metadata": {},
   "outputs": [],
   "source": [
    "res = (E.diff(u) * δu).expand()"
   ]
  },
  {
   "cell_type": "markdown",
   "id": "96fcbd34-ebcd-4211-beb4-1b62b2862c3b",
   "metadata": {},
   "source": [
    "We first express the fact that the residual is null along the fundamental branch. In other words,\n",
    "\n",
    "\\begin{equation}\n",
    "\\mathcal{E}_{,u}[u^\\star(\\lambda), \\lambda; \\hat{u}] = 0 \\quad \\text{for all} \\quad \\hat{u} \\in U.\n",
    "\\end{equation}\n",
    "\n",
    "Plugging the taylor expansion of $u^\\star$ delivers expressions of some mixed derivatives of the energy at the critical point."
   ]
  },
  {
   "cell_type": "code",
   "execution_count": null,
   "id": "05076228-2f55-4673-b2c8-dd4f8aa8794c",
   "metadata": {},
   "outputs": [],
   "source": [
    "mixed_derivatives = dict()\n",
    "res_star = res.subs(u, u_star).expand()\n",
    "for k, x in enumerate([E_uλ, E_uλλ, E_uλλλ], start=1):\n",
    "    eq = res_star.coeff(λ, k)\n",
    "    sol = solve(eq, x)[0]\n",
    "    mixed_derivatives[x] = sol\n",
    "\n",
    "display_dict(mixed_derivatives)"
   ]
  },
  {
   "cell_type": "markdown",
   "id": "294ee695-4cf3-4527-bcd1-d14b52074d75",
   "metadata": {},
   "source": [
    "Other mixed derivatives are expressed as derivatives with respect to $\\lambda$ of the following differential of the energy, evaluated along the fundamental branch\n",
    "\n",
    "\\begin{equation}\n",
    "\\mathcal{E}_{,uu}[u^\\star(\\lambda), \\lambda; \\bullet, \\bullet] \\quad \\text{and} \\quad \\mathcal{E}_{,uuu}[u^\\star(\\lambda), \\lambda; \\bullet, \\bullet, \\bullet].\n",
    "\\end{equation}"
   ]
  },
  {
   "cell_type": "code",
   "execution_count": null,
   "id": "204fd4bc-527b-4964-8075-51b844cea6f4",
   "metadata": {},
   "outputs": [],
   "source": [
    "E2_dot, E2_ddot, E3_dot = symbols(\"\\dot{\\E}_2 \\ddot{\\E}_2 \\dot{\\E}_3\")\n",
    "\n",
    "E_uu_star = E.diff(u, 2).subs(u, u_star).expand()\n",
    "E_uuu_star = E.diff(u, 3).subs(u, u_star).expand()\n",
    "\n",
    "eq = Eq(E2_dot, E_uu_star.coeff(λ, 1))\n",
    "x = E_uuλ\n",
    "mixed_derivatives[x] = solve(eq, x)[0]\n",
    "\n",
    "eq = Eq(E3_dot, E_uuu_star.coeff(λ, 1))\n",
    "x = E_uuuλ\n",
    "mixed_derivatives[x] = solve(eq, x)[0]\n",
    "\n",
    "eq = Eq(E2_ddot, 2 * E_uu_star.coeff(λ, 2))\n",
    "x = E_uuλλ\n",
    "mixed_derivatives[E_uuλλ] = solve(eq, x)[0]\n",
    "\n",
    "display_dict(mixed_derivatives)"
   ]
  },
  {
   "cell_type": "markdown",
   "id": "c283c4c6-5f0f-4fa8-bd94-076af37e9ac1",
   "metadata": {},
   "source": [
    "And, upon full elimination of the mixed derivatives."
   ]
  },
  {
   "cell_type": "code",
   "execution_count": null,
   "id": "02951a65-a9dd-4a8e-81c7-b8aaee665f29",
   "metadata": {},
   "outputs": [],
   "source": [
    "for x in [E_uλλ, E_uλλλ, E_uuλλ]:\n",
    "    mixed_derivatives[x] = mixed_derivatives[x].subs(mixed_derivatives).expand()\n",
    "    \n",
    "display_dict(mixed_derivatives)"
   ]
  },
  {
   "cell_type": "markdown",
   "id": "16163ade-4d6b-4316-b3e0-ccf0f6135a0b",
   "metadata": {},
   "source": [
    "These expressions can be plugged into the expansion of the energy, delivering the following expressions"
   ]
  },
  {
   "cell_type": "code",
   "execution_count": null,
   "id": "97dcdc18-44bf-4e7b-9889-e3d890b708cb",
   "metadata": {},
   "outputs": [],
   "source": [
    "E = E.subs(mixed_derivatives).expand()\n",
    "display(E)"
   ]
  },
  {
   "cell_type": "code",
   "execution_count": null,
   "id": "42640847-c8ca-48eb-8ede-9196d394fa75",
   "metadata": {},
   "outputs": [],
   "source": [
    "res = (E.diff(u) * δu).expand()"
   ]
  },
  {
   "cell_type": "code",
   "execution_count": null,
   "id": "bb281fd3-5ade-4d8d-b7b9-b4378376d11b",
   "metadata": {},
   "outputs": [],
   "source": [
    "ξ, w_ξ, w_λ, w_ξξ, w_ξλ, w_λλ = symbols(r\"\\xi w_\\xi w_\\lambda w_{\\xi\\xi} w_{\\xi\\lambda} w_{\\lambda\\lambda}\")\n",
    "\n",
    "w = ξ * w_ξ + λ * w_λ + (ξ**2 * w_ξξ + 2 * ξ * λ * w_ξλ + λ**2 * w_λλ) / 2"
   ]
  },
  {
   "cell_type": "code",
   "execution_count": null,
   "id": "592a3550-aefd-4116-b7d3-878b629bc997",
   "metadata": {},
   "outputs": [],
   "source": [
    "res_w = res.subs({δu: δw, u: u_star + ξ * v + w}).expand()\n",
    "crit = {ξ: 0, λ: 0}"
   ]
  },
  {
   "cell_type": "code",
   "execution_count": null,
   "id": "dd762a83-038d-40a0-b667-8b940dd1c5b1",
   "metadata": {},
   "outputs": [],
   "source": [
    "eq = Eq(simplify_E2(res_w.diff(ξ)), 0).subs(crit)\n",
    "display(eq)"
   ]
  },
  {
   "cell_type": "code",
   "execution_count": null,
   "id": "5a0779dc-4b71-466a-87e4-04d601069557",
   "metadata": {},
   "outputs": [],
   "source": [
    "eq = Eq(res_w.diff(λ), 0).subs(crit)\n",
    "display(eq)"
   ]
  },
  {
   "cell_type": "code",
   "execution_count": null,
   "id": "18da91e8-3967-443d-98ff-16651479ea4c",
   "metadata": {},
   "outputs": [],
   "source": [
    "eq = Eq(res_w.diff(λ, 2), 0).subs(crit).subs(w_λ, 0).expand()\n",
    "display(eq)"
   ]
  },
  {
   "cell_type": "code",
   "execution_count": null,
   "id": "55597915-a3af-434d-906a-b4d40cef0ef6",
   "metadata": {},
   "outputs": [],
   "source": [
    "eq_w_ξξ = Eq(res_w.diff(ξ, 2), 0).subs(crit).subs(w_ξ, 0).expand()\n",
    "display(eq_w_ξξ)"
   ]
  },
  {
   "cell_type": "code",
   "execution_count": null,
   "id": "7acd425f-b71d-406e-91f7-5eafe181de89",
   "metadata": {},
   "outputs": [],
   "source": [
    "eq_w_ξλ = Eq(res_w.diff(ξ, 1, λ, 1), 0).subs(crit).subs({w_ξ: 0, w_λ: 0}).expand()\n",
    "display(eq_w_ξλ)"
   ]
  },
  {
   "cell_type": "markdown",
   "id": "183a90fd-65ce-49a5-a8af-c0f79b4a86b2",
   "metadata": {},
   "source": [
    "## Elimination of $\\lambda$"
   ]
  },
  {
   "cell_type": "code",
   "execution_count": null,
   "id": "dd3af8f3-c36f-4685-9bab-b6efd35f4b34",
   "metadata": {},
   "outputs": [],
   "source": [
    "t = symbols(\"t\")"
   ]
  },
  {
   "cell_type": "code",
   "execution_count": null,
   "id": "1c311c2e-3d76-4ee3-80f5-12b61c13adb1",
   "metadata": {},
   "outputs": [],
   "source": [
    "w_I, w_II = symbols(r\"\\xi_kw_{k\\lambda}, \\xi_i\\xi_jw_{ij}\")\n",
    "w_bif = t * λ * w_I + (t * λ)**2 / 2 * w_II\n",
    "display(w_bif)"
   ]
  },
  {
   "cell_type": "code",
   "execution_count": null,
   "id": "2c547c43-f4f7-4ac3-8cd3-a0d5369b8b77",
   "metadata": {
    "tags": []
   },
   "outputs": [],
   "source": [
    "λ_I, λ_II = symbols(r\"\\xi_{p}\\lambda_{p} \\xi_m\\xi_n\\lambda_{mn}\")\n",
    "λ_bif = t * λ_I + t**2 / 2 * λ_II\n",
    "display(λ_bif)"
   ]
  },
  {
   "cell_type": "code",
   "execution_count": null,
   "id": "25d519f8-1270-486b-bcbb-144787cfae2d",
   "metadata": {},
   "outputs": [],
   "source": [
    "ξv = Symbol(r\"\\xi_{l}v_{l}\")\n",
    "u_bif = u_star + t * ξv + w_bif\n",
    "display(u_bif)"
   ]
  },
  {
   "cell_type": "code",
   "execution_count": null,
   "id": "79e9afe3-5137-41b8-8e17-f3b3c4dde389",
   "metadata": {},
   "outputs": [],
   "source": [
    "res_v = res.subs(δu, δv).subs(u, u_bif).subs(λ, λ_bif).expand()"
   ]
  },
  {
   "cell_type": "code",
   "execution_count": null,
   "id": "5feb9503-b924-4c55-a084-e169f9cc4f3c",
   "metadata": {},
   "outputs": [],
   "source": [
    "assert res_v.coeff(t, 0) == 0"
   ]
  },
  {
   "cell_type": "code",
   "execution_count": null,
   "id": "cb42edac-b60a-4729-b65a-1f077af65b7b",
   "metadata": {},
   "outputs": [],
   "source": [
    "eqs = [Eq(simplify_E2(res_v.coeff(t, k)), 0, evaluate=False) for k in range(4)]\n",
    "    \n",
    "for eq in eqs:\n",
    "    display(eq)"
   ]
  },
  {
   "cell_type": "markdown",
   "id": "a7bcdc69-b9b7-46f6-9cfd-d1969bef1489",
   "metadata": {},
   "source": [
    "The first equation should be understood as follows\n",
    "\n",
    "\\begin{equation}\n",
    "\\tfrac{1}{2} \\, \\xi_n \\, \\xi_p \\, E_3(v_n, v_p, \\hat{v}) + \\lambda_n \\, \\xi_n \\, \\xi_p \\, \\dot{E}_2(\\xi_p, \\hat{v}) = 0,\n",
    "\\end{equation}\n",
    "\n",
    "and, testing with $\\hat{v} = v_k$\n",
    "\n",
    "$$\\xi_n \\, \\xi_p \\, E_{npk} + 2\\lambda_n \\, \\xi_n \\, \\xi_p \\, \\dot{E}_{pk} = 0.$${#eq-20221221154153}"
   ]
  },
  {
   "cell_type": "code",
   "execution_count": null,
   "id": "e48c4f7a-e2f1-41c3-ae3e-2b84f8dd2ac5",
   "metadata": {},
   "outputs": [],
   "source": []
  }
 ],
 "metadata": {
  "kernelspec": {
   "display_name": "Python 3 (ipykernel)",
   "language": "python",
   "name": "python3"
  },
  "language_info": {
   "codemirror_mode": {
    "name": "ipython",
    "version": 3
   },
   "file_extension": ".py",
   "mimetype": "text/x-python",
   "name": "python",
   "nbconvert_exporter": "python",
   "pygments_lexer": "ipython3",
   "version": "3.9.15"
  }
 },
 "nbformat": 4,
 "nbformat_minor": 5
}
