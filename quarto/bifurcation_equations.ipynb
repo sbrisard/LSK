{
 "cells": [
  {
   "cell_type": "markdown",
   "id": "eb9b2274-0706-431e-8199-24891ea563fb",
   "metadata": {},
   "source": [
    "# Bifurcation equations {#sec-20230102153124}\n",
    "\n",
    "This notebook uses $\\LaTeX\\newcommand{\\D}{\\mathrm{d}}\\newcommand{\\E}{\\mathcal{E}}\\newcommand{\\order}[2][1]{#2^{(#1)}}\\newcommand{\\reals}{\\mathbb{R}}$ custom macros.\n",
    "\n",
    "In this chapter, the bifurcation analysis of the perfect system is performed symbolically. The starting point is the symbolic expression of the energy $(u, \\lambda) \\mapsto \\E(u, \\lambda)$ that was derived in @sec-20230208081549.\n",
    "\n",
    "To begin with, we perform the relevant initializations and retrieve the expression of the energy."
   ]
  },
  {
   "cell_type": "code",
   "execution_count": 1,
   "id": "0c4aa7ee-185d-46b8-af94-d18604b761aa",
   "metadata": {},
   "outputs": [],
   "source": [
    "from lsk import *\n",
    "from sympy import *"
   ]
  },
  {
   "cell_type": "code",
   "execution_count": 2,
   "id": "74d5bf3f-01d8-44ab-9be6-b7fbfb6132e4",
   "metadata": {},
   "outputs": [],
   "source": [
    "t, u_hat, w_hat = symbols(r\"t \\hat{u} \\hat{w}\")"
   ]
  },
  {
   "cell_type": "code",
   "execution_count": 3,
   "id": "a746c5f0-f5f7-4d9a-ada3-dd851d190b08",
   "metadata": {},
   "outputs": [],
   "source": [
    "u_star = create_u_star()\n",
    "E = create_E().expand()"
   ]
  },
  {
   "cell_type": "code",
   "execution_count": 4,
   "id": "caf1fde4-c198-4630-8721-afe95fcc7ffe",
   "metadata": {},
   "outputs": [
    {
     "data": {
      "text/latex": [
       "$\\displaystyle u^\\star(\\lambda)=\\frac{\\ddddot{u}_0 \\lambda^{4}}{24} + \\frac{\\dddot{u}_0 \\lambda^{3}}{6} + \\frac{\\ddot{u}_0 \\lambda^{2}}{2} + \\dot{u}_0 \\lambda$"
      ],
      "text/plain": [
       "<IPython.core.display.Math object>"
      ]
     },
     "metadata": {},
     "output_type": "display_data"
    },
    {
     "data": {
      "text/latex": [
       "$\\displaystyle \\E(u, \\lambda)=- \\frac{\\E_{2} \\dddot{u}_0 \\lambda^{3} u}{6} - \\frac{\\E_{2} \\ddot{u}_0 \\lambda^{2} u}{2} - \\E_{2} \\dot{u}_0 \\lambda u + \\frac{\\E_{2} u^{2}}{2} + \\frac{\\E_{3} \\ddot{u}_0 \\dot{u}_0 \\lambda^{3} u}{2} - \\frac{\\E_{3} \\ddot{u}_0 \\lambda^{2} u^{2}}{4} + \\frac{\\E_{3} \\dot{u}_0^{2} \\lambda^{2} u}{2} - \\frac{\\E_{3} \\dot{u}_0 \\lambda u^{2}}{2} + \\frac{\\E_{3} u^{3}}{6} - \\frac{\\E_{4} \\dot{u}_0^{3} \\lambda^{3} u}{6} + \\frac{\\E_{4} \\dot{u}_0^{2} \\lambda^{2} u^{2}}{4} - \\frac{\\E_{4} \\dot{u}_0 \\lambda u^{3}}{6} + \\frac{\\E_{4} u^{4}}{24} + \\frac{\\E_{\\lambda\\lambda\\lambda\\lambda} \\lambda^{4}}{24} + \\frac{\\E_{\\lambda\\lambda\\lambda} \\lambda^{3}}{6} + \\frac{\\E_{\\lambda\\lambda} \\lambda^{2}}{2} + \\E_{\\lambda} \\lambda - \\frac{\\ddot{\\E}_2 \\dot{u}_0 \\lambda^{3} u}{2} + \\frac{\\ddot{\\E}_2 \\lambda^{2} u^{2}}{4} - \\frac{\\ddot{u}_0 \\dot{\\E}_2 \\lambda^{3} u}{2} - \\dot{\\E}_2 \\dot{u}_0 \\lambda^{2} u + \\frac{\\dot{\\E}_2 \\lambda u^{2}}{2} + \\frac{\\dot{\\E}_3 \\dot{u}_0^{2} \\lambda^{3} u}{2} - \\frac{\\dot{\\E}_3 \\dot{u}_0 \\lambda^{2} u^{2}}{2} + \\frac{\\dot{\\E}_3 \\lambda u^{3}}{6}$"
      ],
      "text/plain": [
       "<IPython.core.display.Math object>"
      ]
     },
     "metadata": {},
     "output_type": "display_data"
    }
   ],
   "source": [
    "#| code-fold: true\n",
    "display_latex_equation(r\"u^\\star(\\lambda)\", u_star)\n",
    "display_latex_equation(r\"\\E(u, \\lambda)\", E)"
   ]
  },
  {
   "cell_type": "markdown",
   "id": "9e45e495-d9fe-49f3-aa73-43f46db22893",
   "metadata": {
    "tags": []
   },
   "source": [
    "## Outline of the strategy\n",
    "\n",
    "In this section, we show that, besides the fundamental branch $u^\\ast(\\lambda)$, other (bifurcated) equilibrium branches may pass through the critical point $(u_0, \\lambda_0)$. The starting point is the characterization of an equilibrium by the stationarity of the energy, which defines all equilibrium branches as implicit functions, which can be expanded with respect to some perturbation parameter.\n",
    "\n",
    "The approach adopted here relies on the Lyapunov–Schmidt decomposition (see below). Note that other approaches are possible, see e.g. @chak2018.\n",
    "\n",
    "For a given value of $\\lambda$ (close to the critical value $\\lambda_0$), we seek an equilibrium point $u$ of the\n",
    "system, such that\n",
    "\n",
    "$$\n",
    "\\E_{,u}(u, \\lambda; \\hat{u}) = 0 \\quad \\text{for all} \\quad \\hat{u} \\in U.\n",
    "$$ {#eq-20230102025737}"
   ]
  },
  {
   "cell_type": "code",
   "execution_count": 5,
   "id": "eea4a2ff-8690-4a53-9a44-7d5f9570d007",
   "metadata": {},
   "outputs": [],
   "source": [
    "res = (create_E_u() * u_hat).expand()"
   ]
  },
  {
   "cell_type": "code",
   "execution_count": 6,
   "id": "31c28380-6ac4-424b-9aac-4beb54917c98",
   "metadata": {},
   "outputs": [
    {
     "data": {
      "text/latex": [
       "$\\displaystyle - \\frac{\\E_{2} \\dddot{u}_0 \\hat{u} \\lambda^{3}}{6} - \\frac{\\E_{2} \\ddot{u}_0 \\hat{u} \\lambda^{2}}{2} - \\E_{2} \\dot{u}_0 \\hat{u} \\lambda + \\E_{2} \\hat{u} u + \\frac{\\E_{3} \\ddot{u}_0 \\dot{u}_0 \\hat{u} \\lambda^{3}}{2} - \\frac{\\E_{3} \\ddot{u}_0 \\hat{u} \\lambda^{2} u}{2} + \\frac{\\E_{3} \\dot{u}_0^{2} \\hat{u} \\lambda^{2}}{2} - \\E_{3} \\dot{u}_0 \\hat{u} \\lambda u + \\frac{\\E_{3} \\hat{u} u^{2}}{2} - \\frac{\\E_{4} \\dot{u}_0^{3} \\hat{u} \\lambda^{3}}{6} + \\frac{\\E_{4} \\dot{u}_0^{2} \\hat{u} \\lambda^{2} u}{2} - \\frac{\\E_{4} \\dot{u}_0 \\hat{u} \\lambda u^{2}}{2} + \\frac{\\E_{4} \\hat{u} u^{3}}{6} - \\frac{\\ddot{\\E}_2 \\dot{u}_0 \\hat{u} \\lambda^{3}}{2} + \\frac{\\ddot{\\E}_2 \\hat{u} \\lambda^{2} u}{2} - \\frac{\\ddot{u}_0 \\dot{\\E}_2 \\hat{u} \\lambda^{3}}{2} - \\dot{\\E}_2 \\dot{u}_0 \\hat{u} \\lambda^{2} + \\dot{\\E}_2 \\hat{u} \\lambda u + \\frac{\\dot{\\E}_3 \\dot{u}_0^{2} \\hat{u} \\lambda^{3}}{2} - \\dot{\\E}_3 \\dot{u}_0 \\hat{u} \\lambda^{2} u + \\frac{\\dot{\\E}_3 \\hat{u} \\lambda u^{2}}{2}=0$"
      ],
      "text/plain": [
       "<IPython.core.display.Math object>"
      ]
     },
     "metadata": {},
     "output_type": "display_data"
    }
   ],
   "source": [
    "#| code-fold: true\n",
    "display_latex_equation(res, 0)"
   ]
  },
  {
   "cell_type": "markdown",
   "id": "53930c6c-299d-4ec4-9e72-52fdd4d42bf8",
   "metadata": {},
   "source": [
    "for all $\\hat{u} \\in U$.\n",
    "\n",
    "The equilibrium state $u$ is projected onto the orthogonal subspaces $V$ and $W$.\n",
    "$$\n",
    "u = u^\\ast(\\lambda) + \\xi_i \\, v_i + w, \\quad \\text{with} \\quad w \\in W.\n",
    "$$ {#eq-20220902174235}\n",
    "\n",
    "It follows from the orthogonality of $V$ and $W$ that $\\langle v_i, w \\rangle = 0$ for all $i=1, \\ldots, m$. Analysis of the bifurcated branches therefore reduces to finding $\\xi_1, \\ldots, \\xi_m \\in \\reals$ and $w \\in W$, such that\n",
    "$$\n",
    "\\E_{,u}[u^\\ast(\\lambda) + \\xi_i \\, v_i + w, \\lambda; \\hat{u}] = 0 \\quad \\text{for all} \\quad \\hat{u} \\in U.\n",
    "$$ {#eq-20230107164346}\n",
    "\n",
    "The method proceeds in three steps\n",
    "\n",
    "1. Eq. (@eq-20230107164346) is first expressed for $\\hat{u} \\in W$ which leads to a definition of $w$ as an implicit function of $\\xi_1, \\ldots, \\xi_m$ and $\\lambda$ (see @sec-20230102030010),\n",
    "2. Eq. (@eq-20230107164346) is then expressed for $\\hat{u} \\in V$ which leads to a definition of $\\lambda$ as an implicit function of $\\xi_1, \\ldots, \\xi_m$ (see @sec-20230102030125),\n",
    "3. finally, a parametrization $\\eta$ of $\\xi_1, \\ldots, \\xi_m$ is introduced and the Taylor expansion of $u$ and $\\lambda$ with respect to $\\eta$ is derived (see @sec-20230616235538)."
   ]
  },
  {
   "cell_type": "markdown",
   "id": "7bd03276-8c18-4cbe-bbf7-fcc7b7d580a4",
   "metadata": {},
   "source": [
    "## Elimination of $w$ {#sec-20230102030010}\n",
    "\n",
    "We first test Eq. (@eq-20230102025737) with $\\hat{w} \\in W$\n",
    "$$\n",
    "\\E_{,u}[u^\\ast(\\lambda) + \\xi_i \\, v_i + w, \\lambda; \\hat{w}] = 0, \\quad \\text{for all} \\quad \\hat{w} \\in W.\n",
    "$$ {#eq-20220825143616}\n",
    "\n",
    "This defines $w$ as an implicit function of $\\xi_1, \\ldots, \\xi_m$ and $\\lambda$. The following asymptotic expansion about $\\xi_1 = \\cdots = \\xi_m = 0$ and $\\lambda = \\lambda_0$ is postulated\n",
    "$$\n",
    "\\begin{aligned}\n",
    "w(\\xi_1, \\ldots, \\xi_m, \\lambda) ={} & \\xi_i \\, w_i + \\bigl( \\lambda - \\lambda_0 \\bigr) \\, w_\\lambda + \\tfrac{1}{2} \\xi_i \\, \\xi_j \\, w_{ij}\\\\\n",
    "&+ \\tfrac{1}{2} \\bigl( \\lambda - \\lambda_0 \\bigr)^2 w_{\\lambda\\lambda} + \\xi_i \\, \\bigl( \\lambda - \\lambda_0 \\bigr) w_{i\\lambda} + \\cdots,\n",
    "\\end{aligned}\n",
    "$$ {#eq-20230107172048}\n",
    "where $w_i$, $w_\\lambda$, $w_{ij}$, $w_{\\lambda\\lambda}$ and $w_{i\\lambda}$ are elements of $W$ to be defined.\n",
    "\n",
    "In what follows, Eq. (@eq-20230107172048) is plugged into Eq. (@eq-20220825143616), which then delivers an asymptotic expansion of the stationarity equation. We will nullify the terms of order up to 2 in $\\xi_i$ and $\\lambda$.\n",
    "\n",
    "We first define the following functions, that ensure that all our expressions use unique indices."
   ]
  },
  {
   "cell_type": "code",
   "execution_count": 7,
   "id": "879de54f-d6f2-4aa5-8db0-04538c2c2be6",
   "metadata": {},
   "outputs": [],
   "source": [
    "def create_λ():\n",
    "    return Symbol(r\"\\lambda\")\n",
    "\n",
    "def create_w():\n",
    "    i = new_index()\n",
    "    j = new_index()\n",
    "    k = new_index()\n",
    "    l = new_index()\n",
    "    _λ = Idx(\"\\lambda\")\n",
    "    return (t * ξ_[i] * w_[i] + create_λ() * w_[_λ] \n",
    "            + (t**2 * ξ_[j] * ξ_[k] * w_[j, k]\n",
    "               + 2 * create_λ() * t * ξ_[l] * w_[l, _λ]\n",
    "               + create_λ() * create_λ() * w_[_λ, _λ]) / 2)\n",
    "    \n",
    "def create_u():\n",
    "    i = new_index()\n",
    "    return (create_u_star(create_λ) + t * ξ_[i] * v_[i] + create_w())"
   ]
  },
  {
   "cell_type": "code",
   "execution_count": 8,
   "id": "469e1620-8f7c-45a0-a5ed-c2fcc5d58862",
   "metadata": {},
   "outputs": [],
   "source": [
    "res_w = expand(create_E_u(u_fun=create_u) * w_hat)"
   ]
  },
  {
   "cell_type": "markdown",
   "id": "6f550b36-5628-49fe-b24d-f4a2e8bc9e13",
   "metadata": {},
   "source": [
    "We can then nullify the various coefficients of this polynomial expansion, starting with the terms of order 1 in $\\xi_i$, which delivers the following variational problem"
   ]
  },
  {
   "cell_type": "code",
   "execution_count": 9,
   "id": "f1a788ed-6bd6-417f-aa7c-564f6e249bf8",
   "metadata": {},
   "outputs": [
    {
     "data": {
      "text/latex": [
       "$\\displaystyle \\E_{2} \\hat{w} {\\xi}_{i_{0}} {v}_{i_{0}} + \\E_{2} \\hat{w} {\\xi}_{i_{1}} {w}_{i_{1}} = 0$"
      ],
      "text/plain": [
       "Eq(\\E_2*\\hat{w}*\\xi[i_{0}]*v[i_{0}] + \\E_2*\\hat{w}*\\xi[i_{1}]*w[i_{1}], 0)"
      ]
     },
     "execution_count": 9,
     "metadata": {},
     "output_type": "execute_result"
    }
   ],
   "source": [
    "λ = create_λ()\n",
    "Eq(res_w.coeff(t, 1).subs(λ, 0), 0)"
   ]
  },
  {
   "cell_type": "markdown",
   "id": "fd01c8fd-09da-45a5-b362-20c931343122",
   "metadata": {},
   "source": [
    "for all $\\hat{w} \\in W$. Since $v_i \\in V$, we have: $\\E_2(v_i, \\bullet) = 0$ and the above variational problem reduces to\n",
    "\n",
    "$$\n",
    "\\E_2(w_i, \\hat{w}) = 0 \\quad \\text{for all} \\quad \\hat{w} \\in W.\n",
    "$$\n",
    "\n",
    "As argued in @sec-20230107173921, this leads to $w_i = 0$.\n",
    "\n",
    "Similarly, we find the term or of order 1 in $\\lambda$, and evaluate it at $\\xi_1 = \\cdots = \\xi_m = 0$. Unfortunately, substitutions do not work with indexed quantities. Since all occurences of $\\xi_i$ have been scaled by $t$ so as to keep track of the order of each term, a workaround is to set $t$ to 0. This delivers the following variational problem"
   ]
  },
  {
   "cell_type": "code",
   "execution_count": 10,
   "id": "ddb54699-a00d-4314-8530-776aac801162",
   "metadata": {},
   "outputs": [
    {
     "data": {
      "text/latex": [
       "$\\displaystyle \\E_{2} \\hat{w} {w}_{\\lambda}$"
      ],
      "text/plain": [
       "\\E_2*\\hat{w}*w[\\lambda]"
      ]
     },
     "execution_count": 10,
     "metadata": {},
     "output_type": "execute_result"
    }
   ],
   "source": [
    "res_w.coeff(λ, 1).subs(t, 0)"
   ]
  },
  {
   "cell_type": "markdown",
   "id": "a6e98598-4042-435d-8954-f9b9ee221dee",
   "metadata": {},
   "source": [
    "for all $\\hat{w} \\in W$. The same argument leads to $w_\\lambda = 0$. Similarly again, for the term of order 2 in $\\lambda$ (remembering that $w_\\lambda = 0$)"
   ]
  },
  {
   "cell_type": "code",
   "execution_count": 11,
   "id": "7d6306f1-5376-4295-b577-9c019fe9e893",
   "metadata": {},
   "outputs": [
    {
     "data": {
      "text/latex": [
       "$\\displaystyle \\frac{\\E_{2} \\hat{w} {w}_{\\lambda,\\lambda}}{2} = 0$"
      ],
      "text/plain": [
       "Eq(\\E_2*\\hat{w}*w[\\lambda, \\lambda]/2, 0)"
      ]
     },
     "execution_count": 11,
     "metadata": {},
     "output_type": "execute_result"
    }
   ],
   "source": [
    "(eq := Eq(res_w.coeff(λ, 2).subs({\n",
    "    t: 0,\n",
    "    w_[Idx(r\"\\lambda\")]: 0\n",
    "}), 0))"
   ]
  },
  {
   "cell_type": "markdown",
   "id": "55cec68a-9809-4c6d-ae1b-a8c4e55aec2b",
   "metadata": {},
   "source": [
    "for all $\\hat{w} \\in W$. Therefore, $w_{\\lambda\\lambda} = 0$.\n",
    "\n",
    "To sum up, we have found so far that $w_i = w_\\lambda = w_{\\lambda\\lambda} = 0$. At this point, it is interesting to override the function `create_w()`, to take into account all these simplifications."
   ]
  },
  {
   "cell_type": "code",
   "execution_count": 12,
   "id": "b03a12af-6f0a-4781-9c1d-8ed5d759cc20",
   "metadata": {},
   "outputs": [],
   "source": [
    "def create_w():\n",
    "    j = new_index()\n",
    "    k = new_index()\n",
    "    l = new_index()\n",
    "    _λ = Idx(r\"\\lambda\")\n",
    "    return t**2 * ξ_[j] * ξ_[k] * w_[j, k] / 2 + create_λ() * t * ξ_[l] * w_[l, _λ]"
   ]
  },
  {
   "cell_type": "markdown",
   "id": "3472659d-832a-4922-8305-b5af8ce78f5b",
   "metadata": {},
   "source": [
    "We can then re-evaluate the residual"
   ]
  },
  {
   "cell_type": "code",
   "execution_count": 13,
   "id": "a632c770-847d-451c-8f09-37631546e252",
   "metadata": {
    "tags": []
   },
   "outputs": [],
   "source": [
    "res_w = expand(create_E_u(u_fun=create_u) * w_hat)"
   ]
  },
  {
   "cell_type": "markdown",
   "id": "71b28c46-ff72-49ee-822c-ff43f0148852",
   "metadata": {},
   "source": [
    "The $\\xi_i \\, \\xi_j$ terms deliver the following variational problem"
   ]
  },
  {
   "cell_type": "code",
   "execution_count": 14,
   "id": "7fac246c-fb90-483c-93e3-0cb2e6ef6d91",
   "metadata": {},
   "outputs": [],
   "source": [
    "lhs = res_w.coeff(t, 2).subs(λ, 0).expand()"
   ]
  },
  {
   "cell_type": "code",
   "execution_count": 15,
   "id": "bdde79fc-c100-4551-ba9c-7d1490eb96b9",
   "metadata": {},
   "outputs": [
    {
     "data": {
      "text/latex": [
       "$\\displaystyle \\frac{\\E_{2} \\hat{w} {\\xi}_{i_{51}} {\\xi}_{i_{52}} {w}_{i_{51},i_{52}}}{2} + \\frac{\\E_{3} \\hat{w} {\\xi}_{i_{54}} {\\xi}_{i_{58}} {v}_{i_{54}} {v}_{i_{58}}}{2}=0$"
      ],
      "text/plain": [
       "<IPython.core.display.Math object>"
      ]
     },
     "metadata": {},
     "output_type": "display_data"
    }
   ],
   "source": [
    "#| code-fold: true\n",
    "display_latex_equation(lhs, 0)"
   ]
  },
  {
   "cell_type": "markdown",
   "id": "94fa5664-4ca2-4646-a385-9bae8da77b5c",
   "metadata": {},
   "source": [
    "for all $\\hat{w} \\in W$ and $\\xi_1, \\ldots, \\xi_m \\in \\reals$ (small enough). This variational problem  should be understood as\n",
    "\n",
    "$$\n",
    "\\xi_i \\, \\xi_j \\, \\bigl[ \\E_2(w_{ij}, \\hat{w}) + \\E_3(v_i, v_j, \\hat{w}) \\bigr] = 0\n",
    "\\quad \\text{for all} \\quad \\hat{w} \\in W.\n",
    "$$\n",
    "\n",
    "for all $\\hat{w} \\in W$ and $\\xi_1, \\ldots, \\xi_m$ *small enough*. Since the above expression is homogeneous in $\\xi_i$, it must in fact vanish *for all* $\\xi_1, \\ldots, \\xi_m$. The resulting variational problem then coincides with (@eq-20230107180410). The $\\xi_i \\, \\xi_j$ term of the asymptotic expansion of $w$ is therefore exactly $w_{ij}$ defined in @sec-20230402152824. Finally, the $\\xi_i \\, \\lambda$ terms deliver the following variational problem"
   ]
  },
  {
   "cell_type": "code",
   "execution_count": 16,
   "id": "34cff5f4-3f8c-4825-8ff6-3b9f2d5670e8",
   "metadata": {},
   "outputs": [],
   "source": [
    "lhs = res_w.coeff(t, 1).coeff(λ, 1).subs(λ, 0).expand()"
   ]
  },
  {
   "cell_type": "code",
   "execution_count": 17,
   "id": "571eee23-a2c3-4108-9d71-77e83809f8ae",
   "metadata": {},
   "outputs": [
    {
     "data": {
      "text/latex": [
       "$\\displaystyle \\E_{2} \\hat{w} {\\xi}_{i_{53}} {w}_{i_{53},\\lambda} + \\frac{\\E_{3} \\dot{u}_0 \\hat{w} {\\xi}_{i_{54}} {v}_{i_{54}}}{2} + \\frac{\\E_{3} \\dot{u}_0 \\hat{w} {\\xi}_{i_{58}} {v}_{i_{58}}}{2} - \\E_{3} \\dot{u}_0 \\hat{w} {\\xi}_{i_{62}} {v}_{i_{62}} + \\dot{\\E}_2 \\hat{w} {\\xi}_{i_{62}} {v}_{i_{62}}=0$"
      ],
      "text/plain": [
       "<IPython.core.display.Math object>"
      ]
     },
     "metadata": {},
     "output_type": "display_data"
    }
   ],
   "source": [
    "#| code-fold: true\n",
    "display_latex_equation(lhs, 0)"
   ]
  },
  {
   "cell_type": "markdown",
   "id": "86743904-5826-40b5-bd8d-3ef46cfa8b0f",
   "metadata": {},
   "source": [
    "for all $\\hat{w} \\in W$ and $\\xi_1, \\ldots, \\xi_m \\in \\reals$ (small enough). In the above expression, each term contains only one summation index, which is renamed $i$."
   ]
  },
  {
   "cell_type": "code",
   "execution_count": 18,
   "id": "818ae2ba-ecf3-4436-b526-8b403800710c",
   "metadata": {},
   "outputs": [],
   "source": [
    "terms = lhs.args\n",
    "lhs = 0\n",
    "\n",
    "for term in terms:\n",
    "    d = get_contraction_structure(term)\n",
    "    (i_,), = d.keys()\n",
    "    lhs += term.subs(i_, i)"
   ]
  },
  {
   "cell_type": "markdown",
   "id": "245c3993-c7f0-4dd1-b7f7-bcfcb2271a3d",
   "metadata": {},
   "source": [
    "This transformation delivers the following variational problem."
   ]
  },
  {
   "cell_type": "code",
   "execution_count": 19,
   "id": "245b50b2-cd17-44f0-ba15-f0cf53792329",
   "metadata": {},
   "outputs": [
    {
     "data": {
      "text/latex": [
       "$\\displaystyle \\E_{2} \\hat{w} {\\xi}_{i} {w}_{i,\\lambda} + \\dot{\\E}_2 \\hat{w} {\\xi}_{i} {v}_{i}=0$"
      ],
      "text/plain": [
       "<IPython.core.display.Math object>"
      ]
     },
     "metadata": {},
     "output_type": "display_data"
    }
   ],
   "source": [
    "#| code-fold: true\n",
    "display_latex_equation(lhs, 0)"
   ]
  },
  {
   "cell_type": "markdown",
   "id": "38ab2738-ebdc-461b-a3c7-9d224819295d",
   "metadata": {},
   "source": [
    "for all $\\hat{w} \\in W$ and $\\xi_1, \\ldots, \\xi_m \\in \\reals$. We recognize the variational problem (@eq-20230107180501). In other words, the $\\xi_i \\, \\lambda$ term of the asymptotic expansion of $w$ is $w_{i\\lambda}$ defined in @sec-20230402152824.\n",
    "\n",
    "So far, we have found the following expansion of $w$\n",
    "\n",
    "$$\n",
    "w(\\xi_1, \\ldots, \\xi_m, \\lambda) = \\tfrac{1}{2} \\xi_i \\, \\xi_j \\, w_{ij} + \\xi_i \\, \\bigl( \\lambda - \\lambda_0 \\bigr) w_{i\\lambda} + \\cdots,\n",
    "$$\n",
    "\n",
    "where $w_{ij}$ and $w_{i\\lambda}$ are defined by Eqs. (@eq-20230107180410) and (@eq-20230107180501), respectively."
   ]
  },
  {
   "cell_type": "markdown",
   "id": "b6d5cff6-fd2d-452f-875c-dee5cc6151db",
   "metadata": {
    "tags": []
   },
   "source": [
    "## Elimination of $\\lambda$ {#sec-20230102030125}\n",
    "\n",
    "We now test Eq. (@eq-20230102025737) with $\\hat{u} = v_i$ ($i = 1, \\ldots, m$)\n",
    "\n",
    "$$\n",
    "\\E_{,u}[u^\\ast(\\lambda) + \\xi_j \\, v_j + w(\\xi_1, \\ldots, \\xi_m, \\lambda), \\lambda; v_i] = 0, \\quad \\text{for all} \\quad i = 1, \\ldots, m.\n",
    "$$ {#eq-20230110092313}\n",
    "\n",
    "This now defines $\\lambda$ as an implicit function of $\\xi_1, \\ldots, \\xi_m$. The following asymptotic expansion\n",
    "about $\\xi_1 = \\cdots = \\xi_m = 0$ is postulated\n",
    "\n",
    "$$\n",
    "\\lambda(\\xi_1, \\ldots, \\xi_m) = \\xi_i \\, \\lambda_i + \\tfrac{1}{2} \\, \\xi_i \\, \\xi_j \\, \\lambda_{ij} + \\ldots\n",
    "$$ {#eq-20230110091031}\n",
    "\n",
    "where $\\lambda_i$ and $\\lambda_{ij}$ are scalar coefficients to be defined below.\n",
    "\n",
    "We first override the function `create_λ()` that creates (with unique indices) the SymPy expression for the asymptotic expansions of  $(\\xi_1, \\ldots, \\xi_m) \\mapsto \\lambda(\\xi_1, \\ldots, \\xi_m)$ according to Eq. (@eq-20230110091031). Since the functions `create_u()` and `create_w()` call `create_λ()` internally, there is no need to redefine them to implement the asymptotic expansions of $(\\xi_1, \\ldots, \\xi_m, \\lambda) \\mapsto w(\\xi_1, \\ldots, \\xi_m, \\lambda)$ and $(\\xi_1, \\ldots, \\xi_m) \\mapsto u(\\xi_1, \\ldots, \\xi_m)$ according to Eqs. (@eq-20230107172048) and (@eq-20220902174235)."
   ]
  },
  {
   "cell_type": "raw",
   "id": "11df1f14-f1e5-47d4-98dc-b0f8546cad14",
   "metadata": {
    "tags": []
   },
   "source": [
    ":::{.callout-note}"
   ]
  },
  {
   "cell_type": "markdown",
   "id": "788c9888-6d01-4417-a3f7-4fa6427c15b1",
   "metadata": {
    "tags": []
   },
   "source": [
    "Although $\\lambda$ is expanded to second-order in $\\xi_i$, we will consider third-order terms of the energy below. Therefore, we must make sure that the third-order term of the residual does not involve the third-order term of $\\lambda$. To do so, we define the third-order term of the expansion of $\\lambda$ as a symbol, $\\order[3]{\\lambda}$. We will check later on that this term disappears from the third-order expansion of the energy. We also include the $\\mathcal{O}(t^4)$ term, that will speed up subsequent calculations (by cancelling many terms)."
   ]
  },
  {
   "cell_type": "raw",
   "id": "1ad016f3-83dd-41ee-a760-e8f824937ba5",
   "metadata": {},
   "source": [
    ":::"
   ]
  },
  {
   "cell_type": "code",
   "execution_count": 20,
   "id": "0ff156b3-9bea-4ca9-9bd7-a3a2ea5147ab",
   "metadata": {},
   "outputs": [],
   "source": [
    "λ3 = Symbol(r\"\\order[3]{\\lambda}\")\n",
    "\n",
    "def create_λ():\n",
    "    i = new_index()\n",
    "    j = new_index()\n",
    "    k = new_index()\n",
    "    return t * ξ_[i] * λ_[i] + t**2 / 2 * ξ_[j] * ξ_[k] * λ_[j, k] + t**3 * λ3 + O(t**4)"
   ]
  },
  {
   "cell_type": "markdown",
   "id": "4990bb66-f958-436b-9505-4b29bdc1839a",
   "metadata": {},
   "source": [
    "Then, the above expansions are plugged into the general expression of $\\E_{,u}(u, \\lambda; \\bullet)$ and tested with $\\hat{u} = v_i \\in V$, see Eq. (@eq-20230110092313)."
   ]
  },
  {
   "cell_type": "code",
   "execution_count": 21,
   "id": "1e0b4a89-94ff-44fa-a96a-cfa23e3174bc",
   "metadata": {},
   "outputs": [],
   "source": [
    "res_v = expand(create_E_u(u_fun=create_u, λ_fun=create_λ) * v_[i]).removeO()"
   ]
  },
  {
   "cell_type": "markdown",
   "id": "58c8c6f8-4ce4-48c0-9f79-bd933697e7fd",
   "metadata": {},
   "source": [
    "We get an asymptotic expansion of the residual with respect to $\\xi_1, \\ldots, \\xi_m$. This residual must vanish for all $\\xi_i$ sufficiently small. Therefore, all coefficients of the expansion `res_v` must be nullified at all orders and for all $\\xi_i$ sufficiently small. Considering the expansion up to third order, we get after simplification only *two* bifurcation equations, since the terms of order 0 and 1 are identically null, as verified below."
   ]
  },
  {
   "cell_type": "code",
   "execution_count": 22,
   "id": "f39736f9-6c5d-43f4-8d70-44fe54886daa",
   "metadata": {},
   "outputs": [],
   "source": [
    "assert res_v.coeff(t, 0) == 0\n",
    "assert res_v.coeff(t, 1).subs(rules[\"E_ij\"]) == 0"
   ]
  },
  {
   "cell_type": "markdown",
   "id": "f14578c2-821a-4a5e-8965-396688b3b8f1",
   "metadata": {},
   "source": [
    "We now consider the terms of order 2 in $\\xi_i$ and again standardize the indices: each occurence of $\\lambda_a \\, \\xi_a$ is transformed into $\\lambda_j \\, \\xi_j$, the remaining summation index being renamed $k$. We also introduce the symbols $\\dot{E}_{ij}$ and $E_{ijk}$, defined by Eqs. (@eq-20230125062505) and (@eq-20230125062510), respectively."
   ]
  },
  {
   "cell_type": "code",
   "execution_count": 23,
   "id": "a786274f-acfb-41a7-a64c-eaf50640b245",
   "metadata": {},
   "outputs": [],
   "source": [
    "lhs1a = res_v.coeff(t, 2).expand().subs(rules[\"E_ij\"])\n",
    "\n",
    "terms = lhs1a.args\n",
    "lhs1b = 0\n",
    "\n",
    "for term in terms:\n",
    "    indices = next(iter(get_contraction_structure(term).keys()))\n",
    "    i1, i2 = indices\n",
    "    if degree(term, ξ_[i1]) == 1 and degree(term, λ_[i1]) == 1:\n",
    "        term = term.subs({i1: j, i2: k})\n",
    "    elif degree(term, ξ_[i2]) == 1 and degree(term, λ_[i2]) == 1:\n",
    "        term = term.subs({i2: j, i1: k})\n",
    "    else:\n",
    "        term = term.subs({i2: j, i1: k})\n",
    "    lhs1b += term\n",
    "\n",
    "lhs1 = lhs1b.subs(rules[r\"\\dot{E}_ij\"]).subs(rules[\"E_ijk\"]).subs(E_dot_[i, k] * λ_[j], E_dot_[i, j] * λ_[k])"
   ]
  },
  {
   "cell_type": "markdown",
   "id": "3734dc8e-9125-4151-8388-874e1afd0a83",
   "metadata": {},
   "source": [
    "And get the following equation"
   ]
  },
  {
   "cell_type": "code",
   "execution_count": 24,
   "id": "0f54e1f2-38a1-4816-b710-fc3b4de51995",
   "metadata": {},
   "outputs": [
    {
     "data": {
      "text/latex": [
       "$\\displaystyle \\frac{{E}_{i,j,k} {\\xi}_{j} {\\xi}_{k}}{2} + {\\dot{E}}_{i,j} {\\lambda}_{k} {\\xi}_{j} {\\xi}_{k}=0$"
      ],
      "text/plain": [
       "<IPython.core.display.Math object>"
      ]
     },
     "metadata": {},
     "output_type": "display_data"
    }
   ],
   "source": [
    "#| code-fold: true\n",
    "display_latex_equation(lhs1, 0)"
   ]
  },
  {
   "cell_type": "markdown",
   "id": "29080532-a31c-402c-8f84-5ad0567fb890",
   "metadata": {},
   "source": [
    "which also reads"
   ]
  },
  {
   "cell_type": "markdown",
   "id": "4eec7134-9d84-4e0c-be16-af32b3cecab4",
   "metadata": {},
   "source": [
    "$$\n",
    "\\xi_j \\, \\xi_k \\, \\bigl( \\tfrac{1}{2} E_{ijk} + \\lambda_k \\, \\dot{E}_{ij} \\bigr) = 0,\n",
    "$$ {#eq-20230115101130}\n",
    "\n",
    "for all $\\xi_1, \\ldots, \\xi_m \\in \\reals$."
   ]
  },
  {
   "cell_type": "code",
   "execution_count": 25,
   "id": "a8239f25-ab67-45b4-80da-e49645615636",
   "metadata": {},
   "outputs": [],
   "source": [
    "#| code-fold: true\n",
    "expected = ξ_[j] * ξ_[k] * (E_[i, j, k] / 2 + λ_[k] * E_dot_[i, j])\n",
    "assert expand(lhs1 - expected) == 0"
   ]
  },
  {
   "cell_type": "raw",
   "id": "69102d86-feb3-4e97-a84c-aa8e6f583b5f",
   "metadata": {},
   "source": [
    "::: {.callout-note}"
   ]
  },
  {
   "cell_type": "markdown",
   "id": "a02df911-c46a-4e05-a58b-3a657a21240e",
   "metadata": {},
   "source": [
    "Eq. (@eq-20230115101130) results from an asymptotic expansion w.r.t. the $\\xi_i$. As such it needs only be satisfied for all $\\xi_1, \\ldots, \\xi_m$ *small enough*. However, this equation is homogeneous of degree 2 w.r.t. the $\\xi_i$. Therefore, it indeed holds for all $\\xi_1, \\ldots, \\xi_m \\in \\reals$."
   ]
  },
  {
   "cell_type": "raw",
   "id": "130d77c5-3d98-4023-9ed8-0230b2a98f15",
   "metadata": {},
   "source": [
    ":::"
   ]
  },
  {
   "cell_type": "markdown",
   "id": "1ea882a0-0356-4610-9532-2fce22e302f6",
   "metadata": {},
   "source": [
    "Turning now to the term of third-order in $\\xi_i$, the expression with unique indices is **hudge**. Since each term is multiplied by $v_i$, all occurences of $\\E_2$ are of the form $\\E_2(v_i, \\bullet) = 0$."
   ]
  },
  {
   "cell_type": "code",
   "execution_count": 26,
   "id": "3eebbdd5-3cc1-4223-979b-4b09b95c123a",
   "metadata": {
    "tags": []
   },
   "outputs": [],
   "source": [
    "_λ = Idx(r\"\\lambda\")\n",
    "lhs2a = res_v.coeff(t, 3).subs(E2, 0).expand()"
   ]
  },
  {
   "cell_type": "markdown",
   "id": "b3917299-862d-40bc-95af-5dad1fbcf527",
   "metadata": {},
   "source": [
    "Using in each term standard index names ($j$, $k$, $l$) reduces the expression considerably (since many terms that are actually symmetric in these three indices cancel out)."
   ]
  },
  {
   "cell_type": "code",
   "execution_count": 27,
   "id": "39c630e4-fe88-40f1-8899-ca027bd81a25",
   "metadata": {
    "tags": []
   },
   "outputs": [],
   "source": [
    "def standardize_indices(expr):\n",
    "    if not expr.is_Mul:\n",
    "        raise ValueError()\n",
    "    struct = get_contraction_structure(expr)\n",
    "    indices = next(iter(struct))\n",
    "    if len(indices) == 3:\n",
    "        j, k, l = indices\n",
    "        return expr.subs({j: Idx(\"j\"), k: Idx(\"k\"), l: Idx(\"l\")})\n",
    "    else:\n",
    "        raise ValueError()\n",
    "\n",
    "\n",
    "terms = lhs2a.args\n",
    "lhs2b = 0\n",
    "for term in terms:\n",
    "    lhs2b += standardize_indices(term)"
   ]
  },
  {
   "cell_type": "markdown",
   "id": "10ddd687-be59-45af-a6ca-5ca06870b516",
   "metadata": {},
   "source": [
    "We now remember that $w$ and $\\lambda$ are symmetric with respect to their two indices."
   ]
  },
  {
   "cell_type": "code",
   "execution_count": 28,
   "id": "6bd20e1a-ba96-45df-a32a-856566ef72fb",
   "metadata": {
    "tags": []
   },
   "outputs": [],
   "source": [
    "lhs2c = lhs2b.subs(rules[\"w_ij = w_ji\"]).subs(rules[\"λ_ij = λ_ji\"])"
   ]
  },
  {
   "cell_type": "markdown",
   "id": "98e0d261-f35e-4c3e-9f16-1eca318d6e94",
   "metadata": {},
   "source": [
    "Finally, we perform some minor transformations that are allowed since each term is multiplied by $\\xi_j \\, \\xi_k \\, \\xi_l$."
   ]
  },
  {
   "cell_type": "code",
   "execution_count": 29,
   "id": "245cf40e-c195-45e4-9538-878510e5a820",
   "metadata": {
    "tags": []
   },
   "outputs": [],
   "source": [
    "lhs2 = lhs2b.subs({\n",
    "    v_[k] * w_[j, l]: v_[j] * w_[k, l],\n",
    "    v_[l] * w_[j, k]: v_[j] * w_[k, l],\n",
    "\n",
    "    λ_[j] * v_[k] * w_[l, _λ]: λ_[l] * v_[j] * w_[k, _λ],\n",
    "    λ_[j] * v_[l] * w_[k, _λ]: λ_[l] * v_[j] * w_[k, _λ],\n",
    "    λ_[k] * v_[l] * w_[j, _λ]: λ_[l] * v_[j] * w_[k, _λ],\n",
    "\n",
    "    λ_[j] * w_[k, l]: λ_[l] * w_[j, k],\n",
    "    λ_[k] * w_[j, l]: λ_[l] * w_[j, k],\n",
    "\n",
    "    λ_[j] * λ_[k] * w_[l, _λ]: λ_[k] * λ_[l] * w_[j, _λ],\n",
    "    λ_[j] * λ_[l] * w_[k, _λ]: λ_[k] * λ_[l] * w_[j, _λ],\n",
    "    \n",
    "    λ_[j, k] * v_[l]: λ_[k, l] * v_[j],\n",
    "    λ_[j, l] * v_[k]: λ_[k, l] * v_[j],\n",
    "  \n",
    "    λ_[j] * v_[k] * v_[l]: λ_[l] * v_[j] * v_[k],\n",
    "    λ_[k] * v_[j] * v_[l]: λ_[l] * v_[j] * v_[k],\n",
    "    \n",
    "    λ_[j] * λ_[k] * v_[l]: λ_[k] * λ_[l] * v_[j],\n",
    "    λ_[j] * λ_[l] * v_[k]: λ_[k] * λ_[l] * v_[j],\n",
    "\n",
    "    λ_[k, l] * w_[j, _λ]: λ_[j, k] * w_[l, _λ],\n",
    "    λ_[j, l] * w_[k, _λ]: λ_[j, k] * w_[l, _λ],\n",
    "})"
   ]
  },
  {
   "cell_type": "markdown",
   "id": "c33ac351-8daa-4221-a535-e6b0c361e0f7",
   "metadata": {},
   "source": [
    "And we get the second equation  (which is homogeneous of degree 3 w.r.t. the $\\xi_i$ and must therefore hold even for large values of these parameters)"
   ]
  },
  {
   "cell_type": "code",
   "execution_count": 30,
   "id": "a72be8c7-3350-4386-bed4-249d6920e163",
   "metadata": {},
   "outputs": [
    {
     "data": {
      "text/latex": [
       "$\\displaystyle \\E_{3} {\\lambda}_{l} {\\xi}_{j} {\\xi}_{k} {\\xi}_{l} {v}_{i} {v}_{j} {w}_{k,\\lambda} + \\frac{\\E_{3} {\\xi}_{j} {\\xi}_{k} {\\xi}_{l} {v}_{i} {v}_{j} {w}_{k,l}}{2} + \\frac{\\E_{4} {\\xi}_{j} {\\xi}_{k} {\\xi}_{l} {v}_{i} {v}_{j} {v}_{k} {v}_{l}}{6} + \\frac{\\ddot{\\E}_2 {\\lambda}_{k} {\\lambda}_{l} {\\xi}_{j} {\\xi}_{k} {\\xi}_{l} {v}_{i} {v}_{j}}{2} + \\frac{\\dot{\\E}_2 {\\lambda}_{k,l} {\\xi}_{j} {\\xi}_{k} {\\xi}_{l} {v}_{i} {v}_{j}}{2} + \\dot{\\E}_2 {\\lambda}_{k} {\\lambda}_{l} {\\xi}_{j} {\\xi}_{k} {\\xi}_{l} {v}_{i} {w}_{j,\\lambda} + \\frac{\\dot{\\E}_2 {\\lambda}_{l} {\\xi}_{j} {\\xi}_{k} {\\xi}_{l} {v}_{i} {w}_{j,k}}{2} + \\frac{\\dot{\\E}_3 {\\lambda}_{l} {\\xi}_{j} {\\xi}_{k} {\\xi}_{l} {v}_{i} {v}_{j} {v}_{k}}{2}=0$"
      ],
      "text/plain": [
       "<IPython.core.display.Math object>"
      ]
     },
     "metadata": {},
     "output_type": "display_data"
    }
   ],
   "source": [
    "#| code-fold: true\n",
    "display_latex_equation(lhs2, 0)"
   ]
  },
  {
   "cell_type": "markdown",
   "id": "87a455c3-8416-4b86-b53b-63afaac99e2d",
   "metadata": {},
   "source": [
    "which is reordered as follows\n",
    "$$\n",
    "\\begin{aligned}[b]\n",
    "\\xi_j \\, \\xi_k \\, \\xi_l \\, \\bigl[\n",
    "\\tfrac{1}{2} \\E_3(v_i, v_j, w_{kl})\n",
    "+ \\lambda_l \\, \\E_3(v_i, v_j, w_{k\\lambda})\n",
    "+ \\tfrac{1}{6} \\E_4(v_i, v_j, v_k, v_l) &\\\\\n",
    "+ \\tfrac{1}{2} \\lambda_l \\, \\dot{\\E}_2(v_i, w_{jk})\n",
    "+ \\lambda_k \\, \\lambda_l \\, \\dot{\\E}_2(v_i, w_{j\\lambda})\n",
    "+ \\tfrac{1}{2} \\lambda_{kl} \\, \\dot{\\E}_2(v_i, v_j) &\\\\\n",
    "+ \\tfrac{1}{2} \\lambda_l \\, \\dot{\\E}_3(v_i, v_j, v_k)\n",
    "+ \\tfrac{1}{2} \\lambda_k \\, \\lambda_l \\, \\ddot{\\E}_2(v_i, v_j)\n",
    "\\bigr] &= 0,\n",
    "\\end{aligned}\n",
    "$$ {#eq-20230115101147}\n",
    "for all $\\xi_1, \\ldots, \\xi_m \\in \\reals$."
   ]
  },
  {
   "cell_type": "code",
   "execution_count": 31,
   "id": "92ca3edd-13eb-431b-a4bd-6c3b385a5447",
   "metadata": {},
   "outputs": [],
   "source": [
    "#| code-fold: true\n",
    "expected = ξ_[j] * ξ_[k] * ξ_[l] * (E3 * v_[i] * v_[j] * w_[k, l] / 2\n",
    "                                    + λ_[l] * E3 * v_[i] * v_[j] * w_[k, _λ]\n",
    "                                    + E4 * v_[i] * v_[j] * v_[k] * v_[l] / 6\n",
    "                                    + λ_[l] * E2_dot * v_[i] * w_[j, k] / 2\n",
    "                                    + λ_[k] * λ_[l] * E2_dot * v_[i] * w_[j, _λ]\n",
    "                                    + λ_[k, l] * E2_dot * v_[i] * v_[j] / 2\n",
    "                                    + λ_[l] * E3_dot * v_[i] * v_[j] * v_[k] / 2\n",
    "                                    + λ_[k] * λ_[l] * E2_ddot * v_[i] * v_[j] / 2)\n",
    "                                    \n",
    "assert expand(lhs2 - expected) == 0"
   ]
  },
  {
   "cell_type": "markdown",
   "id": "d8111eb5-9461-4c4e-a6f0-7170d03f03b5",
   "metadata": {},
   "source": [
    "## Simplification of the bifurcation equations {#sec-20230616235538}\n",
    "\n",
    "In this section, Eqs. (@eq-20230115101130) and (@eq-20230115101147) are simplified to deliver the bifurcation equations (@eq-20230125062336) and (@eq-20230124205642).\n",
    "\n",
    "### Parametrization of the bifurcated branch\n",
    "\n",
    "A parametrization of the bifurcated branch is first introduced. The bifurcated branch is a curve $(u, \\lambda) \\in \\reals ^ {m + 1}$, which is parametrized by $\\eta$: $[u(\\eta), \\lambda(\\eta)]$, with $u(0) = u_0$ and $\\lambda(0) = \\lambda_0$; primed quantities denoting derivatives with respect to $\\eta$, we introduce\n",
    "\n",
    "$$\n",
    "\\order[1]{\\xi_i} = \\xi_i'(0), \\quad \\order[2]{\\xi_i} = \\xi_i''(0), \\quad \\ldots, \\quad \\order[1]{\\lambda} = \\lambda'(0), \\quad \\ldots\n",
    "$$\n",
    "\n",
    "In @sec-20230102030125, $\\lambda$ was defined as a function of $\\xi_1, \\ldots, \\xi_m$. Therefore, from the chain rule\n",
    "\n",
    "$$\n",
    "\\lambda'(\\eta) = \\frac{\\partial\\lambda}{\\partial\\xi_i} \\, \\xi_i'(\\eta) \\quad \\text{and} \\quad \\lambda''(\\eta)  = \\frac{\\partial^2\\lambda}{\\partial\\xi_i \\, \\partial\\xi_j} \\, \\xi_i'(\\eta) \\, \\xi_j'(\\eta) + \\frac{\\partial\\lambda}{\\partial\\xi_i} \\, \\xi_i''(\\eta)\n",
    "$$\n",
    "\n",
    "and, at $\\eta = 0$\n",
    "\n",
    "$$\n",
    "\\order[1]{\\lambda} = \\lambda_i \\, \\order[1]{\\xi_i} \\quad \\text{and} \\quad \\order[2]{\\lambda} = \\lambda_{ij} \\, \\order[1]{\\xi_i} \\, \\order[1]{\\xi_j} + \\lambda_i \\, \\order[2]{\\xi_i}.\n",
    "$$ {#eq-20230116205753}\n",
    "\n",
    "These two identities are defined as two new simplification rules."
   ]
  },
  {
   "cell_type": "code",
   "execution_count": 32,
   "id": "11a1a912-d1dd-4d1b-a8a0-30a72f281d04",
   "metadata": {},
   "outputs": [],
   "source": [
    "rules[\"λ⁽¹⁾\"] = {\n",
    "    λ_[i] * ξ1_[i]: λ1,\n",
    "    λ_[j] * ξ1_[j]: λ1,\n",
    "    λ_[k] * ξ1_[k]: λ1,\n",
    "    λ_[l] * ξ1_[l]: λ1,\n",
    "}\n",
    "\n",
    "rules[\"λ⁽²⁾\"] = {\n",
    "    ξ1_[j] * ξ1_[k] * λ_[j, k]: λ2 - λ_[j] * ξ2_[j],\n",
    "    ξ1_[j] * ξ1_[l] * λ_[j, l]: λ2 - λ_[j] * ξ2_[j],\n",
    "    ξ1_[k] * ξ1_[l] * λ_[k, l]: λ2 - λ_[k] * ξ2_[k]\n",
    "}"
   ]
  },
  {
   "cell_type": "markdown",
   "id": "d82f919f-1b7b-42c4-a6f6-2d6084caafbe",
   "metadata": {},
   "source": [
    "### Simplification of the first bifurcation equation\n",
    "\n",
    "We first observe that, for fixed $i = 1, \\ldots, m$, Eq. (@eq-20230115101130) is of the form $L_{jk} \\, \\xi_j \\, \\xi_k = 0$ for all $\\xi_1, \\ldots, \\xi_m$. Derivation with respect to $\\xi_l$ leads to\n",
    "\n",
    "$$\n",
    "0 = L_{jk} \\, \\delta_{jl} \\, \\xi_k + L_{jk} \\, \\xi_j \\, \\delta_{kl} = L_{lk} \\, \\xi_k + L_{jl} \\, \\xi_j = \\bigl(L_{kl} +L_{lk} \\bigr) \\, \\xi_l,\n",
    "$$\n",
    "\n",
    "for all $\\xi_1, \\ldots, \\xi_m \\in \\reals$. The above identity leads to: $L_{kl} + L_{lk} = 0$. Application to\n",
    "Eq. (@eq-20230115101130) delivers the following identity, to be used below\n",
    "\n",
    "$$\n",
    "E_{ijk} + \\lambda_k \\, \\dot{E}_{ij} + \\lambda_j \\, \\dot{E}_{ik} = 0.\n",
    "$$ {#eq-20230120210008}"
   ]
  },
  {
   "cell_type": "code",
   "execution_count": 33,
   "id": "c64c91f6-f7dd-497c-afa1-e7674814b1d4",
   "metadata": {},
   "outputs": [],
   "source": [
    "rules[r\"λ_k ξ²_k \\dot{E}_ij\"] = {\n",
    "    λ_[j] * ξ2_[j] * E_dot_[i, k]: -(E_[i, j, k] + λ_[k] * E_dot_[i, j]) * ξ2_[j],\n",
    "    λ_[j] * ξ2_[j] * E_dot_[i, l]: -(E_[i, j, l] + λ_[l] * E_dot_[i, j]) * ξ2_[j],\n",
    "    λ_[k] * ξ2_[k] * E_dot_[i, j]: -(E_[i, j, k] + λ_[j] * E_dot_[i, k]) * ξ2_[k],\n",
    "    λ_[k] * ξ2_[k] * E_dot_[i, l]: -(E_[i, k, l] + λ_[l] * E_dot_[i, k]) * ξ2_[k],\n",
    "    λ_[l] * ξ2_[l] * E_dot_[i, j]: -(E_[i, j, l] + λ_[j] * E_dot_[i, l]) * ξ2_[l],\n",
    "    λ_[l] * ξ2_[l] * E_dot_[i, k]: -(E_[i, k, l] + λ_[k] * E_dot_[i, l]) * ξ2_[l],\n",
    "}"
   ]
  },
  {
   "cell_type": "markdown",
   "id": "e9ec2e5f-d940-4ef8-a13f-8a93f4a77599",
   "metadata": {},
   "source": [
    "Eq. (@eq-20230115101130) holds for all $\\xi_1, \\ldots, \\xi_m$. In particular, it holds for $\\xi_i = \\order[1]{\\xi_i}$ and using\n",
    "Eq. (@eq-20230116205753) delivers"
   ]
  },
  {
   "cell_type": "code",
   "execution_count": 34,
   "id": "be21a78d-66ae-47d2-866d-f0739c45ca37",
   "metadata": {},
   "outputs": [],
   "source": [
    "lhs1a = lhs1.subs(ξ_, ξ1_).subs(rules[\"λ⁽¹⁾\"])"
   ]
  },
  {
   "cell_type": "code",
   "execution_count": 35,
   "id": "c15e84ef-22f0-4762-9fa2-a187c3026f0e",
   "metadata": {},
   "outputs": [
    {
     "data": {
      "text/latex": [
       "$\\displaystyle {\\order[1]{\\lambda}} {\\dot{E}}_{i,j} {{\\order[1]{\\xi}}}_{j} + \\frac{{E}_{i,j,k} {{\\order[1]{\\xi}}}_{j} {{\\order[1]{\\xi}}}_{k}}{2}=0$"
      ],
      "text/plain": [
       "<IPython.core.display.Math object>"
      ]
     },
     "metadata": {},
     "output_type": "display_data"
    }
   ],
   "source": [
    "#| code-fold: true\n",
    "display_latex_equation(lhs1a, 0)"
   ]
  },
  {
   "cell_type": "markdown",
   "id": "b9dc8afb-7825-4619-b9e1-56ac174a30a6",
   "metadata": {},
   "source": [
    "which coincides with the **first bifurcation equation** (@eq-20230125062336). This bifurcation equation is implemented in the `lsk` module as the simplification rule: `rules[\"BifEq1\"]`."
   ]
  },
  {
   "cell_type": "code",
   "execution_count": 1,
   "id": "29d376c8-12ab-445a-8beb-3eeb7612dc6a",
   "metadata": {},
   "outputs": [
    {
     "ename": "NameError",
     "evalue": "name 'E_' is not defined",
     "output_type": "error",
     "traceback": [
      "\u001b[0;31m---------------------------------------------------------------------------\u001b[0m",
      "\u001b[0;31mNameError\u001b[0m                                 Traceback (most recent call last)",
      "\u001b[0;32m/tmp/ipykernel_38309/485777375.py\u001b[0m in \u001b[0;36m<module>\u001b[0;34m\u001b[0m\n\u001b[1;32m      1\u001b[0m \u001b[0;31m#| code-fold: true\u001b[0m\u001b[0;34m\u001b[0m\u001b[0;34m\u001b[0m\u001b[0m\n\u001b[0;32m----> 2\u001b[0;31m \u001b[0mexpected\u001b[0m \u001b[0;34m=\u001b[0m \u001b[0mE_\u001b[0m\u001b[0;34m[\u001b[0m\u001b[0mi\u001b[0m\u001b[0;34m,\u001b[0m \u001b[0mj\u001b[0m\u001b[0;34m,\u001b[0m \u001b[0mk\u001b[0m\u001b[0;34m]\u001b[0m \u001b[0;34m*\u001b[0m \u001b[0mξ1_\u001b[0m\u001b[0;34m[\u001b[0m\u001b[0mj\u001b[0m\u001b[0;34m]\u001b[0m \u001b[0;34m*\u001b[0m \u001b[0mξ1_\u001b[0m\u001b[0;34m[\u001b[0m\u001b[0mk\u001b[0m\u001b[0;34m]\u001b[0m \u001b[0;34m/\u001b[0m \u001b[0;36m2\u001b[0m \u001b[0;34m+\u001b[0m \u001b[0mλ1\u001b[0m \u001b[0;34m*\u001b[0m \u001b[0mE_dot_\u001b[0m\u001b[0;34m[\u001b[0m\u001b[0mi\u001b[0m\u001b[0;34m,\u001b[0m \u001b[0mj\u001b[0m\u001b[0;34m]\u001b[0m \u001b[0;34m*\u001b[0m \u001b[0mξ1_\u001b[0m\u001b[0;34m[\u001b[0m\u001b[0mj\u001b[0m\u001b[0;34m]\u001b[0m\u001b[0;34m\u001b[0m\u001b[0;34m\u001b[0m\u001b[0m\n\u001b[0m\u001b[1;32m      3\u001b[0m \u001b[0;34m\u001b[0m\u001b[0m\n\u001b[1;32m      4\u001b[0m \u001b[0;32massert\u001b[0m \u001b[0mlhs1a\u001b[0m \u001b[0;34m-\u001b[0m \u001b[0mexpected\u001b[0m \u001b[0;34m==\u001b[0m \u001b[0;36m0\u001b[0m\u001b[0;34m\u001b[0m\u001b[0;34m\u001b[0m\u001b[0m\n",
      "\u001b[0;31mNameError\u001b[0m: name 'E_' is not defined"
     ]
    }
   ],
   "source": [
    "#| code-fold: true\n",
    "expected = E_[i, j, k] * ξ1_[j] * ξ1_[k] / 2 + λ1 * E_dot_[i, j] * ξ1_[j]\n",
    "\n",
    "assert lhs1a - expected == 0"
   ]
  },
  {
   "cell_type": "markdown",
   "id": "8dc6df7d-524c-461e-8396-afcac89c3cb8",
   "metadata": {},
   "source": [
    "### Simplification of the second bifurcation equation"
   ]
  },
  {
   "cell_type": "code",
   "execution_count": 37,
   "id": "c68b7c1f-bf3f-4dc6-a2e8-f5330bdf4faf",
   "metadata": {},
   "outputs": [],
   "source": [
    "lhs2a = lhs2.subs(ξ_, ξ1_).expand()"
   ]
  },
  {
   "cell_type": "markdown",
   "id": "02ebf494-7ad7-4e45-9db9-3bbf012b8e51",
   "metadata": {},
   "source": [
    "All terms are of the form $L_{ijkl} \\, \\order[1]{\\xi}_j \\, \\order[1]{\\xi}_k \\, \\order[1]{\\xi}_l$: they can be symmetrized wrt $j$, $k$ and $l$ as follows\n",
    "\n",
    "$$\n",
    "L_{ijkl} \\, \\order[1]{\\xi}_j \\, \\order[1]{\\xi}_k \\, \\order[1]{\\xi}_l = \\tfrac{1}{6} \\bigl( L_{ijkl} + L_{ijlk} + L_{ikjl} + L_{iklj} + L_{iljk} + L_{ilkj} \\bigr) \\, \\order[1]{\\xi}_j \\, \\order[1]{\\xi}_k \\, \\order[1]{\\xi}_l\n",
    "$$"
   ]
  },
  {
   "cell_type": "code",
   "execution_count": 38,
   "id": "6ca14585-e729-461b-9601-bcd1cad50564",
   "metadata": {},
   "outputs": [],
   "source": [
    "def symmetrize(expr):\n",
    "    if not expr.is_Mul:\n",
    "        raise ValueError()\n",
    "    struct = get_contraction_structure(expr)\n",
    "    indices = next(iter(struct))\n",
    "    if len(indices) == 3:\n",
    "        j, k, l = indices\n",
    "        # Assign temporary indices\n",
    "        jj = new_index()\n",
    "        kk = new_index()\n",
    "        ll = new_index()\n",
    "        expr = expr.subs({j: jj, k: kk, l: ll})\n",
    "        return (expr.subs({jj: j, kk: k, ll: l})\n",
    "                + expr.subs({jj: j, kk: l, ll: k})\n",
    "                + expr.subs({jj: k, kk: l, ll: j})\n",
    "                + expr.subs({jj: k, kk: j, ll: l})\n",
    "                + expr.subs({jj: l, kk: j, ll: k})\n",
    "                + expr.subs({jj: l, kk: k, ll: j})) / 6\n",
    "    else:\n",
    "        raise ValueError(expr)"
   ]
  },
  {
   "cell_type": "markdown",
   "id": "4acc0bfc-3073-4081-8b9d-25a73dafaf1a",
   "metadata": {},
   "source": [
    "We perform this symmetrization and use some of the simplification rules already defined."
   ]
  },
  {
   "cell_type": "code",
   "execution_count": 39,
   "id": "97cd8b9c-94b0-4ad8-89f0-0c47464baed5",
   "metadata": {},
   "outputs": [],
   "source": [
    "lhs2b = 0\n",
    "for term in lhs2a.args:\n",
    "    lhs2b += symmetrize(term)\n",
    "\n",
    "names = [\n",
    "    \"λ⁽¹⁾\", \n",
    "    \"E_ijkl\", \n",
    "    \"E_ijk\", \n",
    "    \"\\dot{E}_ijk\", \n",
    "    \"E₃(v_i, v_j, w_kλ)\", \n",
    "    \"w_ij = w_ji\",\n",
    "    \"λ_ij = λ_ji\",\n",
    "    r\"\\dot{E}₂(v_i, w_jλ)\",\n",
    "    r\"\\ddot{E}_ij\",\n",
    "    \"λ⁽²⁾\",\n",
    "    r\"\\dot{E}_ij\",\n",
    "    \"λ_k ξ²_k \\dot{E}_ij\",\n",
    "    \"λ⁽¹⁾\"\n",
    "]\n",
    "\n",
    "for name in names:\n",
    "    lhs2b = lhs2b.subs(rules[name]).expand()"
   ]
  },
  {
   "cell_type": "markdown",
   "id": "f504f3e1-3386-4b9e-9e33-786d7e2f06dc",
   "metadata": {},
   "source": [
    "Finally, we apply some minor transformations to the indices."
   ]
  },
  {
   "cell_type": "code",
   "execution_count": 40,
   "id": "c1765c09-1cd8-4f85-8d95-f1e2e3cdbc5d",
   "metadata": {},
   "outputs": [],
   "source": [
    "lhs2c = lhs2b.subs({\n",
    "    E_dot_[i, k] * ξ1_[k] : E_dot_[i, j] * ξ1_[j],\n",
    "    E_dot_[i, l] * ξ1_[l] : E_dot_[i, j] * ξ1_[j],\n",
    "    E_dot_[i, k] * ξ2_[k] : E_dot_[i, j] * ξ2_[j],\n",
    "    E_dot_[i, l] * ξ2_[l] : E_dot_[i, j] * ξ2_[j],\n",
    "    E_ddot_[i, k] * ξ1_[k] : E_ddot_[i, j] * ξ1_[j],\n",
    "    E_ddot_[i, l] * ξ1_[l] : E_ddot_[i, j] * ξ1_[j],\n",
    "    E_[i, j, k] * ξ1_[j] * ξ2_[k]: E_[i, j, k] * ξ1_[k] * ξ2_[j],\n",
    "    E_[i, j, l] * ξ1_[j] * ξ2_[l]: E_[i, j, k] * ξ1_[k] * ξ2_[j],\n",
    "    E_[i, j, l] * ξ1_[l] * ξ2_[j]: E_[i, j, k] * ξ1_[k] * ξ2_[j],\n",
    "    E_[i, k, l] * ξ1_[k] * ξ2_[l]: E_[i, j, k] * ξ1_[k] * ξ2_[j],\n",
    "    E_[i, k, l] * ξ1_[l] * ξ2_[k]: E_[i, j, k] * ξ1_[k] * ξ2_[j],\n",
    "    E_dot_[i, j, l] * ξ1_[j] * ξ1_[l]: E_dot_[i, j, k] * ξ1_[j] * ξ1_[k],\n",
    "    E_dot_[i, k, l] * ξ1_[k] * ξ1_[l]: E_dot_[i, j, k] * ξ1_[j] * ξ1_[k],\n",
    "}).expand().subs(rules[\"λ⁽¹⁾\"])"
   ]
  },
  {
   "cell_type": "markdown",
   "id": "d948207e-ae2d-4ddf-b14f-2d4171b93c34",
   "metadata": {},
   "source": [
    "and Eq. (@eq-20230124205642) is finally retrieved. This bifurcation equation is implemented in the `lsk` module as the simplification rule: `rules[\"BifEq2\"]`."
   ]
  },
  {
   "cell_type": "code",
   "execution_count": 41,
   "id": "84b80a7d-cc2b-4a16-a1fa-63f2f59fc63f",
   "metadata": {},
   "outputs": [],
   "source": [
    "#| code-fold: true\n",
    "expected = (E_[i, j, k, l] * ξ1_[j] * ξ1_[k] * ξ1_[l] / 3\n",
    "            + λ1 * (E_dot_[i, j, k] * ξ1_[k] + λ1 * E_ddot_[i, j]) * ξ1_[j]\n",
    "            + (E_[i, j, k] * ξ1_[k] + λ1 * E_dot_[i, j]) * ξ2_[j]\n",
    "            + λ2 * E_dot_[i, j] * ξ1_[j])\n",
    "\n",
    "assert expand(2 * lhs2c - expected) == 0"
   ]
  },
  {
   "cell_type": "markdown",
   "id": "233b33de-ee14-4fd1-bbdd-91106ab17d0e",
   "metadata": {},
   "source": [
    "We now turn to $w$, which was defined in @sec-20230102030010 as an implicit function of $\\xi_1, \\ldots, \\xi_m$ and\n",
    "$\\lambda$. It is now defined as a function of the arc parameter $\\eta$ as follows: $w(n) = w[\\xi_1(\\eta), \\ldots, \\xi_m(\\eta), \\lambda(\\eta)]$.\n",
    "From the chain rule\n",
    "$$\n",
    "w'(\\eta) = \\frac{\\partial w}{\\partial \\xi_i} \\, \\xi_i' + \\frac{\\partial w}{\\partial \\lambda} \\, \\lambda'\n",
    "$$\n",
    "and\n",
    "$$\n",
    "w''(\\eta) = \\frac{\\partial^2 w}{\\partial \\xi_i \\, \\partial \\xi_j} \\, \\xi_i' \\, \\xi_j'\n",
    "+ 2\\frac{\\partial w}{\\partial \\xi_i \\, \\partial \\lambda} \\, \\xi_i' \\, \\lambda'\n",
    "+ \\frac{\\partial w}{\\partial \\xi_i} \\, \\xi_i''\n",
    "+ \\frac{\\partial^2 w}{\\partial \\lambda^2} \\, \\lambda^{'2}\n",
    "+ \\frac{\\partial w}{\\partial \\lambda} \\, \\lambda''.\n",
    "$$\n",
    "\n",
    "At $\\eta = 0$, the above identities reduce to\n",
    "$$\n",
    "w'(0) = 0\n",
    "\\quad \\text{and} \\quad\n",
    "w''(0) = \\order[1]{\\xi_i} \\, \\order[1]{\\xi_j} \\, w_{ij}  + 2 \\order[1]{\\lambda} \\, \\order[1]{\\xi_i} \\, w_{i\\lambda}\n",
    "$$\n",
    "\n",
    "We deduce from the above the Taylor expansion (@eq-20230528174310) of the bifurcated branch as $\\eta \\to 0$."
   ]
  }
 ],
 "metadata": {
  "kernelspec": {
   "display_name": "Python 3 (ipykernel)",
   "language": "python",
   "name": "python3"
  },
  "language_info": {
   "codemirror_mode": {
    "name": "ipython",
    "version": 3
   },
   "file_extension": ".py",
   "mimetype": "text/x-python",
   "name": "python",
   "nbconvert_exporter": "python",
   "pygments_lexer": "ipython3",
   "version": "3.10.6"
  },
  "toc-autonumbering": false,
  "toc-showtags": false
 },
 "nbformat": 4,
 "nbformat_minor": 5
}
