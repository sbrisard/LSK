{
 "cells": [
  {
   "cell_type": "markdown",
   "id": "8a04f073-c617-45bf-a085-81b6e47b8cac",
   "metadata": {},
   "source": [
    "# Asymptotic expansion of the energy"
   ]
  },
  {
   "cell_type": "markdown",
   "id": "b624a84a-498f-462c-a7a7-7fc41e6834ee",
   "metadata": {},
   "source": [
    "This notebook uses $\\LaTeX\\newcommand{\\D}{\\mathrm{d}}\\newcommand{\\E}{\\mathcal{E}}\\newcommand{\\order}[2][1]{#2^{(#1)}}\\newcommand{\\reals}{\\mathbb{R}}$ custom macros."
   ]
  },
  {
   "cell_type": "markdown",
   "id": "60aa1100-f5ad-4900-91f8-9e44d0db70fd",
   "metadata": {},
   "source": [
    "In this chapter, we seek an asymptotic expansion of the energy along the bifurcated branch. More precisely, the following quantity will be expanded at the critical point"
   ]
  },
  {
   "cell_type": "markdown",
   "id": "0cb3ae4c-92f6-4553-8f9d-ee3287dbee1f",
   "metadata": {},
   "source": [
    "$$\n",
    "\\Delta\\E(\\eta) = \\E[u(\\eta), \\lambda(\\eta)] - \\E[u^\\ast \\circ \\lambda(\\eta), \\lambda(\\eta)],\n",
    "$$"
   ]
  },
  {
   "cell_type": "markdown",
   "id": "9fe45c3f-91ef-419b-bd44-96dd6353e45c",
   "metadata": {},
   "source": [
    "where $\\eta$ is an arbitrary parametrization of the bifurcated branch ($\\eta = 0$ at the critical point)."
   ]
  },
  {
   "cell_type": "markdown",
   "id": "0fdd6d43-49df-49f2-a709-140db14ed5ff",
   "metadata": {},
   "source": [
    "The starting point is the asymptotic expansions of $\\lambda(\\eta)$ and $u(\\eta)$ obtained in @sec-20230102030224, which are reproduced below"
   ]
  },
  {
   "cell_type": "markdown",
   "id": "0bae3fb7-c46b-4e1c-a70a-45d8819d517c",
   "metadata": {},
   "source": [
    "$$\n",
    "\\lambda(\\eta) = \\order[1]{\\lambda} \\, \\eta + \\tfrac{1}{2} \\order[2]{\\lambda} \\, \\eta^2 + o(\\eta^2)\n",
    "$$"
   ]
  },
  {
   "cell_type": "markdown",
   "id": "413baf90-7a18-4330-b5a0-db4a6a8e7b33",
   "metadata": {},
   "source": [
    "and"
   ]
  },
  {
   "cell_type": "markdown",
   "id": "f0bcc2cc-757f-4431-a86b-6049ceab43a8",
   "metadata": {},
   "source": [
    "$$\n",
    "\\begin{aligned}[b]\n",
    "u(\\eta) ={}& u^\\ast[\\lambda(\\eta)] + \\eta \\, \\order[1]{\\xi_i} \\, v_i\\\\\n",
    "&+ \\tfrac{1}{2} \\eta^2 \\, \\bigl( \\order[2]{\\xi_i} \\, v_i\n",
    "+ \\order[1]{\\xi_i} \\, \\order[1]{\\xi_j} \\, w_{ij}  + 2\\order[1]{\\lambda} \\, \\order[1]{\\xi_i} \\, w_{i\\lambda} \\bigr) + o(\\eta^2).\n",
    "\\end{aligned}\n",
    "$$ {#eq-20230402141825}"
   ]
  },
  {
   "cell_type": "markdown",
   "id": "6bd30c30-e646-4f4c-8173-45aa210bc176",
   "metadata": {},
   "source": [
    "The asymptotic expansion of the energy results from plugging the above expansions into the general expression of the energy that was defined in @sec-20230402140105."
   ]
  },
  {
   "cell_type": "code",
   "execution_count": 1,
   "id": "db2575b5-31a5-4aff-b879-69f26e037041",
   "metadata": {},
   "outputs": [],
   "source": [
    "import json\n",
    "import lsk\n",
    "\n",
    "from sympy import *\n",
    "\n",
    "with open(\"setting-up_the_computational_stage.out.json\", \"r\") as f:\n",
    "    data = json.load(f)"
   ]
  },
  {
   "cell_type": "markdown",
   "id": "a1ed4efa-fa64-4a7a-bc8d-92e3761f4061",
   "metadata": {},
   "source": [
    "We first define the asymptotic expansion of $\\lambda$ w.r.t. the (unspecified) parameter $\\eta$."
   ]
  },
  {
   "cell_type": "code",
   "execution_count": 2,
   "id": "67a7a81f-e693-4edf-9ef6-23b35b3a35d9",
   "metadata": {},
   "outputs": [],
   "source": [
    "η, λ1, λ2, λ3, λ4 = symbols(r\"\\eta {\\order[1]{\\lambda}} {\\order[2]{\\lambda}} {\\order[3]{\\lambda}} {\\order[4]{\\lambda}}\")\n",
    "λ = λ1 * η + λ2 * η**2 / 2 + λ3 * η**3 / 6 + λ4 * η**4 / 24"
   ]
  },
  {
   "cell_type": "code",
   "execution_count": 3,
   "id": "96ee04a4-40f9-41ad-aaa8-b4d77f0dd892",
   "metadata": {},
   "outputs": [
    {
     "data": {
      "text/latex": [
       "$\\displaystyle \\lambda(\\eta)=\\frac{\\eta^{4} {\\order[4]{\\lambda}}}{24} + \\frac{\\eta^{3} {\\order[3]{\\lambda}}}{6} + \\frac{\\eta^{2} {\\order[2]{\\lambda}}}{2} + \\eta {\\order[1]{\\lambda}}$"
      ],
      "text/plain": [
       "<IPython.core.display.Math object>"
      ]
     },
     "metadata": {},
     "output_type": "display_data"
    }
   ],
   "source": [
    "#| code-fold: true\n",
    "lsk.display_latex_equation(r\"\\lambda(\\eta)\", λ)"
   ]
  },
  {
   "cell_type": "markdown",
   "id": "1ec2efba-2500-4d73-9d82-65a8bfe89386",
   "metadata": {},
   "source": [
    "::: {.callout-note}\n",
    "In the previous chapters, we have derived the asymptotic expansions of $\\lambda$, $u^\\ast$ and $u$ up to fourth-order in $\\eta$. It will be shown below that these expansion lead to an expansion of $\\Delta\\E$ up to **fourth-order** terms in $\\eta$.\n",
    "\n",
    "For the sake of consistency, expansions of $\\lambda$, $u^\\ast$ and $u$ will be postulated up to fourth-order: it will be finally checked that the fourth-order expansion of $\\Delta\\E$ refers only to: $\\order[1]{\\lambda}$, $\\order[2]{\\lambda}$, $w_{i\\lambda}$ and $w_{ij}$ (which are all known quantities).\n",
    ":::"
   ]
  },
  {
   "cell_type": "markdown",
   "id": "4c6e9419-189a-4485-9a01-cbcd748d978e",
   "metadata": {},
   "source": [
    "The fundamental branch $u^\\ast(\\lambda)$ was previously defined as an asymptotic expansion w.r.t. $\\lambda$."
   ]
  },
  {
   "cell_type": "code",
   "execution_count": 4,
   "id": "30e4d106-0efd-47d1-af9c-8e84bccbdc28",
   "metadata": {},
   "outputs": [],
   "source": [
    "u_star_of_λ = eval(data[\"u_star\"])"
   ]
  },
  {
   "cell_type": "code",
   "execution_count": 5,
   "id": "8aa88dbd-4664-4353-a4d6-dc6ba99491be",
   "metadata": {},
   "outputs": [
    {
     "data": {
      "text/latex": [
       "$\\displaystyle u^\\ast(\\lambda)=\\frac{\\ddddot{u}_0 \\lambda^{4}}{24} + \\frac{\\dddot{u}_0 \\lambda^{3}}{6} + \\frac{\\ddot{u}_0 \\lambda^{2}}{2} + \\dot{u}_0 \\lambda$"
      ],
      "text/plain": [
       "<IPython.core.display.Math object>"
      ]
     },
     "metadata": {},
     "output_type": "display_data"
    }
   ],
   "source": [
    "#| code-fold: true\n",
    "lsk.display_latex_equation(r\"u^\\ast(\\lambda)\", u_star_of_λ)"
   ]
  },
  {
   "cell_type": "markdown",
   "id": "7c54589a-8133-4740-bdf7-95d5868de413",
   "metadata": {},
   "source": [
    " We now define the fundamental branch as an asymptotic expansion w.r.t. $\\eta$, keeping only fourth-order terms."
   ]
  },
  {
   "cell_type": "code",
   "execution_count": 6,
   "id": "86527ca0-a9ac-4e53-a7e4-15ba15454e16",
   "metadata": {},
   "outputs": [],
   "source": [
    "u_star = u_star_of_λ.subs(Symbol(\"\\lambda\"), λ + O(η**5)).expand().removeO()"
   ]
  },
  {
   "cell_type": "code",
   "execution_count": 7,
   "id": "83cd1d8d-9b43-43ba-8162-37e4cb9e25b6",
   "metadata": {},
   "outputs": [
    {
     "data": {
      "text/latex": [
       "$\\displaystyle u^\\ast(\\eta)=\\frac{\\ddddot{u}_0 \\eta^{4} {\\order[1]{\\lambda}}^{4}}{24} + \\frac{\\dddot{u}_0 \\eta^{4} {\\order[1]{\\lambda}}^{2} {\\order[2]{\\lambda}}}{4} + \\frac{\\dddot{u}_0 \\eta^{3} {\\order[1]{\\lambda}}^{3}}{6} + \\frac{\\ddot{u}_0 \\eta^{4} {\\order[1]{\\lambda}} {\\order[3]{\\lambda}}}{6} + \\frac{\\ddot{u}_0 \\eta^{4} {\\order[2]{\\lambda}}^{2}}{8} + \\frac{\\ddot{u}_0 \\eta^{3} {\\order[1]{\\lambda}} {\\order[2]{\\lambda}}}{2} + \\frac{\\ddot{u}_0 \\eta^{2} {\\order[1]{\\lambda}}^{2}}{2} + \\frac{\\dot{u}_0 \\eta^{4} {\\order[4]{\\lambda}}}{24} + \\frac{\\dot{u}_0 \\eta^{3} {\\order[3]{\\lambda}}}{6} + \\frac{\\dot{u}_0 \\eta^{2} {\\order[2]{\\lambda}}}{2} + \\dot{u}_0 \\eta {\\order[1]{\\lambda}}$"
      ],
      "text/plain": [
       "<IPython.core.display.Math object>"
      ]
     },
     "metadata": {},
     "output_type": "display_data"
    }
   ],
   "source": [
    "#| code-fold: true\n",
    "lsk.display_latex_equation(r\"u^\\ast(\\eta)\", u_star)"
   ]
  },
  {
   "cell_type": "markdown",
   "id": "f93b5e81-d8f7-4b24-8211-6ba933e7285d",
   "metadata": {},
   "source": [
    "Similarly, we define the asymptotic expansion (@eq-20230402141825) of $u$; note that the quantities $\\order[3]{\\tilde{u}}$ and $\\order[4]{\\tilde{u}}$ are unknown (and will in fact disappear from the derivation). "
   ]
  },
  {
   "cell_type": "code",
   "execution_count": 8,
   "id": "6e837f19-1438-47c2-961d-8a680b618e66",
   "metadata": {},
   "outputs": [],
   "source": [
    "u = (u_star\n",
    "     + η * Symbol(r\"\\xi_i^{(1)}v_i\") \n",
    "     + η**2 / 2 * (Symbol(r\"\\xi_j^{(2)}v_j\")\n",
    "                   + Symbol(r\"\\xi_k^{(1)}\\xi_l^{(1)}w_{kl}\")\n",
    "                   + 2 * λ1 * Symbol(r\"\\xi_m^{(1)}w_{m\\lambda}\"))\n",
    "     + η**3 / 6 * Symbol(r\"{\\order[3]{\\tilde{u}}}\")\n",
    "     + η**4 / 24 * Symbol(r\"{\\order[4]{\\tilde{u}}}\")).expand()"
   ]
  },
  {
   "cell_type": "code",
   "execution_count": 9,
   "id": "415eb725-0af8-4db5-a4d3-29edbdd6a86a",
   "metadata": {},
   "outputs": [
    {
     "data": {
      "text/latex": [
       "$\\displaystyle u(\\eta)=\\frac{\\ddddot{u}_0 \\eta^{4} {\\order[1]{\\lambda}}^{4}}{24} + \\frac{\\dddot{u}_0 \\eta^{4} {\\order[1]{\\lambda}}^{2} {\\order[2]{\\lambda}}}{4} + \\frac{\\dddot{u}_0 \\eta^{3} {\\order[1]{\\lambda}}^{3}}{6} + \\frac{\\ddot{u}_0 \\eta^{4} {\\order[1]{\\lambda}} {\\order[3]{\\lambda}}}{6} + \\frac{\\ddot{u}_0 \\eta^{4} {\\order[2]{\\lambda}}^{2}}{8} + \\frac{\\ddot{u}_0 \\eta^{3} {\\order[1]{\\lambda}} {\\order[2]{\\lambda}}}{2} + \\frac{\\ddot{u}_0 \\eta^{2} {\\order[1]{\\lambda}}^{2}}{2} + \\frac{\\dot{u}_0 \\eta^{4} {\\order[4]{\\lambda}}}{24} + \\frac{\\dot{u}_0 \\eta^{3} {\\order[3]{\\lambda}}}{6} + \\frac{\\dot{u}_0 \\eta^{2} {\\order[2]{\\lambda}}}{2} + \\dot{u}_0 \\eta {\\order[1]{\\lambda}} + \\frac{\\eta^{4} {\\order[4]{\\tilde{u}}}}{24} + \\frac{\\eta^{3} {\\order[3]{\\tilde{u}}}}{6} + \\frac{\\eta^{2} \\xi_j^{(2)}v_j}{2} + \\frac{\\eta^{2} \\xi_k^{(1)}\\xi_l^{(1)}w_{kl}}{2} + \\eta^{2} \\xi_m^{(1)}w_{m\\lambda} {\\order[1]{\\lambda}} + \\eta \\xi_i^{(1)}v_i$"
      ],
      "text/plain": [
       "<IPython.core.display.Math object>"
      ]
     },
     "metadata": {},
     "output_type": "display_data"
    }
   ],
   "source": [
    "#| code-fold: true\n",
    "lsk.display_latex_equation(r\"u(\\eta)\", u)"
   ]
  },
  {
   "cell_type": "markdown",
   "id": "025e7664-b949-44b9-ad27-8092d6d56003",
   "metadata": {},
   "source": [
    "We then use these expansions to evaluate the energy along the fundamental and bifurcated branches. The general expression of the energy (see @sec-20230402140105) is first retrieved"
   ]
  },
  {
   "cell_type": "code",
   "execution_count": 10,
   "id": "04a34a5c-ad99-442c-9f44-815c425acf6f",
   "metadata": {},
   "outputs": [],
   "source": [
    "E_ = eval(data[\"E\"])"
   ]
  },
  {
   "cell_type": "code",
   "execution_count": 11,
   "id": "e1ea0709-185b-49cf-aac1-8103095a84b7",
   "metadata": {},
   "outputs": [
    {
     "data": {
      "text/latex": [
       "$\\displaystyle \\E(u ,\\lambda)=- \\frac{\\E_{2} \\dddot{u}_0 \\lambda^{3} u}{6} - \\frac{\\E_{2} \\ddot{u}_0 \\lambda^{2} u}{2} - \\E_{2} \\dot{u}_0 \\lambda u + \\frac{\\E_{2} u^{2}}{2} + \\frac{\\E_{3} \\ddot{u}_0 \\dot{u}_0 \\lambda^{3} u}{2} - \\frac{\\E_{3} \\ddot{u}_0 \\lambda^{2} u^{2}}{4} + \\frac{\\E_{3} \\dot{u}_0^{2} \\lambda^{2} u}{2} - \\frac{\\E_{3} \\dot{u}_0 \\lambda u^{2}}{2} + \\frac{\\E_{3} u^{3}}{6} - \\frac{\\E_{4} \\dot{u}_0^{3} \\lambda^{3} u}{6} + \\frac{\\E_{4} \\dot{u}_0^{2} \\lambda^{2} u^{2}}{4} - \\frac{\\E_{4} \\dot{u}_0 \\lambda u^{3}}{6} + \\frac{\\E_{4} u^{4}}{24} + \\frac{\\E_{\\lambda\\lambda\\lambda\\lambda} \\lambda^{4}}{24} + \\frac{\\E_{\\lambda\\lambda\\lambda} \\lambda^{3}}{6} + \\frac{\\E_{\\lambda\\lambda} \\lambda^{2}}{2} + \\E_{\\lambda} \\lambda - \\frac{\\ddot{\\E}_2 \\dot{u}_0 \\lambda^{3} u}{2} + \\frac{\\ddot{\\E}_2 \\lambda^{2} u^{2}}{4} - \\frac{\\ddot{u}_0 \\dot{\\E}_2 \\lambda^{3} u}{2} - \\dot{\\E}_2 \\dot{u}_0 \\lambda^{2} u + \\frac{\\dot{\\E}_2 \\lambda u^{2}}{2} + \\frac{\\dot{\\E}_3 \\dot{u}_0^{2} \\lambda^{3} u}{2} - \\frac{\\dot{\\E}_3 \\dot{u}_0 \\lambda^{2} u^{2}}{2} + \\frac{\\dot{\\E}_3 \\lambda u^{3}}{6}$"
      ],
      "text/plain": [
       "<IPython.core.display.Math object>"
      ]
     },
     "metadata": {},
     "output_type": "display_data"
    }
   ],
   "source": [
    "#| code-fold: true\n",
    "lsk.display_latex_equation(r\"\\E(u ,\\lambda)\", E_)"
   ]
  },
  {
   "cell_type": "markdown",
   "id": "2fe44074-d74b-4bcb-ba6a-d5904c1a3de8",
   "metadata": {},
   "source": [
    "The energy is evaluated along the **fundamental** branch"
   ]
  },
  {
   "cell_type": "code",
   "execution_count": 12,
   "id": "21d68aba-d1ba-484f-978e-07e89781539d",
   "metadata": {},
   "outputs": [],
   "source": [
    "E_star = (E_.subs({Symbol(\"\\lambda\"): λ,\n",
    "                   Symbol(\"u\"): u_star}).expand() + O(η**5)).removeO()"
   ]
  },
  {
   "cell_type": "code",
   "execution_count": 13,
   "id": "44bf4aba-52fc-4777-a18c-782afe814b43",
   "metadata": {},
   "outputs": [
    {
     "data": {
      "text/latex": [
       "$\\displaystyle \\E[u^\\ast \\circ \\lambda(\\eta), \\lambda(\\eta)]=- \\frac{\\E_{2} \\dddot{u}_0 \\dot{u}_0 \\eta^{4} {\\order[1]{\\lambda}}^{4}}{6} - \\frac{\\E_{2} \\ddot{u}_0^{2} \\eta^{4} {\\order[1]{\\lambda}}^{4}}{8} - \\frac{3 \\E_{2} \\ddot{u}_0 \\dot{u}_0 \\eta^{4} {\\order[1]{\\lambda}}^{2} {\\order[2]{\\lambda}}}{4} - \\frac{\\E_{2} \\ddot{u}_0 \\dot{u}_0 \\eta^{3} {\\order[1]{\\lambda}}^{3}}{2} - \\frac{\\E_{2} \\dot{u}_0^{2} \\eta^{4} {\\order[1]{\\lambda}} {\\order[3]{\\lambda}}}{6} - \\frac{\\E_{2} \\dot{u}_0^{2} \\eta^{4} {\\order[2]{\\lambda}}^{2}}{8} - \\frac{\\E_{2} \\dot{u}_0^{2} \\eta^{3} {\\order[1]{\\lambda}} {\\order[2]{\\lambda}}}{2} - \\frac{\\E_{2} \\dot{u}_0^{2} \\eta^{2} {\\order[1]{\\lambda}}^{2}}{2} + \\frac{\\E_{3} \\ddot{u}_0 \\dot{u}_0^{2} \\eta^{4} {\\order[1]{\\lambda}}^{4}}{4} + \\frac{\\E_{3} \\dot{u}_0^{3} \\eta^{4} {\\order[1]{\\lambda}}^{2} {\\order[2]{\\lambda}}}{4} + \\frac{\\E_{3} \\dot{u}_0^{3} \\eta^{3} {\\order[1]{\\lambda}}^{3}}{6} - \\frac{\\E_{4} \\dot{u}_0^{4} \\eta^{4} {\\order[1]{\\lambda}}^{4}}{24} + \\frac{\\E_{\\lambda\\lambda\\lambda\\lambda} \\eta^{4} {\\order[1]{\\lambda}}^{4}}{24} + \\frac{\\E_{\\lambda\\lambda\\lambda} \\eta^{4} {\\order[1]{\\lambda}}^{2} {\\order[2]{\\lambda}}}{4} + \\frac{\\E_{\\lambda\\lambda\\lambda} \\eta^{3} {\\order[1]{\\lambda}}^{3}}{6} + \\frac{\\E_{\\lambda\\lambda} \\eta^{4} {\\order[1]{\\lambda}} {\\order[3]{\\lambda}}}{6} + \\frac{\\E_{\\lambda\\lambda} \\eta^{4} {\\order[2]{\\lambda}}^{2}}{8} + \\frac{\\E_{\\lambda\\lambda} \\eta^{3} {\\order[1]{\\lambda}} {\\order[2]{\\lambda}}}{2} + \\frac{\\E_{\\lambda\\lambda} \\eta^{2} {\\order[1]{\\lambda}}^{2}}{2} + \\frac{\\E_{\\lambda} \\eta^{4} {\\order[4]{\\lambda}}}{24} + \\frac{\\E_{\\lambda} \\eta^{3} {\\order[3]{\\lambda}}}{6} + \\frac{\\E_{\\lambda} \\eta^{2} {\\order[2]{\\lambda}}}{2} + \\E_{\\lambda} \\eta {\\order[1]{\\lambda}} - \\frac{\\ddot{\\E}_2 \\dot{u}_0^{2} \\eta^{4} {\\order[1]{\\lambda}}^{4}}{4} - \\frac{\\ddot{u}_0 \\dot{\\E}_2 \\dot{u}_0 \\eta^{4} {\\order[1]{\\lambda}}^{4}}{2} - \\frac{3 \\dot{\\E}_2 \\dot{u}_0^{2} \\eta^{4} {\\order[1]{\\lambda}}^{2} {\\order[2]{\\lambda}}}{4} - \\frac{\\dot{\\E}_2 \\dot{u}_0^{2} \\eta^{3} {\\order[1]{\\lambda}}^{3}}{2} + \\frac{\\dot{\\E}_3 \\dot{u}_0^{3} \\eta^{4} {\\order[1]{\\lambda}}^{4}}{6}$"
      ],
      "text/plain": [
       "<IPython.core.display.Math object>"
      ]
     },
     "metadata": {},
     "output_type": "display_data"
    }
   ],
   "source": [
    "#| code-fold: true\n",
    "lsk.display_latex_equation(r\"\\E[u^\\ast \\circ \\lambda(\\eta), \\lambda(\\eta)]\", E_star)"
   ]
  },
  {
   "cell_type": "markdown",
   "id": "4ce34763-182e-4a8d-b2cd-f03c23c9b860",
   "metadata": {},
   "source": [
    "Similarly, the energy is evaluated along the **bifurcated** branch"
   ]
  },
  {
   "cell_type": "code",
   "execution_count": 14,
   "id": "e73a1690-13a4-43a7-8816-379db72253ee",
   "metadata": {},
   "outputs": [],
   "source": [
    "E = (E_.subs({Symbol(\"\\lambda\"): λ,\n",
    "              Symbol(\"u\"): u}).expand() + O(η**5)).removeO()"
   ]
  },
  {
   "cell_type": "code",
   "execution_count": 15,
   "id": "85bc04bd-25c3-47af-b9b7-017d98c37ef5",
   "metadata": {},
   "outputs": [
    {
     "data": {
      "text/latex": [
       "$\\displaystyle \\E[u(\\eta), \\lambda(\\eta)]=- \\frac{\\E_{2} \\dddot{u}_0 \\dot{u}_0 \\eta^{4} {\\order[1]{\\lambda}}^{4}}{6} - \\frac{\\E_{2} \\ddot{u}_0^{2} \\eta^{4} {\\order[1]{\\lambda}}^{4}}{8} - \\frac{3 \\E_{2} \\ddot{u}_0 \\dot{u}_0 \\eta^{4} {\\order[1]{\\lambda}}^{2} {\\order[2]{\\lambda}}}{4} - \\frac{\\E_{2} \\ddot{u}_0 \\dot{u}_0 \\eta^{3} {\\order[1]{\\lambda}}^{3}}{2} - \\frac{\\E_{2} \\dot{u}_0^{2} \\eta^{4} {\\order[1]{\\lambda}} {\\order[3]{\\lambda}}}{6} - \\frac{\\E_{2} \\dot{u}_0^{2} \\eta^{4} {\\order[2]{\\lambda}}^{2}}{8} - \\frac{\\E_{2} \\dot{u}_0^{2} \\eta^{3} {\\order[1]{\\lambda}} {\\order[2]{\\lambda}}}{2} - \\frac{\\E_{2} \\dot{u}_0^{2} \\eta^{2} {\\order[1]{\\lambda}}^{2}}{2} + \\frac{\\E_{2} \\eta^{4} \\xi_i^{(1)}v_i {\\order[3]{\\tilde{u}}}}{6} + \\frac{\\E_{2} \\eta^{4} \\left(\\xi_j^{(2)}v_j\\right)^{2}}{8} + \\frac{\\E_{2} \\eta^{4} \\xi_j^{(2)}v_j \\xi_k^{(1)}\\xi_l^{(1)}w_{kl}}{4} + \\frac{\\E_{2} \\eta^{4} \\xi_j^{(2)}v_j \\xi_m^{(1)}w_{m\\lambda} {\\order[1]{\\lambda}}}{2} + \\frac{\\E_{2} \\eta^{4} \\left(\\xi_k^{(1)}\\xi_l^{(1)}w_{kl}\\right)^{2}}{8} + \\frac{\\E_{2} \\eta^{4} \\xi_k^{(1)}\\xi_l^{(1)}w_{kl} \\xi_m^{(1)}w_{m\\lambda} {\\order[1]{\\lambda}}}{2} + \\frac{\\E_{2} \\eta^{4} \\left(\\xi_m^{(1)}w_{m\\lambda}\\right)^{2} {\\order[1]{\\lambda}}^{2}}{2} + \\frac{\\E_{2} \\eta^{3} \\xi_i^{(1)}v_i \\xi_j^{(2)}v_j}{2} + \\frac{\\E_{2} \\eta^{3} \\xi_i^{(1)}v_i \\xi_k^{(1)}\\xi_l^{(1)}w_{kl}}{2} + \\E_{2} \\eta^{3} \\xi_i^{(1)}v_i \\xi_m^{(1)}w_{m\\lambda} {\\order[1]{\\lambda}} + \\frac{\\E_{2} \\eta^{2} \\left(\\xi_i^{(1)}v_i\\right)^{2}}{2} + \\frac{\\E_{3} \\ddot{u}_0 \\dot{u}_0^{2} \\eta^{4} {\\order[1]{\\lambda}}^{4}}{4} + \\frac{\\E_{3} \\dot{u}_0^{3} \\eta^{4} {\\order[1]{\\lambda}}^{2} {\\order[2]{\\lambda}}}{4} + \\frac{\\E_{3} \\dot{u}_0^{3} \\eta^{3} {\\order[1]{\\lambda}}^{3}}{6} + \\frac{\\E_{3} \\eta^{4} \\left(\\xi_i^{(1)}v_i\\right)^{2} \\xi_j^{(2)}v_j}{4} + \\frac{\\E_{3} \\eta^{4} \\left(\\xi_i^{(1)}v_i\\right)^{2} \\xi_k^{(1)}\\xi_l^{(1)}w_{kl}}{4} + \\frac{\\E_{3} \\eta^{4} \\left(\\xi_i^{(1)}v_i\\right)^{2} \\xi_m^{(1)}w_{m\\lambda} {\\order[1]{\\lambda}}}{2} + \\frac{\\E_{3} \\eta^{3} \\left(\\xi_i^{(1)}v_i\\right)^{3}}{6} - \\frac{\\E_{4} \\dot{u}_0^{4} \\eta^{4} {\\order[1]{\\lambda}}^{4}}{24} + \\frac{\\E_{4} \\eta^{4} \\left(\\xi_i^{(1)}v_i\\right)^{4}}{24} + \\frac{\\E_{\\lambda\\lambda\\lambda\\lambda} \\eta^{4} {\\order[1]{\\lambda}}^{4}}{24} + \\frac{\\E_{\\lambda\\lambda\\lambda} \\eta^{4} {\\order[1]{\\lambda}}^{2} {\\order[2]{\\lambda}}}{4} + \\frac{\\E_{\\lambda\\lambda\\lambda} \\eta^{3} {\\order[1]{\\lambda}}^{3}}{6} + \\frac{\\E_{\\lambda\\lambda} \\eta^{4} {\\order[1]{\\lambda}} {\\order[3]{\\lambda}}}{6} + \\frac{\\E_{\\lambda\\lambda} \\eta^{4} {\\order[2]{\\lambda}}^{2}}{8} + \\frac{\\E_{\\lambda\\lambda} \\eta^{3} {\\order[1]{\\lambda}} {\\order[2]{\\lambda}}}{2} + \\frac{\\E_{\\lambda\\lambda} \\eta^{2} {\\order[1]{\\lambda}}^{2}}{2} + \\frac{\\E_{\\lambda} \\eta^{4} {\\order[4]{\\lambda}}}{24} + \\frac{\\E_{\\lambda} \\eta^{3} {\\order[3]{\\lambda}}}{6} + \\frac{\\E_{\\lambda} \\eta^{2} {\\order[2]{\\lambda}}}{2} + \\E_{\\lambda} \\eta {\\order[1]{\\lambda}} - \\frac{\\ddot{\\E}_2 \\dot{u}_0^{2} \\eta^{4} {\\order[1]{\\lambda}}^{4}}{4} + \\frac{\\ddot{\\E}_2 \\eta^{4} \\left(\\xi_i^{(1)}v_i\\right)^{2} {\\order[1]{\\lambda}}^{2}}{4} - \\frac{\\ddot{u}_0 \\dot{\\E}_2 \\dot{u}_0 \\eta^{4} {\\order[1]{\\lambda}}^{4}}{2} - \\frac{3 \\dot{\\E}_2 \\dot{u}_0^{2} \\eta^{4} {\\order[1]{\\lambda}}^{2} {\\order[2]{\\lambda}}}{4} - \\frac{\\dot{\\E}_2 \\dot{u}_0^{2} \\eta^{3} {\\order[1]{\\lambda}}^{3}}{2} + \\frac{\\dot{\\E}_2 \\eta^{4} \\left(\\xi_i^{(1)}v_i\\right)^{2} {\\order[2]{\\lambda}}}{4} + \\frac{\\dot{\\E}_2 \\eta^{4} \\xi_i^{(1)}v_i \\xi_j^{(2)}v_j {\\order[1]{\\lambda}}}{2} + \\frac{\\dot{\\E}_2 \\eta^{4} \\xi_i^{(1)}v_i \\xi_k^{(1)}\\xi_l^{(1)}w_{kl} {\\order[1]{\\lambda}}}{2} + \\dot{\\E}_2 \\eta^{4} \\xi_i^{(1)}v_i \\xi_m^{(1)}w_{m\\lambda} {\\order[1]{\\lambda}}^{2} + \\frac{\\dot{\\E}_2 \\eta^{3} \\left(\\xi_i^{(1)}v_i\\right)^{2} {\\order[1]{\\lambda}}}{2} + \\frac{\\dot{\\E}_3 \\dot{u}_0^{3} \\eta^{4} {\\order[1]{\\lambda}}^{4}}{6} + \\frac{\\dot{\\E}_3 \\eta^{4} \\left(\\xi_i^{(1)}v_i\\right)^{3} {\\order[1]{\\lambda}}}{6}$"
      ],
      "text/plain": [
       "<IPython.core.display.Math object>"
      ]
     },
     "metadata": {},
     "output_type": "display_data"
    }
   ],
   "source": [
    "#| code-fold: true\n",
    "lsk.display_latex_equation(r\"\\E[u(\\eta), \\lambda(\\eta)]\", E)"
   ]
  },
  {
   "cell_type": "markdown",
   "id": "e94019ce-14f9-49c1-bc30-f2bc8cf7dc0e",
   "metadata": {},
   "source": [
    "The difference is now evaluated."
   ]
  },
  {
   "cell_type": "code",
   "execution_count": 16,
   "id": "7ae99d31-428d-4a5f-868f-c501be13faca",
   "metadata": {},
   "outputs": [],
   "source": [
    "ΔE = E - E_star"
   ]
  },
  {
   "cell_type": "markdown",
   "id": "f93a7cae-ef68-4364-9dd9-00c7efb6fc10",
   "metadata": {},
   "source": [
    "The terms of order 0 and 1 in $\\eta$ are identically null:"
   ]
  },
  {
   "cell_type": "code",
   "execution_count": 17,
   "id": "001997f6-1067-42d4-bf9d-504c876cdbc1",
   "metadata": {},
   "outputs": [],
   "source": [
    "assert ΔE.coeff(η, 0) == 0\n",
    "assert ΔE.coeff(η, 1) == 0"
   ]
  },
  {
   "cell_type": "markdown",
   "id": "b4a61705-426f-4329-ab2a-42e5c2cb2fc9",
   "metadata": {},
   "source": [
    "The second-order term reads"
   ]
  },
  {
   "cell_type": "code",
   "execution_count": 18,
   "id": "39ba99f7-f8c0-4156-b72b-fa442bde3705",
   "metadata": {},
   "outputs": [],
   "source": [
    "ΔE2 = ΔE.coeff(η, 2)"
   ]
  },
  {
   "cell_type": "code",
   "execution_count": 19,
   "id": "8d70ee04-d95d-487a-a3a1-0a2d8f305fcc",
   "metadata": {},
   "outputs": [
    {
     "data": {
      "text/latex": [
       "$\\displaystyle \\order[2]{\\Delta\\E}=\\frac{\\E_{2} \\left(\\xi_i^{(1)}v_i\\right)^{2}}{2}$"
      ],
      "text/plain": [
       "<IPython.core.display.Math object>"
      ]
     },
     "metadata": {},
     "output_type": "display_data"
    }
   ],
   "source": [
    "#| code-fold: true\n",
    "lsk.display_latex_equation(r\"\\order[2]{\\Delta\\E}\", ΔE2)"
   ]
  },
  {
   "cell_type": "markdown",
   "id": "0af7875e-8b99-4243-a9ab-fdae5f0882d3",
   "metadata": {},
   "source": [
    "The above expression should be understood as $\\frac{1}{2} \\order[1]{\\xi}_i \\, \\order[1]{\\xi}_j \\, \\E_2(v_i, v_j)$, which vanishes since $v_i$ and $v_j$ belong to the kernel of $\\E_2$. We now turn to the third-order term"
   ]
  },
  {
   "cell_type": "code",
   "execution_count": 20,
   "id": "5c00f45f-705e-4ae2-9903-d588dc51c458",
   "metadata": {},
   "outputs": [],
   "source": [
    "ΔE3 = ΔE.coeff(η, 3)"
   ]
  },
  {
   "cell_type": "code",
   "execution_count": 21,
   "id": "f1784471-0250-486d-a856-71c3eb38a773",
   "metadata": {},
   "outputs": [
    {
     "data": {
      "text/latex": [
       "$\\displaystyle \\order[3]{\\Delta\\E}=\\frac{\\E_{2} \\xi_i^{(1)}v_i \\xi_j^{(2)}v_j}{2} + \\frac{\\E_{2} \\xi_i^{(1)}v_i \\xi_k^{(1)}\\xi_l^{(1)}w_{kl}}{2} + \\E_{2} \\xi_i^{(1)}v_i \\xi_m^{(1)}w_{m\\lambda} {\\order[1]{\\lambda}} + \\frac{\\E_{3} \\left(\\xi_i^{(1)}v_i\\right)^{3}}{6} + \\frac{\\dot{\\E}_2 \\left(\\xi_i^{(1)}v_i\\right)^{2} {\\order[1]{\\lambda}}}{2}$"
      ],
      "text/plain": [
       "<IPython.core.display.Math object>"
      ]
     },
     "metadata": {},
     "output_type": "display_data"
    }
   ],
   "source": [
    "#| code-fold: true\n",
    "lsk.display_latex_equation(r\"\\order[3]{\\Delta\\E}\", ΔE3)"
   ]
  },
  {
   "cell_type": "markdown",
   "id": "1c434197-2c08-4e68-b220-8d96410ad396",
   "metadata": {},
   "source": [
    "Observing that $\\E_2(v_i, \\bullet) = 0$ and using Eqs. (@eq-20230125062505), (@eq-20230125062510) and (@eq-20230125062336), the above expression reduces to"
   ]
  },
  {
   "cell_type": "markdown",
   "id": "2bff3d59-baa1-4c61-b4b3-2f0c52908554",
   "metadata": {},
   "source": [
    "$$\n",
    "\\begin{aligned}[b]\n",
    "\\order[3]{\\Delta\\E}\n",
    "&= \\tfrac{1}{6} \\, \\order[1]{\\xi}_i \\, \\order[1]{\\xi}_j \\, \\order[1]{\\xi}_k \\, \\E_3(v_i, v_j, v_k) + \\tfrac{1}{2} \\, \\order[1]{\\lambda} \\, \\order[1]{\\xi}_i \\, \\order[1]{\\xi}_j \\, \\dot{\\E}_2(v_i, v_j)\\\\\n",
    "&= \\tfrac{1}{6} \\, \\order[1]{\\xi}_i \\, \\order[1]{\\xi}_j \\, \\order[1]{\\xi}_k \\, E_{ijk} + \\tfrac{1}{2} \\, \\order[1]{\\lambda} \\, \\order[1]{\\xi}_i \\, \\order[1]{\\xi}_j \\, \\dot{E}_{ij}\\\\\n",
    "&= \\tfrac{1}{6} \\, \\order[1]{\\lambda} \\, \\order[1]{\\xi}_i \\, \\order[1]{\\xi}_j \\, \\dot{E}_{ij}.\n",
    "\\end{aligned}\n",
    "$$"
   ]
  },
  {
   "cell_type": "markdown",
   "id": "191037dc-c750-47bc-948b-a56d4b12418e",
   "metadata": {},
   "source": [
    "Finally, the fourth-order term is simplified."
   ]
  },
  {
   "cell_type": "code",
   "execution_count": 22,
   "id": "a04721fa-5585-4eba-81c5-7366d7b3f286",
   "metadata": {},
   "outputs": [],
   "source": [
    "ΔE4 = ΔE.coeff(η, 4)"
   ]
  },
  {
   "cell_type": "code",
   "execution_count": 23,
   "id": "747759f0-d45f-4062-a6e1-fdd89e660fcc",
   "metadata": {},
   "outputs": [
    {
     "data": {
      "text/latex": [
       "$\\displaystyle \\order[4]{\\Delta\\E}=\\frac{\\E_{2} \\xi_i^{(1)}v_i {\\order[3]{\\tilde{u}}}}{6} + \\frac{\\E_{2} \\left(\\xi_j^{(2)}v_j\\right)^{2}}{8} + \\frac{\\E_{2} \\xi_j^{(2)}v_j \\xi_k^{(1)}\\xi_l^{(1)}w_{kl}}{4} + \\frac{\\E_{2} \\xi_j^{(2)}v_j \\xi_m^{(1)}w_{m\\lambda} {\\order[1]{\\lambda}}}{2} + \\frac{\\E_{2} \\left(\\xi_k^{(1)}\\xi_l^{(1)}w_{kl}\\right)^{2}}{8} + \\frac{\\E_{2} \\xi_k^{(1)}\\xi_l^{(1)}w_{kl} \\xi_m^{(1)}w_{m\\lambda} {\\order[1]{\\lambda}}}{2} + \\frac{\\E_{2} \\left(\\xi_m^{(1)}w_{m\\lambda}\\right)^{2} {\\order[1]{\\lambda}}^{2}}{2} + \\frac{\\E_{3} \\left(\\xi_i^{(1)}v_i\\right)^{2} \\xi_j^{(2)}v_j}{4} + \\frac{\\E_{3} \\left(\\xi_i^{(1)}v_i\\right)^{2} \\xi_k^{(1)}\\xi_l^{(1)}w_{kl}}{4} + \\frac{\\E_{3} \\left(\\xi_i^{(1)}v_i\\right)^{2} \\xi_m^{(1)}w_{m\\lambda} {\\order[1]{\\lambda}}}{2} + \\frac{\\E_{4} \\left(\\xi_i^{(1)}v_i\\right)^{4}}{24} + \\frac{\\ddot{\\E}_2 \\left(\\xi_i^{(1)}v_i\\right)^{2} {\\order[1]{\\lambda}}^{2}}{4} + \\frac{\\dot{\\E}_2 \\left(\\xi_i^{(1)}v_i\\right)^{2} {\\order[2]{\\lambda}}}{4} + \\frac{\\dot{\\E}_2 \\xi_i^{(1)}v_i \\xi_j^{(2)}v_j {\\order[1]{\\lambda}}}{2} + \\frac{\\dot{\\E}_2 \\xi_i^{(1)}v_i \\xi_k^{(1)}\\xi_l^{(1)}w_{kl} {\\order[1]{\\lambda}}}{2} + \\dot{\\E}_2 \\xi_i^{(1)}v_i \\xi_m^{(1)}w_{m\\lambda} {\\order[1]{\\lambda}}^{2} + \\frac{\\dot{\\E}_3 \\left(\\xi_i^{(1)}v_i\\right)^{3} {\\order[1]{\\lambda}}}{6}$"
      ],
      "text/plain": [
       "<IPython.core.display.Math object>"
      ]
     },
     "metadata": {},
     "output_type": "display_data"
    }
   ],
   "source": [
    "#| code-fold: true\n",
    "lsk.display_latex_equation(r\"\\order[4]{\\Delta\\E}\", ΔE4)"
   ]
  },
  {
   "cell_type": "markdown",
   "id": "6d9101f4-df60-49b0-b7a2-7ca804126a66",
   "metadata": {},
   "source": [
    "Upon simplification of $\\E_2(v_i, \\bullet) = 0$, the above expression should be understood as follows"
   ]
  },
  {
   "cell_type": "markdown",
   "id": "bdcd5a6a-90b0-401a-b028-2df2fc70beb2",
   "metadata": {},
   "source": [
    "$$\n",
    "\\begin{aligned}[b]\n",
    "\\order[4]{\\Delta\\E} ={}& \\tfrac{1}{8} \\order[1]{\\xi}_i \\, \\order[1]{\\xi}_j \\, \\order[1]{\\xi}_k \\, \\order[1]{\\xi}_l \\, \\E_2(w_{ij}, w_{kl})\n",
    "+ \\tfrac{1}{2} \\order[1]{\\lambda} \\, \\order[1]{\\xi}_i \\, \\order[1]{\\xi}_j \\, \\order[1]{\\xi}_k  \\, \\E_2(w_{ij}, w_{k\\lambda})\\\\\n",
    "&+ \\tfrac{1}{2} \\bigl( \\order[1]{\\lambda} \\bigr)^2 \\, \\order[1]{\\xi}_i \\, \\order[1]{\\xi}_j \\, \\E_2(w_{i\\lambda}, w_{j\\lambda})\n",
    "+ \\tfrac{1}{4} \\order[1]{\\xi}_i \\, \\order[1]{\\xi}_j \\, \\order[2]{\\xi}_k \\, \\E_3(v_i, v_j, v_k)\\\\\n",
    "&+ \\tfrac{1}{4} \\order[1]{\\xi}_i \\, \\order[1]{\\xi}_j \\, \\order[1]{\\xi}_k \\, \\order[1]{\\xi}_l \\, \\E_3(v_i, v_j, w_{kl})\n",
    "+ \\tfrac{1}{2} \\order[1]{\\lambda} \\, \\order[1]{\\xi}_i \\, \\order[1]{\\xi}_j \\, \\order[1]{\\xi}_k  \\, \\E_3(v_i, v_j, w_{k\\lambda})\\\\\n",
    "&+ \\tfrac{1}{24} \\order[1]{\\xi}_i \\, \\order[1]{\\xi}_j \\, \\order[1]{\\xi}_k \\, \\order[1]{\\xi}_l \\, \\E_4(v_i, v_j, v_k, v_l)\n",
    "+ \\tfrac{1}{4} \\bigl( \\order[1]{\\lambda} \\bigr)^2 \\, \\order[1]{\\xi}_i \\, \\order[1]{\\xi}_j \\, \\ddot{\\E}_2(v_i, v_j)\\\\\n",
    "&+ \\tfrac{1}{4} \\order[2]{\\lambda} \\, \\order[1]{\\xi}_i \\, \\order[1]{\\xi}_j \\, \\dot{\\E}_2(v_i, v_j)\n",
    "+ \\tfrac{1}{2} \\order[1]{\\lambda} \\, \\order[1]{\\xi}_i \\, \\order[2]{\\xi}_j \\, \\dot{\\E}_2(v_i, v_j)\\\\\n",
    "&+ \\tfrac{1}{2} \\order[1]{\\lambda} \\, \\order[1]{\\xi}_i \\, \\order[1]{\\xi}_j \\, \\order[1]{\\xi}_k  \\, \\dot{E}_2(v_i, w_{jk})\n",
    "+ \\bigl( \\order[1]{\\lambda} \\bigr)^2 \\, \\order[1]{\\xi}_i \\, \\order[1]{\\xi}_j \\, \\dot{\\E}_2(v_i, w_{j\\lambda})\\\\\n",
    "&+ \\tfrac{1}{6} \\order[1]{\\lambda} \\, \\order[1]{\\xi}_i \\, \\order[1]{\\xi}_j \\, \\order[1]{\\xi}_k \\, \\dot{\\E}_3(v_i, v_j, v_k),\n",
    "\\end{aligned}\n",
    "$$ {#eq-20230402102020}"
   ]
  },
  {
   "cell_type": "markdown",
   "id": "529fec7d-90ae-467d-ad3f-725f1e2cbbb8",
   "metadata": {},
   "source": [
    "which simplifies (see proof in @sec-20230402101835)"
   ]
  },
  {
   "cell_type": "markdown",
   "id": "ef7902a0-f278-45f7-be42-6180c4dac7fa",
   "metadata": {},
   "source": [
    "$$\n",
    "\\begin{aligned}[b]\n",
    "\\order[4]{\\Delta\\E} ={} & \\tfrac{1}{24} \\bigl\\{ E_{ijkl} \\, \\order[1]{\\xi}_i \\, \\order[1]{\\xi}_j \\, \\order[1]{\\xi}_k \\, \\order[1]{\\xi}_l + 4\\order[1]{\\lambda} \\, \\dot{E}_{ijk} \\, \\order[1]{\\xi}_i \\, \\order[1]{\\xi}_j \\, \\order[1]{\\xi}_k\\\\\n",
    "&+ 6 \\bigl[ \\bigl( \\order[1]{\\lambda} \\bigr)^2 \\, \\ddot{E}_{ij} + \\order[2]{\\lambda} \\, \\dot{E}_{ij} \\bigr] \\, \\order[1]{\\xi}_i \\, \\order[1]{\\xi}_j \\bigr\\}.\n",
    "\\end{aligned}\n",
    "$$ {#eq-20230402101651}"
   ]
  },
  {
   "cell_type": "markdown",
   "id": "90c10728-dc74-4018-87f5-32d384452c91",
   "metadata": {},
   "source": [
    "To sum up, the following asymptotic expansion has been derived"
   ]
  },
  {
   "cell_type": "markdown",
   "id": "6f93cdf4-e2d2-488a-9c64-dad6187c6d74",
   "metadata": {},
   "source": [
    "$$\n",
    "\\begin{aligned}[b]\n",
    "\\E[u(\\eta), \\lambda(\\eta)] ={}& \\E[u^\\ast \\circ \\lambda(\\eta), \\lambda(\\eta)]\n",
    "+ \\tfrac{1}{6} \\eta^3 \\, \\order[1]{\\lambda} \\, \\order[1]{\\xi}_i \\, \\order[1]{\\xi}_j \\, \\dot{E}_{ij}\\\\\n",
    "&+ \\tfrac{1}{24} \\eta^4 \\, \\bigl\\{ E_{ijkl} \\, \\order[1]{\\xi}_i \\, \\order[1]{\\xi}_j \\, \\order[1]{\\xi}_k \\, \\order[1]{\\xi}_l + 4\\order[1]{\\lambda} \\, \\dot{E}_{ijk} \\, \\order[1]{\\xi}_i \\, \\order[1]{\\xi}_j \\, \\order[1]{\\xi}_k\\\\\n",
    "&+ 6 \\bigl[ \\bigl( \\order[1]{\\lambda} \\bigr)^2 \\, \\ddot{E}_{ij} + \\order[2]{\\lambda} \\, \\dot{E}_{ij} \\bigr] \\, \\order[1]{\\xi}_i \\, \\order[1]{\\xi}_j \\bigr\\}.\n",
    "\\end{aligned}\n",
    "$$"
   ]
  },
  {
   "cell_type": "markdown",
   "id": "ace2a316-4d4a-4ac7-b63c-f00757c83a1c",
   "metadata": {},
   "source": [
    "To close this chapter, we evaluate the Hessian of the energy along the bifurcated branch."
   ]
  },
  {
   "cell_type": "code",
   "execution_count": 24,
   "id": "2f0c721b-5f01-4bfa-b300-462129ff1ef0",
   "metadata": {},
   "outputs": [],
   "source": [
    "E_uu = (eval(data[\"E_uu\"]).subs({Symbol(\"\\lambda\"): λ, Symbol(\"u\"): u})  + O(η**3)).expand()"
   ]
  },
  {
   "cell_type": "code",
   "execution_count": 25,
   "id": "10e87188-fb44-4944-ad02-057ef1430261",
   "metadata": {},
   "outputs": [
    {
     "data": {
      "text/latex": [
       "$\\displaystyle \\dot{\\E}_3 \\eta^{2} \\xi_i^{(1)}v_i {\\order[1]{\\lambda}} + \\dot{\\E}_2 \\eta {\\order[1]{\\lambda}} + \\frac{\\dot{\\E}_2 \\eta^{2} {\\order[2]{\\lambda}}}{2} + \\frac{\\ddot{\\E}_2 \\eta^{2} {\\order[1]{\\lambda}}^{2}}{2} + \\frac{\\E_{4} \\eta^{2} \\left(\\xi_i^{(1)}v_i\\right)^{2}}{2} + \\E_{3} \\eta \\xi_i^{(1)}v_i + \\E_{3} \\eta^{2} \\xi_m^{(1)}w_{m\\lambda} {\\order[1]{\\lambda}} + \\frac{\\E_{3} \\eta^{2} \\xi_k^{(1)}\\xi_l^{(1)}w_{kl}}{2} + \\frac{\\E_{3} \\eta^{2} \\xi_j^{(2)}v_j}{2} + \\E_{2} + O\\left(\\eta^{3}\\right)$"
      ],
      "text/plain": [
       "\\dot{\\E}_3*\\eta**2*\\xi_i^{(1)}v_i*{\\order[1]{\\lambda}} + \\dot{\\E}_2*\\eta*{\\order[1]{\\lambda}} + \\dot{\\E}_2*\\eta**2*{\\order[2]{\\lambda}}/2 + \\ddot{\\E}_2*\\eta**2*{\\order[1]{\\lambda}}**2/2 + \\E_4*\\eta**2*\\xi_i^{(1)}v_i**2/2 + \\E_3*\\eta*\\xi_i^{(1)}v_i + \\E_3*\\eta**2*\\xi_m^{(1)}w_{m\\lambda}*{\\order[1]{\\lambda}} + \\E_3*\\eta**2*\\xi_k^{(1)}\\xi_l^{(1)}w_{kl}/2 + \\E_3*\\eta**2*\\xi_j^{(2)}v_j/2 + \\E_2 + O(\\eta**3)"
      ]
     },
     "execution_count": 25,
     "metadata": {},
     "output_type": "execute_result"
    }
   ],
   "source": [
    "E_uu"
   ]
  },
  {
   "cell_type": "code",
   "execution_count": 26,
   "id": "28cf39aa-1576-420b-9001-5169d9acb6d1",
   "metadata": {},
   "outputs": [
    {
     "data": {
      "text/latex": [
       "$\\displaystyle \\E_{,uu}[u(\\eta), \\lambda(\\eta)]=\\dot{\\E}_3 \\eta^{2} \\xi_i^{(1)}v_i {\\order[1]{\\lambda}} + \\dot{\\E}_2 \\eta {\\order[1]{\\lambda}} + \\frac{\\dot{\\E}_2 \\eta^{2} {\\order[2]{\\lambda}}}{2} + \\frac{\\ddot{\\E}_2 \\eta^{2} {\\order[1]{\\lambda}}^{2}}{2} + \\frac{\\E_{4} \\eta^{2} \\left(\\xi_i^{(1)}v_i\\right)^{2}}{2} + \\E_{3} \\eta \\xi_i^{(1)}v_i + \\E_{3} \\eta^{2} \\xi_m^{(1)}w_{m\\lambda} {\\order[1]{\\lambda}} + \\frac{\\E_{3} \\eta^{2} \\xi_k^{(1)}\\xi_l^{(1)}w_{kl}}{2} + \\frac{\\E_{3} \\eta^{2} \\xi_j^{(2)}v_j}{2} + \\E_{2} + O\\left(\\eta^{3}\\right)$"
      ],
      "text/plain": [
       "<IPython.core.display.Math object>"
      ]
     },
     "metadata": {},
     "output_type": "display_data"
    }
   ],
   "source": [
    "#| code-fold: true\n",
    "lsk.display_latex_equation(r\"\\E_{,uu}[u(\\eta), \\lambda(\\eta)]\", E_uu)"
   ]
  },
  {
   "cell_type": "markdown",
   "id": "94320791-0268-4d31-9f5d-b46524b92377",
   "metadata": {},
   "source": [
    "The above expression must be understood as follows"
   ]
  },
  {
   "cell_type": "markdown",
   "id": "c547d691-d92c-4d9e-9254-3aaaa0eda3db",
   "metadata": {},
   "source": [
    "$$\n",
    "\\begin{aligned}[b]\n",
    "\\E_{,uu}[u(\\eta), \\lambda(\\eta); \\bullet, \\bullet] ={} \n",
    "& \\E_2(\\bullet, \\bullet) + \\eta \\, \\bigl[ \\order[1]{\\xi}_i \\, \\E_3(v_i, \\bullet, \\bullet) + \\order[1]{\\lambda} \\, \\dot{\\E}_2(\\bullet, \\bullet) \\bigr]\\\\\n",
    "&+ \\tfrac{1}{2}\\eta^2 \\, \\bigl[ \\order[1]{\\xi}_i \\, \\order[1]{\\xi}_j \\, \\E_4(v_i, v_j, \\bullet, \\bullet)\n",
    "+ \\order[2]{\\xi}_i \\, \\E_3(v_i, \\bullet, \\bullet) \\\\\n",
    "&+ \\order[1]{\\xi}_i \\, \\order[1]{\\xi}_j \\, \\E_3(w_{ij}, \\bullet, \\bullet)\n",
    "+ 2\\order[1]{\\lambda} \\, \\order[1]{\\xi}_i \\, \\E_3(w_{i\\lambda}, \\bullet, \\bullet)\\\\\n",
    "&+ 2\\order[1]{\\lambda} \\, \\order[1]{\\xi}_i \\, \\dot{\\E}_3(v_i, \\bullet, \\bullet)\n",
    "+ (\\order[1]{\\lambda})^2 \\, \\ddot{\\E}_2(\\bullet, \\bullet) + \\order[2]{\\lambda} \\, \\dot{\\E}_2(\\bullet, \\bullet)\\bigr],\n",
    "\\end{aligned}\n",
    "$$"
   ]
  },
  {
   "cell_type": "markdown",
   "id": "44231374-7557-4714-8cbd-a0b577fcbf0e",
   "metadata": {},
   "source": [
    "or, equivalently"
   ]
  },
  {
   "cell_type": "markdown",
   "id": "087377f5-aa32-4fd5-8049-522c5bbdd64d",
   "metadata": {},
   "source": [
    "$$\n",
    "\\begin{aligned}[b]\n",
    "\\E_{,uu}[u(\\eta), \\lambda(\\eta); \\bullet, \\bullet] ={} \n",
    "& \\E_2(\\bullet, \\bullet) + \\eta \\, \\bigl[ \\E_3(\\order[1]{u}, \\bullet, \\bullet) + \\order[1]{\\lambda} \\, \\dot{\\E}_2(\\bullet, \\bullet) \\bigr]\\\\\n",
    "&+ \\tfrac{1}{2}\\eta^2 \\, \\bigl[ \\E_4(\\order[1]{u}, \\order[1]{u}, \\bullet, \\bullet)\n",
    "+ \\E_3(\\order[2]{u}, \\bullet, \\bullet) \\\\\n",
    "&+ 2\\order[1]{\\lambda} \\, \\dot{\\E}_3(\\order[1]{u}, \\bullet, \\bullet)\n",
    "+ (\\order[1]{\\lambda})^2 \\, \\ddot{\\E}_2(\\bullet, \\bullet) + \\order[2]{\\lambda} \\, \\dot{\\E}_2(\\bullet, \\bullet)\\bigr],\n",
    "\\end{aligned}\n",
    "$$ {#eq-20230517061452}"
   ]
  },
  {
   "cell_type": "markdown",
   "id": "edbecd85-2e66-4242-bc3a-dadb0453d116",
   "metadata": {},
   "source": [
    "where $\\order[1]{u}$ and $\\order[2]{u}$ have been defined in @sec-20230102030224, see Eq (@eq-20230411141319)."
   ]
  }
 ],
 "metadata": {
  "kernelspec": {
   "display_name": "Python 3 (ipykernel)",
   "language": "python",
   "name": "python3"
  },
  "language_info": {
   "codemirror_mode": {
    "name": "ipython",
    "version": 3
   },
   "file_extension": ".py",
   "mimetype": "text/x-python",
   "name": "python",
   "nbconvert_exporter": "python",
   "pygments_lexer": "ipython3",
   "version": "3.9.16"
  }
 },
 "nbformat": 4,
 "nbformat_minor": 5
}
