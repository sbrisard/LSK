{
 "cells": [
  {
   "cell_type": "code",
   "execution_count": null,
   "id": "bdeb78ed-5e1e-4302-8e3f-6b23ed8cc666",
   "metadata": {},
   "outputs": [],
   "source": [
    "#import sympy\n",
    "\n",
    "from sympy import Eq, solve, symbols"
   ]
  },
  {
   "cell_type": "code",
   "execution_count": null,
   "id": "1ce5601d-736c-44d8-8725-3df3ae45e4df",
   "metadata": {},
   "outputs": [],
   "source": [
    "λ, u = symbols(r\"\\lambda u\")"
   ]
  },
  {
   "cell_type": "code",
   "execution_count": null,
   "id": "62a1896e-ff4b-4ad5-b1b8-d2f19d3cbf04",
   "metadata": {},
   "outputs": [],
   "source": [
    "u_hat, v_hat, w_hat = symbols(r\"\\hat{u} \\hat{v} \\hat{w}\")"
   ]
  },
  {
   "cell_type": "code",
   "execution_count": null,
   "id": "2305eade-0d7a-477e-9e57-c132813236e9",
   "metadata": {},
   "outputs": [],
   "source": [
    "u1, u2, u3, u4 = symbols(r\"u_1 u_2 u_3 u_4\")\n",
    "u_star = λ * u1 + λ**2 * u2 / 2 + λ**3 * u3 / 6 + λ**4 * u4 / 24"
   ]
  },
  {
   "cell_type": "code",
   "execution_count": null,
   "id": "ef3d1de0-24e7-42da-aaac-defe8bc6d3c8",
   "metadata": {},
   "outputs": [],
   "source": [
    "E_λ = symbols(r\"E_\\lambda\")\n",
    "E2, E_uλ, E_λλ = symbols(r\"E_2 E_{u\\lambda} E_{\\lambda\\lambda}\")\n",
    "E3, E_uuλ, E_uλλ, E_λλλ = symbols(r\"E_3 E_{uu\\lambda} E_{u\\lambda\\lambda} E_{\\lambda\\lambda\\lambda}\")\n",
    "E4, E_uuuλ, E_uuλλ, E_uλλλ, E_λλλλ = symbols(r\"E_4 E_{uuu\\lambda} E_{uu\\lambda\\lambda}\"\n",
    "                                                 \" E_{u\\lambda\\lambda\\lambda} E_{\\lambda\\lambda\\lambda\\lambda}\")"
   ]
  },
  {
   "cell_type": "code",
   "execution_count": null,
   "id": "cd8fd3f2-82d2-47b4-b9ac-133c40b5f8a7",
   "metadata": {},
   "outputs": [],
   "source": [
    "E = (λ * E_λ \n",
    "     + (E2 * u**2 + 2 * λ * E_uλ * u + λ**2 * E_λλ) / 2 \n",
    "     + (E3 * u**3 + 3 * λ * E_uuλ * u**2 + 3 * λ**2  * E_uλλ * u + λ**3 * E_λλλ) / 6\n",
    "     + (E4 * u**4 + 4 * λ * E_uuuλ * u**3 + 6 * λ**2 * E_uuλλ * u**2 + 4 * λ**3 * E_uλλλ * u + λ**4 * E_λλλλ) / 24)\n",
    "E"
   ]
  },
  {
   "cell_type": "code",
   "execution_count": null,
   "id": "ad3d5130-5925-4cf4-8c7f-d904e0febd50",
   "metadata": {},
   "outputs": [],
   "source": [
    "R = (E.diff(u) * u_hat).expand()"
   ]
  },
  {
   "cell_type": "code",
   "execution_count": null,
   "id": "05076228-2f55-4673-b2c8-dd4f8aa8794c",
   "metadata": {},
   "outputs": [],
   "source": [
    "rules = dict()\n",
    "R1 = R.subs(u, u_star).expand()\n",
    "for k, x in enumerate([E_uλ, E_uλλ, E_uλλλ], start=1):\n",
    "    eq = R1.coeff(λ, k)\n",
    "    sol = solve(eq, x)[0]\n",
    "    rules[x] = sol\n",
    "    \n",
    "for k, v in rules.items():\n",
    "    display(Eq(k, v))"
   ]
  },
  {
   "cell_type": "code",
   "execution_count": null,
   "id": "204fd4bc-527b-4964-8075-51b844cea6f4",
   "metadata": {},
   "outputs": [],
   "source": [
    "E_dot_uu = symbols(\"\\dot{E}_{uu}\")"
   ]
  },
  {
   "cell_type": "code",
   "execution_count": null,
   "id": "ca315eec-4dea-4a9f-ab31-712ae2979631",
   "metadata": {},
   "outputs": [],
   "source": [
    "λ, u, v = symbols(r\"\\lambda u v\")\n",
    "\n",
    "u1, u2, u3, u4 = symbols(r\"u_1 u_2 u_3 u_4\")\n",
    "ξ, w_ξ, w_λ, w_ξξ, w_ξλ, w_λλ = symbols(r\"\\xi w_\\xi w_\\lambda w_{\\xi\\xi} w_{\\xi\\lambda} w_{\\lambda\\lambda}\")"
   ]
  },
  {
   "cell_type": "code",
   "execution_count": null,
   "id": "7299f858-06ce-4559-9f93-3acf49a60b4e",
   "metadata": {},
   "outputs": [],
   "source": [
    "res = (E.diff(u) * u_hat).expand()"
   ]
  },
  {
   "cell_type": "code",
   "execution_count": null,
   "id": "c2555824-1016-4283-acb6-054d334cc1e3",
   "metadata": {},
   "outputs": [],
   "source": [
    "res1 = res.subs(u, u_star).expand()"
   ]
  },
  {
   "cell_type": "code",
   "execution_count": null,
   "id": "41969c90-a9f7-4c4b-957f-15dff9f30028",
   "metadata": {},
   "outputs": [],
   "source": [
    "identities = {E_uuλ : E_dot_uu - E_uuu * u1}"
   ]
  },
  {
   "cell_type": "code",
   "execution_count": null,
   "id": "693b0b48-f6fa-4bc6-9e2f-3ec16e7ec202",
   "metadata": {},
   "outputs": [],
   "source": [
    "for order, symbol in [(1, E_uλ), (2, E_uλλ), (3, E_uλλλ)]:\n",
    "    eq = res1.coeff(λ, order)\n",
    "    sol = solve(eq, symbol)\n",
    "    identities[symbol] = sol[0]"
   ]
  },
  {
   "cell_type": "code",
   "execution_count": null,
   "id": "b528058b-455e-488a-875e-0e91f22f276b",
   "metadata": {},
   "outputs": [],
   "source": [
    "for key, value in identities.items():\n",
    "    display(Eq(key, value))"
   ]
  },
  {
   "cell_type": "code",
   "execution_count": null,
   "id": "ba60c305-b560-4bba-9603-0373e18598cd",
   "metadata": {},
   "outputs": [],
   "source": [
    "w = ξ * w_ξ + λ * w_λ + (ξ**2 * w_ξξ + 2 * ξ * λ * w_ξλ + λ**2 * w_λλ) / 2\n",
    "w"
   ]
  },
  {
   "cell_type": "code",
   "execution_count": null,
   "id": "592a3550-aefd-4116-b7d3-878b629bc997",
   "metadata": {},
   "outputs": [],
   "source": [
    "res2 = res.subs({u_hat: w_hat, u: u_star + ξ * v + w}).subs(identities).expand()"
   ]
  },
  {
   "cell_type": "code",
   "execution_count": null,
   "id": "58c84c2f-f545-4862-98d8-63cd275c7d51",
   "metadata": {},
   "outputs": [],
   "source": [
    "crit = {ξ: 0, λ: 0}\n",
    "\n",
    "display(Eq(res2.diff(ξ).subs(crit), 0))\n",
    "identities[w_ξ] = 0\n",
    "\n",
    "display(Eq(res2.diff(λ).subs(crit), 0))\n",
    "identities[w_λ] = 0\n",
    "\n",
    "display(Eq(res2.diff(λ, 2).subs(crit).subs(identities), 0))\n",
    "identities[w_λλ] = 0"
   ]
  },
  {
   "cell_type": "code",
   "execution_count": null,
   "id": "9f7c2661-3ed6-4db5-bbe9-a18030c3e3f3",
   "metadata": {},
   "outputs": [],
   "source": [
    "eq_w_ξξ = Eq(res2.diff(ξ, 2).subs({ξ: 0, λ: 0}), 0).subs(identities).expand()\n",
    "eq_w_ξλ = Eq(res2.diff(ξ, 1, λ, 1).subs({ξ: 0, λ: 0}), 0).subs(identities).expand()\n",
    "display(eq_w_ξξ)\n",
    "display(eq_w_ξλ)"
   ]
  },
  {
   "cell_type": "code",
   "execution_count": null,
   "id": "9a56bc97-c932-4ebc-adba-76518102badc",
   "metadata": {},
   "outputs": [],
   "source": [
    "ORDER = 4"
   ]
  },
  {
   "cell_type": "code",
   "execution_count": null,
   "id": "1150ecda-731b-426c-a1a8-83bad655488c",
   "metadata": {},
   "outputs": [],
   "source": [
    "λ_ξ, λ_ξξ = symbols(r\"\\lambda_\\xi \\lambda_{\\xi\\xi}\")\n",
    "\n",
    "expansions = dict()\n",
    "expansions[λ] = ξ * λ_ξ + ξ**2 * λ_ξξ / 2\n",
    "expansions[w] = (ξ**2 * w_ξξ / 2 + expansions[λ] * ξ * w_ξλ).series(ξ, 0, ORDER)\n",
    "expansions[u_star] = u_star.subs(λ, expansions[λ]).series(ξ, 0, ORDER)\n",
    "expansions[u] = expansions[u_star] + ξ * v + expansions[w]\n",
    "\n",
    "_res3 = res.subs({λ: expansions[λ], u: expansions[u]}).subs(identities).subs(u_hat, v_hat).series(ξ, 0, ORDER).removeO().ratsimp()"
   ]
  },
  {
   "cell_type": "code",
   "execution_count": null,
   "id": "2ee831d7-5edc-454b-8d2a-3276fb4888ed",
   "metadata": {},
   "outputs": [],
   "source": [
    "res3 = (_res3 - _res3.coeff(E_uu).coeff(v_hat) * E_uu * v_hat).expand()\n",
    "res3"
   ]
  },
  {
   "cell_type": "code",
   "execution_count": null,
   "id": "7e08c2db-782f-4f15-bceb-71f267fdf8d4",
   "metadata": {},
   "outputs": [],
   "source": [
    "res3.diff(ξ).subs(ξ, 0)"
   ]
  },
  {
   "cell_type": "code",
   "execution_count": null,
   "id": "2ab35344-5eba-4655-8c6c-d9cde2ea07b5",
   "metadata": {},
   "outputs": [],
   "source": [
    "res3.diff(ξ, 2).subs(ξ, 0)"
   ]
  },
  {
   "cell_type": "code",
   "execution_count": null,
   "id": "a9b79e9c-31c0-429a-9b1e-eeef2f60d7f8",
   "metadata": {},
   "outputs": [],
   "source": [
    "res3.diff(ξ, 3).subs(ξ, 0).subs(E_uuu, 0)"
   ]
  },
  {
   "cell_type": "code",
   "execution_count": null,
   "id": "ff0eeb8d-c789-4ff8-a8bc-8c9bb3793dc3",
   "metadata": {},
   "outputs": [],
   "source": []
  }
 ],
 "metadata": {
  "kernelspec": {
   "display_name": "Python 3 (ipykernel)",
   "language": "python",
   "name": "python3"
  },
  "language_info": {
   "codemirror_mode": {
    "name": "ipython",
    "version": 3
   },
   "file_extension": ".py",
   "mimetype": "text/x-python",
   "name": "python",
   "nbconvert_exporter": "python",
   "pygments_lexer": "ipython3",
   "version": "3.8.15"
  }
 },
 "nbformat": 4,
 "nbformat_minor": 5
}
