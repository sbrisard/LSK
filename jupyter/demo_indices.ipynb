{
 "cells": [
  {
   "cell_type": "code",
   "execution_count": null,
   "id": "8febf0c8-30b7-45b7-9c8a-caddc0e22ffe",
   "metadata": {},
   "outputs": [],
   "source": [
    "import sympy\n",
    "\n",
    "from sympy.tensor.tensor import TensorIndexType, TensorIndex, TensorHead, tensor_indices\n",
    "from sympy.tensor.toperators import PartialDerivative"
   ]
  },
  {
   "cell_type": "code",
   "execution_count": null,
   "id": "64459a60-f268-4e97-a7e1-e3f7d0391647",
   "metadata": {},
   "outputs": [],
   "source": [
    "Indices = TensorIndexType(\"Indices\", \"a\")"
   ]
  },
  {
   "cell_type": "code",
   "execution_count": null,
   "id": "efc7a0e8-1212-4125-8d2f-228e5a04d6f2",
   "metadata": {},
   "outputs": [],
   "source": [
    "v = TensorHead(\"v\", [Indices])\n",
    "ξ = TensorHead(r\"\\xi\", [Indices])"
   ]
  },
  {
   "cell_type": "code",
   "execution_count": null,
   "id": "41be38bb-e86a-478b-8fde-a8e6bb61f6ec",
   "metadata": {},
   "outputs": [],
   "source": [
    "i, j, k = tensor_indices(\"i j k\", Indices)"
   ]
  },
  {
   "cell_type": "code",
   "execution_count": null,
   "id": "8591e16b-16ef-4a57-b4a5-11d4792cdb7d",
   "metadata": {},
   "outputs": [],
   "source": [
    "expr = ξ(i) * v(-i)"
   ]
  },
  {
   "cell_type": "code",
   "execution_count": null,
   "id": "a6a40689-bbf9-4ad3-9279-d00adb778a6e",
   "metadata": {},
   "outputs": [],
   "source": [
    "expr"
   ]
  },
  {
   "cell_type": "code",
   "execution_count": null,
   "id": "9c63f154-3189-48e1-979d-c3b3a5eb514b",
   "metadata": {},
   "outputs": [],
   "source": [
    "expr * expr"
   ]
  },
  {
   "cell_type": "code",
   "execution_count": null,
   "id": "c287b793-da9a-47e8-aa42-2d38d77b0546",
   "metadata": {},
   "outputs": [],
   "source": [
    "expr2 = PartialDerivative(expr, ξ(j)).doit()"
   ]
  },
  {
   "cell_type": "code",
   "execution_count": null,
   "id": "2d68dcc8-ad1c-4586-a8de-9623aeeb5624",
   "metadata": {},
   "outputs": [],
   "source": [
    "expr2"
   ]
  },
  {
   "cell_type": "code",
   "execution_count": null,
   "id": "8f915e8c-5aef-49cd-bf67-95d0bf20320d",
   "metadata": {},
   "outputs": [],
   "source": [
    "expr2.get_indices()"
   ]
  },
  {
   "cell_type": "code",
   "execution_count": null,
   "id": "9b679a4a-5f41-4be3-b4fa-59f23251e57c",
   "metadata": {},
   "outputs": [],
   "source": [
    "expr = ξ(i) * ξ(j)"
   ]
  },
  {
   "cell_type": "code",
   "execution_count": null,
   "id": "0b55490a-663b-40da-8cfd-c7b640a89adb",
   "metadata": {},
   "outputs": [],
   "source": [
    "expr.get_free_indices()"
   ]
  },
  {
   "cell_type": "code",
   "execution_count": null,
   "id": "117509bd-2f57-49a1-9091-9fbd5bb7fd01",
   "metadata": {},
   "outputs": [],
   "source": [
    "expr = ξ * ξ"
   ]
  }
 ],
 "metadata": {
  "kernelspec": {
   "display_name": "Python 3 (ipykernel)",
   "language": "python",
   "name": "python3"
  },
  "language_info": {
   "codemirror_mode": {
    "name": "ipython",
    "version": 3
   },
   "file_extension": ".py",
   "mimetype": "text/x-python",
   "name": "python",
   "nbconvert_exporter": "python",
   "pygments_lexer": "ipython3",
   "version": "3.8.13"
  }
 },
 "nbformat": 4,
 "nbformat_minor": 5
}
