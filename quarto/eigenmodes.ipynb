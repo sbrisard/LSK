{
 "cells": [
  {
   "cell_type": "markdown",
   "id": "64fe838f-d0c2-4d4b-9917-9fe83e81b375",
   "metadata": {},
   "source": [
    "# Eigenmodes of the hessian of the energy {#sec-20230528190001}"
   ]
  },
  {
   "cell_type": "markdown",
   "id": "8b67e4f4-3c30-4de5-a902-e55eb27199fc",
   "metadata": {},
   "source": [
    "This notebook uses $\\LaTeX\\newcommand{\\D}{\\mathrm{d}}\\newcommand{\\E}{\\mathcal{E}}\\newcommand{\\order}[2][1]{#2^{(#1)}}\\newcommand{\\reals}{\\mathbb{R}}$ custom macros."
   ]
  },
  {
   "cell_type": "markdown",
   "id": "cc6de7f9-0934-45cf-9b0a-7f4a5ef45dad",
   "metadata": {},
   "source": [
    "In this chapter, the eigenvalues $\\alpha$ and eigenvectors $x$ of the hessian are expanded to second order in $\\eta$"
   ]
  },
  {
   "cell_type": "markdown",
   "id": "7fe81abc-5967-4d5c-abca-3bc1bd5bd9d9",
   "metadata": {},
   "source": [
    "$$\n",
    "\\alpha = \\order[0]{\\alpha} + \\eta \\, \\order[1]{\\alpha} + \\tfrac{1}{2}\\eta^2 \\, \\order[2]{\\alpha} + o(\\eta^2)\n",
    "$$"
   ]
  },
  {
   "cell_type": "markdown",
   "id": "55294656-4d3e-4664-a884-216a59907322",
   "metadata": {},
   "source": [
    "and"
   ]
  },
  {
   "cell_type": "markdown",
   "id": "2af1a46c-96d2-4d1c-8acf-3f9fb07e0fef",
   "metadata": {},
   "source": [
    "$$\n",
    "x = \\order[0]{x} + \\eta \\, \\order[1]{x} + \\tfrac{1}{2}\\eta^2 \\, \\order[2]{x} + o(\\eta^2).\n",
    "$$"
   ]
  },
  {
   "cell_type": "markdown",
   "id": "7d29e4d3-4b41-48c4-a90b-72faee833994",
   "metadata": {},
   "source": [
    "It will be shown that the potentially unstable eigenmodes are necessarily such that $\\order[0]{\\alpha} = 0$. In that case,"
   ]
  },
  {
   "cell_type": "markdown",
   "id": "1e00bad9-0a55-47f6-bc55-57fc51508dbd",
   "metadata": {},
   "source": [
    "$$\n",
    "\\order[0]{x} = \\order[0]{\\chi}_j \\, v_j\n",
    "$$"
   ]
  },
  {
   "cell_type": "markdown",
   "id": "c45948f0-6036-4531-9490-44afe811f4b5",
   "metadata": {},
   "source": [
    "and"
   ]
  },
  {
   "cell_type": "markdown",
   "id": "97dd3521-0176-4876-93ab-4991b09406c5",
   "metadata": {},
   "source": [
    "$$\n",
    "\\order[1]{x} = \\order[1]{\\chi}_j \\, v_j + \\order[1]{\\lambda} \\, \\order[0]{\\chi}_j \\, w_{j\\lambda} + \\order[0]{\\chi}_j \\, \\order[1]{\\xi}_k \\, w_{jk}\n",
    "$$"
   ]
  },
  {
   "cell_type": "markdown",
   "id": "5d0693ac-cef4-4892-810f-0acfcf6d8738",
   "metadata": {},
   "source": [
    "where the coefficients $\\order[1]{\\alpha}$, $\\order[2]{\\alpha}$, $\\order[0]{\\chi}_i$ and $\\order[1]{\\chi}_i$ solve the following equations"
   ]
  },
  {
   "cell_type": "markdown",
   "id": "fdf147ee-04d9-4bd3-b8c2-c34a3e062e3c",
   "metadata": {},
   "source": [
    "$$\n",
    "\\bigl( E_{ijk} \\, \\order[1]{\\xi_k} + \\order[1]\\lambda \\, \\dot{E}_{ij} \\bigr) \\, \\order[0]{\\chi_j} = \\order[1]\\alpha \\, \\order[0]{\\chi_i},\n",
    "$$ {#eq-20230524065341}"
   ]
  },
  {
   "cell_type": "markdown",
   "id": "ef220a99-1f3d-43a1-9bf5-879713d3ef39",
   "metadata": {},
   "source": [
    "and"
   ]
  },
  {
   "cell_type": "markdown",
   "id": "e7067949-075b-48ab-abb2-fb759978e04c",
   "metadata": {},
   "source": [
    "$$\n",
    "\\begin{aligned}\n",
    "\\bigl[ E_{ijkl} \\, \\order[1]{\\xi}_k \\, \\order[1]{\\xi}_l + \\order[1]{\\lambda} \\, \\bigl( 2\\dot{E}_{ijk} \\, \\order[1]{\\xi}_k + \\order[1]{\\lambda} \\, \\ddot{E}_{ij} \\bigr)+ E_{ijk} \\, \\order[2]{\\xi}_k &\\\\\n",
    "+ \\order[2]{\\lambda} \\, \\dot{E}_{ij} \\bigr] \\order[0]{\\chi}_j\n",
    "+ 2\\bigl( E_{ijk} \\, \\order[1]{\\xi}_k + \\order[1]{\\lambda} \\, \\dot{E}_{ij} \\bigr) \\, \\order[1]{\\chi}_j &= 2 \\order[1]{\\alpha} \\, \\order[1]{\\chi}_i + \\order[2]{\\alpha} \\, \\order[0]{\\chi}_i.\n",
    "\\end{aligned}\n",
    "$$ {#eq-20230524065110}"
   ]
  },
  {
   "cell_type": "code",
   "execution_count": 1,
   "id": "bdbf01ad-9f2a-44d2-ac35-a2ce1c51a8b3",
   "metadata": {},
   "outputs": [],
   "source": [
    "#| code-fold: true\n",
    "\n",
    "import lsk\n",
    "from sympy import *\n",
    "\n",
    "def symbol(label, index=None, order=None):\n",
    "    if index is not None:\n",
    "        label = \"{\" + label + \"_{\" + str(index) + \"}}\"\n",
    "    else:\n",
    "        label = \"{\" + label + \"}\"\n",
    "    if order is None:\n",
    "        return Symbol(label)\n",
    "    else:\n",
    "        return Symbol(r\"{\\order[\" + str(order) + \"]\" + label + \"}\")\n",
    "\n",
    "η, u_hat = symbols(r\"\\eta \\hat{u}\")\n",
    "\n",
    "E2, E2_dot, E2_ddot = symbols(r\"\\E_2 \\dot{\\E}_2 \\ddot{\\E}_2\")\n",
    "E3, E3_dot = symbols(r\"\\E_3 \\dot{\\E}_3\")\n",
    "E4 = Symbol(r\"\\E_4\")\n",
    "\n",
    "E_dot_ij, E_ddot_ij = symbols(r\"\\dot{E}_{ij} \\ddot{E}_{ij}\")\n",
    "E_ijk, E_dot_ijk = symbols(\"E_{ijk} \\dot{E}_{ijk}\")\n",
    "E_ijkl = Symbol(\"E_{ijkl}\")\n",
    "\n",
    "λ1, λ2 = [symbol(r\"\\lambda\", order=k) for k in [1, 2]]\n",
    "α1, α2 = [symbol(r\"\\alpha\", order=k) for k in [1, 2]]\n",
    "y1, y2 = [symbol(\"y\", order=k) for k in [1, 2]]\n",
    "\n",
    "indices = [\"i\", \"j\", \"k\", \"l\"]\n",
    "v_i, v_j, v_k, v_l = [symbol(\"v\", i) for i in indices]\n",
    "ξ1_i, ξ1_j, ξ1_k, ξ1_l = [symbol(r\"\\xi\", index=i, order=1) for i in indices]\n",
    "ξ2_i, ξ2_j, ξ2_k, ξ2_l = [symbol(r\"\\xi\", index=i, order=2) for i in indices]\n",
    "χ0_i, χ0_j, χ0_k, χ0_l = [symbol(r\"\\chi\", index=i, order=0) for i in indices]\n",
    "χ1_i, χ1_j, χ1_k, χ1_l = [symbol(r\"\\chi\", index=i, order=1) for i in indices]\n",
    "χ2_i, χ2_j, χ2_k, χ2_l = [symbol(r\"\\chi\", index=i, order=2) for i in indices]\n",
    "\n",
    "w_iλ, w_jλ, w_kλ, w_lλ = [symbol(\"w\", index=iλ) for iλ in [r\"i\\lambda\", r\"j\\lambda\", r\"k\\lambda\", r\"l\\lambda\"]]\n",
    "w_ij, w_ik, w_il, w_jk, w_jl, w_kl = [symbol(\"w\", ij) for ij in [\"ij\", \"ik\", \"il\", \"jk\", \"jl\", \"kl\"]] "
   ]
  },
  {
   "cell_type": "markdown",
   "id": "82c6202d-8077-4dd0-b57d-174b7112cabc",
   "metadata": {},
   "source": [
    "In view of stability analysis, we consider in this chapter the hessian of the energy along the bifurcated branch. We derive an asymptotic expansion of its eigenmodes. The eigenvalues $\\alpha \\in \\reals$ and eigenvectors $x \\in U$ of the hessian are such that\n",
    "$$\n",
    "\\E_{, u u} [u(\\eta), \\lambda(\\eta); x, \\hat{u}] = \\alpha \\, \\langle x, \\hat{u} \\rangle \\quad \\text{for all} \\quad \\hat{u} \\in U,\n",
    "$$ {#eq-20230517062340}\n",
    "where $\\eta \\mapsto \\lambda(\\eta)$ and $\\eta \\mapsto u(\\eta)$ define the bifurcated branch ($\\eta$: parameter, yet unspecified). We focus in this chapter on potentially unstable eigenmodes, for which the eigenvalue $\\alpha$ might be negative in the vicinity of $\\eta = 0$."
   ]
  },
  {
   "cell_type": "markdown",
   "id": "e0be6311-33c6-4906-b7c6-a17e0d43177d",
   "metadata": {},
   "source": [
    "In @sec-20230102153124 and in @sec-20230523130742, the following asymptotic expansions of $\\lambda(\\eta)$, $u(\\eta)$ and $\\E_{,uu}[u(\\eta), \\lambda(\\eta); \\bullet, \\bullet]$ were derived"
   ]
  },
  {
   "cell_type": "code",
   "execution_count": 2,
   "id": "6f00e695-6711-4e7d-8558-39b048c51f5b",
   "metadata": {},
   "outputs": [
    {
     "data": {
      "text/latex": [
       "$\\displaystyle \\begin{align}\\lambda&=\\frac{\\eta^{2} {\\order[2]{\\lambda}}}{2} + \\eta {\\order[1]{\\lambda}}\\\\\\order[1]{u}&={\\order[1]{\\xi_{k}}} {v_{k}}\\\\\\order[2]{u}&=2 {\\order[1]{\\lambda}} {\\order[1]{\\xi_{k}}} {w_{k\\lambda}} + {\\order[1]{\\xi_{k}}} {\\order[1]{\\xi_{l}}} {w_{kl}} + {\\order[2]{\\xi_{k}}} {v_{k}}\\\\\\E_{,uu}&=\\E_{2} + \\E_{3} \\eta^{2} {\\order[1]{\\lambda}} {\\order[1]{\\xi_{k}}} {w_{k\\lambda}} + \\frac{\\E_{3} \\eta^{2} {\\order[1]{\\xi_{k}}} {\\order[1]{\\xi_{l}}} {w_{kl}}}{2} + \\frac{\\E_{3} \\eta^{2} {\\order[2]{\\xi_{k}}} {v_{k}}}{2} + \\E_{3} \\eta {\\order[1]{\\xi_{k}}} {v_{k}} + \\frac{\\E_{4} \\eta^{2} {\\order[1]{\\xi_{k}}} {\\order[1]{\\xi_{l}}} {v_{k}} {v_{l}}}{2} + \\frac{\\ddot{\\E}_2 \\eta^{2} {\\order[1]{\\lambda}}^{2}}{2} + \\frac{\\dot{\\E}_2 \\eta^{2} {\\order[2]{\\lambda}}}{2} + \\dot{\\E}_2 \\eta {\\order[1]{\\lambda}} + \\dot{\\E}_3 \\eta^{2} {\\order[1]{\\lambda}} {\\order[1]{\\xi_{k}}} {v_{k}}\\\\\\end{align}$"
      ],
      "text/plain": [
       "<IPython.core.display.Math object>"
      ]
     },
     "metadata": {},
     "output_type": "display_data"
    }
   ],
   "source": [
    "#| code-fold: true\n",
    "\n",
    "u1 = ξ1_k * v_k\n",
    "u1_ = ξ1_l * v_l # Will be necessary below to avoid index clashes in E4 * u1 * u1\n",
    "u2 = ξ2_k * v_k + ξ1_k * ξ1_l * w_kl + 2 * λ1 * ξ1_k * w_kλ\n",
    "\n",
    "λ = η * λ1 + η ** 2 / 2 * λ2\n",
    "u = η * u1 + η ** 2 / 2 * u2\n",
    "\n",
    "E_uu0 = E2\n",
    "E_uu1 = E3 * u1 + λ1 * E2_dot\n",
    "E_uu2 = (E4 * u1 * u1_ + E3 * u2 + 2 * λ1 * E3_dot * u1 + λ1 ** 2 * E2_ddot + λ2 * E2_dot)\n",
    "E_uu = E_uu0 + η * E_uu1 + η**2 / 2 * E_uu2\n",
    "lsk.display_latex_dict({r\"\\lambda\": λ,\n",
    "                        r\"\\order[1]{u}\": u1,\n",
    "                        r\"\\order[2]{u}\": u2,\n",
    "                        r\"\\E_{,uu}\": E_uu.expand()}, num_cols=1)"
   ]
  },
  {
   "cell_type": "markdown",
   "id": "8e1fbaf6-1fb1-4cd7-9944-fa62981a61d4",
   "metadata": {},
   "source": [
    "The eigenvalues and eigenvectors are expanded to second order in $\\eta$\n",
    "$$\n",
    "\\alpha = \\order[0]\\alpha + \\eta \\, \\order[1]\\alpha + \\tfrac{1}{2} \\eta^2 \\, \\order[2]\\alpha + o(\\eta^2)\n",
    "$$\n",
    "and\n",
    "$$\n",
    "x = \\order[0]x + \\eta \\, \\order[1]x + \\tfrac{1}{2} \\eta^2 \\, \\order[2]x + o(\\eta^2).\n",
    "$$\n",
    "\n",
    "Plugging these expansions into Eq. (@eq-20230517062340) delivers 3 variational problems (of order 0, 1 and 2 in $\\eta$). These variational problems are studied below successively."
   ]
  },
  {
   "cell_type": "markdown",
   "id": "4e8d49cd-3236-4351-a6ba-f5ac38b5494d",
   "metadata": {
    "tags": []
   },
   "source": [
    "## Variational problem of order 0\n",
    "\n",
    "The lowest-order problem reads: find $\\order[0]x \\in U$ and $\\order[0]\\alpha\\in\\reals$ such that, for all $\\hat{u} \\in U$\n",
    "$$\n",
    "\\E_2(\\order[0]x, \\hat{u}) = \\order[0]\\alpha \\langle \\order[0]x, \\hat{u} \\rangle.\n",
    "$$\n",
    "\n",
    "The above equation shows that $(\\order[0]\\alpha, \\order[0]x)$ is an eigenpair of $\\E_2$. Since $\\E_2$ is positive, $\\order[0]\\alpha \\geq 0$. If $\\order[0]\\alpha > 0$, then $\\alpha > 0$ in the neighborhood of $\\lambda_0$, and the eigenmode is stable. Potentially unstable modes are therefore such that\n",
    "$\\order[0]\\alpha=0$. In other words, the lowest-order $\\order[0]x$ belongs to $V$ and can be expressed as a linear combination of the $v_i$"
   ]
  },
  {
   "cell_type": "code",
   "execution_count": 3,
   "id": "007a2df5-b467-4522-aaab-c5964432c966",
   "metadata": {},
   "outputs": [
    {
     "data": {
      "text/latex": [
       "$\\displaystyle \\begin{align}\\order[0]{\\alpha}&=0&\\order[0]x&={\\order[0]{\\chi_{j}}} {v_{j}}\\\\\\end{align}$"
      ],
      "text/plain": [
       "<IPython.core.display.Math object>"
      ]
     },
     "metadata": {},
     "output_type": "display_data"
    }
   ],
   "source": [
    "#| code-fold: true\n",
    "α0 = 0\n",
    "x0 = χ0_j * v_j\n",
    "\n",
    "lsk.display_latex_dict({\n",
    "    r\"\\order[0]{\\alpha}\": α0,\n",
    "    r\"\\order[0]x\": x0})"
   ]
  },
  {
   "cell_type": "markdown",
   "id": "3dbc04c7-ada7-44fa-a076-542224b1f2fb",
   "metadata": {},
   "source": [
    "## Variational problem of order 1\n",
    "\n",
    "The first-order term $\\order[1]x$ is decomposed as the sum of its projections onto $V$ and $W$"
   ]
  },
  {
   "cell_type": "code",
   "execution_count": 4,
   "id": "7ae1a105-848a-4d76-b093-fa55da4f4d6d",
   "metadata": {},
   "outputs": [
    {
     "data": {
      "text/latex": [
       "$\\displaystyle \\order[1]x={\\order[1]{\\chi_{j}}} {v_{j}} + {\\order[1]{y}}$"
      ],
      "text/plain": [
       "<IPython.core.display.Math object>"
      ]
     },
     "metadata": {},
     "output_type": "display_data"
    }
   ],
   "source": [
    "#| code-fold: true\n",
    "x1 = χ1_j * v_j + y1\n",
    "lsk.display_latex_equation(r\"\\order[1]x\", x1)"
   ]
  },
  {
   "cell_type": "markdown",
   "id": "2981fe6f-9d5c-4384-a4b5-cfd21a074a64",
   "metadata": {},
   "source": [
    "where $\\order[1]y \\in W$. We then plug the resulting asymptotic expansions of $\\alpha$ and $x$ into the asymptotic expansions of $\\E_{,uu}(x, \\hat{u})$ and $\\alpha \\, \\langle x, \\hat{u} \\rangle$ and extract the first-order terms."
   ]
  },
  {
   "cell_type": "code",
   "execution_count": 5,
   "id": "33037fe5-48e9-4110-9882-90e3bf1d750e",
   "metadata": {},
   "outputs": [],
   "source": [
    "α = α0 + η * α1\n",
    "x = x0 + η * x1\n",
    "\n",
    "lhs = expand(E_uu * x * u_hat).coeff(η, 1)\n",
    "rhs = expand(α * x * u_hat).coeff(η, 1) "
   ]
  },
  {
   "cell_type": "markdown",
   "id": "76761df8-75b2-421f-9963-51795c47d3f2",
   "metadata": {},
   "source": [
    "The problem reads: find $\\order[1]x \\in U$ and $\\order[1]\\alpha\\in\\reals$ such that, for all $\\hat{u} \\in U$"
   ]
  },
  {
   "cell_type": "code",
   "execution_count": 6,
   "id": "9c6250ce-6868-4d15-afec-3947e4e78188",
   "metadata": {},
   "outputs": [
    {
     "data": {
      "text/latex": [
       "$\\displaystyle \\E_{2} \\hat{u} {\\order[1]{\\chi_{j}}} {v_{j}} + \\E_{2} \\hat{u} {\\order[1]{y}} + \\E_{3} \\hat{u} {\\order[0]{\\chi_{j}}} {\\order[1]{\\xi_{k}}} {v_{j}} {v_{k}} + \\dot{\\E}_2 \\hat{u} {\\order[0]{\\chi_{j}}} {\\order[1]{\\lambda}} {v_{j}}=\\hat{u} {\\order[0]{\\chi_{j}}} {\\order[1]{\\alpha}} {v_{j}}$"
      ],
      "text/plain": [
       "<IPython.core.display.Math object>"
      ]
     },
     "metadata": {},
     "output_type": "display_data"
    }
   ],
   "source": [
    "#| code-fold: true\n",
    "lsk.display_latex_equation(lhs, rhs)"
   ]
  },
  {
   "cell_type": "markdown",
   "id": "52542ffc-affb-4964-8449-57acdd042dbc",
   "metadata": {},
   "source": [
    "The above equation must be understood as\n",
    "$$\n",
    "\\order[1]{\\chi}_i \\, \\E_2(v_i, \\hat{u})\n",
    "+ \\E_2(\\order[1]{y}, \\hat{u})\n",
    "+ \\order[0]{\\chi}_j \\, \\order[1]{\\xi}_k \\, \\E_3(v_j, v_k, \\hat{u})\n",
    "+ \\order[1]{\\lambda} \\, \\order[0]{\\chi}_j \\, \\dot{\\E}_2(v_j, \\hat{u})\n",
    "= \\order[1]{\\alpha} \\, \\order[0]{\\chi}_j \\, \\langle v_j, \\hat{u} \\rangle,\n",
    "$$\n",
    "and, since the first term cancels\n",
    "$$\n",
    "\\E_2(\\order[1]{y}, \\hat{u})\n",
    "+ \\order[0]{\\chi}_j \\, \\order[1]{\\xi}_k \\, \\E_3(v_j, v_k, \\hat{u})\n",
    "+ \\order[1]{\\lambda} \\, \\order[0]{\\chi}_j \\, \\dot{\\E}_2(v_j, \\hat{u})\n",
    "= \\order[1]{\\alpha} \\, \\order[0]{\\chi}_j \\, \\langle v_j, \\hat{u} \\rangle,\n",
    "$$ {#eq-20230523134144}\n",
    "\n",
    "Eq. (@eq-20230523134144)  is first tested with $\\hat{u} = v_i \\in V$. Observing that $\\langle v_i, v_j \\rangle = \\delta_{ij}$ since $(v_i)$ is orthonormal, we get\n",
    "$$\n",
    "\\bigl[ \\E_3(v_i, v_j, v_k) \\, \\order[1]{\\xi_k} + \\order[1]\\lambda \\, \\dot{\\E}_2(v_i, v_j)\\bigr] \\, \\order[0]{\\chi_j} = \\order[1]\\alpha \\, \\order[0]{\\chi_i},\n",
    "$$\n",
    "which shows that $(\\order[1]\\alpha, \\order[0]{\\chi_i})$ is an eigenpair of the symmetric tensor $(E_{ijk} \\order[1]{\\xi_k} + \\order[1]\\lambda \\, \\dot{E}_{ij})$ – see Eq. (@eq-20230524065341).\n",
    "\n",
    "The test function is now picked in $W = V^\\perp$ and Eq. (@eq-20230523134144) results in the following variational problem: find $\\order[1]y \\in W$ such that, for all $\\hat{w} \\in W$,\n",
    "$$\n",
    "\\E_2(\\order[1]y, \\hat{w}) + \\E_3(v_i, v_j, \\hat{w}) \\, \\order[0]{\\chi_i} \\, \\order[1]{\\xi_j} + \\order[1]\\lambda \\, \\dot{\\E}_2(v_i, \\hat{w}) \\, \\order[0]{\\chi_i} = 0,\n",
    "$$\n",
    "(observe that $\\langle v_j, \\hat{w} \\rangle = 0$ since $V$ and $W$ are orthogonal subspaces). The solution to the above problem is expressed as a linear combination of the $w_{ij}$ and $w_{i\\lambda}$ –defined by the variational problems (@eq-20230107180410) and (@eq-20230107180501), respectively–, delivering"
   ]
  },
  {
   "cell_type": "code",
   "execution_count": 7,
   "id": "877dfab6-8631-4698-9422-ed5a4a16be9c",
   "metadata": {},
   "outputs": [
    {
     "data": {
      "text/latex": [
       "$\\displaystyle \\begin{align}\\order[1]y&={\\order[0]{\\chi_{j}}} {\\order[1]{\\lambda}} {w_{j\\lambda}} + {\\order[0]{\\chi_{j}}} {\\order[1]{\\xi_{l}}} {w_{jl}}&\\order[1]x&={\\order[0]{\\chi_{j}}} {\\order[1]{\\lambda}} {w_{j\\lambda}} + {\\order[0]{\\chi_{j}}} {\\order[1]{\\xi_{l}}} {w_{jl}} + {\\order[1]{\\chi_{j}}} {v_{j}}\\\\\\end{align}$"
      ],
      "text/plain": [
       "<IPython.core.display.Math object>"
      ]
     },
     "metadata": {},
     "output_type": "display_data"
    }
   ],
   "source": [
    "#| code-fold: true\n",
    "y1 = χ0_j * ξ1_l * w_jl + λ1 * χ0_j * w_jλ\n",
    "x1 = χ1_j * v_j + y1\n",
    "\n",
    "lsk.display_latex_dict({\n",
    "    r\"\\order[1]y\": y1,\n",
    "    r\"\\order[1]x\": x1})"
   ]
  },
  {
   "cell_type": "markdown",
   "id": "9b1c995a-d18f-438b-b4a3-b407251b23d1",
   "metadata": {},
   "source": [
    "## Variational problem of order 2\n",
    "\n",
    "The second-order term $\\order[2]x$ is also decomposed as the sum of its projections onto $V$ and $W = V^\\perp$"
   ]
  },
  {
   "cell_type": "code",
   "execution_count": 8,
   "id": "6ba7dbf3-abd8-4047-b84f-40639765d871",
   "metadata": {},
   "outputs": [
    {
     "data": {
      "text/latex": [
       "$\\displaystyle \\order[2]x={\\order[2]{\\chi_{j}}} {v_{j}} + {\\order[2]{y}}$"
      ],
      "text/plain": [
       "<IPython.core.display.Math object>"
      ]
     },
     "metadata": {},
     "output_type": "display_data"
    }
   ],
   "source": [
    "#| code-fold: true\n",
    "x2 = χ2_j * v_j + y2\n",
    "\n",
    "lsk.display_latex_equation(r\"\\order[2]x\", x2)"
   ]
  },
  {
   "cell_type": "markdown",
   "id": "1895698e-b303-46d5-a9ce-66f8d36b5d01",
   "metadata": {},
   "source": [
    "where $\\order[2]y \\in W$. We then plug the resulting asymptotic expansions of $\\alpha$ and $x$ into the asymptotic expansions of $\\E_{,uu}(x, v_i)$ and $\\alpha \\, \\langle x, v_i \\rangle$ and extract the second-order terms. Note that the **test-function $v_i$ belongs to $V$**. The resulting variational problem reads: find $\\order[1]\\alpha, \\order[1]{\\chi}_1, \\ldots, \\order[1]{\\chi}_m \\in \\reals$ and $\\order[1]y \\in W$ such that, for all $\\hat{v} \\in V$"
   ]
  },
  {
   "cell_type": "code",
   "execution_count": 9,
   "id": "bd740607-a0a2-49fe-8e25-8e465d005f10",
   "metadata": {},
   "outputs": [
    {
     "data": {
      "text/latex": [
       "$\\displaystyle \\frac{\\E_{2} {\\order[2]{\\chi_{j}}} {v_{i}} {v_{j}}}{2} + \\frac{\\E_{2} {\\order[2]{y}} {v_{i}}}{2} + \\E_{3} {\\order[0]{\\chi_{j}}} {\\order[1]{\\lambda}} {\\order[1]{\\xi_{k}}} {v_{i}} {v_{j}} {w_{k\\lambda}} + \\E_{3} {\\order[0]{\\chi_{j}}} {\\order[1]{\\lambda}} {\\order[1]{\\xi_{k}}} {v_{i}} {v_{k}} {w_{j\\lambda}} + \\frac{\\E_{3} {\\order[0]{\\chi_{j}}} {\\order[1]{\\xi_{k}}} {\\order[1]{\\xi_{l}}} {v_{i}} {v_{j}} {w_{kl}}}{2} + \\E_{3} {\\order[0]{\\chi_{j}}} {\\order[1]{\\xi_{k}}} {\\order[1]{\\xi_{l}}} {v_{i}} {v_{k}} {w_{jl}} + \\frac{\\E_{3} {\\order[0]{\\chi_{j}}} {\\order[2]{\\xi_{k}}} {v_{i}} {v_{j}} {v_{k}}}{2} + \\E_{3} {\\order[1]{\\chi_{j}}} {\\order[1]{\\xi_{k}}} {v_{i}} {v_{j}} {v_{k}} + \\frac{\\E_{4} {\\order[0]{\\chi_{j}}} {\\order[1]{\\xi_{k}}} {\\order[1]{\\xi_{l}}} {v_{i}} {v_{j}} {v_{k}} {v_{l}}}{2} + \\frac{\\ddot{\\E}_2 {\\order[0]{\\chi_{j}}} {\\order[1]{\\lambda}}^{2} {v_{i}} {v_{j}}}{2} + \\dot{\\E}_2 {\\order[0]{\\chi_{j}}} {\\order[1]{\\lambda}}^{2} {v_{i}} {w_{j\\lambda}} + \\dot{\\E}_2 {\\order[0]{\\chi_{j}}} {\\order[1]{\\lambda}} {\\order[1]{\\xi_{l}}} {v_{i}} {w_{jl}} + \\frac{\\dot{\\E}_2 {\\order[0]{\\chi_{j}}} {\\order[2]{\\lambda}} {v_{i}} {v_{j}}}{2} + \\dot{\\E}_2 {\\order[1]{\\chi_{j}}} {\\order[1]{\\lambda}} {v_{i}} {v_{j}} + \\dot{\\E}_3 {\\order[0]{\\chi_{j}}} {\\order[1]{\\lambda}} {\\order[1]{\\xi_{k}}} {v_{i}} {v_{j}} {v_{k}}={\\order[0]{\\chi_{j}}} {\\order[1]{\\alpha}} {\\order[1]{\\lambda}} {v_{i}} {w_{j\\lambda}} + {\\order[0]{\\chi_{j}}} {\\order[1]{\\alpha}} {\\order[1]{\\xi_{l}}} {v_{i}} {w_{jl}} + \\frac{{\\order[0]{\\chi_{j}}} {\\order[2]{\\alpha}} {v_{i}} {v_{j}}}{2} + {\\order[1]{\\alpha}} {\\order[1]{\\chi_{j}}} {v_{i}} {v_{j}}$"
      ],
      "text/plain": [
       "<IPython.core.display.Math object>"
      ]
     },
     "metadata": {},
     "output_type": "display_data"
    }
   ],
   "source": [
    "#| code-fold: true\n",
    "α = α0 + η * α1 + η**2 / 2 * α2\n",
    "x = x0 + η * x1 + η**2 / 2 * x2\n",
    "\n",
    "# The substitution below makes the expression nicer\n",
    "lhs_raw = expand(E_uu * x * v_i).coeff(η, 2)\n",
    "rhs_raw = expand(α * x * v_i).coeff(η, 2) \n",
    "\n",
    "lsk.display_latex_equation(lhs_raw, rhs_raw)"
   ]
  },
  {
   "cell_type": "markdown",
   "id": "dde320a4-90e4-4f3f-886a-8d82a30e2c21",
   "metadata": {},
   "source": [
    "We then perform the following substitutions in the left-hand side\n",
    "\n",
    "1. Cancellation of all terms involving $\\E_2$, since all multilinear forms involved in the left-hand side are evaluated at $v_i$ and $\\E_2(v_i, \\bullet) = 0$.\n",
    "3. Renaming of some indices\n",
    "   $$\\order[1]{\\lambda} \\, \\order[0]{\\chi}_j \\, \\order[1]{\\xi}_l \\, \\dot{\\E}_2(v_i, w_{jl}) \\rightarrow \\order[1]{\\lambda} \\, \\order[0]{\\chi}_j \\, \\order[1]{\\xi}_k \\, \\dot{\\E}_2(v_i, w_{jk})$$\n",
    "2. Symmetrization of some terms\n",
    "   $$\\order[1]{\\xi}_k \\, \\order[1]{\\xi}_l \\, v_k \\, w_{jl} \\rightarrow \\tfrac{1}{2} \\order[1]{\\xi}_k \\, \\order[1]{\\xi}_l \\, \\bigl(v_k \\, w_{jl} + v_l \\, w_{jk} \\bigr)$$\n",
    "3. Introduction of the quantities $E_{ij}$, $\\dot{E}_{ij}$, $\\ddot{E}_{ij}$, $E_{ijk}$, $\\dot{E}_{ijk}$, $E_{ijkl}$ defined in @sec-20230528173310.\n",
    "4. Use of equations (@eq-20230107180410) and (@eq-20230107180501) that define $w_{ij}$ and $w_{i\\lambda}$\n",
    "   $$\\E_3(v_i, v_j, w_{k\\lambda}) \\rightarrow -\\E_2(w_{ij}, w_{k\\lambda}) \\quad \\text{and} \\quad \\dot{\\E}_2(v_i, w_{j\\lambda}) \\rightarrow -\\E_2(w_{i\\lambda}, w_{j\\lambda})$$\n",
    "   \n",
    "and in the right-hand side\n",
    "1. $(v_i)$ is orthonormal\n",
    "   $$\\langle v_i, v_j \\rangle \\rightarrow \\delta_{ij}$$\n",
    "2. $v_i \\in V$ and $w_{j\\lambda}, w_{jl} \\in W = V^\\perp$ are orthogonal\n",
    "   $$\\langle v_i, w_{j\\lambda} \\rangle \\rightarrow 0 \\quad \\text{and} \\quad \\langle v_i, w_{jl} \\rangle \\rightarrow 0$$\n",
    "   \n",
    "The variational problem of order 2 then reduces to"
   ]
  },
  {
   "cell_type": "code",
   "execution_count": 10,
   "id": "e180a1d9-fd6d-4434-a756-97315033d62a",
   "metadata": {},
   "outputs": [
    {
     "data": {
      "text/latex": [
       "$\\displaystyle E_{ijkl} {\\order[0]{\\chi_{j}}} {\\order[1]{\\xi_{k}}} {\\order[1]{\\xi_{l}}} + E_{ijk} {\\order[0]{\\chi_{j}}} {\\order[2]{\\xi_{k}}} + 2 E_{ijk} {\\order[1]{\\chi_{j}}} {\\order[1]{\\xi_{k}}} + \\ddot{E}_{ij} {\\order[0]{\\chi_{j}}} {\\order[1]{\\lambda}}^{2} + 2 \\dot{E}_{ijk} {\\order[0]{\\chi_{j}}} {\\order[1]{\\lambda}} {\\order[1]{\\xi_{k}}} + \\dot{E}_{ij} {\\order[0]{\\chi_{j}}} {\\order[2]{\\lambda}} + 2 \\dot{E}_{ij} {\\order[1]{\\chi_{j}}} {\\order[1]{\\lambda}}={\\order[0]{\\chi_{i}}} {\\order[2]{\\alpha}} + 2 {\\order[1]{\\alpha}} {\\order[1]{\\chi_{i}}}$"
      ],
      "text/plain": [
       "<IPython.core.display.Math object>"
      ]
     },
     "metadata": {},
     "output_type": "display_data"
    }
   ],
   "source": [
    "#| code-fold: true \n",
    "lhs = (2 * lhs_raw).subs({\n",
    "    # Item 1\n",
    "    E2: 0,\n",
    "    # Item 2\n",
    "    λ1 * χ0_j * ξ1_l * E2_dot * v_i * w_jl: λ1 * χ0_j * ξ1_k * E2_dot * v_i * w_jk,\n",
    "    # Item 3\n",
    "    χ0_j * ξ1_k * ξ1_l * E3 * v_i * v_k * w_jl : χ0_j * ξ1_k * ξ1_l * E3 * v_i * (v_k * w_jl + v_l * w_jk) / 2,\n",
    "    # Item 4\n",
    "    E2_dot * v_i * v_j: E_dot_ij,\n",
    "    E2_ddot * v_i * v_j : E_ddot_ij - E2_dot * v_i * w_jλ - E2_dot * v_j * w_iλ,\n",
    "    E3 * v_i * v_j * v_k: E_ijk,\n",
    "    E3_dot * v_i * v_j * v_k : E_dot_ijk - E2_dot * v_i * w_jk - E2_dot * v_j * w_ik - E2_dot * v_k * w_ij,\n",
    "    E4 * v_i * v_j * v_k * v_l: E_ijkl - E3 * v_i * v_j * w_kl - E3 * v_i * v_k * w_jl - E3 * v_i * v_l * w_jk,\n",
    "    # Item 5\n",
    "    E3 * v_i * v_j * w_kλ: -E2 * w_ij * w_kλ,\n",
    "    E3 * v_i * v_k * w_jλ: -E2 * w_ik * w_jλ,\n",
    "    E2_dot * v_i * w_jλ: -E2 * w_iλ * w_jλ,\n",
    "    E2_dot * v_j * w_iλ: -E2 * w_iλ * w_jλ,\n",
    "    E2_dot * v_j * w_ik: -E2 * w_jλ * w_ik,\n",
    "    E2_dot * v_k * w_ij: -E2 * w_kλ * w_ij\n",
    "}).expand()\n",
    "\n",
    "rhs = (2 * rhs_raw).subs({\n",
    "    v_i * w_jλ: 0,\n",
    "    v_i * w_jl: 0,\n",
    "    v_i * v_j * χ0_j: χ0_i,\n",
    "    v_i * v_j * χ1_j: χ1_i\n",
    "})\n",
    "\n",
    "lsk.display_latex_equation(lhs, rhs)"
   ]
  },
  {
   "cell_type": "markdown",
   "id": "7f1c9d8b-781d-4ecd-8354-6231a88d23e6",
   "metadata": {},
   "source": [
    "which upon reordering delivers Eq. (@eq-20230524065110)."
   ]
  }
 ],
 "metadata": {
  "kernelspec": {
   "display_name": "Python 3 (ipykernel)",
   "language": "python",
   "name": "python3"
  },
  "language_info": {
   "codemirror_mode": {
    "name": "ipython",
    "version": 3
   },
   "file_extension": ".py",
   "mimetype": "text/x-python",
   "name": "python",
   "nbconvert_exporter": "python",
   "pygments_lexer": "ipython3",
   "version": "3.10.6"
  }
 },
 "nbformat": 4,
 "nbformat_minor": 5
}
