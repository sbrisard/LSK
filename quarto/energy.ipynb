{
 "cells": [
  {
   "cell_type": "markdown",
   "id": "8a04f073-c617-45bf-a085-81b6e47b8cac",
   "metadata": {},
   "source": [
    "# Asymptotic expansion of the energy {#sec-20230523130742}"
   ]
  },
  {
   "cell_type": "markdown",
   "id": "b624a84a-498f-462c-a7a7-7fc41e6834ee",
   "metadata": {},
   "source": [
    "This notebook uses $\\LaTeX\\newcommand{\\D}{\\mathrm{d}}\\newcommand{\\E}{\\mathcal{E}}\\newcommand{\\order}[2][1]{#2^{(#1)}}\\newcommand{\\reals}{\\mathbb{R}}$ custom macros."
   ]
  },
  {
   "cell_type": "markdown",
   "id": "60aa1100-f5ad-4900-91f8-9e44d0db70fd",
   "metadata": {},
   "source": [
    "In this chapter, we derive the asymptotic expansion (@eq-20230528190539) of the energy along the bifurcated branch. More precisely, the following quantity is expanded at the critical point"
   ]
  },
  {
   "cell_type": "markdown",
   "id": "0cb3ae4c-92f6-4553-8f9d-ee3287dbee1f",
   "metadata": {},
   "source": [
    "$$\n",
    "\\Delta\\E(\\eta) = \\E[u(\\eta), \\lambda(\\eta)] - \\E[u^\\ast \\circ \\lambda(\\eta), \\lambda(\\eta)],\n",
    "$$"
   ]
  },
  {
   "cell_type": "markdown",
   "id": "9fe45c3f-91ef-419b-bd44-96dd6353e45c",
   "metadata": {},
   "source": [
    "where $\\eta$ is an arbitrary parametrization of the bifurcated branch ($\\eta = 0$ at the critical point)."
   ]
  },
  {
   "cell_type": "markdown",
   "id": "cccf271e-1f64-44a8-9c9c-f01bc3d44e0e",
   "metadata": {},
   "source": [
    "The asymptotic expansion of the energy results from plugging the asymptotic expansions (@eq-20230528174310) and (@eq-20230411141319) of $\\lambda(\\eta)$ and $u(\\eta)$ into the general expression of the energy that was derived in @sec-20230402140105."
   ]
  },
  {
   "cell_type": "code",
   "execution_count": 2,
   "id": "db2575b5-31a5-4aff-b879-69f26e037041",
   "metadata": {
    "tags": []
   },
   "outputs": [],
   "source": [
    "from lsk import *\n",
    "from sympy import *"
   ]
  },
  {
   "cell_type": "markdown",
   "id": "a1ed4efa-fa64-4a7a-bc8d-92e3761f4061",
   "metadata": {},
   "source": [
    "We first define the asymptotic expansion of $\\lambda$ w.r.t. the (unspecified) parameter $\\eta$."
   ]
  },
  {
   "cell_type": "code",
   "execution_count": 3,
   "id": "67a7a81f-e693-4edf-9ef6-23b35b3a35d9",
   "metadata": {
    "tags": []
   },
   "outputs": [],
   "source": [
    "def create_λ():\n",
    "    return λ1 * η + λ2 * η**2 / 2 + λ3 * η**3 / 6 + λ4 * η**4 / 24 + O(η**5)"
   ]
  },
  {
   "cell_type": "code",
   "execution_count": 4,
   "id": "96ee04a4-40f9-41ad-aaa8-b4d77f0dd892",
   "metadata": {
    "tags": []
   },
   "outputs": [
    {
     "data": {
      "text/latex": [
       "$\\displaystyle \\lambda(\\eta)=\\eta {\\order[1]{\\lambda}} + \\frac{\\eta^{2} {\\order[2]{\\lambda}}}{2} + \\frac{\\eta^{3} {\\order[3]{\\lambda}}}{6} + \\frac{\\eta^{4} {\\order[4]{\\lambda}}}{24} + O\\left(\\eta^{5}\\right)$"
      ],
      "text/plain": [
       "<IPython.core.display.Math object>"
      ]
     },
     "metadata": {},
     "output_type": "display_data"
    }
   ],
   "source": [
    "#| code-fold: true\n",
    "display_latex_equation(r\"\\lambda(\\eta)\", create_λ())"
   ]
  },
  {
   "cell_type": "raw",
   "id": "0e926a49-11da-419b-aa76-814f99f598ea",
   "metadata": {},
   "source": [
    "::: {.callout-note}"
   ]
  },
  {
   "cell_type": "markdown",
   "id": "3719e958-cac9-42d7-8377-49d80ce877ad",
   "metadata": {},
   "source": [
    "In the previous chapters, we have derived the asymptotic expansions of $\\lambda$, $u^\\ast$ and $u$ \n",
    "up to fourth-order in $\\eta$. It will be shown below that these expansion lead to an expansion of $\\Delta\\E$ up to **fourth-order** terms in $\\eta$.\n",
    "\n",
    "For the sake of consistency, expansions of $\\lambda$, $u^\\ast$ and $u$ will be postulated up to fourth-order: it will be finally checked that the fourth-order expansion of $\\Delta\\E$ refers only to: $\\order[1]{\\lambda}$, $\\order[2]{\\lambda}$, $w_{i\\lambda}$ and $w_{ij}$ (which are all known quantities)."
   ]
  },
  {
   "cell_type": "raw",
   "id": "0cb508ca-5e1f-479c-a30d-f0785fb1c1a7",
   "metadata": {},
   "source": [
    ":::"
   ]
  },
  {
   "cell_type": "markdown",
   "id": "4c6e9419-189a-4485-9a01-cbcd748d978e",
   "metadata": {},
   "source": [
    "The fundamental branch $u^\\ast(\\lambda)$ was previously defined as an asymptotic expansion w.r.t. $\\lambda$. We can now define it as a function of $\\eta$, keeping only fourth-order terms."
   ]
  },
  {
   "cell_type": "code",
   "execution_count": 5,
   "id": "30e4d106-0efd-47d1-af9c-8e84bccbdc28",
   "metadata": {
    "tags": []
   },
   "outputs": [],
   "source": [
    "def create_u_star_2():\n",
    "    return create_u_star(λ_fun=create_λ)"
   ]
  },
  {
   "cell_type": "code",
   "execution_count": 6,
   "id": "8aa88dbd-4664-4353-a4d6-dc6ba99491be",
   "metadata": {
    "tags": []
   },
   "outputs": [
    {
     "data": {
      "text/latex": [
       "$\\displaystyle u^\\ast(\\eta)=\\dot{u}_0 \\eta {\\order[1]{\\lambda}} + \\frac{\\dot{u}_0 \\eta^{2} {\\order[2]{\\lambda}}}{2} + \\frac{\\dot{u}_0 \\eta^{3} {\\order[3]{\\lambda}}}{6} + \\frac{\\dot{u}_0 \\eta^{4} {\\order[4]{\\lambda}}}{24} + \\frac{\\ddot{u}_0 \\eta^{2} {\\order[1]{\\lambda}}^{2}}{2} + \\frac{\\ddot{u}_0 \\eta^{3} {\\order[1]{\\lambda}} {\\order[2]{\\lambda}}}{2} + \\frac{\\ddot{u}_0 \\eta^{4} {\\order[2]{\\lambda}}^{2}}{8} + \\frac{\\ddot{u}_0 \\eta^{4} {\\order[1]{\\lambda}} {\\order[3]{\\lambda}}}{6} + \\frac{\\dddot{u}_0 \\eta^{3} {\\order[1]{\\lambda}}^{3}}{6} + \\frac{\\dddot{u}_0 \\eta^{4} {\\order[1]{\\lambda}}^{2} {\\order[2]{\\lambda}}}{4} + \\frac{\\ddddot{u}_0 \\eta^{4} {\\order[1]{\\lambda}}^{4}}{24} + O\\left(\\eta^{5}\\right)$"
      ],
      "text/plain": [
       "<IPython.core.display.Math object>"
      ]
     },
     "metadata": {},
     "output_type": "display_data"
    }
   ],
   "source": [
    "#| code-fold: true\n",
    "display_latex_equation(r\"u^\\ast(\\eta)\", create_u_star_2().expand())"
   ]
  },
  {
   "cell_type": "markdown",
   "id": "f93b5e81-d8f7-4b24-8211-6ba933e7285d",
   "metadata": {},
   "source": [
    "Similarly, we define the asymptotic expansion of $u$, see Eqs. (@eq-20230528174310) and (@eq-20230411141319); note that the quantities $\\order[3]{\\tilde{u}}$ and $\\order[4]{\\tilde{u}}$ are unknown (and will in fact disappear from the derivation). "
   ]
  },
  {
   "cell_type": "code",
   "execution_count": 7,
   "id": "f36b6e11-ff55-4019-8bfe-c1007485868a",
   "metadata": {
    "tags": []
   },
   "outputs": [],
   "source": [
    "u1 = Symbol(r\"{\\order[1]{u}}\")\n",
    "u2_V = Symbol(r\"{\\order[2]{u}_V}\")\n",
    "u2_W = Symbol(r\"{\\order[2]{u}_W}\")\n",
    "u3 = Symbol(r\"{\\order[3]{u}}\")\n",
    "u4 = Symbol(r\"{\\order[4]{u}}\")\n",
    "\n",
    "def create_u():\n",
    "    return (create_u_star(create_λ) + η * u1 + η**2 / 2 * (u2_V + u2_W) + η**3 / 6 * u3 + η**4 / 24 * u4)"
   ]
  },
  {
   "cell_type": "code",
   "execution_count": 8,
   "id": "415eb725-0af8-4db5-a4d3-29edbdd6a86a",
   "metadata": {
    "tags": []
   },
   "outputs": [
    {
     "data": {
      "text/latex": [
       "$\\displaystyle u(\\eta)=\\eta {\\order[1]{u}} + \\frac{\\eta^{2} {\\order[2]{u}_W}}{2} + \\frac{\\eta^{2} {\\order[2]{u}_V}}{2} + \\frac{\\eta^{3} {\\order[3]{u}}}{6} + \\frac{\\eta^{4} {\\order[4]{u}}}{24} + \\dot{u}_0 \\eta {\\order[1]{\\lambda}} + \\frac{\\dot{u}_0 \\eta^{2} {\\order[2]{\\lambda}}}{2} + \\frac{\\dot{u}_0 \\eta^{3} {\\order[3]{\\lambda}}}{6} + \\frac{\\dot{u}_0 \\eta^{4} {\\order[4]{\\lambda}}}{24} + \\frac{\\ddot{u}_0 \\eta^{2} {\\order[1]{\\lambda}}^{2}}{2} + \\frac{\\ddot{u}_0 \\eta^{3} {\\order[1]{\\lambda}} {\\order[2]{\\lambda}}}{2} + \\frac{\\ddot{u}_0 \\eta^{4} {\\order[2]{\\lambda}}^{2}}{8} + \\frac{\\ddot{u}_0 \\eta^{4} {\\order[1]{\\lambda}} {\\order[3]{\\lambda}}}{6} + \\frac{\\dddot{u}_0 \\eta^{3} {\\order[1]{\\lambda}}^{3}}{6} + \\frac{\\dddot{u}_0 \\eta^{4} {\\order[1]{\\lambda}}^{2} {\\order[2]{\\lambda}}}{4} + \\frac{\\ddddot{u}_0 \\eta^{4} {\\order[1]{\\lambda}}^{4}}{24} + O\\left(\\eta^{5}\\right)$"
      ],
      "text/plain": [
       "<IPython.core.display.Math object>"
      ]
     },
     "metadata": {},
     "output_type": "display_data"
    }
   ],
   "source": [
    "#| code-fold: true\n",
    "display_latex_equation(r\"u(\\eta)\", create_u().expand())"
   ]
  },
  {
   "cell_type": "markdown",
   "id": "025e7664-b949-44b9-ad27-8092d6d56003",
   "metadata": {},
   "source": [
    "We then use these expansions to evaluate the energy along the **fundamental** and **bifurcated** branches, as well as the difference $\\Delta\\E$ of these two quantities. The resulting expressions are too long to be displayed. We first apply some elementary simplifications."
   ]
  },
  {
   "cell_type": "code",
   "execution_count": 9,
   "id": "fe9580a6-db09-4afb-96da-d7a261178f2a",
   "metadata": {
    "tags": []
   },
   "outputs": [],
   "source": [
    "E_fund = create_E(λ_fun=create_λ, u_fun=create_u_star_2).expand()\n",
    "E_bif = create_E(λ_fun=create_λ, u_fun=create_u).expand()"
   ]
  },
  {
   "cell_type": "code",
   "execution_count": 10,
   "id": "b84374e4-1a9a-464b-9c5a-d19a159289c8",
   "metadata": {
    "tags": []
   },
   "outputs": [],
   "source": [
    "ΔE = expand(E_bif - E_fund).subs({\n",
    "    E2 * u1 : 0,\n",
    "    E2 * u2_V : 0\n",
    "})"
   ]
  },
  {
   "cell_type": "code",
   "execution_count": 11,
   "id": "001997f6-1067-42d4-bf9d-504c876cdbc1",
   "metadata": {
    "tags": []
   },
   "outputs": [],
   "source": [
    "assert ΔE.coeff(η, 0) == 0\n",
    "assert ΔE.coeff(η, 1) == 0\n",
    "assert ΔE.coeff(η, 2) == 0"
   ]
  },
  {
   "cell_type": "code",
   "execution_count": 26,
   "id": "691d3680-4956-4012-9a44-00772723c0da",
   "metadata": {
    "tags": []
   },
   "outputs": [],
   "source": [
    "d = {\n",
    "    # Require first bifurcation equation\n",
    "    E3 * u1 * u1 * u1 : -2 * λ1 * E2_dot * u1 * u1,\n",
    "    E3 * u1 * u1 * u2_V : -2 * λ1 * E2_dot * u1 * u2_V,\n",
    "    # Do not require bifurcation equations\n",
    "    E2 * u2_W * u2_W : ((E4 * u1 * u1 * u1 * u1\n",
    "                         - E_[i, j, k, l] * ξ1_[i] * ξ1_[j] * ξ1_[k] * ξ1_[l]) / 3\n",
    "                        + 4 * λ1 / 3 * (E3_dot * u1 * u1 * u1\n",
    "                                        - E_dot_[i, j, k] * ξ1_[i] * ξ1_[j] * ξ1_[k])\n",
    "                        + 2 * λ1**2 * (E2_ddot * u1 * u1\n",
    "                                       - E_ddot_[i, j] * ξ1_[i] * ξ1_[j])),\n",
    "    E2_dot * u1 * u2_W : ((E_dot_[i, j, k] * ξ1_[i] * ξ1_[j] * ξ1_[k] \n",
    "                           - E3_dot * u1 * u1 * u1) / 3\n",
    "                          + λ1 * (E_ddot_[i, j] * ξ1_[i] * ξ1_[j]\n",
    "                                  - E2_ddot * u1 * u1)),\n",
    "    E3 * u1 * u1 * u2_W  : ((E_[i, j, k, l] * ξ1_[i] * ξ1_[j] * ξ1_[k] * ξ1_[l]\n",
    "                             - E4 * u1 * u1 * u1 * u1) / 3\n",
    "                            + 2 * λ1 / 3 * (E_dot_[i, j, k] * ξ1_[i] * ξ1_[j] * ξ1_[k] \n",
    "                                            - E3_dot * u1 * u1 * u1)),\n",
    "}"
   ]
  },
  {
   "cell_type": "code",
   "execution_count": 27,
   "id": "e0a3106f-66a6-4942-ba56-fa874af4ba87",
   "metadata": {
    "tags": []
   },
   "outputs": [
    {
     "data": {
      "text/latex": [
       "$\\displaystyle \\Delta\\E=\\frac{\\eta^{4} {E}_{i,j,k,l} {{\\order[1]{\\xi}}}_{i} {{\\order[1]{\\xi}}}_{j} {{\\order[1]{\\xi}}}_{k} {{\\order[1]{\\xi}}}_{l}}{24} + \\frac{\\eta^{4} {\\order[1]{\\lambda}} {\\dot{E}}_{i,j,k} {{\\order[1]{\\xi}}}_{i} {{\\order[1]{\\xi}}}_{j} {{\\order[1]{\\xi}}}_{k}}{6} + \\frac{\\eta^{4} {\\order[1]{\\lambda}}^{2} {\\ddot{E}}_{i,j} {{\\order[1]{\\xi}}}_{i} {{\\order[1]{\\xi}}}_{j}}{4} + \\frac{\\dot{\\E}_2 \\eta^{3} {\\order[1]{\\lambda}} {\\order[1]{u}}^{2}}{6} + \\frac{\\dot{\\E}_2 \\eta^{4} {\\order[1]{u}}^{2} {\\order[2]{\\lambda}}}{4} + O\\left(\\eta^{5}\\right)$"
      ],
      "text/plain": [
       "<IPython.core.display.Math object>"
      ]
     },
     "metadata": {},
     "output_type": "display_data"
    }
   ],
   "source": [
    "#| code-fold: true\n",
    "display_latex_equation(r\"\\Delta\\E\", ΔE.subs(d).expand())"
   ]
  },
  {
   "cell_type": "markdown",
   "id": "aa73abdf-46d2-45df-a38d-cc25132dd7c9",
   "metadata": {},
   "source": [
    "wich can be reordered as follows\n",
    "$$\n",
    "\\Delta\\E = \\tfrac{1}{6} \\eta^3 \\, \\Delta\\order[3]{\\E} + \\tfrac{1}{24} \\eta^4 \\, \\Delta\\order[4]{\\E},\n",
    "$$\n",
    "with\n",
    "$$\n",
    "\\Delta\\order[3]{\\E} \n",
    "= \\order[1]{\\lambda} \\, \\dot{\\E}_2(\\order[1]{u}, \\order[1]{u})\n",
    "= \\order[1]{\\lambda} \\, \\dot{E}_{ij} \\, \\order[1]{\\xi}_i \\, \\order[1]{\\xi}_j\n",
    "$$\n",
    "and\n",
    "\n",
    "$$\n",
    "\\begin{aligned}[b]\n",
    "\\order[4]{\\Delta\\E} ={} & E_{ijkl} \\, \\order[1]{\\xi}_i \\, \\order[1]{\\xi}_j \\, \\order[1]{\\xi}_k \\, \\order[1]{\\xi}_l + 4\\order[1]{\\lambda} \\, \\dot{E}_{ijk} \\, \\order[1]{\\xi}_i \\, \\order[1]{\\xi}_j \\, \\order[1]{\\xi}_k\\\\\n",
    "&+ 6 \\bigl[ \\bigl( \\order[1]{\\lambda} \\bigr)^2 \\, \\ddot{E}_{ij} + \\order[2]{\\lambda} \\, \\dot{E}_{ij} \\bigr] \\, \\order[1]{\\xi}_i \\, \\order[1]{\\xi}_j.\n",
    "\\end{aligned}\n",
    "$$ {#eq-20230402101651}\n",
    "\n",
    "and the asymptotic expansion (@eq-20230528190539) is retrieved."
   ]
  },
  {
   "cell_type": "markdown",
   "id": "6c26933f-3da5-4b3c-9e41-9f6d077b19e0",
   "metadata": {},
   "source": [
    "## Asymptotic expansion of the hessian of the energy"
   ]
  },
  {
   "cell_type": "markdown",
   "id": "8a4c237c-aa6e-451b-81b6-9d6866c15d2c",
   "metadata": {},
   "source": [
    "We use the same code to derive an asymptotic expansion of the hessian $\\E_{,uu}$ of the energy along the bifurcated branch."
   ]
  },
  {
   "cell_type": "code",
   "execution_count": null,
   "id": "2f0c721b-5f01-4bfa-b300-462129ff1ef0",
   "metadata": {},
   "outputs": [],
   "source": [
    "E_uu = (eval(data[\"E_uu\"]).subs({Symbol(\"\\lambda\"): λ, Symbol(\"u\"): u})  + O(η**3)).expand()"
   ]
  },
  {
   "cell_type": "code",
   "execution_count": null,
   "id": "28cf39aa-1576-420b-9001-5169d9acb6d1",
   "metadata": {},
   "outputs": [],
   "source": [
    "#| code-fold: true\n",
    "lsk.display_latex_equation(r\"\\E_{,uu}[u(\\eta), \\lambda(\\eta)]\", E_uu)"
   ]
  },
  {
   "cell_type": "markdown",
   "id": "94320791-0268-4d31-9f5d-b46524b92377",
   "metadata": {},
   "source": [
    "The above expression must be understood as follows"
   ]
  },
  {
   "cell_type": "markdown",
   "id": "c547d691-d92c-4d9e-9254-3aaaa0eda3db",
   "metadata": {},
   "source": [
    "$$\n",
    "\\begin{aligned}[b]\n",
    "\\E_{,uu}[u(\\eta), \\lambda(\\eta); \\bullet, \\bullet] ={} \n",
    "& \\E_2(\\bullet, \\bullet) + \\eta \\, \\bigl[ \\order[1]{\\xi}_i \\, \\E_3(v_i, \\bullet, \\bullet) + \\order[1]{\\lambda} \\, \\dot{\\E}_2(\\bullet, \\bullet) \\bigr]\\\\\n",
    "&+ \\tfrac{1}{2}\\eta^2 \\, \\bigl[ \\order[1]{\\xi}_i \\, \\order[1]{\\xi}_j \\, \\E_4(v_i, v_j, \\bullet, \\bullet)\n",
    "+ \\order[2]{\\xi}_i \\, \\E_3(v_i, \\bullet, \\bullet) \\\\\n",
    "&+ \\order[1]{\\xi}_i \\, \\order[1]{\\xi}_j \\, \\E_3(w_{ij}, \\bullet, \\bullet)\n",
    "+ 2\\order[1]{\\lambda} \\, \\order[1]{\\xi}_i \\, \\E_3(w_{i\\lambda}, \\bullet, \\bullet)\\\\\n",
    "&+ 2\\order[1]{\\lambda} \\, \\order[1]{\\xi}_i \\, \\dot{\\E}_3(v_i, \\bullet, \\bullet)\n",
    "+ (\\order[1]{\\lambda})^2 \\, \\ddot{\\E}_2(\\bullet, \\bullet) + \\order[2]{\\lambda} \\, \\dot{\\E}_2(\\bullet, \\bullet)\\bigr],\n",
    "\\end{aligned}\n",
    "$$"
   ]
  },
  {
   "cell_type": "markdown",
   "id": "44231374-7557-4714-8cbd-a0b577fcbf0e",
   "metadata": {},
   "source": [
    "or, equivalently"
   ]
  },
  {
   "cell_type": "markdown",
   "id": "087377f5-aa32-4fd5-8049-522c5bbdd64d",
   "metadata": {},
   "source": [
    "$$\n",
    "\\begin{aligned}[b]\n",
    "\\E_{,uu}[u(\\eta), \\lambda(\\eta); \\bullet, \\bullet] ={} \n",
    "& \\E_2(\\bullet, \\bullet) + \\eta \\, \\bigl[ \\E_3(\\order[1]{u}, \\bullet, \\bullet) + \\order[1]{\\lambda} \\, \\dot{\\E}_2(\\bullet, \\bullet) \\bigr]\\\\\n",
    "&+ \\tfrac{1}{2}\\eta^2 \\, \\bigl[ \\E_4(\\order[1]{u}, \\order[1]{u}, \\bullet, \\bullet)\n",
    "+ \\E_3(\\order[2]{u}, \\bullet, \\bullet) \\\\\n",
    "&+ 2\\order[1]{\\lambda} \\, \\dot{\\E}_3(\\order[1]{u}, \\bullet, \\bullet)\n",
    "+ (\\order[1]{\\lambda})^2 \\, \\ddot{\\E}_2(\\bullet, \\bullet) + \\order[2]{\\lambda} \\, \\dot{\\E}_2(\\bullet, \\bullet)\\bigr],\n",
    "\\end{aligned}\n",
    "$$ {#eq-20230517061452}"
   ]
  },
  {
   "cell_type": "markdown",
   "id": "edbecd85-2e66-4242-bc3a-dadb0453d116",
   "metadata": {},
   "source": [
    "where $\\order[1]{u}$ and $\\order[2]{u}$ are given by Eq. (@eq-20230411141319)."
   ]
  }
 ],
 "metadata": {
  "kernelspec": {
   "display_name": "Python 3 (ipykernel)",
   "language": "python",
   "name": "python3"
  },
  "language_info": {
   "codemirror_mode": {
    "name": "ipython",
    "version": 3
   },
   "file_extension": ".py",
   "mimetype": "text/x-python",
   "name": "python",
   "nbconvert_exporter": "python",
   "pygments_lexer": "ipython3",
   "version": "3.9.16"
  }
 },
 "nbformat": 4,
 "nbformat_minor": 5
}
