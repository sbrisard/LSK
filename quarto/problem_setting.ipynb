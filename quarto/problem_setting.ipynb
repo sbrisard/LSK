{
 "cells": [
  {
   "cell_type": "markdown",
   "id": "c018e3f7-66c6-4718-95d9-26b3de244268",
   "metadata": {},
   "source": [
    "# Setting up the stage {#sec-20230105101657}"
   ]
  },
  {
   "cell_type": "raw",
   "id": "6f58b0fa-cf25-4a40-b22e-f8c5cf410d94",
   "metadata": {},
   "source": [
    "$$\n",
    "\\newcommand{\\D}{\\mathrm{d}}\n",
    "\\newcommand{\\E}{\\mathcal{E}}\n",
    "$$"
   ]
  },
  {
   "cell_type": "markdown",
   "id": "b978af95-d7aa-40f9-8df1-59d71ee3d143",
   "metadata": {},
   "source": [
    "In this chapter, we define the general framework for the analysis of a perfect mechanical system. Notations are defined in @sec-20230208081323. Then, the [SymPy](https://www.sympy.org) library is set up in @sec-20230103084732. Finally, the energy of the system is rewritten in a more convenient form in @sec-20230208081549."
   ]
  },
  {
   "cell_type": "markdown",
   "id": "65079be9-387c-40db-a9cb-3dcdb5022bee",
   "metadata": {},
   "source": [
    "## Mathematical setting {#sec-20230208081323}"
   ]
  },
  {
   "cell_type": "markdown",
   "id": "30053d34-7dfd-441b-9311-9da55ee9ffba",
   "metadata": {},
   "source": [
    "The space of admissible states of the system under consideration is denoted $U$. It has the structure of a real vector space. The energy of the system is $\\E(u, \\lambda)$, where $\\lambda$ denotes a loading parameter. It is assumed that the fundamental branch of the equilibrium diagram, $u^\\ast(\\lambda)$ is known. Then the energy is stationary with respect to the state $u$ along the whole branch. In other words, for all $\\hat{u} \\in U$\n",
    "$$\n",
    "\\E_{,u}[u^{\\ast}(\\lambda), \\lambda; \\hat{u}]=0,\n",
    "$$ {#eq-20221227184138}\n",
    "where $\\E_{,u}(u, \\lambda; \\hat{u})$ denotes the (real) value of the differential of the energy $\\E$ with respect to the state $u$, evaluated at $(u, \\lambda)$, for the test function $\\hat{u}$. Similarly, evaluation of the second-, third-, etc., order differential of the energy will be denoted $\\E_{,uu}(u, \\lambda; \\hat{u}, \\hat{v})$, $\\E_{,uuu}(u, \\lambda; \\hat{u}, \\hat{v}, \\hat{w})$, etc. It is assumed that a finite value $\\lambda_0 > 0$ of $\\lambda$ can be found (critical load), such that\n",
    "\n",
    "1. $\\E_{,uu}[u(\\lambda), \\lambda] > 0$ for all $0 < \\lambda < \\lambda_0$,\n",
    "2. $\\E_{,uu}(u_0, \\lambda_0) \\geq 0$ but $\\E_{,uu}(u_0, \\lambda_0) \\ngtr 0$,\n",
    "3. $\\E_{,uu}[u(\\lambda), \\lambda] < 0$ for $\\lambda > \\lambda_0$, close enough to $\\lambda_0$."
   ]
  },
  {
   "cell_type": "markdown",
   "id": "c2770db9-a94e-4d15-9281-5308bb0923e7",
   "metadata": {},
   "source": [
    "The load $\\lambda_0$ will be referred to as the *critical load*; similarly, the state $u_0$ of the system at the critical load will be referred to as the *critical state*; finally, the pair $(u_0, \\lambda_0)$ is the *critical point* of the system. Assumption 1 implies that equilibria along the fundamental branch are *stable below the critical load*. Conversely, it results from assumption 3 that equilibrium points on the fundamental branch are *unstable above the critical load*. Stability at the critical load is yet undetermined."
   ]
  },
  {
   "cell_type": "markdown",
   "id": "a3b410c7-7f49-4639-b0e8-cb994caad124",
   "metadata": {},
   "source": [
    "The goal of these notes is to analyze *all* equilibrium paths that pass through the critical point $(u_0, \\lambda_0)$."
   ]
  },
  {
   "cell_type": "markdown",
   "id": "f106aa1f-a2fd-4d43-ad0c-ccb60e0f2d3a",
   "metadata": {},
   "source": [
    "We introduce the following notations\n",
    "$$\n",
    "u_0 = u^\\ast(\\lambda_0), \\quad \\dot{u}_0 = \\frac{\\D u^\\ast}{\\D \\lambda} \\biggr \\rvert_{\\lambda=\\lambda_0}, \\quad \\ddot{u}_0 = \\frac{\\D^2 u^\\ast}{\\D \\lambda^2} \\biggr \\rvert_{\\lambda=\\lambda_0}, \\quad \\dddot{u}_0 = \\ldots, \\quad \\ddddot{u}_0 = \\ldots\n",
    "$$\n",
    "and\n",
    "$$\n",
    "\\E_2 = \\E_{,uu}(u_0, \\lambda_0), \\quad \\E_3 = \\E_{,uuu}(u_0, \\lambda_0), \\quad \\E_4 = \\E_{,uuuu}(u_0, \\lambda_0).\n",
    "$$"
   ]
  },
  {
   "cell_type": "markdown",
   "id": "14d1cd8e-cda3-42fb-b07e-27c0e4695fb7",
   "metadata": {},
   "source": [
    "Note that $\\E_2$, $\\E_3$ and $\\E_4$ thus defined are bi-, tri- and quadrilinear forms, respectively. The following derivatives are also introduced\n",
    "$$\n",
    "\\dot{\\E}_2(\\hat{u}, \\hat{v}) = \\frac{\\D}{\\D\\lambda} \\E_{,uu}[ u^\\ast(\\lambda), \\lambda; \\hat{u}, \\hat{v}] \\biggr \\rvert_{\\lambda = \\lambda_0}\n",
    "= \\E_{,uuu}(u_0, \\lambda_0; \\dot{u}_0, \\hat{u}, \\hat{v}) + \\E_{,uu\\lambda}(u_0, \\lambda_0; \\hat{u}, \\hat{v})\n",
    "$${#eq-20221227184821}\n",
    "$$\n",
    "  \\begin{aligned}[b]\n",
    "    \\ddot{\\E}_2(\\hat{u}, \\hat{v}) = \\frac{\\D^2}{\\D\\lambda^2} \\E_{,uu}[ u^\\ast(\\lambda), \\lambda; \\hat{u}, \\hat{v}] \\biggr \\rvert_{\\lambda = \\lambda_0}\n",
    "\t={} & \\E_{,uuuu}(u_0, \\lambda_0; \\dot{u}_0, \\dot{u}_0, \\hat{u}, \\hat{v}) + 2\\E_{,uuu\\lambda}(u_0, \\lambda_0; \\dot{u}_0, \\hat{u}, \\hat{v})\\\\\n",
    "    & + \\E_{,uu\\lambda\\lambda}( u_0, \\lambda_0; \\hat{u}, \\hat{v}) + \\E_{,uuu}(u_0, \\lambda_0, \\ddot{u}_0),\n",
    "  \\end{aligned}\n",
    "$$\n",
    "and, similarly, $\\dot{\\E}_3$, $\\ddot{\\E}_3$, etc."
   ]
  },
  {
   "cell_type": "markdown",
   "id": "afe5dc35-e9a1-49cd-9e6f-ed91a66d944f",
   "metadata": {
    "tags": []
   },
   "source": [
    "## Computational setting {#sec-20230103084732}"
   ]
  },
  {
   "cell_type": "markdown",
   "id": "41b34b6a-3fb7-46a9-835e-fce181be91d5",
   "metadata": {},
   "source": [
    "We will use the [Python](https://www.python.org) library [SymPy](https://www.sympy.org) for symbolic mathematics and rely also on the [IPython](https://ipython.org/) library (in particular, [IPython.display.Math](https://ipython.readthedocs.io/en/stable/api/generated/IPython.display.html#IPython.display.Math)) for pretty $\\LaTeX$ output. Some useful functions are defined in the `lsk.py` module, which will be systematically imported."
   ]
  },
  {
   "cell_type": "markdown",
   "id": "0a41a233-96fe-463f-a6bb-1e4b7d15b792",
   "metadata": {},
   "source": [
    "Without loss of generality, it will be assumed in all symbolic calculations that $\\lambda_0 = 0$ and $u_0 = 0$. The general case $\\lambda_0 \\neq 0$ and $u_0 \\neq 0$ is readily recovered through the substitution $\\lambda \\leftrightarrow \\lambda - \\lambda_0$ and $u \\leftrightarrow u - u_0$."
   ]
  },
  {
   "cell_type": "markdown",
   "id": "8c834358-9e5b-48ce-bd51-cd3a3d413101",
   "metadata": {},
   "source": [
    "The following developments involve the energy $(u, \\lambda) \\mapsto \\E(u, \\lambda)$ and its differentials at the critical point $(u_0, \\lambda_0)$, as well as the fundamental path $\\lambda \\mapsto u^\\ast(\\lambda)$ and its derivatives at $\\lambda = \\lambda_0$. It will therefore be convenient to express $\\E$ and $u^\\star$ as Taylor expansions with respect to $u$ and $\\lambda$."
   ]
  },
  {
   "cell_type": "markdown",
   "id": "e3b4ab22-a7e6-4cbc-8d10-556024d8ad1e",
   "metadata": {},
   "source": [
    "We start with the Taylor expansion of the energy $\\E$. We define its differentials at the critical point. These differentials are stored in a dictionary. Values are indexed with the order of the differentials with respect to $u$ and $\\lambda$."
   ]
  },
  {
   "cell_type": "raw",
   "id": "41aab325-3f55-4e78-91f5-55ca3f08b329",
   "metadata": {},
   "source": [
    "::: {.callout-note}"
   ]
  },
  {
   "cell_type": "markdown",
   "id": "9be78103-dc98-4c45-8bc4-fd1179bf7d57",
   "metadata": {},
   "source": [
    "In the following code blocks, `n` is the total order of the differential, `p` is the order of the differential with respect to $u$ and `q = n - p` is the order of the differential with respect to $\\lambda$."
   ]
  },
  {
   "cell_type": "raw",
   "id": "e64eb23f-b660-494f-b09d-92cd8332385a",
   "metadata": {},
   "source": [
    ":::"
   ]
  },
  {
   "cell_type": "code",
   "execution_count": 1,
   "id": "b4ce1c44-543f-446f-ac7b-414af6458cd0",
   "metadata": {},
   "outputs": [],
   "source": [
    "from lsk import *\n",
    "\n",
    "λ, u, v, u_hat, v_hat, w_hat = sympy.symbols(r\"\\lambda u v \\hat{u} \\hat{v} \\hat{w}\")"
   ]
  },
  {
   "cell_type": "code",
   "execution_count": 2,
   "id": "210ea367-45e1-4c8d-a9e8-19be4234fba2",
   "metadata": {},
   "outputs": [],
   "source": [
    "dE = dict()\n",
    "for n in range(1, 5):\n",
    "    for p in range(n + 1):\n",
    "        q = n - p\n",
    "        if q == 0:\n",
    "            dE[p, q] = sympy.Symbol(r\"\\E_{}\".format(p))\n",
    "        else:\n",
    "            dE[p, q] = sympy.Symbol(r\"\\E_{\" + p * \"u\" + q * \"\\lambda\" + \"}\")\n",
    "            \n",
    "# Remember that the energy is stationary at the critical point (equilibrium)\n",
    "dE[1, 0] = zero"
   ]
  },
  {
   "cell_type": "markdown",
   "id": "136e9828-af72-4cdd-8149-06e5a6fee520",
   "metadata": {},
   "source": [
    "The dictionary `dE` should be understood as follows: `dE[(2, 1)] == dE[2, 1]` is the symbol $\\E_{uu\\lambda}$, which stands for $\\E_{,uu\\lambda}(u_0, \\lambda_0; \\bullet, \\bullet)$. The following symbols have been defined."
   ]
  },
  {
   "cell_type": "code",
   "execution_count": 3,
   "id": "130d7da9-50dd-48e8-b703-838d0867d6d2",
   "metadata": {},
   "outputs": [
    {
     "data": {
      "text/latex": [
       "$\\displaystyle \\begin{align}\\E_{\\lambda}&=\\E_{,\\lambda}(u_0, \\lambda_0)&0&=\\E_{,u}(u_0, \\lambda_0)&\\E_{\\lambda\\lambda}&=\\E_{,\\lambda\\lambda}(u_0, \\lambda_0)\\\\\\E_{u\\lambda}&=\\E_{,u\\lambda}(u_0, \\lambda_0)&\\E_{2}&=\\E_{,uu}(u_0, \\lambda_0)&\\E_{\\lambda\\lambda\\lambda}&=\\E_{,\\lambda\\lambda\\lambda}(u_0, \\lambda_0)\\\\\\E_{u\\lambda\\lambda}&=\\E_{,u\\lambda\\lambda}(u_0, \\lambda_0)&\\E_{uu\\lambda}&=\\E_{,uu\\lambda}(u_0, \\lambda_0)&\\E_{3}&=\\E_{,uuu}(u_0, \\lambda_0)\\\\\\E_{\\lambda\\lambda\\lambda\\lambda}&=\\E_{,\\lambda\\lambda\\lambda\\lambda}(u_0, \\lambda_0)&\\E_{u\\lambda\\lambda\\lambda}&=\\E_{,u\\lambda\\lambda\\lambda}(u_0, \\lambda_0)&\\E_{uu\\lambda\\lambda}&=\\E_{,uu\\lambda\\lambda}(u_0, \\lambda_0)\\\\\\E_{uuu\\lambda}&=\\E_{,uuu\\lambda}(u_0, \\lambda_0)&\\E_{4}&=\\E_{,uuuu}(u_0, \\lambda_0)&\\end{align}$"
      ],
      "text/plain": [
       "<IPython.core.display.Math object>"
      ]
     },
     "metadata": {},
     "output_type": "display_data"
    }
   ],
   "source": [
    "#| code-fold: true\n",
    "\n",
    "_dict = dict()\n",
    "for n in range(1, 5):\n",
    "    for p in range(n + 1):\n",
    "        q = n - p\n",
    "        _dict[dE[p, q]] = (\"\\\\E_{,\" + p * \"u\" \n",
    "                           + q * \"\\\\lambda\"\n",
    "                           + \"}(u_0, \\lambda_0)\")\n",
    "        \n",
    "display_latex_dict(_dict, num_cols=3)"
   ]
  },
  {
   "cell_type": "markdown",
   "id": "d74eb6ff-dda3-475e-ac6e-45fe27409585",
   "metadata": {},
   "source": [
    "where\n",
    "\n",
    "- $\\E_\\lambda$, $\\E_{\\lambda\\lambda}$, $\\E_{\\lambda\\lambda\\lambda}$ and $\\E_{\\lambda\\lambda\\lambda\\lambda}$ are *scalar quantities*,\n",
    "- $\\E_{u\\lambda}$, $\\E_{u\\lambda\\lambda}$ and $\\E_{u\\lambda\\lambda\\lambda}$ are *linear forms*,\n",
    "- $\\E_2$, $\\E_{uu\\lambda}$ and $\\E_{uu\\lambda\\lambda}$ are *bilinear forms*,\n",
    "- $\\E_3$ and $\\E_{uuu\\lambda}$ are *trilinear forms*,\n",
    "- $\\E_4$  is a *quadrilinear form*."
   ]
  },
  {
   "cell_type": "raw",
   "id": "035fee06-a4a7-4767-a9bb-f377295029d4",
   "metadata": {},
   "source": [
    "::: {.callout-important}"
   ]
  },
  {
   "cell_type": "markdown",
   "id": "747ef411-50c3-47cd-96f8-72680155cb6f",
   "metadata": {},
   "source": [
    "Note that all these differentials are defined as SymPy *scalars*. A definition as a SymPy *function* (e.g. `E2 = Function(r\"\\E_2\")`) would be more appropriate. However, SymPy would fail to account for multilinearity or symmetry of these forms. Therefore, we use the following trick: all multi-linear forms are defined as scalars, and the standard multiplication operator `*` means function application. In other words, `E2 * (α * u + β * v) * w` (resp. `E2 * u * v - E2 * v * u`) should be understood as `E2(α * u + β * v, w)` (resp. `E2(u, v) - E2(v, u)`). In both cases, the expressions would are correctly simplified.\n",
    "\n",
    "Whether the symbols in an expression are true scalars or vectors (elements of $U$) should be clear from the context. For example, in the expression: `λ * E2 * u * v`, the first `*` is a true multiplication, while the other `*` refer to function application."
   ]
  },
  {
   "cell_type": "raw",
   "id": "a8f26902-47d7-4550-8506-4997e0c679d8",
   "metadata": {
    "tags": []
   },
   "source": [
    ":::"
   ]
  },
  {
   "cell_type": "markdown",
   "id": "af694d11-00ca-4b2f-b58e-75ac6c59e454",
   "metadata": {},
   "source": [
    "The energy $\\E(u, \\lambda)$ is now expressed as a Taylor expansion about the critical point."
   ]
  },
  {
   "cell_type": "code",
   "execution_count": 4,
   "id": "cc6918f4-fd37-4100-bfbc-b3870f30b4f7",
   "metadata": {},
   "outputs": [],
   "source": [
    "_f = lambda p, q: sympy.binomial(p + q, p) / sympy.factorial(p + q)\n",
    "E = sum(_f(p, q) * dE_pq * u**p * λ**q for (p, q), dE_pq in dE.items())"
   ]
  },
  {
   "cell_type": "code",
   "execution_count": 5,
   "id": "5fe4d944-e8a8-44c7-ace4-644a0c53c229",
   "metadata": {},
   "outputs": [
    {
     "data": {
      "text/latex": [
       "$\\displaystyle \\E(u, \\lambda)=\\frac{\\E_{2} u^{2}}{2} + \\frac{\\E_{3} u^{3}}{6} + \\frac{\\E_{4} u^{4}}{24} + \\frac{\\E_{\\lambda\\lambda\\lambda\\lambda} \\lambda^{4}}{24} + \\frac{\\E_{\\lambda\\lambda\\lambda} \\lambda^{3}}{6} + \\frac{\\E_{\\lambda\\lambda} \\lambda^{2}}{2} + \\E_{\\lambda} \\lambda + \\frac{\\E_{u\\lambda\\lambda\\lambda} \\lambda^{3} u}{6} + \\frac{\\E_{u\\lambda\\lambda} \\lambda^{2} u}{2} + \\E_{u\\lambda} \\lambda u + \\frac{\\E_{uu\\lambda\\lambda} \\lambda^{2} u^{2}}{4} + \\frac{\\E_{uu\\lambda} \\lambda u^{2}}{2} + \\frac{\\E_{uuu\\lambda} \\lambda u^{3}}{6}$"
      ],
      "text/plain": [
       "<IPython.core.display.Math object>"
      ]
     },
     "metadata": {},
     "output_type": "display_data"
    }
   ],
   "source": [
    "#| code-fold: true\n",
    "display_latex_equation(r\"\\E(u, \\lambda)\", E)"
   ]
  },
  {
   "cell_type": "markdown",
   "id": "e4316528-d0e4-4fe2-8e88-06247c06a71b",
   "metadata": {},
   "source": [
    "We now turn to the definition of the fundamental path $\\lambda \\mapsto u^\\star(\\lambda)$. We first define in a dictionary the derivatives of $u^\\star$ with respect to $\\lambda$, at $\\lambda = \\lambda_0 = 0$. For example, `du_0[2]` is the symbol $\\ddot{u}_0$, which stands for $\\D^2 u^\\star / \\D \\lambda^2 \\rvert_{\\lambda=\\lambda_0}$."
   ]
  },
  {
   "cell_type": "code",
   "execution_count": 6,
   "id": "d6cb698c-def1-4331-af47-b939d6a02d45",
   "metadata": {},
   "outputs": [],
   "source": [
    "du_0 = {n: sympy.Symbol(\"\\\\\" + \"\".join(n * (\"d\",)) + \"ot{u}_0\") for n in range(1, 5)}\n",
    "\n",
    "_dict = {f\"\\\\frac{{\\\\D^{k}u^\\\\ast}}{{\\\\D \\\\lambda^{k}}}\" : v for k, v in du_0.items()}"
   ]
  },
  {
   "cell_type": "code",
   "execution_count": 7,
   "id": "b2d5ed39-3772-4c1d-b495-b07567e60657",
   "metadata": {},
   "outputs": [
    {
     "data": {
      "text/latex": [
       "$\\displaystyle \\begin{align}\\frac{\\D^1u^\\ast}{\\D \\lambda^1}&=\\dot{u}_0&\\frac{\\D^2u^\\ast}{\\D \\lambda^2}&=\\ddot{u}_0&\\frac{\\D^3u^\\ast}{\\D \\lambda^3}&=\\dddot{u}_0&\\frac{\\D^4u^\\ast}{\\D \\lambda^4}&=\\ddddot{u}_0\\\\\\end{align}$"
      ],
      "text/plain": [
       "<IPython.core.display.Math object>"
      ]
     },
     "metadata": {},
     "output_type": "display_data"
    }
   ],
   "source": [
    "#| code-fold: true\n",
    "display_latex_dict(_dict, num_cols=4)"
   ]
  },
  {
   "cell_type": "markdown",
   "id": "80de7b37-a37c-42db-9401-55e2eb85b5ed",
   "metadata": {},
   "source": [
    "The fundamental path is then defined through its Taylor expansion."
   ]
  },
  {
   "cell_type": "code",
   "execution_count": 8,
   "id": "c9e76a1b-5c37-46ef-8cdd-867041bcf72e",
   "metadata": {},
   "outputs": [],
   "source": [
    "u_star = sum(λ**n / sympy.factorial(n) * v for n, v in du_0.items())"
   ]
  },
  {
   "cell_type": "code",
   "execution_count": 9,
   "id": "aad0b1e4-bd2a-483d-a492-2ffce42edeae",
   "metadata": {},
   "outputs": [
    {
     "data": {
      "text/latex": [
       "$\\displaystyle u^\\star(\\lambda)=\\frac{\\ddddot{u}_0 \\lambda^{4}}{24} + \\frac{\\dddot{u}_0 \\lambda^{3}}{6} + \\frac{\\ddot{u}_0 \\lambda^{2}}{2} + \\dot{u}_0 \\lambda$"
      ],
      "text/plain": [
       "<IPython.core.display.Math object>"
      ]
     },
     "metadata": {},
     "output_type": "display_data"
    }
   ],
   "source": [
    "#| code-fold: true\n",
    "display_latex_equation(r\"u^\\star(\\lambda)\", u_star)"
   ]
  },
  {
   "cell_type": "markdown",
   "id": "6c62e3fd-f1d2-49de-a512-411dbe79c9ac",
   "metadata": {},
   "source": [
    "It will be assumed in the following that $v, \\hat{v} \\in V$, therefore terms of the form $\\E_2(\\bullet, v)$ and $\\E_2(\\bullet, \\hat{v})$ should vanish. The following function performs this simplification."
   ]
  },
  {
   "cell_type": "code",
   "execution_count": 10,
   "id": "d53c7b0f-2dfb-435d-8d2a-99b01ed650c6",
   "metadata": {},
   "outputs": [],
   "source": [
    "# Let's define a convenient alias to the Hessian\n",
    "E2 = dE[2, 0]\n",
    "\n",
    "def simplify_E2(expr):\n",
    "    expr = expr.expand()\n",
    "    coeff_E2 = expr.coeff(E2).expand()\n",
    "    coeff_E2_v = coeff_E2.coeff(v)\n",
    "    coeff_E2_v_hat = (coeff_E2 - coeff_E2_v * v).expand().coeff(v_hat)\n",
    "    return (expr - (coeff_E2_v * E2 * v + coeff_E2_v_hat * E2 * v_hat)).expand()\n",
    "\n",
    "assert simplify_E2(E2 * v) == 0\n",
    "assert simplify_E2(E2 * v_hat) == 0\n",
    "assert simplify_E2(3 * v + 4 * v_hat + 5 * v * v_hat + 6 * E2 * v + 7 * E2 * v_hat + 8 * E2 * v * v_hat) == 3 * v + 4 * v_hat + 5 * v * v_hat"
   ]
  },
  {
   "cell_type": "markdown",
   "id": "03734dfe-af0d-4030-9488-a498a7f9448d",
   "metadata": {},
   "source": [
    "## Elimination of the mixed derivatives of the energy {#sec-20230208081549}"
   ]
  },
  {
   "cell_type": "markdown",
   "id": "35739010-f378-4e71-88f3-7a5f4855d5b9",
   "metadata": {},
   "source": [
    "Since the fundamental path $\\lambda \\mapsto u^\\ast(\\lambda)$ is an equilibrium path, the various differentials of the energy at the critical point are not linearly independent. To express the relationships between these forms, we define $\\mathcal R^\\ast(\\lambda; \\bullet)$ as the jacobian of the energy along the fundamental path $u^\\ast(\\lambda)$\n",
    "$$\n",
    "\\mathcal R^\\ast(\\lambda; \\bullet) = \\E_{,u}[u^\\ast(\\lambda), \\lambda; \\bullet].\n",
    "$$"
   ]
  },
  {
   "cell_type": "code",
   "execution_count": 11,
   "id": "be998814-5915-4094-a0a3-3a3be4c015f6",
   "metadata": {},
   "outputs": [],
   "source": [
    "R_star = (E.diff(u) * u_hat).subs(u, u_star).expand()"
   ]
  },
  {
   "cell_type": "code",
   "execution_count": 12,
   "id": "5a5aa88d-4d3c-4f3a-b0f7-1a9814a52a9d",
   "metadata": {},
   "outputs": [
    {
     "data": {
      "text/latex": [
       "$\\displaystyle \\mathcal{R}^\\ast(\\lambda;\\hat{u})=\\lambda \\left(\\E_{2} \\dot{u}_0 \\hat{u} + \\E_{u\\lambda} \\hat{u}\\right) + \\lambda^{2} \\left(\\frac{\\E_{2} \\ddot{u}_0 \\hat{u}}{2} + \\frac{\\E_{3} \\dot{u}_0^{2} \\hat{u}}{2} + \\frac{\\E_{u\\lambda\\lambda} \\hat{u}}{2} + \\E_{uu\\lambda} \\dot{u}_0 \\hat{u}\\right) + \\lambda^{3} \\left(\\frac{\\E_{2} \\dddot{u}_0 \\hat{u}}{6} + \\frac{\\E_{3} \\ddot{u}_0 \\dot{u}_0 \\hat{u}}{2} + \\frac{\\E_{4} \\dot{u}_0^{3} \\hat{u}}{6} + \\frac{\\E_{u\\lambda\\lambda\\lambda} \\hat{u}}{6} + \\frac{\\E_{uu\\lambda\\lambda} \\dot{u}_0 \\hat{u}}{2} + \\frac{\\E_{uu\\lambda} \\ddot{u}_0 \\hat{u}}{2} + \\frac{\\E_{uuu\\lambda} \\dot{u}_0^{2} \\hat{u}}{2}\\right) + \\lambda^{4} \\left(\\frac{\\E_{2} \\ddddot{u}_0 \\hat{u}}{24} + \\frac{\\E_{3} \\dddot{u}_0 \\dot{u}_0 \\hat{u}}{6} + \\frac{\\E_{3} \\ddot{u}_0^{2} \\hat{u}}{8} + \\frac{\\E_{4} \\ddot{u}_0 \\dot{u}_0^{2} \\hat{u}}{4} + \\frac{\\E_{uu\\lambda\\lambda} \\ddot{u}_0 \\hat{u}}{4} + \\frac{\\E_{uu\\lambda} \\dddot{u}_0 \\hat{u}}{6} + \\frac{\\E_{uuu\\lambda} \\ddot{u}_0 \\dot{u}_0 \\hat{u}}{2}\\right) + O\\left(\\lambda^{5}\\right)$"
      ],
      "text/plain": [
       "<IPython.core.display.Math object>"
      ]
     },
     "metadata": {},
     "output_type": "display_data"
    }
   ],
   "source": [
    "#| code-fold: true\n",
    "display_latex_equation(r\"\\mathcal{R}^\\ast(\\lambda;\" + sympy.latex(u_hat) + \")\",\n",
    "                       R_star.series(λ, 0, 5))"
   ]
  },
  {
   "cell_type": "markdown",
   "id": "c09ebf3d-698f-453f-8ca4-8056d136cbc8",
   "metadata": {},
   "source": [
    "Of course, since $\\lambda \\mapsto u^\\ast(\\lambda)$ is an equilibrium path, we have $\\mathcal R^\\ast(\\lambda; \\bullet) = 0$ for all $\\lambda$. Therefore, all coefficients of the above polynomial in $\\lambda$ are null, which delivers expressions of $\\E_{u\\lambda}$, $\\E_{u\\lambda\\lambda}$ and $\\E_{u\\lambda\\lambda\\lambda}$"
   ]
  },
  {
   "cell_type": "code",
   "execution_count": 13,
   "id": "1a1010bc-7865-46bb-bf3b-e1aad6003452",
   "metadata": {},
   "outputs": [],
   "source": [
    "mixed1 = dict()\n",
    "\n",
    "for q in range(1, 4):\n",
    "    x = dE[1, q]\n",
    "    eq = R_star.coeff(λ, q)\n",
    "    sol = sympy.solve(eq, x)[0]\n",
    "    mixed1[x] = sol"
   ]
  },
  {
   "cell_type": "code",
   "execution_count": 14,
   "id": "1421d0a8-39e5-403e-863f-32bd601d5086",
   "metadata": {},
   "outputs": [
    {
     "data": {
      "text/latex": [
       "$\\displaystyle \\begin{align}\\E_{u\\lambda}&=- \\E_{2} \\dot{u}_0\\\\\\E_{u\\lambda\\lambda}&=- \\E_{2} \\ddot{u}_0 - \\E_{3} \\dot{u}_0^{2} - 2 \\E_{uu\\lambda} \\dot{u}_0\\\\\\E_{u\\lambda\\lambda\\lambda}&=- \\E_{2} \\dddot{u}_0 - 3 \\E_{3} \\ddot{u}_0 \\dot{u}_0 - \\E_{4} \\dot{u}_0^{3} - 3 \\E_{uu\\lambda\\lambda} \\dot{u}_0 - 3 \\E_{uu\\lambda} \\ddot{u}_0 - 3 \\E_{uuu\\lambda} \\dot{u}_0^{2}\\\\\\end{align}$"
      ],
      "text/plain": [
       "<IPython.core.display.Math object>"
      ]
     },
     "metadata": {},
     "output_type": "display_data"
    }
   ],
   "source": [
    "#| code-fold: true\n",
    "display_latex_dict(mixed1, num_cols=1)"
   ]
  },
  {
   "cell_type": "markdown",
   "id": "0fe99a27-cf8e-4e43-a79e-bb15e3becf37",
   "metadata": {},
   "source": [
    "We want to get rid of the remaining mixed derivatives, namely: $\\E_{uu\\lambda}$, $\\E_{uuu\\lambda}$ and $\\E_{uu\\lambda\\lambda}$. To do so, we introduce the derivatives $\\dot{\\E}_2$, $\\ddot{\\E}_2$ and $\\dot{\\E}_3$ defined in @sec-20230105101657."
   ]
  },
  {
   "cell_type": "code",
   "execution_count": 15,
   "id": "4553345d-132b-4b1a-a4c0-99b797ae7617",
   "metadata": {},
   "outputs": [],
   "source": [
    "E2_dot, E2_ddot, E3_dot = sympy.symbols(\"\\dot{\\E}_2 \\ddot{\\E}_2 \\dot{\\E}_3\")\n",
    "\n",
    "E_uu_star = E.diff(u, 2).subs(u, u_star).expand()\n",
    "E_uuu_star = E.diff(u, 3).subs(u, u_star).expand()\n",
    "\n",
    "eqs = [sympy.Eq(E2_dot, E_uu_star.coeff(λ, 1)),\n",
    "       sympy.Eq(E3_dot, E_uuu_star.coeff(λ, 1)),\n",
    "       sympy.Eq(E2_ddot, 2 * E_uu_star.coeff(λ, 2))]\n",
    "\n",
    "unknowns = [dE[2, 1], dE[3, 1], dE[2, 2]] # E_uuλ, E_uuuλ, E_uuλλ\n",
    "\n",
    "mixed2 = dict()\n",
    "for eq, x in zip(eqs, unknowns):\n",
    "    mixed2[x] = sympy.solve(eq, x)[0].subs(mixed2).expand()"
   ]
  },
  {
   "cell_type": "markdown",
   "id": "9504c9ae-9eae-44b5-96b0-016d8a6b71d1",
   "metadata": {},
   "source": [
    "We get the following expressions"
   ]
  },
  {
   "cell_type": "code",
   "execution_count": 16,
   "id": "d97339ad-f5c3-4744-a881-bde577c7a9d7",
   "metadata": {},
   "outputs": [
    {
     "data": {
      "text/latex": [
       "$\\displaystyle \\begin{align}\\E_{uu\\lambda}&=- \\E_{3} \\dot{u}_0 + \\dot{\\E}_2\\\\\\E_{uuu\\lambda}&=- \\E_{4} \\dot{u}_0 + \\dot{\\E}_3\\\\\\E_{uu\\lambda\\lambda}&=- \\E_{3} \\ddot{u}_0 + \\E_{4} \\dot{u}_0^{2} + \\ddot{\\E}_2 - 2 \\dot{\\E}_3 \\dot{u}_0\\\\\\end{align}$"
      ],
      "text/plain": [
       "<IPython.core.display.Math object>"
      ]
     },
     "metadata": {},
     "output_type": "display_data"
    }
   ],
   "source": [
    "#| code-fold: true\n",
    "display_latex_dict(mixed2, num_cols=1)"
   ]
  },
  {
   "cell_type": "markdown",
   "id": "831a9761-d21a-4833-b7c2-5987777c1b14",
   "metadata": {},
   "source": [
    "Combining the above results allows to fully eliminate the mixed derivatives"
   ]
  },
  {
   "cell_type": "code",
   "execution_count": 17,
   "id": "1a9ac28e-c6ea-4727-b9f8-4ec2cb5edfa9",
   "metadata": {},
   "outputs": [
    {
     "data": {
      "text/latex": [
       "$\\displaystyle \\begin{align}\\E_{u\\lambda}&=- \\E_{2} \\dot{u}_0\\\\\\E_{u\\lambda\\lambda}&=- \\E_{2} \\ddot{u}_0 + \\E_{3} \\dot{u}_0^{2} - 2 \\dot{\\E}_2 \\dot{u}_0\\\\\\E_{u\\lambda\\lambda\\lambda}&=- \\E_{2} \\dddot{u}_0 + 3 \\E_{3} \\ddot{u}_0 \\dot{u}_0 - \\E_{4} \\dot{u}_0^{3} - 3 \\ddot{\\E}_2 \\dot{u}_0 - 3 \\ddot{u}_0 \\dot{\\E}_2 + 3 \\dot{\\E}_3 \\dot{u}_0^{2}\\\\\\E_{uu\\lambda}&=- \\E_{3} \\dot{u}_0 + \\dot{\\E}_2\\\\\\E_{uuu\\lambda}&=- \\E_{4} \\dot{u}_0 + \\dot{\\E}_3\\\\\\E_{uu\\lambda\\lambda}&=- \\E_{3} \\ddot{u}_0 + \\E_{4} \\dot{u}_0^{2} + \\ddot{\\E}_2 - 2 \\dot{\\E}_3 \\dot{u}_0\\\\\\end{align}$"
      ],
      "text/plain": [
       "<IPython.core.display.Math object>"
      ]
     },
     "metadata": {},
     "output_type": "display_data"
    }
   ],
   "source": [
    "#| code-fold: true\n",
    "\n",
    "mixed = {k: v.subs(mixed2).expand() for k, v in mixed1.items()}\n",
    "mixed.update(mixed2)\n",
    "\n",
    "display_latex_dict(mixed, num_cols=1)"
   ]
  },
  {
   "cell_type": "markdown",
   "id": "fad852af-e146-4405-926b-de5cdeb3e708",
   "metadata": {},
   "source": [
    "These expressions can be plugged into the expansion of the energy."
   ]
  },
  {
   "cell_type": "code",
   "execution_count": 18,
   "id": "5c50e928-0558-4f88-85cb-156324e99a6a",
   "metadata": {},
   "outputs": [],
   "source": [
    "E = E.subs(mixed).expand()"
   ]
  },
  {
   "cell_type": "code",
   "execution_count": 19,
   "id": "9e01a0b9-c4a7-4c43-89ab-731c52fc9d15",
   "metadata": {},
   "outputs": [
    {
     "data": {
      "text/latex": [
       "$\\displaystyle \\E(u, \\lambda)=- \\frac{\\E_{2} \\dddot{u}_0 \\lambda^{3} u}{6} - \\frac{\\E_{2} \\ddot{u}_0 \\lambda^{2} u}{2} - \\E_{2} \\dot{u}_0 \\lambda u + \\frac{\\E_{2} u^{2}}{2} + \\frac{\\E_{3} \\ddot{u}_0 \\dot{u}_0 \\lambda^{3} u}{2} - \\frac{\\E_{3} \\ddot{u}_0 \\lambda^{2} u^{2}}{4} + \\frac{\\E_{3} \\dot{u}_0^{2} \\lambda^{2} u}{2} - \\frac{\\E_{3} \\dot{u}_0 \\lambda u^{2}}{2} + \\frac{\\E_{3} u^{3}}{6} - \\frac{\\E_{4} \\dot{u}_0^{3} \\lambda^{3} u}{6} + \\frac{\\E_{4} \\dot{u}_0^{2} \\lambda^{2} u^{2}}{4} - \\frac{\\E_{4} \\dot{u}_0 \\lambda u^{3}}{6} + \\frac{\\E_{4} u^{4}}{24} + \\frac{\\E_{\\lambda\\lambda\\lambda\\lambda} \\lambda^{4}}{24} + \\frac{\\E_{\\lambda\\lambda\\lambda} \\lambda^{3}}{6} + \\frac{\\E_{\\lambda\\lambda} \\lambda^{2}}{2} + \\E_{\\lambda} \\lambda - \\frac{\\ddot{\\E}_2 \\dot{u}_0 \\lambda^{3} u}{2} + \\frac{\\ddot{\\E}_2 \\lambda^{2} u^{2}}{4} - \\frac{\\ddot{u}_0 \\dot{\\E}_2 \\lambda^{3} u}{2} - \\dot{\\E}_2 \\dot{u}_0 \\lambda^{2} u + \\frac{\\dot{\\E}_2 \\lambda u^{2}}{2} + \\frac{\\dot{\\E}_3 \\dot{u}_0^{2} \\lambda^{3} u}{2} - \\frac{\\dot{\\E}_3 \\dot{u}_0 \\lambda^{2} u^{2}}{2} + \\frac{\\dot{\\E}_3 \\lambda u^{3}}{6}$"
      ],
      "text/plain": [
       "<IPython.core.display.Math object>"
      ]
     },
     "metadata": {},
     "output_type": "display_data"
    }
   ],
   "source": [
    "#| code-fold: true\n",
    "display_latex_equation(r\"\\E(u, \\lambda)\", E)"
   ]
  },
  {
   "cell_type": "markdown",
   "id": "d249580a-e6c9-47e2-ad8a-48b199214cc1",
   "metadata": {},
   "source": [
    "Some of the previous symbolic results are now saved for further use in the subsequent notebooks."
   ]
  },
  {
   "cell_type": "code",
   "execution_count": 20,
   "id": "7d633105-d7d4-4b59-b5aa-03114449f194",
   "metadata": {},
   "outputs": [],
   "source": [
    "data = {\"E\" : sympy.srepr(E)}\n",
    "\n",
    "with open(\"problem_setting.out.json\", \"w\") as f:\n",
    "    json.dump(data, f)"
   ]
  }
 ],
 "metadata": {
  "kernelspec": {
   "display_name": "Python 3 (ipykernel)",
   "language": "python",
   "name": "python3"
  },
  "language_info": {
   "codemirror_mode": {
    "name": "ipython",
    "version": 3
   },
   "file_extension": ".py",
   "mimetype": "text/x-python",
   "name": "python",
   "nbconvert_exporter": "python",
   "pygments_lexer": "ipython3",
   "version": "3.10.6"
  }
 },
 "nbformat": 4,
 "nbformat_minor": 5
}
