{
 "cells": [
  {
   "cell_type": "markdown",
   "id": "eb9b2274-0706-431e-8199-24891ea563fb",
   "metadata": {
    "tags": []
   },
   "source": [
    "# Bifurcation equations {#sec-20230102153124}\n",
    "\n",
    "This notebook uses $\\LaTeX\\newcommand{\\D}{\\mathrm{d}}\\newcommand{\\E}{\\mathcal{E}}\\newcommand{\\order}[2][1]{#2^{(#1)}}\\newcommand{\\reals}{\\mathbb{R}}$ custom macros.\n",
    "\n",
    "## Introduction\n",
    "\n",
    "In this chapter, the bifurcation analysis of the perfect system is performed symbolically. It is assumed that at through the critical point passes a second equilibrium curve $\\lambda \\mapsto u(\\lambda)$, besides the fundamental branch $\\lambda \\mapsto u^\\star(\\lambda)$. We seek an asymptotic expansion of $u(\\lambda)$ for $\\lambda \\to \\lambda_0$ (critical load). It will be convenient to introduce an auxiliary parametrization $\\eta$ such that the bifurcated branch is defined as the set of points $(u(\\eta), \\lambda(\\eta))$. The functions $\\eta \\mapsto \\lambda(\\eta)$ and $\\eta \\mapsto u(\\eta)$ are expanded as follows\n",
    "$$\n",
    "\\lambda(\\eta) = \\order[0]{\\lambda} + \\eta \\, \\order[1]{\\lambda} + \\tfrac{1}{2}\\eta^2 \\, \\order[2]{\\lambda} + \\ldots\n",
    "\\quad \\text{and} \\quad\n",
    "u(\\eta) = u^\\ast[\\lambda(\\eta)] + \\eta \\, \\order[1]{u} + \\tfrac{1}{2} \\eta^2 \\, \\order[2]{u} + \\ldots\n",
    "$$ {#eq-20230528174310}\n",
    "\n",
    "It will be shown below that\n",
    "$$\n",
    "\\order[1]{u} = \\order[1]{\\xi_i} \\, v_i\n",
    "\\quad \\text{and} \\quad\n",
    "\\order[2]{u} = \\order[2]{\\xi_i} \\, v_i + \\order[1]{\\xi_i} \\, \\order[1]{\\xi_j} \\, w_{ij}  + 2\\order[1]{\\lambda} \\, \\order[1]{\\xi_i} \\, w_{i\\lambda},\n",
    "$$ {#eq-20230411141319}\n",
    "where the coefficients $\\order[1]{\\lambda}$, $\\order[2]{\\lambda}$, $\\order[1]{\\xi}_i$ and $\\order[2]{\\xi}_i$ solve the **first bifurcation equation**\n",
    "$$\n",
    "\\tfrac{1}{2} E_{ijk} \\, \\order[1]{\\xi_j} \\, \\order[1]{\\xi_k} + \\order[1]{\\lambda} \\, \\dot{E}_{ij} \\, \\order[1]{\\xi_j} = 0\n",
    "$$ {#eq-20230125062336}\n",
    "and the **second bifurcation equation**\n",
    "$$\n",
    "\\begin{aligned}[b]\n",
    "\\tfrac{1}{3} E_{ijkl} \\, \\order[1]{\\xi}_j \\, \\order[1]{\\xi}_k \\, \\order[1]{\\xi}_l\n",
    "+ \\order[1]{\\lambda} \\, \\bigl( \\dot{E}_{ijk} \\, \\order[1]{\\xi}_k + \\order[1]{\\lambda} \\, \\ddot{E}_{ij} \\bigr) \\, \\order[1]{\\xi}_j &\\\\\n",
    "+ \\bigl( E_{ijk} \\, \\order[1]{\\xi}_k + \\order[1]{\\lambda} \\, \\dot{E}_{ij} \\bigr) \\order[2]{\\xi}_j\n",
    "+ \\order[2]{\\lambda} \\, \\dot{E}_{ij} \\, \\order[1]{\\xi}_j & = 0,\n",
    "\\end{aligned}\n",
    "$$ {#eq-20230124205642}\n",
    "\n",
    "The tensors $\\dot{E}_{ij}$, $\\ddot{E}_{ij}$, $E_{ijk}$, $\\dot{E}_{ijk}$ and $E_{ijkl}$ have been defined in @sec-20230402152824 (see @sec-20230528173310).\n",
    "\n",
    "The starting point is the symbolic expression of the residual $(u, \\lambda) \\mapsto \\E_{,u}(u, \\lambda)$ that was derived in @sec-20230208081549. We plug the postulated expansions (@eq-20230528174310) into the equilibrium equation\n",
    "$$\n",
    "\\E_{, u}[u(\\eta), \\lambda(\\eta); \\hat{u}] = 0 \\quad \\text{for all} \\quad \\hat{u} \\in U.\n",
    "$$\n",
    "\n",
    "The coefficients of $\\eta^0$, $\\eta^1$, etc deliver a series of variational problems from which $\\order[k]{u}$ and $\\order[k]{\\lambda}$ are identified."
   ]
  },
  {
   "cell_type": "code",
   "execution_count": 1,
   "id": "0c4aa7ee-185d-46b8-af94-d18604b761aa",
   "metadata": {},
   "outputs": [],
   "source": [
    "from lsk2 import *\n",
    "from sympy import *"
   ]
  },
  {
   "cell_type": "markdown",
   "id": "d447809d-9772-47a3-aeb2-7617e47c06df",
   "metadata": {},
   "source": [
    "The asymptotic expansion of $\\lambda$ according to Eq (@eq-20230528174310) is first postulated and plugged into the expression of $u^\\star$. The resulting symbolic expressions are combined to define the asymptotic expansion of $u$."
   ]
  },
  {
   "cell_type": "code",
   "execution_count": 2,
   "id": "c84648b0-e9fb-4acc-aa59-5c45095c3e52",
   "metadata": {
    "tags": []
   },
   "outputs": [],
   "source": [
    "λ = η * λ1 + η**2 / 2 * λ2 + η**3 / 6 * λ3 + η**4 / 24 * λ4 + O(η**5)\n",
    "u_star = create_u_star(λ)\n",
    "u = u_star + η * u1 + η**2 / 2 * u2 + η**3 / 6 * u3 + η**4 / 24 * u4"
   ]
  },
  {
   "cell_type": "code",
   "execution_count": 3,
   "id": "fd8c7078-ea65-4c26-a4ba-040711c4f9ab",
   "metadata": {
    "tags": []
   },
   "outputs": [
    {
     "data": {
      "text/latex": [
       "$\\displaystyle \\lambda(\\eta)=\\eta {\\order[1]{\\lambda}} + \\frac{\\eta^{2} {\\order[2]{\\lambda}}}{2} + \\frac{\\eta^{3} {\\order[3]{\\lambda}}}{6} + \\frac{\\eta^{4} {\\order[4]{\\lambda}}}{24} + O\\left(\\eta^{5}\\right)$"
      ],
      "text/plain": [
       "<IPython.core.display.Math object>"
      ]
     },
     "metadata": {},
     "output_type": "display_data"
    },
    {
     "data": {
      "text/latex": [
       "$\\displaystyle u^\\star(\\eta)=\\dot{u}_0 \\eta {\\order[1]{\\lambda}} + \\frac{\\dot{u}_0 \\eta^{2} {\\order[2]{\\lambda}}}{2} + \\frac{\\dot{u}_0 \\eta^{3} {\\order[3]{\\lambda}}}{6} + \\frac{\\dot{u}_0 \\eta^{4} {\\order[4]{\\lambda}}}{24} + \\frac{\\ddot{u}_0 \\eta^{2} {\\order[1]{\\lambda}}^{2}}{2} + \\frac{\\ddot{u}_0 \\eta^{3} {\\order[1]{\\lambda}} {\\order[2]{\\lambda}}}{2} + \\frac{\\ddot{u}_0 \\eta^{4} {\\order[2]{\\lambda}}^{2}}{8} + \\frac{\\ddot{u}_0 \\eta^{4} {\\order[1]{\\lambda}} {\\order[3]{\\lambda}}}{6} + \\frac{\\dddot{u}_0 \\eta^{3} {\\order[1]{\\lambda}}^{3}}{6} + \\frac{\\dddot{u}_0 \\eta^{4} {\\order[1]{\\lambda}}^{2} {\\order[2]{\\lambda}}}{4} + \\frac{\\ddddot{u}_0 \\eta^{4} {\\order[1]{\\lambda}}^{4}}{24} + O\\left(\\eta^{5}\\right)$"
      ],
      "text/plain": [
       "<IPython.core.display.Math object>"
      ]
     },
     "metadata": {},
     "output_type": "display_data"
    },
    {
     "data": {
      "text/latex": [
       "$\\displaystyle u(\\eta)=\\eta {\\order[1]{u}} + \\frac{\\eta^{2} {\\order[2]{u}}}{2} + \\frac{\\eta^{3} {\\order[3]{u}}}{6} + \\frac{\\eta^{4} {\\order[4]{u}}}{24} + \\dot{u}_0 \\eta {\\order[1]{\\lambda}} + \\frac{\\dot{u}_0 \\eta^{2} {\\order[2]{\\lambda}}}{2} + \\frac{\\dot{u}_0 \\eta^{3} {\\order[3]{\\lambda}}}{6} + \\frac{\\dot{u}_0 \\eta^{4} {\\order[4]{\\lambda}}}{24} + \\frac{\\ddot{u}_0 \\eta^{2} {\\order[1]{\\lambda}}^{2}}{2} + \\frac{\\ddot{u}_0 \\eta^{3} {\\order[1]{\\lambda}} {\\order[2]{\\lambda}}}{2} + \\frac{\\ddot{u}_0 \\eta^{4} {\\order[2]{\\lambda}}^{2}}{8} + \\frac{\\ddot{u}_0 \\eta^{4} {\\order[1]{\\lambda}} {\\order[3]{\\lambda}}}{6} + \\frac{\\dddot{u}_0 \\eta^{3} {\\order[1]{\\lambda}}^{3}}{6} + \\frac{\\dddot{u}_0 \\eta^{4} {\\order[1]{\\lambda}}^{2} {\\order[2]{\\lambda}}}{4} + \\frac{\\ddddot{u}_0 \\eta^{4} {\\order[1]{\\lambda}}^{4}}{24} + O\\left(\\eta^{5}\\right)$"
      ],
      "text/plain": [
       "<IPython.core.display.Math object>"
      ]
     },
     "metadata": {},
     "output_type": "display_data"
    }
   ],
   "source": [
    "#| code-fold: true\n",
    "display_latex_equation(r\"\\lambda(\\eta)\", λ)\n",
    "display_latex_equation(r\"u^\\star(\\eta)\", u_star)\n",
    "display_latex_equation(r\"u(\\eta)\", u)"
   ]
  },
  {
   "cell_type": "markdown",
   "id": "c8f4a398-bd8f-49e4-94df-bd8f8bd5f3c5",
   "metadata": {},
   "source": [
    "These expressions are then used to compute an asymptotic expansion of the residual $\\E_{,u}$ along the bifurcated branch."
   ]
  },
  {
   "cell_type": "code",
   "execution_count": 7,
   "id": "2cb93ffa-8198-4087-8ba2-6274c2bf8651",
   "metadata": {
    "tags": []
   },
   "outputs": [],
   "source": [
    "E_u = (create_E_u(u, λ) * u_hat).expand()"
   ]
  },
  {
   "cell_type": "markdown",
   "id": "1ebc29d8-db8e-4925-9ada-cff2f6582038",
   "metadata": {},
   "source": [
    "The general form of this expansion is\n",
    "$$\n",
    "\\E_{,u}[u(\\eta), \\lambda(\\eta); \\hat{u}] \n",
    "= \\order[0]{\\E}_{,u}(\\hat{u})\n",
    "+ \\eta \\, \\order[1]{\\E}_{,u}(\\order[1]{u}; \\hat{u})\n",
    "+ \\tfrac{1}{2} \\eta^2 \\, \\order[2]{\\E}_{,u}(\\order[1]{u}, \\order[2]{u}, \\order[1]{\\lambda}; \\hat{u})\n",
    "+ \\tfrac{1}{6} \\eta^3 \\, \\order[3]{\\E}_{,u}(\\order[1]{u}, \\order[2]{u}, \\order[3]{u}, \\order[1]{\\lambda}, \\order[2]{\\lambda}; \\hat{u}) + \\ldots,\n",
    "$$\n",
    "which delivers the following variational problems\n",
    "$$\n",
    "\\order[k]{\\E}_{,u}(\\order[1]{u}, \\ldots, \\order[k]{u}, \\order[1]{\\lambda}, \\ldots, \\order[k-1]{\\lambda}; \\hat{u}) \\quad \\text{for all} \\quad \\hat{u} \\in U, \\quad k = 0, 1, 2, \\ldots\n",
    "$$\n",
    "\n",
    "These problems are studied successively in the following sections. Note that the variational problem of order 0 is in fact uninformative, since $\\order[0]{\\E}_{,u} = 0$."
   ]
  },
  {
   "cell_type": "code",
   "execution_count": 13,
   "id": "c28c0f45-2194-49fc-85bd-226f030924d3",
   "metadata": {
    "tags": []
   },
   "outputs": [],
   "source": [
    "#| code-fold: true\n",
    "assert E_u.coeff(η, 0) == 0"
   ]
  },
  {
   "cell_type": "markdown",
   "id": "58f9a602-b368-4a2c-b8c7-4305a20446dc",
   "metadata": {},
   "source": [
    "## The variational problem of order 1"
   ]
  },
  {
   "cell_type": "code",
   "execution_count": 14,
   "id": "42067db8-b303-4aa8-b781-05c2933b4d82",
   "metadata": {
    "tags": []
   },
   "outputs": [],
   "source": [
    "E_u1 = E_u.coeff(η, 1)"
   ]
  },
  {
   "cell_type": "markdown",
   "id": "c520e519-768e-4a4d-b9e1-347b94b5071b",
   "metadata": {},
   "source": [
    "This problem reads"
   ]
  },
  {
   "cell_type": "code",
   "execution_count": 15,
   "id": "55411714-a2f6-4e7f-8c8e-6475e5fd4e6f",
   "metadata": {
    "tags": []
   },
   "outputs": [
    {
     "data": {
      "text/latex": [
       "$\\displaystyle \\E_{2} \\hat{u} {\\order[1]{u}}=0$"
      ],
      "text/plain": [
       "<IPython.core.display.Math object>"
      ]
     },
     "metadata": {},
     "output_type": "display_data"
    }
   ],
   "source": [
    "#| code-fold: true\n",
    "display_latex_equation(E_u1, 0)"
   ]
  },
  {
   "cell_type": "markdown",
   "id": "e4b61854-6e74-4996-bab5-6c7f553145c6",
   "metadata": {},
   "source": [
    "for all $\\hat{u} \\in U$. Therefore $\\order[1]{u} \\in V$ and we introduce the following decomposition\n",
    "$$\n",
    "\\order[1]{u} = \\order[1]{\\xi}_i \\, v_i,\n",
    "$$ {#eq-20230620132240}\n",
    "where $\\order[1]{\\xi}_1, \\ldots, \\order[1]{\\xi}_m$ are yet unknown scalars."
   ]
  },
  {
   "cell_type": "markdown",
   "id": "518c419e-3471-4ade-b89b-b3f02d977843",
   "metadata": {},
   "source": [
    "## The variational problem of order 2\n",
    "\n",
    "The terme in $\\eta^2$ of the residual delivers the following variational problem"
   ]
  },
  {
   "cell_type": "code",
   "execution_count": 10,
   "id": "4023545a-e790-4bae-94c8-df58ec85ede9",
   "metadata": {
    "tags": []
   },
   "outputs": [],
   "source": [
    "E_u2 = E_u.coeff(η, 2)"
   ]
  },
  {
   "cell_type": "code",
   "execution_count": 11,
   "id": "2f2a4d55-c3a5-4113-b102-4e4f7c795f6e",
   "metadata": {
    "tags": []
   },
   "outputs": [
    {
     "data": {
      "text/latex": [
       "$\\displaystyle \\frac{\\E_{2} \\hat{u} {\\order[2]{u}}}{2} + \\frac{\\E_{3} \\hat{u} {\\order[1]{u}}^{2}}{2} + \\dot{\\E}_2 \\hat{u} {\\order[1]{\\lambda}} {\\order[1]{u}}=0$"
      ],
      "text/plain": [
       "<IPython.core.display.Math object>"
      ]
     },
     "metadata": {},
     "output_type": "display_data"
    }
   ],
   "source": [
    "display_latex_equation(E_u2, 0)"
   ]
  },
  {
   "cell_type": "markdown",
   "id": "9f5e41dc-d876-49fe-9799-6af8f113b22a",
   "metadata": {},
   "source": [
    "for all $\\hat{u} \\in U$. Testing with $\\hat{v} \\in V$, the first term vanishes and we get the following variational problem"
   ]
  },
  {
   "cell_type": "code",
   "execution_count": null,
   "id": "68363e27-bcf1-454e-9a43-ba228fedcab2",
   "metadata": {
    "tags": []
   },
   "outputs": [],
   "source": [
    "bif_eq_1 = E_u2.subs(u_hat, v_hat).subs(E2 *  v_hat, 0)"
   ]
  },
  {
   "cell_type": "code",
   "execution_count": null,
   "id": "bcc58aa4-6346-4683-96a0-aa5ffba08f77",
   "metadata": {
    "tags": []
   },
   "outputs": [],
   "source": [
    "#| code-fold: true\n",
    "display_latex_equation(bif_eq_1, 0)"
   ]
  },
  {
   "cell_type": "markdown",
   "id": "a1dff99d-12bb-4b45-9bfa-cd83cda155dd",
   "metadata": {},
   "source": [
    "for all $\\hat{v} \\in V$. The above equation fully defines $\\order[1]{u}$. Indeed, plugging the decomposition (@eq-20230620132240) delivers the equivalent equations\n",
    "$$\n",
    "\\tfrac{1}{2} E_{ijk} \\, \\order[1]{\\xi}_j \\, \\order[1]{\\xi}_k + \\order[1]{\\lambda} \\, \\dot{E}_{ij} \\, \\order[1]{\\xi}_j = 0,\n",
    "$$\n",
    "where we have introduced $\\dot{E}_{ij}$ and $E_{ijk}$, defined by Eqs. (@eq-20230125062505) and (@eq-20230125062510), respectively. We finally retrieve the first bifurcation equation (@eq-20230125062336).\n",
    "\n",
    "We now test the same equation with $\\hat{w} \\in W$, plugging the known expansion of $\\order[1]{u}$\n",
    "$$\n",
    "\\tfrac{1}{2} \\E_2(\\order[2]{u}, \\hat{w})\n",
    "+\\tfrac{1}{2} \\order[1]{\\xi}_i \\, \\order[1]{\\xi}_j \\, \\E_3(v_i, v_j, \\hat{w})\n",
    "+ \\order[1]{\\lambda} \\, \\order[1]{\\xi}_i \\, \\dot{E}_2(v_i, \\hat{w}) = 0.\n",
    "$$\n",
    "\n",
    "The second-order term $\\order[2]{u}$ is projected onto $V$ and $W$: $\\order[2]{u} = \\order[2]{u}_V + \\order[2]{u}_W$, where $\\order[2]{u}_V = \\order[2]{\\xi}_i \\, v_i \\in V$ and $\\order[2]{u}_W \\in W$. Plugging this decomposition delivers the following variational problem for $\\order[2]{u}_W$\n",
    "$$\n",
    "\\tfrac{1}{2} \\E_2(\\order[2]{u}_W, \\hat{w})\n",
    "+\\tfrac{1}{2} \\order[1]{\\xi}_i \\, \\order[1]{\\xi}_j \\, \\E_3(v_i, v_j, \\hat{w})\n",
    "+ \\order[1]{\\lambda} \\, \\order[1]{\\xi}_i \\, \\dot{E}_2(v_i, \\hat{w}) = 0.\n",
    "$$\n",
    "\n",
    "The unique solution to this variational problem can be expressed as a function of $w_{i\\lambda}$ and $w_{ij}$, (see @sec-20230620135251)\n",
    "$$\n",
    "\\order[2]{u}_W = \\order[1]{\\xi_i} \\, \\order[1]{\\xi_j} \\, w_{ij}  + 2\\order[1]{\\lambda} \\, \\order[1]{\\xi_i} \\, w_{i\\lambda}.\n",
    "$$\n",
    "\n",
    "We now turn to the third-order term of the residual $\\E_{,u}$. It involves $\\order[3]{u}$, that gets eliminated when testing with $\\hat{v} \\in V$."
   ]
  },
  {
   "cell_type": "code",
   "execution_count": null,
   "id": "c88332c2-6314-4651-aa24-fd16a17fd5fa",
   "metadata": {
    "tags": []
   },
   "outputs": [],
   "source": [
    "lhs2a = E_u.coeff(η, 3).subs(u_hat, v_[i]).subs(E2 * v_[i], 0)"
   ]
  },
  {
   "cell_type": "markdown",
   "id": "d353e088-21d0-4677-8504-9f6db0747f82",
   "metadata": {},
   "source": [
    "We get the following variational problem"
   ]
  },
  {
   "cell_type": "code",
   "execution_count": null,
   "id": "0fba6f98-1549-4a9c-9e78-9728868f9570",
   "metadata": {
    "tags": []
   },
   "outputs": [],
   "source": [
    "#| code-fold: true\n",
    "display_latex_equation(lhs2a, 0)"
   ]
  },
  {
   "cell_type": "markdown",
   "id": "7e0a843a-1cd7-4e5c-ba6f-b598e93fe3a5",
   "metadata": {},
   "source": [
    "For the terms that involve only $v_i$ and $\\order[1]{u}$, we use Eqs. (@eq-20230125062505), (@eq-20230124211207) and (@eq-20230124210649) together with the decomposition $\\order[1]{u} = \\order[1]{\\xi}_i \\, v_i$."
   ]
  },
  {
   "cell_type": "code",
   "execution_count": null,
   "id": "0f39c535-288e-462f-b593-77f432890ed7",
   "metadata": {
    "tags": []
   },
   "outputs": [],
   "source": [
    "d = {\n",
    "    E2_dot * u1 * v_[i]: ξ1_[j] * E_dot_[i, j],\n",
    "    E2_ddot * u1 * v_[i]: (ξ1_[j] * (E_ddot_[i, j] - E2_dot * v_[i] * w_[j]) - E2_dot * u1 * w_[i]),\n",
    "    E3_dot * u1 * u1 * v_[i]: (ξ1_[j] * ξ1_[k] * (E_dot_[i, j, k] - E2_dot * v_[i] * w_[j, k])\n",
    "                               - 2 * ξ1_[j] * E2_dot * u1 * w_[i, j]),    \n",
    "}\n",
    "\n",
    "lhs2b = lhs2a.subs(d).expand()"
   ]
  },
  {
   "cell_type": "code",
   "execution_count": null,
   "id": "1adbc865-4ab4-4c73-951d-8ce1ce4f5a14",
   "metadata": {
    "tags": []
   },
   "outputs": [],
   "source": [
    "#| code-fold: true\n",
    "display_latex_equation(lhs2b, 0)"
   ]
  },
  {
   "cell_type": "markdown",
   "id": "c1b719e4-e10d-4d85-8b9b-37978f1590b7",
   "metadata": {},
   "source": [
    "We then apply the following simplification\n",
    "$$\n",
    "\\begin{aligned}[b]\n",
    "\\dot{\\E}_2(\\order[2]{u}, v_i) \n",
    "={}& \\dot{E}_{ij} \\, \\order[2]{\\xi}_j \n",
    "+ \\order[1]{\\xi}_j \\, \\order[1]{\\xi}_k \\, \\dot{\\E}_2(w_{jk}, v_i)\n",
    "+2\\order[1]{\\lambda} \\, \\order[1]{\\xi}_j \\, \\dot{\\E}_2(w_j, v_i)\n",
    "\\end{aligned}\n",
    "$$"
   ]
  },
  {
   "cell_type": "code",
   "execution_count": null,
   "id": "8ae0c945-424e-4815-9192-372facb8071c",
   "metadata": {
    "tags": []
   },
   "outputs": [],
   "source": [
    "lhs2c = lhs2b.subs(E2_dot * u2 * v_[i],\n",
    "                   (E_dot_[i, j] * ξ2_[j] \n",
    "                    + ξ1_[j] * ξ1_[k] * E2_dot * v_[i] * w_[j, k] \n",
    "                    + 2 * λ1 * E2_dot * u1 * w_[i])).expand()"
   ]
  },
  {
   "cell_type": "code",
   "execution_count": null,
   "id": "ebfdb6c3-db08-4936-a25a-0558205f4d78",
   "metadata": {
    "tags": []
   },
   "outputs": [],
   "source": [
    "#| code-fold: true\n",
    "display_latex_equation(lhs2c, 0)"
   ]
  },
  {
   "cell_type": "markdown",
   "id": "a84e0b39-5f24-492f-ad4f-31b29f7e66fd",
   "metadata": {},
   "source": [
    "Furthermore,\n",
    "$$\n",
    "\\E_3(\\order[1]{u}, \\order[2]{u}, v_i) = E_{ijk} \\, \\order[2]{\\xi}_j \\, \\order[1]{\\xi}_k\n",
    "+ \\tfrac{1}{3} \\order[1]{\\xi}_j \\, \\order[1]{\\xi}_k \\, \\order[1]{\\xi}_l \\, E_{ijkl}\n",
    "- \\tfrac{1}{3} \\E_4(\\order[1]{u}, \\order[1]{u}, \\order[1]{u}, v_i)\n",
    "+ 2\\order[1]{\\lambda} \\, \\order[1]{\\xi}_j \\, \\dot{\\E}_2(\\order[1]{u}, w_{ij})\n",
    "$$\n",
    "\n",
    "Indeed\n",
    "$$\n",
    "\\begin{aligned}[b]\n",
    "\\E_3(\\order[1]{u}, \\order[2]{u}, v_i)\n",
    "={} & \\order[2]{\\xi}_j \\, \\order[1]{\\xi}_k \\, \\E_3(v_i, v_j, v_k)\n",
    "+ \\order[1]{\\xi}_j \\, \\order[1]{\\xi}_k \\, \\order[1]{\\xi}_l \\, \\E_3(v_i, v_j, w\n",
    "_{kl})\n",
    "+ 2\\order[1]{\\lambda} \\, \\order[2]{\\xi}_j \\, \\order[1]{\\xi}_k \\, \\E_3(v_i, v_j, w_k)\\\\\n",
    "={} & E_{ijk} \\, \\order[2]{\\xi}_j \\, \\order[1]{\\xi}_k\\\\\n",
    "&+ \\tfrac{1}{3}\\order[1]{\\xi}_j \\, \\order[1]{\\xi}_k \\, \\order[1]{\\xi}_l \\, \\bigl[ \\E_3(v_i, v_j, w_{kl}) + \\E_3(v_i, v_k, w_{jl}) + \\E_3(v_i, v_l, w_{jk}) \\bigr]\\\\\n",
    "&- 2\\order[1]{\\lambda} \\, \\order[1]{\\xi}_j \\, \\order[1]{\\xi}_k \\, \\E_2(w_{ij}, w_{k})\\\\\n",
    "={} & E_{ijk} \\, \\order[2]{\\xi}_j \\, \\order[1]{\\xi}_k\n",
    "+ \\tfrac{1}{3}\\order[1]{\\xi}_j \\, \\order[1]{\\xi}_k \\, \\order[1]{\\xi}_l \\, \\bigl[ E_{ijkl} - \\E_4(v_i, v_j, v_k, v_l) \\bigr]\\\\\n",
    "&+ 2\\order[1]{\\lambda} \\, \\order[1]{\\xi}_j \\, \\order[1]{\\xi}_k \\, \\dot{\\E}_2(w_{ij}, v_k)\n",
    "\\end{aligned}\n",
    "$$\n",
    "and the above identity is retrieved."
   ]
  },
  {
   "cell_type": "code",
   "execution_count": null,
   "id": "4b3c96e4-c665-4076-9259-5773a4df81ab",
   "metadata": {
    "tags": []
   },
   "outputs": [],
   "source": [
    "lhs2d = lhs2c.subs(E3 * u1 * u2 * v_[i],\n",
    "                   (E_[i, j, k] * ξ2_[j] * ξ1_[k]\n",
    "                    + E_[i, j, k, l] * ξ1_[j] * ξ1_[k] * ξ1_[l] / 3 \n",
    "                    - E4 * v_[i] * u1**3 / 3\n",
    "                    + 2 * λ1 * ξ1_[j] * E2_dot * u1 * w_[i, j])).expand()"
   ]
  },
  {
   "cell_type": "code",
   "execution_count": null,
   "id": "79283770-0336-4795-80b5-c5c8ed8e519e",
   "metadata": {
    "tags": []
   },
   "outputs": [],
   "source": [
    "#| code-fold: true\n",
    "display_latex_equation(lhs2d, 0)"
   ]
  },
  {
   "cell_type": "markdown",
   "id": "3c5df111-68c1-481b-9893-dc0918f0086b",
   "metadata": {},
   "source": [
    "Finally,\n",
    "\n",
    "$$\n",
    "\\begin{aligned}\n",
    "\\order[1]{\\xi}_j \\, \\dot{\\E}_2(w_j, v_i)\n",
    "= - \\order[1]{\\xi}_j \\, \\E_2(w_i, w_j)\n",
    "= \\order[1]{\\xi}_j \\, \\dot{\\E}_2(v_j, w_i)\n",
    "= \\dot{\\E}_2(\\order[1]{u}, w_i).\n",
    "\\end{aligned}\n",
    "$$"
   ]
  },
  {
   "cell_type": "code",
   "execution_count": null,
   "id": "68851d56-8ba0-4e7d-b562-a7db22f0b658",
   "metadata": {
    "tags": []
   },
   "outputs": [],
   "source": [
    "lhs2e = lhs2d.subs(ξ1_[j] * E2_dot * v_[i] * w_[j], E2_dot * u1 * w_[i])"
   ]
  },
  {
   "cell_type": "code",
   "execution_count": null,
   "id": "4bca0851-cc44-4163-b4c9-804609ea5aac",
   "metadata": {
    "tags": []
   },
   "outputs": [],
   "source": [
    "#| code-fold: true\n",
    "display_latex_equation(lhs2e, 0)"
   ]
  }
 ],
 "metadata": {
  "kernelspec": {
   "display_name": "Python 3 (ipykernel)",
   "language": "python",
   "name": "python3"
  },
  "language_info": {
   "codemirror_mode": {
    "name": "ipython",
    "version": 3
   },
   "file_extension": ".py",
   "mimetype": "text/x-python",
   "name": "python",
   "nbconvert_exporter": "python",
   "pygments_lexer": "ipython3",
   "version": "3.9.16"
  },
  "toc-autonumbering": false,
  "toc-showtags": false
 },
 "nbformat": 4,
 "nbformat_minor": 5
}
