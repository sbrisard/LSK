{
 "cells": [
  {
   "cell_type": "markdown",
   "id": "8a04f073-c617-45bf-a085-81b6e47b8cac",
   "metadata": {},
   "source": [
    "# Asymptotic expansion of the energy"
   ]
  },
  {
   "cell_type": "markdown",
   "id": "b624a84a-498f-462c-a7a7-7fc41e6834ee",
   "metadata": {},
   "source": [
    "This notebook uses $\\LaTeX\\newcommand{\\D}{\\mathrm{d}}\\newcommand{\\E}{\\mathcal{E}}\\newcommand{\\order}[2][1]{#2^{(#1)}}\\newcommand{\\reals}{\\mathbb{R}}$ custom macros."
   ]
  },
  {
   "cell_type": "code",
   "execution_count": 1,
   "id": "db2575b5-31a5-4aff-b879-69f26e037041",
   "metadata": {},
   "outputs": [],
   "source": [
    "import json\n",
    "import lsk\n",
    "\n",
    "from sympy import *\n",
    "\n",
    "with open(\"setting-up_the_computational_stage.out.json\", \"r\") as f:\n",
    "    data = json.load(f)"
   ]
  },
  {
   "cell_type": "markdown",
   "id": "a1ed4efa-fa64-4a7a-bc8d-92e3761f4061",
   "metadata": {},
   "source": [
    "We first define the asymptotic expansion of $\\lambda$ w.r.t. the (unspecified) parameter $\\eta$."
   ]
  },
  {
   "cell_type": "code",
   "execution_count": 11,
   "id": "67a7a81f-e693-4edf-9ef6-23b35b3a35d9",
   "metadata": {},
   "outputs": [],
   "source": [
    "η, λ1, λ2, λ3, λ4 = symbols(r\"\\eta {\\order[1]{\\lambda}} {\\order[2]{\\lambda}} {\\order[3]{\\lambda}} {\\order[4]{\\lambda}}\")\n",
    "λ = λ1 * η + λ2 * η**2 / 2 + λ3 * η**3 / 6 + λ4 * η**4 / 24"
   ]
  },
  {
   "cell_type": "code",
   "execution_count": 12,
   "id": "96ee04a4-40f9-41ad-aaa8-b4d77f0dd892",
   "metadata": {},
   "outputs": [
    {
     "data": {
      "text/latex": [
       "$\\displaystyle \\lambda(\\eta)=\\frac{\\eta^{4} {\\order[4]{\\lambda}}}{24} + \\frac{\\eta^{3} {\\order[3]{\\lambda}}}{6} + \\frac{\\eta^{2} {\\order[2]{\\lambda}}}{2} + \\eta {\\order[1]{\\lambda}}$"
      ],
      "text/plain": [
       "<IPython.core.display.Math object>"
      ]
     },
     "metadata": {},
     "output_type": "display_data"
    }
   ],
   "source": [
    "#| code-fold: true\n",
    "lsk.display_latex_equation(r\"\\lambda(\\eta)\", λ)"
   ]
  },
  {
   "cell_type": "markdown",
   "id": "4c6e9419-189a-4485-9a01-cbcd748d978e",
   "metadata": {},
   "source": [
    "The fundamental branch $u^\\ast(\\lambda)$ was previously defined as an asymptotic expansion w.r.t. $\\lambda$."
   ]
  },
  {
   "cell_type": "code",
   "execution_count": 13,
   "id": "30e4d106-0efd-47d1-af9c-8e84bccbdc28",
   "metadata": {},
   "outputs": [],
   "source": [
    "u_star_of_λ = eval(data[\"u_star\"])"
   ]
  },
  {
   "cell_type": "code",
   "execution_count": 14,
   "id": "8aa88dbd-4664-4353-a4d6-dc6ba99491be",
   "metadata": {},
   "outputs": [
    {
     "data": {
      "text/latex": [
       "$\\displaystyle u^\\ast(\\lambda)=\\frac{\\ddddot{u}_0 \\lambda^{4}}{24} + \\frac{\\dddot{u}_0 \\lambda^{3}}{6} + \\frac{\\ddot{u}_0 \\lambda^{2}}{2} + \\dot{u}_0 \\lambda$"
      ],
      "text/plain": [
       "<IPython.core.display.Math object>"
      ]
     },
     "metadata": {},
     "output_type": "display_data"
    }
   ],
   "source": [
    "#| code-fold: true\n",
    "lsk.display_latex_equation(r\"u^\\ast(\\lambda)\", u_star_of_λ)"
   ]
  },
  {
   "cell_type": "markdown",
   "id": "7c54589a-8133-4740-bdf7-95d5868de413",
   "metadata": {},
   "source": [
    " We now define the fundamental branch as an asymptotic expansion w.r.t. $\\eta$, keeping only fourth-order terms."
   ]
  },
  {
   "cell_type": "code",
   "execution_count": 17,
   "id": "86527ca0-a9ac-4e53-a7e4-15ba15454e16",
   "metadata": {},
   "outputs": [],
   "source": [
    "u_star = u_star_of_λ.subs(Symbol(\"\\lambda\"), λ + O(η**5)).expand().removeO()"
   ]
  },
  {
   "cell_type": "code",
   "execution_count": 18,
   "id": "83cd1d8d-9b43-43ba-8162-37e4cb9e25b6",
   "metadata": {},
   "outputs": [
    {
     "data": {
      "text/latex": [
       "$\\displaystyle u^\\ast(\\eta)=\\frac{\\ddddot{u}_0 \\eta^{4} {\\order[1]{\\lambda}}^{4}}{24} + \\frac{\\dddot{u}_0 \\eta^{4} {\\order[1]{\\lambda}}^{2} {\\order[2]{\\lambda}}}{4} + \\frac{\\dddot{u}_0 \\eta^{3} {\\order[1]{\\lambda}}^{3}}{6} + \\frac{\\ddot{u}_0 \\eta^{4} {\\order[1]{\\lambda}} {\\order[3]{\\lambda}}}{6} + \\frac{\\ddot{u}_0 \\eta^{4} {\\order[2]{\\lambda}}^{2}}{8} + \\frac{\\ddot{u}_0 \\eta^{3} {\\order[1]{\\lambda}} {\\order[2]{\\lambda}}}{2} + \\frac{\\ddot{u}_0 \\eta^{2} {\\order[1]{\\lambda}}^{2}}{2} + \\frac{\\dot{u}_0 \\eta^{4} {\\order[4]{\\lambda}}}{24} + \\frac{\\dot{u}_0 \\eta^{3} {\\order[3]{\\lambda}}}{6} + \\frac{\\dot{u}_0 \\eta^{2} {\\order[2]{\\lambda}}}{2} + \\dot{u}_0 \\eta {\\order[1]{\\lambda}}$"
      ],
      "text/plain": [
       "<IPython.core.display.Math object>"
      ]
     },
     "metadata": {},
     "output_type": "display_data"
    }
   ],
   "source": [
    "#| code-fold: true\n",
    "lsk.display_latex_equation(r\"u^\\ast(\\eta)\", u_star)"
   ]
  },
  {
   "cell_type": "code",
   "execution_count": 19,
   "id": "04a34a5c-ad99-442c-9f44-815c425acf6f",
   "metadata": {},
   "outputs": [],
   "source": [
    "E_ = eval(data[\"E\"])"
   ]
  },
  {
   "cell_type": "code",
   "execution_count": 23,
   "id": "6e837f19-1438-47c2-961d-8a680b618e66",
   "metadata": {},
   "outputs": [],
   "source": [
    "u = (u_star\n",
    "     + η * Symbol(r\"\\xi_i^{(1)}v_i\") \n",
    "     + η**2 / 2 * (Symbol(r\"\\xi_j^{(2)}v_j\")\n",
    "                   + Symbol(r\"\\xi_k^{(1)}\\xi_l^{(1)}w_{kl}\")\n",
    "                   + 2 * λ1 * Symbol(r\"\\xi_m^{(1)}w_{m\\lambda}\"))\n",
    "     + η**3 / 6 * Symbol(r\"{\\order[3]{u}}\")\n",
    "     + η**4 / 24 * Symbol(r\"{\\order[4]{u}}\")).expand()"
   ]
  },
  {
   "cell_type": "code",
   "execution_count": 24,
   "id": "415eb725-0af8-4db5-a4d3-29edbdd6a86a",
   "metadata": {},
   "outputs": [
    {
     "data": {
      "text/latex": [
       "$\\displaystyle u(\\eta)=\\frac{\\ddddot{u}_0 \\eta^{4} {\\order[1]{\\lambda}}^{4}}{24} + \\frac{\\dddot{u}_0 \\eta^{4} {\\order[1]{\\lambda}}^{2} {\\order[2]{\\lambda}}}{4} + \\frac{\\dddot{u}_0 \\eta^{3} {\\order[1]{\\lambda}}^{3}}{6} + \\frac{\\ddot{u}_0 \\eta^{4} {\\order[1]{\\lambda}} {\\order[3]{\\lambda}}}{6} + \\frac{\\ddot{u}_0 \\eta^{4} {\\order[2]{\\lambda}}^{2}}{8} + \\frac{\\ddot{u}_0 \\eta^{3} {\\order[1]{\\lambda}} {\\order[2]{\\lambda}}}{2} + \\frac{\\ddot{u}_0 \\eta^{2} {\\order[1]{\\lambda}}^{2}}{2} + \\frac{\\dot{u}_0 \\eta^{4} {\\order[4]{\\lambda}}}{24} + \\frac{\\dot{u}_0 \\eta^{3} {\\order[3]{\\lambda}}}{6} + \\frac{\\dot{u}_0 \\eta^{2} {\\order[2]{\\lambda}}}{2} + \\dot{u}_0 \\eta {\\order[1]{\\lambda}} + \\frac{\\eta^{4} {\\order[4]{u}}}{24} + \\frac{\\eta^{3} {\\order[3]{u}}}{6} + \\frac{\\eta^{2} \\xi_j^{(2)}v_j}{2} + \\frac{\\eta^{2} \\xi_k^{(1)}\\xi_l^{(1)}w_{kl}}{2} + \\eta^{2} \\xi_m^{(1)}w_{m\\lambda} {\\order[1]{\\lambda}} + \\eta \\xi_i^{(1)}v_i$"
      ],
      "text/plain": [
       "<IPython.core.display.Math object>"
      ]
     },
     "metadata": {},
     "output_type": "display_data"
    }
   ],
   "source": [
    "#| code-fold: true\n",
    "lsk.display_latex_equation(r\"u(\\eta)\", u)"
   ]
  },
  {
   "cell_type": "code",
   "execution_count": 25,
   "id": "e1ea0709-185b-49cf-aac1-8103095a84b7",
   "metadata": {},
   "outputs": [
    {
     "data": {
      "text/latex": [
       "$\\displaystyle - \\frac{\\E_{2} \\dddot{u}_0 \\lambda^{3} u}{6} - \\frac{\\E_{2} \\ddot{u}_0 \\lambda^{2} u}{2} - \\E_{2} \\dot{u}_0 \\lambda u + \\frac{\\E_{2} u^{2}}{2} + \\frac{\\E_{3} \\ddot{u}_0 \\dot{u}_0 \\lambda^{3} u}{2} - \\frac{\\E_{3} \\ddot{u}_0 \\lambda^{2} u^{2}}{4} + \\frac{\\E_{3} \\dot{u}_0^{2} \\lambda^{2} u}{2} - \\frac{\\E_{3} \\dot{u}_0 \\lambda u^{2}}{2} + \\frac{\\E_{3} u^{3}}{6} - \\frac{\\E_{4} \\dot{u}_0^{3} \\lambda^{3} u}{6} + \\frac{\\E_{4} \\dot{u}_0^{2} \\lambda^{2} u^{2}}{4} - \\frac{\\E_{4} \\dot{u}_0 \\lambda u^{3}}{6} + \\frac{\\E_{4} u^{4}}{24} + \\frac{\\E_{\\lambda\\lambda\\lambda\\lambda} \\lambda^{4}}{24} + \\frac{\\E_{\\lambda\\lambda\\lambda} \\lambda^{3}}{6} + \\frac{\\E_{\\lambda\\lambda} \\lambda^{2}}{2} + \\E_{\\lambda} \\lambda - \\frac{\\ddot{\\E}_2 \\dot{u}_0 \\lambda^{3} u}{2} + \\frac{\\ddot{\\E}_2 \\lambda^{2} u^{2}}{4} - \\frac{\\ddot{u}_0 \\dot{\\E}_2 \\lambda^{3} u}{2} - \\dot{\\E}_2 \\dot{u}_0 \\lambda^{2} u + \\frac{\\dot{\\E}_2 \\lambda u^{2}}{2} + \\frac{\\dot{\\E}_3 \\dot{u}_0^{2} \\lambda^{3} u}{2} - \\frac{\\dot{\\E}_3 \\dot{u}_0 \\lambda^{2} u^{2}}{2} + \\frac{\\dot{\\E}_3 \\lambda u^{3}}{6}$"
      ],
      "text/plain": [
       "-\\E_2*\\dddot{u}_0*\\lambda**3*u/6 - \\E_2*\\ddot{u}_0*\\lambda**2*u/2 - \\E_2*\\dot{u}_0*\\lambda*u + \\E_2*u**2/2 + \\E_3*\\ddot{u}_0*\\dot{u}_0*\\lambda**3*u/2 - \\E_3*\\ddot{u}_0*\\lambda**2*u**2/4 + \\E_3*\\dot{u}_0**2*\\lambda**2*u/2 - \\E_3*\\dot{u}_0*\\lambda*u**2/2 + \\E_3*u**3/6 - \\E_4*\\dot{u}_0**3*\\lambda**3*u/6 + \\E_4*\\dot{u}_0**2*\\lambda**2*u**2/4 - \\E_4*\\dot{u}_0*\\lambda*u**3/6 + \\E_4*u**4/24 + \\E_{\\lambda\\lambda\\lambda\\lambda}*\\lambda**4/24 + \\E_{\\lambda\\lambda\\lambda}*\\lambda**3/6 + \\E_{\\lambda\\lambda}*\\lambda**2/2 + \\E_{\\lambda}*\\lambda - \\ddot{\\E}_2*\\dot{u}_0*\\lambda**3*u/2 + \\ddot{\\E}_2*\\lambda**2*u**2/4 - \\ddot{u}_0*\\dot{\\E}_2*\\lambda**3*u/2 - \\dot{\\E}_2*\\dot{u}_0*\\lambda**2*u + \\dot{\\E}_2*\\lambda*u**2/2 + \\dot{\\E}_3*\\dot{u}_0**2*\\lambda**3*u/2 - \\dot{\\E}_3*\\dot{u}_0*\\lambda**2*u**2/2 + \\dot{\\E}_3*\\lambda*u**3/6"
      ]
     },
     "execution_count": 25,
     "metadata": {},
     "output_type": "execute_result"
    }
   ],
   "source": [
    "E_"
   ]
  },
  {
   "cell_type": "code",
   "execution_count": 26,
   "id": "21d68aba-d1ba-484f-978e-07e89781539d",
   "metadata": {},
   "outputs": [],
   "source": [
    "E_star = (E_.subs({Symbol(\"\\lambda\"): λ,\n",
    "                   Symbol(\"u\"): u_star}).expand() + O(η**5)).removeO()"
   ]
  },
  {
   "cell_type": "code",
   "execution_count": 27,
   "id": "44bf4aba-52fc-4777-a18c-782afe814b43",
   "metadata": {},
   "outputs": [
    {
     "data": {
      "text/latex": [
       "$\\displaystyle - \\frac{\\E_{2} \\dddot{u}_0 \\dot{u}_0 \\eta^{4} {\\order[1]{\\lambda}}^{4}}{6} - \\frac{\\E_{2} \\ddot{u}_0^{2} \\eta^{4} {\\order[1]{\\lambda}}^{4}}{8} - \\frac{3 \\E_{2} \\ddot{u}_0 \\dot{u}_0 \\eta^{4} {\\order[1]{\\lambda}}^{2} {\\order[2]{\\lambda}}}{4} - \\frac{\\E_{2} \\ddot{u}_0 \\dot{u}_0 \\eta^{3} {\\order[1]{\\lambda}}^{3}}{2} - \\frac{\\E_{2} \\dot{u}_0^{2} \\eta^{4} {\\order[1]{\\lambda}} {\\order[3]{\\lambda}}}{6} - \\frac{\\E_{2} \\dot{u}_0^{2} \\eta^{4} {\\order[2]{\\lambda}}^{2}}{8} - \\frac{\\E_{2} \\dot{u}_0^{2} \\eta^{3} {\\order[1]{\\lambda}} {\\order[2]{\\lambda}}}{2} - \\frac{\\E_{2} \\dot{u}_0^{2} \\eta^{2} {\\order[1]{\\lambda}}^{2}}{2} + \\frac{\\E_{3} \\ddot{u}_0 \\dot{u}_0^{2} \\eta^{4} {\\order[1]{\\lambda}}^{4}}{4} + \\frac{\\E_{3} \\dot{u}_0^{3} \\eta^{4} {\\order[1]{\\lambda}}^{2} {\\order[2]{\\lambda}}}{4} + \\frac{\\E_{3} \\dot{u}_0^{3} \\eta^{3} {\\order[1]{\\lambda}}^{3}}{6} - \\frac{\\E_{4} \\dot{u}_0^{4} \\eta^{4} {\\order[1]{\\lambda}}^{4}}{24} + \\frac{\\E_{\\lambda\\lambda\\lambda\\lambda} \\eta^{4} {\\order[1]{\\lambda}}^{4}}{24} + \\frac{\\E_{\\lambda\\lambda\\lambda} \\eta^{4} {\\order[1]{\\lambda}}^{2} {\\order[2]{\\lambda}}}{4} + \\frac{\\E_{\\lambda\\lambda\\lambda} \\eta^{3} {\\order[1]{\\lambda}}^{3}}{6} + \\frac{\\E_{\\lambda\\lambda} \\eta^{4} {\\order[1]{\\lambda}} {\\order[3]{\\lambda}}}{6} + \\frac{\\E_{\\lambda\\lambda} \\eta^{4} {\\order[2]{\\lambda}}^{2}}{8} + \\frac{\\E_{\\lambda\\lambda} \\eta^{3} {\\order[1]{\\lambda}} {\\order[2]{\\lambda}}}{2} + \\frac{\\E_{\\lambda\\lambda} \\eta^{2} {\\order[1]{\\lambda}}^{2}}{2} + \\frac{\\E_{\\lambda} \\eta^{4} {\\order[4]{\\lambda}}}{24} + \\frac{\\E_{\\lambda} \\eta^{3} {\\order[3]{\\lambda}}}{6} + \\frac{\\E_{\\lambda} \\eta^{2} {\\order[2]{\\lambda}}}{2} + \\E_{\\lambda} \\eta {\\order[1]{\\lambda}} - \\frac{\\ddot{\\E}_2 \\dot{u}_0^{2} \\eta^{4} {\\order[1]{\\lambda}}^{4}}{4} - \\frac{\\ddot{u}_0 \\dot{\\E}_2 \\dot{u}_0 \\eta^{4} {\\order[1]{\\lambda}}^{4}}{2} - \\frac{3 \\dot{\\E}_2 \\dot{u}_0^{2} \\eta^{4} {\\order[1]{\\lambda}}^{2} {\\order[2]{\\lambda}}}{4} - \\frac{\\dot{\\E}_2 \\dot{u}_0^{2} \\eta^{3} {\\order[1]{\\lambda}}^{3}}{2} + \\frac{\\dot{\\E}_3 \\dot{u}_0^{3} \\eta^{4} {\\order[1]{\\lambda}}^{4}}{6}$"
      ],
      "text/plain": [
       "-\\E_2*\\dddot{u}_0*\\dot{u}_0*\\eta**4*{\\order[1]{\\lambda}}**4/6 - \\E_2*\\ddot{u}_0**2*\\eta**4*{\\order[1]{\\lambda}}**4/8 - 3*\\E_2*\\ddot{u}_0*\\dot{u}_0*\\eta**4*{\\order[1]{\\lambda}}**2*{\\order[2]{\\lambda}}/4 - \\E_2*\\ddot{u}_0*\\dot{u}_0*\\eta**3*{\\order[1]{\\lambda}}**3/2 - \\E_2*\\dot{u}_0**2*\\eta**4*{\\order[1]{\\lambda}}*{\\order[3]{\\lambda}}/6 - \\E_2*\\dot{u}_0**2*\\eta**4*{\\order[2]{\\lambda}}**2/8 - \\E_2*\\dot{u}_0**2*\\eta**3*{\\order[1]{\\lambda}}*{\\order[2]{\\lambda}}/2 - \\E_2*\\dot{u}_0**2*\\eta**2*{\\order[1]{\\lambda}}**2/2 + \\E_3*\\ddot{u}_0*\\dot{u}_0**2*\\eta**4*{\\order[1]{\\lambda}}**4/4 + \\E_3*\\dot{u}_0**3*\\eta**4*{\\order[1]{\\lambda}}**2*{\\order[2]{\\lambda}}/4 + \\E_3*\\dot{u}_0**3*\\eta**3*{\\order[1]{\\lambda}}**3/6 - \\E_4*\\dot{u}_0**4*\\eta**4*{\\order[1]{\\lambda}}**4/24 + \\E_{\\lambda\\lambda\\lambda\\lambda}*\\eta**4*{\\order[1]{\\lambda}}**4/24 + \\E_{\\lambda\\lambda\\lambda}*\\eta**4*{\\order[1]{\\lambda}}**2*{\\order[2]{\\lambda}}/4 + \\E_{\\lambda\\lambda\\lambda}*\\eta**3*{\\order[1]{\\lambda}}**3/6 + \\E_{\\lambda\\lambda}*\\eta**4*{\\order[1]{\\lambda}}*{\\order[3]{\\lambda}}/6 + \\E_{\\lambda\\lambda}*\\eta**4*{\\order[2]{\\lambda}}**2/8 + \\E_{\\lambda\\lambda}*\\eta**3*{\\order[1]{\\lambda}}*{\\order[2]{\\lambda}}/2 + \\E_{\\lambda\\lambda}*\\eta**2*{\\order[1]{\\lambda}}**2/2 + \\E_{\\lambda}*\\eta**4*{\\order[4]{\\lambda}}/24 + \\E_{\\lambda}*\\eta**3*{\\order[3]{\\lambda}}/6 + \\E_{\\lambda}*\\eta**2*{\\order[2]{\\lambda}}/2 + \\E_{\\lambda}*\\eta*{\\order[1]{\\lambda}} - \\ddot{\\E}_2*\\dot{u}_0**2*\\eta**4*{\\order[1]{\\lambda}}**4/4 - \\ddot{u}_0*\\dot{\\E}_2*\\dot{u}_0*\\eta**4*{\\order[1]{\\lambda}}**4/2 - 3*\\dot{\\E}_2*\\dot{u}_0**2*\\eta**4*{\\order[1]{\\lambda}}**2*{\\order[2]{\\lambda}}/4 - \\dot{\\E}_2*\\dot{u}_0**2*\\eta**3*{\\order[1]{\\lambda}}**3/2 + \\dot{\\E}_3*\\dot{u}_0**3*\\eta**4*{\\order[1]{\\lambda}}**4/6"
      ]
     },
     "execution_count": 27,
     "metadata": {},
     "output_type": "execute_result"
    }
   ],
   "source": [
    "E_star"
   ]
  },
  {
   "cell_type": "code",
   "execution_count": 28,
   "id": "e73a1690-13a4-43a7-8816-379db72253ee",
   "metadata": {},
   "outputs": [],
   "source": [
    "E = (E_.subs({Symbol(\"\\lambda\"): λ,\n",
    "              Symbol(\"u\"): u}).expand() + O(η**5)).removeO()"
   ]
  },
  {
   "cell_type": "code",
   "execution_count": 29,
   "id": "85bc04bd-25c3-47af-b9b7-017d98c37ef5",
   "metadata": {},
   "outputs": [
    {
     "data": {
      "text/latex": [
       "$\\displaystyle - \\frac{\\E_{2} \\dddot{u}_0 \\dot{u}_0 \\eta^{4} {\\order[1]{\\lambda}}^{4}}{6} - \\frac{\\E_{2} \\ddot{u}_0^{2} \\eta^{4} {\\order[1]{\\lambda}}^{4}}{8} - \\frac{3 \\E_{2} \\ddot{u}_0 \\dot{u}_0 \\eta^{4} {\\order[1]{\\lambda}}^{2} {\\order[2]{\\lambda}}}{4} - \\frac{\\E_{2} \\ddot{u}_0 \\dot{u}_0 \\eta^{3} {\\order[1]{\\lambda}}^{3}}{2} - \\frac{\\E_{2} \\dot{u}_0^{2} \\eta^{4} {\\order[1]{\\lambda}} {\\order[3]{\\lambda}}}{6} - \\frac{\\E_{2} \\dot{u}_0^{2} \\eta^{4} {\\order[2]{\\lambda}}^{2}}{8} - \\frac{\\E_{2} \\dot{u}_0^{2} \\eta^{3} {\\order[1]{\\lambda}} {\\order[2]{\\lambda}}}{2} - \\frac{\\E_{2} \\dot{u}_0^{2} \\eta^{2} {\\order[1]{\\lambda}}^{2}}{2} + \\frac{\\E_{2} \\eta^{4} \\xi_i^{(1)}v_i {\\order[3]{u}}}{6} + \\frac{\\E_{2} \\eta^{4} \\left(\\xi_j^{(2)}v_j\\right)^{2}}{8} + \\frac{\\E_{2} \\eta^{4} \\xi_j^{(2)}v_j \\xi_k^{(1)}\\xi_l^{(1)}w_{kl}}{4} + \\frac{\\E_{2} \\eta^{4} \\xi_j^{(2)}v_j \\xi_m^{(1)}w_{m\\lambda} {\\order[1]{\\lambda}}}{2} + \\frac{\\E_{2} \\eta^{4} \\left(\\xi_k^{(1)}\\xi_l^{(1)}w_{kl}\\right)^{2}}{8} + \\frac{\\E_{2} \\eta^{4} \\xi_k^{(1)}\\xi_l^{(1)}w_{kl} \\xi_m^{(1)}w_{m\\lambda} {\\order[1]{\\lambda}}}{2} + \\frac{\\E_{2} \\eta^{4} \\left(\\xi_m^{(1)}w_{m\\lambda}\\right)^{2} {\\order[1]{\\lambda}}^{2}}{2} + \\frac{\\E_{2} \\eta^{3} \\xi_i^{(1)}v_i \\xi_j^{(2)}v_j}{2} + \\frac{\\E_{2} \\eta^{3} \\xi_i^{(1)}v_i \\xi_k^{(1)}\\xi_l^{(1)}w_{kl}}{2} + \\E_{2} \\eta^{3} \\xi_i^{(1)}v_i \\xi_m^{(1)}w_{m\\lambda} {\\order[1]{\\lambda}} + \\frac{\\E_{2} \\eta^{2} \\left(\\xi_i^{(1)}v_i\\right)^{2}}{2} + \\frac{\\E_{3} \\ddot{u}_0 \\dot{u}_0^{2} \\eta^{4} {\\order[1]{\\lambda}}^{4}}{4} + \\frac{\\E_{3} \\dot{u}_0^{3} \\eta^{4} {\\order[1]{\\lambda}}^{2} {\\order[2]{\\lambda}}}{4} + \\frac{\\E_{3} \\dot{u}_0^{3} \\eta^{3} {\\order[1]{\\lambda}}^{3}}{6} + \\frac{\\E_{3} \\eta^{4} \\left(\\xi_i^{(1)}v_i\\right)^{2} \\xi_j^{(2)}v_j}{4} + \\frac{\\E_{3} \\eta^{4} \\left(\\xi_i^{(1)}v_i\\right)^{2} \\xi_k^{(1)}\\xi_l^{(1)}w_{kl}}{4} + \\frac{\\E_{3} \\eta^{4} \\left(\\xi_i^{(1)}v_i\\right)^{2} \\xi_m^{(1)}w_{m\\lambda} {\\order[1]{\\lambda}}}{2} + \\frac{\\E_{3} \\eta^{3} \\left(\\xi_i^{(1)}v_i\\right)^{3}}{6} - \\frac{\\E_{4} \\dot{u}_0^{4} \\eta^{4} {\\order[1]{\\lambda}}^{4}}{24} + \\frac{\\E_{4} \\eta^{4} \\left(\\xi_i^{(1)}v_i\\right)^{4}}{24} + \\frac{\\E_{\\lambda\\lambda\\lambda\\lambda} \\eta^{4} {\\order[1]{\\lambda}}^{4}}{24} + \\frac{\\E_{\\lambda\\lambda\\lambda} \\eta^{4} {\\order[1]{\\lambda}}^{2} {\\order[2]{\\lambda}}}{4} + \\frac{\\E_{\\lambda\\lambda\\lambda} \\eta^{3} {\\order[1]{\\lambda}}^{3}}{6} + \\frac{\\E_{\\lambda\\lambda} \\eta^{4} {\\order[1]{\\lambda}} {\\order[3]{\\lambda}}}{6} + \\frac{\\E_{\\lambda\\lambda} \\eta^{4} {\\order[2]{\\lambda}}^{2}}{8} + \\frac{\\E_{\\lambda\\lambda} \\eta^{3} {\\order[1]{\\lambda}} {\\order[2]{\\lambda}}}{2} + \\frac{\\E_{\\lambda\\lambda} \\eta^{2} {\\order[1]{\\lambda}}^{2}}{2} + \\frac{\\E_{\\lambda} \\eta^{4} {\\order[4]{\\lambda}}}{24} + \\frac{\\E_{\\lambda} \\eta^{3} {\\order[3]{\\lambda}}}{6} + \\frac{\\E_{\\lambda} \\eta^{2} {\\order[2]{\\lambda}}}{2} + \\E_{\\lambda} \\eta {\\order[1]{\\lambda}} - \\frac{\\ddot{\\E}_2 \\dot{u}_0^{2} \\eta^{4} {\\order[1]{\\lambda}}^{4}}{4} + \\frac{\\ddot{\\E}_2 \\eta^{4} \\left(\\xi_i^{(1)}v_i\\right)^{2} {\\order[1]{\\lambda}}^{2}}{4} - \\frac{\\ddot{u}_0 \\dot{\\E}_2 \\dot{u}_0 \\eta^{4} {\\order[1]{\\lambda}}^{4}}{2} - \\frac{3 \\dot{\\E}_2 \\dot{u}_0^{2} \\eta^{4} {\\order[1]{\\lambda}}^{2} {\\order[2]{\\lambda}}}{4} - \\frac{\\dot{\\E}_2 \\dot{u}_0^{2} \\eta^{3} {\\order[1]{\\lambda}}^{3}}{2} + \\frac{\\dot{\\E}_2 \\eta^{4} \\left(\\xi_i^{(1)}v_i\\right)^{2} {\\order[2]{\\lambda}}}{4} + \\frac{\\dot{\\E}_2 \\eta^{4} \\xi_i^{(1)}v_i \\xi_j^{(2)}v_j {\\order[1]{\\lambda}}}{2} + \\frac{\\dot{\\E}_2 \\eta^{4} \\xi_i^{(1)}v_i \\xi_k^{(1)}\\xi_l^{(1)}w_{kl} {\\order[1]{\\lambda}}}{2} + \\dot{\\E}_2 \\eta^{4} \\xi_i^{(1)}v_i \\xi_m^{(1)}w_{m\\lambda} {\\order[1]{\\lambda}}^{2} + \\frac{\\dot{\\E}_2 \\eta^{3} \\left(\\xi_i^{(1)}v_i\\right)^{2} {\\order[1]{\\lambda}}}{2} + \\frac{\\dot{\\E}_3 \\dot{u}_0^{3} \\eta^{4} {\\order[1]{\\lambda}}^{4}}{6} + \\frac{\\dot{\\E}_3 \\eta^{4} \\left(\\xi_i^{(1)}v_i\\right)^{3} {\\order[1]{\\lambda}}}{6}$"
      ],
      "text/plain": [
       "-\\E_2*\\dddot{u}_0*\\dot{u}_0*\\eta**4*{\\order[1]{\\lambda}}**4/6 - \\E_2*\\ddot{u}_0**2*\\eta**4*{\\order[1]{\\lambda}}**4/8 - 3*\\E_2*\\ddot{u}_0*\\dot{u}_0*\\eta**4*{\\order[1]{\\lambda}}**2*{\\order[2]{\\lambda}}/4 - \\E_2*\\ddot{u}_0*\\dot{u}_0*\\eta**3*{\\order[1]{\\lambda}}**3/2 - \\E_2*\\dot{u}_0**2*\\eta**4*{\\order[1]{\\lambda}}*{\\order[3]{\\lambda}}/6 - \\E_2*\\dot{u}_0**2*\\eta**4*{\\order[2]{\\lambda}}**2/8 - \\E_2*\\dot{u}_0**2*\\eta**3*{\\order[1]{\\lambda}}*{\\order[2]{\\lambda}}/2 - \\E_2*\\dot{u}_0**2*\\eta**2*{\\order[1]{\\lambda}}**2/2 + \\E_2*\\eta**4*\\xi_i^{(1)}v_i*{\\order[3]{u}}/6 + \\E_2*\\eta**4*\\xi_j^{(2)}v_j**2/8 + \\E_2*\\eta**4*\\xi_j^{(2)}v_j*\\xi_k^{(1)}\\xi_l^{(1)}w_{kl}/4 + \\E_2*\\eta**4*\\xi_j^{(2)}v_j*\\xi_m^{(1)}w_{m\\lambda}*{\\order[1]{\\lambda}}/2 + \\E_2*\\eta**4*\\xi_k^{(1)}\\xi_l^{(1)}w_{kl}**2/8 + \\E_2*\\eta**4*\\xi_k^{(1)}\\xi_l^{(1)}w_{kl}*\\xi_m^{(1)}w_{m\\lambda}*{\\order[1]{\\lambda}}/2 + \\E_2*\\eta**4*\\xi_m^{(1)}w_{m\\lambda}**2*{\\order[1]{\\lambda}}**2/2 + \\E_2*\\eta**3*\\xi_i^{(1)}v_i*\\xi_j^{(2)}v_j/2 + \\E_2*\\eta**3*\\xi_i^{(1)}v_i*\\xi_k^{(1)}\\xi_l^{(1)}w_{kl}/2 + \\E_2*\\eta**3*\\xi_i^{(1)}v_i*\\xi_m^{(1)}w_{m\\lambda}*{\\order[1]{\\lambda}} + \\E_2*\\eta**2*\\xi_i^{(1)}v_i**2/2 + \\E_3*\\ddot{u}_0*\\dot{u}_0**2*\\eta**4*{\\order[1]{\\lambda}}**4/4 + \\E_3*\\dot{u}_0**3*\\eta**4*{\\order[1]{\\lambda}}**2*{\\order[2]{\\lambda}}/4 + \\E_3*\\dot{u}_0**3*\\eta**3*{\\order[1]{\\lambda}}**3/6 + \\E_3*\\eta**4*\\xi_i^{(1)}v_i**2*\\xi_j^{(2)}v_j/4 + \\E_3*\\eta**4*\\xi_i^{(1)}v_i**2*\\xi_k^{(1)}\\xi_l^{(1)}w_{kl}/4 + \\E_3*\\eta**4*\\xi_i^{(1)}v_i**2*\\xi_m^{(1)}w_{m\\lambda}*{\\order[1]{\\lambda}}/2 + \\E_3*\\eta**3*\\xi_i^{(1)}v_i**3/6 - \\E_4*\\dot{u}_0**4*\\eta**4*{\\order[1]{\\lambda}}**4/24 + \\E_4*\\eta**4*\\xi_i^{(1)}v_i**4/24 + \\E_{\\lambda\\lambda\\lambda\\lambda}*\\eta**4*{\\order[1]{\\lambda}}**4/24 + \\E_{\\lambda\\lambda\\lambda}*\\eta**4*{\\order[1]{\\lambda}}**2*{\\order[2]{\\lambda}}/4 + \\E_{\\lambda\\lambda\\lambda}*\\eta**3*{\\order[1]{\\lambda}}**3/6 + \\E_{\\lambda\\lambda}*\\eta**4*{\\order[1]{\\lambda}}*{\\order[3]{\\lambda}}/6 + \\E_{\\lambda\\lambda}*\\eta**4*{\\order[2]{\\lambda}}**2/8 + \\E_{\\lambda\\lambda}*\\eta**3*{\\order[1]{\\lambda}}*{\\order[2]{\\lambda}}/2 + \\E_{\\lambda\\lambda}*\\eta**2*{\\order[1]{\\lambda}}**2/2 + \\E_{\\lambda}*\\eta**4*{\\order[4]{\\lambda}}/24 + \\E_{\\lambda}*\\eta**3*{\\order[3]{\\lambda}}/6 + \\E_{\\lambda}*\\eta**2*{\\order[2]{\\lambda}}/2 + \\E_{\\lambda}*\\eta*{\\order[1]{\\lambda}} - \\ddot{\\E}_2*\\dot{u}_0**2*\\eta**4*{\\order[1]{\\lambda}}**4/4 + \\ddot{\\E}_2*\\eta**4*\\xi_i^{(1)}v_i**2*{\\order[1]{\\lambda}}**2/4 - \\ddot{u}_0*\\dot{\\E}_2*\\dot{u}_0*\\eta**4*{\\order[1]{\\lambda}}**4/2 - 3*\\dot{\\E}_2*\\dot{u}_0**2*\\eta**4*{\\order[1]{\\lambda}}**2*{\\order[2]{\\lambda}}/4 - \\dot{\\E}_2*\\dot{u}_0**2*\\eta**3*{\\order[1]{\\lambda}}**3/2 + \\dot{\\E}_2*\\eta**4*\\xi_i^{(1)}v_i**2*{\\order[2]{\\lambda}}/4 + \\dot{\\E}_2*\\eta**4*\\xi_i^{(1)}v_i*\\xi_j^{(2)}v_j*{\\order[1]{\\lambda}}/2 + \\dot{\\E}_2*\\eta**4*\\xi_i^{(1)}v_i*\\xi_k^{(1)}\\xi_l^{(1)}w_{kl}*{\\order[1]{\\lambda}}/2 + \\dot{\\E}_2*\\eta**4*\\xi_i^{(1)}v_i*\\xi_m^{(1)}w_{m\\lambda}*{\\order[1]{\\lambda}}**2 + \\dot{\\E}_2*\\eta**3*\\xi_i^{(1)}v_i**2*{\\order[1]{\\lambda}}/2 + \\dot{\\E}_3*\\dot{u}_0**3*\\eta**4*{\\order[1]{\\lambda}}**4/6 + \\dot{\\E}_3*\\eta**4*\\xi_i^{(1)}v_i**3*{\\order[1]{\\lambda}}/6"
      ]
     },
     "execution_count": 29,
     "metadata": {},
     "output_type": "execute_result"
    }
   ],
   "source": [
    "E"
   ]
  },
  {
   "cell_type": "code",
   "execution_count": 30,
   "id": "7ae99d31-428d-4a5f-868f-c501be13faca",
   "metadata": {},
   "outputs": [],
   "source": [
    "ΔE = E - E_star"
   ]
  },
  {
   "cell_type": "markdown",
   "id": "f93a7cae-ef68-4364-9dd9-00c7efb6fc10",
   "metadata": {},
   "source": [
    "The terms of order 0 and 1 in $\\eta$ are identically null:"
   ]
  },
  {
   "cell_type": "code",
   "execution_count": 39,
   "id": "001997f6-1067-42d4-bf9d-504c876cdbc1",
   "metadata": {},
   "outputs": [],
   "source": [
    "assert ΔE.coeff(η, 0) == 0\n",
    "assert ΔE.coeff(η, 1) == 0"
   ]
  },
  {
   "cell_type": "markdown",
   "id": "b4a61705-426f-4329-ab2a-42e5c2cb2fc9",
   "metadata": {},
   "source": [
    "The second-order term reads"
   ]
  },
  {
   "cell_type": "code",
   "execution_count": 44,
   "id": "39ba99f7-f8c0-4156-b72b-fa442bde3705",
   "metadata": {},
   "outputs": [],
   "source": [
    "ΔE2 = ΔE.coeff(η, 2)"
   ]
  },
  {
   "cell_type": "code",
   "execution_count": 49,
   "id": "8d70ee04-d95d-487a-a3a1-0a2d8f305fcc",
   "metadata": {},
   "outputs": [
    {
     "data": {
      "text/latex": [
       "$\\displaystyle \\order[2]{\\Delta\\E}=\\frac{\\E_{2} \\left(\\xi_i^{(1)}v_i\\right)^{2}}{2}$"
      ],
      "text/plain": [
       "<IPython.core.display.Math object>"
      ]
     },
     "metadata": {},
     "output_type": "display_data"
    }
   ],
   "source": [
    "#| code-fold: true\n",
    "lsk.display_latex_equation(r\"\\order[2]{\\Delta\\E}\", ΔE2)"
   ]
  },
  {
   "cell_type": "markdown",
   "id": "0af7875e-8b99-4243-a9ab-fdae5f0882d3",
   "metadata": {},
   "source": [
    "The above expression should be understood as $\\frac{1}{2} \\order[1]{\\xi}_i \\, \\order[1]{\\xi}_j \\, \\E_2(v_i, v_j)$, which vanishes since $v_i$ and $v_j$ belong to the kernel of $\\E_2$. We now turn to the third-order term"
   ]
  },
  {
   "cell_type": "code",
   "execution_count": 46,
   "id": "5c00f45f-705e-4ae2-9903-d588dc51c458",
   "metadata": {},
   "outputs": [],
   "source": [
    "ΔE3 = ΔE.coeff(η, 3)"
   ]
  },
  {
   "cell_type": "code",
   "execution_count": 50,
   "id": "f1784471-0250-486d-a856-71c3eb38a773",
   "metadata": {},
   "outputs": [
    {
     "data": {
      "text/latex": [
       "$\\displaystyle \\order[3]{\\Delta\\E}=\\frac{\\E_{2} \\xi_i^{(1)}v_i \\xi_j^{(2)}v_j}{2} + \\frac{\\E_{2} \\xi_i^{(1)}v_i \\xi_k^{(1)}\\xi_l^{(1)}w_{kl}}{2} + \\E_{2} \\xi_i^{(1)}v_i \\xi_m^{(1)}w_{m\\lambda} {\\order[1]{\\lambda}} + \\frac{\\E_{3} \\left(\\xi_i^{(1)}v_i\\right)^{3}}{6} + \\frac{\\dot{\\E}_2 \\left(\\xi_i^{(1)}v_i\\right)^{2} {\\order[1]{\\lambda}}}{2}$"
      ],
      "text/plain": [
       "<IPython.core.display.Math object>"
      ]
     },
     "metadata": {},
     "output_type": "display_data"
    }
   ],
   "source": [
    "#| code-fold: true\n",
    "lsk.display_latex_equation(r\"\\order[3]{\\Delta\\E}\", ΔE3)"
   ]
  },
  {
   "cell_type": "markdown",
   "id": "1c434197-2c08-4e68-b220-8d96410ad396",
   "metadata": {},
   "source": [
    "Observing that $\\E_2(v_i, \\bullet) = 0$ and using Eqs. (@eq-20230125062505), (@eq-20230125062510) and (@eq-20230125062336), the above expression reads reduces to"
   ]
  },
  {
   "cell_type": "markdown",
   "id": "2bff3d59-baa1-4c61-b4b3-2f0c52908554",
   "metadata": {},
   "source": [
    "$$\n",
    "\\begin{aligned}[b]\n",
    "\\order[3]{\\Delta\\E}\n",
    "&= \\tfrac{1}{6} \\, \\order[1]{\\xi}_i \\, \\order[1]{\\xi}_j \\, \\order[1]{\\xi}_k \\, \\E_3(v_i, v_j, v_k) + \\tfrac{1}{2} \\, \\order[1]{\\lambda} \\, \\order[1]{\\xi}_i \\, \\order[1]{\\xi}_j \\, \\dot{\\E}_2(v_i, v_j)\\\\\n",
    "&= \\tfrac{1}{6} \\, \\order[1]{\\xi}_i \\, \\order[1]{\\xi}_j \\, \\order[1]{\\xi}_k \\, E_{ijk} + \\tfrac{1}{2} \\, \\order[1]{\\lambda} \\, \\order[1]{\\xi}_i \\, \\order[1]{\\xi}_j \\, \\dot{E}_{ij}\\\\\n",
    "&= \\tfrac{1}{6} \\, \\order[1]{\\lambda} \\, \\order[1]{\\xi}_i \\, \\order[1]{\\xi}_j \\, \\dot{E}_{ij}.\n",
    "\\end{aligned}\n",
    "$$"
   ]
  },
  {
   "cell_type": "markdown",
   "id": "191037dc-c750-47bc-948b-a56d4b12418e",
   "metadata": {},
   "source": [
    "Finally, the fourth-order term is simplified."
   ]
  },
  {
   "cell_type": "code",
   "execution_count": 51,
   "id": "a04721fa-5585-4eba-81c5-7366d7b3f286",
   "metadata": {},
   "outputs": [],
   "source": [
    "ΔE4 = ΔE.coeff(η, 4)"
   ]
  },
  {
   "cell_type": "code",
   "execution_count": 52,
   "id": "747759f0-d45f-4062-a6e1-fdd89e660fcc",
   "metadata": {},
   "outputs": [
    {
     "data": {
      "text/latex": [
       "$\\displaystyle \\order[4]{\\Delta\\E}=\\frac{\\E_{2} \\xi_i^{(1)}v_i {\\order[3]{u}}}{6} + \\frac{\\E_{2} \\left(\\xi_j^{(2)}v_j\\right)^{2}}{8} + \\frac{\\E_{2} \\xi_j^{(2)}v_j \\xi_k^{(1)}\\xi_l^{(1)}w_{kl}}{4} + \\frac{\\E_{2} \\xi_j^{(2)}v_j \\xi_m^{(1)}w_{m\\lambda} {\\order[1]{\\lambda}}}{2} + \\frac{\\E_{2} \\left(\\xi_k^{(1)}\\xi_l^{(1)}w_{kl}\\right)^{2}}{8} + \\frac{\\E_{2} \\xi_k^{(1)}\\xi_l^{(1)}w_{kl} \\xi_m^{(1)}w_{m\\lambda} {\\order[1]{\\lambda}}}{2} + \\frac{\\E_{2} \\left(\\xi_m^{(1)}w_{m\\lambda}\\right)^{2} {\\order[1]{\\lambda}}^{2}}{2} + \\frac{\\E_{3} \\left(\\xi_i^{(1)}v_i\\right)^{2} \\xi_j^{(2)}v_j}{4} + \\frac{\\E_{3} \\left(\\xi_i^{(1)}v_i\\right)^{2} \\xi_k^{(1)}\\xi_l^{(1)}w_{kl}}{4} + \\frac{\\E_{3} \\left(\\xi_i^{(1)}v_i\\right)^{2} \\xi_m^{(1)}w_{m\\lambda} {\\order[1]{\\lambda}}}{2} + \\frac{\\E_{4} \\left(\\xi_i^{(1)}v_i\\right)^{4}}{24} + \\frac{\\ddot{\\E}_2 \\left(\\xi_i^{(1)}v_i\\right)^{2} {\\order[1]{\\lambda}}^{2}}{4} + \\frac{\\dot{\\E}_2 \\left(\\xi_i^{(1)}v_i\\right)^{2} {\\order[2]{\\lambda}}}{4} + \\frac{\\dot{\\E}_2 \\xi_i^{(1)}v_i \\xi_j^{(2)}v_j {\\order[1]{\\lambda}}}{2} + \\frac{\\dot{\\E}_2 \\xi_i^{(1)}v_i \\xi_k^{(1)}\\xi_l^{(1)}w_{kl} {\\order[1]{\\lambda}}}{2} + \\dot{\\E}_2 \\xi_i^{(1)}v_i \\xi_m^{(1)}w_{m\\lambda} {\\order[1]{\\lambda}}^{2} + \\frac{\\dot{\\E}_3 \\left(\\xi_i^{(1)}v_i\\right)^{3} {\\order[1]{\\lambda}}}{6}$"
      ],
      "text/plain": [
       "<IPython.core.display.Math object>"
      ]
     },
     "metadata": {},
     "output_type": "display_data"
    }
   ],
   "source": [
    "#| code-fold: true\n",
    "lsk.display_latex_equation(r\"\\order[4]{\\Delta\\E}\", ΔE4)"
   ]
  },
  {
   "cell_type": "markdown",
   "id": "6d9101f4-df60-49b0-b7a2-7ca804126a66",
   "metadata": {},
   "source": [
    "Upon simplification of $\\E_2(v_i, \\bullet) = 0$, the above expression should be understood as follows"
   ]
  },
  {
   "cell_type": "markdown",
   "id": "bdcd5a6a-90b0-401a-b028-2df2fc70beb2",
   "metadata": {},
   "source": [
    "$$\n",
    "\\begin{aligned}\n",
    "\\order[4]{\\Delta\\E} ={}& \\tfrac{1}{8} \\order[1]{\\xi}_i \\, \\order[1]{\\xi}_j \\, \\order[1]{\\xi}_k \\, \\order[1]{\\xi}_l \\, \\E_2(w_{ij}, w_{kl})\n",
    "+ \\tfrac{1}{2} \\order[1]{\\lambda} \\, \\order[1]{\\xi}_i \\, \\order[1]{\\xi}_j \\, \\order[1]{\\xi}_k  \\, \\E_2(w_{ij}, w_{k\\lambda})\\\\\n",
    "&+ \\tfrac{1}{2} \\bigl( \\order[1]{\\lambda} \\bigr)^2 \\, \\order[1]{\\xi}_i \\, \\order[1]{\\xi}_j \\, \\E_2(w_{i\\lambda}, w_{j\\lambda})\n",
    "+ \\tfrac{1}{4} \\order[1]{\\xi}_i \\, \\order[1]{\\xi}_j \\, \\order[2]{\\xi}_k \\, \\E_3(v_i, v_j, v_k)\\\\\n",
    "&+ \\tfrac{1}{4} \\order[1]{\\xi}_i \\, \\order[1]{\\xi}_j \\, \\order[1]{\\xi}_k \\, \\order[1]{\\xi}_l \\, \\E_3(v_i, v_j, w_{kl})\n",
    "+ \\tfrac{1}{2} \\order[1]{\\lambda} \\, \\order[1]{\\xi}_i \\, \\order[1]{\\xi}_j \\, \\order[1]{\\xi}_k  \\, \\E_3(v_i, v_j, w_{k\\lambda})\\\\\n",
    "&+ \\tfrac{1}{24} \\order[1]{\\xi}_i \\, \\order[1]{\\xi}_j \\, \\order[1]{\\xi}_k \\, \\order[1]{\\xi}_l \\, \\E_4(v_i, v_j, v_k, v_l)\n",
    "+ \\tfrac{1}{4} \\bigl( \\order[1]{\\lambda} \\bigr)^2 \\, \\order[1]{\\xi}_i \\, \\order[1]{\\xi}_j \\, \\ddot{\\E}_2(v_i, v_j)\\\\\n",
    "&+ \\tfrac{1}{4} \\order[2]{\\lambda} \\, \\order[1]{\\xi}_i \\, \\order[1]{\\xi}_j \\, \\dot{\\E}_2(v_i, v_j)\n",
    "+ \\tfrac{1}{2} \\order[1]{\\lambda} \\, \\order[1]{\\xi}_i \\, \\order[2]{\\xi}_j \\, \\dot{\\E}_2(v_i, v_j)\\\\\n",
    "&+ \\tfrac{1}{2} \\order[1]{\\lambda} \\, \\order[1]{\\xi}_i \\, \\order[1]{\\xi}_j \\, \\order[1]{\\xi}_k  \\, \\dot{E}_2(v_i, w_{jk})\n",
    "+ \\bigl( \\order[1]{\\lambda} \\bigr)^2 \\, \\order[1]{\\xi}_i \\, \\order[1]{\\xi}_j \\, \\dot{\\E}_2(v_i, w_{j\\lambda})\\\\\n",
    "&+ \\tfrac{1}{6} \\order[1]{\\lambda} \\, \\order[1]{\\xi}_i \\, \\order[1]{\\xi}_j \\, \\order[1]{\\xi}_k \\, \\dot{\\E}_3(v_i, v_j, v_k),\n",
    "\\end{aligned}\n",
    "$$ {#eq-20230402102020}"
   ]
  },
  {
   "cell_type": "markdown",
   "id": "529fec7d-90ae-467d-ad3f-725f1e2cbbb8",
   "metadata": {},
   "source": [
    "which simplifies (see proof in @sec-20230402101835)"
   ]
  },
  {
   "cell_type": "markdown",
   "id": "ef7902a0-f278-45f7-be42-6180c4dac7fa",
   "metadata": {},
   "source": [
    "$$\n",
    "\\begin{aligned}\n",
    "\\order[4]{\\Delta\\E} ={} & \\tfrac{1}{24} \\bigl\\{ E_{ijkl} \\, \\order[1]{\\xi}_i \\, \\order[1]{\\xi}_j \\, \\order[1]{\\xi}_k \\, \\order[1]{\\xi}_l + 4\\order[1]{\\lambda} \\, \\dot{E}_{ijk} \\, \\order[1]{\\xi}_i \\, \\order[1]{\\xi}_j \\, \\order[1]{\\xi}_k\\\\\n",
    "&+ 6 \\bigl[ \\bigl( \\order[1]{\\lambda} \\bigr)^2 \\, \\ddot{E}_{ij} + \\order[2]{\\lambda} \\, \\dot{E}_{ij} \\bigr] \\, \\order[1]{\\xi}_i \\, \\order[1]{\\xi}_j \\bigr\\}.\n",
    "\\end{aligned}\n",
    "$$ {#eq-20230402101651}"
   ]
  }
 ],
 "metadata": {
  "kernelspec": {
   "display_name": "Python 3 (ipykernel)",
   "language": "python",
   "name": "python3"
  },
  "language_info": {
   "codemirror_mode": {
    "name": "ipython",
    "version": 3
   },
   "file_extension": ".py",
   "mimetype": "text/x-python",
   "name": "python",
   "nbconvert_exporter": "python",
   "pygments_lexer": "ipython3",
   "version": "3.10.6"
  }
 },
 "nbformat": 4,
 "nbformat_minor": 5
}
