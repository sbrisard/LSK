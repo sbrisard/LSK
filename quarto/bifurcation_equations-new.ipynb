{
 "cells": [
  {
   "cell_type": "markdown",
   "id": "80f2c8c2-295e-4194-a81a-27a3adfbb4f7",
   "metadata": {
    "tags": []
   },
   "source": [
    "# Bifurcation equations {#sec-20230102153124}"
   ]
  },
  {
   "cell_type": "markdown",
   "id": "8cb9627a-0521-44e1-b0c4-cb2e90e408f4",
   "metadata": {},
   "source": [
    "This notebook uses $\\LaTeX\\newcommand{\\D}{\\mathrm{d}}\\newcommand{\\E}{\\mathcal{E}}\\newcommand{\\reals}{\\mathbb{R}}$ custom macros."
   ]
  },
  {
   "cell_type": "markdown",
   "id": "6c755e9c-24e0-437a-8b51-8b2d97bd91ce",
   "metadata": {},
   "source": [
    "In this chapter, the bifurcation analysis of the perfect system is performed symbolically. The starting point is the symbolic expression of the energy $(u, \\lambda) \\mapsto \\E(u, \\lambda)$ that was derived in @sec-20230208081549."
   ]
  },
  {
   "cell_type": "markdown",
   "id": "62ad2dfb-1006-4f94-a4a1-2c61a719a6d7",
   "metadata": {},
   "source": [
    "To begin with, we perform the relevant initializations and retrieve the expression of the energy."
   ]
  },
  {
   "cell_type": "code",
   "execution_count": 1,
   "id": "0c4aa7ee-185d-46b8-af94-d18604b761aa",
   "metadata": {},
   "outputs": [],
   "source": [
    "import json\n",
    "import lsk\n",
    "\n",
    "from sympy import *"
   ]
  },
  {
   "cell_type": "code",
   "execution_count": 2,
   "id": "de49eac9-ffa6-4a52-8746-2b872e406739",
   "metadata": {},
   "outputs": [],
   "source": [
    "E2, E2_dot, E3 = symbols(r\"\\E_2 \\dot{\\E}_2 \\E_3\")\n",
    "E_ij_dot, E_ijk = symbols(r\"\\dot{E}_{ij} E_{ijk}\")\n",
    "\n",
    "t, λ = symbols(r\"t \\lambda\")\n",
    "u, u_hat, w_hat = symbols(r\"u \\hat{u} \\hat{w}\")\n",
    "\n",
    "v_e, v_i, v_j, v_k, v_m, v_q, v_r = symbols(r\"v_e v_i v_j v_k v_m v_q v_r\")\n",
    "λ_k, λ_mn, λ_p = symbols(r\"\\lambda_k \\lambda_{mn} \\lambda_p\")\n",
    "ξ_a, ξ_b, ξ_c, ξ_d, ξ_e, ξ_i, ξ_j, ξ_k, ξ_l, ξ_m, ξ_n, ξ_p, ξ_q, ξ_r = symbols(r\"\\xi_a \\xi_b \\xi_c \\xi_d \\xi_e \\xi_i \\xi_j \\xi_k \\xi_l \\xi_m \\xi_n \\xi_p \\xi_q \\xi_r\")\n",
    "\n",
    "w_a, w_i = symbols(r\"w_a w_i\")\n",
    "w_λ, w_λλ = symbols(r\"w_\\lambda w_{\\lambda\\lambda}\")\n",
    "w_bc, w_jk = symbols(r\"w_{bc} w_{jk}\")\n",
    "w_dλ, w_lλ = symbols(r\"w_{d\\lambda} w_{l\\lambda}\")"
   ]
  },
  {
   "cell_type": "code",
   "execution_count": 3,
   "id": "a746c5f0-f5f7-4d9a-ada3-dd851d190b08",
   "metadata": {},
   "outputs": [],
   "source": [
    "with open(\"setting-up_the_computational_stage.out.json\", \"r\") as f:\n",
    "    data = json.load(f)\n",
    "    \n",
    "u_star = eval(data[\"u_star\"])\n",
    "E = eval(data[\"E\"])"
   ]
  },
  {
   "cell_type": "code",
   "execution_count": 4,
   "id": "caf1fde4-c198-4630-8721-afe95fcc7ffe",
   "metadata": {},
   "outputs": [
    {
     "data": {
      "text/latex": [
       "$\\displaystyle u^\\star(\\lambda)=\\frac{\\ddddot{u}_0 \\lambda^{4}}{24} + \\frac{\\dddot{u}_0 \\lambda^{3}}{6} + \\frac{\\ddot{u}_0 \\lambda^{2}}{2} + \\dot{u}_0 \\lambda$"
      ],
      "text/plain": [
       "<IPython.core.display.Math object>"
      ]
     },
     "metadata": {},
     "output_type": "display_data"
    },
    {
     "data": {
      "text/latex": [
       "$\\displaystyle \\E(u, \\lambda)=- \\frac{\\E_{2} \\dddot{u}_0 \\lambda^{3} u}{6} - \\frac{\\E_{2} \\ddot{u}_0 \\lambda^{2} u}{2} - \\E_{2} \\dot{u}_0 \\lambda u + \\frac{\\E_{2} u^{2}}{2} + \\frac{\\E_{3} \\ddot{u}_0 \\dot{u}_0 \\lambda^{3} u}{2} - \\frac{\\E_{3} \\ddot{u}_0 \\lambda^{2} u^{2}}{4} + \\frac{\\E_{3} \\dot{u}_0^{2} \\lambda^{2} u}{2} - \\frac{\\E_{3} \\dot{u}_0 \\lambda u^{2}}{2} + \\frac{\\E_{3} u^{3}}{6} - \\frac{\\E_{4} \\dot{u}_0^{3} \\lambda^{3} u}{6} + \\frac{\\E_{4} \\dot{u}_0^{2} \\lambda^{2} u^{2}}{4} - \\frac{\\E_{4} \\dot{u}_0 \\lambda u^{3}}{6} + \\frac{\\E_{4} u^{4}}{24} + \\frac{\\E_{\\lambda\\lambda\\lambda\\lambda} \\lambda^{4}}{24} + \\frac{\\E_{\\lambda\\lambda\\lambda} \\lambda^{3}}{6} + \\frac{\\E_{\\lambda\\lambda} \\lambda^{2}}{2} + \\E_{\\lambda} \\lambda - \\frac{\\ddot{\\E}_2 \\dot{u}_0 \\lambda^{3} u}{2} + \\frac{\\ddot{\\E}_2 \\lambda^{2} u^{2}}{4} - \\frac{\\ddot{u}_0 \\dot{\\E}_2 \\lambda^{3} u}{2} - \\dot{\\E}_2 \\dot{u}_0 \\lambda^{2} u + \\frac{\\dot{\\E}_2 \\lambda u^{2}}{2} + \\frac{\\dot{\\E}_3 \\dot{u}_0^{2} \\lambda^{3} u}{2} - \\frac{\\dot{\\E}_3 \\dot{u}_0 \\lambda^{2} u^{2}}{2} + \\frac{\\dot{\\E}_3 \\lambda u^{3}}{6}$"
      ],
      "text/plain": [
       "<IPython.core.display.Math object>"
      ]
     },
     "metadata": {},
     "output_type": "display_data"
    }
   ],
   "source": [
    "#| code-fold: true\n",
    "lsk.display_latex_equation(r\"u^\\star(\\lambda)\", u_star)\n",
    "lsk.display_latex_equation(r\"\\E(u, \\lambda)\", E)"
   ]
  },
  {
   "cell_type": "markdown",
   "id": "f382cfbb-6e4a-4fb8-b2b5-5d384f60e060",
   "metadata": {},
   "source": [
    "## Outline of the strategy"
   ]
  },
  {
   "cell_type": "markdown",
   "id": "ff0d4b51-491a-486a-8ab9-5c133ecb1f9f",
   "metadata": {},
   "source": [
    "In this section, we show that, besides the fundamental branch $u^\\ast(\\lambda)$, other (bifurcated) equilibrium branches may pass through the critical point $(u_0, \\lambda_0)$. The starting point is the characterization of an equilibrium by the stationarity of the energy, which defines all equilibrium branches as implicit functions, which can be expanded with respect to some perturbation parameter."
   ]
  },
  {
   "cell_type": "markdown",
   "id": "dbab2d0c-472a-49ab-8ffa-d660996e9dbf",
   "metadata": {},
   "source": [
    "The approach adopted here relies on the Lyapunov–Schmidt decomposition (see below). Note that other approaches are possible, see e.g. @chak2018."
   ]
  },
  {
   "cell_type": "markdown",
   "id": "0e118269-d4a8-48e5-af66-bd2495cd6128",
   "metadata": {},
   "source": [
    "For a given value of $\\lambda$ (close to the critical value $\\lambda_0$), we seek an equilibrium point $u$ of the\n",
    "system, such that\n",
    "\n",
    "$$\n",
    "\\E_{,u}(u, \\lambda; \\hat{u}) = 0 \\quad \\text{for all} \\quad \\hat{u} \\in U.\n",
    "$$ {#eq-20230102025737}"
   ]
  },
  {
   "cell_type": "code",
   "execution_count": 5,
   "id": "5d157a60-3d5b-4fb7-987c-97e8015c6766",
   "metadata": {},
   "outputs": [],
   "source": [
    "res = (E.diff(u) * u_hat).expand()"
   ]
  },
  {
   "cell_type": "markdown",
   "id": "6053af44-aacd-442e-9545-bfa421852b25",
   "metadata": {},
   "source": [
    "The above equation reads: for all $\\hat{u} \\in U$"
   ]
  },
  {
   "cell_type": "code",
   "execution_count": 6,
   "id": "8941cd71-33dd-4758-8590-3e7a2295a37c",
   "metadata": {},
   "outputs": [
    {
     "data": {
      "text/latex": [
       "$\\displaystyle - \\frac{\\E_{2} \\dddot{u}_0 \\hat{u} \\lambda^{3}}{6} - \\frac{\\E_{2} \\ddot{u}_0 \\hat{u} \\lambda^{2}}{2} - \\E_{2} \\dot{u}_0 \\hat{u} \\lambda + \\E_{2} \\hat{u} u + \\frac{\\E_{3} \\ddot{u}_0 \\dot{u}_0 \\hat{u} \\lambda^{3}}{2} - \\frac{\\E_{3} \\ddot{u}_0 \\hat{u} \\lambda^{2} u}{2} + \\frac{\\E_{3} \\dot{u}_0^{2} \\hat{u} \\lambda^{2}}{2} - \\E_{3} \\dot{u}_0 \\hat{u} \\lambda u + \\frac{\\E_{3} \\hat{u} u^{2}}{2} - \\frac{\\E_{4} \\dot{u}_0^{3} \\hat{u} \\lambda^{3}}{6} + \\frac{\\E_{4} \\dot{u}_0^{2} \\hat{u} \\lambda^{2} u}{2} - \\frac{\\E_{4} \\dot{u}_0 \\hat{u} \\lambda u^{2}}{2} + \\frac{\\E_{4} \\hat{u} u^{3}}{6} - \\frac{\\ddot{\\E}_2 \\dot{u}_0 \\hat{u} \\lambda^{3}}{2} + \\frac{\\ddot{\\E}_2 \\hat{u} \\lambda^{2} u}{2} - \\frac{\\ddot{u}_0 \\dot{\\E}_2 \\hat{u} \\lambda^{3}}{2} - \\dot{\\E}_2 \\dot{u}_0 \\hat{u} \\lambda^{2} + \\dot{\\E}_2 \\hat{u} \\lambda u + \\frac{\\dot{\\E}_3 \\dot{u}_0^{2} \\hat{u} \\lambda^{3}}{2} - \\dot{\\E}_3 \\dot{u}_0 \\hat{u} \\lambda^{2} u + \\frac{\\dot{\\E}_3 \\hat{u} \\lambda u^{2}}{2}=0$"
      ],
      "text/plain": [
       "<IPython.core.display.Math object>"
      ]
     },
     "metadata": {},
     "output_type": "display_data"
    }
   ],
   "source": [
    "#| code-fold: true\n",
    "lsk.display_latex_equation(res, 0)"
   ]
  },
  {
   "cell_type": "markdown",
   "id": "be993b87-e0a0-4431-8627-4a80c40b7e46",
   "metadata": {},
   "source": [
    "Note that the above variational problem is of order 1 with respect to both $u$ and $\\lambda$, as proved below (where we scale both $u$ and $\\lambda$ by the $t$ and observe the degree in $t$)."
   ]
  },
  {
   "cell_type": "code",
   "execution_count": 7,
   "id": "28adc8d4-a456-418b-9da7-958ec734beec",
   "metadata": {},
   "outputs": [
    {
     "data": {
      "text/latex": [
       "$\\displaystyle t \\left(- \\E_{2} \\dot{u}_0 \\hat{u} \\lambda + \\E_{2} \\hat{u} u\\right) + O\\left(t^{2}\\right)$"
      ],
      "text/plain": [
       "t*(-\\E_2*\\dot{u}_0*\\hat{u}*\\lambda + \\E_2*\\hat{u}*u) + O(t**2)"
      ]
     },
     "execution_count": 7,
     "metadata": {},
     "output_type": "execute_result"
    }
   ],
   "source": [
    "res.subs({λ: t * λ, u: t * u}).series(t, 0, 2)"
   ]
  },
  {
   "cell_type": "markdown",
   "id": "01d308b0-b343-4474-aa2b-7ab6d31491a8",
   "metadata": {},
   "source": [
    "The equilibrium state $u$ is projected onto the orthogonal subspaces $V$ and $W$.\n",
    "$$\n",
    "u = u^\\ast(\\lambda) + \\xi_i \\, v_i + w, \\quad \\text{with} \\quad w \\in W.\n",
    "$$ {#eq-20220902174235}"
   ]
  },
  {
   "cell_type": "markdown",
   "id": "b38fa1a8-a75a-4f35-8a13-dddb3a8f2676",
   "metadata": {},
   "source": [
    "It follows from the orthogonality of $V$ and $W$ that $\\langle v_i, w \\rangle = 0$ for all $i=1, \\ldots, m$. Analysis of the bifurcated branches therefore reduces to finding $\\xi_1, \\ldots, \\xi_m \\in \\reals$ and $w \\in W$, such that\n",
    "$$\n",
    "\\E_{,u}[u^\\ast(\\lambda) + \\xi_i \\, v_i + w, \\lambda; \\hat{u}] = 0 \\quad \\text{for all} \\quad \\hat{u} \\in U.\n",
    "$$ {#eq-20230107164346}"
   ]
  },
  {
   "cell_type": "markdown",
   "id": "39ffed7d-0756-4078-bdb6-0364246f5811",
   "metadata": {},
   "source": [
    "The method proceeds in three steps\n",
    "\n",
    "1. Eq. (@eq-20230107164346) is first expressed for $\\hat{u} \\in W$ which leads to a definition of $w$ as an implicit function of $\\xi_1, \\ldots, \\xi_m$ and $\\lambda$ (see @sec-20230102030010),\n",
    "2. Eq. (@eq-20230107164346) is then expressed for $\\hat{u} \\in V$ which leads to a definition of $\\lambda$ as an implicit function of $\\xi_1, \\ldots, \\xi_m$ (see @sec-20230102030125),\n",
    "3. finally, a parametrization $\\eta$ of $\\xi_1, \\ldots, \\xi_m$ is introduced and the Taylor expansion of $u$ and $\\lambda$ with respect to $\\eta$ is derived (see @sec-20230102030224)."
   ]
  },
  {
   "cell_type": "markdown",
   "id": "c1a71bee-0226-44ae-a860-e87f0ac012f0",
   "metadata": {},
   "source": [
    "## Elimination of $w$ {#sec-20230102030010}"
   ]
  },
  {
   "cell_type": "markdown",
   "id": "beb5ae1e-e794-4de8-8b54-0b774c4c818f",
   "metadata": {},
   "source": [
    "We first test Eq. (@eq-20230102025737) with $\\hat{w} \\in W$\n",
    "$$\n",
    "\\E_{,u}[u^\\ast(\\lambda) + \\xi_i \\, v_i + w, \\lambda; \\hat{w}] = 0, \\quad \\text{for all} \\quad \\hat{w} \\in W.\n",
    "$$ {#eq-20220825143616}"
   ]
  },
  {
   "cell_type": "markdown",
   "id": "b70f0325-04d5-4506-84d2-53c8da64386c",
   "metadata": {},
   "source": [
    "This defines $w$ as an implicit function of $\\xi_1, \\ldots, \\xi_m$ and $\\lambda$. The following asymptotic expansion about $\\xi_1 = \\cdots = \\xi_m = 0$ and $\\lambda = \\lambda_0$ is postulated\n",
    "$$\n",
    "\\begin{aligned}\n",
    "w(\\xi_1, \\ldots, \\xi_m, \\lambda) ={} & \\xi_i \\, w_i + \\bigl( \\lambda - \\lambda_0 \\bigr) \\, w_\\lambda + \\tfrac{1}{2} \\xi_i \\, \\xi_j \\, w_{ij}\\\\\n",
    "&+ \\tfrac{1}{2} \\bigl( \\lambda - \\lambda_0 \\bigr)^2 w_{\\lambda\\lambda} + \\xi_i \\, \\bigl( \\lambda - \\lambda_0 \\bigr) w_{i\\lambda} + \\cdots,\n",
    "\\end{aligned}\n",
    "$$ {#eq-20230107172048}\n",
    "where $w_i$, $w_\\lambda$, $w_{ij}$, $w_{\\lambda\\lambda}$ and $w_{i\\lambda}$ are elements of $W$ to be defined."
   ]
  },
  {
   "cell_type": "raw",
   "id": "cd4c2a59-7120-412f-bbba-2ab3eb2aeb32",
   "metadata": {},
   "source": [
    "::: {.callout-note}"
   ]
  },
  {
   "cell_type": "markdown",
   "id": "a6f90f50-c09c-4258-991c-e23bfaf1b942",
   "metadata": {},
   "source": [
    "In SymPy, handling indexed expressions is somewhat awkward. We therefore use in this notebook fully parenthesized indexed expressions like so"
   ]
  },
  {
   "cell_type": "code",
   "execution_count": 8,
   "id": "fc6fc278-b496-466e-978f-cb3916cf8ca4",
   "metadata": {},
   "outputs": [
    {
     "data": {
      "text/latex": [
       "$\\displaystyle (\\xi_{i} \\, v_{i})$"
      ],
      "text/plain": [
       "(\\xi_{i} \\, v_{i})"
      ]
     },
     "execution_count": 8,
     "metadata": {},
     "output_type": "execute_result"
    }
   ],
   "source": [
    "ξ_i_v_i = Symbol(r\"(\\xi_{i} \\, v_{i})\")\n",
    "ξ_i_v_i"
   ]
  },
  {
   "cell_type": "markdown",
   "id": "4ed62f58-edf1-453c-846a-741767fb6fa6",
   "metadata": {},
   "source": [
    "There are many drawbacks to this approach. First, SymPy will not be able to perform trivial simplifications, such as $\\xi_i \\, v_i - \\xi_j \\, v_j = 0$"
   ]
  },
  {
   "cell_type": "code",
   "execution_count": 9,
   "id": "7dc9be18-28bf-42d3-a7b1-75a315d1f714",
   "metadata": {},
   "outputs": [
    {
     "data": {
      "text/latex": [
       "$\\displaystyle (\\xi_{i} \\, v_{i}) - (\\xi_{j} \\, v_{j})$"
      ],
      "text/plain": [
       "(\\xi_{i} \\, v_{i}) - (\\xi_{j} \\, v_{j})"
      ]
     },
     "execution_count": 9,
     "metadata": {},
     "output_type": "execute_result"
    }
   ],
   "source": [
    "ξ_j_v_j = Symbol(r\"(\\xi_{j} \\, v_{j})\")\n",
    "simplify(ξ_i_v_i - ξ_j_v_j)"
   ]
  },
  {
   "cell_type": "markdown",
   "id": "78d86b68-77c8-4fbe-8ecf-0f9563072a0d",
   "metadata": {},
   "source": [
    "Second, it is not possible to tell that $\\xi_j \\, \\xi_k$ is a second-order expression in $\\xi_i$. The remedy is to define a dummy variable, $t$, which scales *all* $\\xi_i$."
   ]
  },
  {
   "cell_type": "code",
   "execution_count": 10,
   "id": "87acc646-a521-4cea-9213-a1a0850e461d",
   "metadata": {},
   "outputs": [],
   "source": [
    "assert degree((t * ξ_i) * (t * ξ_j), t) == 2"
   ]
  },
  {
   "cell_type": "markdown",
   "id": "aae0a6d1-c835-4202-a61f-9ceb4de557ea",
   "metadata": {},
   "source": [
    "Finally, one needs to make sure that each index is used only once in order to avoid invalid index expressions. Where this gets tricky is in the evaluation of multilinear forms. For example"
   ]
  },
  {
   "cell_type": "code",
   "execution_count": 11,
   "id": "659af0cc-0d17-426e-b17e-a7d5a0597e2a",
   "metadata": {},
   "outputs": [
    {
     "data": {
      "text/latex": [
       "$\\displaystyle (\\xi_{i} \\, v_{i})^{2} \\E_{2}$"
      ],
      "text/plain": [
       "(\\xi_{i} \\, v_{i})**2*\\E_2"
      ]
     },
     "execution_count": 11,
     "metadata": {},
     "output_type": "execute_result"
    }
   ],
   "source": [
    "u_ = ξ_i_v_i\n",
    "E2 * u_ * u_"
   ]
  },
  {
   "cell_type": "markdown",
   "id": "fbe1160c-2ee7-4f98-972a-fc17f60c301b",
   "metadata": {},
   "source": [
    "which is invalid. In fact, what we need to do is"
   ]
  },
  {
   "cell_type": "code",
   "execution_count": 12,
   "id": "23b97387-2790-438a-8a28-db08bc94d8b6",
   "metadata": {},
   "outputs": [
    {
     "data": {
      "text/latex": [
       "$\\displaystyle (\\xi_{i} \\, v_{i}) (\\xi_{j} \\, v_{j}) \\E_{2}$"
      ],
      "text/plain": [
       "(\\xi_{i} \\, v_{i})*(\\xi_{j} \\, v_{j})*\\E_2"
      ]
     },
     "execution_count": 12,
     "metadata": {},
     "output_type": "execute_result"
    }
   ],
   "source": [
    "u__ = ξ_j_v_j\n",
    "E2 * u_ * u__"
   ]
  },
  {
   "cell_type": "markdown",
   "id": "3a291e09-78f3-447c-be4e-9593eed997d1",
   "metadata": {},
   "source": [
    "Ensuring that all expressions are correct index-wise might therefore be a matter of trial-and-error, which makes the whole notebook somewhat brittle."
   ]
  },
  {
   "cell_type": "raw",
   "id": "ce3ee5be-c6a6-4a4e-85f3-e1c578b07b63",
   "metadata": {},
   "source": [
    ":::"
   ]
  },
  {
   "cell_type": "markdown",
   "id": "25cfcd4d-3732-440f-a8dd-ee773f615add",
   "metadata": {},
   "source": [
    "In what follows, Eq. (@eq-20230107172048) is plugged into Eq. (@eq-20220825143616), which then delivers an asymptotic expansion of the stationarity equation. We will nullify the terms of order up to 2 in $\\xi_i$ and $\\lambda$."
   ]
  },
  {
   "cell_type": "markdown",
   "id": "07aa22dd-0c28-41fd-b2a1-1e8b39adc0d0",
   "metadata": {},
   "source": [
    "It is observed that the residual $\\E_{,u}$ involves $\\E_3(u, u, \\hat{u})$ and $\\E_4(u, u, u, \\hat{u})$. Since all terms of $u$ are of order 1 or more in $\\xi_i$ and $\\lambda$, $\\E_4(u, u, u, \\hat{u})$ will not be considered below. However $\\E_3(u, u, \\hat{u})$ will need to be properly defined index-wise. Therefore, we need to defined two equivalent expressions of $u$ with two different set of indices."
   ]
  },
  {
   "cell_type": "code",
   "execution_count": 13,
   "id": "469e1620-8f7c-45a0-a5ed-c2fcc5d58862",
   "metadata": {},
   "outputs": [],
   "source": [
    "w_ = (t * ξ_i * w_i + λ * w_λ\n",
    "      + (t**2 * ξ_j * ξ_k * w_jk + 2 * λ * t * ξ_l * w_lλ + λ ** 2 * w_λλ) / 2)\n",
    "\n",
    "w__ = (t * ξ_a * w_a + λ * w_λ\n",
    "       + (t**2 * ξ_b * ξ_c * w_bc + 2 * λ * t * ξ_d * w_dλ + λ ** 2 * w_λλ) / 2)\n",
    "\n",
    "u_ = u_star + t * ξ_m * v_m + w_\n",
    "u__ = u_star + t * ξ_e * v_e + w__\n",
    "\n",
    "res_w = res.subs(u_hat, w_hat).subs(u**2, u_ * u__).subs(u, u_).expand()"
   ]
  },
  {
   "cell_type": "code",
   "execution_count": 14,
   "id": "e3fd83d1-b593-4dee-8d5e-0c77235f0cbc",
   "metadata": {},
   "outputs": [
    {
     "data": {
      "text/latex": [
       "$\\displaystyle \\frac{\\lambda^{2} w_{\\lambda\\lambda}}{2} + \\lambda \\xi_{l} t w_{l\\lambda} + \\lambda w_{\\lambda} + \\xi_{i} t w_{i} + \\frac{\\xi_{j} \\xi_{k} t^{2} w_{jk}}{2}$"
      ],
      "text/plain": [
       "\\lambda**2*w_{\\lambda\\lambda}/2 + \\lambda*\\xi_l*t*w_{l\\lambda} + \\lambda*w_\\lambda + \\xi_i*t*w_i + \\xi_j*\\xi_k*t**2*w_{jk}/2"
      ]
     },
     "execution_count": 14,
     "metadata": {},
     "output_type": "execute_result"
    }
   ],
   "source": [
    "w_"
   ]
  },
  {
   "cell_type": "code",
   "execution_count": 15,
   "id": "058b43b2-298b-4f95-9ec6-78191eff4641",
   "metadata": {},
   "outputs": [
    {
     "data": {
      "text/latex": [
       "$\\displaystyle \\frac{\\lambda^{2} w_{\\lambda\\lambda}}{2} + \\lambda \\xi_{d} t w_{d\\lambda} + \\lambda w_{\\lambda} + \\xi_{a} t w_{a} + \\frac{\\xi_{b} \\xi_{c} t^{2} w_{bc}}{2}$"
      ],
      "text/plain": [
       "\\lambda**2*w_{\\lambda\\lambda}/2 + \\lambda*\\xi_d*t*w_{d\\lambda} + \\lambda*w_\\lambda + \\xi_a*t*w_a + \\xi_b*\\xi_c*t**2*w_{bc}/2"
      ]
     },
     "execution_count": 15,
     "metadata": {},
     "output_type": "execute_result"
    }
   ],
   "source": [
    "w__"
   ]
  },
  {
   "cell_type": "markdown",
   "id": "6f550b36-5628-49fe-b24d-f4a2e8bc9e13",
   "metadata": {},
   "source": [
    "We can then nullify the various coefficients of this polynomial expansion, starting with the terms of order 1 in $\\xi_i$, which reads"
   ]
  },
  {
   "cell_type": "code",
   "execution_count": 16,
   "id": "f6c00bfe-6b00-4de2-aabf-d00062c8947b",
   "metadata": {},
   "outputs": [
    {
     "data": {
      "text/latex": [
       "$\\displaystyle \\E_{2} \\hat{w} \\xi_{i} w_{i} = 0$"
      ],
      "text/plain": [
       "Eq(\\E_2*\\hat{w}*\\xi_i*w_i, 0)"
      ]
     },
     "execution_count": 16,
     "metadata": {},
     "output_type": "execute_result"
    }
   ],
   "source": [
    "Eq(res_w.coeff(t, 1).subs({λ: 0, E2 * v_m: 0}), 0)"
   ]
  },
  {
   "cell_type": "markdown",
   "id": "ba2e1719-ffe2-4016-8265-ecc2413b305e",
   "metadata": {},
   "source": [
    "where we have expressed that $\\E_2(v_m, \\bullet) = 0$ since $v_m \\in V$. Expressing that this expression is null for all $\\xi_i$ therefore delivers the following variational problem\n",
    "\n",
    "$$\n",
    "\\E_2(w_i, \\hat{w}) = 0 \\quad \\text{for all} \\quad \\hat{w} \\in W.\n",
    "$$\n",
    "\n",
    "As argued in @sec-20230107173921, this leads to $w_i = 0$. As asserted below, the terms of order 1 and 2 in $\\lambda$ also read\n",
    "\n",
    "$$\n",
    "\\E_2(w_\\lambda, \\hat{w}) = 0 \\quad \\text{and} \\quad \\E_2(w_{\\lambda\\lambda}, \\hat{w}) = 0 \\quad \\text{for all} \\quad \\hat{w} \\in W.\n",
    "$$\n",
    "\n",
    "Therefore, $w_\\lambda = w_{\\lambda\\lambda} = 0$."
   ]
  },
  {
   "cell_type": "code",
   "execution_count": 17,
   "id": "827a188f-98fa-475d-bee4-6f74a43df7de",
   "metadata": {},
   "outputs": [],
   "source": [
    "dict_ = {ξ_i: 0, ξ_j: 0, ξ_k: 0, ξ_l: 0, ξ_m: 0, ξ_a: 0, ξ_b: 0, ξ_c: 0, ξ_d: 0, ξ_e: 0}\n",
    "\n",
    "assert res_w.coeff(λ, 1).subs(dict_) == E2 * w_λ * w_hat\n",
    "\n",
    "assert res_w.coeff(λ, 2).subs(dict_).subs(w_λ, 0).expand() == E2 * w_λλ * w_hat / 2"
   ]
  },
  {
   "cell_type": "markdown",
   "id": "71b28c46-ff72-49ee-822c-ff43f0148852",
   "metadata": {},
   "source": [
    "The $\\xi_i \\, \\xi_j$ terms deliver the following variational problem"
   ]
  },
  {
   "cell_type": "code",
   "execution_count": 18,
   "id": "21a4b7a6-9f4b-4b4e-ba66-66b4b82bc2fa",
   "metadata": {},
   "outputs": [
    {
     "data": {
      "text/latex": [
       "$\\displaystyle \\E_{2} \\hat{w} \\xi_{j} \\xi_{k} w_{jk} + \\E_{3} \\hat{w} \\xi_{e} \\xi_{m} v_{e} v_{m} = 0$"
      ],
      "text/plain": [
       "Eq(\\E_2*\\hat{w}*\\xi_j*\\xi_k*w_{jk} + \\E_3*\\hat{w}*\\xi_e*\\xi_m*v_e*v_m, 0)"
      ]
     },
     "execution_count": 18,
     "metadata": {},
     "output_type": "execute_result"
    }
   ],
   "source": [
    "Eq((2 * res_w.coeff(t, 2).subs({λ: 0, w_i: 0, w_a: 0})).expand(), 0)"
   ]
  },
  {
   "cell_type": "markdown",
   "id": "e27eb20f-02f7-4d26-950e-fef94153e410",
   "metadata": {},
   "source": [
    "for all $\\hat{w} \\in W$ and $\\xi_1, \\ldots, \\xi_m \\in \\reals$ (small enough). This variational problem coincides with (@eq-20230107180410). The $\\xi_i \\, \\xi_j$ term of the asymptotic expansion of $w$ is therefore exactly $w_{ij}$ defined in @sec-20230402152824.\n",
    "\n",
    "Finally, the $\\xi_i \\, \\lambda$ terms deliver the following variational problem"
   ]
  },
  {
   "cell_type": "code",
   "execution_count": 19,
   "id": "34cff5f4-3f8c-4825-8ff6-3b9f2d5670e8",
   "metadata": {},
   "outputs": [
    {
     "data": {
      "text/latex": [
       "$\\displaystyle \\E_{2} \\hat{w} \\xi_{l} w_{l\\lambda} + \\dot{\\E}_2 \\hat{w} \\xi_{m} v_{m} = 0$"
      ],
      "text/plain": [
       "Eq(\\E_2*\\hat{w}*\\xi_l*w_{l\\lambda} + \\dot{\\E}_2*\\hat{w}*\\xi_m*v_m, 0)"
      ]
     },
     "execution_count": 19,
     "metadata": {},
     "output_type": "execute_result"
    }
   ],
   "source": [
    "Eq(res_w.coeff(t, 1).coeff(λ).subs({λ: 0, w_a: 0, w_i: 0, w_λ: 0, ξ_e * v_e: ξ_m * v_m}), 0)"
   ]
  },
  {
   "cell_type": "markdown",
   "id": "38699dbd-63eb-4b4c-b217-3f73efe705d6",
   "metadata": {},
   "source": [
    "for all $\\hat{w} \\in W$ and $\\xi_1, \\ldots, \\xi_m \\in \\reals$. We recognize the variational problem (@eq-20230107180501). In other words, the $\\xi_i \\, \\lambda$ term of the asymptotic expansion of $w$ is $w_{i\\lambda}$ defined in @sec-20230402152824."
   ]
  },
  {
   "cell_type": "markdown",
   "id": "14bf5306-e756-41d4-8a97-995c83f0669c",
   "metadata": {},
   "source": [
    "So far, we have found the following expansion of $w$"
   ]
  },
  {
   "cell_type": "markdown",
   "id": "f2d23d18-08fe-4b8b-9fcb-6fbd5b98daf7",
   "metadata": {},
   "source": [
    "$$\n",
    "w(\\xi_1, \\ldots, \\xi_m, \\lambda) = \\tfrac{1}{2} \\xi_i \\, \\xi_j \\, w_{ij} + \\xi_i \\, \\bigl( \\lambda - \\lambda_0 \\bigr) w_{i\\lambda} + \\cdots,\n",
    "$$"
   ]
  },
  {
   "cell_type": "markdown",
   "id": "1e3fc646-6f21-426a-8764-ec7211ed3ea2",
   "metadata": {},
   "source": [
    "where $w_{ij}$ and $w_{i\\lambda}$ are defined by Eqs. (@eq-20230107180410) and (@eq-20230107180501), respectively."
   ]
  },
  {
   "cell_type": "markdown",
   "id": "18c1e00d-b093-41dd-8880-db7bef2fb49d",
   "metadata": {},
   "source": [
    "## Elimination of $\\lambda$ {#sec-20230102030125}\n",
    "\n",
    "We now test Eq. (@eq-20230102025737) with $\\hat{u} = v_i$ ($i = 1, \\ldots, m$)\n",
    "\n",
    "$$\n",
    "\\E_{,u}[u^\\ast(\\lambda) + \\xi_j \\, v_j + w(\\xi_1, \\ldots, \\xi_m, \\lambda), \\lambda; v_i] = 0, \\quad \\text{for all} \\quad i = 1, \\ldots, m.\n",
    "$$ {#eq-20230110092313}\n",
    "\n",
    "This now defines $\\lambda$ as an implicit function of $\\xi_1, \\ldots, \\xi_m$. The following asymptotic expansion\n",
    "about $\\xi_1 = \\cdots = \\xi_m = 0$ is postulated\n",
    "\n",
    "$$\n",
    "\\lambda(\\xi_1, \\ldots, \\xi_m) = \\xi_i \\, \\lambda_i + \\tfrac{1}{2} \\, \\xi_i \\, \\xi_j \\, \\lambda_{ij} + \\ldots\n",
    "$$ {#eq-20230110091031}\n",
    "\n",
    "where $\\lambda_i$ and $\\lambda_{ij}$ are scalar coefficients to be defined below.\n",
    "\n",
    "We first create the SymPy expressions for the asymptotic expansions of $(\\xi_1, \\ldots, \\xi_m, \\lambda) \\mapsto w(\\xi_1, \\ldots, \\xi_m, \\lambda)$, $(\\xi_1, \\ldots, \\xi_m) \\mapsto \\lambda(\\xi_1, \\ldots, \\xi_m)$ and finally $(\\xi_1, \\ldots, \\xi_m) \\mapsto u(\\xi_1, \\ldots, \\xi_m)$ see Eqs. (@eq-20230107172048), (@eq-20230110091031) and (@eq-20220902174235)."
   ]
  },
  {
   "cell_type": "code",
   "execution_count": 20,
   "id": "cce90eb4-81fa-4943-b0df-6d10f2b45f4b",
   "metadata": {},
   "outputs": [],
   "source": [
    "λ_ = t * ξ_p * λ_p + t**2 / 2 * ξ_m * ξ_n * λ_mn\n",
    "\n",
    "w_ = t**2 / 2 * ξ_j * ξ_k * w_jk + t * λ * ξ_l * w_lλ\n",
    "w__ = t**2 / 2 * ξ_b * ξ_c * w_bc + t * λ * ξ_d * w_dλ\n",
    "\n",
    "u_ = u_star + t  * ξ_q * v_q + w_\n",
    "u__ = u_star + t * ξ_r * v_r + w__"
   ]
  },
  {
   "cell_type": "code",
   "execution_count": 21,
   "id": "1b3473db-597f-4f18-a71c-02a270e91cbe",
   "metadata": {},
   "outputs": [
    {
     "data": {
      "text/latex": [
       "$\\displaystyle w(\\xi_1, \\ldots, \\xi_m, \\lambda)=\\lambda \\xi_{l} t w_{l\\lambda} + \\frac{\\xi_{j} \\xi_{k} t^{2} w_{jk}}{2}$"
      ],
      "text/plain": [
       "<IPython.core.display.Math object>"
      ]
     },
     "metadata": {},
     "output_type": "display_data"
    },
    {
     "data": {
      "text/latex": [
       "$\\displaystyle \\lambda(\\xi_1, \\ldots, \\xi_m)=\\lambda_{p} \\xi_{p} t + \\frac{\\lambda_{mn} \\xi_{m} \\xi_{n} t^{2}}{2}$"
      ],
      "text/plain": [
       "<IPython.core.display.Math object>"
      ]
     },
     "metadata": {},
     "output_type": "display_data"
    },
    {
     "data": {
      "text/latex": [
       "$\\displaystyle u(\\xi_1, \\ldots, \\xi_m)=\\frac{\\ddddot{u}_0 \\lambda^{4}}{24} + \\frac{\\dddot{u}_0 \\lambda^{3}}{6} + \\frac{\\ddot{u}_0 \\lambda^{2}}{2} + \\dot{u}_0 \\lambda + \\lambda \\xi_{l} t w_{l\\lambda} + \\frac{\\xi_{j} \\xi_{k} t^{2} w_{jk}}{2} + \\xi_{q} t v_{q}$"
      ],
      "text/plain": [
       "<IPython.core.display.Math object>"
      ]
     },
     "metadata": {},
     "output_type": "display_data"
    }
   ],
   "source": [
    "#| code-fold: true\n",
    "lsk.display_latex_equation(r\"w(\\xi_1, \\ldots, \\xi_m, \\lambda)\", w_)\n",
    "lsk.display_latex_equation(r\"\\lambda(\\xi_1, \\ldots, \\xi_m)\", λ_)\n",
    "lsk.display_latex_equation(r\"u(\\xi_1, \\ldots, \\xi_m)\", u_)"
   ]
  },
  {
   "cell_type": "markdown",
   "id": "4990bb66-f958-436b-9505-4b29bdc1839a",
   "metadata": {},
   "source": [
    "Then, the above expansions are plugged into the general expression of $\\E_{,u}(u, \\lambda; \\bullet)$ and tested with $\\hat{v} \\in V$, see Eq. (@eq-20230110092313)."
   ]
  },
  {
   "cell_type": "code",
   "execution_count": 22,
   "id": "79e9afe3-5137-41b8-8e17-f3b3c4dde389",
   "metadata": {},
   "outputs": [],
   "source": [
    "res_v = res.subs(u_hat, v_i).subs(u**2, u_ * u__).subs(u, u_).subs(λ, λ_).expand()"
   ]
  },
  {
   "cell_type": "markdown",
   "id": "58c8c6f8-4ce4-48c0-9f79-bd933697e7fd",
   "metadata": {},
   "source": [
    "We get an asymptotic expansion of the residual with respect to $\\xi_1, \\ldots, \\xi_m$. This residual must vanish for all $\\xi_i$ sufficiently small. Therefore, all coefficients of the expansion `res_v` must be nullified at all orders and for all $\\xi_i$ sufficiently small. Considering the expansion up to third order, we get after simplification only *two* bifurcation equations, since the terms of order 0 and 1 are identically null, as verified below."
   ]
  },
  {
   "cell_type": "code",
   "execution_count": 23,
   "id": "f39736f9-6c5d-43f4-8d70-44fe54886daa",
   "metadata": {},
   "outputs": [],
   "source": [
    "assert res_v.coeff(t, 0) == 0\n",
    "assert res_v.coeff(t, 1).subs(E2 * v_i, 0) == 0"
   ]
  },
  {
   "cell_type": "markdown",
   "id": "abd82b1e-8a0b-44db-bce5-627e09f43fd3",
   "metadata": {},
   "source": [
    "Upon cosmetic substitutions (that are defined step-by-step!), the $\\xi_i \\, \\xi_j$ terms deliver the first form of the **first bifurcation equation**"
   ]
  },
  {
   "cell_type": "code",
   "execution_count": 24,
   "id": "ef72f947-1056-4e7a-81ac-80d16a55cc5b",
   "metadata": {},
   "outputs": [
    {
     "data": {
      "text/latex": [
       "$\\displaystyle \\frac{E_{ijk} \\xi_{j} \\xi_{k}}{2} + \\dot{E}_{ij} \\lambda_{k} \\xi_{j} \\xi_{k} = 0$"
      ],
      "text/plain": [
       "Eq(E_{ijk}*\\xi_j*\\xi_k/2 + \\dot{E}_{ij}*\\lambda_k*\\xi_j*\\xi_k, 0)"
      ]
     },
     "execution_count": 24,
     "metadata": {},
     "output_type": "execute_result"
    }
   ],
   "source": [
    "lhs = res_v.coeff(t, 2)\n",
    "lhs = lhs.subs(E2 * v_i, 0)\n",
    "lhs = lhs.subs(ξ_q * ξ_r * E3 * v_q * v_r, ξ_j * ξ_k * E3 * v_j * v_k)\n",
    "lhs = lhs.subs(ξ_r * v_r, ξ_q * v_q)\n",
    "lhs = lhs.subs(λ_p * ξ_p, λ_k * ξ_k)\n",
    "lhs = lhs.subs(ξ_q * v_q, ξ_j * v_j)\n",
    "lhs = lhs.subs(E3 * v_i * v_j * v_k, E_ijk)\n",
    "lhs = lhs.subs(E2_dot * v_i * v_j, E_ij_dot)\n",
    "\n",
    "(bif_eq_1 := Eq(lhs, 0))"
   ]
  },
  {
   "cell_type": "markdown",
   "id": "f00d1ac0-d232-4618-aefa-16f7b99faaed",
   "metadata": {},
   "source": [
    "where we have introduced the symbols $\\dot{E}_{ij}$ and $E_{ijk}$, defined by Eqs. (@eq-20230125062505) and (@eq-20230125062510), respectively. Turning now to the term of third-order in $\\xi_i$."
   ]
  },
  {
   "cell_type": "markdown",
   "id": "497cf262-a920-4663-b6cc-004e657fc8bd",
   "metadata": {},
   "source": [
    "**A REPRENDRE ICI 30/05/2023 09:33**"
   ]
  },
  {
   "cell_type": "code",
   "execution_count": 25,
   "id": "ac9db3c3-66f9-4bb6-865c-00e2d4f6f493",
   "metadata": {},
   "outputs": [
    {
     "data": {
      "text/latex": [
       "$\\displaystyle - \\frac{\\E_{3} \\ddot{u}_0 \\lambda_{p}^{2} \\xi_{p}^{2} \\xi_{q} v_{i} v_{q}}{4} + \\frac{\\E_{3} \\ddot{u}_0 \\lambda_{p}^{2} \\xi_{p}^{2} \\xi_{r} v_{i} v_{r}}{4} + \\frac{\\E_{3} \\dot{u}_0 \\lambda_{p}^{2} \\xi_{d} \\xi_{p}^{2} v_{i} w_{d\\lambda}}{2} - \\frac{\\E_{3} \\dot{u}_0 \\lambda_{p}^{2} \\xi_{l} \\xi_{p}^{2} v_{i} w_{l\\lambda}}{2} + \\frac{\\E_{3} \\dot{u}_0 \\lambda_{p} \\xi_{b} \\xi_{c} \\xi_{p} v_{i} w_{bc}}{4} - \\frac{\\E_{3} \\dot{u}_0 \\lambda_{p} \\xi_{j} \\xi_{k} \\xi_{p} v_{i} w_{jk}}{4} - \\frac{\\E_{3} \\dot{u}_0 \\lambda_{mn} \\xi_{m} \\xi_{n} \\xi_{q} v_{i} v_{q}}{4} + \\frac{\\E_{3} \\dot{u}_0 \\lambda_{mn} \\xi_{m} \\xi_{n} \\xi_{r} v_{i} v_{r}}{4} + \\frac{\\E_{3} \\lambda_{p} \\xi_{d} \\xi_{p} \\xi_{q} v_{i} v_{q} w_{d\\lambda}}{2} + \\frac{\\E_{3} \\lambda_{p} \\xi_{l} \\xi_{p} \\xi_{r} v_{i} v_{r} w_{l\\lambda}}{2} + \\frac{\\E_{3} \\xi_{b} \\xi_{c} \\xi_{q} v_{i} v_{q} w_{bc}}{4} + \\frac{\\E_{3} \\xi_{j} \\xi_{k} \\xi_{r} v_{i} v_{r} w_{jk}}{4} + \\frac{\\E_{4} \\dot{u}_0^{2} \\lambda_{p}^{2} \\xi_{p}^{2} \\xi_{q} v_{i} v_{q}}{2} - \\frac{\\E_{4} \\dot{u}_0^{2} \\lambda_{p}^{2} \\xi_{p}^{2} \\xi_{r} v_{i} v_{r}}{2} + \\frac{\\E_{4} \\dot{u}_0 \\lambda_{p} \\xi_{p} \\xi_{q}^{2} v_{i} v_{q}^{2}}{2} - \\frac{\\E_{4} \\dot{u}_0 \\lambda_{p} \\xi_{p} \\xi_{q} \\xi_{r} v_{i} v_{q} v_{r}}{2} + \\frac{\\E_{4} \\xi_{q}^{3} v_{i} v_{q}^{3}}{6} + \\frac{\\ddot{\\E}_2 \\lambda_{p}^{2} \\xi_{p}^{2} \\xi_{q} v_{i} v_{q}}{2} + \\dot{\\E}_2 \\lambda_{p}^{2} \\xi_{l} \\xi_{p}^{2} v_{i} w_{l\\lambda} + \\frac{\\dot{\\E}_2 \\lambda_{p} \\xi_{j} \\xi_{k} \\xi_{p} v_{i} w_{jk}}{2} + \\frac{\\dot{\\E}_2 \\lambda_{mn} \\xi_{m} \\xi_{n} \\xi_{q} v_{i} v_{q}}{2} - \\frac{\\dot{\\E}_3 \\dot{u}_0 \\lambda_{p}^{2} \\xi_{p}^{2} \\xi_{q} v_{i} v_{q}}{2} + \\frac{\\dot{\\E}_3 \\dot{u}_0 \\lambda_{p}^{2} \\xi_{p}^{2} \\xi_{r} v_{i} v_{r}}{2} + \\frac{\\dot{\\E}_3 \\lambda_{p} \\xi_{p} \\xi_{q} \\xi_{r} v_{i} v_{q} v_{r}}{2}$"
      ],
      "text/plain": [
       "-\\E_3*\\ddot{u}_0*\\lambda_p**2*\\xi_p**2*\\xi_q*v_i*v_q/4 + \\E_3*\\ddot{u}_0*\\lambda_p**2*\\xi_p**2*\\xi_r*v_i*v_r/4 + \\E_3*\\dot{u}_0*\\lambda_p**2*\\xi_d*\\xi_p**2*v_i*w_{d\\lambda}/2 - \\E_3*\\dot{u}_0*\\lambda_p**2*\\xi_l*\\xi_p**2*v_i*w_{l\\lambda}/2 + \\E_3*\\dot{u}_0*\\lambda_p*\\xi_b*\\xi_c*\\xi_p*v_i*w_{bc}/4 - \\E_3*\\dot{u}_0*\\lambda_p*\\xi_j*\\xi_k*\\xi_p*v_i*w_{jk}/4 - \\E_3*\\dot{u}_0*\\lambda_{mn}*\\xi_m*\\xi_n*\\xi_q*v_i*v_q/4 + \\E_3*\\dot{u}_0*\\lambda_{mn}*\\xi_m*\\xi_n*\\xi_r*v_i*v_r/4 + \\E_3*\\lambda_p*\\xi_d*\\xi_p*\\xi_q*v_i*v_q*w_{d\\lambda}/2 + \\E_3*\\lambda_p*\\xi_l*\\xi_p*\\xi_r*v_i*v_r*w_{l\\lambda}/2 + \\E_3*\\xi_b*\\xi_c*\\xi_q*v_i*v_q*w_{bc}/4 + \\E_3*\\xi_j*\\xi_k*\\xi_r*v_i*v_r*w_{jk}/4 + \\E_4*\\dot{u}_0**2*\\lambda_p**2*\\xi_p**2*\\xi_q*v_i*v_q/2 - \\E_4*\\dot{u}_0**2*\\lambda_p**2*\\xi_p**2*\\xi_r*v_i*v_r/2 + \\E_4*\\dot{u}_0*\\lambda_p*\\xi_p*\\xi_q**2*v_i*v_q**2/2 - \\E_4*\\dot{u}_0*\\lambda_p*\\xi_p*\\xi_q*\\xi_r*v_i*v_q*v_r/2 + \\E_4*\\xi_q**3*v_i*v_q**3/6 + \\ddot{\\E}_2*\\lambda_p**2*\\xi_p**2*\\xi_q*v_i*v_q/2 + \\dot{\\E}_2*\\lambda_p**2*\\xi_l*\\xi_p**2*v_i*w_{l\\lambda} + \\dot{\\E}_2*\\lambda_p*\\xi_j*\\xi_k*\\xi_p*v_i*w_{jk}/2 + \\dot{\\E}_2*\\lambda_{mn}*\\xi_m*\\xi_n*\\xi_q*v_i*v_q/2 - \\dot{\\E}_3*\\dot{u}_0*\\lambda_p**2*\\xi_p**2*\\xi_q*v_i*v_q/2 + \\dot{\\E}_3*\\dot{u}_0*\\lambda_p**2*\\xi_p**2*\\xi_r*v_i*v_r/2 + \\dot{\\E}_3*\\lambda_p*\\xi_p*\\xi_q*\\xi_r*v_i*v_q*v_r/2"
      ]
     },
     "execution_count": 25,
     "metadata": {},
     "output_type": "execute_result"
    }
   ],
   "source": [
    "lhs = res_v.coeff(t, 3)\n",
    "lhs = lhs.subs(E2 * v_i, 0)\n",
    "\n",
    "lhs"
   ]
  },
  {
   "cell_type": "markdown",
   "id": "c33ac351-8daa-4221-a535-e6b0c361e0f7",
   "metadata": {},
   "source": [
    "The above bifurcation equations should be understood as Eqs. (@eq-20230115101130) and (@eq-20230115101147) below. Note that these equations are in fact *asymptotic expansions*. As such, they should hold for all $\\xi_1, \\ldots, \\xi_m$ sufficiently small. Since both equations are homogeneous in $\\xi_1, \\ldots, \\xi_m$, it is equivalent to require these to hold for all $\\xi_1, \\ldots, \\xi_m \\in \\reals$. "
   ]
  },
  {
   "cell_type": "markdown",
   "id": "da6d21ef-9075-4d71-b05f-bad287d53fc7",
   "metadata": {},
   "source": [
    "## Summary"
   ]
  },
  {
   "cell_type": "markdown",
   "id": "a06d3752-5216-424e-81a2-8fd09a725957",
   "metadata": {},
   "source": [
    "The bifurcated equilibrium branch is postulated as follows (Lyapunov–Schmidt decomposition)\n",
    "$$\n",
    "u = u^\\ast(\\lambda) + \\xi_i \\, v_i + w, \\quad \\text{with} \\quad w \\in W.\n",
    "$$\n",
    "whith $w = w(\\xi_1, \\ldots, \\xi_m, \\lambda) \\in W$ and $\\lambda = \\lambda(\\xi_1, \\ldots, \\xi_m)$.\n",
    "\n",
    "The Taylor expansion of $w$ reduces to\n",
    "$$\n",
    "w(\\xi_1, \\ldots, \\xi_m, \\lambda) = \\tfrac{1}{2} \\xi_i \\, \\xi_j \\, w_{ij} + \\xi_i \\, \\bigl( \\lambda - \\lambda_0 \\bigr) w_{i\\lambda} + \\cdots,\n",
    "$$\n",
    "where $w_{ij}$ and $w_{i\\lambda}$ are the solutions to the variational problems (@eq-20230107180410) and (@eq-20230107180501) introduced in @sec-20230402152824.\n",
    "\n",
    "Similarly, the Taylor expansion of $\\lambda$ reads\n",
    "$$\n",
    "\\lambda(\\xi_1, \\ldots, \\xi_m) = \\xi_i \\, \\lambda_i + \\tfrac{1}{2} \\, \\xi_i \\, \\xi_j \\, \\lambda_{ij} + \\cdots,\n",
    "$$\n",
    "where $\\lambda_i$ and $\\lambda_{ij}$ are scalar coefficients that solve the following bifurcation equations\n",
    "$$\n",
    "\\xi_j \\, \\xi_k \\, \\bigl[\n",
    "\\tfrac{1}{2} \\E_3(v_j, v_k, \\hat{v})\n",
    "+ \\lambda_k \\, \\dot{\\E}_2(v_j, \\hat{v})\n",
    "\\bigr] = 0\n",
    "$$ {#eq-20230115101130}\n",
    "and\n",
    "$$\n",
    "\\begin{aligned}[b]\n",
    "\\xi_j \\, \\xi_k \\, \\xi_l \\, \\bigl[\n",
    "\\tfrac{1}{2} \\E_3(v_j, w_{kl}, \\hat{v})\n",
    "+ \\lambda_l \\, \\E_3(v_j, w_{k\\lambda}, \\hat{v})\n",
    "+ \\tfrac{1}{6} \\E_4(v_j, v_k, v_l, \\hat{v}) &\\\\\n",
    "+ \\tfrac{1}{2} \\lambda_l \\, \\dot{\\E}_2(w_{jk}, \\hat{v})\n",
    "+ \\lambda_k \\, \\lambda_l \\, \\dot{\\E}_2(w_{j\\lambda}, \\hat{v})\n",
    "+ \\tfrac{1}{2} \\lambda_{kl} \\, \\dot{\\E}_2(v_j, \\hat{v}) &\\\\\n",
    "+ \\tfrac{1}{2} \\lambda_l \\, \\dot{\\E}_3(v_j, v_k, \\hat{v})\n",
    "+ \\tfrac{1}{2} \\lambda_k \\, \\lambda_l \\, \\ddot{\\E}_2(v_j, \\hat{v})\n",
    "\\bigr] &= 0,\n",
    "\\end{aligned}\n",
    "$$ {#eq-20230115101147}\n",
    "for all $\\xi_1, \\ldots, \\xi_m \\in \\reals$."
   ]
  }
 ],
 "metadata": {
  "kernelspec": {
   "display_name": "Python 3 (ipykernel)",
   "language": "python",
   "name": "python3"
  },
  "language_info": {
   "codemirror_mode": {
    "name": "ipython",
    "version": 3
   },
   "file_extension": ".py",
   "mimetype": "text/x-python",
   "name": "python",
   "nbconvert_exporter": "python",
   "pygments_lexer": "ipython3",
   "version": "3.9.16"
  },
  "toc-autonumbering": false,
  "toc-showtags": false
 },
 "nbformat": 4,
 "nbformat_minor": 5
}
