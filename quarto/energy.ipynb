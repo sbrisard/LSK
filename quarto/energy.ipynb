{
 "cells": [
  {
   "cell_type": "markdown",
   "id": "8a04f073-c617-45bf-a085-81b6e47b8cac",
   "metadata": {},
   "source": [
    "# Asymptotic expansion of the energy and its hessian {#sec-20230523130742}"
   ]
  },
  {
   "cell_type": "raw",
   "id": "dadb16d3-0cce-41b9-89ac-833d9b821b50",
   "metadata": {},
   "source": [
    "::: {.content-hidden}"
   ]
  },
  {
   "cell_type": "markdown",
   "id": "b624a84a-498f-462c-a7a7-7fc41e6834ee",
   "metadata": {},
   "source": [
    "This notebook uses $\\LaTeX\\newcommand{\\D}{\\mathrm{d}}\\newcommand{\\E}{\\mathcal{E}}\\newcommand{\\order}[2][1]{#2^{(#1)}}\\newcommand{\\reals}{\\mathbb{R}}$ custom macros."
   ]
  },
  {
   "cell_type": "raw",
   "id": "37ed25ec-f2f1-4b55-be37-c8f5f858ac2f",
   "metadata": {},
   "source": [
    ":::"
   ]
  },
  {
   "cell_type": "markdown",
   "id": "ce1383c9-0bcb-436f-91c9-1c40cbd2e8ac",
   "metadata": {},
   "source": [
    "The present chapter is organized as follows. In @sec-20230624093831, we derive the following asymptotic expansion of the energy along the bifurcated branch"
   ]
  },
  {
   "cell_type": "markdown",
   "id": "840ad710-64db-4d9f-a434-0fedb74194b1",
   "metadata": {},
   "source": [
    "$$\n",
    "\\begin{aligned}[b]\n",
    "\\E[u(\\eta), \\lambda(\\eta)] ={}& \\E[u^\\ast \\circ \\lambda(\\eta), \\lambda(\\eta)]\n",
    "+ \\tfrac{1}{6} \\eta^3 \\, \\order[1]{\\lambda} \\, \\order[1]{\\xi}_i \\, \\order[1]{\\xi}_j \\, \\dot{E}_{ij}\\\\\n",
    "&+ \\tfrac{1}{24} \\eta^4 \\, \\bigl\\{ E_{ijkl} \\, \\order[1]{\\xi}_i \\, \\order[1]{\\xi}_j \\, \\order[1]{\\xi}_k \\, \\order[1]{\\xi}_l + 4\\order[1]{\\lambda} \\, \\dot{E}_{ijk} \\, \\order[1]{\\xi}_i \\, \\order[1]{\\xi}_j \\, \\order[1]{\\xi}_k\\\\\n",
    "&+ 6 \\bigl[ \\bigl( \\order[1]{\\lambda} \\bigr)^2 \\, \\ddot{E}_{ij} + \\order[2]{\\lambda} \\, \\dot{E}_{ij} \\bigr] \\, \\order[1]{\\xi}_i \\, \\order[1]{\\xi}_j \\bigr\\} + o(\\eta^4).\n",
    "\\end{aligned}\n",
    "$$ {#eq-20230528190539}"
   ]
  },
  {
   "cell_type": "markdown",
   "id": "6d1ca480-a2d0-4e09-abcc-f0419f6b5fc1",
   "metadata": {},
   "source": [
    "Then, in @sec-20230624093943, we derive the asymptotic expansion of the hessian of the energy along the bifurcated branch"
   ]
  },
  {
   "cell_type": "markdown",
   "id": "087377f5-aa32-4fd5-8049-522c5bbdd64d",
   "metadata": {},
   "source": [
    "$$\n",
    "\\begin{aligned}[b]\n",
    "\\E_{,uu}[u(\\eta), \\lambda(\\eta); \\bullet, \\bullet] ={} \n",
    "& \\E_2(\\bullet, \\bullet) + \\eta \\, \\bigl[ \\E_3(\\order[1]{u}, \\bullet, \\bullet) + \\order[1]{\\lambda} \\, \\dot{\\E}_2(\\bullet, \\bullet) \\bigr]\\\\\n",
    "&+ \\tfrac{1}{2}\\eta^2 \\, \\bigl[ \\E_4(\\order[1]{u}, \\order[1]{u}, \\bullet, \\bullet)\n",
    "+ \\E_3(\\order[2]{u}, \\bullet, \\bullet) \\\\\n",
    "&+ 2\\order[1]{\\lambda} \\, \\dot{\\E}_3(\\order[1]{u}, \\bullet, \\bullet)\n",
    "+ (\\order[1]{\\lambda})^2 \\, \\ddot{\\E}_2(\\bullet, \\bullet) + \\order[2]{\\lambda} \\, \\dot{\\E}_2(\\bullet, \\bullet)\\bigr].\n",
    "\\end{aligned}\n",
    "$$ {#eq-20230517061452}"
   ]
  },
  {
   "cell_type": "code",
   "execution_count": 1,
   "id": "db2575b5-31a5-4aff-b879-69f26e037041",
   "metadata": {
    "tags": []
   },
   "outputs": [],
   "source": [
    "from sympy import *\n",
    "from lsk.display import *\n",
    "from lsk.energy import *\n",
    "from lsk.symbols import *"
   ]
  },
  {
   "cell_type": "markdown",
   "id": "46d35dc9-e7ee-4744-a2ad-f1b2a93a8dac",
   "metadata": {},
   "source": [
    "As in @sec-20230102153124, $\\lambda$ and $u^\\star$ are defined as asymptotic expansions of the powers of $\\eta$."
   ]
  },
  {
   "cell_type": "code",
   "execution_count": 2,
   "id": "3538c374-3dca-455d-91be-12d31cde52e2",
   "metadata": {
    "tags": []
   },
   "outputs": [],
   "source": [
    "λ = η * λ1 + η**2 / 2 * λ2 + η**3 / 6 * λ3 + η**4 / 24 * λ4 + O(η**5)\n",
    "u_star = create_u_star(λ)"
   ]
  },
  {
   "cell_type": "code",
   "execution_count": 3,
   "id": "7339ba7f-cb40-4cfe-b9eb-b58371fba67d",
   "metadata": {
    "tags": []
   },
   "outputs": [
    {
     "data": {
      "text/latex": [
       "$\\displaystyle \\lambda(\\eta)=\\eta {\\order[1]{\\lambda}} + \\frac{\\eta^{2} {\\order[2]{\\lambda}}}{2} + \\frac{\\eta^{3} {\\order[3]{\\lambda}}}{6} + \\frac{\\eta^{4} {\\order[4]{\\lambda}}}{24} + O\\left(\\eta^{5}\\right)$"
      ],
      "text/plain": [
       "<IPython.core.display.Math object>"
      ]
     },
     "metadata": {},
     "output_type": "display_data"
    },
    {
     "data": {
      "text/latex": [
       "$\\displaystyle u^\\star(\\eta)=\\dot{u}_0 \\eta {\\order[1]{\\lambda}} + \\frac{\\dot{u}_0 \\eta^{2} {\\order[2]{\\lambda}}}{2} + \\frac{\\dot{u}_0 \\eta^{3} {\\order[3]{\\lambda}}}{6} + \\frac{\\dot{u}_0 \\eta^{4} {\\order[4]{\\lambda}}}{24} + \\frac{\\ddot{u}_0 \\eta^{2} {\\order[1]{\\lambda}}^{2}}{2} + \\frac{\\ddot{u}_0 \\eta^{3} {\\order[1]{\\lambda}} {\\order[2]{\\lambda}}}{2} + \\frac{\\ddot{u}_0 \\eta^{4} {\\order[2]{\\lambda}}^{2}}{8} + \\frac{\\ddot{u}_0 \\eta^{4} {\\order[1]{\\lambda}} {\\order[3]{\\lambda}}}{6} + \\frac{\\dddot{u}_0 \\eta^{3} {\\order[1]{\\lambda}}^{3}}{6} + \\frac{\\dddot{u}_0 \\eta^{4} {\\order[1]{\\lambda}}^{2} {\\order[2]{\\lambda}}}{4} + \\frac{\\ddddot{u}_0 \\eta^{4} {\\order[1]{\\lambda}}^{4}}{24} + O\\left(\\eta^{5}\\right)$"
      ],
      "text/plain": [
       "<IPython.core.display.Math object>"
      ]
     },
     "metadata": {},
     "output_type": "display_data"
    }
   ],
   "source": [
    "#| code-fold: true\n",
    "display_latex_equation(r\"\\lambda(\\eta)\", λ)\n",
    "display_latex_equation(r\"u^\\star(\\eta)\", u_star)"
   ]
  },
  {
   "cell_type": "markdown",
   "id": "c3dee1be-b1cb-482d-8848-65ca70388ec9",
   "metadata": {},
   "source": [
    "The bifurcated branch $u(\\eta)$ is also expanded. Moreover, the second-order term, $\\order[2]{u}$ is expressed as the orthogonal decomposition"
   ]
  },
  {
   "cell_type": "markdown",
   "id": "c6fc87ed-169b-4f57-83a0-50a012145c3e",
   "metadata": {},
   "source": [
    "$$\n",
    "\\order[2]{u} = \\order[2]{u}_V + \\order[2]{u}_W,\n",
    "\\quad \\text{with} \\quad\n",
    "\\order[2]{u}_V \\in V\n",
    "\\quad \\text{and} \\quad\n",
    "\\order[2]{u}_W \\in W.\n",
    "$$"
   ]
  },
  {
   "cell_type": "markdown",
   "id": "add3e93e-d085-458c-b971-d2b29b692aaa",
   "metadata": {},
   "source": [
    "It was in fact shown in @sec-20230102153124 that"
   ]
  },
  {
   "cell_type": "markdown",
   "id": "53c1c5c5-5e77-4af5-95cb-d06f31273c87",
   "metadata": {},
   "source": [
    "$$\n",
    "\\order[2]{u}_W \n",
    "= \\order[1]{\\xi}_i \\, \\order[1]{\\xi}_j \\, w_{ij}\n",
    "+ 2 \\order[1]{\\lambda} \\, \\order[1]{\\xi}_i \\, w_i,\n",
    "$$"
   ]
  },
  {
   "cell_type": "markdown",
   "id": "d3e9c6b5-b3b1-4fda-9f9a-a126ef6997d4",
   "metadata": {},
   "source": [
    "while $\\order[2]{u}_V$ is expanded as follows:"
   ]
  },
  {
   "cell_type": "markdown",
   "id": "9151fe5b-bf0f-4451-b963-b2d81df9822c",
   "metadata": {},
   "source": [
    "$$\n",
    "\\order[2]{u}_V = \\order[2]{\\xi}_i \\, v_i.\n",
    "$$"
   ]
  },
  {
   "cell_type": "code",
   "execution_count": 4,
   "id": "9b7ef848-8a09-43dc-9dd3-3b05fd1d951c",
   "metadata": {
    "tags": []
   },
   "outputs": [],
   "source": [
    "u = expand(u_star + η * u1 + η**2 / 2 * (u2_V + u2_W) + η**3 / 6 * u3 + η**4 / 24 * u4)"
   ]
  },
  {
   "cell_type": "code",
   "execution_count": 5,
   "id": "92ddfd3a-672b-4216-b70d-d7d9625bb09f",
   "metadata": {
    "tags": []
   },
   "outputs": [
    {
     "data": {
      "text/latex": [
       "$\\displaystyle u(\\eta)=\\eta {\\order[1]{u}} + \\frac{\\eta^{2} {\\order[2]{u}_W}}{2} + \\frac{\\eta^{2} {\\order[2]{u}_V}}{2} + \\frac{\\eta^{3} {\\order[3]{u}}}{6} + \\frac{\\eta^{4} {\\order[4]{u}}}{24} + \\dot{u}_0 \\eta {\\order[1]{\\lambda}} + \\frac{\\dot{u}_0 \\eta^{2} {\\order[2]{\\lambda}}}{2} + \\frac{\\dot{u}_0 \\eta^{3} {\\order[3]{\\lambda}}}{6} + \\frac{\\dot{u}_0 \\eta^{4} {\\order[4]{\\lambda}}}{24} + \\frac{\\ddot{u}_0 \\eta^{2} {\\order[1]{\\lambda}}^{2}}{2} + \\frac{\\ddot{u}_0 \\eta^{3} {\\order[1]{\\lambda}} {\\order[2]{\\lambda}}}{2} + \\frac{\\ddot{u}_0 \\eta^{4} {\\order[2]{\\lambda}}^{2}}{8} + \\frac{\\ddot{u}_0 \\eta^{4} {\\order[1]{\\lambda}} {\\order[3]{\\lambda}}}{6} + \\frac{\\dddot{u}_0 \\eta^{3} {\\order[1]{\\lambda}}^{3}}{6} + \\frac{\\dddot{u}_0 \\eta^{4} {\\order[1]{\\lambda}}^{2} {\\order[2]{\\lambda}}}{4} + \\frac{\\ddddot{u}_0 \\eta^{4} {\\order[1]{\\lambda}}^{4}}{24} + O\\left(\\eta^{5}\\right)$"
      ],
      "text/plain": [
       "<IPython.core.display.Math object>"
      ]
     },
     "metadata": {},
     "output_type": "display_data"
    }
   ],
   "source": [
    "#| code-fold: true\n",
    "display_latex_equation(r\"u(\\eta)\", u)"
   ]
  },
  {
   "cell_type": "markdown",
   "id": "c10be262-87ba-40ac-9009-6365f53c9264",
   "metadata": {},
   "source": [
    "## Asymptotic expansion of the energy {#sec-20230624093831}"
   ]
  },
  {
   "cell_type": "markdown",
   "id": "8377d300-5929-44cd-b472-2b762d1566c3",
   "metadata": {},
   "source": [
    "We expand the following quantity at the critical point"
   ]
  },
  {
   "cell_type": "markdown",
   "id": "0cb3ae4c-92f6-4553-8f9d-ee3287dbee1f",
   "metadata": {},
   "source": [
    "$$\n",
    "\\Delta\\E(\\eta) = \\E[u(\\eta), \\lambda(\\eta)] - \\E[u^\\ast \\circ \\lambda(\\eta), \\lambda(\\eta)],\n",
    "$$"
   ]
  },
  {
   "cell_type": "markdown",
   "id": "9fe45c3f-91ef-419b-bd44-96dd6353e45c",
   "metadata": {},
   "source": [
    "where $\\eta$ is the parametrization of the bifurcated branch introduced in @sec-20230102153124 ($\\eta = 0$ at the critical point)."
   ]
  },
  {
   "cell_type": "markdown",
   "id": "cccf271e-1f64-44a8-9c9c-f01bc3d44e0e",
   "metadata": {},
   "source": [
    "The asymptotic expansion of $\\Delta\\E$ results from plugging the expansions of $\\lambda(\\eta)$ and $u(\\eta)$ defined above into the general expression of the energy that was derived in @sec-20230402140105."
   ]
  },
  {
   "cell_type": "markdown",
   "id": "025e7664-b949-44b9-ad27-8092d6d56003",
   "metadata": {},
   "source": [
    "We then use these expansions to evaluate the energy along the **fundamental** and **bifurcated** branches, as well as the difference $\\Delta\\E$ of these two quantities. The resulting expressions are too long to be displayed. We first apply some elementary simplifications."
   ]
  },
  {
   "cell_type": "code",
   "execution_count": 6,
   "id": "6eb83509-ccbe-4b36-847e-eb779b747a8a",
   "metadata": {
    "tags": []
   },
   "outputs": [],
   "source": [
    "ΔE = (create_E(u, λ) - create_E(u_star, λ)).expand().subs({\n",
    "    E2 * u1 : 0,\n",
    "    E2 * u2_V : 0\n",
    "})"
   ]
  },
  {
   "cell_type": "code",
   "execution_count": 7,
   "id": "001997f6-1067-42d4-bf9d-504c876cdbc1",
   "metadata": {
    "tags": []
   },
   "outputs": [],
   "source": [
    "assert ΔE.coeff(η, 0) == 0\n",
    "assert ΔE.coeff(η, 1) == 0\n",
    "assert ΔE.coeff(η, 2) == 0"
   ]
  },
  {
   "cell_type": "markdown",
   "id": "00dad22e-a6a4-46b0-b56a-adbe88af319d",
   "metadata": {},
   "source": [
    "Simplification of the third- and fourth- order terms is performed below, first observing that, for all $v \\in V$"
   ]
  },
  {
   "cell_type": "markdown",
   "id": "f121d266-f726-4d2b-baa2-5335ebba6044",
   "metadata": {},
   "source": [
    "$$\n",
    "\\E_3(\\order[1]{u}, \\order[1]{u}, v)\n",
    "= -2\\order[1]{\\lambda} \\, \\dot{\\E}_2(\\order[1]{u}, v).\n",
    "$$ {#eq-20230624180403}"
   ]
  },
  {
   "cell_type": "raw",
   "id": "5cc2db87-71a5-408d-8082-721f0ba744dd",
   "metadata": {},
   "source": [
    "::: {.callout-tip collapse=\"true\"}"
   ]
  },
  {
   "cell_type": "markdown",
   "id": "fb79cf86-7393-4b54-996c-2003cb486694",
   "metadata": {},
   "source": [
    "## Proof"
   ]
  },
  {
   "cell_type": "markdown",
   "id": "1f606b7e-3227-4d77-9721-cc5ac81ad36a",
   "metadata": {},
   "source": [
    "Let $v = \\xi_i \\, v_i \\in V$\n",
    "$$\n",
    "\\begin{aligned}\n",
    "\\E_3(\\order[1]{u}, \\order[1]{u}, v)\n",
    "&= \\xi_i \\, \\order[1]{\\xi}_j \\, \\order[1]{\\xi}_k \\, \\E_3(v_i, v_j, v_k)\n",
    "=  E_{ijk} \\, \\xi_i \\, \\order[1]{\\xi}_j \\, \\order[1]{\\xi}_k\\\\\n",
    "&= -2\\order[1]{\\lambda} \\, \\dot{E}_{ij} \\, \\xi_i \\, \\order[1]{\\xi}_j\n",
    "= -2\\order[1]{\\lambda} \\, \\dot{\\E}_2(\\order[1]{u}, v),\n",
    "\\end{aligned}\n",
    "$$"
   ]
  },
  {
   "cell_type": "markdown",
   "id": "5ae2df54-cd77-4317-97b8-8ec134f2be49",
   "metadata": {},
   "source": [
    "where we have used the definitions (@eq-20230125062505) and (@eq-20230125062510) of $\\dot{E}_{ij}$ and $E_{ijk}$ and the first bifurcation equation (@eq-20230125062336)."
   ]
  },
  {
   "cell_type": "raw",
   "id": "f9347779-8710-4ff1-8fc6-527805485ff9",
   "metadata": {},
   "source": [
    ":::"
   ]
  },
  {
   "cell_type": "raw",
   "id": "57b3851e-4c43-403f-9816-630eb98e7028",
   "metadata": {},
   "source": [
    "::: {.callout-note}"
   ]
  },
  {
   "cell_type": "markdown",
   "id": "adc813f0-cd1b-40c6-afd5-da44e9093b17",
   "metadata": {},
   "source": [
    "Note that the first bifurcation equation was used to prove Eq. (@eq-20230624180403)."
   ]
  },
  {
   "cell_type": "raw",
   "id": "4a25a80d-fc99-4f2a-8e1d-bcf9d4929a67",
   "metadata": {},
   "source": [
    ":::"
   ]
  },
  {
   "cell_type": "code",
   "execution_count": 8,
   "id": "d816b208-3a67-483b-b0a2-9c20090b19a9",
   "metadata": {
    "tags": []
   },
   "outputs": [],
   "source": [
    "d = {\n",
    "    E3 * u1 * u1 * u1 : -2 * λ1 * E2_dot * u1 * u1,\n",
    "    E3 * u1 * u1 * u2_V : -2 * λ1 * E2_dot * u1 * u2_V,\n",
    "}\n",
    "\n",
    "ΔE = ΔE.subs(d).expand()"
   ]
  },
  {
   "cell_type": "markdown",
   "id": "af9e9363-ae0f-4854-b91f-304881163322",
   "metadata": {},
   "source": [
    "The subsequent simplifications rely heavily on definitions (@eq-20230107180410) and (@eq-20230107180501) of $w_{ij}$ and $w_{i}$, definitions (@eq-20230125062505), (@eq-20230124211207), (@eq-20230125062510), (@eq-20230124210649) and (@eq-20230124210049) of $\\dot{E}_{ij}$, $\\ddot{E}_{ij}$, $E_{ijk}$, $\\dot{E}_{ijk}$ and $E_{ijkl}$. Finally, expressions (@eq-20230411141319) of $\\order[1]{u}$ and $\\order[2]{u}$ are used."
   ]
  },
  {
   "cell_type": "markdown",
   "id": "59dcd98a-3682-488b-96e0-4b9d5e3ebaca",
   "metadata": {},
   "source": [
    "$$\n",
    "\\begin{aligned}[b]\n",
    "\\E_2(\\order[2]{u}_W, \\order[2]{u}_W)\n",
    "={}& \\order[1]{\\xi}_i \\, \\order[1]{\\xi}_j \\, \\order[1]{\\xi}_k \\, \\order[1]{\\xi}_l \\, \\E_2(w_{ij}, w_{kl})\n",
    "+ 4 \\, \\order[1]{\\lambda} \\, \\order[1]{\\xi}_i \\, \\order[1]{\\xi}_j \\, \\order[1]{\\xi}_k \\, \\E_2(w_{ij}, w_{k})\\\\\n",
    "&+ 4 \\bigl( \\order[1]{\\lambda} \\bigr)^2 \\, \\order[1]{\\xi}_i \\, \\order[1]{\\xi}_j \\, \\E_2(w_{i}, w_{j})\\\\\n",
    "={}& \\tfrac{1}{3} \\, \\bigl[ \\E_4(\\order[1]{u}, \\order[1]{u}, \\order[1]{u}, \\order[1]{u})\n",
    "- E_{ijkl} \\, \\order[1]{\\xi}_i \\, \\order[1]{\\xi}_j \\, \\order[1]{\\xi}_k \\, \\order[1]{\\xi}_l \\bigr]\\\\\n",
    "&+ \\tfrac{4}{3} \\order[1]{\\lambda} \\, \\bigl[ \\dot{\\E}_3(\\order[1]{u}, \\order[1]{u}, \\order[1]{u})\n",
    "- \\dot{E}_{ijk} \\, \\order[1]{\\xi}_i \\, \\order[1]{\\xi}_j \\, \\order[1]{\\xi}_k \\bigr]\\\\\n",
    "&+ 2 \\bigl( \\order[1]{\\lambda} \\bigr)^2 \\, \\bigl[ \\ddot{\\E}_2(\\order[1]{u}, \\order[1]{u})\n",
    " - \\ddot{E}_{ij} \\, \\order[1]{\\xi}_i \\, \\order[1]{\\xi}_j \\bigr]\n",
    "\\end{aligned}\n",
    "$$ {#eq-20230619212620}"
   ]
  },
  {
   "cell_type": "code",
   "execution_count": 9,
   "id": "c847e84b-3647-43a6-b0aa-9d47a1be37dd",
   "metadata": {
    "tags": []
   },
   "outputs": [],
   "source": [
    "expr = ((E4 * u1 * u1 * u1 * u1\n",
    "         - E[i, j, k, l] * ξ1[i] * ξ1[j] * ξ1[k] * ξ1[l]) / 3\n",
    "        + 4 * λ1 / 3 * (E3_dot * u1 * u1 * u1\n",
    "                        - E_dot[i, j, k] * ξ1[i] * ξ1[j] * ξ1[k])\n",
    "        + 2 * λ1**2 * (E2_ddot * u1 * u1\n",
    "                       - E_ddot[i, j] * ξ1[i] * ξ1[j]))\n",
    "\n",
    "ΔE = ΔE.subs(E2 * u2_W * u2_W, expr).expand()"
   ]
  },
  {
   "cell_type": "markdown",
   "id": "09ddb874-34ed-4bba-ae91-db9f4b6fcd2c",
   "metadata": {},
   "source": [
    "$$\n",
    "\\begin{aligned}[b]\n",
    "\\dot{\\E}_2(\\order[1]{u}, \\order[2]{u}_W)\n",
    "={}& \\tfrac{1}{3} \\bigl[ \\dot{E}_{ijk} \\, \\order[1]{\\xi}_i \\, \\order[1]{\\xi}_j \\, \\order[1]{\\xi}_k - \\dot{\\E}_3(\\order[1]{u}, \\order[1]{u}, \\order[1]{u}) \\bigr]\\\\\n",
    "&+ \\order[1]{\\lambda} \\, \\bigl[\\ddot{E}_{ij} \\, \\order[1]{\\xi}_i \\, \\order[1]{\\xi}_j - \\ddot{\\E}_2(\\order[1]{u}, \\order[1]{u}) \\bigr]\n",
    "\\end{aligned}\n",
    "$$"
   ]
  },
  {
   "cell_type": "raw",
   "id": "64992f7a-43df-442e-b1e7-c9a6398fe44f",
   "metadata": {},
   "source": [
    "::: {.callout-tip collapse=\"true\"}"
   ]
  },
  {
   "cell_type": "markdown",
   "id": "703a51a6-ac76-4a8c-9692-2980fcf00b29",
   "metadata": {},
   "source": [
    "## Proof"
   ]
  },
  {
   "cell_type": "markdown",
   "id": "6d7003bb-820e-4b55-938f-7d7f1f754198",
   "metadata": {},
   "source": [
    "$$\n",
    "\\begin{aligned}[b]\n",
    "\\dot{\\E}_2(\\order[1]{u}, \\order[2]{u}_W)\n",
    "={}& \\order[1]{\\xi}_i \\, \\order[1]{\\xi}_j \\, \\order[1]{\\xi}_k \\, \\dot{\\E}_2(v_i, w_{jk}) + 2\\order[1]{\\lambda} \\, \\order[1]{\\xi}_i \\, \\order[1]{\\xi}_j \\, \\dot{\\E}_2(v_i, w_{j\\lambda})\\\\\n",
    "={}& \\tfrac{1}{3} \\order[1]{\\xi}_i \\, \\order[1]{\\xi}_j \\, \\order[1]{\\xi}_k \\, \\bigl[ \\dot{\\E}_2(v_i, w_{jk}) + \\dot{\\E}_2(v_j, w_{ik}) + \\dot{\\E}_2(v_k, w_{ij})\\bigr]\\\\\n",
    "& + \\order[1]{\\lambda} \\, \\order[1]{\\xi}_i \\, \\order[1]{\\xi}_j \\, \\bigl[ \\dot{\\E}_2(v_i, w_{j\\lambda}) + \\dot{\\E}_2(v_j, w_{i\\lambda}) \\bigr]\\\\\n",
    "={}& \\tfrac{1}{3} \\order[1]{\\xi}_i \\, \\order[1]{\\xi}_j \\, \\order[1]{\\xi}_k \\, \\bigl[ \\dot{E}_{ijk} - \\dot{\\E}_3(v_i, v_j, v_k) \\bigr]\\\\\n",
    "&+ \\order[1]{\\lambda} \\, \\order[1]{\\xi}_i \\, \\order[1]{\\xi}_j \\, \\bigl[\\ddot{E}_{ij} - \\ddot{\\E}_2(v_i, v_j) \\bigr]\n",
    "\\end{aligned}\n",
    "$$"
   ]
  },
  {
   "cell_type": "raw",
   "id": "fac21426-2e70-4211-a323-35c06d0c5175",
   "metadata": {},
   "source": [
    ":::"
   ]
  },
  {
   "cell_type": "code",
   "execution_count": 10,
   "id": "b1c5263d-a2c4-4a25-b78e-ad460812bc51",
   "metadata": {},
   "outputs": [],
   "source": [
    "expr = ((E_dot[i, j, k] * ξ1[i] * ξ1[j] * ξ1[k] \n",
    "         - E3_dot * u1 * u1 * u1) / 3\n",
    "        + λ1 * (E_ddot[i, j] * ξ1[i] * ξ1[j]\n",
    "                - E2_ddot * u1 * u1))\n",
    "\n",
    "ΔE = ΔE.subs(E2_dot * u1 * u2_W, expr).expand()"
   ]
  },
  {
   "cell_type": "markdown",
   "id": "e65c0622-9f3f-478e-977b-3bb722352197",
   "metadata": {},
   "source": [
    "$$\n",
    "\\begin{aligned}[b]\n",
    "\\E_3(\\order[1]{u}, \\order[1]{u}, \\order[2]{u}_W)\n",
    "={}& \\order[1]{\\xi}_i \\, \\order[1]{\\xi}_j \\, \\order[1]{\\xi}_k \\, \\order[1]{\\xi}_l \\, \\E_3(v_i, v_j, w_{kl}) + 2\\order[1]{\\lambda} \\, \\order[1]{\\xi}_i \\, \\order[1]{\\xi}_j \\, \\order[1]{\\xi}_k \\, \\E_3(v_i, v_j, w_{k\\lambda})\\\\\n",
    "={}& \\tfrac{1}{3} \\bigl[ E_{ijkl} \\, \\order[1]{\\xi}_i \\, \\order[1]{\\xi}_j \\, \\order[1]{\\xi}_k \\, \\order[1]{\\xi}_l - \\E_4(\\order[1]{u}, \\order[1]{u}, \\order[1]{u}, \\order[1]{u})\\bigr]\\\\\n",
    "& + \\tfrac{2}{3} \\order[1]{\\lambda} \\, \\bigl[ \\dot{E}_{ijk} \\, \\order[1]{\\xi}_i \\, \\order[1]{\\xi}_j \\, \\order[1]{\\xi}_k - \\dot{\\E}_3(\\order[1]{u}, \\order[1]{u}, \\order[1]{u}) \\bigr]\n",
    "\\end{aligned}\n",
    "$$"
   ]
  },
  {
   "cell_type": "code",
   "execution_count": 11,
   "id": "691d3680-4956-4012-9a44-00772723c0da",
   "metadata": {
    "tags": []
   },
   "outputs": [],
   "source": [
    "expr = ((E[i, j, k, l] * ξ1[i] * ξ1[j] * ξ1[k] * ξ1[l]\n",
    "         - E4 * u1 * u1 * u1 * u1) / 3\n",
    "        + 2 * λ1 / 3 * (E_dot[i, j, k] * ξ1[i] * ξ1[j] * ξ1[k] \n",
    "                        - E3_dot * u1 * u1 * u1))\n",
    "\n",
    "ΔE = ΔE.subs(E3 * u1 * u1 * u2_W, expr).expand()"
   ]
  },
  {
   "cell_type": "markdown",
   "id": "ccc8b762-e388-4bdf-a85b-1ec317033c51",
   "metadata": {},
   "source": [
    "The energy difference $\\Delta\\E$ is finally reordered as follows\n",
    "$$\n",
    "\\Delta\\E = \\tfrac{1}{6} \\eta^3 \\, \\Delta\\order[3]{\\E} + \\tfrac{1}{24} \\eta^4 \\, \\Delta\\order[4]{\\E},\n",
    "$$"
   ]
  },
  {
   "cell_type": "markdown",
   "id": "6ebf3930-6732-45ed-8565-7d37e6a888fb",
   "metadata": {},
   "source": [
    "with"
   ]
  },
  {
   "cell_type": "markdown",
   "id": "c6852ffd-0345-45ad-b557-5e4e3f156a1b",
   "metadata": {},
   "source": [
    "$$\n",
    "\\Delta\\order[3]{\\E} \n",
    "= \\order[1]{\\lambda} \\, \\dot{\\E}_2(\\order[1]{u}, \\order[1]{u})\n",
    "= \\order[1]{\\lambda} \\, \\dot{E}_{ij} \\, \\order[1]{\\xi}_i \\, \\order[1]{\\xi}_j\n",
    "$$"
   ]
  },
  {
   "cell_type": "markdown",
   "id": "ef0ade59-be95-470b-b462-1d83f144e2d4",
   "metadata": {},
   "source": [
    "and"
   ]
  },
  {
   "cell_type": "markdown",
   "id": "da9bc563-3e9f-4ea1-abf0-d2fd57ba06c8",
   "metadata": {},
   "source": [
    "$$\n",
    "\\begin{aligned}[b]\n",
    "\\order[4]{\\Delta\\E} ={} & E_{ijkl} \\, \\order[1]{\\xi}_i \\, \\order[1]{\\xi}_j \\, \\order[1]{\\xi}_k \\, \\order[1]{\\xi}_l + 4\\order[1]{\\lambda} \\, \\dot{E}_{ijk} \\, \\order[1]{\\xi}_i \\, \\order[1]{\\xi}_j \\, \\order[1]{\\xi}_k\\\\\n",
    "&+ 6 \\bigl[ \\bigl( \\order[1]{\\lambda} \\bigr)^2 \\, \\ddot{E}_{ij} + \\order[2]{\\lambda} \\, \\dot{E}_{ij} \\bigr] \\, \\order[1]{\\xi}_i \\, \\order[1]{\\xi}_j.\n",
    "\\end{aligned}\n",
    "$$ {#eq-20230402101651}"
   ]
  },
  {
   "cell_type": "markdown",
   "id": "8b8d7ca5-1cdd-446e-952d-05751b680af4",
   "metadata": {},
   "source": [
    "and the asymptotic expansion (@eq-20230528190539) is retrieved."
   ]
  },
  {
   "cell_type": "code",
   "execution_count": 12,
   "id": "1684d771-baca-418a-928d-6d50bc2d1e23",
   "metadata": {},
   "outputs": [],
   "source": [
    "ΔE3 = expand(6 * ΔE.coeff(η, 3))\n",
    "ΔE4 = expand(24 * ΔE.coeff(η, 4))"
   ]
  },
  {
   "cell_type": "code",
   "execution_count": 13,
   "id": "8924d0b6-4c08-4643-af30-dbb6623e3d62",
   "metadata": {},
   "outputs": [
    {
     "data": {
      "text/latex": [
       "$\\displaystyle \\order[3]{\\Delta\\E}=\\dot{\\E}_2 {\\order[1]{\\lambda}} {\\order[1]{u}}^{2}$"
      ],
      "text/plain": [
       "<IPython.core.display.Math object>"
      ]
     },
     "metadata": {},
     "output_type": "display_data"
    },
    {
     "data": {
      "text/latex": [
       "$\\displaystyle \\order[4]{\\Delta\\E}=6 \\dot{\\E}_2 {\\order[1]{u}}^{2} {\\order[2]{\\lambda}} + 6 {\\order[1]{\\lambda}}^{2} {\\ddot{E}}_{Idx\\left(i\\right),Idx\\left(j\\right)} {{\\order[1]{\\xi}}}_{Idx\\left(i\\right)} {{\\order[1]{\\xi}}}_{Idx\\left(j\\right)} + 4 {\\order[1]{\\lambda}} {\\dot{E}}_{Idx\\left(i\\right),Idx\\left(j\\right),Idx\\left(k\\right)} {{\\order[1]{\\xi}}}_{Idx\\left(i\\right)} {{\\order[1]{\\xi}}}_{Idx\\left(j\\right)} {{\\order[1]{\\xi}}}_{Idx\\left(k\\right)} + {E}_{Idx\\left(i\\right),Idx\\left(j\\right),Idx\\left(k\\right),Idx\\left(l\\right)} {{\\order[1]{\\xi}}}_{Idx\\left(i\\right)} {{\\order[1]{\\xi}}}_{Idx\\left(j\\right)} {{\\order[1]{\\xi}}}_{Idx\\left(k\\right)} {{\\order[1]{\\xi}}}_{Idx\\left(l\\right)}$"
      ],
      "text/plain": [
       "<IPython.core.display.Math object>"
      ]
     },
     "metadata": {},
     "output_type": "display_data"
    }
   ],
   "source": [
    "#| code-fold: true\n",
    "display_latex_equation(\"\\order[3]{\\Delta\\E}\", ΔE3)\n",
    "display_latex_equation(\"\\order[4]{\\Delta\\E}\", ΔE4)\n",
    "\n",
    "assert ΔE3 == λ1 * E2_dot * u1 * u1\n",
    "\n",
    "expected = (E[i, j, k, l] * ξ1[i] * ξ1[j] * ξ1[k] * ξ1[l]\n",
    "            + 4 * λ1 * E_dot[i, j, k] * ξ1[i] * ξ1[j] * ξ1[k]\n",
    "            + 6 * (λ1**2 * E_ddot[i, j] * ξ1[i] * ξ1[j]\n",
    "                   + λ2 * E2_dot * u1 * u1)).expand()\n",
    "\n",
    "assert ΔE4 == expected"
   ]
  },
  {
   "cell_type": "markdown",
   "id": "6c26933f-3da5-4b3c-9e41-9f6d077b19e0",
   "metadata": {},
   "source": [
    "## Asymptotic expansion of the hessian of the energy {#sec-20230624093943}"
   ]
  },
  {
   "cell_type": "markdown",
   "id": "8a4c237c-aa6e-451b-81b6-9d6866c15d2c",
   "metadata": {},
   "source": [
    "We now turn to the hessian of the energy, which is expanded to second order in $\\eta$"
   ]
  },
  {
   "cell_type": "markdown",
   "id": "5800e9dc-f2ae-4088-a471-3c94f85eb612",
   "metadata": {},
   "source": [
    "$$\n",
    "\\E_{, uu}[u(\\eta), \\lambda(\\eta)]\n",
    "= \\order[0]{\\mathcal{H}}\n",
    "+ \\eta \\, \\order[1]{\\mathcal{H}}\n",
    "+ \\tfrac{1}{2} \\eta^2 \\, \\order[2]{\\mathcal{H}}\n",
    "$$"
   ]
  },
  {
   "cell_type": "code",
   "execution_count": 14,
   "id": "618ca857-9973-49c2-aa67-5699cbb48d0e",
   "metadata": {
    "tags": []
   },
   "outputs": [],
   "source": [
    "E_uu = create_E_uu(u, λ).expand() + O(η**3)"
   ]
  },
  {
   "cell_type": "code",
   "execution_count": 15,
   "id": "40dbf3c1-40c1-4090-9b1e-1df7bb21139c",
   "metadata": {},
   "outputs": [],
   "source": [
    "H0 = E_uu.coeff(η, 0)\n",
    "H1 = E_uu.coeff(η, 1)\n",
    "H2 = expand(2 * E_uu.coeff(η, 2))"
   ]
  },
  {
   "cell_type": "code",
   "execution_count": 16,
   "id": "642bc087-e060-46e5-b7d9-987fb656691f",
   "metadata": {},
   "outputs": [
    {
     "data": {
      "text/latex": [
       "$\\displaystyle \\begin{aligned}\\order[0]{\\mathcal{H}}&=\\E_{2}\\\\\\order[1]{\\mathcal{H}}&=\\E_{3} {\\order[1]{u}} + \\dot{\\E}_2 {\\order[1]{\\lambda}}\\\\\\order[2]{\\mathcal{H}}&=\\E_{3} {\\order[2]{u}_V} + \\E_{3} {\\order[2]{u}_W} + \\E_{4} {\\order[1]{u}}^{2} + \\ddot{\\E}_2 {\\order[1]{\\lambda}}^{2} + \\dot{\\E}_2 {\\order[2]{\\lambda}} + 2 \\dot{\\E}_3 {\\order[1]{\\lambda}} {\\order[1]{u}}\\\\\\end{aligned}$"
      ],
      "text/plain": [
       "<IPython.core.display.Math object>"
      ]
     },
     "metadata": {},
     "output_type": "display_data"
    }
   ],
   "source": [
    "d = {\n",
    "    r\"\\order[0]{\\mathcal{H}}\": H0, \n",
    "    r\"\\order[1]{\\mathcal{H}}\": H1,\n",
    "    r\"\\order[2]{\\mathcal{H}}\": H2,\n",
    "    }\n",
    "\n",
    "display_latex_dict(d, num_cols=1)"
   ]
  },
  {
   "cell_type": "code",
   "execution_count": 17,
   "id": "7862a744-269d-4d2a-9a1f-442584e82ac6",
   "metadata": {},
   "outputs": [],
   "source": [
    "#| code-fold: true\n",
    "\n",
    "assert H0 == E2\n",
    "assert H1 == E3 * u1 + λ1 * E2_dot\n",
    "expected = (E4 * u1 * u1 \n",
    "            + E3 * u2_V\n",
    "            + E3 * u2_W\n",
    "            + 2 * λ1 * E3_dot * u1\n",
    "            + λ1**2 * E2_ddot\n",
    "            + λ2 * E2_dot)\n",
    "assert H2 == expected"
   ]
  },
  {
   "cell_type": "markdown",
   "id": "edbecd85-2e66-4242-bc3a-dadb0453d116",
   "metadata": {},
   "source": [
    "Using Eq. (@eq-20230411141319), the above expressions can be expanded as follows"
   ]
  },
  {
   "cell_type": "markdown",
   "id": "df21ecc2-0a7c-46d3-82cb-d9db329d5d3e",
   "metadata": {},
   "source": [
    "$$\n",
    "\\order[0]{\\mathcal{H}} = \\E_2,\n",
    "\\quad\n",
    "\\order[1]{\\mathcal{H}} = \\order[1]{\\xi}_i \\, \\E_3(v_i, \\bullet, \\bullet) + \\order[1]{\\lambda} \\, \\dot{\\E}_2,\n",
    "$$"
   ]
  },
  {
   "cell_type": "markdown",
   "id": "ac248d42-29d8-42fc-be46-35b0bb32443f",
   "metadata": {},
   "source": [
    "and"
   ]
  },
  {
   "cell_type": "markdown",
   "id": "c547d691-d92c-4d9e-9254-3aaaa0eda3db",
   "metadata": {},
   "source": [
    "$$\n",
    "\\begin{aligned}\n",
    "\\order[2]{\\mathcal{H}} \n",
    "= {} & \\order[1]{\\xi}_i \\, \\order[1]{\\xi}_j \\, \\E_4(v_i, v_j, \\bullet, \\bullet)\n",
    "+ \\order[2]{\\xi}_i \\, \\E_3(v_i, \\bullet, \\bullet) \\\\\n",
    "&+ \\order[1]{\\xi}_i \\, \\order[1]{\\xi}_j \\, \\E_3(w_{ij}, \\bullet, \\bullet)\n",
    "+ 2\\order[1]{\\lambda} \\, \\order[1]{\\xi}_i \\, \\E_3(w_i, \\bullet, \\bullet)\\\\\n",
    "&+ 2\\order[1]{\\lambda} \\, \\order[1]{\\xi}_i \\, \\dot{\\E}_3(v_i, \\bullet, \\bullet)\n",
    "+ (\\order[1]{\\lambda})^2 \\, \\ddot{\\E}_2(\\bullet, \\bullet) + \\order[2]{\\lambda} \\, \\dot{\\E}_2(\\bullet, \\bullet),\n",
    "\\end{aligned}\n",
    "$$"
   ]
  },
  {
   "cell_type": "markdown",
   "id": "44231374-7557-4714-8cbd-a0b577fcbf0e",
   "metadata": {},
   "source": [
    "and Eq. (@eq-20230517061452) is retrieved."
   ]
  }
 ],
 "metadata": {
  "kernelspec": {
   "display_name": "Python 3 (ipykernel)",
   "language": "python",
   "name": "python3"
  },
  "language_info": {
   "codemirror_mode": {
    "name": "ipython",
    "version": 3
   },
   "file_extension": ".py",
   "mimetype": "text/x-python",
   "name": "python",
   "nbconvert_exporter": "python",
   "pygments_lexer": "ipython3",
   "version": "3.10.6"
  }
 },
 "nbformat": 4,
 "nbformat_minor": 5
}
