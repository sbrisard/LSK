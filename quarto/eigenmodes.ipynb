{
 "cells": [
  {
   "cell_type": "markdown",
   "id": "64fe838f-d0c2-4d4b-9917-9fe83e81b375",
   "metadata": {},
   "source": [
    "# Eigenmodes of the hessian of the energy {#sec-20230528190001}"
   ]
  },
  {
   "cell_type": "raw",
   "id": "20e387f9-dbd0-4623-acc8-4390a575466a",
   "metadata": {},
   "source": [
    "::: {.content-hidden}"
   ]
  },
  {
   "cell_type": "markdown",
   "id": "8b67e4f4-3c30-4de5-a902-e55eb27199fc",
   "metadata": {},
   "source": [
    "This notebook uses $\\LaTeX\\newcommand{\\D}{\\mathrm{d}}\\newcommand{\\E}{\\mathcal{E}}\\newcommand{\\order}[2][1]{#2^{(#1)}}\\newcommand{\\reals}{\\mathbb{R}}$ custom macros."
   ]
  },
  {
   "cell_type": "raw",
   "id": "3913022f-9287-493a-9cb0-f370ed6c03ed",
   "metadata": {},
   "source": [
    ":::"
   ]
  },
  {
   "cell_type": "markdown",
   "id": "cc6de7f9-0934-45cf-9b0a-7f4a5ef45dad",
   "metadata": {},
   "source": [
    "In view of stability analysis, the eigenvalues $\\alpha$ and eigenvectors $x$ of the hessian of the energy are expanded in this chapter to second order in $\\eta$"
   ]
  },
  {
   "cell_type": "code",
   "execution_count": 1,
   "id": "8e30958e-9b5e-49d8-a342-0c22dc6194be",
   "metadata": {
    "tags": []
   },
   "outputs": [
    {
     "data": {
      "text/latex": [
       "$\\displaystyle \\begin{aligned}x&={\\order[0]{x}_W} + {\\order[0]{x}_V} + \\eta \\left({\\order[1]{x}_V} + {\\order[1]{x}_W}\\right) + \\frac{\\eta^{2} \\left({\\order[2]{x}_V} + {\\order[2]{x}_W}\\right)}{2} + O\\left(\\eta^{3}\\right)\\\\\\alpha&={\\order[0]{\\alpha}} + \\eta {\\order[1]{\\alpha}} + \\frac{\\eta^{2} {\\order[2]{\\alpha}}}{2} + O\\left(\\eta^{3}\\right)\\\\\\end{aligned}$"
      ],
      "text/plain": [
       "<IPython.core.display.Math object>"
      ]
     },
     "metadata": {},
     "output_type": "display_data"
    }
   ],
   "source": [
    "#| code-fold: true\n",
    "\n",
    "from sympy import *\n",
    "from lsk.display import *\n",
    "from lsk.symbols import *\n",
    "from lsk.energy import *\n",
    "\n",
    "x0_V, x0_W = symbols(r\"{\\order[0]{x}_V} {\\order[0]{x}_W}\")\n",
    "x1_V, x1_W = symbols(r\"{\\order[1]{x}_V} {\\order[1]{x}_W}\")\n",
    "x2_V, x2_W = symbols(r\"{\\order[2]{x}_V} {\\order[2]{x}_W}\")\n",
    "α0, α1, α2 = symbols(r\"{\\order[0]{\\alpha}} {\\order[1]{\\alpha}} {\\order[2]{\\alpha}}\")\n",
    "\n",
    "χ0 = IndexedBase(r\"\\order[0]{\\chi}\")\n",
    "χ1 = IndexedBase(r\"\\order[1]{\\chi}\")\n",
    "\n",
    "x = (x0_V + x0_W) + η * (x1_V + x1_W) + η**2 / 2 * (x2_V + x2_W) + O(η**3)\n",
    "α = α0 + η * α1 + η**2 / 2 * α2 + O(η**3)\n",
    "\n",
    "display_latex_dict({\"x\": x, r\"\\alpha\": α}, num_cols=1)"
   ]
  },
  {
   "cell_type": "markdown",
   "id": "326fb31c-8d52-4368-b2ee-8f1e74bdb015",
   "metadata": {},
   "source": [
    "Note that the eigenvector $x$ is projected onto $V$ and $W$ : $\\order[k]{x}_V \\in V$ and $\\order[k]{x}_W \\in W$. It will be convenient to expand the $V$-component in the $(v_1, \\ldots, v_m)$ basis"
   ]
  },
  {
   "cell_type": "markdown",
   "id": "c7f06159-b379-4ffc-aec5-24f6cb0a0c67",
   "metadata": {},
   "source": [
    "$$\n",
    "\\order[k]{x}_V = \\order[k]{\\chi}_i \\, v_i.\n",
    "$$"
   ]
  },
  {
   "cell_type": "markdown",
   "id": "6db36452-42c0-4450-be94-c44e10916b13",
   "metadata": {},
   "source": [
    "We immediately have the following simplification rules"
   ]
  },
  {
   "cell_type": "code",
   "execution_count": 2,
   "id": "4907dffa-50af-4e0e-8ba6-5ffe2c67b321",
   "metadata": {
    "tags": []
   },
   "outputs": [],
   "source": [
    "rules = {\n",
    "    E2 * v[i]: 0,\n",
    "    E2 * x0_V: 0,\n",
    "    E2 * x1_V: 0,\n",
    "    E2 * x2_V: 0\n",
    "}"
   ]
  },
  {
   "cell_type": "markdown",
   "id": "7d29e4d3-4b41-48c4-a90b-72faee833994",
   "metadata": {},
   "source": [
    "We focus in this chapter on potentially unstable eigenmodes, for which the eigenvalue $\\alpha$ might be negative in the vicinity of $\\eta = 0$. It will be shown that these eigenmodes are necessarily such that $\\order[0]{\\alpha} = 0$. In that case, $\\order[0]{x}_W = 0$ and"
   ]
  },
  {
   "cell_type": "markdown",
   "id": "97dd3521-0176-4876-93ab-4991b09406c5",
   "metadata": {},
   "source": [
    "$$\n",
    "\\order[1]{x}_W = \\order[1]{\\lambda} \\, \\order[0]{\\chi}_j \\, w_{j} + \\order[0]{\\chi}_j \\, \\order[1]{\\xi}_k \\, w_{jk}.\n",
    "$$ {#eq-20230626163655}"
   ]
  },
  {
   "cell_type": "markdown",
   "id": "5d0693ac-cef4-4892-810f-0acfcf6d8738",
   "metadata": {},
   "source": [
    "The coefficients $\\order[1]{\\alpha}$, $\\order[2]{\\alpha}$, $\\order[0]{\\chi}_i$ and $\\order[1]{\\chi}_i$ solve the following equations"
   ]
  },
  {
   "cell_type": "markdown",
   "id": "fdf147ee-04d9-4bd3-b8c2-c34a3e062e3c",
   "metadata": {},
   "source": [
    "$$\n",
    "\\bigl( E_{ijk} \\, \\order[1]{\\xi_k} + \\order[1]\\lambda \\, \\dot{E}_{ij} \\bigr) \\, \\order[0]{\\chi_j} = \\order[1]\\alpha \\, \\order[0]{\\chi_i},\n",
    "$$ {#eq-20230524065341}"
   ]
  },
  {
   "cell_type": "markdown",
   "id": "ef220a99-1f3d-43a1-9bf5-879713d3ef39",
   "metadata": {},
   "source": [
    "and"
   ]
  },
  {
   "cell_type": "markdown",
   "id": "e7067949-075b-48ab-abb2-fb759978e04c",
   "metadata": {},
   "source": [
    "$$\n",
    "\\begin{aligned}\n",
    "\\bigl[ E_{ijkl} \\, \\order[1]{\\xi}_k \\, \\order[1]{\\xi}_l + \\order[1]{\\lambda} \\, \\bigl( 2\\dot{E}_{ijk} \\, \\order[1]{\\xi}_k + \\order[1]{\\lambda} \\, \\ddot{E}_{ij} \\bigr)+ E_{ijk} \\, \\order[2]{\\xi}_k &\\\\\n",
    "+ \\order[2]{\\lambda} \\, \\dot{E}_{ij} \\bigr] \\order[0]{\\chi}_j\n",
    "+ 2\\bigl( E_{ijk} \\, \\order[1]{\\xi}_k + \\order[1]{\\lambda} \\, \\dot{E}_{ij} \\bigr) \\, \\order[1]{\\chi}_j &= 2 \\order[1]{\\alpha} \\, \\order[1]{\\chi}_i + \\order[2]{\\alpha} \\, \\order[0]{\\chi}_i.\n",
    "\\end{aligned}\n",
    "$$ {#eq-20230524065110}"
   ]
  },
  {
   "cell_type": "markdown",
   "id": "b9c7c959-424d-4353-af32-2837cedd8c0c",
   "metadata": {},
   "source": [
    "## The eigenvalue problem"
   ]
  },
  {
   "cell_type": "markdown",
   "id": "2fa67587-5600-4386-8044-78ab427ade45",
   "metadata": {},
   "source": [
    "The eigenvalues $\\alpha \\in \\reals$ and eigenvectors $x \\in U$ of the hessian are such that"
   ]
  },
  {
   "cell_type": "markdown",
   "id": "2965dd18-2548-4cbb-8283-f7a0b38f9c19",
   "metadata": {},
   "source": [
    "$$\n",
    "\\E_{, u u} [u(\\eta), \\lambda(\\eta); x, \\hat{u}] = \\alpha \\, \\langle x, \\hat{u} \\rangle \\quad \\text{for all} \\quad \\hat{u} \\in U,\n",
    "$$ {#eq-20230517062340}"
   ]
  },
  {
   "cell_type": "markdown",
   "id": "68221994-63a4-48d7-8b39-5f548f000179",
   "metadata": {},
   "source": [
    "where $\\eta \\mapsto \\lambda(\\eta)$ and $\\eta \\mapsto u(\\eta)$ define the bifurcated branch."
   ]
  },
  {
   "cell_type": "markdown",
   "id": "e0be6311-33c6-4906-b7c6-a17e0d43177d",
   "metadata": {},
   "source": [
    "In @sec-20230102153124 and in @sec-20230523130742, the following asymptotic expansions of $\\lambda(\\eta)$, $u(\\eta)$ and $\\E_{,uu}[u(\\eta), \\lambda(\\eta); \\bullet, \\bullet]$ were derived"
   ]
  },
  {
   "cell_type": "code",
   "execution_count": 3,
   "id": "748ad295-61ee-4533-bd7a-f75f9c3f55a9",
   "metadata": {
    "tags": []
   },
   "outputs": [],
   "source": [
    "H0 = E2\n",
    "H1 = E3 * u1 + λ1 * E2_dot\n",
    "H2 = (E4 * u1 * u1  + E3 * (u2_V + u2_W) \n",
    "      + 2 * λ1 * E3_dot * u1 + λ1**2 * E2_ddot + λ2 * E2_dot)\n",
    "\n",
    "H = expand(H0 + η * H1 + η**2 / 2 * H2 + O(η**3))"
   ]
  },
  {
   "cell_type": "code",
   "execution_count": 4,
   "id": "0c86bd06-5657-482f-ba15-31de51298b52",
   "metadata": {
    "tags": []
   },
   "outputs": [
    {
     "data": {
      "text/latex": [
       "$\\displaystyle \\begin{aligned}\\E_{uu}[u(\\eta), λ(\\eta)]={} &\\E_{2} + \\frac{\\E_{3} \\eta^{2} {\\order[2]{u}_V}}{2} + \\frac{\\E_{3} \\eta^{2} {\\order[2]{u}_W}}{2} + \\E_{3} \\eta {\\order[1]{u}} + \\frac{\\E_{4} \\eta^{2} {\\order[1]{u}}^{2}}{2} + \\dot{\\E}_2 \\eta {\\order[1]{\\lambda}}\\\\ &+\\dot{\\E}_3 \\eta^{2} {\\order[1]{\\lambda}} {\\order[1]{u}} + \\frac{\\dot{\\E}_2 \\eta^{2} {\\order[2]{\\lambda}}}{2} + \\frac{\\ddot{\\E}_2 \\eta^{2} {\\order[1]{\\lambda}}^{2}}{2} + O\\left(\\eta^{3}\\right)\\end{aligned}$"
      ],
      "text/plain": [
       "<IPython.core.display.Math object>"
      ]
     },
     "metadata": {},
     "output_type": "display_data"
    }
   ],
   "source": [
    "#| code-fold: true\n",
    "\n",
    "display_latex_long_equation(r\"\\E_{uu}[u(\\eta), λ(\\eta)]\", H, terms_per_line=6)"
   ]
  },
  {
   "cell_type": "markdown",
   "id": "929a5834-08ce-4df2-aae3-324c3eef990b",
   "metadata": {},
   "source": [
    "We define the left-hand side and right-hand side of the variational problem that defines the eigenpairs $(\\alpha, x)$ at all orders."
   ]
  },
  {
   "cell_type": "code",
   "execution_count": 5,
   "id": "b4c32bba-b742-4ef6-a1ac-ccc179f4f1ad",
   "metadata": {
    "tags": []
   },
   "outputs": [],
   "source": [
    "lhs = (H * x * u_hat).subs(rules).expand()\n",
    "rhs = (α * x * u_hat).subs(rules).expand()"
   ]
  },
  {
   "cell_type": "markdown",
   "id": "00748d63-1e66-4783-a800-448d19f90777",
   "metadata": {},
   "source": [
    "The terms of order 0, 1 and 2 in $\\eta$ are identified below."
   ]
  },
  {
   "cell_type": "markdown",
   "id": "ac2ca5fa-ba16-4a25-95b4-358fe5b8218c",
   "metadata": {
    "tags": []
   },
   "source": [
    "## The variational problem of order 0"
   ]
  },
  {
   "cell_type": "code",
   "execution_count": 6,
   "id": "1e86334a-f823-4095-83bf-5cd41b0cf14b",
   "metadata": {
    "tags": []
   },
   "outputs": [],
   "source": [
    "lhs0 = lhs.coeff(η, 0).subs(rules)\n",
    "rhs0 = rhs.coeff(η, 0)"
   ]
  },
  {
   "cell_type": "markdown",
   "id": "67f1e405-5faa-4729-bbf5-bb52c9908f0a",
   "metadata": {
    "tags": []
   },
   "source": [
    "The lowest-order problem reads: find $\\order[0]{x}_V \\in V$, $\\order[0]{x}_W \\in W$ and $\\order[0]\\alpha\\in\\reals$ such that, for all $\\hat{u} \\in U$"
   ]
  },
  {
   "cell_type": "code",
   "execution_count": 7,
   "id": "e83d46f1-ed6e-4784-a37e-303d9939bddb",
   "metadata": {
    "tags": []
   },
   "outputs": [
    {
     "data": {
      "text/latex": [
       "$\\displaystyle \\E_{2} \\hat{u} {\\order[0]{x}_W}=\\hat{u} {\\order[0]{\\alpha}} {\\order[0]{x}_V} + \\hat{u} {\\order[0]{\\alpha}} {\\order[0]{x}_W}$"
      ],
      "text/plain": [
       "<IPython.core.display.Math object>"
      ]
     },
     "metadata": {},
     "output_type": "display_data"
    }
   ],
   "source": [
    "#| code-fold: true\n",
    "display_latex_equation(lhs0, rhs0)"
   ]
  },
  {
   "cell_type": "markdown",
   "id": "3d6862e9-927b-4403-bd76-f3248306b9ae",
   "metadata": {},
   "source": [
    "to be understood as"
   ]
  },
  {
   "cell_type": "markdown",
   "id": "10d3c99c-4e37-4ba0-928b-efbf98c508a0",
   "metadata": {
    "tags": []
   },
   "source": [
    "$$\n",
    "\\E_2(\\order[0]x_W, \\hat{u}) \n",
    "= \\order[0]\\alpha \\langle \\order[0]x_V, \\hat{u} \\rangle\n",
    "+ \\order[0]\\alpha \\langle \\order[0]x_W, \\hat{u} \\rangle.\n",
    "$$"
   ]
  },
  {
   "cell_type": "markdown",
   "id": "a98abfaf-bb8a-4787-859e-8a99dec01aca",
   "metadata": {},
   "source": [
    "This variational equation is tested with an element $\\hat{w} \\in W$. Then, $\\langle \\order[0]{x}_W, \\hat{w} \\rangle$ vanished and we are left with finding $\\order[0]{x}_W \\in W$ such that, for all $\\hat{w} \\in W$,"
   ]
  },
  {
   "cell_type": "markdown",
   "id": "4195b1db-3e20-4a9c-8e86-c655fae31c5c",
   "metadata": {
    "tags": []
   },
   "source": [
    "$$\n",
    "\\E_2(\\order[0]x_W, \\hat{w}) \n",
    "= \\order[0]\\alpha \\langle \\order[0]x_W, \\hat{w} \\rangle.\n",
    "$$"
   ]
  },
  {
   "cell_type": "markdown",
   "id": "c2e1275e-da59-4459-8817-33dbf0436e13",
   "metadata": {},
   "source": [
    "If $\\order[0]{x}_W \\neq 0$, then $\\order[0]{\\alpha}$ is an eigenvalue of $\\E_2$ over $W$. Therefore, $\\order[0]{\\alpha} > 0$ and $\\alpha > 0$ in the vicinity of the critical point $\\lambda = \\lambda_0$: the resulting eigenmode is *stable*. So, in order to find potentially unstable modes, we need to consider that $\\order[0]{x}_W = 0$ and $\\order[0]{\\alpha} = 0$."
   ]
  },
  {
   "cell_type": "code",
   "execution_count": 8,
   "id": "c62444e7-5ce4-42ab-984d-d853cffcdd61",
   "metadata": {
    "tags": []
   },
   "outputs": [],
   "source": [
    "rules[α0] = 0\n",
    "rules[x0_W] = 0"
   ]
  },
  {
   "cell_type": "markdown",
   "id": "3eef27e9-4881-4850-a580-49d0e870c899",
   "metadata": {},
   "source": [
    "## The variational problem of order 1"
   ]
  },
  {
   "cell_type": "code",
   "execution_count": 9,
   "id": "e3ee9b15-fad0-4833-9b25-88999613d96a",
   "metadata": {
    "tags": []
   },
   "outputs": [],
   "source": [
    "lhs1 = lhs.coeff(η, 1).subs(rules)\n",
    "rhs1 = rhs.coeff(η, 1).subs(rules)"
   ]
  },
  {
   "cell_type": "markdown",
   "id": "76761df8-75b2-421f-9963-51795c47d3f2",
   "metadata": {},
   "source": [
    "The problem reads: find $\\order[O]x_V \\in V$, $\\order[1]x_W \\in W$ and $\\order[1]\\alpha\\in\\reals$ such that, for all $\\hat{u} \\in U$"
   ]
  },
  {
   "cell_type": "code",
   "execution_count": 10,
   "id": "a0b7e42c-a488-471e-a45e-6088721a3157",
   "metadata": {
    "tags": []
   },
   "outputs": [
    {
     "data": {
      "text/latex": [
       "$\\displaystyle \\E_{2} \\hat{u} {\\order[1]{x}_W} + \\E_{3} \\hat{u} {\\order[0]{x}_V} {\\order[1]{u}} + \\dot{\\E}_2 \\hat{u} {\\order[0]{x}_V} {\\order[1]{\\lambda}}=\\hat{u} {\\order[0]{x}_V} {\\order[1]{\\alpha}}$"
      ],
      "text/plain": [
       "<IPython.core.display.Math object>"
      ]
     },
     "metadata": {},
     "output_type": "display_data"
    }
   ],
   "source": [
    "#| code-fold: true\n",
    "\n",
    "display_latex_equation(lhs1, rhs1)"
   ]
  },
  {
   "cell_type": "markdown",
   "id": "40193070-de76-45d0-bdb4-6542c4337b08",
   "metadata": {},
   "source": [
    "Testing first with $\\hat{u} = v_i$ delivers the following variational problem: find $\\order[0]{x}_V \\in V$ such that, for all $i=1, \\ldots, m$"
   ]
  },
  {
   "cell_type": "code",
   "execution_count": 11,
   "id": "9f10caa4-fc9e-4ebf-8075-1f1c7ec6fd4f",
   "metadata": {
    "tags": []
   },
   "outputs": [
    {
     "data": {
      "text/latex": [
       "$\\displaystyle \\E_{3} {\\order[0]{\\chi}}_{Idx\\left(j\\right)} {v}_{Idx\\left(i\\right)} {v}_{Idx\\left(j\\right)} {v}_{Idx\\left(k\\right)} {{\\order[1]{\\xi}}}_{Idx\\left(k\\right)} + \\dot{\\E}_2 {\\order[1]{\\lambda}} {\\order[0]{\\chi}}_{Idx\\left(j\\right)} {v}_{Idx\\left(i\\right)} {v}_{Idx\\left(j\\right)}={\\order[1]{\\alpha}} {\\order[0]{\\chi}}_{Idx\\left(i\\right)}$"
      ],
      "text/plain": [
       "<IPython.core.display.Math object>"
      ]
     },
     "metadata": {},
     "output_type": "display_data"
    }
   ],
   "source": [
    "#| code-fold: true\n",
    "d = {\n",
    "    u_hat: v[i],\n",
    "    x0_V : χ0[j] * v[j],\n",
    "    u1 : ξ1[k] * v[k]\n",
    "}\n",
    "lhs1a = lhs1.subs(d).subs(rules)\n",
    "rhs1a = rhs1.subs(d).subs(rules).subs(χ0[j] * v[j] * v[i], χ0[i])\n",
    "\n",
    "display_latex_equation(lhs1a, rhs1a)"
   ]
  },
  {
   "cell_type": "markdown",
   "id": "b8b212f8-10d3-4762-add7-718f5aff9298",
   "metadata": {},
   "source": [
    "and Eq. (@eq-20230524065341) is retrieved."
   ]
  },
  {
   "cell_type": "markdown",
   "id": "da8e0691-c816-4d7a-9411-9cdecf8c28b7",
   "metadata": {},
   "source": [
    "The test function is now picked in $W = V^\\perp$ and we get the following variational problem: find $\\order[1]{x}_W \\in W$ such that, for all $\\hat{w} \\in W$,"
   ]
  },
  {
   "cell_type": "code",
   "execution_count": 12,
   "id": "8d738916-1ee7-4f4c-a16a-92ab3c3af484",
   "metadata": {
    "tags": []
   },
   "outputs": [
    {
     "data": {
      "text/latex": [
       "$\\displaystyle \\E_{2} \\hat{w} {\\order[1]{x}_W} + \\E_{3} \\hat{w} {\\order[0]{\\chi}}_{Idx\\left(i\\right)} {v}_{Idx\\left(i\\right)} {v}_{Idx\\left(j\\right)} {{\\order[1]{\\xi}}}_{Idx\\left(j\\right)} + \\dot{\\E}_2 \\hat{w} {\\order[1]{\\lambda}} {\\order[0]{\\chi}}_{Idx\\left(i\\right)} {v}_{Idx\\left(i\\right)}=0$"
      ],
      "text/plain": [
       "<IPython.core.display.Math object>"
      ]
     },
     "metadata": {},
     "output_type": "display_data"
    }
   ],
   "source": [
    "#| code-fold: true\n",
    "d = {\n",
    "    u_hat: w_hat,\n",
    "    x0_V : χ0[i] * v[i],\n",
    "    u1 : ξ1[j] * v[j]\n",
    "}\n",
    "lhs1b = lhs1.subs(d).subs(rules)\n",
    "rhs1b = rhs1.subs(d).subs(rules).subs(v[i] * w_hat, 0)\n",
    "\n",
    "display_latex_equation(lhs1b, rhs1b)"
   ]
  },
  {
   "cell_type": "markdown",
   "id": "7d3874af-c833-435c-92d6-7bf70f4753bb",
   "metadata": {},
   "source": [
    "(observe that, in the RHS, $\\langle v_i, \\hat{w} \\rangle = 0$ since $V$ and $W$ are orthogonal subspaces). The solution to the above problem is expressed as a linear combination of the $w_{ij}$ and $w_i$ –defined by the variational problems (@eq-20230107180410) and (@eq-20230107180501), respectively–, delivering Eq. (@eq-20230626163655)."
   ]
  },
  {
   "cell_type": "code",
   "execution_count": 13,
   "id": "877dfab6-8631-4698-9422-ed5a4a16be9c",
   "metadata": {
    "tags": []
   },
   "outputs": [],
   "source": [
    "rules[x1_W] = χ0[k] * ξ1[l] * w[k, l] + λ1 * χ0[k] * w[k]"
   ]
  },
  {
   "cell_type": "markdown",
   "id": "16c2e576-2449-4700-89ae-33fde7608599",
   "metadata": {},
   "source": [
    "## The variational problem of order 2"
   ]
  },
  {
   "cell_type": "markdown",
   "id": "f11353ec-9fa6-4c47-afbe-195e43661cae",
   "metadata": {},
   "source": [
    "The terms of second order are tested against elements of $V$ only."
   ]
  },
  {
   "cell_type": "code",
   "execution_count": 14,
   "id": "20b4fa0e-1ae2-49af-b270-3427a13c5667",
   "metadata": {
    "tags": []
   },
   "outputs": [],
   "source": [
    "lhs2 = expand(2 * lhs.coeff(η, 2).subs(u_hat, v[i]).subs(rules))\n",
    "rhs2 = expand(2 * rhs.coeff(η, 2).subs(u_hat, v[i]).subs(rules))"
   ]
  },
  {
   "cell_type": "raw",
   "id": "80a13bca-13dc-4228-856f-301710f54373",
   "metadata": {},
   "source": [
    "::: {.callout-tip collapse=\"true\"}"
   ]
  },
  {
   "cell_type": "markdown",
   "id": "d170125e-d5bb-4047-af41-7107202634ba",
   "metadata": {},
   "source": [
    "## Simplification of these expressions"
   ]
  },
  {
   "cell_type": "markdown",
   "id": "077d2018-fcc8-41a4-a89e-f4d050f244a2",
   "metadata": {},
   "source": [
    "Use some orthogonality conditions in the right-hand side."
   ]
  },
  {
   "cell_type": "code",
   "execution_count": 15,
   "id": "e5f55bfe-0569-4534-aed4-b98693838bf1",
   "metadata": {
    "tags": []
   },
   "outputs": [],
   "source": [
    "rhs2 = rhs2.subs({\n",
    "    x0_V * v[i]: χ0[i],\n",
    "    x1_V * v[i]: χ1[i],\n",
    "    v[i] * w[k]: 0,\n",
    "    v[i] * w[k, l]: 0\n",
    "})"
   ]
  },
  {
   "cell_type": "markdown",
   "id": "7a739502-d2a6-4ac1-909e-7c06f3bc3464",
   "metadata": {},
   "source": [
    "Plug expansions \n",
    "$$\n",
    "\\order[1]{u} = \\order[1]{\\xi}_i \\, v_i,\n",
    "\\quad\n",
    "\\order[2]{u}_V = \\order[2]{\\xi}_i \\, v_i,\n",
    "\\quad\n",
    "\\order[0]{x}_V = \\order[0]{\\chi}_i \\, v_i,\n",
    "\\quad \\text{and} \\quad\n",
    "\\order[1]{x}_V = \\order[1]{\\chi}_i \\, v_i.\n",
    "$$"
   ]
  },
  {
   "cell_type": "code",
   "execution_count": 16,
   "id": "71f0b14e-0303-4808-99a2-eed60b0c79dc",
   "metadata": {
    "tags": []
   },
   "outputs": [],
   "source": [
    "d = dict()\n",
    "\n",
    "d[E2_dot * v[i] * x0_V] = χ0[j] * E2_dot * v[i] * v[j]\n",
    "d[E2_dot * v[i] * x1_V] = χ1[j] * E2_dot * v[i] * v[j]\n",
    "d[E2_ddot * x0_V * v[i]] = χ0[j] * E2_ddot * v[i] * v[j]\n",
    "d[E3 * v[i] * x1_V * u1] = χ1[j] * ξ1[k] * E3 * v[i] * v[j] * v[k]\n",
    "d[E3 * v[i] * x0_V * u2_V] = χ0[j] * ξ2[k] * E3 * v[i] * v[j] * v[k]\n",
    "d[E3_dot * v[i] * x0_V * u1] = χ0[j] * ξ1[k] * E3_dot * v[i] * v[j] * v[k]\n",
    "d[E4 * v[i] * x0_V * u1 * u1] = (χ0[j] * ξ1[k] * ξ1[l] \n",
    "                                 * E4 * v[i] * v[j] * v[k] * v[l])\n",
    "\n",
    "lhs2 = lhs2.subs(d)"
   ]
  },
  {
   "cell_type": "markdown",
   "id": "c515a835-31bf-4068-8c20-2df076711b2b",
   "metadata": {},
   "source": [
    "Rename some indices."
   ]
  },
  {
   "cell_type": "code",
   "execution_count": 17,
   "id": "2d6819e8-1637-41b6-9224-fbd73e78c720",
   "metadata": {},
   "outputs": [],
   "source": [
    "lhs2 = lhs2.subs({\n",
    "    χ0[k] * E2_dot * v[i] * w[k]: χ0[j] * E2_dot * v[i] * w[j],\n",
    "    χ0[k] * ξ1[l] * w[k, l]: χ0[j] * ξ1[k] * w[j, k]\n",
    "})  "
   ]
  },
  {
   "cell_type": "markdown",
   "id": "d614f8ca-9cee-41cb-8229-856c0958e854",
   "metadata": {
    "tags": []
   },
   "source": [
    "$$\n",
    "\\begin{aligned}\n",
    "\\E_3(\\order[0]{x}_V, \\order[2]{u}_W, v_i)\n",
    "={} & \\order[0]{\\chi}_j \\, \\order[1]{\\xi}_k \\, \\bigl[\n",
    "\\order[1]{\\xi}_l \\, \\E_3(v_i, v_j, w_{kl})\n",
    "+ 2\\order[1]{\\lambda} \\, \\E_3(v_i, v_j, w_k) \\bigr]\\\\\n",
    "={} & \\order[0]{\\chi}_j \\, \\order[1]{\\xi}_k \\, \\order[1]{\\xi}_l \\, \\E_3(v_i, v_j, w_{kl})\n",
    "+ 2\\order[1]{\\lambda} \\, \\order[0]{\\chi}_j \\, \\order[1]{\\xi}_k \\, \\dot{\\E}_2(v_k, w_{ij})\n",
    "\\end{aligned}\n",
    "$$"
   ]
  },
  {
   "cell_type": "code",
   "execution_count": 18,
   "id": "b59ae339-d14d-442f-a0fc-de412bfee4ed",
   "metadata": {
    "tags": []
   },
   "outputs": [],
   "source": [
    "lhs2 = lhs2.subs(E3 * v[i] * x0_V * u2_W,\n",
    "                 (χ0[j] * ξ1[k] * ξ1[l]\n",
    "                  * E3 * v[i] * v[j] * w[k,l]\n",
    "                  + 2 * λ1 * χ0[j] * ξ1[k]\n",
    "                  * E2_dot * v[k] * w[i, j])).expand()"
   ]
  },
  {
   "cell_type": "markdown",
   "id": "06f79bb1-46cc-4717-a40b-d03dfe60d2f5",
   "metadata": {},
   "source": [
    "$$\n",
    "\\order[0]{\\chi}_k \\, \\E_3(v_i, \\order[1]{u}, w_k)\n",
    "= \\order[0]{\\chi}_j \\, \\order[1]{\\xi}_k \\, \\E_3(v_i, v_k, w_j)\n",
    "= \\order[0]{\\chi}_j \\, \\order[1]{\\xi}_k \\, \\dot{\\E}_2(v_j, w_{ik})\n",
    "$$"
   ]
  },
  {
   "cell_type": "code",
   "execution_count": 19,
   "id": "52adf774-9006-4003-9be7-4398ff12fb72",
   "metadata": {
    "tags": []
   },
   "outputs": [],
   "source": [
    "lhs2 = lhs2.subs(χ0[k] * E3 * v[i] * u1 * w[k],\n",
    "                 χ0[j] * ξ1[k] * E2_dot * v[j] * w[i, k]).expand()"
   ]
  },
  {
   "cell_type": "markdown",
   "id": "94736951-e999-4722-baa3-57a8adc314a9",
   "metadata": {},
   "source": [
    "$$\n",
    "\\begin{aligned}\n",
    "\\order[0]{\\chi}_j \\, \\order[1]{\\xi}_k \\, \\E_3(v_i, w_{j, k}, \\order[1]{u})\n",
    "= {} & \\order[0]{\\chi}_j \\, \\order[1]{\\xi}_k \\, \\order[1]{\\xi}_l \\, \\E_3(v_i, v_l, w_{j, k})\\\\\n",
    "&= \\tfrac{1}{2} \\order[0]{\\chi}_j \\, \\order[1]{\\xi}_k \\, \\order[1]{\\xi}_l \\, \\bigl[ \\E_3(v_i, v_k, w_{j, l}) + \\E_3(v_i, v_l, w_{j, k}) \\bigr]\n",
    "\\end{aligned}\n",
    "$$"
   ]
  },
  {
   "cell_type": "code",
   "execution_count": 20,
   "id": "b1fef186-4370-496b-9a8c-ec08a16baf36",
   "metadata": {
    "tags": []
   },
   "outputs": [],
   "source": [
    "lhs2 = lhs2.subs(χ0[j] * ξ1[k] * E3 * v[i] * w[j, k] * u1,\n",
    "                 χ0[j] * ξ1[k] * ξ1[l] / 2 \n",
    "                 * (E3 * v[i] * v[k] * w[j, l]\n",
    "                    + E3 * v[i] * v[l] * w[j, k])).expand()"
   ]
  },
  {
   "cell_type": "code",
   "execution_count": 21,
   "id": "4579992b-cad3-4719-87ea-0b5e61029d5b",
   "metadata": {
    "tags": []
   },
   "outputs": [],
   "source": [
    "lhs2 = lhs2.subs({\n",
    "    E2_dot * v[i] * v[j]: E_dot[i, j],\n",
    "    E2_ddot * v[i] * v[j]: (E_ddot[i, j] - 2 * E2_dot * v[i] * w[j]),\n",
    "    E3 * v[i] * v[j] * v[k]: E[i, j, k],\n",
    "    E3_dot * v[i] * v[j] * v[k]: (E_dot[i, j, k]\n",
    "                                     - E2_dot * v[i] * w[j, k]\n",
    "                                     - E2_dot * v[j] * w[i, k]\n",
    "                                     - E2_dot * v[k] * w[i, j]),\n",
    "    E4 *v[i] * v[j] * v[k] * v[l]: (E[i, j, k, l] \n",
    "                                    - E3 * v[i] * (v[j] * w[k, l]\n",
    "                                                   + v[k] * w[j, l]\n",
    "                                                   + v[l] * w[j, k]))\n",
    "}).expand()"
   ]
  },
  {
   "cell_type": "raw",
   "id": "62f702a0-5b51-42c3-a6e6-4fd45168ef36",
   "metadata": {},
   "source": [
    ":::"
   ]
  },
  {
   "cell_type": "markdown",
   "id": "caed464c-c6ed-45e3-8998-ab7b3118851e",
   "metadata": {},
   "source": [
    "And Eq. (@eq-20230524065110) is finally retrieved."
   ]
  },
  {
   "cell_type": "code",
   "execution_count": 22,
   "id": "14886ac0-b148-45c0-8555-5e7bf87b0ac9",
   "metadata": {
    "tags": []
   },
   "outputs": [],
   "source": [
    "#| code-fold: true\n",
    "\n",
    "expected = ((E[i, j, k, l] * ξ1[k] * ξ1[l]\n",
    "            + λ1 * (2 * E_dot[i, j, k] * ξ1[k] + λ1 * E_ddot[i, j])\n",
    "            + E[i, j, k] * ξ2[k]\n",
    "            + λ2 * E_dot[i, j]) * χ0[j]\n",
    "            + 2 * (E[i, j, k] * ξ1[k] + λ1 * E_dot[i, j]) * χ1[j])\n",
    "\n",
    "assert expand(lhs2 - expected) == 0\n",
    "\n",
    "expected = 2 * α1 * χ1[i] + α2 * χ0[i]\n",
    "\n",
    "assert expand(rhs2 - expected) == 0"
   ]
  }
 ],
 "metadata": {
  "kernelspec": {
   "display_name": "Python 3 (ipykernel)",
   "language": "python",
   "name": "python3"
  },
  "language_info": {
   "codemirror_mode": {
    "name": "ipython",
    "version": 3
   },
   "file_extension": ".py",
   "mimetype": "text/x-python",
   "name": "python",
   "nbconvert_exporter": "python",
   "pygments_lexer": "ipython3",
   "version": "3.10.6"
  }
 },
 "nbformat": 4,
 "nbformat_minor": 5
}
