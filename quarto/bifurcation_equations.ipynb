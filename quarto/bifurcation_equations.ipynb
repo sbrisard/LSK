{
 "cells": [
  {
   "cell_type": "markdown",
   "id": "80f2c8c2-295e-4194-a81a-27a3adfbb4f7",
   "metadata": {},
   "source": [
    "# Bifurcation equations {#sec-20230102153124}"
   ]
  },
  {
   "cell_type": "raw",
   "id": "8e903d4c-6d23-4c65-929e-5d234de54064",
   "metadata": {},
   "source": [
    "$$\n",
    "\\newcommand{\\D}{\\mathrm{d}}\n",
    "\\newcommand{\\E}{\\mathcal{E}}\n",
    "\\newcommand{\\reals}{\\mathbb{R}}\n",
    "$$"
   ]
  },
  {
   "cell_type": "markdown",
   "id": "6c755e9c-24e0-437a-8b51-8b2d97bd91ce",
   "metadata": {},
   "source": [
    "In this chapter, the bifurcation analysis of the perfect system is performed symbolically. The starting point is the symbolic expression of the energy $(u, \\lambda) \\mapsto \\E(u, \\lambda)$ that was derived in @sec-20230105101657."
   ]
  },
  {
   "cell_type": "markdown",
   "id": "62ad2dfb-1006-4f94-a4a1-2c61a719a6d7",
   "metadata": {},
   "source": [
    "To begin with, we perform the relevant initializations and retrieve the expression of the energy."
   ]
  },
  {
   "cell_type": "code",
   "execution_count": null,
   "id": "f762e469-f0c2-4c42-afd5-13c89b20e2ec",
   "metadata": {},
   "outputs": [],
   "source": [
    "import json\n",
    "import lsk\n",
    "\n",
    "from sympy import *\n",
    "\n",
    "#λ, u, v, u_hat, v_hat, w_hat = sp.symbols(r\"\\lambda u v \\hat{u} \\hat{v} \\hat{w}\")\n",
    "\n",
    "with open(\"problem_setting.out.json\", \"r\") as f:\n",
    "    data = json.load(f)\n",
    "    \n",
    "E = eval(data[\"E\"])"
   ]
  },
  {
   "cell_type": "code",
   "execution_count": null,
   "id": "caf1fde4-c198-4630-8721-afe95fcc7ffe",
   "metadata": {},
   "outputs": [],
   "source": [
    "#| code-fold: true\n",
    "lsk.display_latex_equation(r\"\\E(u, \\lambda)\", E)"
   ]
  },
  {
   "cell_type": "markdown",
   "id": "f382cfbb-6e4a-4fb8-b2b5-5d384f60e060",
   "metadata": {},
   "source": [
    "## Outline of the strategy"
   ]
  },
  {
   "cell_type": "markdown",
   "id": "62c811e1-96bd-4fe0-9581-bb65da40a5b6",
   "metadata": {},
   "source": [
    "In this section, we show that, besides the fundamental branch $u^\\ast(\\lambda)$, other (bifurcated) equilibrium branches\n",
    "may pass through the critical point $(u_0, \\lambda_0)$. The starting point is the characterization of an equilibrium by\n",
    "the stationarity of the energy, which defines all equilibrium branches as implicit functions, which can be expanded with\n",
    "respect to some perturbation parameter.\n",
    "\n",
    "The approach adopted here relies on the Lyapunov--Schmidt decomposition of the equilibrium branch over $V$ and\n",
    "$W$. Other approaches are possible, see e.g. @chak2018.\n",
    "\n",
    "For a given value of $\\lambda$ (close to the critical value $\\lambda_0$), We seek an equilibrium point $u$ of the\n",
    "system, such that\n",
    "\n",
    "$$\n",
    "\\E_{,u}(u, \\lambda; \\hat{u}) = 0 \\quad \\text{for all} \\quad \\hat{u} \\in U.\n",
    "$$ {#eq-20230102025737}"
   ]
  },
  {
   "cell_type": "code",
   "execution_count": null,
   "id": "5d157a60-3d5b-4fb7-987c-97e8015c6766",
   "metadata": {},
   "outputs": [],
   "source": [
    "res = (E.diff(u) * u_hat).expand()"
   ]
  },
  {
   "cell_type": "markdown",
   "id": "6053af44-aacd-442e-9545-bfa421852b25",
   "metadata": {},
   "source": [
    "The above equation reads: for all $\\hat{u} \\in U$"
   ]
  },
  {
   "cell_type": "code",
   "execution_count": null,
   "id": "8941cd71-33dd-4758-8590-3e7a2295a37c",
   "metadata": {},
   "outputs": [],
   "source": [
    "#| code-fold: true\n",
    "display_latex_equation(res, 0)"
   ]
  },
  {
   "cell_type": "markdown",
   "id": "cf5b8cd6-b578-46a2-abb2-35239892adbb",
   "metadata": {},
   "source": [
    "The equilibrium state $u$ is projected onto the orthogonal subspaces $V$ and $W$.\n",
    "\n",
    "$$\n",
    "u = u^\\ast(\\lambda) + \\xi_i \\, v_i + w, \\quad \\text{with} \\quad w \\in W.\n",
    "$$ {#eq-20220902174235}\n",
    "\n",
    "It follows from the orthogonality of $V$ and $W$ that $\\langle v_i, w \\rangle = 0$ for all $i=1, \\ldots, m$. Analysis of the bifurcated branches therefore reduces to finding $\\xi_1, \\ldots, \\xi_m \\in \\reals$ and $w \\in W$, such that\n",
    "\n",
    "$$\n",
    "\\E_{,u}[u^\\ast(\\lambda) + \\xi_i \\, v_i + w, \\lambda; \\hat{u}] = 0 \\quad \\text{for all} \\quad \\hat{u} \\in U.\n",
    "$$ {#eq-20230107164346}\n",
    "\n",
    "The method proceeds in three steps\n",
    "\n",
    "1. Eq. (@eq-20230107164346) is first expressed for $\\hat{u} \\in W$ which leads to a definition of $w$ as an implicit function of $\\xi_1, \\ldots, \\xi_m$ and $\\lambda$ (see @sec-20230102030010),\n",
    "2. Eq. (@eq-20230107164346) is then expressed for $\\hat{u} \\in V$ which leads to a definition of $\\lambda$ as an implicit function of $\\xi_1, \\ldots, \\xi_m$ (see @sec-20230102030125),\n",
    "3. finally, a parametrization $\\eta$ of $\\xi_1$, \\dots $\\xi_m$ is introduced and the Taylor expansion of $u$ and $\\lambda$ with respect to $\\eta$ is derived (see @sec-20230102030224)."
   ]
  },
  {
   "cell_type": "markdown",
   "id": "9690388d-06f6-41ab-b84c-071c73f1277e",
   "metadata": {},
   "source": [
    "## Elimination of $w$ {#sec-20230102030010}\n",
    "\n",
    "We first test Eq. (@eq-20230102025737) with $\\hat{w} \\in W$\n",
    "\n",
    "$$\n",
    "\\E_{,u}[u^\\ast(\\lambda) + \\xi_i \\, v_i + w, \\lambda; \\hat{w}] = 0, \\quad \\text{for all} \\quad \\hat{w} \\in W.\n",
    "$$ {#eq-20220825143616}\n",
    "\n",
    "This defines $w$ as an implicit function of $\\xi_1, \\ldots, \\xi_m$ and $\\lambda$. The following asymptotic expansion\n",
    "about $\\xi_1 = \\cdots = \\xi_m = 0$ and $\\lambda = \\lambda_0$ is postulated\n",
    "\n",
    "$$\n",
    "\\begin{aligned}\n",
    "w(\\xi_1, \\ldots, \\xi_m, \\lambda) ={} & \\xi_i \\, w_i + \\bigl( \\lambda - \\lambda_0 \\bigr) \\, w_\\lambda\\\\\n",
    "&+ \\tfrac{1}{2} \\xi_i \\, \\xi_j \\, w_{ij} + \\tfrac{1}{2} \\bigl( \\lambda - \\lambda_0 \\bigr)^2 w_{\\lambda\\lambda} + \\xi_i \\, \\bigl( \\lambda - \\lambda_0 \\bigr) w_{i\\lambda} + \\cdots,\n",
    "\\end{aligned}\n",
    "$$ {#eq-20230107172048}\n",
    "\n",
    "where $w_i$, $w_\\lambda$, $w_{ij}$, $w_{\\lambda\\lambda}$ and $w_{i\\lambda}$ are elements of $W$ to be defined."
   ]
  },
  {
   "cell_type": "raw",
   "id": "30c34bb2-e3aa-4e2c-902a-2ad1c5e03616",
   "metadata": {},
   "source": [
    "::: {.callout-important}"
   ]
  },
  {
   "cell_type": "markdown",
   "id": "b1057c78-274e-4aa8-bee6-0ecfda3491a9",
   "metadata": {},
   "source": [
    "Indicial expressions are somewhat difficult to handle in SymPy, we therefore use a \"trick\"\n",
    "\n",
    "- `ξ` stands for $\\xi_i$,\n",
    "- `w_ξ` stands for $w_i$,\n",
    "- `w_ξξ`stands for $w_{ij}$,\n",
    "- `w_ξλ` stands for $w_{i\\lambda}$.\n",
    "\n",
    "Then expressions such as `ξ * w_ξ` (resp. `ξ^2 * w_ξξ`) should be understood as $\\xi_i \\, w_i$ (resp. $\\xi_i \\, \\xi_j \\, w_{ij}$)."
   ]
  },
  {
   "cell_type": "raw",
   "id": "f138beeb-7e07-4321-9b0d-8d19ed7bc6ac",
   "metadata": {},
   "source": [
    ":::"
   ]
  },
  {
   "cell_type": "code",
   "execution_count": null,
   "id": "bb281fd3-5ade-4d8d-b7b9-b4378376d11b",
   "metadata": {},
   "outputs": [],
   "source": [
    "ξ, w_ξ, w_λ, w_ξξ, w_ξλ, w_λλ = sp.symbols(r\"\\xi w_\\xi w_\\lambda w_{\\xi\\xi} w_{\\xi\\lambda} w_{\\lambda\\lambda}\")\n",
    "w = ξ * w_ξ + λ * w_λ + (ξ**2 * w_ξξ + 2 * ξ * λ * w_ξλ + λ**2 * w_λλ) / 2"
   ]
  },
  {
   "cell_type": "markdown",
   "id": "9ba7befc-7113-4466-908e-5a43d6687364",
   "metadata": {},
   "source": [
    "It will be useful to define the critical point"
   ]
  },
  {
   "cell_type": "code",
   "execution_count": null,
   "id": "ade958ea-8966-4108-96a0-8cf01335bd6f",
   "metadata": {},
   "outputs": [],
   "source": [
    "crit = {ξ: 0, λ: 0}"
   ]
  },
  {
   "cell_type": "markdown",
   "id": "25cfcd4d-3732-440f-a8dd-ee773f615add",
   "metadata": {},
   "source": [
    "Eq. (@eq-20230107172048) is plugged into Eq. (@eq-20220825143616), which then delivers an asymptotic expansion of the stationarity equation. We will nullify the terms of order up to 2 in $\\xi_i$ and $\\lambda$."
   ]
  },
  {
   "cell_type": "code",
   "execution_count": null,
   "id": "48ab17d7-6c1e-4d1a-84b8-6c18ba54ff99",
   "metadata": {},
   "outputs": [],
   "source": [
    "res_w = res.subs({u_hat: w_hat, u: u_star + ξ * v + w}).expand()"
   ]
  },
  {
   "cell_type": "markdown",
   "id": "6f550b36-5628-49fe-b24d-f4a2e8bc9e13",
   "metadata": {},
   "source": [
    "We can then nullify the various coefficients of this polynomial expansion, starting with the $\\xi_i$ terms"
   ]
  },
  {
   "cell_type": "code",
   "execution_count": null,
   "id": "c1082dd2-4013-4901-9103-a5833ebd3db2",
   "metadata": {},
   "outputs": [],
   "source": [
    "eq = sp.Eq(simplify_E2(res_w.coeff(ξ)), 0).subs(crit)\n",
    "display(eq)"
   ]
  },
  {
   "cell_type": "markdown",
   "id": "c677ed6b-2368-4503-b097-c73a069fd4a3",
   "metadata": {},
   "source": [
    "which should be understood as\n",
    "\n",
    "$$\n",
    "\\E_2(w_i, \\hat{w}) = 0 \\quad \\text{for all} \\quad \\hat{w} \\in W.\n",
    "$$\n",
    "\n",
    "As argued in @sec-20230107173921, this leads to $w_i = 0$. We now consider the $\\lambda$ term"
   ]
  },
  {
   "cell_type": "code",
   "execution_count": null,
   "id": "137b65cb-7f50-4df4-bc26-631df51460a1",
   "metadata": {},
   "outputs": [],
   "source": [
    "eq = sp.Eq(simplify_E2(res_w.coeff(λ)), 0).subs(crit)\n",
    "display(eq)"
   ]
  },
  {
   "cell_type": "markdown",
   "id": "baba5f66-9e3f-45d6-9f8c-3296723d8049",
   "metadata": {},
   "source": [
    "Which sould be understood as\n",
    "\n",
    "$$\n",
    "\\E_2(w_\\lambda, \\hat{w}) = 0 \\quad \\text{for all} \\quad \\hat{w} \\in W.\n",
    "$$\n",
    "\n",
    "This again leads to $w_\\lambda = 0$. The $\\lambda^2$ term again delivers then vanishes automatically.\n",
    "\n",
    "$$\n",
    "\\E_2(w_{\\lambda\\lambda}, \\hat{w}) = 0 \\quad \\text{for all} \\quad \\hat{w} \\in W,\n",
    "$$\n",
    "\n",
    "from which it results that $w_{\\lambda\\lambda} = 0$"
   ]
  },
  {
   "cell_type": "code",
   "execution_count": null,
   "id": "5c2cb739-1e50-4da6-8e64-dc0effef893f",
   "metadata": {},
   "outputs": [],
   "source": [
    "assert 2 * res_w.coeff(λ, 2).subs(crit).subs(w_λ, 0).expand() == E2 * w_λλ * w_hat"
   ]
  },
  {
   "cell_type": "markdown",
   "id": "71b28c46-ff72-49ee-822c-ff43f0148852",
   "metadata": {},
   "source": [
    "The $\\xi_i \\, \\xi_j$ terms deliver the following equations"
   ]
  },
  {
   "cell_type": "code",
   "execution_count": null,
   "id": "55597915-a3af-434d-906a-b4d40cef0ef6",
   "metadata": {},
   "outputs": [],
   "source": [
    "(eq_w_ξξ := sp.Eq(2 * res_w.coeff(ξ, 2), 0).subs(crit).subs(w_ξ, 0).expand())"
   ]
  },
  {
   "cell_type": "markdown",
   "id": "730aff01-141c-445b-b5c7-a4fbe012cf41",
   "metadata": {},
   "source": [
    "The above equation should be understood as the following variational problem: find $w_{ij} \\in W$ such that\n",
    "\n",
    "$$\n",
    "\\E_2(w_{ij}, \\hat{w}) + \\E_3(v_i, v_j, \\hat{w}) = 0 \\quad \\text{for all} \\quad \\hat{w} \\in W,\n",
    "$$ {#eq-20230107180410}\n",
    "\n",
    "which defines uniquely the $w_{ij}$. Finally, the $\\xi_i \\, \\lambda$ terms deliver the following variational problem"
   ]
  },
  {
   "cell_type": "code",
   "execution_count": null,
   "id": "7acd425f-b71d-406e-91f7-5eafe181de89",
   "metadata": {},
   "outputs": [],
   "source": [
    "(eq_w_ξλ := sp.Eq(res_w.coeff(ξ).coeff(λ), 0).subs(crit).subs({w_ξ: 0, w_λ: 0}).expand())"
   ]
  },
  {
   "cell_type": "markdown",
   "id": "38699dbd-63eb-4b4c-b217-3f73efe705d6",
   "metadata": {},
   "source": [
    "In other words: find $w_{i\\lambda} \\in W$ such that\n",
    "\n",
    "$$\n",
    "\\E_2(w_{i\\lambda}, \\hat{w}) + \\dot{\\E}_2(v_i, \\hat{w}) = 0 \\quad \\text{for all} \\quad \\hat{w} \\in W,\n",
    "$$ {#eq-20230107180501}\n",
    "\n",
    "which again defines $w_{i\\lambda}$ uniquely."
   ]
  },
  {
   "cell_type": "markdown",
   "id": "00596639-6600-440a-a91f-01394ae55482",
   "metadata": {},
   "source": [
    "As a conclusion, it has been shown that $w_1 = \\cdots = w_m = w_\\lambda = w_{\\lambda\\lambda} = 0$. The Taylor expansion of $w$ therefore reduces to\n",
    "\n",
    "$$\n",
    "w(\\xi_1, \\ldots, \\xi_m, \\lambda) = \\tfrac{1}{2} \\xi_i \\, \\xi_j \\, w_{ij} + \\xi_i \\, \\bigl( \\lambda - \\lambda_0 \\bigr) w_{i\\lambda} + \\cdots,\n",
    "$$\n",
    "\n",
    "where $w_{ij}$ and $w_{i\\lambda}$ are the solutions to the variational problems (@eq-20230107180410) and (@eq-20230107180501), respectively."
   ]
  },
  {
   "cell_type": "markdown",
   "id": "28d672a7-bee9-4295-9984-ecc517f11a81",
   "metadata": {},
   "source": [
    "## Elimination of $\\lambda$ {#sec-20230102030125}\n",
    "\n",
    "We now test Eq. (@eq-20230102025737) with $\\hat{v} \\in V$\n",
    "\n",
    "$$\n",
    "\\E_{,u}[u^\\ast(\\lambda) + \\xi_i \\, v_i + w(\\xi_1, \\ldots, \\xi_m, \\lambda), \\lambda; \\hat{v}] = 0, \\quad \\text{for all} \\quad \\hat{v} \\in W.\n",
    "$$ {#eq-20230110092313}\n",
    "\n",
    "This now defines $\\lambda$ as an implicit function of $\\xi_1, \\ldots, \\xi_m$. The following asymptotic expansion\n",
    "about $\\xi_1 = \\cdots = \\xi_m = 0$ is postulated\n",
    "\n",
    "$$\n",
    "\\lambda(\\xi_1, \\ldots, \\xi_m) = \\xi_i \\, \\lambda_i + \\tfrac{1}{2} \\, \\xi_i \\, \\xi_j \\, \\lambda_{ij}\\\\\n",
    "$$ {#eq-20230110091031}\n",
    "\n",
    "where $\\lambda_i$ and $\\lambda_{ij}$ are scalar coefficients to be defined."
   ]
  },
  {
   "cell_type": "raw",
   "id": "21ae837f-5728-4e98-96f7-3b2ef0f4b85e",
   "metadata": {},
   "source": [
    "::: {.callout-important}"
   ]
  },
  {
   "cell_type": "markdown",
   "id": "b2b167be-a7bf-4c5d-9414-7d46f6747c37",
   "metadata": {},
   "source": [
    "As mentioned above, handling of indicial expressions is a bit awkward in [SymPy](https://www.sympy.org/). Therefore, we define well-formed products such as $\\lambda_i \\, \\xi_i$ or $\\lambda_{ij} \\, \\xi_i \\, \\xi_j$ as *fully parenthesized symbols*.\n",
    "\n",
    "The auxiliary variable `t` records the order of each term with respect to the $\\xi_1, \\ldots, \\xi_m$."
   ]
  },
  {
   "cell_type": "code",
   "execution_count": null,
   "id": "dd3af8f3-c36f-4685-9bab-b6efd35f4b34",
   "metadata": {},
   "outputs": [],
   "source": [
    "t = sp.Symbol(\"t\")"
   ]
  },
  {
   "cell_type": "raw",
   "id": "8bbeddcc-f9ac-472d-806e-39414eb298df",
   "metadata": {},
   "source": [
    ":::"
   ]
  },
  {
   "cell_type": "markdown",
   "id": "9bea4508-799e-48b5-96fd-b7e8d0b4a0b6",
   "metadata": {},
   "source": [
    "We first introduce the asymptotic expansion, of $(\\xi_1, \\ldots, \\xi_m, \\lambda) \\mapsto w(\\xi_1, \\ldots, \\xi_m, \\lambda)$, $(\\xi_1, \\ldots, \\xi_m) \\mapsto \\lambda(\\xi_1, \\ldots, \\xi_m)$ and finally $(\\xi_1, \\ldots, \\xi_m) \\mapsto u(\\xi_1, \\ldots, \\xi_m)$ see Eqs. (@eq-20230107172048), (@eq-20230110091031) and (@eq-20220902174235)."
   ]
  },
  {
   "cell_type": "code",
   "execution_count": null,
   "id": "545d556b-f08b-42d3-9a1d-b1cb92d8c977",
   "metadata": {},
   "outputs": [],
   "source": [
    "w_bif = (t * λ * sp.Symbol(r\"\\bigl(\\xi_k\\,w_{k\\lambda}\\bigr)\") \n",
    "         + t **2 / 2 * sp.Symbol(r\"\\bigl(\\xi_i\\,\\xi_j\\,w_{ij}\\bigr)\"))\n",
    "\n",
    "λ_bif = (t * sp.Symbol(r\"\\bigl(\\xi_{p}\\,\\lambda_{p}\\bigr)\")\n",
    "         + t**2 / 2 * sp.Symbol(r\"\\bigl(\\xi_m\\,\\xi_n\\,\\lambda_{mn}\\bigr)\"))\n",
    "\n",
    "u_bif = u_star + t * sp.Symbol(r\"\\bigl(\\xi_{l}\\,v_{l}\\bigr)\") + w_bif"
   ]
  },
  {
   "cell_type": "code",
   "execution_count": null,
   "id": "1b3473db-597f-4f18-a71c-02a270e91cbe",
   "metadata": {},
   "outputs": [],
   "source": [
    "#| code-fold: true\n",
    "display_latex_equation(r\"w(\\xi_1, \\ldots, \\xi_m, \\lambda)\", w_bif)\n",
    "display_latex_equation(r\"\\lambda(\\xi_1, \\ldots, \\xi_m)\", λ_bif)\n",
    "display_latex_equation(r\"u(\\xi_1, \\ldots, \\xi_m)\", u_bif)"
   ]
  },
  {
   "cell_type": "markdown",
   "id": "4990bb66-f958-436b-9505-4b29bdc1839a",
   "metadata": {},
   "source": [
    "The above expansions are plugged in the general expression of $\\E_{,u}(u, \\lambda; \\bullet)$ and tested with $\\hat{v} \\in V$, see Eq. (@eq-20230110092313)."
   ]
  },
  {
   "cell_type": "code",
   "execution_count": null,
   "id": "79e9afe3-5137-41b8-8e17-f3b3c4dde389",
   "metadata": {},
   "outputs": [],
   "source": [
    "res_v = res.subs(u_hat, v_hat).subs(u, u_bif).subs(λ, λ_bif).expand()"
   ]
  },
  {
   "cell_type": "raw",
   "id": "86f0bc75-0431-4c7c-a4f0-765906da2de0",
   "metadata": {},
   "source": [
    "::: {.callout-note}"
   ]
  },
  {
   "cell_type": "markdown",
   "id": "1192bfbf-a80a-490f-8736-5ccb5c46b65f",
   "metadata": {},
   "source": [
    "We used three consecutive `subs()` rather than one big dictionary substitution for better control on the *order* of the substitutions. Indeed, we must make sure `λ_bif` is also plugged into `u_bif`. "
   ]
  },
  {
   "cell_type": "raw",
   "id": "2924936f-9074-4ad1-bdb0-22e98ee43f0f",
   "metadata": {},
   "source": [
    ":::"
   ]
  },
  {
   "cell_type": "markdown",
   "id": "58c8c6f8-4ce4-48c0-9f79-bd933697e7fd",
   "metadata": {},
   "source": [
    "We get an asymptotic expansion of the residual with respect to $\\xi_1, \\ldots, \\xi_m$. This residual must vanish for all $\\xi_i$ sufficiently small. Therefore, all coefficients of the expansion `res_v` must be nullified at all orders and for all $\\xi_i$ sufficiently small. Consiering the expansion up to third order, we get after simplification only *two* bifurcation equations, since the terms of order 0 and 1 are identically null."
   ]
  },
  {
   "cell_type": "code",
   "execution_count": null,
   "id": "825ee24b-f884-46fc-9dc2-edfbc69840c5",
   "metadata": {},
   "outputs": [],
   "source": [
    "coeffs = [simplify_E2(res_v.coeff(t, k)) for k in range(4)]\n",
    "    \n",
    "assert coeffs[0] == 0\n",
    "assert coeffs[1] == 0"
   ]
  },
  {
   "cell_type": "code",
   "execution_count": null,
   "id": "8b7d4ad5-4a94-4344-8a49-2d5af4e77840",
   "metadata": {},
   "outputs": [],
   "source": [
    "#| code-fold: true\n",
    "for coeff in coeffs[2:]:\n",
    "    display_latex_equation(coeff, 0)"
   ]
  },
  {
   "cell_type": "markdown",
   "id": "2847c3c0",
   "metadata": {},
   "source": [
    "The above bifurcation equations should be understood as follows\n",
    "$$\n",
    "\\xi_j \\, \\xi_k \\, \\bigl[\n",
    "\\tfrac{1}{2} \\E_3(v_j, v_k, \\hat{v})\n",
    "+ \\lambda_k \\, \\dot{\\E}_2(v_j, \\hat{v})\n",
    "\\bigr] = 0\n",
    "$$ {#eq-20230115101130}\n",
    "and\n",
    "$$\n",
    "\\begin{aligned}[b]\n",
    "\\xi_j \\, \\xi_k \\, \\xi_l \\, \\bigl[\n",
    "\\tfrac{1}{2} \\E_3(v_j, w_{kl}, \\hat{v})\n",
    "+ \\lambda_l \\, \\E_3(v_j, w_{k\\lambda}, \\hat{v})\n",
    "+ \\tfrac{1}{6} \\E_4(v_j, v_k, v_l, \\hat{v}) &\\\\\n",
    "+ \\tfrac{1}{2} \\lambda_l \\, \\dot{\\E}_2(w_{jk}, \\hat{v})\n",
    "+ \\lambda_k \\, \\lambda_l \\, \\dot{\\E}_2(w_{j\\lambda}, \\hat{v})\n",
    "+ \\tfrac{1}{2} \\lambda_{kl} \\, \\dot{\\E}_2(v_j, \\hat{v}) &\\\\\n",
    "+ \\tfrac{1}{2} \\lambda_l \\, \\dot{\\E}_3(v_j, v_k, \\hat{v})\n",
    "+ \\tfrac{1}{2} \\lambda_k \\, \\lambda_l \\, \\ddot{\\E}_2(v_j, \\hat{v})\n",
    "\\bigr] &= 0.\n",
    "\\end{aligned}\n",
    "$$ {#eq-20230115101147}"
   ]
  },
  {
   "cell_type": "markdown",
   "id": "20ccbf48",
   "metadata": {},
   "source": [
    "Note that these equations are in fact *asymptotic expansions*. As such, they should hold for all $\\xi_1, \\ldots, \\xi_m$ sufficiently small. Since both equations are homogeneous in $\\xi_1, \\ldots, \\xi_m$, it is equivalent to require these to hold for all $\\xi_1, \\ldots, \\xi_m \\in \\reals$. "
   ]
  }
 ],
 "metadata": {
  "kernelspec": {
   "display_name": "Python 3 (ipykernel)",
   "language": "python",
   "name": "python3"
  },
  "language_info": {
   "codemirror_mode": {
    "name": "ipython",
    "version": 3
   },
   "file_extension": ".py",
   "mimetype": "text/x-python",
   "name": "python",
   "nbconvert_exporter": "python",
   "pygments_lexer": "ipython3",
   "version": "3.9.15"
  },
  "toc-autonumbering": false,
  "toc-showtags": false
 },
 "nbformat": 4,
 "nbformat_minor": 5
}
