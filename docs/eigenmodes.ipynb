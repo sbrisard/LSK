{
 "cells": [
  {
   "cell_type": "markdown",
   "id": "a38d37ad-8754-4980-8562-4190541c9499",
   "metadata": {},
   "source": [
    "This notebook uses $\\LaTeX\\newcommand{\\D}{\\mathrm{d}}\\newcommand{\\E}{\\mathcal{E}}\\newcommand{\\order}[2][1]{#2^{(#1)}}\\newcommand{\\reals}{\\mathbb{R}}$ custom macros."
   ]
  },
  {
   "cell_type": "code",
   "execution_count": 166,
   "id": "106d67c6-0df7-4668-b05e-3422bc794e85",
   "metadata": {},
   "outputs": [],
   "source": [
    "import lsk\n",
    "from sympy import *"
   ]
  },
  {
   "cell_type": "code",
   "execution_count": 167,
   "id": "5e74d13a-5749-4d24-b613-8d7b1c2535e4",
   "metadata": {},
   "outputs": [],
   "source": [
    "η = Symbol(r\"\\eta\")\n",
    "λ1 = Symbol(r\"{\\order[1]{\\lambda}}\")\n",
    "λ2 = Symbol(\"{\\order[2]{\\lambda}}\")"
   ]
  },
  {
   "cell_type": "code",
   "execution_count": 168,
   "id": "4bc1d3d7-0a12-4aab-94eb-795e3ae635f7",
   "metadata": {},
   "outputs": [],
   "source": [
    "E2, E3, E4, E2_dot, E3_dot, E2_ddot = symbols(r\"\\E_2 \\E_3 \\E_4 \\dot{\\E}_2 \\dot{\\E}_3 \\ddot{\\E}_2\")"
   ]
  },
  {
   "cell_type": "code",
   "execution_count": 169,
   "id": "6bb9b96f-1cd7-497b-8395-d301b0eccc8e",
   "metadata": {},
   "outputs": [],
   "source": [
    "E_uu = E2 + η * (E3 * u1 + λ1 * E2_dot) + η**2 / 2 * (E4 * u1 * u1 + E3 * u2 + 2 * λ1 * E3_dot * u1 + λ1 ** 2 * E2_ddot + λ2 * E2_dot)"
   ]
  },
  {
   "cell_type": "code",
   "execution_count": 170,
   "id": "6f7d2e1b-4050-4b12-8662-53008db438db",
   "metadata": {},
   "outputs": [
    {
     "data": {
      "text/latex": [
       "$\\displaystyle \\E_{,uu}=\\E_{2} + \\frac{\\eta^{2} \\left(\\E_{3} \\left(2 {\\order[1]{\\lambda}} {\\order[1]{\\xi}}_{Idx\\left(i_{5}\\right)} {w}_{Idx\\left(i_{5}\\right)} + {\\order[1]{\\xi}}_{Idx\\left(i_{3}\\right)} {\\order[1]{\\xi}}_{Idx\\left(i_{4}\\right)} {w}_{Idx\\left(i_{3}\\right),Idx\\left(i_{4}\\right)} + {\\order[2]{\\xi}}_{Idx\\left(i_{2}\\right)} {v}_{Idx\\left(i_{2}\\right)}\\right) + \\E_{4} {\\order[1]{\\xi}}_{Idx\\left(i_{1}\\right)}^{2} {v}_{Idx\\left(i_{1}\\right)}^{2} + \\ddot{\\E}_2 {\\order[1]{\\lambda}}^{2} + \\dot{\\E}_2 {\\order[2]{\\lambda}} + 2 \\dot{\\E}_3 {\\order[1]{\\lambda}} {\\order[1]{\\xi}}_{Idx\\left(i_{1}\\right)} {v}_{Idx\\left(i_{1}\\right)}\\right)}{2} + \\eta \\left(\\E_{3} {\\order[1]{\\xi}}_{Idx\\left(i_{1}\\right)} {v}_{Idx\\left(i_{1}\\right)} + \\dot{\\E}_2 {\\order[1]{\\lambda}}\\right)$"
      ],
      "text/plain": [
       "<IPython.core.display.Math object>"
      ]
     },
     "metadata": {},
     "output_type": "display_data"
    }
   ],
   "source": [
    "#| code-fold: true\n",
    "lsk.display_latex_equation(r\"\\E_{,uu}\", E_uu)"
   ]
  },
  {
   "cell_type": "code",
   "execution_count": 160,
   "id": "55ff80c0-6ac8-4731-bbb0-d5a17006df07",
   "metadata": {},
   "outputs": [],
   "source": [
    "v, w, ξ1, ξ2, χ0, χ1 = map(IndexedBase, [\"v\", \"w\", r\"\\order[1]{\\xi}\", r\"\\order[2]{\\xi}\", r\"\\order[0]{\\chi}\", r\"\\order[1]{\\chi}\"])                                 "
   ]
  },
  {
   "cell_type": "code",
   "execution_count": 150,
   "id": "51d5809b-161a-4792-b439-f80bdf412b0f",
   "metadata": {},
   "outputs": [],
   "source": [
    "u_hat = Symbol(r\"\\hat{u}\")"
   ]
  },
  {
   "cell_type": "code",
   "execution_count": 154,
   "id": "d2b2a774-6371-4a18-ae55-1aede9653c05",
   "metadata": {},
   "outputs": [],
   "source": [
    "i1, i2, i3, i4, i5 = map(Idx, [\"i_1\", \"i_2\", \"i_3\", \"i_4\", \"i_5\"])\n",
    "u1 = ξ1[i1] * v[i1]\n",
    "u2 = ξ2[i2] * v[i2] + ξ1[i3] * ξ1[i4] * w[i3, i4] + 2 * λ1 * ξ1[i5] * w[i5]"
   ]
  },
  {
   "cell_type": "code",
   "execution_count": 155,
   "id": "d25e9a0a-f61a-4a6d-83bb-7f75b10a889e",
   "metadata": {},
   "outputs": [
    {
     "data": {
      "text/latex": [
       "$\\displaystyle \\begin{align}\\order[1]{u}&={\\order[1]{\\xi}}_{Idx\\left(i_{1}\\right)} {v}_{Idx\\left(i_{1}\\right)}\\\\\\order[2]{u}&=2 {\\order[1]{\\lambda}} {\\order[1]{\\xi}}_{Idx\\left(i_{5}\\right)} {w}_{Idx\\left(i_{5}\\right)} + {\\order[1]{\\xi}}_{Idx\\left(i_{3}\\right)} {\\order[1]{\\xi}}_{Idx\\left(i_{4}\\right)} {w}_{Idx\\left(i_{3}\\right),Idx\\left(i_{4}\\right)} + {\\order[2]{\\xi}}_{Idx\\left(i_{2}\\right)} {v}_{Idx\\left(i_{2}\\right)}\\\\\\end{align}$"
      ],
      "text/plain": [
       "<IPython.core.display.Math object>"
      ]
     },
     "metadata": {},
     "output_type": "display_data"
    }
   ],
   "source": [
    "#| code-fold: true\n",
    "lsk.display_latex_dict({r\"\\order[1]{u}\": u1,\n",
    "                        r\"\\order[2]{u}\": u2}, num_cols=1)"
   ]
  },
  {
   "cell_type": "markdown",
   "id": "4e8d49cd-3236-4351-a6ba-f5ac38b5494d",
   "metadata": {},
   "source": [
    "## Variational problem of order 0\n",
    "\n",
    "The problem reads: find $\\order[0]x \\in U$ and $\\order[0]\\alpha\\in\\reals$ such that, for all $\\hat{u} \\in U$\n",
    "$$\n",
    "\\E_2(\\order[0]x, \\hat{u}) = \\order[0]\\alpha \\langle \\order[0]x, \\hat{u} \\rangle.\n",
    "$$\n",
    "\n",
    "The above equation shows that $(\\order[0]\\alpha, \\order[0]x)$ is an eigenpair of $\\E_2$. Since $\\E_2$ is positive, $\\order[0]\\alpha \\geq 0$. If $\\order[0]\\alpha > 0$, then $\\alpha > 0$ in the neighborhood of $\\lambda_0$, and the eigenmode is stable. Potentially unstable modes are therefore such that\n",
    "$\\order[0]\\alpha=0$. In other words, the lowest-order $\\order[0]x$ belongs to $V$ and can be expressed as a linear combination of the $v_i$\n",
    "$$\n",
    "\\order[0]x = \\order[0]{\\chi_i} \\, v_i.\n",
    "$$ {#eq-20230517063503}"
   ]
  },
  {
   "cell_type": "code",
   "execution_count": 156,
   "id": "aab052a5-bbbf-4ed3-be90-0fa8653fba82",
   "metadata": {},
   "outputs": [],
   "source": [
    "i6 = Idx(\"i_6\")\n",
    "α0 = 0\n",
    "x0 = χ0[i6] * v[i6]"
   ]
  },
  {
   "cell_type": "code",
   "execution_count": 157,
   "id": "d914d8b5-3d49-425d-a7df-fb53f3d0dcce",
   "metadata": {},
   "outputs": [
    {
     "data": {
      "text/latex": [
       "$\\displaystyle \\order[0]x={\\order[0]{\\chi}}_{Idx\\left(i_{6}\\right)} {v}_{Idx\\left(i_{6}\\right)}$"
      ],
      "text/plain": [
       "<IPython.core.display.Math object>"
      ]
     },
     "metadata": {},
     "output_type": "display_data"
    }
   ],
   "source": [
    "#| code-fold: true\n",
    "lsk.display_latex_equation(r\"\\order[0]x\", x0)"
   ]
  },
  {
   "cell_type": "markdown",
   "id": "806cdbce-5a5c-4890-8947-89a99dc71ab5",
   "metadata": {},
   "source": [
    "$\\order[1]x$ is decomposed as the sum of its projections onto $V$ and $W$: $\\order[1]x = \\order[1]{\\chi_i} \\, v_i + \\order[1]{y}$, where $\\order[1]y \\in W$. "
   ]
  },
  {
   "cell_type": "code",
   "execution_count": 161,
   "id": "ad1504cb-fe43-40e1-b8fa-c26b2ee1b453",
   "metadata": {},
   "outputs": [],
   "source": [
    "i7 = Idx(\"i_7\")\n",
    "α1 = Symbol(r\"\\order[1]{\\alpha}\")\n",
    "y1 = Symbol(r\"\\order[1]{y}\")\n",
    "x1 = χ1[i7] * v[i7] + y1"
   ]
  },
  {
   "cell_type": "code",
   "execution_count": 162,
   "id": "294fe6d3-8877-4411-8c8c-73fdcd5dcda7",
   "metadata": {},
   "outputs": [
    {
     "data": {
      "text/latex": [
       "$\\displaystyle \\order[1]x=\\order[1]{y} + {\\order[1]{\\chi}}_{Idx\\left(i_{7}\\right)} {v}_{Idx\\left(i_{7}\\right)}$"
      ],
      "text/plain": [
       "<IPython.core.display.Math object>"
      ]
     },
     "metadata": {},
     "output_type": "display_data"
    }
   ],
   "source": [
    "#| code-fold: true\n",
    "lsk.display_latex_equation(r\"\\order[1]x\", x1)"
   ]
  },
  {
   "cell_type": "code",
   "execution_count": 163,
   "id": "575a3399-fb25-4489-b78b-1e2f347a65d3",
   "metadata": {},
   "outputs": [],
   "source": [
    "α = α0 + η * α1\n",
    "x = x0 + η * x1"
   ]
  },
  {
   "cell_type": "code",
   "execution_count": 164,
   "id": "7e1d02e5-bbf8-471c-a35f-71e48c85a8aa",
   "metadata": {},
   "outputs": [],
   "source": [
    "lhs = expand(E_uu * x * u_hat).coeff(η, 1)\n",
    "rhs = expand(α * x * u_hat).coeff(η, 1) "
   ]
  },
  {
   "cell_type": "code",
   "execution_count": 165,
   "id": "9c6250ce-6868-4d15-afec-3947e4e78188",
   "metadata": {},
   "outputs": [
    {
     "data": {
      "text/latex": [
       "$\\displaystyle \\E_{2} \\hat{u} \\order[1]{y} + \\E_{2} \\hat{u} {\\order[1]{\\chi}}_{Idx\\left(i_{7}\\right)} {v}_{Idx\\left(i_{7}\\right)} + \\E_{3} \\hat{u} v {\\order[1]{\\xi}} {\\order[0]{\\chi}}_{Idx\\left(i_{6}\\right)} {v}_{Idx\\left(i_{6}\\right)} + \\dot{\\E}_2 \\hat{u} {\\order[1]{\\lambda}} {\\order[0]{\\chi}}_{Idx\\left(i_{6}\\right)} {v}_{Idx\\left(i_{6}\\right)}=\\hat{u} \\order[1]{\\alpha} {\\order[0]{\\chi}}_{Idx\\left(i_{6}\\right)} {v}_{Idx\\left(i_{6}\\right)}$"
      ],
      "text/plain": [
       "<IPython.core.display.Math object>"
      ]
     },
     "metadata": {},
     "output_type": "display_data"
    }
   ],
   "source": [
    "#| code-fold: true\n",
    "lsk.display_latex_equation(lhs, rhs)"
   ]
  },
  {
   "cell_type": "code",
   "execution_count": 43,
   "id": "7674afca-6a4d-494f-84a9-503a7b084a05",
   "metadata": {},
   "outputs": [],
   "source": [
    "y1 = (Symbol(r\"[ \\order[0]{\\chi}_i \\order[1]{\\xi}_j w_{ij} ]\") \n",
    "      + Symbol(r\"[ \\order[1]{\\lambda} \\order[0]{\\chi}_i w_{i\\lambda} ]\"))\n",
    "x1 = Symbol(r\"[ \\order[1]{\\chi}_i v_i ]\") + y1"
   ]
  },
  {
   "cell_type": "code",
   "execution_count": 44,
   "id": "3d308f69-233d-4ed3-9447-d58e1d0cc0c0",
   "metadata": {},
   "outputs": [
    {
     "data": {
      "text/latex": [
       "$\\displaystyle \\order[1]x=[ \\order[0]{\\chi}_i \\order[1]{\\xi}_j w_{ij} ] + [ \\order[1]{\\chi}_i v_i ] + [ \\order[1]{\\lambda} \\order[0]{\\chi}_i w_{i\\lambda} ]$"
      ],
      "text/plain": [
       "<IPython.core.display.Math object>"
      ]
     },
     "metadata": {},
     "output_type": "display_data"
    }
   ],
   "source": [
    "#| code-fold: true\n",
    "lsk.display_latex_equation(r\"\\order[1]x\", x1)"
   ]
  },
  {
   "cell_type": "code",
   "execution_count": 45,
   "id": "45b3c35a-c041-4049-b690-8e0e5136f980",
   "metadata": {},
   "outputs": [],
   "source": [
    "x2 = Symbol(r\"[\\order[2]{x}]\")\n",
    "α2 = Symbol(r\"[\\order[2]{\\alpha}]\")"
   ]
  },
  {
   "cell_type": "code",
   "execution_count": 46,
   "id": "8bc9038b-708a-498f-afaa-507361ab20fd",
   "metadata": {},
   "outputs": [
    {
     "data": {
      "text/latex": [
       "$\\displaystyle [\\order[2]{x}]$"
      ],
      "text/plain": [
       "[\\order[2]{x}]"
      ]
     },
     "execution_count": 46,
     "metadata": {},
     "output_type": "execute_result"
    }
   ],
   "source": [
    "x2"
   ]
  },
  {
   "cell_type": "code",
   "execution_count": 47,
   "id": "71950d7c-8e80-4134-875b-b35f83785bfc",
   "metadata": {},
   "outputs": [],
   "source": [
    "x = x0 + η * x1 + η**2 / 2 * x2"
   ]
  },
  {
   "cell_type": "code",
   "execution_count": 48,
   "id": "70e58829-ce91-45a5-b106-b8ef7baea194",
   "metadata": {},
   "outputs": [
    {
     "data": {
      "text/latex": [
       "$\\displaystyle [\\order[0]{\\chi}_i v_i] + \\frac{[\\order[2]{x}] \\eta^{2}}{2} + \\eta \\left([ \\order[0]{\\chi}_i \\order[1]{\\xi}_j w_{ij} ] + [ \\order[1]{\\chi}_i v_i ] + [ \\order[1]{\\lambda} \\order[0]{\\chi}_i w_{i\\lambda} ]\\right)$"
      ],
      "text/plain": [
       "[\\order[0]{\\chi}_i v_i] + [\\order[2]{x}]*\\eta**2/2 + \\eta*([ \\order[0]{\\chi}_i \\order[1]{\\xi}_j w_{ij} ] + [ \\order[1]{\\chi}_i v_i ] + [ \\order[1]{\\lambda} \\order[0]{\\chi}_i w_{i\\lambda} ])"
      ]
     },
     "execution_count": 48,
     "metadata": {},
     "output_type": "execute_result"
    }
   ],
   "source": [
    "x"
   ]
  },
  {
   "cell_type": "code",
   "execution_count": 49,
   "id": "72f552b0-4ba6-43d2-845c-d64f680aec14",
   "metadata": {},
   "outputs": [
    {
     "data": {
      "text/latex": [
       "$\\displaystyle [\\order[2]{\\alpha}]$"
      ],
      "text/plain": [
       "[\\order[2]{\\alpha}]"
      ]
     },
     "execution_count": 49,
     "metadata": {},
     "output_type": "execute_result"
    }
   ],
   "source": [
    "α2"
   ]
  },
  {
   "cell_type": "code",
   "execution_count": 50,
   "id": "ffafc50b-ea83-4771-8a28-7d723b5ffa1d",
   "metadata": {},
   "outputs": [],
   "source": [
    "α = α0 + η * α1 + η**2 / 2 * α2"
   ]
  },
  {
   "cell_type": "code",
   "execution_count": 51,
   "id": "4fd04c17-52bf-4249-9b32-dd507e654624",
   "metadata": {},
   "outputs": [
    {
     "data": {
      "text/latex": [
       "$\\displaystyle \\frac{[\\order[2]{\\alpha}] \\eta^{2}}{2} + \\eta \\order[1]{\\alpha}$"
      ],
      "text/plain": [
       "[\\order[2]{\\alpha}]*\\eta**2/2 + \\eta*\\order[1]{\\alpha}"
      ]
     },
     "execution_count": 51,
     "metadata": {},
     "output_type": "execute_result"
    }
   ],
   "source": [
    "α"
   ]
  },
  {
   "cell_type": "code",
   "execution_count": 60,
   "id": "181a8816-da6a-418f-b69d-dba383749438",
   "metadata": {},
   "outputs": [],
   "source": [
    "v_k = Symbol(r\"v_k\")\n",
    "\n",
    "lhs = expand(E_uu * x * v_k).coeff(η, 2)"
   ]
  },
  {
   "cell_type": "code",
   "execution_count": 61,
   "id": "0344ab64-9949-40ab-a87d-1bb4967c84d6",
   "metadata": {},
   "outputs": [
    {
     "data": {
      "text/latex": [
       "$\\displaystyle [ \\order[0]{\\chi}_i \\order[1]{\\xi}_j w_{ij} ] [\\order[1]{\\lambda}] \\dot{\\E}_2 v_{k} + [ \\order[0]{\\chi}_i \\order[1]{\\xi}_j w_{ij} ] [\\order[1]{\\xi}_{i} v_{i}] \\E_{3} v_{k} + [ \\order[1]{\\chi}_i v_i ] [\\order[1]{\\lambda}] \\dot{\\E}_2 v_{k} + [ \\order[1]{\\chi}_i v_i ] [\\order[1]{\\xi}_{i} v_{i}] \\E_{3} v_{k} + [ \\order[1]{\\lambda} \\order[0]{\\chi}_i w_{i\\lambda} ] [\\order[1]{\\lambda}] \\dot{\\E}_2 v_{k} + [ \\order[1]{\\lambda} \\order[0]{\\chi}_i w_{i\\lambda} ] [\\order[1]{\\xi}_{i} v_{i}] \\E_{3} v_{k} + \\frac{[\\order[0]{\\chi}_i v_i] [\\order[1]{\\lambda}]^{2} \\ddot{\\E}_2 v_{k}}{2} + [\\order[0]{\\chi}_i v_i] [\\order[1]{\\lambda}] [\\order[1]{\\xi}_{i} v_{i}] \\dot{\\E}_3 v_{k} + [\\order[0]{\\chi}_i v_i] [\\order[1]{\\lambda}] [\\order[1]{\\xi}_{i} w_{i\\lambda}] \\E_{3} v_{k} + \\frac{[\\order[0]{\\chi}_i v_i] [\\order[1]{\\xi}_{i} \\order[1]{\\xi}_{j} w_{ij}] \\E_{3} v_{k}}{2} + \\frac{[\\order[0]{\\chi}_i v_i] [\\order[1]{\\xi}_{i} v_{i}]^{2} \\E_{4} v_{k}}{2} + \\frac{[\\order[0]{\\chi}_i v_i] [\\order[2]{\\lambda}] \\dot{\\E}_2 v_{k}}{2} + \\frac{[\\order[0]{\\chi}_i v_i] [\\order[2]{\\xi}_{i} v_{i}] \\E_{3} v_{k}}{2} + \\frac{[\\order[2]{x}] \\E_{2} v_{k}}{2}$"
      ],
      "text/plain": [
       "[ \\order[0]{\\chi}_i \\order[1]{\\xi}_j w_{ij} ]*[\\order[1]{\\lambda}]*\\dot{\\E}_2*v_k + [ \\order[0]{\\chi}_i \\order[1]{\\xi}_j w_{ij} ]*[\\order[1]{\\xi}_{i} v_{i}]*\\E_3*v_k + [ \\order[1]{\\chi}_i v_i ]*[\\order[1]{\\lambda}]*\\dot{\\E}_2*v_k + [ \\order[1]{\\chi}_i v_i ]*[\\order[1]{\\xi}_{i} v_{i}]*\\E_3*v_k + [ \\order[1]{\\lambda} \\order[0]{\\chi}_i w_{i\\lambda} ]*[\\order[1]{\\lambda}]*\\dot{\\E}_2*v_k + [ \\order[1]{\\lambda} \\order[0]{\\chi}_i w_{i\\lambda} ]*[\\order[1]{\\xi}_{i} v_{i}]*\\E_3*v_k + [\\order[0]{\\chi}_i v_i]*[\\order[1]{\\lambda}]**2*\\ddot{\\E}_2*v_k/2 + [\\order[0]{\\chi}_i v_i]*[\\order[1]{\\lambda}]*[\\order[1]{\\xi}_{i} v_{i}]*\\dot{\\E}_3*v_k + [\\order[0]{\\chi}_i v_i]*[\\order[1]{\\lambda}]*[\\order[1]{\\xi}_{i} w_{i\\lambda}]*\\E_3*v_k + [\\order[0]{\\chi}_i v_i]*[\\order[1]{\\xi}_{i} \\order[1]{\\xi}_{j} w_{ij}]*\\E_3*v_k/2 + [\\order[0]{\\chi}_i v_i]*[\\order[1]{\\xi}_{i} v_{i}]**2*\\E_4*v_k/2 + [\\order[0]{\\chi}_i v_i]*[\\order[2]{\\lambda}]*\\dot{\\E}_2*v_k/2 + [\\order[0]{\\chi}_i v_i]*[\\order[2]{\\xi}_{i} v_{i}]*\\E_3*v_k/2 + [\\order[2]{x}]*\\E_2*v_k/2"
      ]
     },
     "execution_count": 61,
     "metadata": {},
     "output_type": "execute_result"
    }
   ],
   "source": [
    "lhs"
   ]
  },
  {
   "cell_type": "code",
   "execution_count": 62,
   "id": "e4a933a3-6164-476e-9612-26fc8df175c1",
   "metadata": {},
   "outputs": [],
   "source": [
    "rhs = expand(α * x * v_k).coeff(η, 2)"
   ]
  },
  {
   "cell_type": "code",
   "execution_count": 63,
   "id": "411cc040-057b-4327-b1db-3179f38afea7",
   "metadata": {},
   "outputs": [
    {
     "data": {
      "text/latex": [
       "$\\displaystyle [ \\order[0]{\\chi}_i \\order[1]{\\xi}_j w_{ij} ] \\order[1]{\\alpha} v_{k} + [ \\order[1]{\\chi}_i v_i ] \\order[1]{\\alpha} v_{k} + [ \\order[1]{\\lambda} \\order[0]{\\chi}_i w_{i\\lambda} ] \\order[1]{\\alpha} v_{k} + \\frac{[\\order[0]{\\chi}_i v_i] [\\order[2]{\\alpha}] v_{k}}{2}$"
      ],
      "text/plain": [
       "[ \\order[0]{\\chi}_i \\order[1]{\\xi}_j w_{ij} ]*\\order[1]{\\alpha}*v_k + [ \\order[1]{\\chi}_i v_i ]*\\order[1]{\\alpha}*v_k + [ \\order[1]{\\lambda} \\order[0]{\\chi}_i w_{i\\lambda} ]*\\order[1]{\\alpha}*v_k + [\\order[0]{\\chi}_i v_i]*[\\order[2]{\\alpha}]*v_k/2"
      ]
     },
     "execution_count": 63,
     "metadata": {},
     "output_type": "execute_result"
    }
   ],
   "source": [
    "rhs"
   ]
  },
  {
   "cell_type": "code",
   "execution_count": 84,
   "id": "2168c127-3e28-489d-803b-f75c2d5a908a",
   "metadata": {},
   "outputs": [],
   "source": [
    "η = Symbol(r\"\\eta\")\n",
    "λ1, λ2 = symbols(r\"{\\order[1]{\\lambda}} {\\order[2]{\\lambda}}\")"
   ]
  },
  {
   "cell_type": "code",
   "execution_count": 99,
   "id": "d85970b6-f8dd-4ce4-904d-537a0294c3b2",
   "metadata": {},
   "outputs": [],
   "source": [
    "ξ1, ξ2 = symbols(r\"{\\order[1]{\\xi}} {\\order[2]{\\xi}}\")\n",
    "χ0, χ1 = symbols(r\"{\\order[0]{\\chi}} {\\order[1]{\\chi}}\")\n",
    "α0, α1, α2 = symbols(r\"{\\order[0]{\\alpha}} {\\order[1]{\\alpha}} {\\order[2]{\\alpha}}\")\n",
    "v, w_ξξ, w_ξλ = symbols(r\"v w_{\\xi\\xi} w_{\\xi\\lambda}\")"
   ]
  },
  {
   "cell_type": "code",
   "execution_count": 94,
   "id": "85f8e6ac-2127-4bd0-abcf-f119902252da",
   "metadata": {},
   "outputs": [],
   "source": [
    "u1 = ξ1 * v\n",
    "u2 = ξ2 * v + ξ1 * ξ1 * w_ξξ + 2 * λ1 * ξ1 * w_ξλ"
   ]
  },
  {
   "cell_type": "code",
   "execution_count": 95,
   "id": "6778aaab-a076-4204-a704-5b7dffadf1a6",
   "metadata": {},
   "outputs": [
    {
     "data": {
      "text/latex": [
       "$\\displaystyle v {\\order[2]{\\xi}} + 2 w_{\\xi\\lambda} {\\order[1]{\\lambda}} {\\order[1]{\\xi}} + w_{\\xi\\xi} {\\order[1]{\\xi}}^{2}$"
      ],
      "text/plain": [
       "v*{\\order[2]{\\xi}} + 2*w_{\\xi\\lambda}*{\\order[1]{\\lambda}}*{\\order[1]{\\xi}} + w_{\\xi\\xi}*{\\order[1]{\\xi}}**2"
      ]
     },
     "execution_count": 95,
     "metadata": {},
     "output_type": "execute_result"
    }
   ],
   "source": [
    "u2"
   ]
  },
  {
   "cell_type": "code",
   "execution_count": 96,
   "id": "c14eac83-701b-432c-b8b8-9c3558dbe852",
   "metadata": {},
   "outputs": [],
   "source": [
    "E2, E3, E4, E2_dot, E3_dot, E2_ddot = symbols(r\"\\E_2 \\E_3 \\E_4 \\dot{\\E}_2 \\dot{\\E}_3 \\ddot{\\E}_2\")"
   ]
  },
  {
   "cell_type": "code",
   "execution_count": 97,
   "id": "143ecddb-ac30-4479-8d39-a10e0e2d0ba6",
   "metadata": {},
   "outputs": [],
   "source": [
    "E_uu = E2 + η * (E3 * u1 + λ1 * E2_dot) + η**2 / 2 * (E4 * u1 * u1 + E3 * u2 + 2 * λ1 * E3_dot * u1 + λ1 ** 2 * E2_ddot + λ2 * E2_dot)"
   ]
  },
  {
   "cell_type": "code",
   "execution_count": 98,
   "id": "cb429b2c-f424-4593-a101-abff8843b9e3",
   "metadata": {},
   "outputs": [
    {
     "data": {
      "text/latex": [
       "$\\displaystyle \\E_{2} + \\frac{\\E_{3} \\eta^{2} v {\\order[2]{\\xi}}}{2} + \\E_{3} \\eta^{2} w_{\\xi\\lambda} {\\order[1]{\\lambda}} {\\order[1]{\\xi}} + \\frac{\\E_{3} \\eta^{2} w_{\\xi\\xi} {\\order[1]{\\xi}}^{2}}{2} + \\E_{3} \\eta v {\\order[1]{\\xi}} + \\frac{\\E_{4} \\eta^{2} v^{2} {\\order[1]{\\xi}}^{2}}{2} + \\frac{\\ddot{\\E}_2 \\eta^{2} {\\order[1]{\\lambda}}^{2}}{2} + \\frac{\\dot{\\E}_2 \\eta^{2} {\\order[2]{\\lambda}}}{2} + \\dot{\\E}_2 \\eta {\\order[1]{\\lambda}} + \\dot{\\E}_3 \\eta^{2} v {\\order[1]{\\lambda}} {\\order[1]{\\xi}}$"
      ],
      "text/plain": [
       "\\E_2 + \\E_3*\\eta**2*v*{\\order[2]{\\xi}}/2 + \\E_3*\\eta**2*w_{\\xi\\lambda}*{\\order[1]{\\lambda}}*{\\order[1]{\\xi}} + \\E_3*\\eta**2*w_{\\xi\\xi}*{\\order[1]{\\xi}}**2/2 + \\E_3*\\eta*v*{\\order[1]{\\xi}} + \\E_4*\\eta**2*v**2*{\\order[1]{\\xi}}**2/2 + \\ddot{\\E}_2*\\eta**2*{\\order[1]{\\lambda}}**2/2 + \\dot{\\E}_2*\\eta**2*{\\order[2]{\\lambda}}/2 + \\dot{\\E}_2*\\eta*{\\order[1]{\\lambda}} + \\dot{\\E}_3*\\eta**2*v*{\\order[1]{\\lambda}}*{\\order[1]{\\xi}}"
      ]
     },
     "execution_count": 98,
     "metadata": {},
     "output_type": "execute_result"
    }
   ],
   "source": [
    "E_uu.expand()"
   ]
  },
  {
   "cell_type": "code",
   "execution_count": 100,
   "id": "57d2a440-b68c-4169-99c5-aa7b6abaf9cd",
   "metadata": {},
   "outputs": [],
   "source": [
    "α0 = 0\n",
    "α = α0 + η * α1 + η**2 / 2 * α2"
   ]
  },
  {
   "cell_type": "code",
   "execution_count": 120,
   "id": "2acb0b77-c6e8-430b-b24c-fb31ea175634",
   "metadata": {},
   "outputs": [],
   "source": [
    "x0 = χ0 * v\n",
    "y1 = Symbol(r\"{\\order[1]{y}}\")\n",
    "x1 = χ1 * v + y1\n",
    "x = x0 + η * x1 + η**2 / 2 * x2"
   ]
  },
  {
   "cell_type": "code",
   "execution_count": 121,
   "id": "389b40bc-1242-4a58-9bf0-a0781d323921",
   "metadata": {},
   "outputs": [],
   "source": [
    "lhs = (E_uu * x * u_hat).expand().coeff(η, 1)\n",
    "rhs = (α * x * u_hat).expand().coeff(η, 1)"
   ]
  },
  {
   "cell_type": "code",
   "execution_count": 122,
   "id": "a84b2360-c69a-43e8-b9a8-9f9a70b13fbf",
   "metadata": {},
   "outputs": [
    {
     "data": {
      "text/latex": [
       "$\\displaystyle \\E_{2} \\hat{u} v {\\order[1]{\\chi}} + \\E_{2} \\hat{u} {\\order[1]{y}} + \\E_{3} \\hat{u} v^{2} {\\order[0]{\\chi}} {\\order[1]{\\xi}} + \\dot{\\E}_2 \\hat{u} v {\\order[0]{\\chi}} {\\order[1]{\\lambda}}=\\hat{u} v {\\order[0]{\\chi}} {\\order[1]{\\alpha}}$"
      ],
      "text/plain": [
       "<IPython.core.display.Math object>"
      ]
     },
     "metadata": {},
     "output_type": "display_data"
    }
   ],
   "source": [
    "#| code-fold: true\n",
    "lsk.display_latex_equation(lhs, rhs)"
   ]
  },
  {
   "cell_type": "markdown",
   "id": "8d47c201-cc91-4ec3-8cd7-716eac812edb",
   "metadata": {},
   "source": [
    "which must be understood as\n",
    "$$\n",
    "\\E_2(v_i, \\hat{u}) \\, \\order[1]{\\chi}_i + \\E_2(\\order[1]y, \\hat{u}) + \\E_3(v_j, v_k, \\hat{u}) \\, \\order[0]{\\chi_j} \\, \\order[1]{\\xi_k} + \\order[1]\\lambda \\, \\dot{\\E}_2(v_j, \\hat{u}) \\, \\order[0]{\\chi_j} = \\order[1]\\alpha \\, \\order[0]{\\chi_j} \\, \\langle v_j, \\hat{u} \\rangle\n",
    "$$\n",
    "and, observing that $\\E_2(v_i, \\bullet) = 0$\n",
    "$$\n",
    "\\E_2(\\order[1]y, \\hat{u}) + \\E_3(v_j, v_k, \\hat{u}) \\, \\order[0]{\\chi_j} \\, \\order[1]{\\xi_k} + \\order[1]\\lambda \\, \\dot{\\E}_2(v_j, \\hat{u}) \\, \\order[0]{\\chi_j} = \\order[1]\\alpha \\, \\order[0]{\\chi_j} \\, \\langle v_j, \\hat{u} \\rangle.\n",
    "$$ {#eq-20230107180410}\n",
    "\n",
    "We first test the above equation with elements of $V$. For $\\hat{u} = v_i$, observing that $\\langle v_i, v_j \\rangle = \\delta_{ij}$ since $(v_i)$ is orthonormal, we get\n",
    "$$\n",
    "\\bigl[ \\E_3(v_i, v_j, v_k) \\, \\order[1]{\\xi_k} + \\order[1]\\lambda \\, \\dot{\\E}_2(v_i, v_j)\\bigr] \\, \\order[0]{\\chi_j} = \\order[1]\\alpha \\, \\order[0]{\\chi_i},\n",
    "$$\n",
    "which shows that $(\\order[1]\\alpha, \\order[0]{\\chi_i})$ is an eigenpair of the symmetric tensor $(E_{ijk} \\order[1]{\\xi_k} + \\order[1]\\lambda \\, \\dot{E}_{ij})$\n",
    "$$\n",
    "\\bigl( E_{ijk} \\, \\order[1]{\\xi_k} + \\order[1]\\lambda \\, \\dot{E}_{ij} \\bigr) \\, \\order[0]{\\chi_j} = \\order[1]\\alpha \\, \\order[0]{\\chi_i}.\n",
    "$$\n",
    "\n",
    "The test function is now picked in $W = V^\\perp$, and Eq. (@eq-20230517064330) then delivers the following variational problem: find $\\order[1]y \\in W$ such that, for all $\\hat{w} \\in W$,\n",
    "$$\n",
    "\\E_2(\\order[1]y, \\hat{w}) + \\E_3(v_i, v_j, \\hat{w}) \\, \\order[0]{\\chi_i} \\, \\order[1]{\\xi_j} + \\order[1]\\lambda \\, \\dot{\\E}_2(v_i, \\hat{w}) \\, \\order[0]{\\chi_i} = 0,\n",
    "$$\n",
    "(observe that $\\langle v_j, \\hat{w} \\rangle = 0$ since $V$ and $W$ are orthogonal subspaces). The solution to the above problem is expressed as a linear combination of the $w_{ij}$ and $w_{i\\lambda}$ –defined by the variational problems (@eq-20230107180410) and (@eq-20230107180501), respectively–, delivering\n",
    "$$\n",
    "\\order[1]y = \\order[0]{\\chi_i} \\order[1]{\\xi_j} w_{i j} + \\order[1]\\lambda \\order[0]{\\chi_i} w_i\n",
    "\\quad \\text{and} \\quad\n",
    "\\order[1]x = \\order[1]{\\chi_i} \\, v_i +  \\order[0]{\\chi_i} \\, \\order[1]{\\xi_j} \\, w_{ij} + \\order[1]\\lambda \\, \\order[0]{\\chi_i} \\, w_{i\\lambda}.\n",
    "$$\n"
   ]
  },
  {
   "cell_type": "code",
   "execution_count": 123,
   "id": "84a36bd1-1661-4ed5-b77a-c4323d5c13fa",
   "metadata": {},
   "outputs": [],
   "source": [
    "y1 = χ0 * ξ1 * w_ξξ + λ1 * χ0 * w_ξλ\n",
    "x1 = χ1 * v + y1\n",
    "x2 = Symbol(r\"{\\order[2]{x}}\")\n",
    "x = x0 + η * x1 + η**2 / 2 * x2"
   ]
  },
  {
   "cell_type": "code",
   "execution_count": 127,
   "id": "afed95e4-a675-42fa-b71f-85b40928af6c",
   "metadata": {},
   "outputs": [],
   "source": [
    "lhs = (E_uu * x * v).expand().coeff(η, 2)\n",
    "rhs = (α * x * v).expand().coeff(η, 2)"
   ]
  },
  {
   "cell_type": "code",
   "execution_count": 128,
   "id": "aece1bf0-573c-4e21-9172-f115ce9dc6d3",
   "metadata": {},
   "outputs": [
    {
     "data": {
      "text/latex": [
       "$\\displaystyle \\frac{\\E_{2} v {\\order[2]{x}}}{2} + \\frac{\\E_{3} v^{3} {\\order[0]{\\chi}} {\\order[2]{\\xi}}}{2} + \\E_{3} v^{3} {\\order[1]{\\chi}} {\\order[1]{\\xi}} + 2 \\E_{3} v^{2} w_{\\xi\\lambda} {\\order[0]{\\chi}} {\\order[1]{\\lambda}} {\\order[1]{\\xi}} + \\frac{3 \\E_{3} v^{2} w_{\\xi\\xi} {\\order[0]{\\chi}} {\\order[1]{\\xi}}^{2}}{2} + \\frac{\\E_{4} v^{4} {\\order[0]{\\chi}} {\\order[1]{\\xi}}^{2}}{2} + \\frac{\\ddot{\\E}_2 v^{2} {\\order[0]{\\chi}} {\\order[1]{\\lambda}}^{2}}{2} + \\frac{\\dot{\\E}_2 v^{2} {\\order[0]{\\chi}} {\\order[2]{\\lambda}}}{2} + \\dot{\\E}_2 v^{2} {\\order[1]{\\chi}} {\\order[1]{\\lambda}} + \\dot{\\E}_2 v w_{\\xi\\lambda} {\\order[0]{\\chi}} {\\order[1]{\\lambda}}^{2} + \\dot{\\E}_2 v w_{\\xi\\xi} {\\order[0]{\\chi}} {\\order[1]{\\lambda}} {\\order[1]{\\xi}} + \\dot{\\E}_3 v^{3} {\\order[0]{\\chi}} {\\order[1]{\\lambda}} {\\order[1]{\\xi}}=\\frac{v^{2} {\\order[0]{\\chi}} {\\order[2]{\\alpha}}}{2} + v^{2} {\\order[1]{\\alpha}} {\\order[1]{\\chi}} + v w_{\\xi\\lambda} {\\order[0]{\\chi}} {\\order[1]{\\alpha}} {\\order[1]{\\lambda}} + v w_{\\xi\\xi} {\\order[0]{\\chi}} {\\order[1]{\\alpha}} {\\order[1]{\\xi}}$"
      ],
      "text/plain": [
       "<IPython.core.display.Math object>"
      ]
     },
     "metadata": {},
     "output_type": "display_data"
    }
   ],
   "source": [
    "#| code-fold: true\n",
    "lsk.display_latex_equation(lhs, rhs)"
   ]
  },
  {
   "cell_type": "code",
   "execution_count": null,
   "id": "559ca1cd-2bb9-4504-815a-3467d1888093",
   "metadata": {},
   "outputs": [],
   "source": []
  }
 ],
 "metadata": {
  "kernelspec": {
   "display_name": "Python 3 (ipykernel)",
   "language": "python",
   "name": "python3"
  },
  "language_info": {
   "codemirror_mode": {
    "name": "ipython",
    "version": 3
   },
   "file_extension": ".py",
   "mimetype": "text/x-python",
   "name": "python",
   "nbconvert_exporter": "python",
   "pygments_lexer": "ipython3",
   "version": "3.10.6"
  }
 },
 "nbformat": 4,
 "nbformat_minor": 5
}
