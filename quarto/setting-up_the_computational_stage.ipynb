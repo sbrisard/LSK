{
 "cells": [
  {
   "cell_type": "markdown",
   "id": "c018e3f7-66c6-4718-95d9-26b3de244268",
   "metadata": {},
   "source": [
    "# Setting-up the computational stage {#sec-20230402140105}"
   ]
  },
  {
   "cell_type": "raw",
   "id": "b70a5f6b-b023-4d6a-83d1-106385b9d98a",
   "metadata": {},
   "source": [
    "::: {.content-hidden}"
   ]
  },
  {
   "cell_type": "markdown",
   "id": "37eba1a7-5c99-4b71-8364-fd7cee5e6c4e",
   "metadata": {},
   "source": [
    "This notebook uses $\\LaTeX\\newcommand{\\D}{\\mathrm{d}}\\newcommand{\\E}{\\mathcal{E}}$ custom macros."
   ]
  },
  {
   "cell_type": "raw",
   "id": "7f23cd0d-b640-41ea-aeb4-67a285c2a39f",
   "metadata": {},
   "source": [
    ":::"
   ]
  },
  {
   "cell_type": "markdown",
   "id": "b978af95-d7aa-40f9-8df1-59d71ee3d143",
   "metadata": {},
   "source": [
    "This chapter lays the ground for all symbolic calculations that are to follow. The [SymPy](https://www.sympy.org) library is imported and initialized in @sec-20230103084732. Then, the energy of the system is rewritten with a minimum set of parameters."
   ]
  },
  {
   "cell_type": "markdown",
   "id": "afe5dc35-e9a1-49cd-9e6f-ed91a66d944f",
   "metadata": {
    "tags": []
   },
   "source": [
    "## Importing all necessary modules {#sec-20230103084732}"
   ]
  },
  {
   "cell_type": "markdown",
   "id": "41b34b6a-3fb7-46a9-835e-fce181be91d5",
   "metadata": {},
   "source": [
    "We will use the [Python](https://www.python.org) library [SymPy](https://www.sympy.org) for symbolic mathematics and rely also on the [IPython](https://ipython.org/) library (in particular, [IPython.display.Math](https://ipython.readthedocs.io/en/stable/api/generated/IPython.display.html#IPython.display.Math)) for pretty LaTeX output. Some useful functions are defined in the `lsk.display` module, which will be systematically imported. Also, all relevant symbols are defined in the `lsk.symbols` module (see @sec-20230628093952)."
   ]
  },
  {
   "cell_type": "markdown",
   "id": "0a41a233-96fe-463f-a6bb-1e4b7d15b792",
   "metadata": {},
   "source": [
    "Without loss of generality, it will be assumed in all symbolic calculations that $\\lambda_0 = 0$ and $u_0 = 0$. The general case $\\lambda_0 \\neq 0$ and $u_0 \\neq 0$ is readily recovered through the substitution $\\lambda \\leftrightarrow \\lambda - \\lambda_0$ and $u \\leftrightarrow u - u_0$."
   ]
  },
  {
   "cell_type": "markdown",
   "id": "8c834358-9e5b-48ce-bd51-cd3a3d413101",
   "metadata": {},
   "source": [
    "The following developments involve the energy $(u, \\lambda) \\mapsto \\E(u, \\lambda)$ and its differentials at the critical point $(u_0, \\lambda_0)$, as well as the fundamental path $\\lambda \\mapsto u^\\ast(\\lambda)$ and its derivatives at $\\lambda = \\lambda_0$. It will therefore be convenient to express $\\E$ and $u^\\star$ as Taylor expansions with respect to $u$ and $\\lambda$."
   ]
  },
  {
   "cell_type": "code",
   "execution_count": 1,
   "id": "6f39c822-5889-411d-8335-345786edbc8b",
   "metadata": {
    "tags": []
   },
   "outputs": [],
   "source": [
    "from sympy import *\n",
    "from lsk.display import *\n",
    "from lsk.symbols import *"
   ]
  },
  {
   "cell_type": "markdown",
   "id": "e3b4ab22-a7e6-4cbc-8d10-556024d8ad1e",
   "metadata": {},
   "source": [
    "We start with the Taylor expansion of the energy $\\E$. We define its differentials at the critical point. These differentials are stored in a dictionary. Values are indexed with the order of the differentials with respect to $u$ and $\\lambda$."
   ]
  },
  {
   "cell_type": "code",
   "execution_count": 2,
   "id": "130d7da9-50dd-48e8-b703-838d0867d6d2",
   "metadata": {},
   "outputs": [
    {
     "data": {
      "text/latex": [
       "$\\displaystyle \\begin{aligned}\\E_{,\\lambda}(u_0, \\lambda_0)&=\\E_{\\lambda}&\\E_{,uu}(u_0, \\lambda_0)&=\\E_{2}&\\E_{,u\\lambda}(u_0, \\lambda_0)&=\\E_{u\\lambda}\\\\\\E_{,\\lambda\\lambda}(u_0, \\lambda_0)&=\\E_{\\lambda\\lambda}&\\E_{,uuu}(u_0, \\lambda_0)&=\\E_{3}&\\E_{,uu\\lambda}(u_0, \\lambda_0)&=\\E_{uu\\lambda}\\\\\\E_{,u\\lambda\\lambda}(u_0, \\lambda_0)&=\\E_{u\\lambda\\lambda}&\\E_{,\\lambda\\lambda\\lambda}(u_0, \\lambda_0)&=\\E_{\\lambda\\lambda\\lambda}&\\E_{,uuuu}(u_0, \\lambda_0)&=\\E_{4}\\\\\\E_{,uuu\\lambda}(u_0, \\lambda_0)&=\\E_{uuu\\lambda}&\\E_{,uu\\lambda\\lambda}(u_0, \\lambda_0)&=\\E_{uu\\lambda\\lambda}&\\E_{,u\\lambda\\lambda\\lambda}(u_0, \\lambda_0)&=\\E_{u\\lambda\\lambda\\lambda}\\\\\\E_{,\\lambda\\lambda\\lambda\\lambda}(u_0, \\lambda_0)&=\\E_{\\lambda\\lambda\\lambda\\lambda}&\\end{aligned}$"
      ],
      "text/plain": [
       "<IPython.core.display.Math object>"
      ]
     },
     "metadata": {},
     "output_type": "display_data"
    }
   ],
   "source": [
    "#| code-fold: true\n",
    "\n",
    "d = {\n",
    "    r\"\\E_{,\\lambda}(u_0, \\lambda_0)\": E_λ,\n",
    "    r\"\\E_{,uu}(u_0, \\lambda_0)\": E2,\n",
    "    r\"\\E_{,u\\lambda}(u_0, \\lambda_0)\": E_uλ,\n",
    "    r\"\\E_{,\\lambda\\lambda}(u_0, \\lambda_0)\": E_λλ,\n",
    "    r\"\\E_{,uuu}(u_0, \\lambda_0)\": E3,\n",
    "    r\"\\E_{,uu\\lambda}(u_0, \\lambda_0)\": E_uuλ,\n",
    "    r\"\\E_{,u\\lambda\\lambda}(u_0, \\lambda_0)\": E_uλλ,\n",
    "    r\"\\E_{,\\lambda\\lambda\\lambda}(u_0, \\lambda_0)\": E_λλλ,\n",
    "    r\"\\E_{,uuuu}(u_0, \\lambda_0)\": E4,\n",
    "    r\"\\E_{,uuu\\lambda}(u_0, \\lambda_0)\": E_uuuλ,\n",
    "    r\"\\E_{,uu\\lambda\\lambda}(u_0, \\lambda_0)\": E_uuλλ,\n",
    "    r\"\\E_{,u\\lambda\\lambda\\lambda}(u_0, \\lambda_0)\": E_uλλλ,\n",
    "    r\"\\E_{,\\lambda\\lambda\\lambda\\lambda}(u_0, \\lambda_0)\": E_λλλλ,\n",
    "}\n",
    "\n",
    "display_latex_dict(d, num_cols=3)"
   ]
  },
  {
   "cell_type": "markdown",
   "id": "d74eb6ff-dda3-475e-ac6e-45fe27409585",
   "metadata": {},
   "source": [
    "where\n",
    "\n",
    "- $\\E_\\lambda$, $\\E_{\\lambda\\lambda}$, $\\E_{\\lambda\\lambda\\lambda}$ and $\\E_{\\lambda\\lambda\\lambda\\lambda}$ are *scalar quantities*,\n",
    "- $\\E_{u\\lambda}$, $\\E_{u\\lambda\\lambda}$ and $\\E_{u\\lambda\\lambda\\lambda}$ are *linear forms*,\n",
    "- $\\E_2$, $\\E_{uu\\lambda}$ and $\\E_{uu\\lambda\\lambda}$ are *bilinear forms*,\n",
    "- $\\E_3$ and $\\E_{uuu\\lambda}$ are *trilinear forms*,\n",
    "- $\\E_4$  is a *quadrilinear form*."
   ]
  },
  {
   "cell_type": "raw",
   "id": "035fee06-a4a7-4767-a9bb-f377295029d4",
   "metadata": {},
   "source": [
    "::: {.callout-important}"
   ]
  },
  {
   "cell_type": "markdown",
   "id": "747ef411-50c3-47cd-96f8-72680155cb6f",
   "metadata": {},
   "source": [
    "Note that all these differentials are defined as SymPy *scalars*. A definition as a SymPy *function* (e.g. `E2 = Function(r\"\\E_2\")`) would be more appropriate. However, SymPy would fail to account for multilinearity or symmetry of these forms. Therefore, we use the following trick: all multi-linear forms are defined as scalars, and the standard multiplication operator `*` means function application. In other words, `E2 * (α * u + β * v) * w` (resp. `E2 * u * v - E2 * v * u`) should be understood as `E2(α * u + β * v, w)` (resp. `E2(u, v) - E2(v, u)`). In both cases, the expressions would are correctly simplified.\n",
    "\n",
    "Whether the symbols in an expression are true scalars or vectors (elements of $U$) should be clear from the context. For example, in the expression: `λ * E2 * u * v`, the first `*` is a true multiplication, while the other `*` refer to function application."
   ]
  },
  {
   "cell_type": "raw",
   "id": "a8f26902-47d7-4550-8506-4997e0c679d8",
   "metadata": {
    "tags": []
   },
   "source": [
    ":::"
   ]
  },
  {
   "cell_type": "markdown",
   "id": "af694d11-00ca-4b2f-b58e-75ac6c59e454",
   "metadata": {},
   "source": [
    "The energy $\\E(u, \\lambda)$ is now expressed as a Taylor expansion about the critical point. We use the function `create_E` that is defined in the `lsk` module. We will get back to the optional parameter `simplify_mixed_derivatives` later."
   ]
  },
  {
   "cell_type": "code",
   "execution_count": 3,
   "id": "bbcadccb-9a6c-40ce-89cb-5b940676a033",
   "metadata": {
    "tags": []
   },
   "outputs": [],
   "source": [
    "u, λ = symbols(r\"u \\lambda\")\n",
    "E = (λ * E_λ + (E2 * u**2 + 2 * λ * E_uλ * u + λ**2 * E_λλ) / 2\n",
    "     + (E3 * u**3 + 3 * λ * E_uuλ * u**2 + 3 * λ**2 * E_uλλ * u + λ**3 * E_λλλ) / 6\n",
    "     + (E4 * u**4 + 4 * λ * E_uuuλ * u**3 + 6 * λ**2 * E_uuλλ * u**2 \n",
    "        + 4 * λ**3 * E_uλλλ * u + λ**4 * E_λλλλ) / 24).expand()"
   ]
  },
  {
   "cell_type": "code",
   "execution_count": 4,
   "id": "5fe4d944-e8a8-44c7-ace4-644a0c53c229",
   "metadata": {},
   "outputs": [
    {
     "data": {
      "text/latex": [
       "$\\displaystyle \\begin{aligned}\\E(u, \\lambda)={} &\\frac{\\E_{2} u^{2}}{2} + \\frac{\\E_{3} u^{3}}{6} + \\frac{\\E_{4} u^{4}}{24} + \\frac{\\E_{\\lambda\\lambda\\lambda\\lambda} \\lambda^{4}}{24} + \\frac{\\E_{\\lambda\\lambda\\lambda} \\lambda^{3}}{6} + \\frac{\\E_{\\lambda\\lambda} \\lambda^{2}}{2} + \\E_{\\lambda} \\lambda\\\\ &+\\frac{\\E_{u\\lambda\\lambda\\lambda} \\lambda^{3} u}{6} + \\frac{\\E_{u\\lambda\\lambda} \\lambda^{2} u}{2} + \\E_{u\\lambda} \\lambda u + \\frac{\\E_{uu\\lambda\\lambda} \\lambda^{2} u^{2}}{4} + \\frac{\\E_{uu\\lambda} \\lambda u^{2}}{2} + \\frac{\\E_{uuu\\lambda} \\lambda u^{3}}{6}\\end{aligned}$"
      ],
      "text/plain": [
       "<IPython.core.display.Math object>"
      ]
     },
     "metadata": {},
     "output_type": "display_data"
    }
   ],
   "source": [
    "#| code-fold: true\n",
    "display_latex_long_equation(r\"\\E(u, \\lambda)\", E, terms_per_line=7)"
   ]
  },
  {
   "cell_type": "markdown",
   "id": "80de7b37-a37c-42db-9401-55e2eb85b5ed",
   "metadata": {},
   "source": [
    "The fundamental path $\\lambda \\mapsto u^\\star(\\lambda)$ is also defined through its Taylor expansion."
   ]
  },
  {
   "cell_type": "code",
   "execution_count": 5,
   "id": "c9e76a1b-5c37-46ef-8cdd-867041bcf72e",
   "metadata": {},
   "outputs": [],
   "source": [
    "u_star = (λ * u0_dot \n",
    "          + λ**2 * u0_ddot / 2 \n",
    "          + λ**3 * u0_dddot / 6 \n",
    "          + λ**4 * u0_ddddot / 24)"
   ]
  },
  {
   "cell_type": "code",
   "execution_count": 6,
   "id": "aad0b1e4-bd2a-483d-a492-2ffce42edeae",
   "metadata": {},
   "outputs": [
    {
     "data": {
      "text/latex": [
       "$\\displaystyle u^\\star(\\lambda)=\\frac{\\ddddot{u}_0 \\lambda^{4}}{24} + \\frac{\\dddot{u}_0 \\lambda^{3}}{6} + \\frac{\\ddot{u}_0 \\lambda^{2}}{2} + \\dot{u}_0 \\lambda$"
      ],
      "text/plain": [
       "<IPython.core.display.Math object>"
      ]
     },
     "metadata": {},
     "output_type": "display_data"
    }
   ],
   "source": [
    "#| code-fold: true\n",
    "display_latex_equation(r\"u^\\star(\\lambda)\", u_star)"
   ]
  },
  {
   "cell_type": "markdown",
   "id": "e4316528-d0e4-4fe2-8e88-06247c06a71b",
   "metadata": {},
   "source": [
    "Where $\\dot{u}_0$, $\\ddot{u}_0$, etc denote the derivatives of $u^\\star$ with respect to $\\lambda$, at $\\lambda = \\lambda_0$."
   ]
  },
  {
   "cell_type": "code",
   "execution_count": 7,
   "id": "70c4991f-ca8d-4481-b43f-b10c0316e652",
   "metadata": {},
   "outputs": [
    {
     "data": {
      "text/latex": [
       "$\\displaystyle \\begin{aligned}\\frac{\\D^1u^\\star}{\\D \\lambda^1}\\biggr \\rvert_{{\\lambda=\\lambda_0}}&=\\dot{u}_0&\\frac{\\D^2u^\\star}{\\D \\lambda^2}\\biggr \\rvert_{{\\lambda=\\lambda_0}}&=\\ddot{u}_0&\\frac{\\D^3u^\\star}{\\D \\lambda^3}\\biggr \\rvert_{{\\lambda=\\lambda_0}}&=\\dddot{u}_0&\\frac{\\D^4u^\\star}{\\D \\lambda^4}\\biggr \\rvert_{{\\lambda=\\lambda_0}}&=\\ddddot{u}_0\\\\\\end{aligned}$"
      ],
      "text/plain": [
       "<IPython.core.display.Math object>"
      ]
     },
     "metadata": {},
     "output_type": "display_data"
    }
   ],
   "source": [
    "#| code-fold: true\n",
    "d = {f\"\\\\frac{{\\\\D^{k}u^\\\\star}}{{\\\\D \\\\lambda^{k}}}\"\n",
    "     \"\\\\biggr \\\\rvert_{{\\\\lambda=\\\\lambda_0}}\" : x \n",
    "     for k, x in enumerate([u0_dot, u0_ddot, u0_dddot, u0_ddddot], start=1)}\n",
    "display_latex_dict(d, num_cols=4)"
   ]
  },
  {
   "cell_type": "markdown",
   "id": "03734dfe-af0d-4030-9488-a498a7f9448d",
   "metadata": {
    "tags": []
   },
   "source": [
    "## Elimination of the derivatives of the jacobian w.r.t. $\\lambda$ {#sec-20230628091013}"
   ]
  },
  {
   "cell_type": "markdown",
   "id": "35739010-f378-4e71-88f3-7a5f4855d5b9",
   "metadata": {},
   "source": [
    "Since the fundamental path $\\lambda \\mapsto u^\\star(\\lambda)$ is an equilibrium path, the various differentials of the energy at the critical point are not linearly independent. To express the relationships between these forms, we define $\\mathcal R^\\star(\\lambda; \\bullet)$ as the jacobian of the energy along the fundamental path $u^\\star(\\lambda)$\n",
    "$$\n",
    "\\mathcal R^\\star(\\lambda; \\bullet) = \\E_{,u}[u^\\star(\\lambda), \\lambda; \\bullet].\n",
    "$$"
   ]
  },
  {
   "cell_type": "markdown",
   "id": "b8ec390c-8d62-445d-aefd-eedc85431ea7",
   "metadata": {},
   "source": [
    "Combining the expansions of $\\lambda \\mapsto u^\\star(\\lambda)$ and $(u, \\lambda) \\mapsto \\E(u, \\lambda)$ delivers and expansion of $\\mathcal{R}^\\star$ with respect to the powers of $\\lambda$, up to the fourth order."
   ]
  },
  {
   "cell_type": "code",
   "execution_count": 8,
   "id": "be998814-5915-4094-a0a3-3a3be4c015f6",
   "metadata": {},
   "outputs": [],
   "source": [
    "R_star = (E.diff(u) * u_hat).subs(u, u_star).series(λ, 0, 5).removeO().expand()"
   ]
  },
  {
   "cell_type": "code",
   "execution_count": 9,
   "id": "5a5aa88d-4d3c-4f3a-b0f7-1a9814a52a9d",
   "metadata": {},
   "outputs": [
    {
     "data": {
      "text/latex": [
       "$\\displaystyle \\begin{aligned}\\mathcal{R}^\\ast(\\lambda;\\hat{u})={} &\\E_{2} \\dot{u}_0 \\hat{u} \\lambda + \\frac{\\E_{u\\lambda\\lambda\\lambda} \\hat{u} \\lambda^{3}}{6} + \\frac{\\E_{u\\lambda\\lambda} \\hat{u} \\lambda^{2}}{2} + \\E_{u\\lambda} \\hat{u} \\lambda\\\\ &+\\frac{\\E_{2} \\ddot{u}_0 \\hat{u} \\lambda^{2}}{2} + \\frac{\\E_{3} \\dot{u}_0^{2} \\hat{u} \\lambda^{2}}{2} + \\frac{\\E_{uu\\lambda\\lambda} \\dot{u}_0 \\hat{u} \\lambda^{3}}{2} + \\E_{uu\\lambda} \\dot{u}_0 \\hat{u} \\lambda^{2}\\\\ &+\\frac{\\E_{2} \\dddot{u}_0 \\hat{u} \\lambda^{3}}{6} + \\frac{\\E_{uu\\lambda\\lambda} \\ddot{u}_0 \\hat{u} \\lambda^{4}}{4} + \\frac{\\E_{uu\\lambda} \\ddot{u}_0 \\hat{u} \\lambda^{3}}{2} + \\frac{\\E_{uuu\\lambda} \\dot{u}_0^{2} \\hat{u} \\lambda^{3}}{2}\\\\ &+\\frac{\\E_{2} \\ddddot{u}_0 \\hat{u} \\lambda^{4}}{24} + \\frac{\\E_{3} \\ddot{u}_0^{2} \\hat{u} \\lambda^{4}}{8} + \\frac{\\E_{4} \\dot{u}_0^{3} \\hat{u} \\lambda^{3}}{6} + \\frac{\\E_{uu\\lambda} \\dddot{u}_0 \\hat{u} \\lambda^{4}}{6}\\\\ &+\\frac{\\E_{3} \\dddot{u}_0 \\dot{u}_0 \\hat{u} \\lambda^{4}}{6} + \\frac{\\E_{3} \\ddot{u}_0 \\dot{u}_0 \\hat{u} \\lambda^{3}}{2} + \\frac{\\E_{4} \\ddot{u}_0 \\dot{u}_0^{2} \\hat{u} \\lambda^{4}}{4} + \\frac{\\E_{uuu\\lambda} \\ddot{u}_0 \\dot{u}_0 \\hat{u} \\lambda^{4}}{2}\\end{aligned}$"
      ],
      "text/plain": [
       "<IPython.core.display.Math object>"
      ]
     },
     "metadata": {},
     "output_type": "display_data"
    }
   ],
   "source": [
    "#| code-fold: true\n",
    "display_latex_long_equation(r\"\\mathcal{R}^\\ast(\\lambda;\" \n",
    "                            + sympy.latex(u_hat) + \")\",\n",
    "                            R_star, terms_per_line=4)"
   ]
  },
  {
   "cell_type": "markdown",
   "id": "c09ebf3d-698f-453f-8ca4-8056d136cbc8",
   "metadata": {},
   "source": [
    "Of course, since $\\lambda \\mapsto u^\\ast(\\lambda)$ is an equilibrium path, we have $\\mathcal R^\\ast(\\lambda; \\bullet) = 0$ for all $\\lambda$. Therefore, all coefficients of the above polynomial in $\\lambda$ are null, which delivers expressions of $\\E_{u\\lambda}$, $\\E_{u\\lambda\\lambda}$ and $\\E_{u\\lambda\\lambda\\lambda}$. Each term is analyzed in term below. Expressions of the mixed derivatives are to be stored in the `mixed1` dictionary."
   ]
  },
  {
   "cell_type": "code",
   "execution_count": 10,
   "id": "24d757b7-8d40-42db-b092-86f022c8c819",
   "metadata": {
    "tags": []
   },
   "outputs": [],
   "source": [
    "mixed1 = dict()"
   ]
  },
  {
   "cell_type": "markdown",
   "id": "790215e7-1557-4985-a33c-eecedec0636a",
   "metadata": {},
   "source": [
    "### The term of order 0"
   ]
  },
  {
   "cell_type": "markdown",
   "id": "5a6337f5-ffbf-4a2a-9eb7-27650f878304",
   "metadata": {},
   "source": [
    "This term is uniformly null and therefore delivers no informations."
   ]
  },
  {
   "cell_type": "code",
   "execution_count": 11,
   "id": "1375a7dc-d77b-47ab-afdc-9ba64aada6d3",
   "metadata": {
    "tags": []
   },
   "outputs": [],
   "source": [
    "#| code-fold: true\n",
    "assert R_star.coeff(λ, 0) == 0"
   ]
  },
  {
   "cell_type": "markdown",
   "id": "cf4a3441-cfaf-4586-aabd-e7e7e9e1a53e",
   "metadata": {},
   "source": [
    "### The term of order 1"
   ]
  },
  {
   "cell_type": "markdown",
   "id": "e7eb5a24-d109-4734-9573-362471161768",
   "metadata": {},
   "source": [
    "This term delivers the following equation"
   ]
  },
  {
   "cell_type": "code",
   "execution_count": 12,
   "id": "962a9452-9e84-49ad-a5c6-a28c4b894d17",
   "metadata": {
    "tags": []
   },
   "outputs": [],
   "source": [
    "eq = Eq(R_star.coeff(λ, 1), 0)"
   ]
  },
  {
   "cell_type": "code",
   "execution_count": 13,
   "id": "f22295b0-f4c3-46e6-9ce6-e2dc7b318124",
   "metadata": {
    "tags": []
   },
   "outputs": [
    {
     "data": {
      "text/latex": [
       "$\\displaystyle \\E_{2} \\dot{u}_0 \\hat{u} + \\E_{u\\lambda} \\hat{u} = 0$"
      ],
      "text/plain": [
       "Eq(\\E_2*\\dot{u}_0*\\hat{u} + \\E_{u\\lambda}*\\hat{u}, 0)"
      ]
     },
     "metadata": {},
     "output_type": "display_data"
    }
   ],
   "source": [
    "#| code-fold: true\n",
    "display(eq)"
   ]
  },
  {
   "cell_type": "markdown",
   "id": "1abc93a2-46c1-416b-9472-ec31282a4bcd",
   "metadata": {},
   "source": [
    "for all $\\hat{u} \\in U$. This equation delivers the following expression of $\\E_{,u\\lambda}(u_0, \\lambda_0)$"
   ]
  },
  {
   "cell_type": "code",
   "execution_count": 14,
   "id": "5f94aa77-1e9d-4f4b-a6b7-e3d6d7150ab1",
   "metadata": {
    "tags": []
   },
   "outputs": [],
   "source": [
    "sol = solve(eq, E_uλ)\n",
    "mixed1[E_uλ] = sol[0]"
   ]
  },
  {
   "cell_type": "code",
   "execution_count": 15,
   "id": "bf24192b-7073-4427-97b3-bec7988ae859",
   "metadata": {
    "tags": []
   },
   "outputs": [
    {
     "data": {
      "text/latex": [
       "$\\displaystyle \\E_{u\\lambda}=- \\E_{2} \\dot{u}_0$"
      ],
      "text/plain": [
       "<IPython.core.display.Math object>"
      ]
     },
     "metadata": {},
     "output_type": "display_data"
    }
   ],
   "source": [
    "#| code-fold: true\n",
    "display_latex_equation(E_uλ, mixed1[E_uλ])"
   ]
  },
  {
   "cell_type": "markdown",
   "id": "43578ade-4918-4c02-88b5-08f4f31ce06d",
   "metadata": {},
   "source": [
    "### The term of order 2"
   ]
  },
  {
   "cell_type": "code",
   "execution_count": 16,
   "id": "c8f1fcca-2f5b-42c1-8c47-e311e32d48aa",
   "metadata": {
    "tags": []
   },
   "outputs": [],
   "source": [
    "eq = Eq(R_star.coeff(λ, 2).subs(mixed1), 0)"
   ]
  },
  {
   "cell_type": "code",
   "execution_count": 17,
   "id": "894dfde2-fc7d-4003-8383-0cf8d3471992",
   "metadata": {
    "tags": []
   },
   "outputs": [
    {
     "data": {
      "text/latex": [
       "$\\displaystyle \\frac{\\E_{2} \\ddot{u}_0 \\hat{u}}{2} + \\frac{\\E_{3} \\dot{u}_0^{2} \\hat{u}}{2} + \\frac{\\E_{u\\lambda\\lambda} \\hat{u}}{2} + \\E_{uu\\lambda} \\dot{u}_0 \\hat{u} = 0$"
      ],
      "text/plain": [
       "Eq(\\E_2*\\ddot{u}_0*\\hat{u}/2 + \\E_3*\\dot{u}_0**2*\\hat{u}/2 + \\E_{u\\lambda\\lambda}*\\hat{u}/2 + \\E_{uu\\lambda}*\\dot{u}_0*\\hat{u}, 0)"
      ]
     },
     "metadata": {},
     "output_type": "display_data"
    }
   ],
   "source": [
    "#| code-fold: true\n",
    "display(eq)"
   ]
  },
  {
   "cell_type": "markdown",
   "id": "bbaa20e2-c92a-4300-96c4-f738e23167e9",
   "metadata": {},
   "source": [
    "for all $\\hat{u} \\in U$. This equation delivers the following expression of $\\E_{,u\\lambda\\lambda}(u_0, \\lambda_0)$"
   ]
  },
  {
   "cell_type": "code",
   "execution_count": 18,
   "id": "f91ce5bf-af9f-46ab-8b50-a387fbe31d16",
   "metadata": {
    "tags": []
   },
   "outputs": [],
   "source": [
    "sol = solve(eq, E_uλλ)\n",
    "mixed1[E_uλλ] = sol[0]"
   ]
  },
  {
   "cell_type": "code",
   "execution_count": 19,
   "id": "844fc70d-6df2-48e6-97bc-8bfd34bf0f07",
   "metadata": {
    "tags": []
   },
   "outputs": [
    {
     "data": {
      "text/latex": [
       "$\\displaystyle \\E_{u\\lambda\\lambda}=- \\E_{2} \\ddot{u}_0 - \\E_{3} \\dot{u}_0^{2} - 2 \\E_{uu\\lambda} \\dot{u}_0$"
      ],
      "text/plain": [
       "<IPython.core.display.Math object>"
      ]
     },
     "metadata": {},
     "output_type": "display_data"
    }
   ],
   "source": [
    "#| code-fold: true\n",
    "display_latex_equation(E_uλλ, mixed1[E_uλλ])"
   ]
  },
  {
   "cell_type": "markdown",
   "id": "8d5010fe-a23a-4d93-8734-9843e14dd08a",
   "metadata": {},
   "source": [
    "### The term of order 3"
   ]
  },
  {
   "cell_type": "code",
   "execution_count": 20,
   "id": "2fba1f60-a0a5-4601-af31-6ab5565e4761",
   "metadata": {
    "tags": []
   },
   "outputs": [],
   "source": [
    "eq = Eq(R_star.coeff(λ, 3).subs(mixed1), 0).expand()"
   ]
  },
  {
   "cell_type": "code",
   "execution_count": 21,
   "id": "54949363-94d2-4a86-af17-1dd4c95bce0e",
   "metadata": {
    "tags": []
   },
   "outputs": [
    {
     "data": {
      "text/latex": [
       "$\\displaystyle \\frac{\\E_{2} \\dddot{u}_0 \\hat{u}}{6} + \\frac{\\E_{3} \\ddot{u}_0 \\dot{u}_0 \\hat{u}}{2} + \\frac{\\E_{4} \\dot{u}_0^{3} \\hat{u}}{6} + \\frac{\\E_{u\\lambda\\lambda\\lambda} \\hat{u}}{6} + \\frac{\\E_{uu\\lambda\\lambda} \\dot{u}_0 \\hat{u}}{2} + \\frac{\\E_{uu\\lambda} \\ddot{u}_0 \\hat{u}}{2} + \\frac{\\E_{uuu\\lambda} \\dot{u}_0^{2} \\hat{u}}{2} = 0$"
      ],
      "text/plain": [
       "Eq(\\E_2*\\dddot{u}_0*\\hat{u}/6 + \\E_3*\\ddot{u}_0*\\dot{u}_0*\\hat{u}/2 + \\E_4*\\dot{u}_0**3*\\hat{u}/6 + \\E_{u\\lambda\\lambda\\lambda}*\\hat{u}/6 + \\E_{uu\\lambda\\lambda}*\\dot{u}_0*\\hat{u}/2 + \\E_{uu\\lambda}*\\ddot{u}_0*\\hat{u}/2 + \\E_{uuu\\lambda}*\\dot{u}_0**2*\\hat{u}/2, 0)"
      ]
     },
     "metadata": {},
     "output_type": "display_data"
    }
   ],
   "source": [
    "#| code-fold: true\n",
    "display(eq)"
   ]
  },
  {
   "cell_type": "markdown",
   "id": "21c46151-e3c9-4689-85a4-4f8aaf5bc96a",
   "metadata": {},
   "source": [
    "for all $\\hat{u} \\in U$. This equation delivers the following expression of $\\E_{,u\\lambda\\lambda\\lambda}(u_0, \\lambda_0)$"
   ]
  },
  {
   "cell_type": "code",
   "execution_count": 22,
   "id": "f91bdb8a-a254-45fc-9343-d6e1a5bf3237",
   "metadata": {
    "tags": []
   },
   "outputs": [],
   "source": [
    "sol = solve(eq, E_uλλλ)\n",
    "mixed1[E_uλλλ] = sol[0]"
   ]
  },
  {
   "cell_type": "code",
   "execution_count": 23,
   "id": "46daa02f-c72f-4e77-8281-8e0a20f12297",
   "metadata": {
    "tags": []
   },
   "outputs": [
    {
     "data": {
      "text/latex": [
       "$\\displaystyle \\E_{u\\lambda\\lambda}=- \\E_{2} \\ddot{u}_0 - \\E_{3} \\dot{u}_0^{2} - 2 \\E_{uu\\lambda} \\dot{u}_0$"
      ],
      "text/plain": [
       "<IPython.core.display.Math object>"
      ]
     },
     "metadata": {},
     "output_type": "display_data"
    }
   ],
   "source": [
    "#| code-fold: true\n",
    "display_latex_equation(E_uλλ, mixed1[E_uλλ])"
   ]
  },
  {
   "cell_type": "markdown",
   "id": "4b18bf12-68a8-41cc-8808-88d30c040ef4",
   "metadata": {
    "tags": []
   },
   "source": [
    "## Elimination of the remaining mixed derivatives {#sec-20230628091115}"
   ]
  },
  {
   "cell_type": "markdown",
   "id": "8bed1936-d8e3-46da-b111-1f90059588df",
   "metadata": {},
   "source": [
    "So far, we have found the following expressions"
   ]
  },
  {
   "cell_type": "code",
   "execution_count": 24,
   "id": "1421d0a8-39e5-403e-863f-32bd601d5086",
   "metadata": {},
   "outputs": [
    {
     "data": {
      "text/latex": [
       "$\\displaystyle \\begin{aligned}\\E_{u\\lambda}&=- \\E_{2} \\dot{u}_0\\\\\\E_{u\\lambda\\lambda}&=- \\E_{2} \\ddot{u}_0 - \\E_{3} \\dot{u}_0^{2} - 2 \\E_{uu\\lambda} \\dot{u}_0\\\\\\E_{u\\lambda\\lambda\\lambda}&=- \\E_{2} \\dddot{u}_0 - 3 \\E_{3} \\ddot{u}_0 \\dot{u}_0 - \\E_{4} \\dot{u}_0^{3} - 3 \\E_{uu\\lambda\\lambda} \\dot{u}_0 - 3 \\E_{uu\\lambda} \\ddot{u}_0 - 3 \\E_{uuu\\lambda} \\dot{u}_0^{2}\\\\\\end{aligned}$"
      ],
      "text/plain": [
       "<IPython.core.display.Math object>"
      ]
     },
     "metadata": {},
     "output_type": "display_data"
    }
   ],
   "source": [
    "#| code-fold: true\n",
    "display_latex_dict(mixed1, num_cols=1)"
   ]
  },
  {
   "cell_type": "markdown",
   "id": "0fe99a27-cf8e-4e43-a79e-bb15e3becf37",
   "metadata": {},
   "source": [
    "We want to get rid of the remaining mixed derivatives, namely: $\\E_{uu\\lambda}$, $\\E_{uuu\\lambda}$ and $\\E_{uu\\lambda\\lambda}$. To do so, we introduce the derivatives $\\dot{\\E}_2$, $\\ddot{\\E}_2$ and $\\dot{\\E}_3$ defined in @sec-20230402152824."
   ]
  },
  {
   "cell_type": "code",
   "execution_count": 25,
   "id": "e84520bc-d022-455e-817e-69e9bad06f41",
   "metadata": {},
   "outputs": [],
   "source": [
    "E_uu_star = E.diff(u, 2).subs(u, u_star).expand()\n",
    "E_uuu_star = E.diff(u, 3).subs(u, u_star).expand()\n",
    "mixed2 = dict()"
   ]
  },
  {
   "cell_type": "markdown",
   "id": "47106a4a-4ffd-4b8b-8a0b-ba11ebb51959",
   "metadata": {},
   "source": [
    "The mixed derivative $\\E_{uu\\lambda}$ can first be expressed as a function of $\\dot{\\E}_2$."
   ]
  },
  {
   "cell_type": "code",
   "execution_count": 26,
   "id": "bd5af355-02cc-4954-9817-e8c03f18975e",
   "metadata": {
    "tags": []
   },
   "outputs": [],
   "source": [
    "x = E_uuλ\n",
    "lhs = E2_dot\n",
    "rhs = E_uu_star.coeff(λ, 1)"
   ]
  },
  {
   "cell_type": "code",
   "execution_count": 27,
   "id": "0c34d1cc-ab00-484e-9cf6-6d5cdda3a0f3",
   "metadata": {
    "tags": []
   },
   "outputs": [
    {
     "data": {
      "text/latex": [
       "$\\displaystyle \\dot{\\E}_2=\\E_{3} \\dot{u}_0 + \\E_{uu\\lambda}$"
      ],
      "text/plain": [
       "<IPython.core.display.Math object>"
      ]
     },
     "metadata": {},
     "output_type": "display_data"
    }
   ],
   "source": [
    "#| code-fold: true\n",
    "display_latex_equation(lhs, rhs)"
   ]
  },
  {
   "cell_type": "code",
   "execution_count": 28,
   "id": "142c100f-9a61-4a3d-87ff-2857493a93c1",
   "metadata": {
    "tags": []
   },
   "outputs": [],
   "source": [
    "sol = solve(Eq(lhs, rhs), x)\n",
    "mixed2[x] = sol[0]"
   ]
  },
  {
   "cell_type": "code",
   "execution_count": 29,
   "id": "338699b1-752a-4f05-87b5-1a9a9764bc56",
   "metadata": {
    "tags": []
   },
   "outputs": [
    {
     "data": {
      "text/latex": [
       "$\\displaystyle \\E_{uu\\lambda}=- \\E_{3} \\dot{u}_0 + \\dot{\\E}_2$"
      ],
      "text/plain": [
       "<IPython.core.display.Math object>"
      ]
     },
     "metadata": {},
     "output_type": "display_data"
    }
   ],
   "source": [
    "#| code-fold: true\n",
    "display_latex_equation(x, mixed2[x])"
   ]
  },
  {
   "cell_type": "markdown",
   "id": "7d3a1746-05c7-43d7-b495-62b126e73300",
   "metadata": {},
   "source": [
    "Then, the expression of $\\dot{E}_3$ delivers an expression of the mixed derivative $\\E_{uuu\\lambda}$."
   ]
  },
  {
   "cell_type": "code",
   "execution_count": 30,
   "id": "dfa8b440-c89e-4bbd-892c-811bdabdf95b",
   "metadata": {
    "tags": []
   },
   "outputs": [],
   "source": [
    "x = E_uuuλ\n",
    "lhs = E3_dot\n",
    "rhs = E_uuu_star.coeff(λ, 1)"
   ]
  },
  {
   "cell_type": "code",
   "execution_count": 31,
   "id": "4a9f78ea-206e-4d8e-a209-608c6510b693",
   "metadata": {
    "tags": []
   },
   "outputs": [
    {
     "data": {
      "text/latex": [
       "$\\displaystyle \\dot{\\E}_3=\\E_{4} \\dot{u}_0 + \\E_{uuu\\lambda}$"
      ],
      "text/plain": [
       "<IPython.core.display.Math object>"
      ]
     },
     "metadata": {},
     "output_type": "display_data"
    }
   ],
   "source": [
    "#| code-fold: true\n",
    "display_latex_equation(lhs, rhs)"
   ]
  },
  {
   "cell_type": "code",
   "execution_count": 32,
   "id": "2e4ec480-2799-482e-a233-9eae787f3d30",
   "metadata": {
    "tags": []
   },
   "outputs": [],
   "source": [
    "sol = solve(Eq(lhs, rhs), x)\n",
    "mixed2[x] = sol[0]"
   ]
  },
  {
   "cell_type": "code",
   "execution_count": 33,
   "id": "95a87666-96fb-4a6f-8969-e97e752d62d3",
   "metadata": {
    "tags": []
   },
   "outputs": [
    {
     "data": {
      "text/latex": [
       "$\\displaystyle \\E_{uuu\\lambda}=- \\E_{4} \\dot{u}_0 + \\dot{\\E}_3$"
      ],
      "text/plain": [
       "<IPython.core.display.Math object>"
      ]
     },
     "metadata": {},
     "output_type": "display_data"
    }
   ],
   "source": [
    "#| code-fold: true\n",
    "display_latex_equation(x, mixed2[x])"
   ]
  },
  {
   "cell_type": "markdown",
   "id": "bf61775a-6522-45ed-aa39-001c43a2117e",
   "metadata": {},
   "source": [
    "Finally, $\\ddot{\\E}_2$ delivers an expression of the mixed derivative $\\E_{uu\\lambda\\lambda}$."
   ]
  },
  {
   "cell_type": "code",
   "execution_count": 34,
   "id": "cf501b91-f302-4931-99c0-447f24708bc1",
   "metadata": {
    "tags": []
   },
   "outputs": [],
   "source": [
    "x = E_uuλλ\n",
    "lhs = E2_ddot\n",
    "rhs = 2 * E_uu_star.coeff(λ, 2).subs(mixed2).expand()"
   ]
  },
  {
   "cell_type": "code",
   "execution_count": 35,
   "id": "af7a3126-b5e7-490c-9a1f-13451710db38",
   "metadata": {
    "tags": []
   },
   "outputs": [
    {
     "data": {
      "text/latex": [
       "$\\displaystyle \\ddot{\\E}_2=\\E_{3} \\ddot{u}_0 - \\E_{4} \\dot{u}_0^{2} + \\E_{uu\\lambda\\lambda} + 2 \\dot{\\E}_3 \\dot{u}_0$"
      ],
      "text/plain": [
       "<IPython.core.display.Math object>"
      ]
     },
     "metadata": {},
     "output_type": "display_data"
    }
   ],
   "source": [
    "#| code-fold: true\n",
    "display_latex_equation(lhs, rhs)"
   ]
  },
  {
   "cell_type": "code",
   "execution_count": 36,
   "id": "0974b12b-b13b-418f-949d-237c0f8219d2",
   "metadata": {
    "tags": []
   },
   "outputs": [],
   "source": [
    "sol = solve(Eq(lhs, rhs), x)\n",
    "mixed2[x] = sol[0]"
   ]
  },
  {
   "cell_type": "code",
   "execution_count": 37,
   "id": "bd092622-9476-4e41-99aa-c558d789f048",
   "metadata": {
    "tags": []
   },
   "outputs": [
    {
     "data": {
      "text/latex": [
       "$\\displaystyle \\E_{uu\\lambda\\lambda}=- \\E_{3} \\ddot{u}_0 + \\E_{4} \\dot{u}_0^{2} + \\ddot{\\E}_2 - 2 \\dot{\\E}_3 \\dot{u}_0$"
      ],
      "text/plain": [
       "<IPython.core.display.Math object>"
      ]
     },
     "metadata": {},
     "output_type": "display_data"
    }
   ],
   "source": [
    "#| code-fold: true\n",
    "display_latex_equation(x, mixed2[x])"
   ]
  },
  {
   "cell_type": "markdown",
   "id": "2e22c0dd-cee6-4987-9740-4263999721f1",
   "metadata": {},
   "source": [
    "## Summary: final expression of the energy"
   ]
  },
  {
   "cell_type": "markdown",
   "id": "9504c9ae-9eae-44b5-96b0-016d8a6b71d1",
   "metadata": {},
   "source": [
    "The following expressions were derived in @sec-20230628091013 "
   ]
  },
  {
   "cell_type": "code",
   "execution_count": 38,
   "id": "d97339ad-f5c3-4744-a881-bde577c7a9d7",
   "metadata": {},
   "outputs": [
    {
     "data": {
      "text/latex": [
       "$\\displaystyle \\begin{aligned}\\E_{u\\lambda}&=- \\E_{2} \\dot{u}_0\\\\\\E_{u\\lambda\\lambda}&=- \\E_{2} \\ddot{u}_0 - \\E_{3} \\dot{u}_0^{2} - 2 \\E_{uu\\lambda} \\dot{u}_0\\\\\\E_{u\\lambda\\lambda\\lambda}&=- \\E_{2} \\dddot{u}_0 - 3 \\E_{3} \\ddot{u}_0 \\dot{u}_0 - \\E_{4} \\dot{u}_0^{3} - 3 \\E_{uu\\lambda\\lambda} \\dot{u}_0 - 3 \\E_{uu\\lambda} \\ddot{u}_0 - 3 \\E_{uuu\\lambda} \\dot{u}_0^{2}\\\\\\end{aligned}$"
      ],
      "text/plain": [
       "<IPython.core.display.Math object>"
      ]
     },
     "metadata": {},
     "output_type": "display_data"
    }
   ],
   "source": [
    "#| code-fold: true\n",
    "display_latex_dict(mixed1, num_cols=1)"
   ]
  },
  {
   "cell_type": "markdown",
   "id": "4ff9b854-bc4e-4b72-a942-5cb9f0bd0e02",
   "metadata": {},
   "source": [
    "and in @sec-20230628091115"
   ]
  },
  {
   "cell_type": "code",
   "execution_count": 39,
   "id": "c0ebf7eb-b197-4995-b002-0d9248700513",
   "metadata": {},
   "outputs": [
    {
     "data": {
      "text/latex": [
       "$\\displaystyle \\begin{aligned}\\E_{uu\\lambda}&=- \\E_{3} \\dot{u}_0 + \\dot{\\E}_2\\\\\\E_{uuu\\lambda}&=- \\E_{4} \\dot{u}_0 + \\dot{\\E}_3\\\\\\E_{uu\\lambda\\lambda}&=- \\E_{3} \\ddot{u}_0 + \\E_{4} \\dot{u}_0^{2} + \\ddot{\\E}_2 - 2 \\dot{\\E}_3 \\dot{u}_0\\\\\\end{aligned}$"
      ],
      "text/plain": [
       "<IPython.core.display.Math object>"
      ]
     },
     "metadata": {},
     "output_type": "display_data"
    }
   ],
   "source": [
    "#| code-fold: true\n",
    "display_latex_dict(mixed2, num_cols=1)"
   ]
  },
  {
   "cell_type": "markdown",
   "id": "831a9761-d21a-4833-b7c2-5987777c1b14",
   "metadata": {},
   "source": [
    "Combining the above results allows to fully eliminate the mixed derivatives"
   ]
  },
  {
   "cell_type": "code",
   "execution_count": 40,
   "id": "1a9ac28e-c6ea-4727-b9f8-4ec2cb5edfa9",
   "metadata": {},
   "outputs": [
    {
     "data": {
      "text/latex": [
       "$\\displaystyle \\begin{aligned}\\E_{u\\lambda}&=- \\E_{2} \\dot{u}_0\\\\\\E_{u\\lambda\\lambda}&=- \\E_{2} \\ddot{u}_0 + \\E_{3} \\dot{u}_0^{2} - 2 \\dot{\\E}_2 \\dot{u}_0\\\\\\E_{u\\lambda\\lambda\\lambda}&=- \\E_{2} \\dddot{u}_0 + 3 \\E_{3} \\ddot{u}_0 \\dot{u}_0 - \\E_{4} \\dot{u}_0^{3} - 3 \\ddot{\\E}_2 \\dot{u}_0 - 3 \\ddot{u}_0 \\dot{\\E}_2 + 3 \\dot{\\E}_3 \\dot{u}_0^{2}\\\\\\E_{uu\\lambda}&=- \\E_{3} \\dot{u}_0 + \\dot{\\E}_2\\\\\\E_{uuu\\lambda}&=- \\E_{4} \\dot{u}_0 + \\dot{\\E}_3\\\\\\E_{uu\\lambda\\lambda}&=- \\E_{3} \\ddot{u}_0 + \\E_{4} \\dot{u}_0^{2} + \\ddot{\\E}_2 - 2 \\dot{\\E}_3 \\dot{u}_0\\\\\\end{aligned}$"
      ],
      "text/plain": [
       "<IPython.core.display.Math object>"
      ]
     },
     "metadata": {},
     "output_type": "display_data"
    }
   ],
   "source": [
    "#| code-fold: true\n",
    "\n",
    "mixed = {k: v.subs(mixed2).expand() for k, v in mixed1.items()}\n",
    "mixed.update(mixed2)\n",
    "\n",
    "display_latex_dict(mixed, num_cols=1)"
   ]
  },
  {
   "cell_type": "markdown",
   "id": "fad852af-e146-4405-926b-de5cdeb3e708",
   "metadata": {},
   "source": [
    "These expressions can be plugged into the expansion of the energy."
   ]
  },
  {
   "cell_type": "code",
   "execution_count": 41,
   "id": "5c50e928-0558-4f88-85cb-156324e99a6a",
   "metadata": {},
   "outputs": [],
   "source": [
    "E = E.subs(mixed).expand()"
   ]
  },
  {
   "cell_type": "code",
   "execution_count": 42,
   "id": "9e01a0b9-c4a7-4c43-89ab-731c52fc9d15",
   "metadata": {},
   "outputs": [
    {
     "data": {
      "text/latex": [
       "$\\displaystyle \\begin{aligned}\\E(u, \\lambda)={} &\\frac{\\E_{2} u^{2}}{2} + \\frac{\\E_{3} u^{3}}{6} + \\frac{\\E_{\\lambda\\lambda\\lambda} \\lambda^{3}}{6} + \\frac{\\E_{\\lambda\\lambda} \\lambda^{2}}{2} + \\E_{\\lambda} \\lambda\\\\ &+\\frac{\\E_{4} u^{4}}{24} + \\frac{\\E_{\\lambda\\lambda\\lambda\\lambda} \\lambda^{4}}{24} + \\frac{\\ddot{\\E}_2 \\lambda^{2} u^{2}}{4} + \\frac{\\dot{\\E}_2 \\lambda u^{2}}{2} + \\frac{\\dot{\\E}_3 \\lambda u^{3}}{6}\\\\ &+- \\frac{\\E_{2} \\ddot{u}_0 \\lambda^{2} u}{2} - \\E_{2} \\dot{u}_0 \\lambda u + \\frac{\\E_{3} \\dot{u}_0^{2} \\lambda^{2} u}{2} - \\dot{\\E}_2 \\dot{u}_0 \\lambda^{2} u + \\frac{\\dot{\\E}_3 \\dot{u}_0^{2} \\lambda^{3} u}{2}\\\\ &+- \\frac{\\E_{3} \\ddot{u}_0 \\lambda^{2} u^{2}}{4} - \\frac{\\E_{3} \\dot{u}_0 \\lambda u^{2}}{2} - \\frac{\\ddot{\\E}_2 \\dot{u}_0 \\lambda^{3} u}{2} - \\frac{\\ddot{u}_0 \\dot{\\E}_2 \\lambda^{3} u}{2} - \\frac{\\dot{\\E}_3 \\dot{u}_0 \\lambda^{2} u^{2}}{2}\\\\ &+- \\frac{\\E_{2} \\dddot{u}_0 \\lambda^{3} u}{6} + \\frac{\\E_{3} \\ddot{u}_0 \\dot{u}_0 \\lambda^{3} u}{2} - \\frac{\\E_{4} \\dot{u}_0^{3} \\lambda^{3} u}{6} + \\frac{\\E_{4} \\dot{u}_0^{2} \\lambda^{2} u^{2}}{4} - \\frac{\\E_{4} \\dot{u}_0 \\lambda u^{3}}{6}\\end{aligned}$"
      ],
      "text/plain": [
       "<IPython.core.display.Math object>"
      ]
     },
     "metadata": {},
     "output_type": "display_data"
    }
   ],
   "source": [
    "#| code-fold: true\n",
    "display_latex_long_equation(r\"\\E(u, \\lambda)\", E, terms_per_line=5)"
   ]
  },
  {
   "cell_type": "markdown",
   "id": "01811791-3ffd-4428-b7c2-b53be1aa9148",
   "metadata": {},
   "source": [
    "From which we deduce the expression of the residual $\\E_{,u}$"
   ]
  },
  {
   "cell_type": "code",
   "execution_count": 43,
   "id": "6b874358-4883-4542-a999-fb8f0a51321c",
   "metadata": {},
   "outputs": [
    {
     "data": {
      "text/latex": [
       "$\\displaystyle \\begin{aligned}\\E_{,u}(u, \\lambda)={} &\\E_{2} u + \\frac{\\E_{3} \\dot{u}_0^{2} \\lambda^{2}}{2} + \\frac{\\E_{3} u^{2}}{2} + \\frac{\\E_{4} u^{3}}{6} + \\dot{\\E}_2 \\lambda u\\\\ &+- \\E_{2} \\dot{u}_0 \\lambda + \\frac{\\ddot{\\E}_2 \\lambda^{2} u}{2} - \\dot{\\E}_2 \\dot{u}_0 \\lambda^{2} + \\frac{\\dot{\\E}_3 \\dot{u}_0^{2} \\lambda^{3}}{2} + \\frac{\\dot{\\E}_3 \\lambda u^{2}}{2}\\\\ &+- \\frac{\\E_{2} \\dddot{u}_0 \\lambda^{3}}{6} - \\frac{\\E_{2} \\ddot{u}_0 \\lambda^{2}}{2} - \\frac{\\E_{4} \\dot{u}_0^{3} \\lambda^{3}}{6} - \\frac{\\ddot{\\E}_2 \\dot{u}_0 \\lambda^{3}}{2} - \\frac{\\ddot{u}_0 \\dot{\\E}_2 \\lambda^{3}}{2}\\\\ &+\\frac{\\E_{3} \\ddot{u}_0 \\dot{u}_0 \\lambda^{3}}{2} - \\frac{\\E_{3} \\ddot{u}_0 \\lambda^{2} u}{2} - \\E_{3} \\dot{u}_0 \\lambda u + \\frac{\\E_{4} \\dot{u}_0^{2} \\lambda^{2} u}{2} - \\dot{\\E}_3 \\dot{u}_0 \\lambda^{2} u\\\\ &+- \\frac{\\E_{4} \\dot{u}_0 \\lambda u^{2}}{2}\\end{aligned}$"
      ],
      "text/plain": [
       "<IPython.core.display.Math object>"
      ]
     },
     "metadata": {},
     "output_type": "display_data"
    }
   ],
   "source": [
    "#| code-fold: true\n",
    "E_u = E.diff(u)\n",
    "display_latex_long_equation(r\"\\E_{,u}(u, \\lambda)\", E_u, terms_per_line=5)"
   ]
  },
  {
   "cell_type": "code",
   "execution_count": 44,
   "id": "89c724a0-1fe6-4df6-a7c0-7e20fe1bbc7b",
   "metadata": {},
   "outputs": [
    {
     "data": {
      "text/latex": [
       "$\\displaystyle \\begin{aligned}\\E_{,uu}(u, \\lambda)={} &\\E_{2} + \\E_{3} u + \\frac{\\E_{4} \\dot{u}_0^{2} \\lambda^{2}}{2} + \\frac{\\E_{4} u^{2}}{2} + \\frac{\\ddot{\\E}_2 \\lambda^{2}}{2} + \\dot{\\E}_2 \\lambda + \\dot{\\E}_3 \\lambda u\\\\ &+- \\frac{\\E_{3} \\ddot{u}_0 \\lambda^{2}}{2} - \\E_{3} \\dot{u}_0 \\lambda - \\E_{4} \\dot{u}_0 \\lambda u - \\dot{\\E}_3 \\dot{u}_0 \\lambda^{2}\\end{aligned}$"
      ],
      "text/plain": [
       "<IPython.core.display.Math object>"
      ]
     },
     "metadata": {},
     "output_type": "display_data"
    }
   ],
   "source": [
    "#| code-fold: true\n",
    "E_uu = E.diff(u, 2)\n",
    "display_latex_long_equation(r\"\\E_{,uu}(u, \\lambda)\", E_uu, terms_per_line=7)"
   ]
  },
  {
   "cell_type": "markdown",
   "id": "8e67a3a2-45dd-4d83-b5d2-8edd1c17aa06",
   "metadata": {
    "tags": []
   },
   "source": [
    "## Implementation in the `lsk.energy` module"
   ]
  },
  {
   "cell_type": "markdown",
   "id": "74156f10-2866-482d-a7a6-db1124a3a8df",
   "metadata": {},
   "source": [
    "This module exposes three functions\n",
    "\n",
    "- `create_E(u, λ)` : asymptotic expansion of the energy $\\E(u, \\lambda)$,\n",
    "- `create_E_u(u, λ)` : asymptotic expansion of the jacobian $\\E_{,u}(u, \\lambda)$,\n",
    "- `create_E_u(u, λ)` : asymptotic expansion of the hessian $\\E_{,uu}(u, \\lambda)$,\n",
    "- `create_u_star(λ)` : asymptotic expansion of the fundamental branch $u^\\star(\\lambda)$,\n",
    "\n",
    "where `u` and `λ` must be `SymPy` expressions."
   ]
  },
  {
   "cell_type": "code",
   "execution_count": 45,
   "id": "1632a8c0-4d94-4636-adbe-c91ff901d83e",
   "metadata": {
    "tags": []
   },
   "outputs": [
    {
     "data": {
      "text/plain": [
       "\u001b[0;32mfrom\u001b[0m \u001b[0mlsk\u001b[0m\u001b[0;34m.\u001b[0m\u001b[0msymbols\u001b[0m \u001b[0;32mimport\u001b[0m \u001b[0;34m*\u001b[0m\u001b[0;34m\u001b[0m\n",
       "\u001b[0;34m\u001b[0m\u001b[0;34m\u001b[0m\n",
       "\u001b[0;34m\u001b[0m\u001b[0m__mixed_derivatives\u001b[0m \u001b[0;34m=\u001b[0m \u001b[0;34m{\u001b[0m\u001b[0;34m\u001b[0m\n",
       "\u001b[0;34m\u001b[0m    \u001b[0mE_uλ\u001b[0m \u001b[0;34m:\u001b[0m \u001b[0;34m-\u001b[0m\u001b[0mE2\u001b[0m \u001b[0;34m*\u001b[0m \u001b[0mu0_dot\u001b[0m\u001b[0;34m,\u001b[0m\u001b[0;34m\u001b[0m\n",
       "\u001b[0;34m\u001b[0m    \u001b[0mE_uλλ\u001b[0m \u001b[0;34m:\u001b[0m \u001b[0;34m-\u001b[0m\u001b[0mE2\u001b[0m \u001b[0;34m*\u001b[0m \u001b[0mu0_ddot\u001b[0m \u001b[0;34m-\u001b[0m \u001b[0;36m2\u001b[0m \u001b[0;34m*\u001b[0m \u001b[0mE2_dot\u001b[0m \u001b[0;34m*\u001b[0m \u001b[0mu0_dot\u001b[0m \u001b[0;34m+\u001b[0m \u001b[0mE3\u001b[0m \u001b[0;34m*\u001b[0m \u001b[0mu0_dot\u001b[0m\u001b[0;34m**\u001b[0m\u001b[0;36m2\u001b[0m\u001b[0;34m,\u001b[0m\u001b[0;34m\u001b[0m\n",
       "\u001b[0;34m\u001b[0m    \u001b[0mE_uλλλ\u001b[0m \u001b[0;34m:\u001b[0m \u001b[0;34m(\u001b[0m\u001b[0;34m\u001b[0m\n",
       "\u001b[0;34m\u001b[0m        \u001b[0;34m-\u001b[0m\u001b[0mE2\u001b[0m \u001b[0;34m*\u001b[0m \u001b[0mu0_dddot\u001b[0m\u001b[0;34m\u001b[0m\n",
       "\u001b[0;34m\u001b[0m        \u001b[0;34m-\u001b[0m \u001b[0;36m3\u001b[0m \u001b[0;34m*\u001b[0m \u001b[0mE2_dot\u001b[0m \u001b[0;34m*\u001b[0m \u001b[0mu0_ddot\u001b[0m\u001b[0;34m\u001b[0m\n",
       "\u001b[0;34m\u001b[0m        \u001b[0;34m-\u001b[0m \u001b[0;36m3\u001b[0m \u001b[0;34m*\u001b[0m \u001b[0mE2_ddot\u001b[0m \u001b[0;34m*\u001b[0m \u001b[0mu0_dot\u001b[0m\u001b[0;34m\u001b[0m\n",
       "\u001b[0;34m\u001b[0m        \u001b[0;34m+\u001b[0m \u001b[0;36m3\u001b[0m \u001b[0;34m*\u001b[0m \u001b[0mE3\u001b[0m \u001b[0;34m*\u001b[0m \u001b[0mu0_dot\u001b[0m \u001b[0;34m*\u001b[0m \u001b[0mu0_ddot\u001b[0m\u001b[0;34m\u001b[0m\n",
       "\u001b[0;34m\u001b[0m        \u001b[0;34m+\u001b[0m \u001b[0;36m3\u001b[0m \u001b[0;34m*\u001b[0m \u001b[0mE3_dot\u001b[0m \u001b[0;34m*\u001b[0m \u001b[0mu0_dot\u001b[0m\u001b[0;34m**\u001b[0m\u001b[0;36m2\u001b[0m\u001b[0;34m\u001b[0m\n",
       "\u001b[0;34m\u001b[0m        \u001b[0;34m-\u001b[0m \u001b[0mE4\u001b[0m \u001b[0;34m*\u001b[0m \u001b[0mu0_dot\u001b[0m\u001b[0;34m**\u001b[0m\u001b[0;36m3\u001b[0m\u001b[0;34m\u001b[0m\n",
       "\u001b[0;34m\u001b[0m    \u001b[0;34m)\u001b[0m\u001b[0;34m,\u001b[0m\u001b[0;34m\u001b[0m\n",
       "\u001b[0;34m\u001b[0m    \u001b[0mE_uuλ\u001b[0m \u001b[0;34m:\u001b[0m \u001b[0mE2_dot\u001b[0m \u001b[0;34m-\u001b[0m \u001b[0mE3\u001b[0m \u001b[0;34m*\u001b[0m \u001b[0mu0_dot\u001b[0m\u001b[0;34m,\u001b[0m\u001b[0;34m\u001b[0m\n",
       "\u001b[0;34m\u001b[0m    \u001b[0mE_uuλλ\u001b[0m \u001b[0;34m:\u001b[0m \u001b[0mE4\u001b[0m \u001b[0;34m*\u001b[0m \u001b[0mu0_dot\u001b[0m\u001b[0;34m**\u001b[0m\u001b[0;36m2\u001b[0m \u001b[0;34m-\u001b[0m \u001b[0;36m2\u001b[0m \u001b[0;34m*\u001b[0m \u001b[0mE3_dot\u001b[0m \u001b[0;34m*\u001b[0m \u001b[0mu0_dot\u001b[0m \u001b[0;34m-\u001b[0m \u001b[0mE3\u001b[0m \u001b[0;34m*\u001b[0m \u001b[0mu0_ddot\u001b[0m \u001b[0;34m+\u001b[0m \u001b[0mE2_ddot\u001b[0m\u001b[0;34m,\u001b[0m\u001b[0;34m\u001b[0m\n",
       "\u001b[0;34m\u001b[0m    \u001b[0mE_uuuλ\u001b[0m \u001b[0;34m:\u001b[0m \u001b[0mE3_dot\u001b[0m \u001b[0;34m-\u001b[0m \u001b[0mE4\u001b[0m \u001b[0;34m*\u001b[0m \u001b[0mu0_dot\u001b[0m\u001b[0;34m,\u001b[0m\u001b[0;34m\u001b[0m\n",
       "\u001b[0;34m\u001b[0m\u001b[0;34m}\u001b[0m\u001b[0;34m\u001b[0m\n",
       "\u001b[0;34m\u001b[0m\u001b[0;34m\u001b[0m\n",
       "\u001b[0;34m\u001b[0m\u001b[0;34m\u001b[0m\n",
       "\u001b[0;34m\u001b[0m\u001b[0;32mdef\u001b[0m \u001b[0mcreate_E\u001b[0m\u001b[0;34m(\u001b[0m\u001b[0mu\u001b[0m\u001b[0;34m,\u001b[0m \u001b[0mλ\u001b[0m\u001b[0;34m)\u001b[0m\u001b[0;34m:\u001b[0m\u001b[0;34m\u001b[0m\n",
       "\u001b[0;34m\u001b[0m    \u001b[0mout\u001b[0m \u001b[0;34m=\u001b[0m \u001b[0;34m(\u001b[0m\u001b[0mλ\u001b[0m \u001b[0;34m*\u001b[0m \u001b[0mE_λ\u001b[0m \u001b[0;34m+\u001b[0m \u001b[0;34m(\u001b[0m\u001b[0mE2\u001b[0m \u001b[0;34m*\u001b[0m \u001b[0mu\u001b[0m\u001b[0;34m**\u001b[0m\u001b[0;36m2\u001b[0m \u001b[0;34m+\u001b[0m \u001b[0;36m2\u001b[0m \u001b[0;34m*\u001b[0m \u001b[0mλ\u001b[0m \u001b[0;34m*\u001b[0m \u001b[0mE_uλ\u001b[0m \u001b[0;34m*\u001b[0m \u001b[0mu\u001b[0m \u001b[0;34m+\u001b[0m \u001b[0mλ\u001b[0m\u001b[0;34m**\u001b[0m\u001b[0;36m2\u001b[0m \u001b[0;34m*\u001b[0m \u001b[0mE_λλ\u001b[0m\u001b[0;34m)\u001b[0m \u001b[0;34m/\u001b[0m \u001b[0;36m2\u001b[0m\u001b[0;34m\u001b[0m\n",
       "\u001b[0;34m\u001b[0m           \u001b[0;34m+\u001b[0m \u001b[0;34m(\u001b[0m\u001b[0mE3\u001b[0m \u001b[0;34m*\u001b[0m \u001b[0mu\u001b[0m\u001b[0;34m**\u001b[0m\u001b[0;36m3\u001b[0m \u001b[0;34m+\u001b[0m \u001b[0;36m3\u001b[0m \u001b[0;34m*\u001b[0m \u001b[0mλ\u001b[0m \u001b[0;34m*\u001b[0m \u001b[0mE_uuλ\u001b[0m \u001b[0;34m*\u001b[0m \u001b[0mu\u001b[0m\u001b[0;34m**\u001b[0m\u001b[0;36m2\u001b[0m \u001b[0;34m+\u001b[0m \u001b[0;36m3\u001b[0m \u001b[0;34m*\u001b[0m \u001b[0mλ\u001b[0m\u001b[0;34m**\u001b[0m\u001b[0;36m2\u001b[0m \u001b[0;34m*\u001b[0m \u001b[0mE_uλλ\u001b[0m \u001b[0;34m*\u001b[0m \u001b[0mu\u001b[0m\u001b[0;34m\u001b[0m\n",
       "\u001b[0;34m\u001b[0m              \u001b[0;34m+\u001b[0m \u001b[0mλ\u001b[0m\u001b[0;34m**\u001b[0m\u001b[0;36m3\u001b[0m \u001b[0;34m*\u001b[0m \u001b[0mE_λλλ\u001b[0m\u001b[0;34m)\u001b[0m \u001b[0;34m/\u001b[0m \u001b[0;36m6\u001b[0m\u001b[0;34m\u001b[0m\n",
       "\u001b[0;34m\u001b[0m           \u001b[0;34m+\u001b[0m \u001b[0;34m(\u001b[0m\u001b[0mE4\u001b[0m \u001b[0;34m*\u001b[0m \u001b[0mu\u001b[0m\u001b[0;34m**\u001b[0m\u001b[0;36m4\u001b[0m \u001b[0;34m+\u001b[0m \u001b[0;36m4\u001b[0m \u001b[0;34m*\u001b[0m \u001b[0mλ\u001b[0m \u001b[0;34m*\u001b[0m \u001b[0mE_uuuλ\u001b[0m \u001b[0;34m*\u001b[0m \u001b[0mu\u001b[0m\u001b[0;34m**\u001b[0m\u001b[0;36m3\u001b[0m \u001b[0;34m+\u001b[0m \u001b[0;36m6\u001b[0m \u001b[0;34m*\u001b[0m \u001b[0mλ\u001b[0m\u001b[0;34m**\u001b[0m\u001b[0;36m2\u001b[0m \u001b[0;34m*\u001b[0m \u001b[0mE_uuλλ\u001b[0m \u001b[0;34m*\u001b[0m \u001b[0mu\u001b[0m\u001b[0;34m**\u001b[0m\u001b[0;36m2\u001b[0m\u001b[0;34m\u001b[0m\n",
       "\u001b[0;34m\u001b[0m              \u001b[0;34m+\u001b[0m \u001b[0;36m4\u001b[0m \u001b[0;34m*\u001b[0m \u001b[0mλ\u001b[0m\u001b[0;34m**\u001b[0m\u001b[0;36m3\u001b[0m \u001b[0;34m*\u001b[0m \u001b[0mE_uλλλ\u001b[0m \u001b[0;34m*\u001b[0m \u001b[0mu\u001b[0m \u001b[0;34m+\u001b[0m \u001b[0mλ\u001b[0m\u001b[0;34m**\u001b[0m\u001b[0;36m4\u001b[0m \u001b[0;34m*\u001b[0m \u001b[0mE_λλλλ\u001b[0m\u001b[0;34m)\u001b[0m \u001b[0;34m/\u001b[0m \u001b[0;36m24\u001b[0m\u001b[0;34m)\u001b[0m\u001b[0;34m\u001b[0m\n",
       "\u001b[0;34m\u001b[0m    \u001b[0;32mreturn\u001b[0m \u001b[0mout\u001b[0m\u001b[0;34m.\u001b[0m\u001b[0msubs\u001b[0m\u001b[0;34m(\u001b[0m\u001b[0m__mixed_derivatives\u001b[0m\u001b[0;34m)\u001b[0m\u001b[0;34m.\u001b[0m\u001b[0mexpand\u001b[0m\u001b[0;34m(\u001b[0m\u001b[0;34m)\u001b[0m\u001b[0;34m\u001b[0m\n",
       "\u001b[0;34m\u001b[0m\u001b[0;34m\u001b[0m\n",
       "\u001b[0;34m\u001b[0m\u001b[0;34m\u001b[0m\n",
       "\u001b[0;34m\u001b[0m\u001b[0;32mdef\u001b[0m \u001b[0mcreate_E_u\u001b[0m\u001b[0;34m(\u001b[0m\u001b[0mu\u001b[0m\u001b[0;34m,\u001b[0m \u001b[0mλ\u001b[0m\u001b[0;34m)\u001b[0m\u001b[0;34m:\u001b[0m\u001b[0;34m\u001b[0m\n",
       "\u001b[0;34m\u001b[0m    \u001b[0mout\u001b[0m \u001b[0;34m=\u001b[0m \u001b[0;34m(\u001b[0m\u001b[0mE2\u001b[0m \u001b[0;34m*\u001b[0m \u001b[0mu\u001b[0m \u001b[0;34m+\u001b[0m \u001b[0mλ\u001b[0m \u001b[0;34m*\u001b[0m \u001b[0mE_uλ\u001b[0m\u001b[0;34m\u001b[0m\n",
       "\u001b[0;34m\u001b[0m           \u001b[0;34m+\u001b[0m \u001b[0;34m(\u001b[0m\u001b[0mE3\u001b[0m \u001b[0;34m*\u001b[0m \u001b[0mu\u001b[0m\u001b[0;34m**\u001b[0m\u001b[0;36m2\u001b[0m \u001b[0;34m+\u001b[0m \u001b[0;36m2\u001b[0m \u001b[0;34m*\u001b[0m \u001b[0mλ\u001b[0m \u001b[0;34m*\u001b[0m \u001b[0mE_uuλ\u001b[0m \u001b[0;34m*\u001b[0m \u001b[0mu\u001b[0m \u001b[0;34m+\u001b[0m \u001b[0mλ\u001b[0m\u001b[0;34m**\u001b[0m\u001b[0;36m2\u001b[0m \u001b[0;34m*\u001b[0m \u001b[0mE_uλλ\u001b[0m\u001b[0;34m)\u001b[0m \u001b[0;34m/\u001b[0m \u001b[0;36m2\u001b[0m\u001b[0;34m\u001b[0m\n",
       "\u001b[0;34m\u001b[0m           \u001b[0;34m+\u001b[0m \u001b[0;34m(\u001b[0m\u001b[0mE4\u001b[0m \u001b[0;34m*\u001b[0m \u001b[0mu\u001b[0m\u001b[0;34m**\u001b[0m\u001b[0;36m3\u001b[0m \u001b[0;34m+\u001b[0m \u001b[0;36m3\u001b[0m \u001b[0;34m*\u001b[0m \u001b[0mλ\u001b[0m \u001b[0;34m*\u001b[0m \u001b[0mE_uuuλ\u001b[0m \u001b[0;34m*\u001b[0m \u001b[0mu\u001b[0m\u001b[0;34m**\u001b[0m\u001b[0;36m2\u001b[0m \u001b[0;34m+\u001b[0m \u001b[0;36m3\u001b[0m \u001b[0;34m*\u001b[0m \u001b[0mλ\u001b[0m\u001b[0;34m**\u001b[0m\u001b[0;36m2\u001b[0m \u001b[0;34m*\u001b[0m \u001b[0mE_uuλλ\u001b[0m \u001b[0;34m*\u001b[0m \u001b[0mu\u001b[0m\u001b[0;34m\u001b[0m\n",
       "\u001b[0;34m\u001b[0m              \u001b[0;34m+\u001b[0m \u001b[0mλ\u001b[0m\u001b[0;34m**\u001b[0m\u001b[0;36m3\u001b[0m \u001b[0;34m*\u001b[0m \u001b[0mE_uλλλ\u001b[0m\u001b[0;34m)\u001b[0m \u001b[0;34m/\u001b[0m \u001b[0;36m6\u001b[0m\u001b[0;34m)\u001b[0m\u001b[0;34m\u001b[0m\n",
       "\u001b[0;34m\u001b[0m    \u001b[0;32mreturn\u001b[0m \u001b[0mout\u001b[0m\u001b[0;34m.\u001b[0m\u001b[0msubs\u001b[0m\u001b[0;34m(\u001b[0m\u001b[0m__mixed_derivatives\u001b[0m\u001b[0;34m)\u001b[0m\u001b[0;34m.\u001b[0m\u001b[0mexpand\u001b[0m\u001b[0;34m(\u001b[0m\u001b[0;34m)\u001b[0m\u001b[0;34m\u001b[0m\n",
       "\u001b[0;34m\u001b[0m\u001b[0;34m\u001b[0m\n",
       "\u001b[0;34m\u001b[0m\u001b[0;34m\u001b[0m\n",
       "\u001b[0;34m\u001b[0m\u001b[0;32mdef\u001b[0m \u001b[0mcreate_E_uu\u001b[0m\u001b[0;34m(\u001b[0m\u001b[0mu\u001b[0m\u001b[0;34m,\u001b[0m \u001b[0mλ\u001b[0m\u001b[0;34m)\u001b[0m\u001b[0;34m:\u001b[0m\u001b[0;34m\u001b[0m\n",
       "\u001b[0;34m\u001b[0m    \u001b[0mout\u001b[0m \u001b[0;34m=\u001b[0m  \u001b[0;34m(\u001b[0m\u001b[0mE2\u001b[0m \u001b[0;34m+\u001b[0m \u001b[0mE3\u001b[0m \u001b[0;34m*\u001b[0m \u001b[0mu\u001b[0m \u001b[0;34m+\u001b[0m \u001b[0mλ\u001b[0m \u001b[0;34m*\u001b[0m \u001b[0mE_uuλ\u001b[0m\u001b[0;34m\u001b[0m\n",
       "\u001b[0;34m\u001b[0m            \u001b[0;34m+\u001b[0m \u001b[0;34m(\u001b[0m\u001b[0mE4\u001b[0m \u001b[0;34m*\u001b[0m \u001b[0mu\u001b[0m\u001b[0;34m**\u001b[0m\u001b[0;36m2\u001b[0m \u001b[0;34m+\u001b[0m \u001b[0;36m2\u001b[0m \u001b[0;34m*\u001b[0m \u001b[0mλ\u001b[0m \u001b[0;34m*\u001b[0m \u001b[0mE_uuuλ\u001b[0m \u001b[0;34m*\u001b[0m \u001b[0mu\u001b[0m \u001b[0;34m+\u001b[0m \u001b[0mλ\u001b[0m\u001b[0;34m**\u001b[0m\u001b[0;36m2\u001b[0m \u001b[0;34m*\u001b[0m \u001b[0mE_uuλλ\u001b[0m\u001b[0;34m)\u001b[0m \u001b[0;34m/\u001b[0m \u001b[0;36m2\u001b[0m\u001b[0;34m)\u001b[0m\u001b[0;34m\u001b[0m\n",
       "\u001b[0;34m\u001b[0m    \u001b[0;32mreturn\u001b[0m \u001b[0mout\u001b[0m\u001b[0;34m.\u001b[0m\u001b[0msubs\u001b[0m\u001b[0;34m(\u001b[0m\u001b[0m__mixed_derivatives\u001b[0m\u001b[0;34m)\u001b[0m\u001b[0;34m.\u001b[0m\u001b[0mexpand\u001b[0m\u001b[0;34m(\u001b[0m\u001b[0;34m)\u001b[0m\u001b[0;34m\u001b[0m\n",
       "\u001b[0;34m\u001b[0m\u001b[0;34m\u001b[0m\n",
       "\u001b[0;34m\u001b[0m\u001b[0;34m\u001b[0m\n",
       "\u001b[0;34m\u001b[0m\u001b[0;32mdef\u001b[0m \u001b[0mcreate_u_star\u001b[0m\u001b[0;34m(\u001b[0m\u001b[0mλ\u001b[0m\u001b[0;34m)\u001b[0m\u001b[0;34m:\u001b[0m\u001b[0;34m\u001b[0m\n",
       "\u001b[0;34m\u001b[0m    \u001b[0;32mreturn\u001b[0m \u001b[0;34m(\u001b[0m\u001b[0mλ\u001b[0m \u001b[0;34m*\u001b[0m \u001b[0mu0_dot\u001b[0m \u001b[0;34m+\u001b[0m \u001b[0mλ\u001b[0m\u001b[0;34m**\u001b[0m\u001b[0;36m2\u001b[0m \u001b[0;34m*\u001b[0m \u001b[0mu0_ddot\u001b[0m \u001b[0;34m/\u001b[0m \u001b[0;36m2\u001b[0m \u001b[0;34m+\u001b[0m \u001b[0mλ\u001b[0m\u001b[0;34m**\u001b[0m\u001b[0;36m3\u001b[0m \u001b[0;34m*\u001b[0m \u001b[0mu0_dddot\u001b[0m \u001b[0;34m/\u001b[0m \u001b[0;36m6\u001b[0m\u001b[0;34m\u001b[0m\n",
       "\u001b[0;34m\u001b[0m            \u001b[0;34m+\u001b[0m \u001b[0mλ\u001b[0m\u001b[0;34m**\u001b[0m\u001b[0;36m4\u001b[0m \u001b[0;34m*\u001b[0m \u001b[0mu0_ddddot\u001b[0m \u001b[0;34m/\u001b[0m \u001b[0;36m24\u001b[0m\u001b[0;34m)\u001b[0m\u001b[0;34m.\u001b[0m\u001b[0mexpand\u001b[0m\u001b[0;34m(\u001b[0m\u001b[0;34m)\u001b[0m\u001b[0;34m\u001b[0m\u001b[0;34m\u001b[0m\u001b[0m\n"
      ]
     },
     "metadata": {},
     "output_type": "display_data"
    }
   ],
   "source": [
    "import lsk.energy\n",
    "\n",
    "%psource lsk.energy"
   ]
  },
  {
   "cell_type": "markdown",
   "id": "5c9f1b24-6568-46dc-ad6b-3d53f2386b52",
   "metadata": {},
   "source": [
    "And these functions can be tested against the expressions found above."
   ]
  },
  {
   "cell_type": "code",
   "execution_count": 46,
   "id": "aa809bf8-7483-4b6b-a4d2-bf31b0db4905",
   "metadata": {
    "tags": []
   },
   "outputs": [],
   "source": [
    "assert E == lsk.energy.create_E(u, λ)\n",
    "assert E_u == lsk.energy.create_E_u(u, λ)\n",
    "assert E_uu == lsk.energy.create_E_uu(u, λ)"
   ]
  }
 ],
 "metadata": {
  "kernelspec": {
   "display_name": "Python 3 (ipykernel)",
   "language": "python",
   "name": "python3"
  },
  "language_info": {
   "codemirror_mode": {
    "name": "ipython",
    "version": 3
   },
   "file_extension": ".py",
   "mimetype": "text/x-python",
   "name": "python",
   "nbconvert_exporter": "python",
   "pygments_lexer": "ipython3",
   "version": "3.10.6"
  },
  "toc-autonumbering": false,
  "toc-showmarkdowntxt": false
 },
 "nbformat": 4,
 "nbformat_minor": 5
}
