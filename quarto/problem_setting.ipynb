{
 "cells": [
  {
   "cell_type": "markdown",
   "id": "c018e3f7-66c6-4718-95d9-26b3de244268",
   "metadata": {},
   "source": [
    "# Problem setting {#sec-20230105101657}"
   ]
  },
  {
   "cell_type": "raw",
   "id": "6f58b0fa-cf25-4a40-b22e-f8c5cf410d94",
   "metadata": {},
   "source": [
    "$$\n",
    "\\newcommand{\\D}{\\mathrm{d}}\n",
    "\\newcommand{\\E}{\\mathcal{E}}\n",
    "$$"
   ]
  },
  {
   "cell_type": "markdown",
   "id": "30053d34-7dfd-441b-9311-9da55ee9ffba",
   "metadata": {},
   "source": [
    "The space of admissible states of the system under consideration is denoted $U$. It has the structure of a real vector space. The energy of the system is $\\E(u, \\lambda)$, where $\\lambda$ denotes a loading parameter. It is assumed that the fundamental branch of the equilibrium diagram, $u^\\ast(\\lambda)$ is known. Then the energy is stationary with respect to the state $u$ along the whole branch. In other words, for all $\\hat{u} \\in U$\n",
    "$$\n",
    "\\E_{,u}[u^{\\ast}(\\lambda), \\lambda; \\hat{u}]=0,\n",
    "$$ {#eq-20221227184138}\n",
    "where $\\E_{,u}(u, \\lambda; \\hat{u})$ denotes the (real) value of the differential of the energy $\\E$ with respect to the state $u$, evaluated at $(u, \\lambda)$, for the test function $\\hat{u}$. Similarly, evaluation of the second-, third-, etc., order differential of the energy will be denoted $\\E_{,uu}(u, \\lambda; \\hat{u}, \\hat{v})$, $\\E_{,uuu}(u, \\lambda; \\hat{u}, \\hat{v}, \\hat{w})$, etc. It is assumed that a finite value $\\lambda_0 > 0$ of $\\lambda$ can be found (critical load), such that\n",
    "\n",
    "1. $\\E_{,uu}[u(\\lambda), \\lambda] > 0$ for all $0 < \\lambda < \\lambda_0$,\n",
    "2. $\\E_{,uu}(u_0, \\lambda_0) \\geq 0$ but $\\E_{,uu}(u_0, \\lambda_0) \\ngtr 0$,\n",
    "3. $\\E_{,uu}[u(\\lambda), \\lambda] < 0$ for $\\lambda > \\lambda_0$, close enough to $\\lambda_0$."
   ]
  },
  {
   "cell_type": "markdown",
   "id": "c2770db9-a94e-4d15-9281-5308bb0923e7",
   "metadata": {},
   "source": [
    "The load $\\lambda_0$ will be referred to as the *critical load*; similarly, the state $u_0$ of the system at the critical load will be referred to as the *critical state*; finally, the pair $(u_0, \\lambda_0)$ is the *critical point* of the system. Assumption 1 implies that equilibria along the fundamental branch are *stable below the critical load*. Conversely, it results from assumption 3 that equilibrium points on the fundamental branch are *unstable above the critical load*. Stability at the critical load is yet undetermined."
   ]
  },
  {
   "cell_type": "markdown",
   "id": "a3b410c7-7f49-4639-b0e8-cb994caad124",
   "metadata": {},
   "source": [
    "The goal of these notes is to analyze *all* equilibrium paths that pass through the critical point $(u_0, \\lambda_0)$."
   ]
  },
  {
   "cell_type": "markdown",
   "id": "f106aa1f-a2fd-4d43-ad0c-ccb60e0f2d3a",
   "metadata": {},
   "source": [
    "We introduce the following notations\n",
    "$$\n",
    "u_0 = u^\\ast(\\lambda_0), \\quad \\dot{u}_0 = \\frac{\\D u^\\ast}{\\D \\lambda} \\biggr \\rvert_{\\lambda=\\lambda_0}, \\quad \\ddot{u}_0 = \\frac{\\D^2 u^\\ast}{\\D \\lambda^2} \\biggr \\rvert_{\\lambda=\\lambda_0}, \\quad \\dddot{u}_0 = \\ldots, \\quad \\ddddot{u}_0 = \\ldots\n",
    "$$\n",
    "and\n",
    "$$\n",
    "\\E_2 = \\E_{,uu}(u_0, \\lambda_0), \\quad \\E_3 = \\E_{,uuu}(u_0, \\lambda_0), \\quad \\E_4 = \\E_{,uuuu}(u_0, \\lambda_0).\n",
    "$$"
   ]
  },
  {
   "cell_type": "markdown",
   "id": "14d1cd8e-cda3-42fb-b07e-27c0e4695fb7",
   "metadata": {},
   "source": [
    "Note that $\\E_2$, $\\E_3$ and $\\E_4$ thus defined are bi-, tri- and quadrilinear forms, respectively. The following derivatives are also introduced\n",
    "$$\n",
    "\\dot{\\E}_2(\\hat{u}, \\hat{v}) = \\frac{\\D}{\\D\\lambda} \\E_{,uu}[ u^\\ast(\\lambda), \\lambda; \\hat{u}, \\hat{v}] \\biggr \\rvert_{\\lambda = \\lambda_0}\n",
    "= \\E_{,uuu}(u_0, \\lambda_0; \\dot{u}_0, \\hat{u}, \\hat{v}) + \\E_{,uu\\lambda}(u_0, \\lambda_0; \\hat{u}, \\hat{v})\n",
    "$${#eq-20221227184821}\n",
    "$$\n",
    "  \\begin{aligned}[b]\n",
    "    \\ddot{\\E}_2(\\hat{u}, \\hat{v}) = \\frac{\\D^2}{\\D\\lambda^2} \\E_{,uu}[ u^\\ast(\\lambda), \\lambda; \\hat{u}, \\hat{v}] \\biggr \\rvert_{\\lambda = \\lambda_0}\n",
    "\t={} & \\E_{,uuuu}(u_0, \\lambda_0; \\dot{u}_0, \\dot{u}_0, \\hat{u}, \\hat{v}) + 2\\E_{,uuu\\lambda}(u_0, \\lambda_0; \\dot{u}_0, \\hat{u}, \\hat{v})\\\\\n",
    "    & + \\E_{,uu\\lambda\\lambda}( u_0, \\lambda_0; \\hat{u}, \\hat{v}) + \\E_{,uuu}(u_0, \\lambda_0, \\ddot{u}_0),\n",
    "  \\end{aligned}\n",
    "$$\n",
    "and, similarly, $\\dot{\\E}_3$, $\\ddot{\\E}_3$, etc."
   ]
  },
  {
   "cell_type": "markdown",
   "id": "41b34b6a-3fb7-46a9-835e-fce181be91d5",
   "metadata": {},
   "source": [
    "We will use the [Python](https://www.python.org) library [SymPy](https://www.sympy.org) for symbolic mathematics and rely also on the [IPython](https://ipython.org/) library (in particular, [IPython.display.Math](https://ipython.readthedocs.io/en/stable/api/generated/IPython.display.html#IPython.display.Math)) for pretty $\\LaTeX$ output. Some useful functions are defined in the `lsk.py` module, which will be systematically imported."
   ]
  }
 ],
 "metadata": {
  "kernelspec": {
   "display_name": "Python 3 (ipykernel)",
   "language": "python",
   "name": "python3"
  },
  "language_info": {
   "codemirror_mode": {
    "name": "ipython",
    "version": 3
   },
   "file_extension": ".py",
   "mimetype": "text/x-python",
   "name": "python",
   "nbconvert_exporter": "python",
   "pygments_lexer": "ipython3",
   "version": "3.10.6"
  }
 },
 "nbformat": 4,
 "nbformat_minor": 5
}
