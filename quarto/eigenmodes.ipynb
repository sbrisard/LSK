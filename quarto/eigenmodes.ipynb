{
 "cells": [
  {
   "cell_type": "code",
   "execution_count": 1,
   "id": "106d67c6-0df7-4668-b05e-3422bc794e85",
   "metadata": {},
   "outputs": [],
   "source": [
    "import lsk\n",
    "from sympy import *"
   ]
  },
  {
   "cell_type": "code",
   "execution_count": 47,
   "id": "5e74d13a-5749-4d24-b613-8d7b1c2535e4",
   "metadata": {},
   "outputs": [],
   "source": [
    "η = Symbol(r\"\\eta\")\n",
    "λ1 = Symbol(r\"[\\order[1]{\\lambda}]\")\n",
    "λ2 = Symbol(\"[\\order[2]{\\lambda}]\")"
   ]
  },
  {
   "cell_type": "code",
   "execution_count": 48,
   "id": "bc72fc53-9ffc-47ae-9192-bd4fd9003c74",
   "metadata": {},
   "outputs": [],
   "source": [
    "u1 = Symbol(r\"[\\order[1]{\\xi}_{i} v_{i}]\")\n",
    "u2 = (Symbol(r\"[\\order[2]{\\xi}_{j} v_{j}]\")\n",
    "      + Symbol(r\"[\\order[1]{\\xi}_{k} \\order[1]{\\xi}_{l} w_{kl}]\")\n",
    "      + 2 * λ1 * Symbol(r\"[\\order[1]{\\xi}_{m} w_{m\\lambda}]\"))"
   ]
  },
  {
   "cell_type": "code",
   "execution_count": 89,
   "id": "d25e9a0a-f61a-4a6d-83bb-7f75b10a889e",
   "metadata": {},
   "outputs": [
    {
     "data": {
      "text/latex": [
       "$\\displaystyle \\begin{align}\\order[1]{u}&=[\\order[1]{\\xi}_{i} v_{i}]\\\\\\order[2]{u}&=2 [\\order[1]{\\lambda}] [\\order[1]{\\xi}_{m} w_{m\\lambda}] + [\\order[1]{\\xi}_{k} \\order[1]{\\xi}_{l} w_{kl}] + [\\order[2]{\\xi}_{j} v_{j}]\\\\\\end{align}$"
      ],
      "text/plain": [
       "<IPython.core.display.Math object>"
      ]
     },
     "metadata": {},
     "output_type": "display_data"
    }
   ],
   "source": [
    "#| code-fold: true\n",
    "lsk.display_latex_dict({r\"\\order[1]{u}\": u1,\n",
    "                        r\"\\order[2]{u}\": u2}, num_cols=1)"
   ]
  },
  {
   "cell_type": "code",
   "execution_count": 50,
   "id": "4bc1d3d7-0a12-4aab-94eb-795e3ae635f7",
   "metadata": {},
   "outputs": [],
   "source": [
    "E2, E3, E4, E2_dot, E3_dot, E2_ddot = symbols(r\"\\E_2 \\E_3 \\E_4 \\dot{\\E}_2 \\dot{\\E}_3 \\ddot{\\E}_2\")"
   ]
  },
  {
   "cell_type": "code",
   "execution_count": 51,
   "id": "6bb9b96f-1cd7-497b-8395-d301b0eccc8e",
   "metadata": {},
   "outputs": [],
   "source": [
    "E_uu = E2 + η * (E3 * u1 + λ1 * E2_dot) + η**2 / 2 * (E4 * u1 * u1 + E3 * u2 + 2 * λ1 * E3_dot * u1 + λ1 ** 2 * E2_ddot + λ2 * E2_dot)"
   ]
  },
  {
   "cell_type": "code",
   "execution_count": 52,
   "id": "6f7d2e1b-4050-4b12-8662-53008db438db",
   "metadata": {},
   "outputs": [
    {
     "data": {
      "text/latex": [
       "$\\displaystyle \\E_{,uu}=\\E_{2} + \\frac{\\eta^{2} \\left([\\order[1]{\\lambda}]^{2} \\ddot{\\E}_2 + 2 [\\order[1]{\\lambda}] [\\order[1]{\\xi}_{i} v_{i}] \\dot{\\E}_3 + [\\order[1]{\\xi}_{i} v_{i}]^{2} \\E_{4} + [\\order[2]{\\lambda}] \\dot{\\E}_2 + \\E_{3} \\cdot \\left(2 [\\order[1]{\\lambda}] [\\order[1]{\\xi}_{m} w_{m\\lambda}] + [\\order[1]{\\xi}_{k} \\order[1]{\\xi}_{l} w_{kl}] + [\\order[2]{\\xi}_{j} v_{j}]\\right)\\right)}{2} + \\eta \\left([\\order[1]{\\lambda}] \\dot{\\E}_2 + [\\order[1]{\\xi}_{i} v_{i}] \\E_{3}\\right)$"
      ],
      "text/plain": [
       "<IPython.core.display.Math object>"
      ]
     },
     "metadata": {},
     "output_type": "display_data"
    }
   ],
   "source": [
    "#| code-fold: true\n",
    "lsk.display_latex_equation(r\"\\E_{,uu}\", E_uu)"
   ]
  },
  {
   "cell_type": "code",
   "execution_count": 65,
   "id": "51d5809b-161a-4792-b439-f80bdf412b0f",
   "metadata": {},
   "outputs": [],
   "source": [
    "u_hat = Symbol(r\"\\hat{u}\")\n",
    "x0_dot_u_hat = Symbol(r\"\\langle\\order[0]{x}, \\hat{u}\\rangle\")\n",
    "x1_dot_u_hat = Symbol(r\"\\langle\\order[1]{x}, \\hat{u}\\rangle\")\n",
    "x2_dot_u_hat = Symbol(r\"\\langle\\order[2]{x}, \\hat{u}\\rangle\")\n",
    "α0, α1, α2 = symbols(r\"[\\order[0]{\\alpha}] [\\order[1]{\\alpha}] [\\order[2]{\\alpha}]\")\n",
    "\n",
    "x_dot_u_hat = x0_dot_u_hat + η * x1_dot_u_hat + η**2 / 2 * x2_dot_u_hat\n",
    "α = α0 + η * α1 + η**2 / 2 * α2"
   ]
  },
  {
   "cell_type": "code",
   "execution_count": 64,
   "id": "9ba2a42e-f7c0-4dc5-9454-417af2cc9fb0",
   "metadata": {},
   "outputs": [
    {
     "data": {
      "text/latex": [
       "$\\displaystyle \\begin{align}\\alpha&=[\\order[0]{\\alpha}] + [\\order[1]{\\alpha}] \\eta + \\frac{[\\order[2]{\\alpha}] \\eta^{2}}{2}\\\\\\langle x, \\hat{u} \\rangle&=\\frac{\\eta^{2} \\langle\\order[2]{x}, \\hat{u}\\rangle}{2} + \\eta \\langle\\order[1]{x}, \\hat{u}\\rangle + \\langle\\order[0]{x}, \\hat{u}\\rangle\\\\\\end{align}$"
      ],
      "text/plain": [
       "<IPython.core.display.Math object>"
      ]
     },
     "metadata": {},
     "output_type": "display_data"
    }
   ],
   "source": [
    "#| code-fold: true\n",
    "lsk.display_latex_dict({r\"\\alpha\": α, r\"\\langle x, \\hat{u} \\rangle\": x_dot_u_hat}, num_cols=1)"
   ]
  },
  {
   "cell_type": "code",
   "execution_count": 74,
   "id": "62015cf9-a691-4524-95e9-54429dfc92c6",
   "metadata": {},
   "outputs": [],
   "source": [
    "lhs = expand(E_uu * x * u_hat)\n",
    "rhs = expand(α * x_dot_u_hat)"
   ]
  },
  {
   "cell_type": "code",
   "execution_count": 82,
   "id": "919d0d6c-a03a-4e5b-9fec-65807dc7e466",
   "metadata": {},
   "outputs": [],
   "source": [
    "lhs0 = lhs.coeff(η, 0)\n",
    "rhs0 = rhs.coeff(η, 0)"
   ]
  },
  {
   "cell_type": "code",
   "execution_count": 83,
   "id": "9c6250ce-6868-4d15-afec-3947e4e78188",
   "metadata": {},
   "outputs": [
    {
     "data": {
      "text/latex": [
       "$\\displaystyle [\\order[0]{x}] \\E_{2} \\hat{u}=[\\order[0]{\\alpha}] \\langle\\order[0]{x}, \\hat{u}\\rangle$"
      ],
      "text/plain": [
       "<IPython.core.display.Math object>"
      ]
     },
     "metadata": {},
     "output_type": "display_data"
    }
   ],
   "source": [
    "#| code-fold: true\n",
    "lsk.display_latex_equation(lhs0, rhs0)"
   ]
  },
  {
   "cell_type": "code",
   "execution_count": 84,
   "id": "0178797a-f30a-49b2-97b5-0d519399ecd4",
   "metadata": {},
   "outputs": [],
   "source": [
    "lhs1 = lhs.coeff(η, 1)\n",
    "rhs1 = rhs.coeff(η, 1)"
   ]
  },
  {
   "cell_type": "code",
   "execution_count": 85,
   "id": "da669232-a95f-4f08-a424-afdcbc00a92b",
   "metadata": {},
   "outputs": [
    {
     "data": {
      "text/latex": [
       "$\\displaystyle [\\order[0]{x}] [\\order[1]{\\lambda}] \\dot{\\E}_2 \\hat{u} + [\\order[0]{x}] [\\order[1]{\\xi}_{i} v_{i}] \\E_{3} \\hat{u} + [\\order[1]{x}] \\E_{2} \\hat{u}=[\\order[0]{\\alpha}] \\langle\\order[1]{x}, \\hat{u}\\rangle + [\\order[1]{\\alpha}] \\langle\\order[0]{x}, \\hat{u}\\rangle$"
      ],
      "text/plain": [
       "<IPython.core.display.Math object>"
      ]
     },
     "metadata": {},
     "output_type": "display_data"
    }
   ],
   "source": [
    "#| code-fold: true\n",
    "lsk.display_latex_equation(lhs1, rhs1)"
   ]
  },
  {
   "cell_type": "code",
   "execution_count": 87,
   "id": "0231ee4c-0251-4e7e-bdd0-9b9476ff0ca8",
   "metadata": {},
   "outputs": [],
   "source": [
    "lhs2 = lhs.coeff(η, 2)\n",
    "rhs2 = rhs.coeff(η, 2)"
   ]
  },
  {
   "cell_type": "code",
   "execution_count": 88,
   "id": "fa44ed95-a453-42b6-9222-0507b22ced72",
   "metadata": {},
   "outputs": [
    {
     "data": {
      "text/latex": [
       "$\\displaystyle \\frac{[\\order[0]{x}] [\\order[1]{\\lambda}]^{2} \\ddot{\\E}_2 \\hat{u}}{2} + [\\order[0]{x}] [\\order[1]{\\lambda}] [\\order[1]{\\xi}_{i} v_{i}] \\dot{\\E}_3 \\hat{u} + [\\order[0]{x}] [\\order[1]{\\lambda}] [\\order[1]{\\xi}_{m} w_{m\\lambda}] \\E_{3} \\hat{u} + \\frac{[\\order[0]{x}] [\\order[1]{\\xi}_{i} v_{i}]^{2} \\E_{4} \\hat{u}}{2} + \\frac{[\\order[0]{x}] [\\order[1]{\\xi}_{k} \\order[1]{\\xi}_{l} w_{kl}] \\E_{3} \\hat{u}}{2} + \\frac{[\\order[0]{x}] [\\order[2]{\\lambda}] \\dot{\\E}_2 \\hat{u}}{2} + \\frac{[\\order[0]{x}] [\\order[2]{\\xi}_{j} v_{j}] \\E_{3} \\hat{u}}{2} + [\\order[1]{\\lambda}] [\\order[1]{x}] \\dot{\\E}_2 \\hat{u} + [\\order[1]{\\xi}_{i} v_{i}] [\\order[1]{x}] \\E_{3} \\hat{u} + \\frac{[\\order[2]{x}] \\E_{2} \\hat{u}}{2}=\\frac{[\\order[0]{\\alpha}] \\langle\\order[2]{x}, \\hat{u}\\rangle}{2} + [\\order[1]{\\alpha}] \\langle\\order[1]{x}, \\hat{u}\\rangle + \\frac{[\\order[2]{\\alpha}] \\langle\\order[0]{x}, \\hat{u}\\rangle}{2}$"
      ],
      "text/plain": [
       "<IPython.core.display.Math object>"
      ]
     },
     "metadata": {},
     "output_type": "display_data"
    }
   ],
   "source": [
    "#| code-fold: true\n",
    "lsk.display_latex_equation(lhs2, rhs2)"
   ]
  }
 ],
 "metadata": {
  "kernelspec": {
   "display_name": "Python 3 (ipykernel)",
   "language": "python",
   "name": "python3"
  },
  "language_info": {
   "codemirror_mode": {
    "name": "ipython",
    "version": 3
   },
   "file_extension": ".py",
   "mimetype": "text/x-python",
   "name": "python",
   "nbconvert_exporter": "python",
   "pygments_lexer": "ipython3",
   "version": "3.9.16"
  }
 },
 "nbformat": 4,
 "nbformat_minor": 5
}
