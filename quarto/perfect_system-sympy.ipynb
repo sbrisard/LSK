{
 "cells": [
  {
   "cell_type": "markdown",
   "id": "8be474c1-2c79-4a5a-a1c8-6d849c67e906",
   "metadata": {},
   "source": [
    "# Bifurcation equations of the perfect system {#sec-20230102153124}\n",
    "\n",
    "In this notebook, the bifurcation analysis of the perfect system is performed symbolically. This notebook uses custom $\\LaTeX\\newcommand{\\D}{\\mathrm{d}}\\newcommand{\\E}{\\mathcal{E}}\\newcommand{\\reals}{\\mathbb{R}}$ macros.\n",
    "\n",
    "Symbolic expressions of the energy $(u, \\lambda) \\mapsto \\E(u, \\lambda)$ and of the fundamental path $\\lambda \\mapsto u^\\ast(\\lambda)$ are first constructed in @sec-20230103084732. These expressions are Taylor expansions about the critical point $(u_0, \\lambda_0)$.\n",
    "\n",
    "Without loss of generality, it will be assumed in this notebook that $\\lambda_0 = 0$ and $u_0 = 0$. The general case $\\lambda_0 \\neq 0$ and $u_0 \\neq 0$ is readily recovered through the substitution $\\lambda \\leftrightarrow \\lambda - \\lambda_0$ and $u \\leftrightarrow u - u_0$."
   ]
  },
  {
   "cell_type": "markdown",
   "id": "62ad2dfb-1006-4f94-a4a1-2c61a719a6d7",
   "metadata": {},
   "source": [
    "## Initialization\n",
    "\n",
    "We use the [Python](https://www.python.org) library [SymPy](https://www.sympy.org) (imported as `sp`, here) for symbolic mathematics. We define a few common symbols and useful functions."
   ]
  },
  {
   "cell_type": "code",
   "execution_count": 1,
   "id": "b9a81a96-24f1-4524-88df-cfc59f34cdfb",
   "metadata": {},
   "outputs": [],
   "source": [
    "import sympy as sp\n",
    "\n",
    "def latex(x):\n",
    "    return x if str(x) == x else sp.latex(x)\n",
    "  \n",
    "zero = sp.Integer(0)\n",
    "\n",
    "λ, u, v, u_hat, v_hat, w_hat = sp.symbols(r\"\\lambda u v \\hat{u} \\hat{v} \\hat{w}\")"
   ]
  },
  {
   "cell_type": "markdown",
   "id": "80e88d21-5fc1-42d7-a6fa-195c81b37ec9",
   "metadata": {},
   "source": [
    "The [IPython](https://ipython.org/) library (in particular, [IPython.display.Math](https://ipython.readthedocs.io/en/stable/api/generated/IPython.display.html#IPython.display.Math)) will be used for pretty $\\LaTeX$ output."
   ]
  },
  {
   "cell_type": "code",
   "execution_count": 2,
   "id": "62910a5a-4df6-42fa-95e4-63dbc318ef87",
   "metadata": {},
   "outputs": [],
   "source": [
    "import IPython.display as ipd\n",
    "\n",
    "def display_latex_str(s):\n",
    "    display(ipd.Math(s))\n",
    "\n",
    "def display_latex_dict(d, num_cols=2):\n",
    "    s = \"\\\\begin{align}\"\n",
    "    col = 1\n",
    "    for k, v in d.items():\n",
    "        s += latex(k) + \"&=\" + latex(v)\n",
    "        s += r\"\\\\\" if col % num_cols == 0 else r\"&\"\n",
    "        col += 1\n",
    "    s += \"\\\\end{align}\"\n",
    "    display_latex_str(s)\n",
    "\n",
    "def display_latex_equation(lhs, rhs):\n",
    "    display_latex_str(latex(lhs) + \"=\" + latex(rhs))"
   ]
  },
  {
   "cell_type": "markdown",
   "id": "d7b2761a-f22b-46b8-a717-998d42068c98",
   "metadata": {},
   "source": [
    "## Symbolic expressions of the energy and fundamental path {#sec-20230103084732}"
   ]
  },
  {
   "cell_type": "markdown",
   "id": "18023790-d06d-4a6c-96fd-845ba88d343e",
   "metadata": {},
   "source": [
    "The following developments involve the energy $(u, \\lambda) \\mapsto \\E(u, \\lambda)$ and its differentials at the critical point $(u_0, \\lambda_0)$, as well as the fundamental path $\\lambda \\mapsto u^\\ast(\\lambda)$ and its derivatives at $\\lambda = \\lambda_0$. It will therefore be convenient to express $\\E$ and $u^\\star$ as Taylor expansions with respect to $u$ and $\\lambda$."
   ]
  },
  {
   "cell_type": "markdown",
   "id": "67fbf5f1-5843-403f-aaa6-acd8bb25a181",
   "metadata": {},
   "source": [
    "We start with the Taylor expansion of the energy $\\E$. We define its differentials at the critical point. These differentials are stored in a dictionary. Values are indexed with the order of the differentials with respect to $u$ and $\\lambda$."
   ]
  },
  {
   "cell_type": "raw",
   "id": "f62ce6ac-84b7-41fd-9a90-ca90ccef2059",
   "metadata": {},
   "source": [
    "::: {.callout-note}"
   ]
  },
  {
   "cell_type": "markdown",
   "id": "34c22f28-bd51-4a5b-b669-e54023697161",
   "metadata": {},
   "source": [
    "In the following code blocks, `n` is the total order of the differential, `p` is the order of the differential with respect to $u$ and `q = n - p` is the order of the differential with respect to $\\lambda$."
   ]
  },
  {
   "cell_type": "raw",
   "id": "4a6ea1f6-a6e1-4711-ad80-8fe649dd219b",
   "metadata": {},
   "source": [
    ":::"
   ]
  },
  {
   "cell_type": "code",
   "execution_count": 3,
   "id": "bbb935ff-84da-49c0-bbaf-a80b0330abae",
   "metadata": {},
   "outputs": [],
   "source": [
    "dE = dict()\n",
    "for n in range(1, 5):\n",
    "    for p in range(n + 1):\n",
    "        q = n - p\n",
    "        if q == 0:\n",
    "            dE[p, q] = sp.Symbol(r\"\\E_{}\".format(p))\n",
    "        else:\n",
    "            dE[p, q] = sp.Symbol(r\"\\E_{\" + p * \"u\" + q * \"\\lambda\" + \"}\")\n",
    "            \n",
    "# Remember that the energy is stationary at the critical point (equilibrium)\n",
    "dE[1, 0] = zero"
   ]
  },
  {
   "cell_type": "markdown",
   "id": "0bfbc9f1-8500-490c-9011-9f506b1d6b9c",
   "metadata": {},
   "source": [
    "The dictionary `dE` should be understood as follows: `dE[(2, 1)] == dE[2, 1]` is the symbol $\\E_{uu\\lambda}$, which stands for $\\E_{,uu\\lambda}(u_0, \\lambda_0; \\bullet, \\bullet)$. The following symbols have been defined."
   ]
  },
  {
   "cell_type": "code",
   "execution_count": 4,
   "id": "5652e3f5-b03e-4a4a-92c1-ffd699b7744c",
   "metadata": {},
   "outputs": [
    {
     "data": {
      "text/latex": [
       "$\\displaystyle \\begin{align}\\E_{\\lambda}&=\\E_{,\\lambda}(u_0, \\lambda_0)&0&=\\E_{,u}(u_0, \\lambda_0)&\\E_{\\lambda\\lambda}&=\\E_{,\\lambda\\lambda}(u_0, \\lambda_0)\\\\\\E_{u\\lambda}&=\\E_{,u\\lambda}(u_0, \\lambda_0)&\\E_{2}&=\\E_{,uu}(u_0, \\lambda_0)&\\E_{\\lambda\\lambda\\lambda}&=\\E_{,\\lambda\\lambda\\lambda}(u_0, \\lambda_0)\\\\\\E_{u\\lambda\\lambda}&=\\E_{,u\\lambda\\lambda}(u_0, \\lambda_0)&\\E_{uu\\lambda}&=\\E_{,uu\\lambda}(u_0, \\lambda_0)&\\E_{3}&=\\E_{,uuu}(u_0, \\lambda_0)\\\\\\E_{\\lambda\\lambda\\lambda\\lambda}&=\\E_{,\\lambda\\lambda\\lambda\\lambda}(u_0, \\lambda_0)&\\E_{u\\lambda\\lambda\\lambda}&=\\E_{,u\\lambda\\lambda\\lambda}(u_0, \\lambda_0)&\\E_{uu\\lambda\\lambda}&=\\E_{,uu\\lambda\\lambda}(u_0, \\lambda_0)\\\\\\E_{uuu\\lambda}&=\\E_{,uuu\\lambda}(u_0, \\lambda_0)&\\E_{4}&=\\E_{,uuuu}(u_0, \\lambda_0)&\\end{align}$"
      ],
      "text/plain": [
       "<IPython.core.display.Math object>"
      ]
     },
     "metadata": {},
     "output_type": "display_data"
    }
   ],
   "source": [
    "#| code-fold: true\n",
    "\n",
    "_dict = dict()\n",
    "for n in range(1, 5):\n",
    "    for p in range(n + 1):\n",
    "        q = n - p\n",
    "        _dict[dE[p, q]] = (\"\\\\E_{,\" + p * \"u\" \n",
    "                           + q * \"\\\\lambda\"\n",
    "                           + \"}(u_0, \\lambda_0)\")\n",
    "        \n",
    "display_latex_dict(_dict, num_cols=3)"
   ]
  },
  {
   "cell_type": "markdown",
   "id": "95bb0dfa-de22-4917-940b-5847e7fd2ec2",
   "metadata": {},
   "source": [
    "where\n",
    "\n",
    "- $\\E_\\lambda$, $\\E_{\\lambda\\lambda}$, $\\E_{\\lambda\\lambda\\lambda}$ and $\\E_{\\lambda\\lambda\\lambda\\lambda}$ are *scalar quantities*,\n",
    "- $\\E_{u\\lambda}$, $\\E_{u\\lambda\\lambda}$ and $\\E_{u\\lambda\\lambda\\lambda}$ are *linear forms*,\n",
    "- $\\E_2$, $\\E_{uu\\lambda}$ and $\\E_{uu\\lambda\\lambda}$ are *bilinear forms*,\n",
    "- $\\E_3$ and $\\E_{uuu\\lambda}$ are *trilinear forms*,\n",
    "- $\\E_4$  is a *quadrilinear form*."
   ]
  },
  {
   "cell_type": "raw",
   "id": "408ff340-7912-4073-b028-d756caceed2f",
   "metadata": {},
   "source": [
    "::: {.callout-important}"
   ]
  },
  {
   "cell_type": "markdown",
   "id": "04eabb02-65e3-4cd1-9a69-c8f5dbf4e7ad",
   "metadata": {},
   "source": [
    "Note that all these differentials are defined as SymPy *scalars*. A definition as a SymPy *function* (e.g. `E2 = Function(r\"\\E_2\")`) would be more appropriate. However, SymPy would fail to account for multilinearity or symmetry of these forms. Therefore, we use the following trick: all multi-linear forms are defined as scalars, and the standard multiplication operator `*` means function application. In other words, `E2 * (α * u + β * v) * w` (resp. `E2 * u * v - E2 * v * u`) should be understood as `E2(α * u + β * v, w)` (resp. `E2(u, v) - E2(v, u)`). In both cases, the expressions would are correctly simplified.\n",
    "\n",
    "Whether the symbols in an expression are true scalars or vectors (elements of $U$) should be clear from the context. For example, in the expression: `λ * E2 * u * v`, the first `*` is a true multiplication, while the other `*` refer to function application."
   ]
  },
  {
   "cell_type": "raw",
   "id": "79b89f80-410a-4b35-9e18-8941f8de2485",
   "metadata": {
    "tags": []
   },
   "source": [
    ":::"
   ]
  },
  {
   "cell_type": "markdown",
   "id": "8354a965-9500-43bb-a3a4-5bd4fcfaf952",
   "metadata": {},
   "source": [
    "The energy $\\E(u, \\lambda)$ is now expressed as a Taylor expansion about the critical point."
   ]
  },
  {
   "cell_type": "code",
   "execution_count": 5,
   "id": "ef076813-8918-4530-a8ed-4683d579a008",
   "metadata": {},
   "outputs": [],
   "source": [
    "_f = lambda p, q: sp.binomial(p + q, p) / sp.factorial(p + q)\n",
    "E = sum(_f(p, q) * dE_pq * u**p * λ**q for (p, q), dE_pq in dE.items())"
   ]
  },
  {
   "cell_type": "code",
   "execution_count": 6,
   "id": "247eb0b0-576f-4ede-855f-ed61ff33f804",
   "metadata": {},
   "outputs": [
    {
     "data": {
      "text/latex": [
       "$\\displaystyle \\E(u, \\lambda)=\\frac{\\E_{2} u^{2}}{2} + \\frac{\\E_{3} u^{3}}{6} + \\frac{\\E_{4} u^{4}}{24} + \\frac{\\E_{\\lambda\\lambda\\lambda\\lambda} \\lambda^{4}}{24} + \\frac{\\E_{\\lambda\\lambda\\lambda} \\lambda^{3}}{6} + \\frac{\\E_{\\lambda\\lambda} \\lambda^{2}}{2} + \\E_{\\lambda} \\lambda + \\frac{\\E_{u\\lambda\\lambda\\lambda} \\lambda^{3} u}{6} + \\frac{\\E_{u\\lambda\\lambda} \\lambda^{2} u}{2} + \\E_{u\\lambda} \\lambda u + \\frac{\\E_{uu\\lambda\\lambda} \\lambda^{2} u^{2}}{4} + \\frac{\\E_{uu\\lambda} \\lambda u^{2}}{2} + \\frac{\\E_{uuu\\lambda} \\lambda u^{3}}{6}$"
      ],
      "text/plain": [
       "<IPython.core.display.Math object>"
      ]
     },
     "metadata": {},
     "output_type": "display_data"
    }
   ],
   "source": [
    "#| code-fold: true\n",
    "display_latex_equation(r\"\\E(u, \\lambda)\", E)"
   ]
  },
  {
   "cell_type": "markdown",
   "id": "b8ed499b-24f8-46a0-88e4-ae7017dc67f9",
   "metadata": {},
   "source": [
    "We now turn to the definition of the fundamental path $\\lambda \\mapsto u^\\star(\\lambda)$. We first define in a dictionary the derivatives of $u^\\star$ with respect to $\\lambda$, at $\\lambda = \\lambda_0 = 0$. For example, `du_0[2]` is the symbol $\\ddot{u}_0$, which stands for $\\D^2 u^\\star / \\D \\lambda^2 \\rvert_{\\lambda=\\lambda_0}$."
   ]
  },
  {
   "cell_type": "code",
   "execution_count": 7,
   "id": "4998a2a0-487e-465b-ac03-9521f225c27b",
   "metadata": {},
   "outputs": [],
   "source": [
    "du_0 = {n: sp.Symbol(\"\\\\\" + \"\".join(n * (\"d\",)) + \"ot{u}_0\") for n in range(1, 5)}\n",
    "\n",
    "_dict = {f\"\\\\frac{{\\\\D^{k}u^\\\\ast}}{{\\\\D \\\\lambda^{k}}}\" : v for k, v in du_0.items()}"
   ]
  },
  {
   "cell_type": "code",
   "execution_count": 8,
   "id": "2b605591-25b8-4c19-9830-6904f0c18044",
   "metadata": {},
   "outputs": [
    {
     "data": {
      "text/latex": [
       "$\\displaystyle \\begin{align}\\frac{\\D^1u^\\ast}{\\D \\lambda^1}&=\\dot{u}_0&\\frac{\\D^2u^\\ast}{\\D \\lambda^2}&=\\ddot{u}_0&\\frac{\\D^3u^\\ast}{\\D \\lambda^3}&=\\dddot{u}_0&\\frac{\\D^4u^\\ast}{\\D \\lambda^4}&=\\ddddot{u}_0\\\\\\end{align}$"
      ],
      "text/plain": [
       "<IPython.core.display.Math object>"
      ]
     },
     "metadata": {},
     "output_type": "display_data"
    }
   ],
   "source": [
    "#| code-fold: true\n",
    "display_latex_dict(_dict, num_cols=4)"
   ]
  },
  {
   "cell_type": "markdown",
   "id": "b83cf3ad-4919-4afc-9cfc-e2cdbf36fd2a",
   "metadata": {},
   "source": [
    "The fundamental path is then defined through its Taylor expansion."
   ]
  },
  {
   "cell_type": "code",
   "execution_count": 9,
   "id": "27556541-cc15-4366-ad9c-244f51c07e3b",
   "metadata": {},
   "outputs": [],
   "source": [
    "u_star = sum(λ**n / sp.factorial(n) * v for n, v in du_0.items())"
   ]
  },
  {
   "cell_type": "code",
   "execution_count": 10,
   "id": "963c0803-56a6-4826-b56d-d2ad079cf1c2",
   "metadata": {},
   "outputs": [
    {
     "data": {
      "text/latex": [
       "$\\displaystyle u^\\star(\\lambda)=\\frac{\\ddddot{u}_0 \\lambda^{4}}{24} + \\frac{\\dddot{u}_0 \\lambda^{3}}{6} + \\frac{\\ddot{u}_0 \\lambda^{2}}{2} + \\dot{u}_0 \\lambda$"
      ],
      "text/plain": [
       "<IPython.core.display.Math object>"
      ]
     },
     "metadata": {},
     "output_type": "display_data"
    }
   ],
   "source": [
    "#| code-fold: true\n",
    "display_latex_equation(r\"u^\\star(\\lambda)\", u_star)"
   ]
  },
  {
   "cell_type": "markdown",
   "id": "7e2a3907-bb7e-4f5c-898f-81ea3c8f29d2",
   "metadata": {},
   "source": [
    "It will be assumed in the following that $v, \\hat{v} \\in V$, therefore terms of the form $\\E_2(\\bullet, v)$ and $\\E_2(\\bullet, \\hat{v})$ should vanish. The following function performs this simplification."
   ]
  },
  {
   "cell_type": "code",
   "execution_count": 11,
   "id": "8330cfe6-bcf3-43a0-bf32-3891ce3a5ea7",
   "metadata": {},
   "outputs": [],
   "source": [
    "# Let's define a convenient alias to the Hessian\n",
    "E2 = dE[2, 0]\n",
    "\n",
    "def simplify_E2(expr):\n",
    "    expr = expr.expand()\n",
    "    coeff_E2 = expr.coeff(E2).expand()\n",
    "    coeff_E2_v = coeff_E2.coeff(v)\n",
    "    coeff_E2_v_hat = (coeff_E2 - coeff_E2_v * v).expand().coeff(v_hat)\n",
    "    return (expr - (coeff_E2_v * E2 * v + coeff_E2_v_hat * E2 * v_hat)).expand()\n",
    "\n",
    "assert simplify_E2(E2 * v) == 0\n",
    "assert simplify_E2(E2 * v_hat) == 0\n",
    "assert simplify_E2(3 * v + 4 * v_hat + 5 * v * v_hat + 6 * E2 * v + 7 * E2 * v_hat + 8 * E2 * v * v_hat) == 3 * v + 4 * v_hat + 5 * v * v_hat"
   ]
  },
  {
   "cell_type": "markdown",
   "id": "3bae7c1e-efd2-49d0-b2d5-b0fca5c2ece4",
   "metadata": {},
   "source": [
    "## Elimination of the mixed derivatives of the energy\n",
    "\n",
    "Since the fundamental path $\\lambda \\mapsto u^\\ast(\\lambda)$ is an equilibrium path, the various differentials of the energy at the critical point are not linearly independent. To express the relationships between these forms, we define $\\mathcal R^\\ast(\\lambda; \\bullet)$ as the jacobian of the energy along the fundamental path $u^\\ast(\\lambda)$\n",
    "\n",
    "$$\n",
    "\\mathcal R^\\ast(\\lambda; \\bullet) = \\E_{,u}[u^\\ast(\\lambda), \\lambda; \\bullet].\n",
    "$$"
   ]
  },
  {
   "cell_type": "code",
   "execution_count": 12,
   "id": "94a67263-0e18-4dfd-9683-72aa96e6f821",
   "metadata": {},
   "outputs": [],
   "source": [
    "R_star = (E.diff(u) * u_hat).subs(u, u_star).expand()"
   ]
  },
  {
   "cell_type": "code",
   "execution_count": 13,
   "id": "7a67dc02-6146-413b-808f-8385524667cf",
   "metadata": {},
   "outputs": [
    {
     "data": {
      "text/latex": [
       "$\\displaystyle \\mathcal{R}^\\ast(\\lambda;\\hat{u})=\\lambda \\left(\\E_{2} \\dot{u}_0 \\hat{u} + \\E_{u\\lambda} \\hat{u}\\right) + \\lambda^{2} \\left(\\frac{\\E_{2} \\ddot{u}_0 \\hat{u}}{2} + \\frac{\\E_{3} \\dot{u}_0^{2} \\hat{u}}{2} + \\frac{\\E_{u\\lambda\\lambda} \\hat{u}}{2} + \\E_{uu\\lambda} \\dot{u}_0 \\hat{u}\\right) + \\lambda^{3} \\left(\\frac{\\E_{2} \\dddot{u}_0 \\hat{u}}{6} + \\frac{\\E_{3} \\ddot{u}_0 \\dot{u}_0 \\hat{u}}{2} + \\frac{\\E_{4} \\dot{u}_0^{3} \\hat{u}}{6} + \\frac{\\E_{u\\lambda\\lambda\\lambda} \\hat{u}}{6} + \\frac{\\E_{uu\\lambda\\lambda} \\dot{u}_0 \\hat{u}}{2} + \\frac{\\E_{uu\\lambda} \\ddot{u}_0 \\hat{u}}{2} + \\frac{\\E_{uuu\\lambda} \\dot{u}_0^{2} \\hat{u}}{2}\\right) + \\lambda^{4} \\left(\\frac{\\E_{2} \\ddddot{u}_0 \\hat{u}}{24} + \\frac{\\E_{3} \\dddot{u}_0 \\dot{u}_0 \\hat{u}}{6} + \\frac{\\E_{3} \\ddot{u}_0^{2} \\hat{u}}{8} + \\frac{\\E_{4} \\ddot{u}_0 \\dot{u}_0^{2} \\hat{u}}{4} + \\frac{\\E_{uu\\lambda\\lambda} \\ddot{u}_0 \\hat{u}}{4} + \\frac{\\E_{uu\\lambda} \\dddot{u}_0 \\hat{u}}{6} + \\frac{\\E_{uuu\\lambda} \\ddot{u}_0 \\dot{u}_0 \\hat{u}}{2}\\right) + O\\left(\\lambda^{5}\\right)$"
      ],
      "text/plain": [
       "<IPython.core.display.Math object>"
      ]
     },
     "metadata": {},
     "output_type": "display_data"
    }
   ],
   "source": [
    "#| code-fold: true\n",
    "display_latex_equation(r\"\\mathcal{R}^\\ast(\\lambda;\" + sp.latex(u_hat) + \")\",\n",
    "                       R_star.series(λ, 0, 5))"
   ]
  },
  {
   "cell_type": "markdown",
   "id": "2e8f6a62-61e5-467a-897a-9dba71556081",
   "metadata": {},
   "source": [
    "Of course, since $\\lambda \\mapsto u^\\ast(\\lambda)$ is an equilibrium path, we have $\\mathcal R^\\ast(\\lambda; \\bullet) = 0$ for all $\\lambda$. Therefore, all coefficients of the above polynomial in $\\lambda$ are null, which delivers expressions of $\\E_{u\\lambda}$, $\\E_{u\\lambda\\lambda}$ and $\\E_{u\\lambda\\lambda\\lambda}$"
   ]
  },
  {
   "cell_type": "code",
   "execution_count": 14,
   "id": "0c37537a-78e8-4b62-90d4-f4eef24d557c",
   "metadata": {},
   "outputs": [],
   "source": [
    "mixed1 = dict()\n",
    "\n",
    "for q in range(1, 4):\n",
    "    x = dE[1, q]\n",
    "    eq = R_star.coeff(λ, q)\n",
    "    sol = sp.solve(eq, x)[0]\n",
    "    mixed1[x] = sol"
   ]
  },
  {
   "cell_type": "code",
   "execution_count": 15,
   "id": "7490e41e-6f89-448a-a268-ed1efdb4af52",
   "metadata": {},
   "outputs": [
    {
     "data": {
      "text/latex": [
       "$\\displaystyle \\begin{align}\\E_{u\\lambda}&=- \\E_{2} \\dot{u}_0\\\\\\E_{u\\lambda\\lambda}&=- \\E_{2} \\ddot{u}_0 - \\E_{3} \\dot{u}_0^{2} - 2 \\E_{uu\\lambda} \\dot{u}_0\\\\\\E_{u\\lambda\\lambda\\lambda}&=- \\E_{2} \\dddot{u}_0 - 3 \\E_{3} \\ddot{u}_0 \\dot{u}_0 - \\E_{4} \\dot{u}_0^{3} - 3 \\E_{uu\\lambda\\lambda} \\dot{u}_0 - 3 \\E_{uu\\lambda} \\ddot{u}_0 - 3 \\E_{uuu\\lambda} \\dot{u}_0^{2}\\\\\\end{align}$"
      ],
      "text/plain": [
       "<IPython.core.display.Math object>"
      ]
     },
     "metadata": {},
     "output_type": "display_data"
    }
   ],
   "source": [
    "#| code-fold: true\n",
    "display_latex_dict(mixed1, num_cols=1)"
   ]
  },
  {
   "cell_type": "markdown",
   "id": "46608109-ab87-4e90-b542-269338410536",
   "metadata": {},
   "source": [
    "We want to get rid of the remaining mixed derivatives, namely: $\\E_{uu\\lambda}$, $\\E_{uuu\\lambda}$ and $\\E_{uu\\lambda\\lambda}$. To do so, we introduce the derivatives $\\dot{\\E}_2$, $\\ddot{\\E}_2$ and $\\dot{\\E}_3$ defined in @sec-20230105101657."
   ]
  },
  {
   "cell_type": "code",
   "execution_count": 16,
   "id": "630aafc9-859e-41cf-a622-e66c26376561",
   "metadata": {},
   "outputs": [],
   "source": [
    "E2_dot, E2_ddot, E3_dot = sp.symbols(\"\\dot{\\E}_2 \\ddot{\\E}_2 \\dot{\\E}_3\")\n",
    "\n",
    "E_uu_star = E.diff(u, 2).subs(u, u_star).expand()\n",
    "E_uuu_star = E.diff(u, 3).subs(u, u_star).expand()\n",
    "\n",
    "eqs = [sp.Eq(E2_dot, E_uu_star.coeff(λ, 1)),\n",
    "       sp.Eq(E3_dot, E_uuu_star.coeff(λ, 1)),\n",
    "       sp.Eq(E2_ddot, 2 * E_uu_star.coeff(λ, 2))]\n",
    "\n",
    "unknowns = [dE[2, 1], dE[3, 1], dE[2, 2]] # E_uuλ, E_uuuλ, E_uuλλ\n",
    "\n",
    "mixed2 = dict()\n",
    "for eq, x in zip(eqs, unknowns):\n",
    "    mixed2[x] = sp.solve(eq, x)[0].subs(mixed2).expand()"
   ]
  },
  {
   "cell_type": "markdown",
   "id": "66ad1a18-49a0-4f7b-a940-1c19ac17e2e0",
   "metadata": {},
   "source": [
    "We get the following expressions"
   ]
  },
  {
   "cell_type": "code",
   "execution_count": 17,
   "id": "29d39199-bd28-41a4-a4f4-86b6efecc2bf",
   "metadata": {},
   "outputs": [
    {
     "data": {
      "text/latex": [
       "$\\displaystyle \\begin{align}\\E_{uu\\lambda}&=- \\E_{3} \\dot{u}_0 + \\dot{\\E}_2\\\\\\E_{uuu\\lambda}&=- \\E_{4} \\dot{u}_0 + \\dot{\\E}_3\\\\\\E_{uu\\lambda\\lambda}&=- \\E_{3} \\ddot{u}_0 + \\E_{4} \\dot{u}_0^{2} + \\ddot{\\E}_2 - 2 \\dot{\\E}_3 \\dot{u}_0\\\\\\end{align}$"
      ],
      "text/plain": [
       "<IPython.core.display.Math object>"
      ]
     },
     "metadata": {},
     "output_type": "display_data"
    }
   ],
   "source": [
    "#| code-fold: true\n",
    "display_latex_dict(mixed2, num_cols=1)"
   ]
  },
  {
   "cell_type": "markdown",
   "id": "c283c4c6-5f0f-4fa8-bd94-076af37e9ac1",
   "metadata": {},
   "source": [
    "Combining the above results allows to fully eliminate the mixed derivatives"
   ]
  },
  {
   "cell_type": "code",
   "execution_count": 18,
   "id": "d7aedc79-7cc0-4b3b-8d50-4e6f8bcb01df",
   "metadata": {},
   "outputs": [
    {
     "data": {
      "text/latex": [
       "$\\displaystyle \\begin{align}\\E_{u\\lambda}&=- \\E_{2} \\dot{u}_0\\\\\\E_{u\\lambda\\lambda}&=- \\E_{2} \\ddot{u}_0 + \\E_{3} \\dot{u}_0^{2} - 2 \\dot{\\E}_2 \\dot{u}_0\\\\\\E_{u\\lambda\\lambda\\lambda}&=- \\E_{2} \\dddot{u}_0 + 3 \\E_{3} \\ddot{u}_0 \\dot{u}_0 - \\E_{4} \\dot{u}_0^{3} - 3 \\ddot{\\E}_2 \\dot{u}_0 - 3 \\ddot{u}_0 \\dot{\\E}_2 + 3 \\dot{\\E}_3 \\dot{u}_0^{2}\\\\\\E_{uu\\lambda}&=- \\E_{3} \\dot{u}_0 + \\dot{\\E}_2\\\\\\E_{uuu\\lambda}&=- \\E_{4} \\dot{u}_0 + \\dot{\\E}_3\\\\\\E_{uu\\lambda\\lambda}&=- \\E_{3} \\ddot{u}_0 + \\E_{4} \\dot{u}_0^{2} + \\ddot{\\E}_2 - 2 \\dot{\\E}_3 \\dot{u}_0\\\\\\end{align}$"
      ],
      "text/plain": [
       "<IPython.core.display.Math object>"
      ]
     },
     "metadata": {},
     "output_type": "display_data"
    }
   ],
   "source": [
    "#| code-fold: true\n",
    "\n",
    "mixed = {k: v.subs(mixed2).expand() for k, v in mixed1.items()}\n",
    "mixed.update(mixed2)\n",
    "\n",
    "display_latex_dict(mixed, num_cols=1)"
   ]
  },
  {
   "cell_type": "markdown",
   "id": "16163ade-4d6b-4316-b3e0-ccf0f6135a0b",
   "metadata": {},
   "source": [
    "These expressions can be plugged into the expansion of the energy."
   ]
  },
  {
   "cell_type": "code",
   "execution_count": 19,
   "id": "971cc17d-65eb-4322-b2ee-b09fb2b61f53",
   "metadata": {},
   "outputs": [],
   "source": [
    "E = E.subs(mixed).expand()"
   ]
  },
  {
   "cell_type": "code",
   "execution_count": 20,
   "id": "09fc3888-ea70-45ae-a81e-d560038675b0",
   "metadata": {},
   "outputs": [
    {
     "data": {
      "text/latex": [
       "$\\displaystyle \\E(u, \\lambda)=- \\frac{\\E_{2} \\dddot{u}_0 \\lambda^{3} u}{6} - \\frac{\\E_{2} \\ddot{u}_0 \\lambda^{2} u}{2} - \\E_{2} \\dot{u}_0 \\lambda u + \\frac{\\E_{2} u^{2}}{2} + \\frac{\\E_{3} \\ddot{u}_0 \\dot{u}_0 \\lambda^{3} u}{2} - \\frac{\\E_{3} \\ddot{u}_0 \\lambda^{2} u^{2}}{4} + \\frac{\\E_{3} \\dot{u}_0^{2} \\lambda^{2} u}{2} - \\frac{\\E_{3} \\dot{u}_0 \\lambda u^{2}}{2} + \\frac{\\E_{3} u^{3}}{6} - \\frac{\\E_{4} \\dot{u}_0^{3} \\lambda^{3} u}{6} + \\frac{\\E_{4} \\dot{u}_0^{2} \\lambda^{2} u^{2}}{4} - \\frac{\\E_{4} \\dot{u}_0 \\lambda u^{3}}{6} + \\frac{\\E_{4} u^{4}}{24} + \\frac{\\E_{\\lambda\\lambda\\lambda\\lambda} \\lambda^{4}}{24} + \\frac{\\E_{\\lambda\\lambda\\lambda} \\lambda^{3}}{6} + \\frac{\\E_{\\lambda\\lambda} \\lambda^{2}}{2} + \\E_{\\lambda} \\lambda - \\frac{\\ddot{\\E}_2 \\dot{u}_0 \\lambda^{3} u}{2} + \\frac{\\ddot{\\E}_2 \\lambda^{2} u^{2}}{4} - \\frac{\\ddot{u}_0 \\dot{\\E}_2 \\lambda^{3} u}{2} - \\dot{\\E}_2 \\dot{u}_0 \\lambda^{2} u + \\frac{\\dot{\\E}_2 \\lambda u^{2}}{2} + \\frac{\\dot{\\E}_3 \\dot{u}_0^{2} \\lambda^{3} u}{2} - \\frac{\\dot{\\E}_3 \\dot{u}_0 \\lambda^{2} u^{2}}{2} + \\frac{\\dot{\\E}_3 \\lambda u^{3}}{6}$"
      ],
      "text/plain": [
       "<IPython.core.display.Math object>"
      ]
     },
     "metadata": {},
     "output_type": "display_data"
    }
   ],
   "source": [
    "#| code-fold: true\n",
    "display_latex_equation(r\"\\E(u, \\lambda)\", E)"
   ]
  },
  {
   "cell_type": "markdown",
   "id": "f382cfbb-6e4a-4fb8-b2b5-5d384f60e060",
   "metadata": {},
   "source": [
    "## Derivation of the bifurcation equations"
   ]
  },
  {
   "cell_type": "markdown",
   "id": "62c811e1-96bd-4fe0-9581-bb65da40a5b6",
   "metadata": {},
   "source": [
    "In this section, we show that, besides the fundamental branch $u^\\ast(\\lambda)$, other (bifurcated) equilibrium branches\n",
    "may pass through the critical point $(u_0, \\lambda_0)$. The starting point is the characterization of an equilibrium by\n",
    "the stationarity of the energy, which defines all equilibrium branches as implicit functions, which can be expanded with\n",
    "respect to some perturbation parameter.\n",
    "\n",
    "The approach adopted here relies on the Lyapunov--Schmidt decomposition of the equilibrium branch over $V$ and\n",
    "$W$. Other approaches are possible, see e.g. @chak2018.\n",
    "\n",
    "For a given value of $\\lambda$ (close to the critical value $\\lambda_0$), We seek an equilibrium point $u$ of the\n",
    "system, such that\n",
    "\n",
    "$$\n",
    "\\E_{,u}(u, \\lambda; \\hat{u}) = 0 \\quad \\text{for all} \\quad \\hat{u} \\in U.\n",
    "$$ {#eq-20230102025737}"
   ]
  },
  {
   "cell_type": "code",
   "execution_count": 21,
   "id": "5d157a60-3d5b-4fb7-987c-97e8015c6766",
   "metadata": {},
   "outputs": [],
   "source": [
    "res = (E.diff(u) * u_hat).expand()"
   ]
  },
  {
   "cell_type": "markdown",
   "id": "6053af44-aacd-442e-9545-bfa421852b25",
   "metadata": {},
   "source": [
    "The above equation reads: for all $\\hat{u} \\in U$"
   ]
  },
  {
   "cell_type": "code",
   "execution_count": 22,
   "id": "8941cd71-33dd-4758-8590-3e7a2295a37c",
   "metadata": {},
   "outputs": [
    {
     "data": {
      "text/latex": [
       "$\\displaystyle - \\frac{\\E_{2} \\dddot{u}_0 \\hat{u} \\lambda^{3}}{6} - \\frac{\\E_{2} \\ddot{u}_0 \\hat{u} \\lambda^{2}}{2} - \\E_{2} \\dot{u}_0 \\hat{u} \\lambda + \\E_{2} \\hat{u} u + \\frac{\\E_{3} \\ddot{u}_0 \\dot{u}_0 \\hat{u} \\lambda^{3}}{2} - \\frac{\\E_{3} \\ddot{u}_0 \\hat{u} \\lambda^{2} u}{2} + \\frac{\\E_{3} \\dot{u}_0^{2} \\hat{u} \\lambda^{2}}{2} - \\E_{3} \\dot{u}_0 \\hat{u} \\lambda u + \\frac{\\E_{3} \\hat{u} u^{2}}{2} - \\frac{\\E_{4} \\dot{u}_0^{3} \\hat{u} \\lambda^{3}}{6} + \\frac{\\E_{4} \\dot{u}_0^{2} \\hat{u} \\lambda^{2} u}{2} - \\frac{\\E_{4} \\dot{u}_0 \\hat{u} \\lambda u^{2}}{2} + \\frac{\\E_{4} \\hat{u} u^{3}}{6} - \\frac{\\ddot{\\E}_2 \\dot{u}_0 \\hat{u} \\lambda^{3}}{2} + \\frac{\\ddot{\\E}_2 \\hat{u} \\lambda^{2} u}{2} - \\frac{\\ddot{u}_0 \\dot{\\E}_2 \\hat{u} \\lambda^{3}}{2} - \\dot{\\E}_2 \\dot{u}_0 \\hat{u} \\lambda^{2} + \\dot{\\E}_2 \\hat{u} \\lambda u + \\frac{\\dot{\\E}_3 \\dot{u}_0^{2} \\hat{u} \\lambda^{3}}{2} - \\dot{\\E}_3 \\dot{u}_0 \\hat{u} \\lambda^{2} u + \\frac{\\dot{\\E}_3 \\hat{u} \\lambda u^{2}}{2}=0$"
      ],
      "text/plain": [
       "<IPython.core.display.Math object>"
      ]
     },
     "metadata": {},
     "output_type": "display_data"
    }
   ],
   "source": [
    "#| code-fold: true\n",
    "display_latex_equation(res, 0)"
   ]
  },
  {
   "cell_type": "markdown",
   "id": "cf5b8cd6-b578-46a2-abb2-35239892adbb",
   "metadata": {},
   "source": [
    "The equilibrium state $u$ is projected onto the orthogonal subspaces $V$ and $W$.\n",
    "\n",
    "$$\n",
    "u = u^\\ast(\\lambda) + \\xi_i \\, v_i + w, \\quad \\text{with} \\quad w \\in W.\n",
    "$$ {#eq-20220902174235}\n",
    "\n",
    "It follows from the orthogonality of $V$ and $W$ that $\\langle v_i, w \\rangle = 0$ for all $i=1, \\ldots, m$. Analysis of the bifurcated branches therefore reduces to finding $\\xi_1, \\ldots, \\xi_m \\in \\reals$ and $w \\in W$, such that\n",
    "\n",
    "$$\n",
    "\\E_{,u}[u^\\ast(\\lambda) + \\xi_i \\, v_i + w, \\lambda; \\hat{u}] = 0 \\quad \\text{for all} \\quad \\hat{u} \\in U.\n",
    "$$ {#eq-20230107164346}\n",
    "\n",
    "The method proceeds in three steps\n",
    "\n",
    "1. Eq. (@eq-20230107164346) is first expressed for $\\hat{u} \\in W$ which leads to a definition of $w$ as an implicit function of $\\xi_1, \\ldots, \\xi_m$ and $\\lambda$ (see @sec-20230102030010),\n",
    "2. Eq. (@eq-20230107164346) is then expressed for $\\hat{u} \\in V$ which leads to a definition of $\\lambda$ as an implicit function of $\\xi_1, \\ldots, \\xi_m$ (see @sec-20230102030125),\n",
    "3. finally, a parametrization $\\eta$ of $\\xi_1$, \\dots $\\xi_m$ is introduced and the Taylor expansion of $u$ and $\\lambda$ with respect to $\\eta$ is derived (see @sec-20230102030224)."
   ]
  },
  {
   "cell_type": "markdown",
   "id": "9690388d-06f6-41ab-b84c-071c73f1277e",
   "metadata": {},
   "source": [
    "### Elimination of $w$ {#sec-20230102030010}\n",
    "\n",
    "We first test Eq. (@eq-20230102025737) with $\\hat{w} \\in W$\n",
    "\n",
    "$$\n",
    "\\E_{,u}[u^\\ast(\\lambda) + \\xi_i \\, v_i + w, \\lambda; \\hat{w}] = 0, \\quad \\text{for all} \\quad \\hat{w} \\in W.\n",
    "$$ {#eq-20220825143616}\n",
    "\n",
    "This defines $w$ as an implicit function of $\\xi_1, \\ldots, \\xi_m$ and $\\lambda$. The following asymptotic expansion\n",
    "about $\\xi_1 = \\cdots = \\xi_m = 0$ and $\\lambda = \\lambda_0$ is postulated\n",
    "\n",
    "$$\n",
    "\\begin{aligned}\n",
    "w(\\xi_1, \\ldots, \\xi_m, \\lambda) ={} & \\xi_i \\, w_i + \\bigl( \\lambda - \\lambda_0 \\bigr) \\, w_\\lambda\\\\\n",
    "&+ \\tfrac{1}{2} \\xi_i \\, \\xi_j \\, w_{ij} + \\tfrac{1}{2} \\bigl( \\lambda - \\lambda_0 \\bigr)^2 w_{\\lambda\\lambda} + \\xi_i \\, \\bigl( \\lambda - \\lambda_0 \\bigr) w_{i\\lambda} + \\cdots,\n",
    "\\end{aligned}\n",
    "$$ {#eq-20230107172048}\n",
    "\n",
    "where $w_i$, $w_\\lambda$, $w_{ij}$, $w_{\\lambda\\lambda}$ and $w_{i\\lambda}$ are elements of $W$ to be defined."
   ]
  },
  {
   "cell_type": "raw",
   "id": "30c34bb2-e3aa-4e2c-902a-2ad1c5e03616",
   "metadata": {},
   "source": [
    "::: {.callout-important}"
   ]
  },
  {
   "cell_type": "markdown",
   "id": "b1057c78-274e-4aa8-bee6-0ecfda3491a9",
   "metadata": {},
   "source": [
    "Indicial expressions are somewhat difficult to handle in SymPy, we therefore use a \"trick\"\n",
    "\n",
    "- `ξ` stands for $\\xi_i$,\n",
    "- `w_ξ` stands for $w_i$,\n",
    "- `w_ξξ`stands for $w_{ij}$,\n",
    "- `w_ξλ` stands for $w_{i\\lambda}$.\n",
    "\n",
    "Then expressions such as `ξ * w_ξ` (resp. `ξ^2 * w_ξξ`) should be understood as $\\xi_i \\, w_i$ (resp. $\\xi_i \\, \\xi_j \\, w_{ij}$)."
   ]
  },
  {
   "cell_type": "raw",
   "id": "f138beeb-7e07-4321-9b0d-8d19ed7bc6ac",
   "metadata": {},
   "source": [
    ":::"
   ]
  },
  {
   "cell_type": "code",
   "execution_count": 23,
   "id": "bb281fd3-5ade-4d8d-b7b9-b4378376d11b",
   "metadata": {},
   "outputs": [],
   "source": [
    "ξ, w_ξ, w_λ, w_ξξ, w_ξλ, w_λλ = sp.symbols(r\"\\xi w_\\xi w_\\lambda w_{\\xi\\xi} w_{\\xi\\lambda} w_{\\lambda\\lambda}\")\n",
    "w = ξ * w_ξ + λ * w_λ + (ξ**2 * w_ξξ + 2 * ξ * λ * w_ξλ + λ**2 * w_λλ) / 2"
   ]
  },
  {
   "cell_type": "markdown",
   "id": "9ba7befc-7113-4466-908e-5a43d6687364",
   "metadata": {},
   "source": [
    "It will be useful to define the critical point"
   ]
  },
  {
   "cell_type": "code",
   "execution_count": 24,
   "id": "ade958ea-8966-4108-96a0-8cf01335bd6f",
   "metadata": {},
   "outputs": [],
   "source": [
    "crit = {ξ: 0, λ: 0}"
   ]
  },
  {
   "cell_type": "markdown",
   "id": "25cfcd4d-3732-440f-a8dd-ee773f615add",
   "metadata": {},
   "source": [
    "Eq. (@eq-20230107172048) is plugged into Eq. (@eq-20220825143616), which then delivers an asymptotic expansion of the stationarity equation. We will nullify the terms of order up to 2 in $\\xi_i$ and $\\lambda$."
   ]
  },
  {
   "cell_type": "code",
   "execution_count": 25,
   "id": "48ab17d7-6c1e-4d1a-84b8-6c18ba54ff99",
   "metadata": {},
   "outputs": [],
   "source": [
    "res_w = res.subs({u_hat: w_hat, u: u_star + ξ * v + w}).expand()"
   ]
  },
  {
   "cell_type": "markdown",
   "id": "6f550b36-5628-49fe-b24d-f4a2e8bc9e13",
   "metadata": {},
   "source": [
    "We can then nullify the various coefficients of this polynomial expansion, starting with the $\\xi_i$ terms"
   ]
  },
  {
   "cell_type": "code",
   "execution_count": 26,
   "id": "c1082dd2-4013-4901-9103-a5833ebd3db2",
   "metadata": {},
   "outputs": [
    {
     "data": {
      "text/latex": [
       "$\\displaystyle \\E_{2} \\hat{w} w_{\\xi} = 0$"
      ],
      "text/plain": [
       "Eq(\\E_2*\\hat{w}*w_\\xi, 0)"
      ]
     },
     "metadata": {},
     "output_type": "display_data"
    }
   ],
   "source": [
    "eq = sp.Eq(simplify_E2(res_w.coeff(ξ)), 0).subs(crit)\n",
    "display(eq)"
   ]
  },
  {
   "cell_type": "markdown",
   "id": "c677ed6b-2368-4503-b097-c73a069fd4a3",
   "metadata": {},
   "source": [
    "which should be understood as\n",
    "\n",
    "$$\n",
    "\\E_2(w_i, \\hat{w}) = 0 \\quad \\text{for all} \\quad \\hat{w} \\in W.\n",
    "$$\n",
    "\n",
    "As argued in @sec-20230107173921, this leads to $w_i = 0$. We now consider the $\\lambda$ term"
   ]
  },
  {
   "cell_type": "code",
   "execution_count": 27,
   "id": "137b65cb-7f50-4df4-bc26-631df51460a1",
   "metadata": {},
   "outputs": [
    {
     "data": {
      "text/latex": [
       "$\\displaystyle \\E_{2} \\hat{w} w_{\\lambda} = 0$"
      ],
      "text/plain": [
       "Eq(\\E_2*\\hat{w}*w_\\lambda, 0)"
      ]
     },
     "metadata": {},
     "output_type": "display_data"
    }
   ],
   "source": [
    "eq = sp.Eq(simplify_E2(res_w.coeff(λ)), 0).subs(crit)\n",
    "display(eq)"
   ]
  },
  {
   "cell_type": "markdown",
   "id": "baba5f66-9e3f-45d6-9f8c-3296723d8049",
   "metadata": {},
   "source": [
    "Which sould be understood as\n",
    "\n",
    "$$\n",
    "\\E_2(w_\\lambda, \\hat{w}) = 0 \\quad \\text{for all} \\quad \\hat{w} \\in W.\n",
    "$$\n",
    "\n",
    "This again leads to $w_\\lambda = 0$. The $\\lambda^2$ term again delivers then vanishes automatically.\n",
    "\n",
    "$$\n",
    "\\E_2(w_{\\lambda\\lambda}, \\hat{w}) = 0 \\quad \\text{for all} \\quad \\hat{w} \\in W,\n",
    "$$\n",
    "\n",
    "from which it results that $w_{\\lambda\\lambda} = 0$"
   ]
  },
  {
   "cell_type": "code",
   "execution_count": 28,
   "id": "5c2cb739-1e50-4da6-8e64-dc0effef893f",
   "metadata": {},
   "outputs": [],
   "source": [
    "assert 2 * res_w.coeff(λ, 2).subs(crit).subs(w_λ, 0).expand() == E2 * w_λλ * w_hat"
   ]
  },
  {
   "cell_type": "markdown",
   "id": "71b28c46-ff72-49ee-822c-ff43f0148852",
   "metadata": {},
   "source": [
    "The $\\xi_i \\, \\xi_j$ terms deliver the following equations"
   ]
  },
  {
   "cell_type": "code",
   "execution_count": 29,
   "id": "55597915-a3af-434d-906a-b4d40cef0ef6",
   "metadata": {},
   "outputs": [
    {
     "data": {
      "text/latex": [
       "$\\displaystyle \\E_{2} \\hat{w} w_{\\xi\\xi} + \\E_{3} \\hat{w} v^{2} = 0$"
      ],
      "text/plain": [
       "Eq(\\E_2*\\hat{w}*w_{\\xi\\xi} + \\E_3*\\hat{w}*v**2, 0)"
      ]
     },
     "execution_count": 29,
     "metadata": {},
     "output_type": "execute_result"
    }
   ],
   "source": [
    "(eq_w_ξξ := sp.Eq(2 * res_w.coeff(ξ, 2), 0).subs(crit).subs(w_ξ, 0).expand())"
   ]
  },
  {
   "cell_type": "markdown",
   "id": "730aff01-141c-445b-b5c7-a4fbe012cf41",
   "metadata": {},
   "source": [
    "The above equation should be understood as the following variational problem: find $w_{ij} \\in W$ such that\n",
    "\n",
    "$$\n",
    "\\E_2(w_{ij}, \\hat{w}) + \\E_3(v_i, v_j, \\hat{w}) = 0 \\quad \\text{for all} \\quad \\hat{w} \\in W,\n",
    "$$ {#eq-20230107180410}\n",
    "\n",
    "which defines uniquely the $w_{ij}$. Finally, the $\\xi_i \\, \\lambda$ terms deliver the following variational problem"
   ]
  },
  {
   "cell_type": "code",
   "execution_count": 30,
   "id": "7acd425f-b71d-406e-91f7-5eafe181de89",
   "metadata": {},
   "outputs": [
    {
     "data": {
      "text/latex": [
       "$\\displaystyle \\E_{2} \\hat{w} w_{\\xi\\lambda} + \\dot{\\E}_2 \\hat{w} v = 0$"
      ],
      "text/plain": [
       "Eq(\\E_2*\\hat{w}*w_{\\xi\\lambda} + \\dot{\\E}_2*\\hat{w}*v, 0)"
      ]
     },
     "execution_count": 30,
     "metadata": {},
     "output_type": "execute_result"
    }
   ],
   "source": [
    "(eq_w_ξλ := sp.Eq(res_w.coeff(ξ).coeff(λ), 0).subs(crit).subs({w_ξ: 0, w_λ: 0}).expand())"
   ]
  },
  {
   "cell_type": "markdown",
   "id": "38699dbd-63eb-4b4c-b217-3f73efe705d6",
   "metadata": {},
   "source": [
    "In other words: find $w_{i\\lambda} \\in W$ such that\n",
    "\n",
    "$$\n",
    "\\E_2(w_{i\\lambda}, \\hat{w}) + \\dot{\\E}_2(v_i, \\hat{w}) = 0 \\quad \\text{for all} \\quad \\hat{w} \\in W,\n",
    "$$ {#eq-20230107180501}\n",
    "\n",
    "which again defines $w_{i\\lambda}$ uniquely."
   ]
  },
  {
   "cell_type": "markdown",
   "id": "00596639-6600-440a-a91f-01394ae55482",
   "metadata": {},
   "source": [
    "As a conclusion, it has been shown that $w_1 = \\cdots = w_m = w_\\lambda = w_{\\lambda\\lambda} = 0$. The Taylor expansion of $w$ therefore reduces to\n",
    "\n",
    "$$\n",
    "w(\\xi_1, \\ldots, \\xi_m, \\lambda) = \\tfrac{1}{2} \\xi_i \\, \\xi_j \\, w_{ij} + \\xi_i \\, \\bigl( \\lambda - \\lambda_0 \\bigr) w_{i\\lambda} + \\cdots,\n",
    "$$\n",
    "\n",
    "where $w_{ij}$ and $w_{i\\lambda}$ are the solutions to the variational problems (@eq-20230107180410) and (@eq-20230107180501), respectively."
   ]
  },
  {
   "cell_type": "markdown",
   "id": "28d672a7-bee9-4295-9984-ecc517f11a81",
   "metadata": {},
   "source": [
    "### Elimination of $\\lambda$ {#sec-20230102030125}\n",
    "\n",
    "We now test Eq. (@eq-20230102025737) with $\\hat{v} \\in V$\n",
    "\n",
    "$$\n",
    "\\E_{,u}[u^\\ast(\\lambda) + \\xi_i \\, v_i + w(\\xi_1, \\ldots, \\xi_m, \\lambda), \\lambda; \\hat{v}] = 0, \\quad \\text{for all} \\quad \\hat{v} \\in W.\n",
    "$$ {#eq-20230110092313}\n",
    "\n",
    "This now defines $\\lambda$ as an implicit function of $\\xi_1, \\ldots, \\xi_m$. The following asymptotic expansion\n",
    "about $\\xi_1 = \\cdots = \\xi_m = 0$ is postulated\n",
    "\n",
    "$$\n",
    "\\lambda(\\xi_1, \\ldots, \\xi_m) = \\xi_i \\, \\lambda_i + \\tfrac{1}{2} \\, \\xi_i \\, \\xi_j \\, \\lambda_{ij}\\\\\n",
    "$$ {#eq-20230110091031}\n",
    "\n",
    "where $\\lambda_i$ and $\\lambda_{ij}$ are scalar coefficients to be defined."
   ]
  },
  {
   "cell_type": "raw",
   "id": "21ae837f-5728-4e98-96f7-3b2ef0f4b85e",
   "metadata": {},
   "source": [
    "::: {.callout-important}"
   ]
  },
  {
   "cell_type": "markdown",
   "id": "b2b167be-a7bf-4c5d-9414-7d46f6747c37",
   "metadata": {},
   "source": [
    "As mentioned above, handling of indicial expressions is a bit awkward in [SymPy](https://www.sympy.org/). Therefore, we define well-formed products such as $\\lambda_i \\, \\xi_i$ or $\\lambda_{ij} \\, \\xi_i \\, \\xi_j$ as *fully parenthesized symbols*.\n",
    "\n",
    "The auxiliary variable `t` records the order of each term with respect to the $\\xi_1, \\ldots, \\xi_m$."
   ]
  },
  {
   "cell_type": "code",
   "execution_count": 31,
   "id": "dd3af8f3-c36f-4685-9bab-b6efd35f4b34",
   "metadata": {},
   "outputs": [],
   "source": [
    "t = sp.Symbol(\"t\")"
   ]
  },
  {
   "cell_type": "raw",
   "id": "8bbeddcc-f9ac-472d-806e-39414eb298df",
   "metadata": {},
   "source": [
    ":::"
   ]
  },
  {
   "cell_type": "markdown",
   "id": "9bea4508-799e-48b5-96fd-b7e8d0b4a0b6",
   "metadata": {},
   "source": [
    "We first introduce the asymptotic expansion, of $(\\xi_1, \\ldots, \\xi_m, \\lambda) \\mapsto w(\\xi_1, \\ldots, \\xi_m, \\lambda)$, $(\\xi_1, \\ldots, \\xi_m) \\mapsto \\lambda(\\xi_1, \\ldots, \\xi_m)$ and finally $(\\xi_1, \\ldots, \\xi_m) \\mapsto u(\\xi_1, \\ldots, \\xi_m)$ see Eqs. (@eq-20230107172048), (@eq-20230110091031) and (@eq-20220902174235)."
   ]
  },
  {
   "cell_type": "code",
   "execution_count": 32,
   "id": "545d556b-f08b-42d3-9a1d-b1cb92d8c977",
   "metadata": {},
   "outputs": [],
   "source": [
    "w_bif = (t * λ * sp.Symbol(r\"\\bigl(\\xi_k\\,w_{k\\lambda}\\bigr)\") \n",
    "         + t **2 / 2 * sp.Symbol(r\"\\bigl(\\xi_i\\,\\xi_j\\,w_{ij}\\bigr)\"))\n",
    "\n",
    "λ_bif = (t * sp.Symbol(r\"\\bigl(\\xi_{p}\\,\\lambda_{p}\\bigr)\")\n",
    "         + t**2 / 2 * sp.Symbol(r\"\\bigl(\\xi_m\\,\\xi_n\\,\\lambda_{mn}\\bigr)\"))\n",
    "\n",
    "u_bif = u_star + t * sp.Symbol(r\"\\bigl(\\xi_{l}\\,v_{l}\\bigr)\") + w_bif"
   ]
  },
  {
   "cell_type": "code",
   "execution_count": 33,
   "id": "1b3473db-597f-4f18-a71c-02a270e91cbe",
   "metadata": {},
   "outputs": [
    {
     "data": {
      "text/latex": [
       "$\\displaystyle w(\\xi_1, \\ldots, \\xi_m, \\lambda)=\\frac{\\bigl(\\xi_i\\,\\xi_j\\,w_{ij}\\bigr) t^{2}}{2} + \\bigl(\\xi_k\\,w_{k\\lambda}\\bigr) \\lambda t$"
      ],
      "text/plain": [
       "<IPython.core.display.Math object>"
      ]
     },
     "metadata": {},
     "output_type": "display_data"
    },
    {
     "data": {
      "text/latex": [
       "$\\displaystyle \\lambda(\\xi_1, \\ldots, \\xi_m)=\\frac{\\bigl(\\xi_m\\,\\xi_n\\,\\lambda_{mn}\\bigr) t^{2}}{2} + \\bigl(\\xi_{p}\\,\\lambda_{p}\\bigr) t$"
      ],
      "text/plain": [
       "<IPython.core.display.Math object>"
      ]
     },
     "metadata": {},
     "output_type": "display_data"
    },
    {
     "data": {
      "text/latex": [
       "$\\displaystyle u(\\xi_1, \\ldots, \\xi_m)=\\frac{\\bigl(\\xi_i\\,\\xi_j\\,w_{ij}\\bigr) t^{2}}{2} + \\bigl(\\xi_k\\,w_{k\\lambda}\\bigr) \\lambda t + \\bigl(\\xi_{l}\\,v_{l}\\bigr) t + \\frac{\\ddddot{u}_0 \\lambda^{4}}{24} + \\frac{\\dddot{u}_0 \\lambda^{3}}{6} + \\frac{\\ddot{u}_0 \\lambda^{2}}{2} + \\dot{u}_0 \\lambda$"
      ],
      "text/plain": [
       "<IPython.core.display.Math object>"
      ]
     },
     "metadata": {},
     "output_type": "display_data"
    }
   ],
   "source": [
    "#| code-fold: true\n",
    "display_latex_equation(r\"w(\\xi_1, \\ldots, \\xi_m, \\lambda)\", w_bif)\n",
    "display_latex_equation(r\"\\lambda(\\xi_1, \\ldots, \\xi_m)\", λ_bif)\n",
    "display_latex_equation(r\"u(\\xi_1, \\ldots, \\xi_m)\", u_bif)"
   ]
  },
  {
   "cell_type": "markdown",
   "id": "4990bb66-f958-436b-9505-4b29bdc1839a",
   "metadata": {},
   "source": [
    "The above expansions are plugged in the general expression of $\\E_{,u}(u, \\lambda; \\bullet)$ and tested with $\\hat{v} \\in V$, see Eq. (@eq-20230110092313)."
   ]
  },
  {
   "cell_type": "code",
   "execution_count": 34,
   "id": "79e9afe3-5137-41b8-8e17-f3b3c4dde389",
   "metadata": {},
   "outputs": [],
   "source": [
    "res_v = res.subs(u_hat, v_hat).subs(u, u_bif).subs(λ, λ_bif).expand()"
   ]
  },
  {
   "cell_type": "raw",
   "id": "86f0bc75-0431-4c7c-a4f0-765906da2de0",
   "metadata": {},
   "source": [
    "::: {.callout-note}"
   ]
  },
  {
   "cell_type": "markdown",
   "id": "1192bfbf-a80a-490f-8736-5ccb5c46b65f",
   "metadata": {},
   "source": [
    "We used three consecutive `subs()` rather than one big dictionary substitution for better control on the *order* of the substitutions. Indeed, we must make sure `λ_bif` is also plugged into `u_bif`. "
   ]
  },
  {
   "cell_type": "raw",
   "id": "2924936f-9074-4ad1-bdb0-22e98ee43f0f",
   "metadata": {},
   "source": [
    ":::"
   ]
  },
  {
   "cell_type": "markdown",
   "id": "58c8c6f8-4ce4-48c0-9f79-bd933697e7fd",
   "metadata": {},
   "source": [
    "We get an asymptotic expansion of the residual with respect to $\\xi_1, \\ldots, \\xi_m$. This residual must vanish for all $\\xi_i$ sufficiently small. Therefore, all coefficients of the expansion `res_v` must be nullified at all orders and for all $\\xi_i$ sufficiently small. Consiering the expansion up to third order, we get after simplification only *two* bifurcation equations, since the terms of order 0 and 1 are identically null."
   ]
  },
  {
   "cell_type": "code",
   "execution_count": 35,
   "id": "825ee24b-f884-46fc-9dc2-edfbc69840c5",
   "metadata": {},
   "outputs": [],
   "source": [
    "coeffs = [simplify_E2(res_v.coeff(t, k)) for k in range(4)]\n",
    "    \n",
    "assert coeffs[0] == 0\n",
    "assert coeffs[1] == 0"
   ]
  },
  {
   "cell_type": "code",
   "execution_count": 36,
   "id": "8b7d4ad5-4a94-4344-8a49-2d5af4e77840",
   "metadata": {},
   "outputs": [
    {
     "data": {
      "text/latex": [
       "$\\displaystyle \\frac{\\E_{3} \\bigl(\\xi_{l}\\,v_{l}\\bigr)^{2} \\hat{v}}{2} + \\bigl(\\xi_{l}\\,v_{l}\\bigr) \\bigl(\\xi_{p}\\,\\lambda_{p}\\bigr) \\dot{\\E}_2 \\hat{v}=0$"
      ],
      "text/plain": [
       "<IPython.core.display.Math object>"
      ]
     },
     "metadata": {},
     "output_type": "display_data"
    },
    {
     "data": {
      "text/latex": [
       "$\\displaystyle \\frac{\\E_{3} \\bigl(\\xi_i\\,\\xi_j\\,w_{ij}\\bigr) \\bigl(\\xi_{l}\\,v_{l}\\bigr) \\hat{v}}{2} + \\E_{3} \\bigl(\\xi_k\\,w_{k\\lambda}\\bigr) \\bigl(\\xi_{l}\\,v_{l}\\bigr) \\bigl(\\xi_{p}\\,\\lambda_{p}\\bigr) \\hat{v} + \\frac{\\E_{4} \\bigl(\\xi_{l}\\,v_{l}\\bigr)^{3} \\hat{v}}{6} + \\frac{\\bigl(\\xi_i\\,\\xi_j\\,w_{ij}\\bigr) \\bigl(\\xi_{p}\\,\\lambda_{p}\\bigr) \\dot{\\E}_2 \\hat{v}}{2} + \\bigl(\\xi_k\\,w_{k\\lambda}\\bigr) \\bigl(\\xi_{p}\\,\\lambda_{p}\\bigr)^{2} \\dot{\\E}_2 \\hat{v} + \\frac{\\bigl(\\xi_m\\,\\xi_n\\,\\lambda_{mn}\\bigr) \\bigl(\\xi_{l}\\,v_{l}\\bigr) \\dot{\\E}_2 \\hat{v}}{2} + \\frac{\\bigl(\\xi_{l}\\,v_{l}\\bigr)^{2} \\bigl(\\xi_{p}\\,\\lambda_{p}\\bigr) \\dot{\\E}_3 \\hat{v}}{2} + \\frac{\\bigl(\\xi_{l}\\,v_{l}\\bigr) \\bigl(\\xi_{p}\\,\\lambda_{p}\\bigr)^{2} \\ddot{\\E}_2 \\hat{v}}{2}=0$"
      ],
      "text/plain": [
       "<IPython.core.display.Math object>"
      ]
     },
     "metadata": {},
     "output_type": "display_data"
    }
   ],
   "source": [
    "#| code-fold: true\n",
    "for coeff in coeffs[2:]:\n",
    "    display_latex_equation(coeff, 0)"
   ]
  },
  {
   "cell_type": "markdown",
   "id": "2847c3c0",
   "metadata": {},
   "source": [
    "The above bifurcation equations should be understood as follows\n",
    "$$\n",
    "\\xi_j \\, \\xi_k \\, \\bigl[\n",
    "\\tfrac{1}{2} \\E_3(v_j, v_k, \\hat{v})\n",
    "+ \\lambda_k \\, \\dot{\\E}_2(v_j, \\hat{v})\n",
    "\\bigr] = 0\n",
    "$$ {#eq-20230115101130}\n",
    "and\n",
    "$$\n",
    "\\begin{aligned}[b]\n",
    "\\xi_j \\, \\xi_k \\, \\xi_l \\, \\bigl[\n",
    "\\tfrac{1}{2} \\E_3(v_j, w_{kl}, \\hat{v})\n",
    "+ \\lambda_l \\, \\E_3(v_j, w_{k\\lambda}, \\hat{v})\n",
    "+ \\tfrac{1}{6} \\E_4(v_j, v_k, v_l, \\hat{v}) &\\\\\n",
    "+ \\tfrac{1}{2} \\lambda_l \\, \\dot{\\E}_2(w_{jk}, \\hat{v})\n",
    "+ \\lambda_k \\, \\lambda_l \\, \\dot{\\E}_2(w_{j\\lambda}, \\hat{v})\n",
    "+ \\tfrac{1}{2} \\lambda_{kl} \\, \\dot{\\E}_2(v_j, \\hat{v}) &\\\\\n",
    "+ \\tfrac{1}{2} \\lambda_l \\, \\dot{\\E}_3(v_j, v_k, \\hat{v})\n",
    "+ \\tfrac{1}{2} \\lambda_k \\, \\lambda_l \\, \\ddot{\\E}_2(v_j, \\hat{v})\n",
    "\\bigr] &= 0.\n",
    "\\end{aligned}\n",
    "$$ {#eq-20230115101147}"
   ]
  },
  {
   "cell_type": "markdown",
   "id": "20ccbf48",
   "metadata": {},
   "source": [
    "Note that these equations are in fact *asymptotic expansions*. As such, they should hold for all $\\xi_1, \\ldots, \\xi_m$ sufficiently small. Since both equations are homogeneous in $\\xi_1, \\ldots, \\xi_m$, it is equivalent to require these to hold for all $\\xi_1, \\ldots, \\xi_m \\in \\reals$. "
   ]
  }
 ],
 "metadata": {
  "kernelspec": {
   "display_name": "Python 3 (ipykernel)",
   "language": "python",
   "name": "python3"
  },
  "language_info": {
   "codemirror_mode": {
    "name": "ipython",
    "version": 3
   },
   "file_extension": ".py",
   "mimetype": "text/x-python",
   "name": "python",
   "nbconvert_exporter": "python",
   "pygments_lexer": "ipython3",
   "version": "3.10.6"
  },
  "toc-autonumbering": false,
  "toc-showtags": false
 },
 "nbformat": 4,
 "nbformat_minor": 5
}
