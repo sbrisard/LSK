{
 "cells": [
  {
   "cell_type": "markdown",
   "id": "8a04f073-c617-45bf-a085-81b6e47b8cac",
   "metadata": {},
   "source": [
    "# Asymptotic expansion of the energy"
   ]
  },
  {
   "cell_type": "code",
   "execution_count": 1,
   "id": "db2575b5-31a5-4aff-b879-69f26e037041",
   "metadata": {},
   "outputs": [],
   "source": [
    "import json\n",
    "import lsk\n",
    "\n",
    "from sympy import *\n",
    "\n",
    "with open(\"setting-up_the_computational_stage.out.json\", \"r\") as f:\n",
    "    data = json.load(f)"
   ]
  },
  {
   "cell_type": "markdown",
   "id": "a1ed4efa-fa64-4a7a-bc8d-92e3761f4061",
   "metadata": {},
   "source": [
    "We first define the asymptotic expansion of $\\lambda$ w.r.t. the (unspecified) parameter $\\eta$."
   ]
  },
  {
   "cell_type": "code",
   "execution_count": 2,
   "id": "67a7a81f-e693-4edf-9ef6-23b35b3a35d9",
   "metadata": {},
   "outputs": [],
   "source": [
    "η, λ1, λ2 = symbols(r\"\\eta \\lambda^{(1)} \\lambda^{(2)}\")\n",
    "λ = λ1 * η + λ2 * η**2 / 2"
   ]
  },
  {
   "cell_type": "code",
   "execution_count": 3,
   "id": "96ee04a4-40f9-41ad-aaa8-b4d77f0dd892",
   "metadata": {},
   "outputs": [
    {
     "data": {
      "text/latex": [
       "$\\displaystyle \\lambda(\\eta)=\\frac{\\eta^{2} \\lambda^{(2)}}{2} + \\eta \\lambda^{(1)}$"
      ],
      "text/plain": [
       "<IPython.core.display.Math object>"
      ]
     },
     "metadata": {},
     "output_type": "display_data"
    }
   ],
   "source": [
    "#| code-fold: true\n",
    "lsk.display_latex_equation(r\"\\lambda(\\eta)\", λ)"
   ]
  },
  {
   "cell_type": "markdown",
   "id": "4c6e9419-189a-4485-9a01-cbcd748d978e",
   "metadata": {},
   "source": [
    "The fundamental branch $u^\\ast(\\lambda)$ was previously defined as an asymptotic expansion w.r.t. $\\lambda$."
   ]
  },
  {
   "cell_type": "code",
   "execution_count": 4,
   "id": "30e4d106-0efd-47d1-af9c-8e84bccbdc28",
   "metadata": {},
   "outputs": [],
   "source": [
    "u_star_of_λ = eval(data[\"u_star\"])"
   ]
  },
  {
   "cell_type": "code",
   "execution_count": 5,
   "id": "8aa88dbd-4664-4353-a4d6-dc6ba99491be",
   "metadata": {},
   "outputs": [
    {
     "data": {
      "text/latex": [
       "$\\displaystyle u^\\ast(\\lambda)=\\frac{\\ddddot{u}_0 \\lambda^{4}}{24} + \\frac{\\dddot{u}_0 \\lambda^{3}}{6} + \\frac{\\ddot{u}_0 \\lambda^{2}}{2} + \\dot{u}_0 \\lambda$"
      ],
      "text/plain": [
       "<IPython.core.display.Math object>"
      ]
     },
     "metadata": {},
     "output_type": "display_data"
    }
   ],
   "source": [
    "#| code-fold: true\n",
    "lsk.display_latex_equation(r\"u^\\ast(\\lambda)\", u_star_of_λ)"
   ]
  },
  {
   "cell_type": "markdown",
   "id": "7c54589a-8133-4740-bdf7-95d5868de413",
   "metadata": {},
   "source": [
    " We now define the fundamental branch as an asymptotic expansion w.r.t. $\\eta$."
   ]
  },
  {
   "cell_type": "code",
   "execution_count": 6,
   "id": "86527ca0-a9ac-4e53-a7e4-15ba15454e16",
   "metadata": {},
   "outputs": [],
   "source": [
    "u_star = u_star_of_λ.subs(Symbol(\"\\lambda\"), λ + O(η**3)).expand().removeO()"
   ]
  },
  {
   "cell_type": "code",
   "execution_count": 7,
   "id": "83cd1d8d-9b43-43ba-8162-37e4cb9e25b6",
   "metadata": {},
   "outputs": [
    {
     "data": {
      "text/latex": [
       "$\\displaystyle u^\\ast(\\eta)=\\frac{\\ddot{u}_0 \\eta^{2} \\left(\\lambda^{(1)}\\right)^{2}}{2} + \\frac{\\dot{u}_0 \\eta^{2} \\lambda^{(2)}}{2} + \\dot{u}_0 \\eta \\lambda^{(1)}$"
      ],
      "text/plain": [
       "<IPython.core.display.Math object>"
      ]
     },
     "metadata": {},
     "output_type": "display_data"
    }
   ],
   "source": [
    "#| code-fold: true\n",
    "lsk.display_latex_equation(r\"u^\\ast(\\eta)\", u_star)"
   ]
  },
  {
   "cell_type": "code",
   "execution_count": 8,
   "id": "04a34a5c-ad99-442c-9f44-815c425acf6f",
   "metadata": {},
   "outputs": [],
   "source": [
    "E = eval(data[\"E\"])"
   ]
  },
  {
   "cell_type": "code",
   "execution_count": 9,
   "id": "6e837f19-1438-47c2-961d-8a680b618e66",
   "metadata": {},
   "outputs": [],
   "source": [
    "u = (u_star\n",
    "     + η * Symbol(r\"\\xi_i^{(1)}v_i\") \n",
    "     + η**2 / 2 * (Symbol(r\"\\xi_j^{(2)}v_j\")\n",
    "                   + Symbol(r\"\\xi_k^{(1)}\\xi_l^{(1)}w_{kl}\")\n",
    "                   + 2 * λ1 * Symbol(r\"\\xi_m^{(1)}w_{m\\lambda}\"))).expand()"
   ]
  },
  {
   "cell_type": "code",
   "execution_count": 10,
   "id": "415eb725-0af8-4db5-a4d3-29edbdd6a86a",
   "metadata": {},
   "outputs": [
    {
     "data": {
      "text/latex": [
       "$\\displaystyle u(\\eta)=\\frac{\\ddot{u}_0 \\eta^{2} \\left(\\lambda^{(1)}\\right)^{2}}{2} + \\frac{\\dot{u}_0 \\eta^{2} \\lambda^{(2)}}{2} + \\dot{u}_0 \\eta \\lambda^{(1)} + \\eta^{2} \\lambda^{(1)} \\xi_m^{(1)}w_{m\\lambda} + \\frac{\\eta^{2} \\xi_j^{(2)}v_j}{2} + \\frac{\\eta^{2} \\xi_k^{(1)}\\xi_l^{(1)}w_{kl}}{2} + \\eta \\xi_i^{(1)}v_i$"
      ],
      "text/plain": [
       "<IPython.core.display.Math object>"
      ]
     },
     "metadata": {},
     "output_type": "display_data"
    }
   ],
   "source": [
    "#| code-fold: true\n",
    "lsk.display_latex_equation(r\"u(\\eta)\", u)"
   ]
  },
  {
   "cell_type": "code",
   "execution_count": 11,
   "id": "e1ea0709-185b-49cf-aac1-8103095a84b7",
   "metadata": {},
   "outputs": [
    {
     "data": {
      "text/latex": [
       "$\\displaystyle - \\frac{\\E_{2} \\dddot{u}_0 \\lambda^{3} u}{6} - \\frac{\\E_{2} \\ddot{u}_0 \\lambda^{2} u}{2} - \\E_{2} \\dot{u}_0 \\lambda u + \\frac{\\E_{2} u^{2}}{2} + \\frac{\\E_{3} \\ddot{u}_0 \\dot{u}_0 \\lambda^{3} u}{2} - \\frac{\\E_{3} \\ddot{u}_0 \\lambda^{2} u^{2}}{4} + \\frac{\\E_{3} \\dot{u}_0^{2} \\lambda^{2} u}{2} - \\frac{\\E_{3} \\dot{u}_0 \\lambda u^{2}}{2} + \\frac{\\E_{3} u^{3}}{6} - \\frac{\\E_{4} \\dot{u}_0^{3} \\lambda^{3} u}{6} + \\frac{\\E_{4} \\dot{u}_0^{2} \\lambda^{2} u^{2}}{4} - \\frac{\\E_{4} \\dot{u}_0 \\lambda u^{3}}{6} + \\frac{\\E_{4} u^{4}}{24} + \\frac{\\E_{\\lambda\\lambda\\lambda\\lambda} \\lambda^{4}}{24} + \\frac{\\E_{\\lambda\\lambda\\lambda} \\lambda^{3}}{6} + \\frac{\\E_{\\lambda\\lambda} \\lambda^{2}}{2} + \\E_{\\lambda} \\lambda - \\frac{\\ddot{\\E}_2 \\dot{u}_0 \\lambda^{3} u}{2} + \\frac{\\ddot{\\E}_2 \\lambda^{2} u^{2}}{4} - \\frac{\\ddot{u}_0 \\dot{\\E}_2 \\lambda^{3} u}{2} - \\dot{\\E}_2 \\dot{u}_0 \\lambda^{2} u + \\frac{\\dot{\\E}_2 \\lambda u^{2}}{2} + \\frac{\\dot{\\E}_3 \\dot{u}_0^{2} \\lambda^{3} u}{2} - \\frac{\\dot{\\E}_3 \\dot{u}_0 \\lambda^{2} u^{2}}{2} + \\frac{\\dot{\\E}_3 \\lambda u^{3}}{6}$"
      ],
      "text/plain": [
       "-\\E_2*\\dddot{u}_0*\\lambda**3*u/6 - \\E_2*\\ddot{u}_0*\\lambda**2*u/2 - \\E_2*\\dot{u}_0*\\lambda*u + \\E_2*u**2/2 + \\E_3*\\ddot{u}_0*\\dot{u}_0*\\lambda**3*u/2 - \\E_3*\\ddot{u}_0*\\lambda**2*u**2/4 + \\E_3*\\dot{u}_0**2*\\lambda**2*u/2 - \\E_3*\\dot{u}_0*\\lambda*u**2/2 + \\E_3*u**3/6 - \\E_4*\\dot{u}_0**3*\\lambda**3*u/6 + \\E_4*\\dot{u}_0**2*\\lambda**2*u**2/4 - \\E_4*\\dot{u}_0*\\lambda*u**3/6 + \\E_4*u**4/24 + \\E_{\\lambda\\lambda\\lambda\\lambda}*\\lambda**4/24 + \\E_{\\lambda\\lambda\\lambda}*\\lambda**3/6 + \\E_{\\lambda\\lambda}*\\lambda**2/2 + \\E_{\\lambda}*\\lambda - \\ddot{\\E}_2*\\dot{u}_0*\\lambda**3*u/2 + \\ddot{\\E}_2*\\lambda**2*u**2/4 - \\ddot{u}_0*\\dot{\\E}_2*\\lambda**3*u/2 - \\dot{\\E}_2*\\dot{u}_0*\\lambda**2*u + \\dot{\\E}_2*\\lambda*u**2/2 + \\dot{\\E}_3*\\dot{u}_0**2*\\lambda**3*u/2 - \\dot{\\E}_3*\\dot{u}_0*\\lambda**2*u**2/2 + \\dot{\\E}_3*\\lambda*u**3/6"
      ]
     },
     "execution_count": 11,
     "metadata": {},
     "output_type": "execute_result"
    }
   ],
   "source": [
    "E"
   ]
  },
  {
   "cell_type": "code",
   "execution_count": 12,
   "id": "e73a1690-13a4-43a7-8816-379db72253ee",
   "metadata": {},
   "outputs": [],
   "source": [
    "aux = E.subs({Symbol(\"\\lambda\"): λ,\n",
    "        Symbol(\"u\"): u}).expand()"
   ]
  },
  {
   "cell_type": "code",
   "execution_count": 13,
   "id": "10cd7c53-958c-4560-bf31-b9602b2d741d",
   "metadata": {},
   "outputs": [
    {
     "data": {
      "text/latex": [
       "$\\displaystyle 0$"
      ],
      "text/plain": [
       "0"
      ]
     },
     "execution_count": 13,
     "metadata": {},
     "output_type": "execute_result"
    }
   ],
   "source": [
    "aux.coeff(η, 0)"
   ]
  },
  {
   "cell_type": "code",
   "execution_count": 14,
   "id": "8d70ee04-d95d-487a-a3a1-0a2d8f305fcc",
   "metadata": {},
   "outputs": [
    {
     "data": {
      "text/latex": [
       "$\\displaystyle \\E_{\\lambda} \\lambda^{(1)}$"
      ],
      "text/plain": [
       "\\E_{\\lambda}*\\lambda^{(1)}"
      ]
     },
     "execution_count": 14,
     "metadata": {},
     "output_type": "execute_result"
    }
   ],
   "source": [
    "aux.coeff(η, 1)"
   ]
  },
  {
   "cell_type": "code",
   "execution_count": 15,
   "id": "f1784471-0250-486d-a856-71c3eb38a773",
   "metadata": {},
   "outputs": [
    {
     "data": {
      "text/latex": [
       "$\\displaystyle - \\frac{\\E_{2} \\dot{u}_0^{2} \\left(\\lambda^{(1)}\\right)^{2}}{2} + \\frac{\\E_{2} \\left(\\xi_i^{(1)}v_i\\right)^{2}}{2} + \\frac{\\E_{\\lambda\\lambda} \\left(\\lambda^{(1)}\\right)^{2}}{2} + \\frac{\\E_{\\lambda} \\lambda^{(2)}}{2}$"
      ],
      "text/plain": [
       "-\\E_2*\\dot{u}_0**2*\\lambda^{(1)}**2/2 + \\E_2*\\xi_i^{(1)}v_i**2/2 + \\E_{\\lambda\\lambda}*\\lambda^{(1)}**2/2 + \\E_{\\lambda}*\\lambda^{(2)}/2"
      ]
     },
     "execution_count": 15,
     "metadata": {},
     "output_type": "execute_result"
    }
   ],
   "source": [
    "aux.coeff(η, 2)"
   ]
  },
  {
   "cell_type": "code",
   "execution_count": 16,
   "id": "f0dbcab7-a2ca-4f3e-9d08-f3923ea99e40",
   "metadata": {},
   "outputs": [
    {
     "data": {
      "text/latex": [
       "$\\displaystyle - \\frac{\\E_{2} \\ddot{u}_0 \\dot{u}_0 \\left(\\lambda^{(1)}\\right)^{3}}{2} - \\frac{\\E_{2} \\dot{u}_0^{2} \\lambda^{(1)} \\lambda^{(2)}}{2} + \\E_{2} \\lambda^{(1)} \\xi_i^{(1)}v_i \\xi_m^{(1)}w_{m\\lambda} + \\frac{\\E_{2} \\xi_i^{(1)}v_i \\xi_j^{(2)}v_j}{2} + \\frac{\\E_{2} \\xi_i^{(1)}v_i \\xi_k^{(1)}\\xi_l^{(1)}w_{kl}}{2} + \\frac{\\E_{3} \\dot{u}_0^{3} \\left(\\lambda^{(1)}\\right)^{3}}{6} + \\frac{\\E_{3} \\left(\\xi_i^{(1)}v_i\\right)^{3}}{6} + \\frac{\\E_{\\lambda\\lambda\\lambda} \\left(\\lambda^{(1)}\\right)^{3}}{6} + \\frac{\\E_{\\lambda\\lambda} \\lambda^{(1)} \\lambda^{(2)}}{2} - \\frac{\\dot{\\E}_2 \\dot{u}_0^{2} \\left(\\lambda^{(1)}\\right)^{3}}{2} + \\frac{\\dot{\\E}_2 \\lambda^{(1)} \\left(\\xi_i^{(1)}v_i\\right)^{2}}{2}$"
      ],
      "text/plain": [
       "-\\E_2*\\ddot{u}_0*\\dot{u}_0*\\lambda^{(1)}**3/2 - \\E_2*\\dot{u}_0**2*\\lambda^{(1)}*\\lambda^{(2)}/2 + \\E_2*\\lambda^{(1)}*\\xi_i^{(1)}v_i*\\xi_m^{(1)}w_{m\\lambda} + \\E_2*\\xi_i^{(1)}v_i*\\xi_j^{(2)}v_j/2 + \\E_2*\\xi_i^{(1)}v_i*\\xi_k^{(1)}\\xi_l^{(1)}w_{kl}/2 + \\E_3*\\dot{u}_0**3*\\lambda^{(1)}**3/6 + \\E_3*\\xi_i^{(1)}v_i**3/6 + \\E_{\\lambda\\lambda\\lambda}*\\lambda^{(1)}**3/6 + \\E_{\\lambda\\lambda}*\\lambda^{(1)}*\\lambda^{(2)}/2 - \\dot{\\E}_2*\\dot{u}_0**2*\\lambda^{(1)}**3/2 + \\dot{\\E}_2*\\lambda^{(1)}*\\xi_i^{(1)}v_i**2/2"
      ]
     },
     "execution_count": 16,
     "metadata": {},
     "output_type": "execute_result"
    }
   ],
   "source": [
    "aux.coeff(η, 3)"
   ]
  },
  {
   "cell_type": "code",
   "execution_count": 17,
   "id": "a04721fa-5585-4eba-81c5-7366d7b3f286",
   "metadata": {},
   "outputs": [
    {
     "data": {
      "text/latex": [
       "$\\displaystyle - \\frac{\\E_{2} \\dddot{u}_0 \\dot{u}_0 \\left(\\lambda^{(1)}\\right)^{4}}{6} - \\frac{\\E_{2} \\dddot{u}_0 \\left(\\lambda^{(1)}\\right)^{3} \\xi_i^{(1)}v_i}{6} - \\frac{\\E_{2} \\ddot{u}_0^{2} \\left(\\lambda^{(1)}\\right)^{4}}{8} - \\frac{3 \\E_{2} \\ddot{u}_0 \\dot{u}_0 \\left(\\lambda^{(1)}\\right)^{2} \\lambda^{(2)}}{4} - \\frac{\\E_{2} \\ddot{u}_0 \\lambda^{(1)} \\lambda^{(2)} \\xi_i^{(1)}v_i}{2} - \\frac{\\E_{2} \\dot{u}_0^{2} \\left(\\lambda^{(2)}\\right)^{2}}{8} + \\frac{\\E_{2} \\left(\\lambda^{(1)}\\right)^{2} \\left(\\xi_m^{(1)}w_{m\\lambda}\\right)^{2}}{2} + \\frac{\\E_{2} \\lambda^{(1)} \\xi_j^{(2)}v_j \\xi_m^{(1)}w_{m\\lambda}}{2} + \\frac{\\E_{2} \\lambda^{(1)} \\xi_k^{(1)}\\xi_l^{(1)}w_{kl} \\xi_m^{(1)}w_{m\\lambda}}{2} + \\frac{\\E_{2} \\left(\\xi_j^{(2)}v_j\\right)^{2}}{8} + \\frac{\\E_{2} \\xi_j^{(2)}v_j \\xi_k^{(1)}\\xi_l^{(1)}w_{kl}}{4} + \\frac{\\E_{2} \\left(\\xi_k^{(1)}\\xi_l^{(1)}w_{kl}\\right)^{2}}{8} + \\frac{\\E_{3} \\ddot{u}_0 \\dot{u}_0^{2} \\left(\\lambda^{(1)}\\right)^{4}}{4} + \\frac{\\E_{3} \\dot{u}_0^{3} \\left(\\lambda^{(1)}\\right)^{2} \\lambda^{(2)}}{4} + \\frac{\\E_{3} \\lambda^{(1)} \\left(\\xi_i^{(1)}v_i\\right)^{2} \\xi_m^{(1)}w_{m\\lambda}}{2} + \\frac{\\E_{3} \\left(\\xi_i^{(1)}v_i\\right)^{2} \\xi_j^{(2)}v_j}{4} + \\frac{\\E_{3} \\left(\\xi_i^{(1)}v_i\\right)^{2} \\xi_k^{(1)}\\xi_l^{(1)}w_{kl}}{4} - \\frac{\\E_{4} \\dot{u}_0^{4} \\left(\\lambda^{(1)}\\right)^{4}}{24} + \\frac{\\E_{4} \\left(\\xi_i^{(1)}v_i\\right)^{4}}{24} + \\frac{\\E_{\\lambda\\lambda\\lambda\\lambda} \\left(\\lambda^{(1)}\\right)^{4}}{24} + \\frac{\\E_{\\lambda\\lambda\\lambda} \\left(\\lambda^{(1)}\\right)^{2} \\lambda^{(2)}}{4} + \\frac{\\E_{\\lambda\\lambda} \\left(\\lambda^{(2)}\\right)^{2}}{8} - \\frac{\\ddot{\\E}_2 \\dot{u}_0^{2} \\left(\\lambda^{(1)}\\right)^{4}}{4} + \\frac{\\ddot{\\E}_2 \\left(\\lambda^{(1)}\\right)^{2} \\left(\\xi_i^{(1)}v_i\\right)^{2}}{4} - \\frac{\\ddot{u}_0 \\dot{\\E}_2 \\dot{u}_0 \\left(\\lambda^{(1)}\\right)^{4}}{2} - \\frac{3 \\dot{\\E}_2 \\dot{u}_0^{2} \\left(\\lambda^{(1)}\\right)^{2} \\lambda^{(2)}}{4} + \\dot{\\E}_2 \\left(\\lambda^{(1)}\\right)^{2} \\xi_i^{(1)}v_i \\xi_m^{(1)}w_{m\\lambda} + \\frac{\\dot{\\E}_2 \\lambda^{(1)} \\xi_i^{(1)}v_i \\xi_j^{(2)}v_j}{2} + \\frac{\\dot{\\E}_2 \\lambda^{(1)} \\xi_i^{(1)}v_i \\xi_k^{(1)}\\xi_l^{(1)}w_{kl}}{2} + \\frac{\\dot{\\E}_2 \\lambda^{(2)} \\left(\\xi_i^{(1)}v_i\\right)^{2}}{4} + \\frac{\\dot{\\E}_3 \\dot{u}_0^{3} \\left(\\lambda^{(1)}\\right)^{4}}{6} + \\frac{\\dot{\\E}_3 \\lambda^{(1)} \\left(\\xi_i^{(1)}v_i\\right)^{3}}{6}$"
      ],
      "text/plain": [
       "-\\E_2*\\dddot{u}_0*\\dot{u}_0*\\lambda^{(1)}**4/6 - \\E_2*\\dddot{u}_0*\\lambda^{(1)}**3*\\xi_i^{(1)}v_i/6 - \\E_2*\\ddot{u}_0**2*\\lambda^{(1)}**4/8 - 3*\\E_2*\\ddot{u}_0*\\dot{u}_0*\\lambda^{(1)}**2*\\lambda^{(2)}/4 - \\E_2*\\ddot{u}_0*\\lambda^{(1)}*\\lambda^{(2)}*\\xi_i^{(1)}v_i/2 - \\E_2*\\dot{u}_0**2*\\lambda^{(2)}**2/8 + \\E_2*\\lambda^{(1)}**2*\\xi_m^{(1)}w_{m\\lambda}**2/2 + \\E_2*\\lambda^{(1)}*\\xi_j^{(2)}v_j*\\xi_m^{(1)}w_{m\\lambda}/2 + \\E_2*\\lambda^{(1)}*\\xi_k^{(1)}\\xi_l^{(1)}w_{kl}*\\xi_m^{(1)}w_{m\\lambda}/2 + \\E_2*\\xi_j^{(2)}v_j**2/8 + \\E_2*\\xi_j^{(2)}v_j*\\xi_k^{(1)}\\xi_l^{(1)}w_{kl}/4 + \\E_2*\\xi_k^{(1)}\\xi_l^{(1)}w_{kl}**2/8 + \\E_3*\\ddot{u}_0*\\dot{u}_0**2*\\lambda^{(1)}**4/4 + \\E_3*\\dot{u}_0**3*\\lambda^{(1)}**2*\\lambda^{(2)}/4 + \\E_3*\\lambda^{(1)}*\\xi_i^{(1)}v_i**2*\\xi_m^{(1)}w_{m\\lambda}/2 + \\E_3*\\xi_i^{(1)}v_i**2*\\xi_j^{(2)}v_j/4 + \\E_3*\\xi_i^{(1)}v_i**2*\\xi_k^{(1)}\\xi_l^{(1)}w_{kl}/4 - \\E_4*\\dot{u}_0**4*\\lambda^{(1)}**4/24 + \\E_4*\\xi_i^{(1)}v_i**4/24 + \\E_{\\lambda\\lambda\\lambda\\lambda}*\\lambda^{(1)}**4/24 + \\E_{\\lambda\\lambda\\lambda}*\\lambda^{(1)}**2*\\lambda^{(2)}/4 + \\E_{\\lambda\\lambda}*\\lambda^{(2)}**2/8 - \\ddot{\\E}_2*\\dot{u}_0**2*\\lambda^{(1)}**4/4 + \\ddot{\\E}_2*\\lambda^{(1)}**2*\\xi_i^{(1)}v_i**2/4 - \\ddot{u}_0*\\dot{\\E}_2*\\dot{u}_0*\\lambda^{(1)}**4/2 - 3*\\dot{\\E}_2*\\dot{u}_0**2*\\lambda^{(1)}**2*\\lambda^{(2)}/4 + \\dot{\\E}_2*\\lambda^{(1)}**2*\\xi_i^{(1)}v_i*\\xi_m^{(1)}w_{m\\lambda} + \\dot{\\E}_2*\\lambda^{(1)}*\\xi_i^{(1)}v_i*\\xi_j^{(2)}v_j/2 + \\dot{\\E}_2*\\lambda^{(1)}*\\xi_i^{(1)}v_i*\\xi_k^{(1)}\\xi_l^{(1)}w_{kl}/2 + \\dot{\\E}_2*\\lambda^{(2)}*\\xi_i^{(1)}v_i**2/4 + \\dot{\\E}_3*\\dot{u}_0**3*\\lambda^{(1)}**4/6 + \\dot{\\E}_3*\\lambda^{(1)}*\\xi_i^{(1)}v_i**3/6"
      ]
     },
     "execution_count": 17,
     "metadata": {},
     "output_type": "execute_result"
    }
   ],
   "source": [
    "aux.coeff(η, 4)"
   ]
  }
 ],
 "metadata": {
  "kernelspec": {
   "display_name": "Python 3 (ipykernel)",
   "language": "python",
   "name": "python3"
  },
  "language_info": {
   "codemirror_mode": {
    "name": "ipython",
    "version": 3
   },
   "file_extension": ".py",
   "mimetype": "text/x-python",
   "name": "python",
   "nbconvert_exporter": "python",
   "pygments_lexer": "ipython3",
   "version": "3.10.6"
  }
 },
 "nbformat": 4,
 "nbformat_minor": 5
}
