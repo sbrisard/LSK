{
 "cells": [
  {
   "cell_type": "markdown",
   "id": "3830ea27-8078-4046-8616-5fa9c6da1c12",
   "metadata": {
    "tags": []
   },
   "source": [
    "# Bifurcation equations {#sec-20230102153124}"
   ]
  },
  {
   "cell_type": "raw",
   "id": "906404ca-e7a1-487d-b088-357e16857142",
   "metadata": {},
   "source": [
    "::: {.content-hidden}"
   ]
  },
  {
   "cell_type": "markdown",
   "id": "0be79e42-ae1d-41be-9ccb-a938a98ec43a",
   "metadata": {
    "tags": []
   },
   "source": [
    "This notebook uses $\\LaTeX\\newcommand{\\D}{\\mathrm{d}}\\newcommand{\\E}{\\mathcal{E}}\\newcommand{\\order}[2][1]{#2^{(#1)}}\\newcommand{\\reals}{\\mathbb{R}}$ custom macros."
   ]
  },
  {
   "cell_type": "raw",
   "id": "2faf5cc0-9026-4845-9563-1ab7a77f035f",
   "metadata": {},
   "source": [
    ":::"
   ]
  },
  {
   "cell_type": "markdown",
   "id": "3c3bfafc-7ada-4ad8-96b8-decf9adc7c36",
   "metadata": {
    "tags": []
   },
   "source": [
    "## Introduction"
   ]
  },
  {
   "cell_type": "markdown",
   "id": "3097237f-8885-4624-b174-aa420ce00c88",
   "metadata": {
    "tags": []
   },
   "source": [
    "In this chapter, the bifurcation analysis of the perfect system is performed symbolically. It is assumed that through the critical point passes a second equilibrium curve $\\lambda \\mapsto u(\\lambda)$, besides the fundamental branch $\\lambda \\mapsto u^\\star(\\lambda)$. We seek an asymptotic expansion of $u(\\lambda)$ for $\\lambda \\to \\lambda_0$ (critical load). It will be convenient to introduce an auxiliary parametrization $\\eta$ such that the bifurcated branch is defined as the set of points $(u(\\eta), \\lambda(\\eta))$. The functions $\\eta \\mapsto \\lambda(\\eta)$ and $\\eta \\mapsto u(\\eta)$ are expanded as follows"
   ]
  },
  {
   "cell_type": "markdown",
   "id": "b8933157-bed5-4659-b8b9-6c5c5bd8523e",
   "metadata": {
    "tags": []
   },
   "source": [
    "$$\n",
    "\\lambda(\\eta) = \\order[0]{\\lambda} + \\eta \\, \\order[1]{\\lambda} + \\tfrac{1}{2}\\eta^2 \\, \\order[2]{\\lambda} + \\ldots\n",
    "$$ {#eq-20230623193826}"
   ]
  },
  {
   "cell_type": "markdown",
   "id": "bae50c5b-83e9-4c4b-8927-1ea2816f72d6",
   "metadata": {
    "tags": []
   },
   "source": [
    "and"
   ]
  },
  {
   "cell_type": "markdown",
   "id": "1460f237-44ff-4e4f-9d92-4e0a54375cc5",
   "metadata": {
    "tags": []
   },
   "source": [
    "$$\n",
    "u(\\eta) = u^\\ast[\\lambda(\\eta)] + \\eta \\, \\order[1]{u} + \\tfrac{1}{2} \\eta^2 \\, \\order[2]{u} + \\ldots\n",
    "$$ {#eq-20230528174310}"
   ]
  },
  {
   "cell_type": "markdown",
   "id": "62978cfa-185d-48ef-9789-5bf0cc0670a0",
   "metadata": {
    "tags": []
   },
   "source": [
    "It will be shown below that\n",
    "$$\n",
    "\\order[1]{u} = \\order[1]{\\xi_i} \\, v_i\n",
    "\\quad \\text{and} \\quad\n",
    "\\order[2]{u} = \\order[2]{\\xi_i} \\, v_i + \\order[1]{\\xi_i} \\, \\order[1]{\\xi_j} \\, w_{ij}  + 2\\order[1]{\\lambda} \\, \\order[1]{\\xi_i} \\, w_{i\\lambda},\n",
    "$$ {#eq-20230411141319}"
   ]
  },
  {
   "cell_type": "markdown",
   "id": "44a71553-c2ea-432d-ba81-96110a295ee8",
   "metadata": {
    "tags": []
   },
   "source": [
    "where the coefficients $\\order[1]{\\lambda}$, $\\order[2]{\\lambda}$, $\\order[1]{\\xi}_i$ and $\\order[2]{\\xi}_i$ solve the **first bifurcation equation**"
   ]
  },
  {
   "cell_type": "markdown",
   "id": "4970b92a-1da9-466c-95cb-40a1bd1644bd",
   "metadata": {
    "tags": []
   },
   "source": [
    "$$\n",
    "\\tfrac{1}{2} E_{ijk} \\, \\order[1]{\\xi_j} \\, \\order[1]{\\xi_k} + \\order[1]{\\lambda} \\, \\dot{E}_{ij} \\, \\order[1]{\\xi_j} = 0\n",
    "$$ {#eq-20230125062336}"
   ]
  },
  {
   "cell_type": "markdown",
   "id": "7a5290bd-f5eb-48c8-af59-ae69a3dfa76a",
   "metadata": {
    "tags": []
   },
   "source": [
    "and the **second bifurcation equation**"
   ]
  },
  {
   "cell_type": "markdown",
   "id": "6ef8571f-f1ff-41fd-a2e3-0df5ee44c715",
   "metadata": {
    "tags": []
   },
   "source": [
    "$$\n",
    "\\begin{aligned}[b]\n",
    "\\tfrac{1}{3} E_{ijkl} \\, \\order[1]{\\xi}_j \\, \\order[1]{\\xi}_k \\, \\order[1]{\\xi}_l\n",
    "+ \\order[1]{\\lambda} \\, \\bigl( \\dot{E}_{ijk} \\, \\order[1]{\\xi}_k + \\order[1]{\\lambda} \\, \\ddot{E}_{ij} \\bigr) \\, \\order[1]{\\xi}_j &\\\\\n",
    "+ \\bigl( E_{ijk} \\, \\order[1]{\\xi}_k + \\order[1]{\\lambda} \\, \\dot{E}_{ij} \\bigr) \\order[2]{\\xi}_j\n",
    "+ \\order[2]{\\lambda} \\, \\dot{E}_{ij} \\, \\order[1]{\\xi}_j & = 0.\n",
    "\\end{aligned}\n",
    "$$ {#eq-20230124205642}"
   ]
  },
  {
   "cell_type": "markdown",
   "id": "f633ce65-24e8-4adf-ac43-94a95e05d6f8",
   "metadata": {
    "tags": []
   },
   "source": [
    "The tensors $\\dot{E}_{ij}$, $\\ddot{E}_{ij}$, $E_{ijk}$, $\\dot{E}_{ijk}$ and $E_{ijkl}$ have been defined in @sec-20230402152824 (see @sec-20230528173310)."
   ]
  },
  {
   "cell_type": "markdown",
   "id": "543339c8-d732-42de-bc2f-f2d91600a7c0",
   "metadata": {
    "tags": []
   },
   "source": [
    "The starting point is the symbolic expression of the residual $(u, \\lambda) \\mapsto \\E_{,u}(u, \\lambda)$ that was derived in @sec-20230402140105. We plug the postulated expansions (@eq-20230623193826) and (@eq-20230528174310) into the equilibrium equation"
   ]
  },
  {
   "cell_type": "markdown",
   "id": "53e33885-5b24-4eea-b17b-ae9cfaf9918c",
   "metadata": {
    "tags": []
   },
   "source": [
    "$$\n",
    "\\E_{, u}[u(\\eta), \\lambda(\\eta); \\hat{u}] = 0 \\quad \\text{for all} \\quad \\hat{u} \\in U.\n",
    "$$"
   ]
  },
  {
   "cell_type": "markdown",
   "id": "807049b3-85a0-44be-9d43-b6498a06959d",
   "metadata": {
    "tags": []
   },
   "source": [
    "The coefficients of $\\eta^0$, $\\eta^1$, etc deliver a series of variational problems from which $\\order[k]{u}$ and $\\order[k]{\\lambda}$ are identified."
   ]
  },
  {
   "cell_type": "code",
   "execution_count": 1,
   "id": "0c4aa7ee-185d-46b8-af94-d18604b761aa",
   "metadata": {
    "tags": []
   },
   "outputs": [],
   "source": [
    "from sympy import *\n",
    "from lsk.display import *\n",
    "from lsk.energy import *\n",
    "from lsk.symbols import *"
   ]
  },
  {
   "cell_type": "markdown",
   "id": "d447809d-9772-47a3-aeb2-7617e47c06df",
   "metadata": {},
   "source": [
    "The asymptotic expansion of $\\lambda$ according to Eq. (@eq-20230623193826) is first postulated and plugged into the expression of $u^\\star$. The resulting symbolic expressions are combined to define the asymptotic expansion of $u$ according to Eq. (@eq-20230528174310)."
   ]
  },
  {
   "cell_type": "code",
   "execution_count": 2,
   "id": "c84648b0-e9fb-4acc-aa59-5c45095c3e52",
   "metadata": {
    "tags": []
   },
   "outputs": [],
   "source": [
    "λ = η * λ1 + η**2 / 2 * λ2 + η**3 / 6 * λ3 + η**4 / 24 * λ4 + O(η**5)\n",
    "u_star = create_u_star(λ)\n",
    "u = u_star + η * u1 + η**2 / 2 * u2 + η**3 / 6 * u3 + η**4 / 24 * u4"
   ]
  },
  {
   "cell_type": "code",
   "execution_count": 3,
   "id": "fd8c7078-ea65-4c26-a4ba-040711c4f9ab",
   "metadata": {
    "tags": []
   },
   "outputs": [
    {
     "data": {
      "text/latex": [
       "$\\displaystyle \\lambda(\\eta)=\\eta {\\order[1]{\\lambda}} + \\frac{\\eta^{2} {\\order[2]{\\lambda}}}{2} + \\frac{\\eta^{3} {\\order[3]{\\lambda}}}{6} + \\frac{\\eta^{4} {\\order[4]{\\lambda}}}{24} + O\\left(\\eta^{5}\\right)$"
      ],
      "text/plain": [
       "<IPython.core.display.Math object>"
      ]
     },
     "metadata": {},
     "output_type": "display_data"
    },
    {
     "data": {
      "text/latex": [
       "$\\displaystyle \\begin{aligned}u^\\star(\\eta)={} &\\frac{\\dddot{u}_0 \\eta^{3} {\\order[1]{\\lambda}}^{3}}{6} + \\frac{\\ddot{u}_0 \\eta^{4} {\\order[2]{\\lambda}}^{2}}{8} + \\frac{\\ddot{u}_0 \\eta^{2} {\\order[1]{\\lambda}}^{2}}{2} + \\frac{\\dot{u}_0 \\eta^{3} {\\order[3]{\\lambda}}}{6} + \\frac{\\dot{u}_0 \\eta^{2} {\\order[2]{\\lambda}}}{2} + \\dot{u}_0 \\eta {\\order[1]{\\lambda}}\\\\ &+\\frac{\\dot{u}_0 \\eta^{4} {\\order[4]{\\lambda}}}{24} + \\frac{\\ddot{u}_0 \\eta^{3} {\\order[1]{\\lambda}} {\\order[2]{\\lambda}}}{2} + \\frac{\\ddot{u}_0 \\eta^{4} {\\order[1]{\\lambda}} {\\order[3]{\\lambda}}}{6} + \\frac{\\dddot{u}_0 \\eta^{4} {\\order[1]{\\lambda}}^{2} {\\order[2]{\\lambda}}}{4} + \\frac{\\ddddot{u}_0 \\eta^{4} {\\order[1]{\\lambda}}^{4}}{24} + O\\left(\\eta^{5}\\right)\\end{aligned}$"
      ],
      "text/plain": [
       "<IPython.core.display.Math object>"
      ]
     },
     "metadata": {},
     "output_type": "display_data"
    },
    {
     "data": {
      "text/latex": [
       "$\\displaystyle \\begin{aligned}u(\\eta)={} &\\frac{\\ddot{u}_0 \\eta^{2} {\\order[1]{\\lambda}}^{2}}{2} + \\dot{u}_0 \\eta {\\order[1]{\\lambda}} + \\frac{\\eta^{4} {\\order[4]{u}}}{24} + \\frac{\\eta^{3} {\\order[3]{u}}}{6} + \\frac{\\eta^{2} {\\order[2]{u}}}{2} + \\eta {\\order[1]{u}}\\\\ &+\\frac{\\ddddot{u}_0 \\eta^{4} {\\order[1]{\\lambda}}^{4}}{24} + \\frac{\\dddot{u}_0 \\eta^{3} {\\order[1]{\\lambda}}^{3}}{6} + \\frac{\\ddot{u}_0 \\eta^{4} {\\order[2]{\\lambda}}^{2}}{8} + \\frac{\\dot{u}_0 \\eta^{4} {\\order[4]{\\lambda}}}{24} + \\frac{\\dot{u}_0 \\eta^{3} {\\order[3]{\\lambda}}}{6} + \\frac{\\dot{u}_0 \\eta^{2} {\\order[2]{\\lambda}}}{2}\\\\ &+\\frac{\\ddot{u}_0 \\eta^{3} {\\order[1]{\\lambda}} {\\order[2]{\\lambda}}}{2} + \\frac{\\ddot{u}_0 \\eta^{4} {\\order[1]{\\lambda}} {\\order[3]{\\lambda}}}{6} + \\frac{\\dddot{u}_0 \\eta^{4} {\\order[1]{\\lambda}}^{2} {\\order[2]{\\lambda}}}{4} + O\\left(\\eta^{5}\\right)\\end{aligned}$"
      ],
      "text/plain": [
       "<IPython.core.display.Math object>"
      ]
     },
     "metadata": {},
     "output_type": "display_data"
    }
   ],
   "source": [
    "#| code-fold: true\n",
    "display_latex_equation(r\"\\lambda(\\eta)\", λ)\n",
    "display_latex_long_equation(r\"u^\\star(\\eta)\", u_star, terms_per_line=6)\n",
    "display_latex_long_equation(r\"u(\\eta)\", u, terms_per_line=6)"
   ]
  },
  {
   "cell_type": "markdown",
   "id": "c8f4a398-bd8f-49e4-94df-bd8f8bd5f3c5",
   "metadata": {},
   "source": [
    "These expressions are then used to compute an asymptotic expansion of the residual $\\E_{,u}$ along the bifurcated branch."
   ]
  },
  {
   "cell_type": "code",
   "execution_count": 4,
   "id": "2cb93ffa-8198-4087-8ba2-6274c2bf8651",
   "metadata": {
    "tags": []
   },
   "outputs": [],
   "source": [
    "E_u = (create_E_u(u, λ) * u_hat).expand()"
   ]
  },
  {
   "cell_type": "markdown",
   "id": "01144565-d2a1-47d3-a66c-96ee31240a72",
   "metadata": {},
   "source": [
    "The general form of this expansion is"
   ]
  },
  {
   "cell_type": "markdown",
   "id": "9571e33b-11cf-42c9-aa02-f8ae9866846a",
   "metadata": {},
   "source": [
    "$$\n",
    "\\begin{aligned}[b]\n",
    "\\E_{,u}[u(\\eta), \\lambda(\\eta); \\hat{u}] \n",
    "={} & \\order[0]{\\E}_{,u}(\\hat{u})\n",
    "+ \\eta \\, \\order[1]{\\E}_{,u}(\\order[1]{u}; \\hat{u})\n",
    "+ \\tfrac{1}{2} \\eta^2 \\, \\order[2]{\\E}_{,u}(\\order[1]{u}, \\order[2]{u}, \\order[1]{\\lambda}; \\hat{u})\\\\\n",
    "&+ \\tfrac{1}{6} \\eta^3 \\, \\order[3]{\\E}_{,u}(\\order[1]{u}, \\order[2]{u}, \\order[3]{u}, \\order[1]{\\lambda}, \\order[2]{\\lambda}; \\hat{u}) + \\ldots,\n",
    "\\end{aligned}\n",
    "$$"
   ]
  },
  {
   "cell_type": "markdown",
   "id": "ccccfb92-f73c-489e-ace1-13e3019b01b3",
   "metadata": {},
   "source": [
    "which delivers the following variational problems"
   ]
  },
  {
   "cell_type": "markdown",
   "id": "44a32a6d-9f21-4402-b10d-85d3a9abbfb6",
   "metadata": {},
   "source": [
    "$$\n",
    "\\order[k]{\\E}_{,u}(\\order[1]{u}, \\ldots, \\order[k]{u}, \\order[1]{\\lambda}, \\ldots, \\order[k-1]{\\lambda}; \\hat{u}) \\quad \\text{for all} \\quad \\hat{u} \\in U, \\quad k = 0, 1, 2, \\ldots\n",
    "$$"
   ]
  },
  {
   "cell_type": "markdown",
   "id": "70c83898-49db-4c91-be32-bbbf2b1fd9bb",
   "metadata": {},
   "source": [
    "These problems are studied successively in the following sections. Note that the variational problem of order 0 is in fact uninformative, since $\\order[0]{\\E}_{,u} = 0$."
   ]
  },
  {
   "cell_type": "code",
   "execution_count": 5,
   "id": "c28c0f45-2194-49fc-85bd-226f030924d3",
   "metadata": {
    "tags": []
   },
   "outputs": [],
   "source": [
    "#| code-fold: true\n",
    "assert E_u.coeff(η, 0) == 0"
   ]
  },
  {
   "cell_type": "markdown",
   "id": "58f9a602-b368-4a2c-b8c7-4305a20446dc",
   "metadata": {},
   "source": [
    "## The variational problem of order 1"
   ]
  },
  {
   "cell_type": "markdown",
   "id": "c520e519-768e-4a4d-b9e1-347b94b5071b",
   "metadata": {},
   "source": [
    "This problem reads"
   ]
  },
  {
   "cell_type": "markdown",
   "id": "b92e4f9f-3620-44a0-a31b-11f6d873e013",
   "metadata": {},
   "source": [
    "$$\n",
    "\\E_2(\\order[1]{u}, \\hat{u}) = 0 \\quad \\text{for all} \\quad \\hat{u} \\in U.\n",
    "$$"
   ]
  },
  {
   "cell_type": "code",
   "execution_count": 6,
   "id": "42067db8-b303-4aa8-b781-05c2933b4d82",
   "metadata": {
    "tags": []
   },
   "outputs": [],
   "source": [
    "#| code-fold: true\n",
    "assert E_u.coeff(η, 1) == E2 * u1 * u_hat"
   ]
  },
  {
   "cell_type": "markdown",
   "id": "cf57cbf7-b65e-467a-b06c-54274e154fbe",
   "metadata": {},
   "source": [
    "Therefore $\\order[1]{u} \\in V$ and we introduce the following decomposition"
   ]
  },
  {
   "cell_type": "markdown",
   "id": "b84c3ce8-6b0c-4193-ae37-2b54b52b6f35",
   "metadata": {},
   "source": [
    "$$\n",
    "\\order[1]{u} = \\order[1]{\\xi}_i \\, v_i,\n",
    "$$ {#eq-20230620132240}"
   ]
  },
  {
   "cell_type": "markdown",
   "id": "9e43df4d-8707-4842-872c-41c3628e91f1",
   "metadata": {},
   "source": [
    "where $\\order[1]{\\xi}_1, \\ldots, \\order[1]{\\xi}_m$ are yet unknown scalars."
   ]
  },
  {
   "cell_type": "markdown",
   "id": "d37b5399-25ea-4e25-a2b1-dc5a8de6d118",
   "metadata": {},
   "source": [
    "## The variational problem of order 2"
   ]
  },
  {
   "cell_type": "code",
   "execution_count": 7,
   "id": "4023545a-e790-4bae-94c8-df58ec85ede9",
   "metadata": {
    "tags": []
   },
   "outputs": [],
   "source": [
    "E_u2 = E_u.coeff(η, 2)"
   ]
  },
  {
   "cell_type": "markdown",
   "id": "4363a4cc-b668-4db5-907d-38ac2b49069f",
   "metadata": {},
   "source": [
    "The term in $\\eta^2$ of the residual delivers the following variational problem"
   ]
  },
  {
   "cell_type": "code",
   "execution_count": 8,
   "id": "2f2a4d55-c3a5-4113-b102-4e4f7c795f6e",
   "metadata": {
    "tags": []
   },
   "outputs": [
    {
     "data": {
      "text/latex": [
       "$\\displaystyle \\frac{\\E_{2} \\hat{u} {\\order[2]{u}}}{2} + \\frac{\\E_{3} \\hat{u} {\\order[1]{u}}^{2}}{2} + \\dot{\\E}_2 \\hat{u} {\\order[1]{\\lambda}} {\\order[1]{u}}=0$"
      ],
      "text/plain": [
       "<IPython.core.display.Math object>"
      ]
     },
     "metadata": {},
     "output_type": "display_data"
    }
   ],
   "source": [
    "#| code-fold: true\n",
    "display_latex_equation(E_u2, 0)"
   ]
  },
  {
   "cell_type": "markdown",
   "id": "9f5e41dc-d876-49fe-9799-6af8f113b22a",
   "metadata": {},
   "source": [
    "for all $\\hat{u} \\in U$. Testing with $\\hat{v} \\in V$, the term in $\\E_2(\\order[2]{u}, \\hat{v})$ vanishes and we get the following variational problem"
   ]
  },
  {
   "cell_type": "code",
   "execution_count": 9,
   "id": "68363e27-bcf1-454e-9a43-ba228fedcab2",
   "metadata": {
    "tags": []
   },
   "outputs": [],
   "source": [
    "lhs1 = E_u2.subs(u_hat, v_hat).subs(E2 *  v_hat, 0)"
   ]
  },
  {
   "cell_type": "code",
   "execution_count": 10,
   "id": "bcc58aa4-6346-4683-96a0-aa5ffba08f77",
   "metadata": {
    "tags": []
   },
   "outputs": [
    {
     "data": {
      "text/latex": [
       "$\\displaystyle \\frac{\\E_{3} \\hat{v} {\\order[1]{u}}^{2}}{2} + \\dot{\\E}_2 \\hat{v} {\\order[1]{\\lambda}} {\\order[1]{u}}=0$"
      ],
      "text/plain": [
       "<IPython.core.display.Math object>"
      ]
     },
     "metadata": {},
     "output_type": "display_data"
    }
   ],
   "source": [
    "#| code-fold: true\n",
    "display_latex_equation(lhs1, 0)"
   ]
  },
  {
   "cell_type": "markdown",
   "id": "e0888dc5-9cb1-4814-8233-07cfce112ea1",
   "metadata": {},
   "source": [
    "to be understood as"
   ]
  },
  {
   "cell_type": "markdown",
   "id": "88f7ffc5-8dbc-475d-b875-82979a6a06f0",
   "metadata": {},
   "source": [
    "$$\n",
    "\\tfrac{1}{2} \\E_3(\\order[1]{u}, \\order[1]{u}, \\hat{v}) \n",
    "+ \\order[1]{\\lambda} \\, \\dot{\\E}_2(\\order[1]{u}, \\hat{v}) = 0,\n",
    "$$ {#eq-20220524133816}"
   ]
  },
  {
   "cell_type": "markdown",
   "id": "0ef22476-5979-43a2-aa4f-bcf219757230",
   "metadata": {},
   "source": [
    "for all $\\hat{v} \\in V$. The above equation fully defines $\\order[1]{u}$. Indeed, plugging the decomposition (@eq-20230620132240) delivers the equivalent equations"
   ]
  },
  {
   "cell_type": "markdown",
   "id": "e182e1e6-0cf6-4c75-a9c4-83bf39957daf",
   "metadata": {},
   "source": [
    "$$\n",
    "\\tfrac{1}{2} E_{ijk} \\, \\order[1]{\\xi}_j \\, \\order[1]{\\xi}_k + \\order[1]{\\lambda} \\, \\dot{E}_{ij} \\, \\order[1]{\\xi}_j = 0,\n",
    "$$"
   ]
  },
  {
   "cell_type": "markdown",
   "id": "662d9154-e409-43aa-985e-c05b8a40ff6b",
   "metadata": {},
   "source": [
    "where we have introduced $\\dot{E}_{ij}$ and $E_{ijk}$, defined by Eqs. (@eq-20230125062505) and (@eq-20230125062510), respectively. We finally retrieve the first bifurcation equation (@eq-20230125062336)."
   ]
  },
  {
   "cell_type": "markdown",
   "id": "4e83b59e-1440-403f-b56a-353407a90d49",
   "metadata": {},
   "source": [
    "We now test the same equation with $\\hat{w} \\in W$, plugging the expansion (@eq-20230620132240) of $\\order[1]{u}$"
   ]
  },
  {
   "cell_type": "markdown",
   "id": "d699335b-1845-491e-a223-917ed3e958b1",
   "metadata": {},
   "source": [
    "$$\n",
    "\\tfrac{1}{2} \\E_2(\\order[2]{u}, \\hat{w})\n",
    "+\\tfrac{1}{2} \\order[1]{\\xi}_i \\, \\order[1]{\\xi}_j \\, \\E_3(v_i, v_j, \\hat{w})\n",
    "+ \\order[1]{\\lambda} \\, \\order[1]{\\xi}_i \\, \\dot{E}_2(v_i, \\hat{w}) = 0.\n",
    "$$"
   ]
  },
  {
   "cell_type": "markdown",
   "id": "fd63fcf6-42fd-41b0-900f-74d6897f4197",
   "metadata": {},
   "source": [
    "The second-order term $\\order[2]{u}$ is projected onto $V$ and $W$"
   ]
  },
  {
   "cell_type": "markdown",
   "id": "f7e5b2fe-ddfd-4344-8923-6cc5e7be01ba",
   "metadata": {},
   "source": [
    "$$\n",
    "\\order[2]{u} = \\order[2]{u}_V + \\order[2]{u}_W,\n",
    "\\quad \\text{where} \\quad\n",
    "\\order[2]{u}_V = \\order[2]{\\xi}_i \\, v_i \\in V\n",
    "\\quad \\text{and} \\quad \\order[2]{u}_W \\in W.\n",
    "$$"
   ]
  },
  {
   "cell_type": "markdown",
   "id": "f14627dc-329d-48ad-9b79-7990662b5d28",
   "metadata": {},
   "source": [
    "Plugging this decomposition delivers"
   ]
  },
  {
   "cell_type": "markdown",
   "id": "c336cfff-f3df-4297-8581-b5bcd8e50347",
   "metadata": {},
   "source": [
    "$$\n",
    "\\tfrac{1}{2} \\E_2(\\order[2]{u}_W, \\hat{w})\n",
    "+\\tfrac{1}{2} \\order[1]{\\xi}_i \\, \\order[1]{\\xi}_j \\, \\E_3(v_i, v_j, \\hat{w})\n",
    "+ \\order[1]{\\lambda} \\, \\order[1]{\\xi}_i \\, \\dot{E}_2(v_i, \\hat{w}) = 0.\n",
    "$$"
   ]
  },
  {
   "cell_type": "markdown",
   "id": "0712e037-5714-4283-b962-7262ec7fd872",
   "metadata": {},
   "source": [
    "The unique solution to this variational problem can be expressed as a function of $w_{i\\lambda}$ and $w_{ij}$, (see @sec-20230620135251)"
   ]
  },
  {
   "cell_type": "markdown",
   "id": "8f78024f-3843-4c65-8acc-566ce423876a",
   "metadata": {},
   "source": [
    "$$\n",
    "\\order[2]{u}_W = \\order[1]{\\xi_i} \\, \\order[1]{\\xi_j} \\, w_{ij}  + 2\\order[1]{\\lambda} \\, \\order[1]{\\xi_i} \\, w_{i\\lambda},\n",
    "$$"
   ]
  },
  {
   "cell_type": "markdown",
   "id": "7c4f8fc2-a846-453e-8820-ee0b342b7ec4",
   "metadata": {},
   "source": [
    "which proves the decomposition (@eq-20230411141319) of $\\order[2]{u}$."
   ]
  },
  {
   "cell_type": "markdown",
   "id": "a9148ed8-ab5a-4162-8e14-30d68f6f693e",
   "metadata": {},
   "source": [
    "## The variational problem of order 3"
   ]
  },
  {
   "cell_type": "markdown",
   "id": "adcceffd-8c99-42ee-a880-96688193b6b7",
   "metadata": {},
   "source": [
    "We now turn to the third-order term of the residual $\\E_{,u}$. It involves $\\order[3]{u}$, that gets eliminated when testing with $v_i \\in V$."
   ]
  },
  {
   "cell_type": "code",
   "execution_count": 11,
   "id": "c88332c2-6314-4651-aa24-fd16a17fd5fa",
   "metadata": {
    "tags": []
   },
   "outputs": [],
   "source": [
    "lhs2 = E_u.coeff(η, 3).subs(u_hat, v[i]).subs(E2 * v[i], 0)"
   ]
  },
  {
   "cell_type": "markdown",
   "id": "d353e088-21d0-4677-8504-9f6db0747f82",
   "metadata": {},
   "source": [
    "We get the following equations for $i = 1, \\ldots, m$"
   ]
  },
  {
   "cell_type": "code",
   "execution_count": 12,
   "id": "0fba6f98-1549-4a9c-9e78-9728868f9570",
   "metadata": {
    "tags": []
   },
   "outputs": [
    {
     "data": {
      "text/latex": [
       "$\\displaystyle \\frac{\\E_{3} {\\order[1]{u}} {\\order[2]{u}} {v}_{i}}{2} + \\frac{\\E_{4} {\\order[1]{u}}^{3} {v}_{i}}{6} + \\frac{\\ddot{\\E}_2 {\\order[1]{\\lambda}}^{2} {\\order[1]{u}} {v}_{i}}{2} + \\frac{\\dot{\\E}_2 {\\order[1]{\\lambda}} {\\order[2]{u}} {v}_{i}}{2} + \\frac{\\dot{\\E}_2 {\\order[1]{u}} {\\order[2]{\\lambda}} {v}_{i}}{2} + \\frac{\\dot{\\E}_3 {\\order[1]{\\lambda}} {\\order[1]{u}}^{2} {v}_{i}}{2}=0$"
      ],
      "text/plain": [
       "<IPython.core.display.Math object>"
      ]
     },
     "metadata": {},
     "output_type": "display_data"
    }
   ],
   "source": [
    "#| code-fold: true\n",
    "display_latex_equation(lhs2, 0)"
   ]
  },
  {
   "cell_type": "markdown",
   "id": "7e0a843a-1cd7-4e5c-ba6f-b598e93fe3a5",
   "metadata": {},
   "source": [
    "For the terms that involve only $v_i$ and $\\order[1]{u}$, we use Eqs. (@eq-20230125062505), (@eq-20230124211207) and (@eq-20230124210649) together with the decomposition $\\order[1]{u} = \\order[1]{\\xi}_i \\, v_i$."
   ]
  },
  {
   "cell_type": "code",
   "execution_count": 13,
   "id": "0f39c535-288e-462f-b593-77f432890ed7",
   "metadata": {
    "tags": []
   },
   "outputs": [],
   "source": [
    "d = {\n",
    "    E2_dot * u1 * v[i]: ξ1[j] * E_dot[i, j],\n",
    "    E2_ddot * u1 * v[i]: (ξ1[j] * (E_ddot[i, j]\n",
    "                                   - E2_dot * v[i] * w[j])\n",
    "                           - E2_dot * u1 * w[i]),\n",
    "    E3_dot * u1 * u1 * v[i]: (ξ1[j] * ξ1[k] * (E_dot[i, j, k] \n",
    "                                               - E2_dot * v[i] * w[j, k])\n",
    "                               - 2 * ξ1[j] * E2_dot * u1 * w[i, j]),    \n",
    "}\n",
    "\n",
    "lhs2 = lhs2.subs(d).expand()"
   ]
  },
  {
   "cell_type": "code",
   "execution_count": 14,
   "id": "1adbc865-4ab4-4c73-951d-8ce1ce4f5a14",
   "metadata": {
    "tags": []
   },
   "outputs": [
    {
     "data": {
      "text/latex": [
       "$\\displaystyle \\frac{\\E_{3} {\\order[1]{u}} {\\order[2]{u}} {v}_{i}}{2} + \\frac{\\E_{4} {\\order[1]{u}}^{3} {v}_{i}}{6} - \\frac{\\dot{\\E}_2 {\\order[1]{\\lambda}}^{2} {\\order[1]{u}} {w}_{i}}{2} - \\frac{\\dot{\\E}_2 {\\order[1]{\\lambda}}^{2} {v}_{i} {w}_{j} {{\\order[1]{\\xi}}}_{j}}{2} - \\dot{\\E}_2 {\\order[1]{\\lambda}} {\\order[1]{u}} {w}_{i,j} {{\\order[1]{\\xi}}}_{j} + \\frac{\\dot{\\E}_2 {\\order[1]{\\lambda}} {\\order[2]{u}} {v}_{i}}{2} - \\frac{\\dot{\\E}_2 {\\order[1]{\\lambda}} {v}_{i} {w}_{j,k} {{\\order[1]{\\xi}}}_{j} {{\\order[1]{\\xi}}}_{k}}{2} + \\frac{{\\order[1]{\\lambda}}^{2} {\\ddot{E}}_{i,j} {{\\order[1]{\\xi}}}_{j}}{2} + \\frac{{\\order[1]{\\lambda}} {\\dot{E}}_{i,j,k} {{\\order[1]{\\xi}}}_{j} {{\\order[1]{\\xi}}}_{k}}{2} + \\frac{{\\order[2]{\\lambda}} {\\dot{E}}_{i,j} {{\\order[1]{\\xi}}}_{j}}{2}=0$"
      ],
      "text/plain": [
       "<IPython.core.display.Math object>"
      ]
     },
     "metadata": {},
     "output_type": "display_data"
    }
   ],
   "source": [
    "#| code-fold: true\n",
    "display_latex_equation(lhs2, 0)"
   ]
  },
  {
   "cell_type": "markdown",
   "id": "0a007a84-ab05-4fdf-a86c-c050fb307ded",
   "metadata": {},
   "source": [
    "In the remainder of this section, we simplify this equation. To do so, we rely heavily on Eqs. (@eq-20230107180410) and (@eq-20230107180501) as well as the definitions of @sec-20230528173310. We first apply the following simplification"
   ]
  },
  {
   "cell_type": "markdown",
   "id": "1f7459fb-d6a9-4c48-bd2f-09ceaabf8924",
   "metadata": {},
   "source": [
    "$$\n",
    "\\dot{\\E}_2(\\order[2]{u}, v_i) \n",
    "= \\dot{E}_{ij} \\, \\order[2]{\\xi}_j\n",
    "+ \\order[1]{\\xi}_j \\, \\order[1]{\\xi}_k \\, \\dot{\\E}_2(w_{jk}, v_i)\n",
    "+ 2\\order[1]{\\lambda} \\, \\dot{\\E}_2(w_i, \\order[1]{u}).\n",
    "$$"
   ]
  },
  {
   "cell_type": "raw",
   "id": "920fcc58-9156-4aa0-918a-783250e3c2b5",
   "metadata": {},
   "source": [
    "::: {.callout-tip collapse=\"true\"}"
   ]
  },
  {
   "cell_type": "markdown",
   "id": "a4d3e880-c0cd-4bcf-b2bf-32250a972c7d",
   "metadata": {
    "tags": []
   },
   "source": [
    "## Proof"
   ]
  },
  {
   "cell_type": "markdown",
   "id": "6c43fad3-11bd-4f02-a28a-fd629d5f1553",
   "metadata": {},
   "source": [
    "$$\n",
    "\\begin{aligned}[b]\n",
    "\\dot{\\E}_2(\\order[2]{u}, v_i) \n",
    "={}& \\dot{E}_{ij} \\, \\order[2]{\\xi}_j \n",
    "+ \\order[1]{\\xi}_j \\, \\order[1]{\\xi}_k \\, \\dot{\\E}_2(w_{jk}, v_i)\n",
    "+2\\order[1]{\\lambda} \\, \\order[1]{\\xi}_j \\, \\dot{\\E}_2(w_j, v_i)\\\\\n",
    "={}& \\dot{E}_{ij} \\, \\order[2]{\\xi}_j\n",
    "+ \\order[1]{\\xi}_j \\, \\order[1]{\\xi}_k \\, \\dot{\\E}_2(w_{jk}, v_i)\n",
    "- 2\\order[1]{\\lambda} \\, \\order[1]{\\xi}_j \\, \\E_2(w_i, w_j)\\\\\n",
    "={}& \\dot{E}_{ij} \\, \\order[2]{\\xi}_j\n",
    "+ \\order[1]{\\xi}_j \\, \\order[1]{\\xi}_k \\, \\dot{\\E}_2(w_{jk}, v_i)\n",
    "+ 2\\order[1]{\\lambda} \\, \\order[1]{\\xi}_j \\, \\dot{\\E}_2(w_i, v_j)\\\\\n",
    "={}& \\dot{E}_{ij} \\, \\order[2]{\\xi}_j\n",
    "+ \\order[1]{\\xi}_j \\, \\order[1]{\\xi}_k \\, \\dot{\\E}_2(w_{jk}, v_i)\n",
    "+ 2\\order[1]{\\lambda} \\, \\dot{\\E}_2(w_i, \\order[1]{u}).\n",
    "\\end{aligned}\n",
    "$$"
   ]
  },
  {
   "cell_type": "raw",
   "id": "3aefd940-8564-4a93-8da9-1099f438c13e",
   "metadata": {},
   "source": [
    ":::"
   ]
  },
  {
   "cell_type": "code",
   "execution_count": 15,
   "id": "8ae0c945-424e-4815-9192-372facb8071c",
   "metadata": {
    "tags": []
   },
   "outputs": [],
   "source": [
    "expr = (E_dot[i, j] * ξ2[j] + ξ1[j] * ξ1[k] * E2_dot * v[i] * w[j, k]\n",
    "        + 2 * λ1 * E2_dot * u1 * w[i])\n",
    "\n",
    "lhs2 = lhs2.subs(E2_dot * u2 * v[i], expr).expand()"
   ]
  },
  {
   "cell_type": "code",
   "execution_count": 16,
   "id": "ebfdb6c3-db08-4936-a25a-0558205f4d78",
   "metadata": {
    "tags": []
   },
   "outputs": [
    {
     "data": {
      "text/latex": [
       "$\\displaystyle \\frac{\\E_{3} {\\order[1]{u}} {\\order[2]{u}} {v}_{i}}{2} + \\frac{\\E_{4} {\\order[1]{u}}^{3} {v}_{i}}{6} + \\frac{\\dot{\\E}_2 {\\order[1]{\\lambda}}^{2} {\\order[1]{u}} {w}_{i}}{2} - \\frac{\\dot{\\E}_2 {\\order[1]{\\lambda}}^{2} {v}_{i} {w}_{j} {{\\order[1]{\\xi}}}_{j}}{2} - \\dot{\\E}_2 {\\order[1]{\\lambda}} {\\order[1]{u}} {w}_{i,j} {{\\order[1]{\\xi}}}_{j} + \\frac{{\\order[1]{\\lambda}}^{2} {\\ddot{E}}_{i,j} {{\\order[1]{\\xi}}}_{j}}{2} + \\frac{{\\order[1]{\\lambda}} {\\dot{E}}_{i,j,k} {{\\order[1]{\\xi}}}_{j} {{\\order[1]{\\xi}}}_{k}}{2} + \\frac{{\\order[1]{\\lambda}} {\\dot{E}}_{i,j} {{\\order[2]{\\xi}}}_{j}}{2} + \\frac{{\\order[2]{\\lambda}} {\\dot{E}}_{i,j} {{\\order[1]{\\xi}}}_{j}}{2}=0$"
      ],
      "text/plain": [
       "<IPython.core.display.Math object>"
      ]
     },
     "metadata": {},
     "output_type": "display_data"
    }
   ],
   "source": [
    "#| code-fold: true\n",
    "display_latex_equation(lhs2, 0)"
   ]
  },
  {
   "cell_type": "markdown",
   "id": "38e31eec-e8cd-4d9d-a766-4d1a73e1f33b",
   "metadata": {},
   "source": [
    "Then,"
   ]
  },
  {
   "cell_type": "markdown",
   "id": "0ffa64a3-65a3-4015-8580-64657e84af51",
   "metadata": {},
   "source": [
    "$$\n",
    "\\begin{aligned}[b]\n",
    "\\E_3(\\order[1]{u}, \\order[2]{u}, v_i) \n",
    "={} & E_{ijk} \\, \\order[2]{\\xi}_j \\, \\order[1]{\\xi}_k\n",
    "+ \\tfrac{1}{3} \\order[1]{\\xi}_j \\, \\order[1]{\\xi}_k \\, \\order[1]{\\xi}_l \\, E_{ijkl}\\\\\n",
    "& - \\tfrac{1}{3} \\E_4(\\order[1]{u}, \\order[1]{u}, \\order[1]{u}, v_i)\n",
    "+ 2\\order[1]{\\lambda} \\, \\order[1]{\\xi}_j \\, \\dot{\\E}_2(\\order[1]{u}, w_{ij}).\n",
    "\\end{aligned}\n",
    "$$"
   ]
  },
  {
   "cell_type": "raw",
   "id": "83182156-7f16-46c7-9fbd-a877d390de22",
   "metadata": {},
   "source": [
    "::: {.callout-tip collapse=\"true\"}"
   ]
  },
  {
   "cell_type": "markdown",
   "id": "a2817f7f-4f15-437d-890a-7b7735375b96",
   "metadata": {
    "tags": []
   },
   "source": [
    "## Proof"
   ]
  },
  {
   "cell_type": "markdown",
   "id": "fdee64d0-5c05-4359-8874-726b624f38de",
   "metadata": {},
   "source": [
    "$$\n",
    "\\begin{aligned}[b]\n",
    "\\E_3(\\order[1]{u}, \\order[2]{u}, v_i)\n",
    "={} & \\order[2]{\\xi}_j \\, \\order[1]{\\xi}_k \\, \\E_3(v_i, v_j, v_k)\n",
    "+ \\order[1]{\\xi}_j \\, \\order[1]{\\xi}_k \\, \\order[1]{\\xi}_l \\, \\E_3(v_i, v_j, w\n",
    "_{kl})\\\\\n",
    "&+ 2\\order[1]{\\lambda} \\, \\order[2]{\\xi}_j \\, \\order[1]{\\xi}_k \\, \\E_3(v_i, v_j, w_k)\\\\\n",
    "={} & E_{ijk} \\, \\order[2]{\\xi}_j \\, \\order[1]{\\xi}_k\\\\\n",
    "&+ \\tfrac{1}{3}\\order[1]{\\xi}_j \\, \\order[1]{\\xi}_k \\, \\order[1]{\\xi}_l \\, \\bigl[ \\E_3(v_i, v_j, w_{kl}) + \\E_3(v_i, v_k, w_{jl}) + \\E_3(v_i, v_l, w_{jk}) \\bigr]\\\\\n",
    "&- 2\\order[1]{\\lambda} \\, \\order[1]{\\xi}_j \\, \\order[1]{\\xi}_k \\, \\E_2(w_{ij}, w_{k})\\\\\n",
    "={} & E_{ijk} \\, \\order[2]{\\xi}_j \\, \\order[1]{\\xi}_k\n",
    "+ \\tfrac{1}{3}\\order[1]{\\xi}_j \\, \\order[1]{\\xi}_k \\, \\order[1]{\\xi}_l \\, \\bigl[ E_{ijkl} - \\E_4(v_i, v_j, v_k, v_l) \\bigr]\\\\\n",
    "&+ 2\\order[1]{\\lambda} \\, \\order[1]{\\xi}_j \\, \\order[1]{\\xi}_k \\, \\dot{\\E}_2(w_{ij}, v_k)\n",
    "\\end{aligned}\n",
    "$$\n",
    "and the above identity is retrieved."
   ]
  },
  {
   "cell_type": "raw",
   "id": "28932c8a-12f3-4aec-9131-426d1df54cb3",
   "metadata": {},
   "source": [
    ":::"
   ]
  },
  {
   "cell_type": "code",
   "execution_count": 17,
   "id": "4b3c96e4-c665-4076-9259-5773a4df81ab",
   "metadata": {
    "tags": []
   },
   "outputs": [],
   "source": [
    "expr = (E[i, j, k] * ξ2[j] * ξ1[k] \n",
    "        + E[i, j, k, l] * ξ1[j] * ξ1[k] * ξ1[l] / 3 \n",
    "        - E4 * v[i] * u1**3 / 3 \n",
    "        + 2 * λ1 * ξ1[j] * E2_dot * u1 * w[i, j])\n",
    "\n",
    "lhs2 = lhs2.subs(E3 * u1 * u2 * v[i], expr).expand()"
   ]
  },
  {
   "cell_type": "code",
   "execution_count": 18,
   "id": "79283770-0336-4795-80b5-c5c8ed8e519e",
   "metadata": {
    "tags": []
   },
   "outputs": [
    {
     "data": {
      "text/latex": [
       "$\\displaystyle \\frac{\\dot{\\E}_2 {\\order[1]{\\lambda}}^{2} {\\order[1]{u}} {w}_{i}}{2} - \\frac{\\dot{\\E}_2 {\\order[1]{\\lambda}}^{2} {v}_{i} {w}_{j} {{\\order[1]{\\xi}}}_{j}}{2} + \\frac{{\\order[1]{\\lambda}}^{2} {\\ddot{E}}_{i,j} {{\\order[1]{\\xi}}}_{j}}{2} + \\frac{{\\order[1]{\\lambda}} {\\dot{E}}_{i,j,k} {{\\order[1]{\\xi}}}_{j} {{\\order[1]{\\xi}}}_{k}}{2} + \\frac{{\\order[1]{\\lambda}} {\\dot{E}}_{i,j} {{\\order[2]{\\xi}}}_{j}}{2} + \\frac{{\\order[2]{\\lambda}} {\\dot{E}}_{i,j} {{\\order[1]{\\xi}}}_{j}}{2} + \\frac{{E}_{i,j,k,l} {{\\order[1]{\\xi}}}_{j} {{\\order[1]{\\xi}}}_{k} {{\\order[1]{\\xi}}}_{l}}{6} + \\frac{{E}_{i,j,k} {{\\order[1]{\\xi}}}_{k} {{\\order[2]{\\xi}}}_{j}}{2}=0$"
      ],
      "text/plain": [
       "<IPython.core.display.Math object>"
      ]
     },
     "metadata": {},
     "output_type": "display_data"
    }
   ],
   "source": [
    "#| code-fold: true\n",
    "display_latex_equation(lhs2, 0)"
   ]
  },
  {
   "cell_type": "markdown",
   "id": "212beb9d-aa95-445a-8dda-604495f94048",
   "metadata": {},
   "source": [
    "Finally,"
   ]
  },
  {
   "cell_type": "markdown",
   "id": "3f3567dc-b47a-4b8e-8d39-1a50fcac5429",
   "metadata": {},
   "source": [
    "$$\n",
    "\\begin{aligned}\n",
    "\\order[1]{\\xi}_j \\, \\dot{\\E}_2(w_j, v_i)\n",
    "= - \\order[1]{\\xi}_j \\, \\E_2(w_i, w_j)\n",
    "= \\order[1]{\\xi}_j \\, \\dot{\\E}_2(v_j, w_i)\n",
    "= \\dot{\\E}_2(\\order[1]{u}, w_i).\n",
    "\\end{aligned}\n",
    "$$"
   ]
  },
  {
   "cell_type": "code",
   "execution_count": 19,
   "id": "68851d56-8ba0-4e7d-b562-a7db22f0b658",
   "metadata": {
    "tags": []
   },
   "outputs": [],
   "source": [
    "lhs2 = lhs2.subs(ξ1[j] * E2_dot * v[i] * w[j], E2_dot * u1 * w[i])"
   ]
  },
  {
   "cell_type": "code",
   "execution_count": 20,
   "id": "4bca0851-cc44-4163-b4c9-804609ea5aac",
   "metadata": {
    "tags": []
   },
   "outputs": [
    {
     "data": {
      "text/latex": [
       "$\\displaystyle \\frac{{\\order[1]{\\lambda}}^{2} {\\ddot{E}}_{i,j} {{\\order[1]{\\xi}}}_{j}}{2} + \\frac{{\\order[1]{\\lambda}} {\\dot{E}}_{i,j,k} {{\\order[1]{\\xi}}}_{j} {{\\order[1]{\\xi}}}_{k}}{2} + \\frac{{\\order[1]{\\lambda}} {\\dot{E}}_{i,j} {{\\order[2]{\\xi}}}_{j}}{2} + \\frac{{\\order[2]{\\lambda}} {\\dot{E}}_{i,j} {{\\order[1]{\\xi}}}_{j}}{2} + \\frac{{E}_{i,j,k,l} {{\\order[1]{\\xi}}}_{j} {{\\order[1]{\\xi}}}_{k} {{\\order[1]{\\xi}}}_{l}}{6} + \\frac{{E}_{i,j,k} {{\\order[1]{\\xi}}}_{k} {{\\order[2]{\\xi}}}_{j}}{2}=0$"
      ],
      "text/plain": [
       "<IPython.core.display.Math object>"
      ]
     },
     "metadata": {},
     "output_type": "display_data"
    }
   ],
   "source": [
    "#| code-fold: true\n",
    "display_latex_equation(lhs2, 0)"
   ]
  },
  {
   "cell_type": "markdown",
   "id": "c1b240ca-75c1-42de-8b67-7696410a7d95",
   "metadata": {},
   "source": [
    "And the second bifurcation equation (@eq-20230124205642) is retrieved."
   ]
  },
  {
   "cell_type": "code",
   "execution_count": 21,
   "id": "fd58906d-d7ad-4ab5-99f4-9b94ec72947c",
   "metadata": {
    "tags": []
   },
   "outputs": [],
   "source": [
    "#| code-fold: true\n",
    "expected = (E[i, j, k, l] * ξ1[j] * ξ1[k] * ξ1[l] / 3\n",
    "            + λ1 * (E_dot[i, j, k] * ξ1[k] + λ1 * E_ddot[i, j]) * ξ1[j]\n",
    "            + (E[i, j, k] * ξ1[k] + λ1 * E_dot[i, j]) * ξ2[j]\n",
    "            + λ2 * E_dot[i, j] * ξ1[j])\n",
    "\n",
    "assert expand(2 * lhs2 - expected) == 0"
   ]
  }
 ],
 "metadata": {
  "kernelspec": {
   "display_name": "Python 3 (ipykernel)",
   "language": "python",
   "name": "python3"
  },
  "language_info": {
   "codemirror_mode": {
    "name": "ipython",
    "version": 3
   },
   "file_extension": ".py",
   "mimetype": "text/x-python",
   "name": "python",
   "nbconvert_exporter": "python",
   "pygments_lexer": "ipython3",
   "version": "3.9.16"
  },
  "toc-autonumbering": false,
  "toc-showtags": false
 },
 "nbformat": 4,
 "nbformat_minor": 5
}
