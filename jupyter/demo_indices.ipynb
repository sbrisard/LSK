{
 "cells": [
  {
   "cell_type": "code",
   "execution_count": 1,
   "id": "8febf0c8-30b7-45b7-9c8a-caddc0e22ffe",
   "metadata": {},
   "outputs": [],
   "source": [
    "import sympy\n",
    "\n",
    "from sympy.tensor.tensor import TensorIndexType, TensorIndex, TensorHead, tensor_indices\n",
    "from sympy.tensor.toperators import PartialDerivative"
   ]
  },
  {
   "cell_type": "code",
   "execution_count": 2,
   "id": "64459a60-f268-4e97-a7e1-e3f7d0391647",
   "metadata": {},
   "outputs": [],
   "source": [
    "Indices = TensorIndexType(\"Indices\", \"a\")"
   ]
  },
  {
   "cell_type": "code",
   "execution_count": 3,
   "id": "efc7a0e8-1212-4125-8d2f-228e5a04d6f2",
   "metadata": {},
   "outputs": [],
   "source": [
    "v = TensorHead(\"v\", [Indices])\n",
    "ξ = TensorHead(r\"\\xi\", [Indices])"
   ]
  },
  {
   "cell_type": "code",
   "execution_count": 4,
   "id": "41be38bb-e86a-478b-8fde-a8e6bb61f6ec",
   "metadata": {},
   "outputs": [],
   "source": [
    "i, j, k = tensor_indices(\"i j k\", Indices)"
   ]
  },
  {
   "cell_type": "code",
   "execution_count": 5,
   "id": "8591e16b-16ef-4a57-b4a5-11d4792cdb7d",
   "metadata": {},
   "outputs": [],
   "source": [
    "expr = ξ(i) * v(-i)"
   ]
  },
  {
   "cell_type": "code",
   "execution_count": 6,
   "id": "a6a40689-bbf9-4ad3-9279-d00adb778a6e",
   "metadata": {},
   "outputs": [
    {
     "data": {
      "text/latex": [
       "$\\displaystyle \\xi{}^{a_{0}}v{}_{a_{0}}$"
      ],
      "text/plain": [
       "\\xi(a_0)*v(-a_0)"
      ]
     },
     "execution_count": 6,
     "metadata": {},
     "output_type": "execute_result"
    }
   ],
   "source": [
    "expr"
   ]
  },
  {
   "cell_type": "code",
   "execution_count": 7,
   "id": "9c63f154-3189-48e1-979d-c3b3a5eb514b",
   "metadata": {},
   "outputs": [
    {
     "data": {
      "text/latex": [
       "$\\displaystyle \\xi{}^{a_{0}}v{}_{a_{0}}\\xi{}^{a_{1}}v{}_{a_{1}}$"
      ],
      "text/plain": [
       "\\xi(a_0)*v(-a_0)*\\xi(a_1)*v(-a_1)"
      ]
     },
     "execution_count": 7,
     "metadata": {},
     "output_type": "execute_result"
    }
   ],
   "source": [
    "expr * expr"
   ]
  },
  {
   "cell_type": "code",
   "execution_count": 8,
   "id": "c287b793-da9a-47e8-aa42-2d38d77b0546",
   "metadata": {},
   "outputs": [],
   "source": [
    "expr2 = PartialDerivative(expr, ξ(j)).doit()"
   ]
  },
  {
   "cell_type": "code",
   "execution_count": 9,
   "id": "2d68dcc8-ad1c-4586-a8de-9623aeeb5624",
   "metadata": {},
   "outputs": [
    {
     "data": {
      "text/latex": [
       "$\\displaystyle \\frac{\\partial}{\\partial {\\xi{}^{j}}}{\\left(\\xi{}^{a_{0}}v{}_{a_{0}}\\right)}$"
      ],
      "text/plain": [
       "PartialDerivative(\\xi(a_0)*v(-a_0), \\xi(j))"
      ]
     },
     "execution_count": 9,
     "metadata": {},
     "output_type": "execute_result"
    }
   ],
   "source": [
    "expr2"
   ]
  },
  {
   "cell_type": "code",
   "execution_count": 10,
   "id": "8f915e8c-5aef-49cd-bf67-95d0bf20320d",
   "metadata": {},
   "outputs": [
    {
     "data": {
      "text/plain": [
       "[a_0, -a_0, -j]"
      ]
     },
     "execution_count": 10,
     "metadata": {},
     "output_type": "execute_result"
    }
   ],
   "source": [
    "expr2.get_indices()"
   ]
  },
  {
   "cell_type": "code",
   "execution_count": 11,
   "id": "9b679a4a-5f41-4be3-b4fa-59f23251e57c",
   "metadata": {},
   "outputs": [],
   "source": [
    "expr = ξ(i) * ξ(j)"
   ]
  },
  {
   "cell_type": "code",
   "execution_count": 12,
   "id": "0b55490a-663b-40da-8cfd-c7b640a89adb",
   "metadata": {},
   "outputs": [
    {
     "data": {
      "text/plain": [
       "[i, j]"
      ]
     },
     "execution_count": 12,
     "metadata": {},
     "output_type": "execute_result"
    }
   ],
   "source": [
    "expr.get_free_indices()"
   ]
  },
  {
   "cell_type": "code",
   "execution_count": 13,
   "id": "117509bd-2f57-49a1-9091-9fbd5bb7fd01",
   "metadata": {},
   "outputs": [
    {
     "ename": "TypeError",
     "evalue": "unsupported operand type(s) for *: 'TensorHead' and 'TensorHead'",
     "output_type": "error",
     "traceback": [
      "\u001b[1;31m---------------------------------------------------------------------------\u001b[0m",
      "\u001b[1;31mTypeError\u001b[0m                                 Traceback (most recent call last)",
      "Cell \u001b[1;32mIn [13], line 1\u001b[0m\n\u001b[1;32m----> 1\u001b[0m expr \u001b[38;5;241m=\u001b[39m \u001b[43mξ\u001b[49m\u001b[43m \u001b[49m\u001b[38;5;241;43m*\u001b[39;49m\u001b[43m \u001b[49m\u001b[43mξ\u001b[49m\n",
      "\u001b[1;31mTypeError\u001b[0m: unsupported operand type(s) for *: 'TensorHead' and 'TensorHead'"
     ]
    }
   ],
   "source": [
    "expr = ξ * ξ"
   ]
  },
  {
   "cell_type": "code",
   "execution_count": 14,
   "id": "7ed693d2-82a2-4c78-96a6-1b1a86ab3035",
   "metadata": {},
   "outputs": [
    {
     "name": "stderr",
     "output_type": "stream",
     "text": [
      "C:\\Users\\sbrisard\\AppData\\Local\\Temp\\ipykernel_9812\\1341611472.py:1: SymPyDeprecationWarning: \n",
      "\n",
      "Calling a tensor like Tensor(*indices) is deprecated. Use\n",
      "Tensor.substitute_indices() instead.\n",
      "\n",
      "See https://docs.sympy.org/latest/explanation/active-deprecations.html#deprecated-tensor-fun-eval\n",
      "for details.\n",
      "\n",
      "This has been deprecated since SymPy version 1.5. It\n",
      "will be removed in a future version of SymPy.\n",
      "\n",
      "  expr(i, j)\n"
     ]
    },
    {
     "data": {
      "text/latex": [
       "$\\displaystyle \\xi{}^{i}\\xi{}^{j}$"
      ],
      "text/plain": [
       "\\xi(i)*\\xi(j)"
      ]
     },
     "execution_count": 14,
     "metadata": {},
     "output_type": "execute_result"
    }
   ],
   "source": [
    "expr(i, j)"
   ]
  },
  {
   "cell_type": "code",
   "execution_count": 17,
   "id": "72b891ec-5d71-49a6-9f2f-e99d8dda5b1c",
   "metadata": {},
   "outputs": [
    {
     "ename": "ValueError",
     "evalue": "Repeated index: j",
     "output_type": "error",
     "traceback": [
      "\u001b[1;31m---------------------------------------------------------------------------\u001b[0m",
      "\u001b[1;31mValueError\u001b[0m                                Traceback (most recent call last)",
      "Cell \u001b[1;32mIn [17], line 1\u001b[0m\n\u001b[1;32m----> 1\u001b[0m \u001b[43mexpr\u001b[49m\u001b[38;5;241;43m.\u001b[39;49m\u001b[43msubstitute_indices\u001b[49m\u001b[43m(\u001b[49m\u001b[43m(\u001b[49m\u001b[43mi\u001b[49m\u001b[43m,\u001b[49m\u001b[43m \u001b[49m\u001b[43mj\u001b[49m\u001b[43m)\u001b[49m\u001b[43m)\u001b[49m\n",
      "File \u001b[1;32m~\\miniconda3\\lib\\site-packages\\sympy\\tensor\\tensor.py:3938\u001b[0m, in \u001b[0;36mTensMul.substitute_indices\u001b[1;34m(self, *index_tuples)\u001b[0m\n\u001b[0;32m   3936\u001b[0m         arg \u001b[38;5;241m=\u001b[39m arg\u001b[38;5;241m.\u001b[39msubstitute_indices(\u001b[38;5;241m*\u001b[39mindex_tuples)\n\u001b[0;32m   3937\u001b[0m     new_args\u001b[38;5;241m.\u001b[39mappend(arg)\n\u001b[1;32m-> 3938\u001b[0m \u001b[38;5;28;01mreturn\u001b[39;00m \u001b[43mTensMul\u001b[49m\u001b[43m(\u001b[49m\u001b[38;5;241;43m*\u001b[39;49m\u001b[43mnew_args\u001b[49m\u001b[43m)\u001b[49m\u001b[38;5;241m.\u001b[39mdoit()\n",
      "File \u001b[1;32m~\\miniconda3\\lib\\site-packages\\sympy\\tensor\\tensor.py:3259\u001b[0m, in \u001b[0;36mTensMul.__new__\u001b[1;34m(cls, *args, **kw_args)\u001b[0m\n\u001b[0;32m   3256\u001b[0m \u001b[38;5;66;03m# Flatten:\u001b[39;00m\n\u001b[0;32m   3257\u001b[0m args \u001b[38;5;241m=\u001b[39m [i \u001b[38;5;28;01mfor\u001b[39;00m arg \u001b[38;5;129;01min\u001b[39;00m args \u001b[38;5;28;01mfor\u001b[39;00m i \u001b[38;5;129;01min\u001b[39;00m (arg\u001b[38;5;241m.\u001b[39margs \u001b[38;5;28;01mif\u001b[39;00m \u001b[38;5;28misinstance\u001b[39m(arg, (TensMul, Mul)) \u001b[38;5;28;01melse\u001b[39;00m [arg])]\n\u001b[1;32m-> 3259\u001b[0m args, indices, free, dum \u001b[38;5;241m=\u001b[39m \u001b[43mTensMul\u001b[49m\u001b[38;5;241;43m.\u001b[39;49m\u001b[43m_tensMul_contract_indices\u001b[49m\u001b[43m(\u001b[49m\u001b[43margs\u001b[49m\u001b[43m,\u001b[49m\u001b[43m \u001b[49m\u001b[43mreplace_indices\u001b[49m\u001b[38;5;241;43m=\u001b[39;49m\u001b[38;5;28;43;01mFalse\u001b[39;49;00m\u001b[43m)\u001b[49m\n\u001b[0;32m   3261\u001b[0m \u001b[38;5;66;03m# Data for indices:\u001b[39;00m\n\u001b[0;32m   3262\u001b[0m index_types \u001b[38;5;241m=\u001b[39m [i\u001b[38;5;241m.\u001b[39mtensor_index_type \u001b[38;5;28;01mfor\u001b[39;00m i \u001b[38;5;129;01min\u001b[39;00m indices]\n",
      "File \u001b[1;32m~\\miniconda3\\lib\\site-packages\\sympy\\tensor\\tensor.py:3343\u001b[0m, in \u001b[0;36mTensMul._tensMul_contract_indices\u001b[1;34m(args, replace_indices)\u001b[0m\n\u001b[0;32m   3340\u001b[0m \u001b[38;5;66;03m#_index_order = all(_has_index_order(arg) for arg in args)\u001b[39;00m\n\u001b[0;32m   3342\u001b[0m args_indices \u001b[38;5;241m=\u001b[39m [get_indices(arg) \u001b[38;5;28;01mfor\u001b[39;00m arg \u001b[38;5;129;01min\u001b[39;00m args]\n\u001b[1;32m-> 3343\u001b[0m indices, free, free_names, dummy_data \u001b[38;5;241m=\u001b[39m \u001b[43mTensMul\u001b[49m\u001b[38;5;241;43m.\u001b[39;49m\u001b[43m_indices_to_free_dum\u001b[49m\u001b[43m(\u001b[49m\u001b[43margs_indices\u001b[49m\u001b[43m)\u001b[49m\n\u001b[0;32m   3345\u001b[0m cdt \u001b[38;5;241m=\u001b[39m defaultdict(\u001b[38;5;28mint\u001b[39m)\n\u001b[0;32m   3347\u001b[0m \u001b[38;5;28;01mdef\u001b[39;00m \u001b[38;5;21mdummy_name_gen\u001b[39m(tensor_index_type):\n",
      "File \u001b[1;32m~\\miniconda3\\lib\\site-packages\\sympy\\tensor\\tensor.py:3319\u001b[0m, in \u001b[0;36mTensMul._indices_to_free_dum\u001b[1;34m(args_indices)\u001b[0m\n\u001b[0;32m   3317\u001b[0m     indices\u001b[38;5;241m.\u001b[39mappend(index)\n\u001b[0;32m   3318\u001b[0m \u001b[38;5;28;01melif\u001b[39;00m index \u001b[38;5;129;01min\u001b[39;00m free2pos1:\n\u001b[1;32m-> 3319\u001b[0m     \u001b[38;5;28;01mraise\u001b[39;00m \u001b[38;5;167;01mValueError\u001b[39;00m(\u001b[38;5;124m\"\u001b[39m\u001b[38;5;124mRepeated index: \u001b[39m\u001b[38;5;132;01m%s\u001b[39;00m\u001b[38;5;124m\"\u001b[39m \u001b[38;5;241m%\u001b[39m index)\n\u001b[0;32m   3320\u001b[0m \u001b[38;5;28;01melse\u001b[39;00m:\n\u001b[0;32m   3321\u001b[0m     free2pos1[index] \u001b[38;5;241m=\u001b[39m pos1\n",
      "\u001b[1;31mValueError\u001b[0m: Repeated index: j"
     ]
    }
   ],
   "source": [
    "expr.substitute_indices((i, j))"
   ]
  },
  {
   "cell_type": "code",
   "execution_count": null,
   "id": "ea4d3857-e7a1-4f1a-a3da-50af75bba3ff",
   "metadata": {},
   "outputs": [],
   "source": []
  }
 ],
 "metadata": {
  "kernelspec": {
   "display_name": "Python 3 (ipykernel)",
   "language": "python",
   "name": "python3"
  },
  "language_info": {
   "codemirror_mode": {
    "name": "ipython",
    "version": 3
   },
   "file_extension": ".py",
   "mimetype": "text/x-python",
   "name": "python",
   "nbconvert_exporter": "python",
   "pygments_lexer": "ipython3",
   "version": "3.8.13"
  }
 },
 "nbformat": 4,
 "nbformat_minor": 5
}
