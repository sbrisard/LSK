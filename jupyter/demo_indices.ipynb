{
 "cells": [
  {
   "cell_type": "code",
   "execution_count": 1,
   "id": "8febf0c8-30b7-45b7-9c8a-caddc0e22ffe",
   "metadata": {},
   "outputs": [],
   "source": [
    "import sympy"
   ]
  },
  {
   "cell_type": "code",
   "execution_count": 2,
   "id": "ea4d3857-e7a1-4f1a-a3da-50af75bba3ff",
   "metadata": {},
   "outputs": [],
   "source": [
    "i, j, m = sympy.symbols(\"i j m\")\n",
    "ξ = sympy.Function(r\"\\xi\")\n",
    "v = sympy.Function(\"v\")"
   ]
  },
  {
   "cell_type": "code",
   "execution_count": 3,
   "id": "eafa89e1-a786-4aea-b717-9de324da89a9",
   "metadata": {},
   "outputs": [],
   "source": [
    "a = sympy.summation(ξ(i) * v(i), (i, 1, m))"
   ]
  },
  {
   "cell_type": "code",
   "execution_count": 4,
   "id": "a3455c2a-4bc5-4757-898a-0345583b0295",
   "metadata": {},
   "outputs": [
    {
     "data": {
      "text/latex": [
       "$\\displaystyle \\sum_{i=1}^{m} \\xi{\\left(i \\right)} v{\\left(i \\right)}$"
      ],
      "text/plain": [
       "Sum(\\xi(i)*v(i), (i, 1, m))"
      ]
     },
     "execution_count": 4,
     "metadata": {},
     "output_type": "execute_result"
    }
   ],
   "source": [
    "a"
   ]
  },
  {
   "cell_type": "code",
   "execution_count": 10,
   "id": "39721a57-57ad-4cc0-8c8c-94321a29dcb3",
   "metadata": {},
   "outputs": [
    {
     "data": {
      "text/latex": [
       "$\\displaystyle \\left(\\sum_{i=1}^{m} \\xi{\\left(i \\right)} v{\\left(i \\right)}\\right)^{2}$"
      ],
      "text/plain": [
       "Sum(\\xi(i)*v(i), (i, 1, m))**2"
      ]
     },
     "execution_count": 10,
     "metadata": {},
     "output_type": "execute_result"
    }
   ],
   "source": [
    "sympy.expand(a**2).doit()"
   ]
  },
  {
   "cell_type": "code",
   "execution_count": 11,
   "id": "84edbdc5-874b-45b7-b0ba-29f0ca211bfe",
   "metadata": {},
   "outputs": [
    {
     "data": {
      "text/latex": [
       "$\\displaystyle \\left(\\sum_{i=1}^{m} \\xi{\\left(i \\right)} v{\\left(i \\right)}\\right)^{2}$"
      ],
      "text/plain": [
       "Sum(\\xi(i)*v(i), (i, 1, m))**2"
      ]
     },
     "execution_count": 11,
     "metadata": {},
     "output_type": "execute_result"
    }
   ],
   "source": [
    "sympy.expand(a * a)"
   ]
  },
  {
   "cell_type": "code",
   "execution_count": null,
   "id": "8a92bc93-34fc-4d8d-a563-648bedbf60a7",
   "metadata": {},
   "outputs": [],
   "source": []
  }
 ],
 "metadata": {
  "kernelspec": {
   "display_name": "Python 3 (ipykernel)",
   "language": "python",
   "name": "python3"
  },
  "language_info": {
   "codemirror_mode": {
    "name": "ipython",
    "version": 3
   },
   "file_extension": ".py",
   "mimetype": "text/x-python",
   "name": "python",
   "nbconvert_exporter": "python",
   "pygments_lexer": "ipython3",
   "version": "3.9.15"
  }
 },
 "nbformat": 4,
 "nbformat_minor": 5
}
