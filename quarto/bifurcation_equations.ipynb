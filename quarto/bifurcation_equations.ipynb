{
 "cells": [
  {
   "cell_type": "markdown",
   "id": "80f2c8c2-295e-4194-a81a-27a3adfbb4f7",
   "metadata": {
    "tags": []
   },
   "source": [
    "# Bifurcation equations {#sec-20230102153124}"
   ]
  },
  {
   "cell_type": "markdown",
   "id": "8cb9627a-0521-44e1-b0c4-cb2e90e408f4",
   "metadata": {},
   "source": [
    "This notebook uses $\\LaTeX\\newcommand{\\D}{\\mathrm{d}}\\newcommand{\\E}{\\mathcal{E}}\\newcommand{\\reals}{\\mathbb{R}}$ custom macros."
   ]
  },
  {
   "cell_type": "markdown",
   "id": "6c755e9c-24e0-437a-8b51-8b2d97bd91ce",
   "metadata": {},
   "source": [
    "In this chapter, the bifurcation analysis of the perfect system is performed symbolically. The starting point is the symbolic expression of the energy $(u, \\lambda) \\mapsto \\E(u, \\lambda)$ that was derived in @sec-20230208081549."
   ]
  },
  {
   "cell_type": "markdown",
   "id": "62ad2dfb-1006-4f94-a4a1-2c61a719a6d7",
   "metadata": {},
   "source": [
    "To begin with, we perform the relevant initializations and retrieve the expression of the energy."
   ]
  },
  {
   "cell_type": "code",
   "execution_count": 1,
   "id": "0c4aa7ee-185d-46b8-af94-d18604b761aa",
   "metadata": {},
   "outputs": [],
   "source": [
    "import itertools\n",
    "\n",
    "from lsk import *\n",
    "from sympy import *"
   ]
  },
  {
   "cell_type": "code",
   "execution_count": 2,
   "id": "9d0026fc-3d66-4623-b110-daddc24381a4",
   "metadata": {},
   "outputs": [],
   "source": [
    "VERBOSE = False\n",
    "\n",
    "E2, E2_dot, E3 = symbols(r\"\\E_2 \\dot{\\E}_2 \\E_3\")\n",
    "E_ij_dot, E_ijk = symbols(r\"\\dot{E}_{ij} E_{ijk}\")\n",
    "\n",
    "t, λ = symbols(r\"t \\lambda\")\n",
    "u, u_hat, w_hat = symbols(r\"u \\hat{u} \\hat{w}\")"
   ]
  },
  {
   "cell_type": "code",
   "execution_count": 3,
   "id": "1f61d116-2bd1-4f72-aeb8-cab168fe317e",
   "metadata": {},
   "outputs": [],
   "source": [
    "v = IndexedBase(\"v\")\n",
    "w = IndexedBase(\"w\")\n",
    "ξ = IndexedBase(r\"\\xi\")"
   ]
  },
  {
   "cell_type": "code",
   "execution_count": 4,
   "id": "3ccfb49a-12ee-4a9c-af45-02dc8ca56a26",
   "metadata": {},
   "outputs": [],
   "source": [
    "i = Idx(\"i\")\n",
    "j = Idx(\"j\")\n",
    "k = Idx(\"k\")"
   ]
  },
  {
   "cell_type": "code",
   "execution_count": 5,
   "id": "3ae7695e-4107-45e1-93c0-cf968d260060",
   "metadata": {},
   "outputs": [],
   "source": [
    "__index_number = itertools.count()\n",
    "\n",
    "def new_index():\n",
    "    return Idx(r\"i_{\" + str(next(__index_number)) + \"}\")\n",
    "    #return Symbol(r\"i_{\" + str(next(__index_number)) + \"}\")"
   ]
  },
  {
   "cell_type": "code",
   "execution_count": 6,
   "id": "a746c5f0-f5f7-4d9a-ada3-dd851d190b08",
   "metadata": {},
   "outputs": [],
   "source": [
    "u_star = create_u_star()\n",
    "E = create_E().expand()"
   ]
  },
  {
   "cell_type": "code",
   "execution_count": 7,
   "id": "caf1fde4-c198-4630-8721-afe95fcc7ffe",
   "metadata": {},
   "outputs": [
    {
     "data": {
      "text/latex": [
       "$\\displaystyle u^\\star(\\lambda)=\\frac{\\ddddot{u}_0 \\lambda^{4}}{24} + \\frac{\\dddot{u}_0 \\lambda^{3}}{6} + \\frac{\\ddot{u}_0 \\lambda^{2}}{2} + \\dot{u}_0 \\lambda$"
      ],
      "text/plain": [
       "<IPython.core.display.Math object>"
      ]
     },
     "metadata": {},
     "output_type": "display_data"
    },
    {
     "data": {
      "text/latex": [
       "$\\displaystyle \\E(u, \\lambda)=- \\frac{\\E_{2} \\dddot{u}_0 \\lambda^{3} u}{6} - \\frac{\\E_{2} \\ddot{u}_0 \\lambda^{2} u}{2} - \\E_{2} \\dot{u}_0 \\lambda u + \\frac{\\E_{2} u^{2}}{2} + \\frac{\\E_{3} \\ddot{u}_0 \\dot{u}_0 \\lambda^{3} u}{2} - \\frac{\\E_{3} \\ddot{u}_0 \\lambda^{2} u^{2}}{4} + \\frac{\\E_{3} \\dot{u}_0^{2} \\lambda^{2} u}{2} - \\frac{\\E_{3} \\dot{u}_0 \\lambda u^{2}}{2} + \\frac{\\E_{3} u^{3}}{6} - \\frac{\\E_{4} \\dot{u}_0^{3} \\lambda^{3} u}{6} + \\frac{\\E_{4} \\dot{u}_0^{2} \\lambda^{2} u^{2}}{4} - \\frac{\\E_{4} \\dot{u}_0 \\lambda u^{3}}{6} + \\frac{\\E_{4} u^{4}}{24} + \\frac{\\E_{\\lambda\\lambda\\lambda\\lambda} \\lambda^{4}}{24} + \\frac{\\E_{\\lambda\\lambda\\lambda} \\lambda^{3}}{6} + \\frac{\\E_{\\lambda\\lambda} \\lambda^{2}}{2} + \\E_{\\lambda} \\lambda - \\frac{\\ddot{\\E}_2 \\dot{u}_0 \\lambda^{3} u}{2} + \\frac{\\ddot{\\E}_2 \\lambda^{2} u^{2}}{4} - \\frac{\\ddot{u}_0 \\dot{\\E}_2 \\lambda^{3} u}{2} - \\dot{\\E}_2 \\dot{u}_0 \\lambda^{2} u + \\frac{\\dot{\\E}_2 \\lambda u^{2}}{2} + \\frac{\\dot{\\E}_3 \\dot{u}_0^{2} \\lambda^{3} u}{2} - \\frac{\\dot{\\E}_3 \\dot{u}_0 \\lambda^{2} u^{2}}{2} + \\frac{\\dot{\\E}_3 \\lambda u^{3}}{6}$"
      ],
      "text/plain": [
       "<IPython.core.display.Math object>"
      ]
     },
     "metadata": {},
     "output_type": "display_data"
    }
   ],
   "source": [
    "#| code-fold: true\n",
    "display_latex_equation(r\"u^\\star(\\lambda)\", u_star)\n",
    "display_latex_equation(r\"\\E(u, \\lambda)\", E)"
   ]
  },
  {
   "cell_type": "markdown",
   "id": "f382cfbb-6e4a-4fb8-b2b5-5d384f60e060",
   "metadata": {},
   "source": [
    "## Outline of the strategy"
   ]
  },
  {
   "cell_type": "markdown",
   "id": "ff0d4b51-491a-486a-8ab9-5c133ecb1f9f",
   "metadata": {},
   "source": [
    "In this section, we show that, besides the fundamental branch $u^\\ast(\\lambda)$, other (bifurcated) equilibrium branches may pass through the critical point $(u_0, \\lambda_0)$. The starting point is the characterization of an equilibrium by the stationarity of the energy, which defines all equilibrium branches as implicit functions, which can be expanded with respect to some perturbation parameter."
   ]
  },
  {
   "cell_type": "markdown",
   "id": "dbab2d0c-472a-49ab-8ffa-d660996e9dbf",
   "metadata": {},
   "source": [
    "The approach adopted here relies on the Lyapunov–Schmidt decomposition (see below). Note that other approaches are possible, see e.g. @chak2018."
   ]
  },
  {
   "cell_type": "markdown",
   "id": "0e118269-d4a8-48e5-af66-bd2495cd6128",
   "metadata": {},
   "source": [
    "For a given value of $\\lambda$ (close to the critical value $\\lambda_0$), we seek an equilibrium point $u$ of the\n",
    "system, such that\n",
    "\n",
    "$$\n",
    "\\E_{,u}(u, \\lambda; \\hat{u}) = 0 \\quad \\text{for all} \\quad \\hat{u} \\in U.\n",
    "$$ {#eq-20230102025737}"
   ]
  },
  {
   "cell_type": "code",
   "execution_count": 8,
   "id": "5d157a60-3d5b-4fb7-987c-97e8015c6766",
   "metadata": {},
   "outputs": [
    {
     "data": {
      "text/latex": [
       "$\\displaystyle - \\frac{\\E_{2} \\dddot{u}_0 \\hat{u} \\lambda^{3}}{6} - \\frac{\\E_{2} \\ddot{u}_0 \\hat{u} \\lambda^{2}}{2} - \\E_{2} \\dot{u}_0 \\hat{u} \\lambda + \\E_{2} \\hat{u} u + \\frac{\\E_{3} \\ddot{u}_0 \\dot{u}_0 \\hat{u} \\lambda^{3}}{2} - \\frac{\\E_{3} \\ddot{u}_0 \\hat{u} \\lambda^{2} u}{2} + \\frac{\\E_{3} \\dot{u}_0^{2} \\hat{u} \\lambda^{2}}{2} - \\E_{3} \\dot{u}_0 \\hat{u} \\lambda u + \\frac{\\E_{3} \\hat{u} u^{2}}{2} - \\frac{\\E_{4} \\dot{u}_0^{3} \\hat{u} \\lambda^{3}}{6} + \\frac{\\E_{4} \\dot{u}_0^{2} \\hat{u} \\lambda^{2} u}{2} - \\frac{\\E_{4} \\dot{u}_0 \\hat{u} \\lambda u^{2}}{2} + \\frac{\\E_{4} \\hat{u} u^{3}}{6} - \\frac{\\ddot{\\E}_2 \\dot{u}_0 \\hat{u} \\lambda^{3}}{2} + \\frac{\\ddot{\\E}_2 \\hat{u} \\lambda^{2} u}{2} - \\frac{\\ddot{u}_0 \\dot{\\E}_2 \\hat{u} \\lambda^{3}}{2} - \\dot{\\E}_2 \\dot{u}_0 \\hat{u} \\lambda^{2} + \\dot{\\E}_2 \\hat{u} \\lambda u + \\frac{\\dot{\\E}_3 \\dot{u}_0^{2} \\hat{u} \\lambda^{3}}{2} - \\dot{\\E}_3 \\dot{u}_0 \\hat{u} \\lambda^{2} u + \\frac{\\dot{\\E}_3 \\hat{u} \\lambda u^{2}}{2} = 0$"
      ],
      "text/plain": [
       "Eq(-\\E_2*\\dddot{u}_0*\\hat{u}*\\lambda**3/6 - \\E_2*\\ddot{u}_0*\\hat{u}*\\lambda**2/2 - \\E_2*\\dot{u}_0*\\hat{u}*\\lambda + \\E_2*\\hat{u}*u + \\E_3*\\ddot{u}_0*\\dot{u}_0*\\hat{u}*\\lambda**3/2 - \\E_3*\\ddot{u}_0*\\hat{u}*\\lambda**2*u/2 + \\E_3*\\dot{u}_0**2*\\hat{u}*\\lambda**2/2 - \\E_3*\\dot{u}_0*\\hat{u}*\\lambda*u + \\E_3*\\hat{u}*u**2/2 - \\E_4*\\dot{u}_0**3*\\hat{u}*\\lambda**3/6 + \\E_4*\\dot{u}_0**2*\\hat{u}*\\lambda**2*u/2 - \\E_4*\\dot{u}_0*\\hat{u}*\\lambda*u**2/2 + \\E_4*\\hat{u}*u**3/6 - \\ddot{\\E}_2*\\dot{u}_0*\\hat{u}*\\lambda**3/2 + \\ddot{\\E}_2*\\hat{u}*\\lambda**2*u/2 - \\ddot{u}_0*\\dot{\\E}_2*\\hat{u}*\\lambda**3/2 - \\dot{\\E}_2*\\dot{u}_0*\\hat{u}*\\lambda**2 + \\dot{\\E}_2*\\hat{u}*\\lambda*u + \\dot{\\E}_3*\\dot{u}_0**2*\\hat{u}*\\lambda**3/2 - \\dot{\\E}_3*\\dot{u}_0*\\hat{u}*\\lambda**2*u + \\dot{\\E}_3*\\hat{u}*\\lambda*u**2/2, 0)"
      ]
     },
     "execution_count": 8,
     "metadata": {},
     "output_type": "execute_result"
    }
   ],
   "source": [
    "res = (create_E_u() * u_hat).expand()\n",
    "Eq(res, 0)"
   ]
  },
  {
   "cell_type": "markdown",
   "id": "69db1968-1142-42b6-8c7b-2a99fa467f5e",
   "metadata": {},
   "source": [
    "for all $\\hat{u} \\in U$."
   ]
  },
  {
   "cell_type": "markdown",
   "id": "01d308b0-b343-4474-aa2b-7ab6d31491a8",
   "metadata": {},
   "source": [
    "The equilibrium state $u$ is projected onto the orthogonal subspaces $V$ and $W$.\n",
    "$$\n",
    "u = u^\\ast(\\lambda) + \\xi_i \\, v_i + w, \\quad \\text{with} \\quad w \\in W.\n",
    "$$ {#eq-20220902174235}"
   ]
  },
  {
   "cell_type": "markdown",
   "id": "b38fa1a8-a75a-4f35-8a13-dddb3a8f2676",
   "metadata": {},
   "source": [
    "It follows from the orthogonality of $V$ and $W$ that $\\langle v_i, w \\rangle = 0$ for all $i=1, \\ldots, m$. Analysis of the bifurcated branches therefore reduces to finding $\\xi_1, \\ldots, \\xi_m \\in \\reals$ and $w \\in W$, such that\n",
    "$$\n",
    "\\E_{,u}[u^\\ast(\\lambda) + \\xi_i \\, v_i + w, \\lambda; \\hat{u}] = 0 \\quad \\text{for all} \\quad \\hat{u} \\in U.\n",
    "$$ {#eq-20230107164346}"
   ]
  },
  {
   "cell_type": "markdown",
   "id": "39ffed7d-0756-4078-bdb6-0364246f5811",
   "metadata": {},
   "source": [
    "The method proceeds in three steps\n",
    "\n",
    "1. Eq. (@eq-20230107164346) is first expressed for $\\hat{u} \\in W$ which leads to a definition of $w$ as an implicit function of $\\xi_1, \\ldots, \\xi_m$ and $\\lambda$ (see @sec-20230102030010),\n",
    "2. Eq. (@eq-20230107164346) is then expressed for $\\hat{u} \\in V$ which leads to a definition of $\\lambda$ as an implicit function of $\\xi_1, \\ldots, \\xi_m$ (see @sec-20230102030125),\n",
    "3. finally, a parametrization $\\eta$ of $\\xi_1, \\ldots, \\xi_m$ is introduced and the Taylor expansion of $u$ and $\\lambda$ with respect to $\\eta$ is derived (see @sec-20230102030224)."
   ]
  },
  {
   "cell_type": "markdown",
   "id": "c1a71bee-0226-44ae-a860-e87f0ac012f0",
   "metadata": {},
   "source": [
    "## Elimination of $w$ {#sec-20230102030010}"
   ]
  },
  {
   "cell_type": "markdown",
   "id": "beb5ae1e-e794-4de8-8b54-0b774c4c818f",
   "metadata": {},
   "source": [
    "We first test Eq. (@eq-20230102025737) with $\\hat{w} \\in W$\n",
    "$$\n",
    "\\E_{,u}[u^\\ast(\\lambda) + \\xi_i \\, v_i + w, \\lambda; \\hat{w}] = 0, \\quad \\text{for all} \\quad \\hat{w} \\in W.\n",
    "$$ {#eq-20220825143616}"
   ]
  },
  {
   "cell_type": "markdown",
   "id": "b70f0325-04d5-4506-84d2-53c8da64386c",
   "metadata": {},
   "source": [
    "This defines $w$ as an implicit function of $\\xi_1, \\ldots, \\xi_m$ and $\\lambda$. The following asymptotic expansion about $\\xi_1 = \\cdots = \\xi_m = 0$ and $\\lambda = \\lambda_0$ is postulated\n",
    "$$\n",
    "\\begin{aligned}\n",
    "w(\\xi_1, \\ldots, \\xi_m, \\lambda) ={} & \\xi_i \\, w_i + \\bigl( \\lambda - \\lambda_0 \\bigr) \\, w_\\lambda + \\tfrac{1}{2} \\xi_i \\, \\xi_j \\, w_{ij}\\\\\n",
    "&+ \\tfrac{1}{2} \\bigl( \\lambda - \\lambda_0 \\bigr)^2 w_{\\lambda\\lambda} + \\xi_i \\, \\bigl( \\lambda - \\lambda_0 \\bigr) w_{i\\lambda} + \\cdots,\n",
    "\\end{aligned}\n",
    "$$ {#eq-20230107172048}\n",
    "where $w_i$, $w_\\lambda$, $w_{ij}$, $w_{\\lambda\\lambda}$ and $w_{i\\lambda}$ are elements of $W$ to be defined."
   ]
  },
  {
   "cell_type": "markdown",
   "id": "25cfcd4d-3732-440f-a8dd-ee773f615add",
   "metadata": {},
   "source": [
    "In what follows, Eq. (@eq-20230107172048) is plugged into Eq. (@eq-20220825143616), which then delivers an asymptotic expansion of the stationarity equation. We will nullify the terms of order up to 2 in $\\xi_i$ and $\\lambda$."
   ]
  },
  {
   "cell_type": "markdown",
   "id": "07aa22dd-0c28-41fd-b2a1-1e8b39adc0d0",
   "metadata": {},
   "source": [
    "It is observed that the residual $\\E_{,u}$ involves $\\E_3(u, u, \\hat{u})$ and $\\E_4(u, u, u, \\hat{u})$. Since all terms of $u$ are of order 1 or more in $\\xi_i$ and $\\lambda$, $\\E_4(u, u, u, \\hat{u})$ will not be considered below. However $\\E_3(u, u, \\hat{u})$ will need to be properly defined index-wise. Therefore, we need to defined two equivalent expressions of $u$ with two different set of indices."
   ]
  },
  {
   "cell_type": "code",
   "execution_count": 9,
   "id": "55c84f37-434e-43c0-a832-87aa0fd33f09",
   "metadata": {},
   "outputs": [],
   "source": [
    "def _λ():\n",
    "    return Symbol(r\"\\lambda\")\n",
    "\n",
    "def _w():\n",
    "    i = new_index()\n",
    "    j = new_index()\n",
    "    k = new_index()\n",
    "    l = new_index()\n",
    "    λ_ = Idx(r\"\\lambda\")\n",
    "    return (t * ξ[i] * w[i] + _λ() * w[λ_] \n",
    "            + (t**2 * ξ[j] * ξ[k] * w[j, k]\n",
    "               + 2 * _λ() * t * ξ[l] * w[l, λ_]\n",
    "               + _λ() * _λ() * w[λ_, λ_]) / 2)\n",
    "    \n",
    "def _u():\n",
    "    i = new_index()\n",
    "    return (create_u_star(_λ) + t * ξ[i] * v[i] + _w())"
   ]
  },
  {
   "cell_type": "code",
   "execution_count": 10,
   "id": "469e1620-8f7c-45a0-a5ed-c2fcc5d58862",
   "metadata": {},
   "outputs": [],
   "source": [
    "res_w = expand(create_E_u(u_fun=_u) * w_hat)"
   ]
  },
  {
   "cell_type": "markdown",
   "id": "6f550b36-5628-49fe-b24d-f4a2e8bc9e13",
   "metadata": {},
   "source": [
    "We can then nullify the various coefficients of this polynomial expansion, starting with the terms of order 1 in $\\xi_i$, which delivers the following variational problem"
   ]
  },
  {
   "cell_type": "code",
   "execution_count": 11,
   "id": "f1a788ed-6bd6-417f-aa7c-564f6e249bf8",
   "metadata": {},
   "outputs": [
    {
     "data": {
      "text/latex": [
       "$\\displaystyle \\E_{2} \\hat{w} {\\xi}_{i_{0}} {v}_{i_{0}} + \\E_{2} \\hat{w} {\\xi}_{i_{1}} {w}_{i_{1}} = 0$"
      ],
      "text/plain": [
       "Eq(\\E_2*\\hat{w}*\\xi[i_{0}]*v[i_{0}] + \\E_2*\\hat{w}*\\xi[i_{1}]*w[i_{1}], 0)"
      ]
     },
     "execution_count": 11,
     "metadata": {},
     "output_type": "execute_result"
    }
   ],
   "source": [
    "Eq(res_w.coeff(t, 1).subs(λ, 0), 0)"
   ]
  },
  {
   "cell_type": "markdown",
   "id": "e40bafda-f5da-406d-b86c-788c5a5abbaa",
   "metadata": {},
   "source": [
    "for all $\\hat{w} \\in W$. Since $v_i \\in V$, we have: $\\E_2(v_i, \\bullet) = 0$ and the above variational problem reduces to"
   ]
  },
  {
   "cell_type": "markdown",
   "id": "948a2ccb-e811-430d-8d1a-924bfa6e0252",
   "metadata": {},
   "source": [
    "$$\n",
    "\\E_2(w_i, \\hat{w}) = 0 \\quad \\text{for all} \\quad \\hat{w} \\in W.\n",
    "$$"
   ]
  },
  {
   "cell_type": "markdown",
   "id": "6d279ef6-994a-483b-bc6c-804f7a877b34",
   "metadata": {},
   "source": [
    "As argued in @sec-20230107173921, this leads to $w_i = 0$."
   ]
  },
  {
   "cell_type": "markdown",
   "id": "36a570a7-bdbf-471c-81ac-1e2e962f4a67",
   "metadata": {},
   "source": [
    "Similarly, we find the term or of order 1 in $\\lambda$, and evaluate it at $\\xi_1 = \\cdots = \\xi_m = 0$. Unfortunately, substitutions do not work with indexed quantities. Since all occurences of $\\xi_i$ have been scaled by $t$ so as to keep track of the order of each term, a workaround is to set $t$ to 0. This delivers the following variational problem"
   ]
  },
  {
   "cell_type": "code",
   "execution_count": 12,
   "id": "ddb54699-a00d-4314-8530-776aac801162",
   "metadata": {},
   "outputs": [
    {
     "data": {
      "text/latex": [
       "$\\displaystyle \\E_{2} \\hat{w} {w}_{\\lambda}$"
      ],
      "text/plain": [
       "\\E_2*\\hat{w}*w[\\lambda]"
      ]
     },
     "execution_count": 12,
     "metadata": {},
     "output_type": "execute_result"
    }
   ],
   "source": [
    "res_w.coeff(λ, 1).subs(t, 0)"
   ]
  },
  {
   "cell_type": "markdown",
   "id": "45290af4-9c26-40b9-bee7-24443f205f03",
   "metadata": {},
   "source": [
    "for all $\\hat{w} \\in W$. The same argument leads to $w_\\lambda = 0$."
   ]
  },
  {
   "cell_type": "markdown",
   "id": "ad6dbfce-15a2-448b-a7d8-bcc660e50863",
   "metadata": {},
   "source": [
    "Similarly again, for the term of order 2 in $\\lambda$"
   ]
  },
  {
   "cell_type": "code",
   "execution_count": 13,
   "id": "7d6306f1-5376-4295-b577-9c019fe9e893",
   "metadata": {},
   "outputs": [
    {
     "data": {
      "text/latex": [
       "$\\displaystyle \\frac{\\E_{2} \\hat{w} {w}_{\\lambda,\\lambda}}{2} + \\frac{\\E_{3} \\hat{w} {w}_{\\lambda}^{2}}{2} + \\dot{\\E}_2 \\hat{w} {w}_{\\lambda} = 0$"
      ],
      "text/plain": [
       "Eq(\\E_2*\\hat{w}*w[\\lambda, \\lambda]/2 + \\E_3*\\hat{w}*w[\\lambda]**2/2 + \\dot{\\E}_2*\\hat{w}*w[\\lambda], 0)"
      ]
     },
     "execution_count": 13,
     "metadata": {},
     "output_type": "execute_result"
    }
   ],
   "source": [
    "(eq := Eq(res_w.coeff(λ, 2).subs(t, 0), 0))"
   ]
  },
  {
   "cell_type": "markdown",
   "id": "8815d924-7ebc-4c7e-8d41-1b7d36490cc9",
   "metadata": {},
   "source": [
    "for all $\\hat{w} \\in W$. Since it was found that $w_\\lambda = 0$, the above problem again reduces to $\n",
    "\\E_2(w_{\\lambda\\lambda}, \\hat{w}) = 0$ for all $\\hat{w} \\in W$ and $w_{\\lambda\\lambda} = 0$."
   ]
  },
  {
   "cell_type": "code",
   "execution_count": 14,
   "id": "9c4d2be5-6159-491b-adff-c762a3f0004c",
   "metadata": {},
   "outputs": [
    {
     "data": {
      "text/latex": [
       "$\\displaystyle \\frac{\\E_{2} \\hat{w} {w}_{\\lambda,\\lambda}}{2} = 0$"
      ],
      "text/plain": [
       "Eq(\\E_2*\\hat{w}*w[\\lambda, \\lambda]/2, 0)"
      ]
     },
     "execution_count": 14,
     "metadata": {},
     "output_type": "execute_result"
    }
   ],
   "source": [
    "eq.subs(w[Idx(r\"\\lambda\")], 0)"
   ]
  },
  {
   "cell_type": "markdown",
   "id": "ba36b56c-65b3-476e-b4d8-bd0e54527fb6",
   "metadata": {},
   "source": [
    "To sum up, we have found so far that $w_i = w_\\lambda = w_{\\lambda\\lambda} = 0$. At this point, it is interesting to override the function `_w()`, taking into account all these simplifications."
   ]
  },
  {
   "cell_type": "code",
   "execution_count": 15,
   "id": "b03a12af-6f0a-4781-9c1d-8ed5d759cc20",
   "metadata": {},
   "outputs": [],
   "source": [
    "def _w():\n",
    "    i = new_index()\n",
    "    j = new_index()\n",
    "    k = new_index()\n",
    "    l = new_index()\n",
    "    return t**2 * ξ[j] * ξ[k] * w[j, k] / 2 + _λ() * t * ξ[l] * w[l, Idx(r\"\\lambda\")]"
   ]
  },
  {
   "cell_type": "markdown",
   "id": "3472659d-832a-4922-8305-b5af8ce78f5b",
   "metadata": {},
   "source": [
    "We can then re-evaluate the residual"
   ]
  },
  {
   "cell_type": "code",
   "execution_count": 16,
   "id": "a632c770-847d-451c-8f09-37631546e252",
   "metadata": {
    "tags": []
   },
   "outputs": [],
   "source": [
    "res_w = expand(create_E_u(u_fun=_u) * w_hat)"
   ]
  },
  {
   "cell_type": "markdown",
   "id": "71b28c46-ff72-49ee-822c-ff43f0148852",
   "metadata": {},
   "source": [
    "The $\\xi_i \\, \\xi_j$ terms deliver the following variational problem"
   ]
  },
  {
   "cell_type": "code",
   "execution_count": 17,
   "id": "21a4b7a6-9f4b-4b4e-ba66-66b4b82bc2fa",
   "metadata": {},
   "outputs": [
    {
     "data": {
      "text/latex": [
       "$\\displaystyle \\frac{\\E_{2} \\hat{w} {\\xi}_{i_{52}} {\\xi}_{i_{53}} {w}_{i_{52},i_{53}}}{2} + \\frac{\\E_{3} \\hat{w} {\\xi}_{i_{55}} {\\xi}_{i_{60}} {v}_{i_{55}} {v}_{i_{60}}}{2} = 0$"
      ],
      "text/plain": [
       "Eq(\\E_2*\\hat{w}*\\xi[i_{52}]*\\xi[i_{53}]*w[i_{52}, i_{53}]/2 + \\E_3*\\hat{w}*\\xi[i_{55}]*\\xi[i_{60}]*v[i_{55}]*v[i_{60}]/2, 0)"
      ]
     },
     "execution_count": 17,
     "metadata": {},
     "output_type": "execute_result"
    }
   ],
   "source": [
    "lhs = res_w.coeff(t, 2).subs(λ, 0).expand()\n",
    "Eq(lhs, 0)"
   ]
  },
  {
   "cell_type": "markdown",
   "id": "d8636a18-8618-48e7-a3ab-00b5cb98074c",
   "metadata": {},
   "source": [
    "for all $\\hat{w} \\in W$ and $\\xi_1, \\ldots, \\xi_m \\in \\reals$ (small enough). This variational problem  should be understood as"
   ]
  },
  {
   "cell_type": "markdown",
   "id": "4247a6aa-64d9-4c13-8899-a8823d85d64c",
   "metadata": {},
   "source": [
    "$$\n",
    "\\xi_i \\, \\xi_j \\, \\bigl[ \\E_2(w_{ij}, \\hat{w}) + \\E_3(v_i, v_j, \\hat{w}) \\bigr] = 0\n",
    "\\quad \\text{for all} \\quad \\hat{w} \\in W.\n",
    "$$"
   ]
  },
  {
   "cell_type": "markdown",
   "id": "d9e9c8bb-d334-4ab7-89e7-8b5de10e16b8",
   "metadata": {},
   "source": [
    "for all $\\hat{w} \\in W$ and $\\xi_1, \\ldots, \\xi_m$ *small enough*. Since the above expression is homogeneous in $\\xi_i$, it must in fact vanish *for all* $\\xi_1, \\ldots, \\xi_m$. The resulting variational problem then coincides with (@eq-20230107180410). The $\\xi_i \\, \\xi_j$ term of the asymptotic expansion of $w$ is therefore exactly $w_{ij}$ defined in @sec-20230402152824."
   ]
  },
  {
   "cell_type": "markdown",
   "id": "e2320f2e-8909-457b-8a35-558b86037db4",
   "metadata": {},
   "source": [
    "Finally, the $\\xi_i \\, \\lambda$ terms deliver the following variational problem"
   ]
  },
  {
   "cell_type": "code",
   "execution_count": 18,
   "id": "34cff5f4-3f8c-4825-8ff6-3b9f2d5670e8",
   "metadata": {},
   "outputs": [
    {
     "data": {
      "text/latex": [
       "$\\displaystyle \\E_{2} \\hat{w} {\\xi}_{i_{54}} {w}_{i_{54},\\lambda} + \\frac{\\E_{3} \\dot{u}_0 \\hat{w} {\\xi}_{i_{55}} {v}_{i_{55}}}{2} + \\frac{\\E_{3} \\dot{u}_0 \\hat{w} {\\xi}_{i_{60}} {v}_{i_{60}}}{2} - \\E_{3} \\dot{u}_0 \\hat{w} {\\xi}_{i_{65}} {v}_{i_{65}} + \\dot{\\E}_2 \\hat{w} {\\xi}_{i_{65}} {v}_{i_{65}} = 0$"
      ],
      "text/plain": [
       "Eq(\\E_2*\\hat{w}*\\xi[i_{54}]*w[i_{54}, \\lambda] + \\E_3*\\dot{u}_0*\\hat{w}*\\xi[i_{55}]*v[i_{55}]/2 + \\E_3*\\dot{u}_0*\\hat{w}*\\xi[i_{60}]*v[i_{60}]/2 - \\E_3*\\dot{u}_0*\\hat{w}*\\xi[i_{65}]*v[i_{65}] + \\dot{\\E}_2*\\hat{w}*\\xi[i_{65}]*v[i_{65}], 0)"
      ]
     },
     "execution_count": 18,
     "metadata": {},
     "output_type": "execute_result"
    }
   ],
   "source": [
    "lhs = res_w.coeff(t, 1).coeff(λ, 1).subs(λ, 0).expand()\n",
    "Eq(lhs, 0)"
   ]
  },
  {
   "cell_type": "markdown",
   "id": "86743904-5826-40b5-bd8d-3ef46cfa8b0f",
   "metadata": {},
   "source": [
    "The above expression is written with standardized index names, delivering the following variational problem."
   ]
  },
  {
   "cell_type": "code",
   "execution_count": 19,
   "id": "19ff0470-22fd-40ec-bb46-d745ac897ba9",
   "metadata": {},
   "outputs": [
    {
     "data": {
      "text/latex": [
       "$\\displaystyle \\E_{2} \\hat{w} {\\xi}_{i} {w}_{i,\\lambda} + \\dot{\\E}_2 \\hat{w} {\\xi}_{i} {v}_{i} = 0$"
      ],
      "text/plain": [
       "Eq(\\E_2*\\hat{w}*\\xi[i]*w[i, \\lambda] + \\dot{\\E}_2*\\hat{w}*\\xi[i]*v[i], 0)"
      ]
     },
     "execution_count": 19,
     "metadata": {},
     "output_type": "execute_result"
    }
   ],
   "source": [
    "terms = lhs.args\n",
    "lhs = 0\n",
    "\n",
    "for term in terms:\n",
    "    d = get_contraction_structure(term)\n",
    "    (i_,), = d.keys()\n",
    "    lhs += term.subs(i_, i)\n",
    "\n",
    "Eq(lhs, 0)"
   ]
  },
  {
   "cell_type": "markdown",
   "id": "38699dbd-63eb-4b4c-b217-3f73efe705d6",
   "metadata": {},
   "source": [
    "for all $\\hat{w} \\in W$ and $\\xi_1, \\ldots, \\xi_m \\in \\reals$. We recognize the variational problem (@eq-20230107180501). In other words, the $\\xi_i \\, \\lambda$ term of the asymptotic expansion of $w$ is $w_{i\\lambda}$ defined in @sec-20230402152824."
   ]
  },
  {
   "cell_type": "markdown",
   "id": "14bf5306-e756-41d4-8a97-995c83f0669c",
   "metadata": {},
   "source": [
    "So far, we have found the following expansion of $w$"
   ]
  },
  {
   "cell_type": "markdown",
   "id": "f2d23d18-08fe-4b8b-9fcb-6fbd5b98daf7",
   "metadata": {},
   "source": [
    "$$\n",
    "w(\\xi_1, \\ldots, \\xi_m, \\lambda) = \\tfrac{1}{2} \\xi_i \\, \\xi_j \\, w_{ij} + \\xi_i \\, \\bigl( \\lambda - \\lambda_0 \\bigr) w_{i\\lambda} + \\cdots,\n",
    "$$"
   ]
  },
  {
   "cell_type": "markdown",
   "id": "1e3fc646-6f21-426a-8764-ec7211ed3ea2",
   "metadata": {},
   "source": [
    "where $w_{ij}$ and $w_{i\\lambda}$ are defined by Eqs. (@eq-20230107180410) and (@eq-20230107180501), respectively."
   ]
  },
  {
   "cell_type": "markdown",
   "id": "18c1e00d-b093-41dd-8880-db7bef2fb49d",
   "metadata": {
    "tags": []
   },
   "source": [
    "## Elimination of $\\lambda$ {#sec-20230102030125}\n",
    "\n",
    "We now test Eq. (@eq-20230102025737) with $\\hat{u} = v_i$ ($i = 1, \\ldots, m$)\n",
    "\n",
    "$$\n",
    "\\E_{,u}[u^\\ast(\\lambda) + \\xi_j \\, v_j + w(\\xi_1, \\ldots, \\xi_m, \\lambda), \\lambda; v_i] = 0, \\quad \\text{for all} \\quad i = 1, \\ldots, m.\n",
    "$$ {#eq-20230110092313}\n",
    "\n",
    "This now defines $\\lambda$ as an implicit function of $\\xi_1, \\ldots, \\xi_m$. The following asymptotic expansion\n",
    "about $\\xi_1 = \\cdots = \\xi_m = 0$ is postulated\n",
    "\n",
    "$$\n",
    "\\lambda(\\xi_1, \\ldots, \\xi_m) = \\xi_i \\, \\lambda_i + \\tfrac{1}{2} \\, \\xi_i \\, \\xi_j \\, \\lambda_{ij} + \\ldots\n",
    "$$ {#eq-20230110091031}\n",
    "\n",
    "where $\\lambda_i$ and $\\lambda_{ij}$ are scalar coefficients to be defined below.\n",
    "\n",
    "We first implement the function `_λ()` that creates (with unique indices) the SymPy expression for the asymptotic expansions of  $(\\xi_1, \\ldots, \\xi_m) \\mapsto \\lambda(\\xi_1, \\ldots, \\xi_m)$ according to Eq. (@eq-20230110091031). Since the functions `_u()` and `_w()` call `_λ()` internally, there is no need to redefine them to implement the asymptotic expansions of $(\\xi_1, \\ldots, \\xi_m, \\lambda) \\mapsto w(\\xi_1, \\ldots, \\xi_m, \\lambda)$ and $(\\xi_1, \\ldots, \\xi_m) \\mapsto u(\\xi_1, \\ldots, \\xi_m)$ according to Eqs. (@eq-20230107172048) and (@eq-20220902174235).\n",
    "\n",
    "Note that the definition of $\\lambda$ below includes an explicit $\\mathcal{O}(t^3)$ term. This will lead SymPy to truncate all expressions involving $\\lambda$ to second-order in $t$, which speeds up considerably the computation."
   ]
  },
  {
   "cell_type": "code",
   "execution_count": 20,
   "id": "0ff156b3-9bea-4ca9-9bd7-a3a2ea5147ab",
   "metadata": {},
   "outputs": [],
   "source": [
    "λ = IndexedBase(r\"\\lambda\")\n",
    "\n",
    "def _λ():\n",
    "    i = new_index()\n",
    "    j = new_index()\n",
    "    k = new_index()\n",
    "    return t * ξ[i] * λ[i] + t**2 / 2 * ξ[j] * ξ[k] * λ[j, k] + O(t**3)"
   ]
  },
  {
   "cell_type": "markdown",
   "id": "4990bb66-f958-436b-9505-4b29bdc1839a",
   "metadata": {},
   "source": [
    "Then, the above expansions are plugged into the general expression of $\\E_{,u}(u, \\lambda; \\bullet)$ and tested with $\\hat{v} \\in V$, see Eq. (@eq-20230110092313)."
   ]
  },
  {
   "cell_type": "code",
   "execution_count": 21,
   "id": "1e0b4a89-94ff-44fa-a96a-cfa23e3174bc",
   "metadata": {},
   "outputs": [],
   "source": [
    "res_v = expand(create_E_u(u_fun=_u, λ_fun=_λ) * v[i]).removeO()"
   ]
  },
  {
   "cell_type": "markdown",
   "id": "58c8c6f8-4ce4-48c0-9f79-bd933697e7fd",
   "metadata": {},
   "source": [
    "We get an asymptotic expansion of the residual with respect to $\\xi_1, \\ldots, \\xi_m$. This residual must vanish for all $\\xi_i$ sufficiently small. Therefore, all coefficients of the expansion `res_v` must be nullified at all orders and for all $\\xi_i$ sufficiently small. Considering the expansion up to third order, we get after simplification only *two* bifurcation equations, since the terms of order 0 and 1 are identically null, as verified below."
   ]
  },
  {
   "cell_type": "code",
   "execution_count": 22,
   "id": "f39736f9-6c5d-43f4-8d70-44fe54886daa",
   "metadata": {},
   "outputs": [],
   "source": [
    "assert res_v.coeff(t, 0) == 0\n",
    "assert res_v.coeff(t, 1).subs(E2 * v[i], 0) == 0"
   ]
  },
  {
   "cell_type": "markdown",
   "id": "abd82b1e-8a0b-44db-bce5-627e09f43fd3",
   "metadata": {},
   "source": [
    "We now consider the terms of order 2 in $\\xi_i$"
   ]
  },
  {
   "cell_type": "code",
   "execution_count": 23,
   "id": "ef72f947-1056-4e7a-81ac-80d16a55cc5b",
   "metadata": {},
   "outputs": [
    {
     "data": {
      "text/latex": [
       "$\\displaystyle \\frac{\\E_{3} \\dot{u}_0^{2} {\\lambda}_{i_{142}} {\\lambda}_{i_{180}} {\\xi}_{i_{142}} {\\xi}_{i_{180}} {v}_{i}}{2} - \\E_{3} \\dot{u}_0^{2} {\\lambda}_{i_{217}} {\\lambda}_{i_{221}} {\\xi}_{i_{217}} {\\xi}_{i_{221}} {v}_{i} + \\frac{\\E_{3} \\dot{u}_0^{2} {\\lambda}_{i_{258}} {\\lambda}_{i_{261}} {\\xi}_{i_{258}} {\\xi}_{i_{261}} {v}_{i}}{2} + \\frac{\\E_{3} \\dot{u}_0 {\\lambda}_{i_{142}} {\\xi}_{i_{142}} {\\xi}_{i_{179}} {v}_{i} {v}_{i_{179}}}{2} + \\frac{\\E_{3} \\dot{u}_0 {\\lambda}_{i_{180}} {\\xi}_{i_{141}} {\\xi}_{i_{180}} {v}_{i} {v}_{i_{141}}}{2} - \\E_{3} \\dot{u}_0 {\\lambda}_{i_{217}} {\\xi}_{i_{217}} {\\xi}_{i_{220}} {v}_{i} {v}_{i_{220}} + \\frac{\\E_{3} {\\xi}_{i_{141}} {\\xi}_{i_{179}} {v}_{i} {v}_{i_{141}} {v}_{i_{179}}}{2} + \\dot{\\E}_2 \\dot{u}_0 {\\lambda}_{i_{217}} {\\lambda}_{i_{221}} {\\xi}_{i_{217}} {\\xi}_{i_{221}} {v}_{i} - \\dot{\\E}_2 \\dot{u}_0 {\\lambda}_{i_{258}} {\\lambda}_{i_{261}} {\\xi}_{i_{258}} {\\xi}_{i_{261}} {v}_{i} + \\dot{\\E}_2 {\\lambda}_{i_{217}} {\\xi}_{i_{217}} {\\xi}_{i_{220}} {v}_{i} {v}_{i_{220}} = 0$"
      ],
      "text/plain": [
       "Eq(\\E_3*\\dot{u}_0**2*\\lambda[i_{142}]*\\lambda[i_{180}]*\\xi[i_{142}]*\\xi[i_{180}]*v[i]/2 - \\E_3*\\dot{u}_0**2*\\lambda[i_{217}]*\\lambda[i_{221}]*\\xi[i_{217}]*\\xi[i_{221}]*v[i] + \\E_3*\\dot{u}_0**2*\\lambda[i_{258}]*\\lambda[i_{261}]*\\xi[i_{258}]*\\xi[i_{261}]*v[i]/2 + \\E_3*\\dot{u}_0*\\lambda[i_{142}]*\\xi[i_{142}]*\\xi[i_{179}]*v[i]*v[i_{179}]/2 + \\E_3*\\dot{u}_0*\\lambda[i_{180}]*\\xi[i_{141}]*\\xi[i_{180}]*v[i]*v[i_{141}]/2 - \\E_3*\\dot{u}_0*\\lambda[i_{217}]*\\xi[i_{217}]*\\xi[i_{220}]*v[i]*v[i_{220}] + \\E_3*\\xi[i_{141}]*\\xi[i_{179}]*v[i]*v[i_{141}]*v[i_{179}]/2 + \\dot{\\E}_2*\\dot{u}_0*\\lambda[i_{217}]*\\lambda[i_{221}]*\\xi[i_{217}]*\\xi[i_{221}]*v[i] - \\dot{\\E}_2*\\dot{u}_0*\\lambda[i_{258}]*\\lambda[i_{261}]*\\xi[i_{258}]*\\xi[i_{261}]*v[i] + \\dot{\\E}_2*\\lambda[i_{217}]*\\xi[i_{217}]*\\xi[i_{220}]*v[i]*v[i_{220}], 0)"
      ]
     },
     "execution_count": 23,
     "metadata": {},
     "output_type": "execute_result"
    }
   ],
   "source": [
    "lhs = res_v.coeff(t, 2).expand().subs(E2 * v[i], 0)\n",
    "Eq(lhs, 0)"
   ]
  },
  {
   "cell_type": "markdown",
   "id": "11893cc3-037d-4f74-bd87-38f9fbbcbce2",
   "metadata": {},
   "source": [
    "We again standardize the indices."
   ]
  },
  {
   "cell_type": "code",
   "execution_count": 24,
   "id": "12385073-67b6-4a88-b987-058b62cef6f5",
   "metadata": {},
   "outputs": [
    {
     "data": {
      "text/latex": [
       "$\\displaystyle \\frac{\\E_{3} {\\xi}_{j} {\\xi}_{k} {v}_{i} {v}_{j} {v}_{k}}{2} + \\dot{\\E}_2 {\\lambda}_{j} {\\xi}_{j} {\\xi}_{k} {v}_{i} {v}_{k} = 0$"
      ],
      "text/plain": [
       "Eq(\\E_3*\\xi[j]*\\xi[k]*v[i]*v[j]*v[k]/2 + \\dot{\\E}_2*\\lambda[j]*\\xi[j]*\\xi[k]*v[i]*v[k], 0)"
      ]
     },
     "execution_count": 24,
     "metadata": {},
     "output_type": "execute_result"
    }
   ],
   "source": [
    "terms = lhs.args\n",
    "lhs = 0\n",
    "for term_ in terms:\n",
    "    d = get_contraction_structure(term_)\n",
    "    indices = next(iter(d.keys()))\n",
    "    assert len(indices) == 2\n",
    "    j_, k_ = indices\n",
    "    term = term_.subs({j_: j, k_: k})\n",
    "    lhs += term\n",
    "    if VERBOSE:\n",
    "        display_latex_equation(term_, term)\n",
    "Eq(lhs, 0)"
   ]
  },
  {
   "cell_type": "markdown",
   "id": "3734dc8e-9125-4151-8388-874e1afd0a83",
   "metadata": {},
   "source": [
    "And, introducing the symbols $\\dot{E}_{ij}$ and $E_{ijk}$, defined by Eqs. (@eq-20230125062505) and (@eq-20230125062510), respectively, we get the **first bifurcation equation**."
   ]
  },
  {
   "cell_type": "code",
   "execution_count": 25,
   "id": "4573d205-84fa-495c-b277-9ba15c6d18e9",
   "metadata": {},
   "outputs": [
    {
     "data": {
      "text/latex": [
       "$\\displaystyle \\frac{E_{ijk} {\\xi}_{j} {\\xi}_{k}}{2} + \\dot{E}_{ij} {\\lambda}_{k} {\\xi}_{j} {\\xi}_{k} = 0$"
      ],
      "text/plain": [
       "Eq(E_{ijk}*\\xi[j]*\\xi[k]/2 + \\dot{E}_{ij}*\\lambda[k]*\\xi[j]*\\xi[k], 0)"
      ]
     },
     "execution_count": 25,
     "metadata": {},
     "output_type": "execute_result"
    }
   ],
   "source": [
    "lhs = lhs.subs({\n",
    "    E3 * v[i] * v[j] * v[k]: E_ijk,\n",
    "    λ[j] * ξ[j] * ξ[k] * E2_dot * v[i] * v[k]: λ[k] * ξ[j] * ξ[k] * E_ij_dot\n",
    "})\n",
    "Eq(lhs, 0)"
   ]
  },
  {
   "cell_type": "markdown",
   "id": "3d94e1e6-0560-4855-8d4e-2c68931282fb",
   "metadata": {},
   "source": [
    "Turning now to the term of third-order in $\\xi_i$."
   ]
  },
  {
   "cell_type": "markdown",
   "id": "497cf262-a920-4663-b6cc-004e657fc8bd",
   "metadata": {},
   "source": [
    "**A REPRENDRE ICI 07/06/2023 08:23**"
   ]
  },
  {
   "cell_type": "code",
   "execution_count": 27,
   "id": "4c93b64a-fd8d-4963-a412-9670183ab463",
   "metadata": {},
   "outputs": [
    {
     "ename": "RuntimeError",
     "evalue": "",
     "output_type": "error",
     "traceback": [
      "\u001b[1;31m---------------------------------------------------------------------------\u001b[0m",
      "\u001b[1;31mRuntimeError\u001b[0m                              Traceback (most recent call last)",
      "Cell \u001b[1;32mIn[27], line 1\u001b[0m\n\u001b[1;32m----> 1\u001b[0m \u001b[38;5;28;01mraise\u001b[39;00m \u001b[38;5;167;01mRuntimeError\u001b[39;00m()\n",
      "\u001b[1;31mRuntimeError\u001b[0m: "
     ]
    }
   ],
   "source": [
    "raise RuntimeError()"
   ]
  },
  {
   "cell_type": "code",
   "execution_count": null,
   "id": "ac9db3c3-66f9-4bb6-865c-00e2d4f6f493",
   "metadata": {},
   "outputs": [],
   "source": [
    "lhs = res_v.coeff(t, 3)\n",
    "lhs = lhs.subs(E2 * v_i, 0)\n",
    "\n",
    "lhs"
   ]
  },
  {
   "cell_type": "markdown",
   "id": "c33ac351-8daa-4221-a535-e6b0c361e0f7",
   "metadata": {},
   "source": [
    "The above bifurcation equations should be understood as Eqs. (@eq-20230115101130) and (@eq-20230115101147) below. Note that these equations are in fact *asymptotic expansions*. As such, they should hold for all $\\xi_1, \\ldots, \\xi_m$ sufficiently small. Since both equations are homogeneous in $\\xi_1, \\ldots, \\xi_m$, it is equivalent to require these to hold for all $\\xi_1, \\ldots, \\xi_m \\in \\reals$. "
   ]
  },
  {
   "cell_type": "markdown",
   "id": "da6d21ef-9075-4d71-b05f-bad287d53fc7",
   "metadata": {},
   "source": [
    "## Summary"
   ]
  },
  {
   "cell_type": "markdown",
   "id": "a06d3752-5216-424e-81a2-8fd09a725957",
   "metadata": {},
   "source": [
    "The bifurcated equilibrium branch is postulated as follows (Lyapunov–Schmidt decomposition)\n",
    "$$\n",
    "u = u^\\ast(\\lambda) + \\xi_i \\, v_i + w, \\quad \\text{with} \\quad w \\in W.\n",
    "$$\n",
    "whith $w = w(\\xi_1, \\ldots, \\xi_m, \\lambda) \\in W$ and $\\lambda = \\lambda(\\xi_1, \\ldots, \\xi_m)$.\n",
    "\n",
    "The Taylor expansion of $w$ reduces to\n",
    "$$\n",
    "w(\\xi_1, \\ldots, \\xi_m, \\lambda) = \\tfrac{1}{2} \\xi_i \\, \\xi_j \\, w_{ij} + \\xi_i \\, \\bigl( \\lambda - \\lambda_0 \\bigr) w_{i\\lambda} + \\cdots,\n",
    "$$\n",
    "where $w_{ij}$ and $w_{i\\lambda}$ are the solutions to the variational problems (@eq-20230107180410) and (@eq-20230107180501) introduced in @sec-20230402152824.\n",
    "\n",
    "Similarly, the Taylor expansion of $\\lambda$ reads\n",
    "$$\n",
    "\\lambda(\\xi_1, \\ldots, \\xi_m) = \\xi_i \\, \\lambda_i + \\tfrac{1}{2} \\, \\xi_i \\, \\xi_j \\, \\lambda_{ij} + \\cdots,\n",
    "$$\n",
    "where $\\lambda_i$ and $\\lambda_{ij}$ are scalar coefficients that solve the following bifurcation equations\n",
    "$$\n",
    "\\xi_j \\, \\xi_k \\, \\bigl[\n",
    "\\tfrac{1}{2} \\E_3(v_j, v_k, \\hat{v})\n",
    "+ \\lambda_k \\, \\dot{\\E}_2(v_j, \\hat{v})\n",
    "\\bigr] = 0\n",
    "$$ {#eq-20230115101130}\n",
    "and\n",
    "$$\n",
    "\\begin{aligned}[b]\n",
    "\\xi_j \\, \\xi_k \\, \\xi_l \\, \\bigl[\n",
    "\\tfrac{1}{2} \\E_3(v_j, w_{kl}, \\hat{v})\n",
    "+ \\lambda_l \\, \\E_3(v_j, w_{k\\lambda}, \\hat{v})\n",
    "+ \\tfrac{1}{6} \\E_4(v_j, v_k, v_l, \\hat{v}) &\\\\\n",
    "+ \\tfrac{1}{2} \\lambda_l \\, \\dot{\\E}_2(w_{jk}, \\hat{v})\n",
    "+ \\lambda_k \\, \\lambda_l \\, \\dot{\\E}_2(w_{j\\lambda}, \\hat{v})\n",
    "+ \\tfrac{1}{2} \\lambda_{kl} \\, \\dot{\\E}_2(v_j, \\hat{v}) &\\\\\n",
    "+ \\tfrac{1}{2} \\lambda_l \\, \\dot{\\E}_3(v_j, v_k, \\hat{v})\n",
    "+ \\tfrac{1}{2} \\lambda_k \\, \\lambda_l \\, \\ddot{\\E}_2(v_j, \\hat{v})\n",
    "\\bigr] &= 0,\n",
    "\\end{aligned}\n",
    "$$ {#eq-20230115101147}\n",
    "for all $\\xi_1, \\ldots, \\xi_m \\in \\reals$."
   ]
  }
 ],
 "metadata": {
  "kernelspec": {
   "display_name": "Python 3 (ipykernel)",
   "language": "python",
   "name": "python3"
  },
  "language_info": {
   "codemirror_mode": {
    "name": "ipython",
    "version": 3
   },
   "file_extension": ".py",
   "mimetype": "text/x-python",
   "name": "python",
   "nbconvert_exporter": "python",
   "pygments_lexer": "ipython3",
   "version": "3.9.16"
  },
  "toc-autonumbering": false,
  "toc-showtags": false
 },
 "nbformat": 4,
 "nbformat_minor": 5
}
