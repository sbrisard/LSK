{
 "cells": [
  {
   "cell_type": "markdown",
   "id": "16dcff5e-b6f8-4fcd-a5c6-38a01dcd9295",
   "metadata": {},
   "source": [
    "# Asymptotic expansion of the hessian of the energy"
   ]
  },
  {
   "cell_type": "code",
   "execution_count": null,
   "id": "7a4bfe8a-da9d-4c88-a989-290a22dbef41",
   "metadata": {},
   "outputs": [],
   "source": [
    "import json\n",
    "import lsk\n",
    "\n",
    "from sympy import *\n",
    "\n",
    "η, λ, u, v, u_hat, v_hat, w_hat, E2 = symbols(r\"\\eta, \\lambda, u, v, \\hat{u}, \\hat{v}, \\hat{w}, \\E_2\")\n",
    "\n",
    "with open(\"setting-up_the_computational_stage.out.json\", \"r\") as f:\n",
    "    data = json.load(f)\n",
    "    \n",
    "u_star = eval(data[\"u_star\"])\n",
    "E = eval(data[\"E\"])"
   ]
  },
  {
   "cell_type": "code",
   "execution_count": null,
   "id": "81efb5c8-915d-4efc-8c42-9f4b52646e3a",
   "metadata": {},
   "outputs": [],
   "source": [
    "hessE = E.diff(u, 2) * u_hat * v_hat"
   ]
  },
  {
   "cell_type": "code",
   "execution_count": null,
   "id": "dcaab9cd-6112-4577-b115-2f86597f269a",
   "metadata": {},
   "outputs": [],
   "source": [
    "λ1, λ2 = symbols(r\"\\lambda^{(1)}, \\lambda^{(2)}\")\n",
    "λ_exp = λ1 * η + λ2 * η**2 / 2"
   ]
  },
  {
   "cell_type": "code",
   "execution_count": null,
   "id": "5356f304-0ddb-4a1c-bc97-182aad689783",
   "metadata": {},
   "outputs": [],
   "source": [
    "lsk.display_latex_equation(r\"\\lambda(\\eta)\", λ_exp + O(η**3))"
   ]
  },
  {
   "cell_type": "code",
   "execution_count": null,
   "id": "e34ecdf5-fee6-4ede-b092-bccccfa4e2b4",
   "metadata": {},
   "outputs": [],
   "source": [
    "w_exp = η**2 * (Symbol(r\"\\xi_i^{(1)} \\, \\xi_j^{(1)} \\, w_{ij}\") / 2 + λ1 * Symbol(r\"\\xi_k^{(1)} \\, w_{k\\lambda}\"))"
   ]
  },
  {
   "cell_type": "code",
   "execution_count": null,
   "id": "d6f97eda-88a3-48a5-bebe-2e2ab0b894e4",
   "metadata": {},
   "outputs": [],
   "source": [
    "lsk.display_latex_equation(r\"w(\\eta)\", w_exp + O(η**3))"
   ]
  },
  {
   "cell_type": "code",
   "execution_count": null,
   "id": "8c485b9f-5606-49c0-b097-d81a90ccc288",
   "metadata": {},
   "outputs": [],
   "source": [
    "u_exp = (u_star.subs(λ, λ_exp) + η * Symbol(r\"\\xi_l^{(1)} \\, v_l\") + η**2 / 2 * Symbol(r\"\\xi_m^{(2)} \\, v_m\") + w_exp)\n",
    "u_exp = u_exp.series(η, 0, 3).expand()"
   ]
  },
  {
   "cell_type": "code",
   "execution_count": null,
   "id": "489f3ff0-3a49-4128-aa74-c48352d325c1",
   "metadata": {},
   "outputs": [],
   "source": [
    "lsk.display_latex_equation(r\"u(\\eta)\", u_exp + O(η**3))"
   ]
  },
  {
   "cell_type": "code",
   "execution_count": null,
   "id": "1ed5865b-fc35-4558-bb7e-1e8758b1e9d6",
   "metadata": {},
   "outputs": [],
   "source": [
    "u_exp"
   ]
  },
  {
   "cell_type": "code",
   "execution_count": null,
   "id": "46a49071-1a97-4db9-846c-03dceeaa5b64",
   "metadata": {},
   "outputs": [],
   "source": [
    "hessE1 = hessE.subs({λ: λ_exp, u: u_exp}).series(η, 0, 3).expand()"
   ]
  },
  {
   "cell_type": "code",
   "execution_count": null,
   "id": "62c35c61-b3d9-4b51-b11e-8137e124bc79",
   "metadata": {},
   "outputs": [],
   "source": [
    "hessE1.coeff(η, 0)"
   ]
  },
  {
   "cell_type": "code",
   "execution_count": null,
   "id": "76fc4d3e-07fe-4318-8963-d83334e72d53",
   "metadata": {},
   "outputs": [],
   "source": [
    "hessE1.coeff(η, 1).factor()"
   ]
  }
 ],
 "metadata": {
  "kernelspec": {
   "display_name": "Python 3 (ipykernel)",
   "language": "python",
   "name": "python3"
  },
  "language_info": {
   "codemirror_mode": {
    "name": "ipython",
    "version": 3
   },
   "file_extension": ".py",
   "mimetype": "text/x-python",
   "name": "python",
   "nbconvert_exporter": "python",
   "pygments_lexer": "ipython3",
   "version": "3.10.6"
  }
 },
 "nbformat": 4,
 "nbformat_minor": 5
}
