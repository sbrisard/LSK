{
 "cells": [
  {
   "cell_type": "markdown",
   "id": "80f2c8c2-295e-4194-a81a-27a3adfbb4f7",
   "metadata": {
    "tags": []
   },
   "source": [
    "# Bifurcation equations {#sec-20230102153124}"
   ]
  },
  {
   "cell_type": "markdown",
   "id": "8cb9627a-0521-44e1-b0c4-cb2e90e408f4",
   "metadata": {},
   "source": [
    "This notebook uses $\\LaTeX\\newcommand{\\D}{\\mathrm{d}}\\newcommand{\\E}{\\mathcal{E}}\\newcommand{\\order}[2][1]{#2^{(#1)}}\\newcommand{\\reals}{\\mathbb{R}}$ custom macros."
   ]
  },
  {
   "cell_type": "markdown",
   "id": "6c755e9c-24e0-437a-8b51-8b2d97bd91ce",
   "metadata": {},
   "source": [
    "In this chapter, the bifurcation analysis of the perfect system is performed symbolically. The starting point is the symbolic expression of the energy $(u, \\lambda) \\mapsto \\E(u, \\lambda)$ that was derived in @sec-20230208081549."
   ]
  },
  {
   "cell_type": "markdown",
   "id": "62ad2dfb-1006-4f94-a4a1-2c61a719a6d7",
   "metadata": {},
   "source": [
    "To begin with, we perform the relevant initializations and retrieve the expression of the energy."
   ]
  },
  {
   "cell_type": "code",
   "execution_count": 1,
   "id": "0c4aa7ee-185d-46b8-af94-d18604b761aa",
   "metadata": {},
   "outputs": [],
   "source": [
    "import itertools\n",
    "\n",
    "from lsk import *\n",
    "from sympy import *"
   ]
  },
  {
   "cell_type": "code",
   "execution_count": 2,
   "id": "9d0026fc-3d66-4623-b110-daddc24381a4",
   "metadata": {},
   "outputs": [],
   "source": [
    "#VERBOSE = False\n",
    "\n",
    "#E_ij_dot, E_il_dot = symbols(r\"\\dot{E}_{ij} \\dot{E}_{il}\")\n",
    "#E_il_ddot = symbols(r\"\\ddot{E}_{il}\")\n",
    "#E_ijk, E_ijl = symbols(r\"E_{ijk} E_{ijl}\")\n",
    "#E_ijk_dot = symbols(r\"\\dot{E}_{ijk}\")\n",
    "#E_ijkl = symbols(r\"E_{ijkl}\")\n",
    "\n",
    "#t, λ = symbols(r\"t \\lambda\")\n",
    "#u, u_hat, w_hat = symbols(r\"u \\hat{u} \\hat{w}\")"
   ]
  },
  {
   "cell_type": "code",
   "execution_count": 3,
   "id": "74d5bf3f-01d8-44ab-9be6-b7fbfb6132e4",
   "metadata": {},
   "outputs": [],
   "source": [
    "t, u_hat, w_hat = symbols(r\"t \\hat{u} \\hat{w}\")"
   ]
  },
  {
   "cell_type": "code",
   "execution_count": 4,
   "id": "1f61d116-2bd1-4f72-aeb8-cab168fe317e",
   "metadata": {},
   "outputs": [],
   "source": [
    "# Naming conventions \n",
    "# - Instances of the `IndexedBase` class end with `_`\n",
    "\n",
    "λ_ = IndexedBase(r\"\\lambda\")\n",
    "ξ_ = IndexedBase(r\"\\xi\")\n",
    "\n",
    "v_ = IndexedBase(\"v\")\n",
    "w_ = IndexedBase(\"w\")\n",
    "\n",
    "E_ = IndexedBase(\"E\")\n",
    "E_dot_ = IndexedBase(\"\\dot{E}\")\n",
    "E_ddot_ = IndexedBase(\"\\ddot{E}\")"
   ]
  },
  {
   "cell_type": "code",
   "execution_count": 5,
   "id": "3ccfb49a-12ee-4a9c-af45-02dc8ca56a26",
   "metadata": {},
   "outputs": [],
   "source": [
    "i = Idx(\"i\")\n",
    "j = Idx(\"j\")\n",
    "k = Idx(\"k\")\n",
    "l = Idx(\"l\")"
   ]
  },
  {
   "cell_type": "code",
   "execution_count": 6,
   "id": "d3259236-2e05-4b32-99a8-df9967b7f504",
   "metadata": {},
   "outputs": [],
   "source": [
    "# This dicts can be passed to `subs`\n",
    "\n",
    "w_is_symmetric = {\n",
    "    w_[j, i]: w_[i, j],\n",
    "    w_[k, i]: w_[i, k],\n",
    "    w_[k, j]: w_[j, k],\n",
    "    w_[l, i]: w_[i, l],\n",
    "    w_[l, j]: w_[j, l],\n",
    "    w_[l, k]: w_[k, l]\n",
    "}\n",
    "\n",
    "λ_is_symmetric = {\n",
    "    λ_[j, i]: λ_[i, j],\n",
    "    λ_[k, i]: λ_[i, k],\n",
    "    λ_[k, j]: λ_[j, k],\n",
    "    λ_[l, i]: λ_[i, l],\n",
    "    λ_[l, j]: λ_[j, l],\n",
    "    λ_[l, k]: λ_[k, l]\n",
    "}"
   ]
  },
  {
   "cell_type": "code",
   "execution_count": 7,
   "id": "3ae7695e-4107-45e1-93c0-cf968d260060",
   "metadata": {},
   "outputs": [],
   "source": [
    "__index_number = itertools.count()\n",
    "\n",
    "def new_index():\n",
    "    return Idx(r\"i_{\" + str(next(__index_number)) + \"}\")"
   ]
  },
  {
   "cell_type": "code",
   "execution_count": 8,
   "id": "6ca14585-e729-461b-9601-bcd1cad50564",
   "metadata": {},
   "outputs": [],
   "source": [
    "def symmetrize(expr):\n",
    "    if not expr.is_Mul:\n",
    "        raise ValueError()\n",
    "    struct = get_contraction_structure(expr)\n",
    "    indices = next(iter(struct))\n",
    "    if len(indices) == 3:\n",
    "        j, k, l = indices\n",
    "        # Assign temporary indices\n",
    "        jj = new_index()\n",
    "        kk = new_index()\n",
    "        ll = new_index()\n",
    "        expr = expr.subs({j: jj, k: kk, l: ll})\n",
    "        return (expr.subs({jj: j, kk: k, ll: l})\n",
    "                + expr.subs({jj: j, kk: l, ll: k})\n",
    "                + expr.subs({jj: k, kk: l, ll: j})\n",
    "                + expr.subs({jj: k, kk: j, ll: l})\n",
    "                + expr.subs({jj: l, kk: j, ll: k})\n",
    "                + expr.subs({jj: l, kk: k, ll: j})) / 6\n",
    "    else:\n",
    "        raise ValueError()"
   ]
  },
  {
   "cell_type": "code",
   "execution_count": 9,
   "id": "3ece1d1e-c153-4691-b2cb-e49c5c84049c",
   "metadata": {},
   "outputs": [],
   "source": [
    "def standardize_indices(expr):\n",
    "    if not expr.is_Mul:\n",
    "        raise ValueError()\n",
    "    struct = get_contraction_structure(expr)\n",
    "    indices = next(iter(struct))\n",
    "    if len(indices) == 3:\n",
    "        j, k, l = indices\n",
    "        return expr.subs({j: Idx(\"j\"), k: Idx(\"k\"), l: Idx(\"l\")})\n",
    "    else:\n",
    "        raise ValueError()"
   ]
  },
  {
   "cell_type": "code",
   "execution_count": 10,
   "id": "a746c5f0-f5f7-4d9a-ada3-dd851d190b08",
   "metadata": {},
   "outputs": [],
   "source": [
    "u_star = create_u_star()\n",
    "E = create_E().expand()"
   ]
  },
  {
   "cell_type": "code",
   "execution_count": 11,
   "id": "caf1fde4-c198-4630-8721-afe95fcc7ffe",
   "metadata": {},
   "outputs": [
    {
     "data": {
      "text/latex": [
       "$\\displaystyle u^\\star(\\lambda)=\\frac{\\ddddot{u}_0 \\lambda^{4}}{24} + \\frac{\\dddot{u}_0 \\lambda^{3}}{6} + \\frac{\\ddot{u}_0 \\lambda^{2}}{2} + \\dot{u}_0 \\lambda$"
      ],
      "text/plain": [
       "<IPython.core.display.Math object>"
      ]
     },
     "metadata": {},
     "output_type": "display_data"
    },
    {
     "data": {
      "text/latex": [
       "$\\displaystyle \\E(u, \\lambda)=- \\frac{\\E_{2} \\dddot{u}_0 \\lambda^{3} u}{6} - \\frac{\\E_{2} \\ddot{u}_0 \\lambda^{2} u}{2} - \\E_{2} \\dot{u}_0 \\lambda u + \\frac{\\E_{2} u^{2}}{2} + \\frac{\\E_{3} \\ddot{u}_0 \\dot{u}_0 \\lambda^{3} u}{2} - \\frac{\\E_{3} \\ddot{u}_0 \\lambda^{2} u^{2}}{4} + \\frac{\\E_{3} \\dot{u}_0^{2} \\lambda^{2} u}{2} - \\frac{\\E_{3} \\dot{u}_0 \\lambda u^{2}}{2} + \\frac{\\E_{3} u^{3}}{6} - \\frac{\\E_{4} \\dot{u}_0^{3} \\lambda^{3} u}{6} + \\frac{\\E_{4} \\dot{u}_0^{2} \\lambda^{2} u^{2}}{4} - \\frac{\\E_{4} \\dot{u}_0 \\lambda u^{3}}{6} + \\frac{\\E_{4} u^{4}}{24} + \\frac{\\E_{\\lambda\\lambda\\lambda\\lambda} \\lambda^{4}}{24} + \\frac{\\E_{\\lambda\\lambda\\lambda} \\lambda^{3}}{6} + \\frac{\\E_{\\lambda\\lambda} \\lambda^{2}}{2} + \\E_{\\lambda} \\lambda - \\frac{\\ddot{\\E}_2 \\dot{u}_0 \\lambda^{3} u}{2} + \\frac{\\ddot{\\E}_2 \\lambda^{2} u^{2}}{4} - \\frac{\\ddot{u}_0 \\dot{\\E}_2 \\lambda^{3} u}{2} - \\dot{\\E}_2 \\dot{u}_0 \\lambda^{2} u + \\frac{\\dot{\\E}_2 \\lambda u^{2}}{2} + \\frac{\\dot{\\E}_3 \\dot{u}_0^{2} \\lambda^{3} u}{2} - \\frac{\\dot{\\E}_3 \\dot{u}_0 \\lambda^{2} u^{2}}{2} + \\frac{\\dot{\\E}_3 \\lambda u^{3}}{6}$"
      ],
      "text/plain": [
       "<IPython.core.display.Math object>"
      ]
     },
     "metadata": {},
     "output_type": "display_data"
    }
   ],
   "source": [
    "#| code-fold: true\n",
    "display_latex_equation(r\"u^\\star(\\lambda)\", u_star)\n",
    "display_latex_equation(r\"\\E(u, \\lambda)\", E)"
   ]
  },
  {
   "cell_type": "markdown",
   "id": "f382cfbb-6e4a-4fb8-b2b5-5d384f60e060",
   "metadata": {},
   "source": [
    "## Outline of the strategy"
   ]
  },
  {
   "cell_type": "markdown",
   "id": "ff0d4b51-491a-486a-8ab9-5c133ecb1f9f",
   "metadata": {},
   "source": [
    "In this section, we show that, besides the fundamental branch $u^\\ast(\\lambda)$, other (bifurcated) equilibrium branches may pass through the critical point $(u_0, \\lambda_0)$. The starting point is the characterization of an equilibrium by the stationarity of the energy, which defines all equilibrium branches as implicit functions, which can be expanded with respect to some perturbation parameter."
   ]
  },
  {
   "cell_type": "markdown",
   "id": "dbab2d0c-472a-49ab-8ffa-d660996e9dbf",
   "metadata": {},
   "source": [
    "The approach adopted here relies on the Lyapunov–Schmidt decomposition (see below). Note that other approaches are possible, see e.g. @chak2018."
   ]
  },
  {
   "cell_type": "markdown",
   "id": "0e118269-d4a8-48e5-af66-bd2495cd6128",
   "metadata": {},
   "source": [
    "For a given value of $\\lambda$ (close to the critical value $\\lambda_0$), we seek an equilibrium point $u$ of the\n",
    "system, such that\n",
    "\n",
    "$$\n",
    "\\E_{,u}(u, \\lambda; \\hat{u}) = 0 \\quad \\text{for all} \\quad \\hat{u} \\in U.\n",
    "$$ {#eq-20230102025737}"
   ]
  },
  {
   "cell_type": "code",
   "execution_count": 12,
   "id": "eea4a2ff-8690-4a53-9a44-7d5f9570d007",
   "metadata": {},
   "outputs": [],
   "source": [
    "res = (create_E_u() * u_hat).expand()"
   ]
  },
  {
   "cell_type": "code",
   "execution_count": 13,
   "id": "31c28380-6ac4-424b-9aac-4beb54917c98",
   "metadata": {},
   "outputs": [
    {
     "data": {
      "text/latex": [
       "$\\displaystyle - \\frac{\\E_{2} \\dddot{u}_0 \\hat{u} \\lambda^{3}}{6} - \\frac{\\E_{2} \\ddot{u}_0 \\hat{u} \\lambda^{2}}{2} - \\E_{2} \\dot{u}_0 \\hat{u} \\lambda + \\E_{2} \\hat{u} u + \\frac{\\E_{3} \\ddot{u}_0 \\dot{u}_0 \\hat{u} \\lambda^{3}}{2} - \\frac{\\E_{3} \\ddot{u}_0 \\hat{u} \\lambda^{2} u}{2} + \\frac{\\E_{3} \\dot{u}_0^{2} \\hat{u} \\lambda^{2}}{2} - \\E_{3} \\dot{u}_0 \\hat{u} \\lambda u + \\frac{\\E_{3} \\hat{u} u^{2}}{2} - \\frac{\\E_{4} \\dot{u}_0^{3} \\hat{u} \\lambda^{3}}{6} + \\frac{\\E_{4} \\dot{u}_0^{2} \\hat{u} \\lambda^{2} u}{2} - \\frac{\\E_{4} \\dot{u}_0 \\hat{u} \\lambda u^{2}}{2} + \\frac{\\E_{4} \\hat{u} u^{3}}{6} - \\frac{\\ddot{\\E}_2 \\dot{u}_0 \\hat{u} \\lambda^{3}}{2} + \\frac{\\ddot{\\E}_2 \\hat{u} \\lambda^{2} u}{2} - \\frac{\\ddot{u}_0 \\dot{\\E}_2 \\hat{u} \\lambda^{3}}{2} - \\dot{\\E}_2 \\dot{u}_0 \\hat{u} \\lambda^{2} + \\dot{\\E}_2 \\hat{u} \\lambda u + \\frac{\\dot{\\E}_3 \\dot{u}_0^{2} \\hat{u} \\lambda^{3}}{2} - \\dot{\\E}_3 \\dot{u}_0 \\hat{u} \\lambda^{2} u + \\frac{\\dot{\\E}_3 \\hat{u} \\lambda u^{2}}{2}=0$"
      ],
      "text/plain": [
       "<IPython.core.display.Math object>"
      ]
     },
     "metadata": {},
     "output_type": "display_data"
    }
   ],
   "source": [
    "#| code-fold: true\n",
    "display_latex_equation(res, 0)"
   ]
  },
  {
   "cell_type": "markdown",
   "id": "69db1968-1142-42b6-8c7b-2a99fa467f5e",
   "metadata": {},
   "source": [
    "for all $\\hat{u} \\in U$."
   ]
  },
  {
   "cell_type": "markdown",
   "id": "01d308b0-b343-4474-aa2b-7ab6d31491a8",
   "metadata": {},
   "source": [
    "The equilibrium state $u$ is projected onto the orthogonal subspaces $V$ and $W$.\n",
    "$$\n",
    "u = u^\\ast(\\lambda) + \\xi_i \\, v_i + w, \\quad \\text{with} \\quad w \\in W.\n",
    "$$ {#eq-20220902174235}"
   ]
  },
  {
   "cell_type": "markdown",
   "id": "b38fa1a8-a75a-4f35-8a13-dddb3a8f2676",
   "metadata": {},
   "source": [
    "It follows from the orthogonality of $V$ and $W$ that $\\langle v_i, w \\rangle = 0$ for all $i=1, \\ldots, m$. Analysis of the bifurcated branches therefore reduces to finding $\\xi_1, \\ldots, \\xi_m \\in \\reals$ and $w \\in W$, such that\n",
    "$$\n",
    "\\E_{,u}[u^\\ast(\\lambda) + \\xi_i \\, v_i + w, \\lambda; \\hat{u}] = 0 \\quad \\text{for all} \\quad \\hat{u} \\in U.\n",
    "$$ {#eq-20230107164346}"
   ]
  },
  {
   "cell_type": "markdown",
   "id": "39ffed7d-0756-4078-bdb6-0364246f5811",
   "metadata": {},
   "source": [
    "The method proceeds in three steps\n",
    "\n",
    "1. Eq. (@eq-20230107164346) is first expressed for $\\hat{u} \\in W$ which leads to a definition of $w$ as an implicit function of $\\xi_1, \\ldots, \\xi_m$ and $\\lambda$ (see @sec-20230102030010),\n",
    "2. Eq. (@eq-20230107164346) is then expressed for $\\hat{u} \\in V$ which leads to a definition of $\\lambda$ as an implicit function of $\\xi_1, \\ldots, \\xi_m$ (see @sec-20230102030125),\n",
    "3. finally, a parametrization $\\eta$ of $\\xi_1, \\ldots, \\xi_m$ is introduced and the Taylor expansion of $u$ and $\\lambda$ with respect to $\\eta$ is derived (see @sec-20230102030224)."
   ]
  },
  {
   "cell_type": "markdown",
   "id": "c1a71bee-0226-44ae-a860-e87f0ac012f0",
   "metadata": {},
   "source": [
    "## Elimination of $w$ {#sec-20230102030010}"
   ]
  },
  {
   "cell_type": "markdown",
   "id": "beb5ae1e-e794-4de8-8b54-0b774c4c818f",
   "metadata": {},
   "source": [
    "We first test Eq. (@eq-20230102025737) with $\\hat{w} \\in W$\n",
    "$$\n",
    "\\E_{,u}[u^\\ast(\\lambda) + \\xi_i \\, v_i + w, \\lambda; \\hat{w}] = 0, \\quad \\text{for all} \\quad \\hat{w} \\in W.\n",
    "$$ {#eq-20220825143616}"
   ]
  },
  {
   "cell_type": "markdown",
   "id": "b70f0325-04d5-4506-84d2-53c8da64386c",
   "metadata": {},
   "source": [
    "This defines $w$ as an implicit function of $\\xi_1, \\ldots, \\xi_m$ and $\\lambda$. The following asymptotic expansion about $\\xi_1 = \\cdots = \\xi_m = 0$ and $\\lambda = \\lambda_0$ is postulated\n",
    "$$\n",
    "\\begin{aligned}\n",
    "w(\\xi_1, \\ldots, \\xi_m, \\lambda) ={} & \\xi_i \\, w_i + \\bigl( \\lambda - \\lambda_0 \\bigr) \\, w_\\lambda + \\tfrac{1}{2} \\xi_i \\, \\xi_j \\, w_{ij}\\\\\n",
    "&+ \\tfrac{1}{2} \\bigl( \\lambda - \\lambda_0 \\bigr)^2 w_{\\lambda\\lambda} + \\xi_i \\, \\bigl( \\lambda - \\lambda_0 \\bigr) w_{i\\lambda} + \\cdots,\n",
    "\\end{aligned}\n",
    "$$ {#eq-20230107172048}\n",
    "where $w_i$, $w_\\lambda$, $w_{ij}$, $w_{\\lambda\\lambda}$ and $w_{i\\lambda}$ are elements of $W$ to be defined."
   ]
  },
  {
   "cell_type": "markdown",
   "id": "25cfcd4d-3732-440f-a8dd-ee773f615add",
   "metadata": {},
   "source": [
    "In what follows, Eq. (@eq-20230107172048) is plugged into Eq. (@eq-20220825143616), which then delivers an asymptotic expansion of the stationarity equation. We will nullify the terms of order up to 2 in $\\xi_i$ and $\\lambda$."
   ]
  },
  {
   "cell_type": "markdown",
   "id": "07aa22dd-0c28-41fd-b2a1-1e8b39adc0d0",
   "metadata": {},
   "source": [
    "It is observed that the residual $\\E_{,u}$ involves $\\E_3(u, u, \\hat{u})$ and $\\E_4(u, u, u, \\hat{u})$. Since all terms of $u$ are of order 1 or more in $\\xi_i$ and $\\lambda$, $\\E_4(u, u, u, \\hat{u})$ will not be considered below. However $\\E_3(u, u, \\hat{u})$ will need to be properly defined index-wise. Therefore, we need to defined two equivalent expressions of $u$ with two different set of indices."
   ]
  },
  {
   "cell_type": "code",
   "execution_count": 14,
   "id": "55c84f37-434e-43c0-a832-87aa0fd33f09",
   "metadata": {},
   "outputs": [],
   "source": [
    "create_λ = default_λ_fun\n",
    "\n",
    "def create_w():\n",
    "    i = new_index()\n",
    "    j = new_index()\n",
    "    k = new_index()\n",
    "    l = new_index()\n",
    "    _λ = Idx(\"\\lambda\")\n",
    "    return (t * ξ_[i] * w_[i] + create_λ() * w_[_λ] \n",
    "            + (t**2 * ξ_[j] * ξ_[k] * w_[j, k]\n",
    "               + 2 * create_λ() * t * ξ_[l] * w_[l, _λ]\n",
    "               + create_λ() * create_λ() * w_[_λ, _λ]) / 2)\n",
    "    \n",
    "def create_u():\n",
    "    i = new_index()\n",
    "    return (create_u_star(create_λ) + t * ξ_[i] * v_[i] + create_w())"
   ]
  },
  {
   "cell_type": "code",
   "execution_count": 15,
   "id": "469e1620-8f7c-45a0-a5ed-c2fcc5d58862",
   "metadata": {},
   "outputs": [],
   "source": [
    "res_w = expand(create_E_u(u_fun=create_u) * w_hat)"
   ]
  },
  {
   "cell_type": "markdown",
   "id": "6f550b36-5628-49fe-b24d-f4a2e8bc9e13",
   "metadata": {},
   "source": [
    "We can then nullify the various coefficients of this polynomial expansion, starting with the terms of order 1 in $\\xi_i$, which delivers the following variational problem"
   ]
  },
  {
   "cell_type": "code",
   "execution_count": 16,
   "id": "f1a788ed-6bd6-417f-aa7c-564f6e249bf8",
   "metadata": {},
   "outputs": [
    {
     "data": {
      "text/latex": [
       "$\\displaystyle \\E_{2} \\hat{w} {\\xi}_{Idx\\left(i_{0}\\right)} {v}_{Idx\\left(i_{0}\\right)} + \\E_{2} \\hat{w} {\\xi}_{Idx\\left(i_{1}\\right)} {w}_{Idx\\left(i_{1}\\right)} = 0$"
      ],
      "text/plain": [
       "Eq(\\E_2*\\hat{w}*\\xi[i_{0}]*v[i_{0}] + \\E_2*\\hat{w}*\\xi[i_{1}]*w[i_{1}], 0)"
      ]
     },
     "execution_count": 16,
     "metadata": {},
     "output_type": "execute_result"
    }
   ],
   "source": [
    "λ = create_λ()\n",
    "Eq(res_w.coeff(t, 1).subs(λ, 0), 0)"
   ]
  },
  {
   "cell_type": "markdown",
   "id": "e40bafda-f5da-406d-b86c-788c5a5abbaa",
   "metadata": {},
   "source": [
    "for all $\\hat{w} \\in W$. Since $v_i \\in V$, we have: $\\E_2(v_i, \\bullet) = 0$ and the above variational problem reduces to"
   ]
  },
  {
   "cell_type": "markdown",
   "id": "948a2ccb-e811-430d-8d1a-924bfa6e0252",
   "metadata": {},
   "source": [
    "$$\n",
    "\\E_2(w_i, \\hat{w}) = 0 \\quad \\text{for all} \\quad \\hat{w} \\in W.\n",
    "$$"
   ]
  },
  {
   "cell_type": "markdown",
   "id": "6d279ef6-994a-483b-bc6c-804f7a877b34",
   "metadata": {},
   "source": [
    "As argued in @sec-20230107173921, this leads to $w_i = 0$."
   ]
  },
  {
   "cell_type": "markdown",
   "id": "36a570a7-bdbf-471c-81ac-1e2e962f4a67",
   "metadata": {},
   "source": [
    "Similarly, we find the term or of order 1 in $\\lambda$, and evaluate it at $\\xi_1 = \\cdots = \\xi_m = 0$. Unfortunately, substitutions do not work with indexed quantities. Since all occurences of $\\xi_i$ have been scaled by $t$ so as to keep track of the order of each term, a workaround is to set $t$ to 0. This delivers the following variational problem"
   ]
  },
  {
   "cell_type": "code",
   "execution_count": 17,
   "id": "ddb54699-a00d-4314-8530-776aac801162",
   "metadata": {},
   "outputs": [
    {
     "data": {
      "text/latex": [
       "$\\displaystyle \\E_{2} \\hat{w} {w}_{Idx\\left(\\lambda\\right)}$"
      ],
      "text/plain": [
       "\\E_2*\\hat{w}*w[\\lambda]"
      ]
     },
     "execution_count": 17,
     "metadata": {},
     "output_type": "execute_result"
    }
   ],
   "source": [
    "res_w.coeff(λ, 1).subs(t, 0)"
   ]
  },
  {
   "cell_type": "markdown",
   "id": "45290af4-9c26-40b9-bee7-24443f205f03",
   "metadata": {},
   "source": [
    "for all $\\hat{w} \\in W$. The same argument leads to $w_\\lambda = 0$."
   ]
  },
  {
   "cell_type": "markdown",
   "id": "ad6dbfce-15a2-448b-a7d8-bcc660e50863",
   "metadata": {},
   "source": [
    "Similarly again, for the term of order 2 in $\\lambda$ (remembering that $w_\\lambda = 0$)"
   ]
  },
  {
   "cell_type": "code",
   "execution_count": 18,
   "id": "7d6306f1-5376-4295-b577-9c019fe9e893",
   "metadata": {},
   "outputs": [
    {
     "data": {
      "text/latex": [
       "$\\displaystyle \\frac{\\E_{2} \\hat{w} {w}_{Idx\\left(\\lambda\\right),Idx\\left(\\lambda\\right)}}{2} = 0$"
      ],
      "text/plain": [
       "Eq(\\E_2*\\hat{w}*w[\\lambda, \\lambda]/2, 0)"
      ]
     },
     "execution_count": 18,
     "metadata": {},
     "output_type": "execute_result"
    }
   ],
   "source": [
    "(eq := Eq(res_w.coeff(λ, 2).subs({\n",
    "    t: 0,\n",
    "    w_[Idx(r\"\\lambda\")]: 0\n",
    "}), 0))"
   ]
  },
  {
   "cell_type": "markdown",
   "id": "8815d924-7ebc-4c7e-8d41-1b7d36490cc9",
   "metadata": {},
   "source": [
    "for all $\\hat{w} \\in W$ and $w_{\\lambda\\lambda} = 0$."
   ]
  },
  {
   "cell_type": "markdown",
   "id": "ba36b56c-65b3-476e-b4d8-bd0e54527fb6",
   "metadata": {},
   "source": [
    "To sum up, we have found so far that $w_i = w_\\lambda = w_{\\lambda\\lambda} = 0$. At this point, it is interesting to override the function `_w()`, taking into account all these simplifications. From now on, $w_{ij}$ and $w_{i\\lambda}$ will be defined as two different `IndexedBase` objects."
   ]
  },
  {
   "cell_type": "code",
   "execution_count": 19,
   "id": "b03a12af-6f0a-4781-9c1d-8ed5d759cc20",
   "metadata": {},
   "outputs": [],
   "source": [
    "def create_w():\n",
    "    j = new_index()\n",
    "    k = new_index()\n",
    "    l = new_index()\n",
    "    _λ = Idx(r\"\\lambda\")\n",
    "    return t**2 * ξ_[j] * ξ_[k] * w_[j, k] / 2 + create_λ() * t * ξ_[l] * w_[l, _λ]"
   ]
  },
  {
   "cell_type": "markdown",
   "id": "3472659d-832a-4922-8305-b5af8ce78f5b",
   "metadata": {},
   "source": [
    "We can then re-evaluate the residual"
   ]
  },
  {
   "cell_type": "code",
   "execution_count": 20,
   "id": "a632c770-847d-451c-8f09-37631546e252",
   "metadata": {
    "tags": []
   },
   "outputs": [],
   "source": [
    "res_w = expand(create_E_u(u_fun=create_u) * w_hat)"
   ]
  },
  {
   "cell_type": "markdown",
   "id": "71b28c46-ff72-49ee-822c-ff43f0148852",
   "metadata": {},
   "source": [
    "The $\\xi_i \\, \\xi_j$ terms deliver the following variational problem"
   ]
  },
  {
   "cell_type": "code",
   "execution_count": 21,
   "id": "21a4b7a6-9f4b-4b4e-ba66-66b4b82bc2fa",
   "metadata": {},
   "outputs": [
    {
     "data": {
      "text/latex": [
       "$\\displaystyle \\frac{\\E_{2} \\hat{w} {\\xi}_{Idx\\left(i_{51}\\right)} {\\xi}_{Idx\\left(i_{52}\\right)} {w}_{Idx\\left(i_{51}\\right),Idx\\left(i_{52}\\right)}}{2} + \\frac{\\E_{3} \\hat{w} {\\xi}_{Idx\\left(i_{54}\\right)} {\\xi}_{Idx\\left(i_{58}\\right)} {v}_{Idx\\left(i_{54}\\right)} {v}_{Idx\\left(i_{58}\\right)}}{2} = 0$"
      ],
      "text/plain": [
       "Eq(\\E_2*\\hat{w}*\\xi[i_{51}]*\\xi[i_{52}]*w[i_{51}, i_{52}]/2 + \\E_3*\\hat{w}*\\xi[i_{54}]*\\xi[i_{58}]*v[i_{54}]*v[i_{58}]/2, 0)"
      ]
     },
     "execution_count": 21,
     "metadata": {},
     "output_type": "execute_result"
    }
   ],
   "source": [
    "lhs = res_w.coeff(t, 2).subs(λ, 0).expand()\n",
    "Eq(lhs, 0)"
   ]
  },
  {
   "cell_type": "markdown",
   "id": "d8636a18-8618-48e7-a3ab-00b5cb98074c",
   "metadata": {},
   "source": [
    "for all $\\hat{w} \\in W$ and $\\xi_1, \\ldots, \\xi_m \\in \\reals$ (small enough). This variational problem  should be understood as"
   ]
  },
  {
   "cell_type": "markdown",
   "id": "4247a6aa-64d9-4c13-8899-a8823d85d64c",
   "metadata": {},
   "source": [
    "$$\n",
    "\\xi_i \\, \\xi_j \\, \\bigl[ \\E_2(w_{ij}, \\hat{w}) + \\E_3(v_i, v_j, \\hat{w}) \\bigr] = 0\n",
    "\\quad \\text{for all} \\quad \\hat{w} \\in W.\n",
    "$$"
   ]
  },
  {
   "cell_type": "markdown",
   "id": "d9e9c8bb-d334-4ab7-89e7-8b5de10e16b8",
   "metadata": {},
   "source": [
    "for all $\\hat{w} \\in W$ and $\\xi_1, \\ldots, \\xi_m$ *small enough*. Since the above expression is homogeneous in $\\xi_i$, it must in fact vanish *for all* $\\xi_1, \\ldots, \\xi_m$. The resulting variational problem then coincides with (@eq-20230107180410). The $\\xi_i \\, \\xi_j$ term of the asymptotic expansion of $w$ is therefore exactly $w_{ij}$ defined in @sec-20230402152824."
   ]
  },
  {
   "cell_type": "markdown",
   "id": "e2320f2e-8909-457b-8a35-558b86037db4",
   "metadata": {},
   "source": [
    "Finally, the $\\xi_i \\, \\lambda$ terms deliver the following variational problem"
   ]
  },
  {
   "cell_type": "code",
   "execution_count": 22,
   "id": "34cff5f4-3f8c-4825-8ff6-3b9f2d5670e8",
   "metadata": {},
   "outputs": [
    {
     "data": {
      "text/latex": [
       "$\\displaystyle \\E_{2} \\hat{w} {\\xi}_{Idx\\left(i_{53}\\right)} {w}_{Idx\\left(i_{53}\\right),Idx\\left(\\lambda\\right)} + \\frac{\\E_{3} \\dot{u}_0 \\hat{w} {\\xi}_{Idx\\left(i_{54}\\right)} {v}_{Idx\\left(i_{54}\\right)}}{2} + \\frac{\\E_{3} \\dot{u}_0 \\hat{w} {\\xi}_{Idx\\left(i_{58}\\right)} {v}_{Idx\\left(i_{58}\\right)}}{2} - \\E_{3} \\dot{u}_0 \\hat{w} {\\xi}_{Idx\\left(i_{62}\\right)} {v}_{Idx\\left(i_{62}\\right)} + \\dot{\\E}_2 \\hat{w} {\\xi}_{Idx\\left(i_{62}\\right)} {v}_{Idx\\left(i_{62}\\right)} = 0$"
      ],
      "text/plain": [
       "Eq(\\E_2*\\hat{w}*\\xi[i_{53}]*w[i_{53}, \\lambda] + \\E_3*\\dot{u}_0*\\hat{w}*\\xi[i_{54}]*v[i_{54}]/2 + \\E_3*\\dot{u}_0*\\hat{w}*\\xi[i_{58}]*v[i_{58}]/2 - \\E_3*\\dot{u}_0*\\hat{w}*\\xi[i_{62}]*v[i_{62}] + \\dot{\\E}_2*\\hat{w}*\\xi[i_{62}]*v[i_{62}], 0)"
      ]
     },
     "execution_count": 22,
     "metadata": {},
     "output_type": "execute_result"
    }
   ],
   "source": [
    "lhs = res_w.coeff(t, 1).coeff(λ, 1).subs(λ, 0).expand()\n",
    "Eq(lhs, 0)"
   ]
  },
  {
   "cell_type": "markdown",
   "id": "86743904-5826-40b5-bd8d-3ef46cfa8b0f",
   "metadata": {},
   "source": [
    "In the above expression, each term contains only one summation index, which is renamed $i$. This transformation delivers the following variational problem."
   ]
  },
  {
   "cell_type": "code",
   "execution_count": 23,
   "id": "818ae2ba-ecf3-4436-b526-8b403800710c",
   "metadata": {},
   "outputs": [],
   "source": [
    "terms = lhs.args\n",
    "lhs = 0\n",
    "\n",
    "for term in terms:\n",
    "    d = get_contraction_structure(term)\n",
    "    (i_,), = d.keys()\n",
    "    lhs += term.subs(i_, i)"
   ]
  },
  {
   "cell_type": "code",
   "execution_count": 24,
   "id": "245b50b2-cd17-44f0-ba15-f0cf53792329",
   "metadata": {},
   "outputs": [
    {
     "data": {
      "text/latex": [
       "$\\displaystyle \\E_{2} \\hat{w} {\\xi}_{Idx\\left(i\\right)} {w}_{Idx\\left(i\\right),Idx\\left(\\lambda\\right)} + \\dot{\\E}_2 \\hat{w} {\\xi}_{Idx\\left(i\\right)} {v}_{Idx\\left(i\\right)}=0$"
      ],
      "text/plain": [
       "<IPython.core.display.Math object>"
      ]
     },
     "metadata": {},
     "output_type": "display_data"
    }
   ],
   "source": [
    "#| code-fold: true\n",
    "display_latex_equation(lhs, 0)"
   ]
  },
  {
   "cell_type": "markdown",
   "id": "38699dbd-63eb-4b4c-b217-3f73efe705d6",
   "metadata": {},
   "source": [
    "for all $\\hat{w} \\in W$ and $\\xi_1, \\ldots, \\xi_m \\in \\reals$. We recognize the variational problem (@eq-20230107180501). In other words, the $\\xi_i \\, \\lambda$ term of the asymptotic expansion of $w$ is $w_{i\\lambda}$ defined in @sec-20230402152824."
   ]
  },
  {
   "cell_type": "markdown",
   "id": "14bf5306-e756-41d4-8a97-995c83f0669c",
   "metadata": {},
   "source": [
    "So far, we have found the following expansion of $w$"
   ]
  },
  {
   "cell_type": "markdown",
   "id": "f2d23d18-08fe-4b8b-9fcb-6fbd5b98daf7",
   "metadata": {},
   "source": [
    "$$\n",
    "w(\\xi_1, \\ldots, \\xi_m, \\lambda) = \\tfrac{1}{2} \\xi_i \\, \\xi_j \\, w_{ij} + \\xi_i \\, \\bigl( \\lambda - \\lambda_0 \\bigr) w_{i\\lambda} + \\cdots,\n",
    "$$"
   ]
  },
  {
   "cell_type": "markdown",
   "id": "1e3fc646-6f21-426a-8764-ec7211ed3ea2",
   "metadata": {},
   "source": [
    "where $w_{ij}$ and $w_{i\\lambda}$ are defined by Eqs. (@eq-20230107180410) and (@eq-20230107180501), respectively."
   ]
  },
  {
   "cell_type": "markdown",
   "id": "b6d5cff6-fd2d-452f-875c-dee5cc6151db",
   "metadata": {
    "tags": []
   },
   "source": [
    "## Elimination of $\\lambda$ {#sec-20230102030125}\n",
    "\n",
    "We now test Eq. (@eq-20230102025737) with $\\hat{u} = v_i$ ($i = 1, \\ldots, m$)\n",
    "\n",
    "$$\n",
    "\\E_{,u}[u^\\ast(\\lambda) + \\xi_j \\, v_j + w(\\xi_1, \\ldots, \\xi_m, \\lambda), \\lambda; v_i] = 0, \\quad \\text{for all} \\quad i = 1, \\ldots, m.\n",
    "$$ {#eq-20230110092313}\n",
    "\n",
    "This now defines $\\lambda$ as an implicit function of $\\xi_1, \\ldots, \\xi_m$. The following asymptotic expansion\n",
    "about $\\xi_1 = \\cdots = \\xi_m = 0$ is postulated\n",
    "\n",
    "$$\n",
    "\\lambda(\\xi_1, \\ldots, \\xi_m) = \\xi_i \\, \\lambda_i + \\tfrac{1}{2} \\, \\xi_i \\, \\xi_j \\, \\lambda_{ij} + \\ldots\n",
    "$$ {#eq-20230110091031}\n",
    "\n",
    "where $\\lambda_i$ and $\\lambda_{ij}$ are scalar coefficients to be defined below.\n",
    "\n",
    "We first override the function `create_λ()` that creates (with unique indices) the SymPy expression for the asymptotic expansions of  $(\\xi_1, \\ldots, \\xi_m) \\mapsto \\lambda(\\xi_1, \\ldots, \\xi_m)$ according to Eq. (@eq-20230110091031). Since the functions `create_u()` and `create_w()` call `_λ()` internally, there is no need to redefine them to implement the asymptotic expansions of $(\\xi_1, \\ldots, \\xi_m, \\lambda) \\mapsto w(\\xi_1, \\ldots, \\xi_m, \\lambda)$ and $(\\xi_1, \\ldots, \\xi_m) \\mapsto u(\\xi_1, \\ldots, \\xi_m)$ according to Eqs. (@eq-20230107172048) and (@eq-20220902174235)."
   ]
  },
  {
   "cell_type": "raw",
   "id": "11df1f14-f1e5-47d4-98dc-b0f8546cad14",
   "metadata": {
    "tags": []
   },
   "source": [
    ":::{.callout-note}"
   ]
  },
  {
   "cell_type": "markdown",
   "id": "788c9888-6d01-4417-a3f7-4fa6427c15b1",
   "metadata": {
    "tags": []
   },
   "source": [
    "Although $\\lambda$ is expanded to second-order in $\\xi_i$, we will consider third-order terms of the energy below. Therefore, we must make sure that the third-order term of the residual does not involve the third-order term of $\\lambda$. To do so, we define the third-order term of the expansion of $\\lambda$ as a symbol, $\\order[3]{\\lambda}$. We will check later on that this term disappears from the third-order expansion of the energy. We also include the $\\mathcal{O}(t^4)$ term, that will speed up subsequent calculations (by cancelling many terms)."
   ]
  },
  {
   "cell_type": "raw",
   "id": "1ad016f3-83dd-41ee-a760-e8f824937ba5",
   "metadata": {},
   "source": [
    ":::"
   ]
  },
  {
   "cell_type": "code",
   "execution_count": 25,
   "id": "0ff156b3-9bea-4ca9-9bd7-a3a2ea5147ab",
   "metadata": {},
   "outputs": [],
   "source": [
    "λ3 = Symbol(r\"\\order[3]{\\lambda}\")\n",
    "\n",
    "def create_λ():\n",
    "    i = new_index()\n",
    "    j = new_index()\n",
    "    k = new_index()\n",
    "    return t * ξ_[i] * λ_[i] + t**2 / 2 * ξ_[j] * ξ_[k] * λ_[j, k] + t**3 * λ3 + O(t**4)"
   ]
  },
  {
   "cell_type": "markdown",
   "id": "4990bb66-f958-436b-9505-4b29bdc1839a",
   "metadata": {},
   "source": [
    "Then, the above expansions are plugged into the general expression of $\\E_{,u}(u, \\lambda; \\bullet)$ and tested with $\\hat{v} \\in V$, see Eq. (@eq-20230110092313)."
   ]
  },
  {
   "cell_type": "code",
   "execution_count": 26,
   "id": "1e0b4a89-94ff-44fa-a96a-cfa23e3174bc",
   "metadata": {},
   "outputs": [],
   "source": [
    "res_v = expand(create_E_u(u_fun=create_u, λ_fun=create_λ) * v_[i]).removeO()"
   ]
  },
  {
   "cell_type": "markdown",
   "id": "58c8c6f8-4ce4-48c0-9f79-bd933697e7fd",
   "metadata": {},
   "source": [
    "We get an asymptotic expansion of the residual with respect to $\\xi_1, \\ldots, \\xi_m$. This residual must vanish for all $\\xi_i$ sufficiently small. Therefore, all coefficients of the expansion `res_v` must be nullified at all orders and for all $\\xi_i$ sufficiently small. Considering the expansion up to third order, we get after simplification only *two* bifurcation equations, since the terms of order 0 and 1 are identically null, as verified below."
   ]
  },
  {
   "cell_type": "code",
   "execution_count": 27,
   "id": "f39736f9-6c5d-43f4-8d70-44fe54886daa",
   "metadata": {},
   "outputs": [],
   "source": [
    "assert res_v.coeff(t, 0) == 0\n",
    "assert res_v.coeff(t, 1).subs(E2 * v_[i], 0) == 0"
   ]
  },
  {
   "cell_type": "markdown",
   "id": "f14578c2-821a-4a5e-8965-396688b3b8f1",
   "metadata": {},
   "source": [
    "We now consider the terms of order 2 in $\\xi_i$ and again standardize the indices: each occurence of $\\lambda_a \\, \\xi_a$ is transformed into $\\lambda_j \\, \\xi_j$, the remaining summation index being renamed $k$."
   ]
  },
  {
   "cell_type": "code",
   "execution_count": 28,
   "id": "a786274f-acfb-41a7-a64c-eaf50640b245",
   "metadata": {},
   "outputs": [
    {
     "data": {
      "text/latex": [
       "$\\displaystyle \\frac{\\E_{3} {\\xi}_{Idx\\left(j\\right)} {\\xi}_{Idx\\left(k\\right)} {v}_{Idx\\left(i\\right)} {v}_{Idx\\left(j\\right)} {v}_{Idx\\left(k\\right)}}{2} + \\dot{\\E}_2 {\\lambda}_{Idx\\left(j\\right)} {\\xi}_{Idx\\left(j\\right)} {\\xi}_{Idx\\left(k\\right)} {v}_{Idx\\left(i\\right)} {v}_{Idx\\left(k\\right)} = 0$"
      ],
      "text/plain": [
       "Eq(\\E_3*\\xi[j]*\\xi[k]*v[i]*v[j]*v[k]/2 + \\dot{\\E}_2*\\lambda[j]*\\xi[j]*\\xi[k]*v[i]*v[k], 0)"
      ]
     },
     "execution_count": 28,
     "metadata": {},
     "output_type": "execute_result"
    }
   ],
   "source": [
    "lhs1 = res_v.coeff(t, 2).expand().subs(E2 * v_[i], 0)\n",
    "\n",
    "terms = lhs1.args\n",
    "lhs1 = 0\n",
    "\n",
    "for term in terms:\n",
    "    indices = next(iter(get_contraction_structure(term).keys()))\n",
    "    i1, i2 = indices\n",
    "    if degree(term, ξ_[i1]) == 1 and degree(term, λ_[i1]) == 1:\n",
    "        term = term.subs({i1: j, i2: k})\n",
    "    elif degree(term, ξ_[i2]) == 1 and degree(term, λ_[i2]) == 1:\n",
    "        term = term.subs({i2: j, i1: k})\n",
    "    else:\n",
    "        term = term.subs({i2: j, i1: k})\n",
    "    lhs1 += term\n",
    "\n",
    "Eq(lhs1, 0)"
   ]
  },
  {
   "cell_type": "markdown",
   "id": "3734dc8e-9125-4151-8388-874e1afd0a83",
   "metadata": {},
   "source": [
    "And, introducing the symbols $\\dot{E}_{ij}$ and $E_{ijk}$, defined by Eqs. (@eq-20230125062505) and (@eq-20230125062510), respectively, we get the first equation."
   ]
  },
  {
   "cell_type": "code",
   "execution_count": 29,
   "id": "4573d205-84fa-495c-b277-9ba15c6d18e9",
   "metadata": {},
   "outputs": [],
   "source": [
    "lhs1 = lhs1.subs({\n",
    "    E3 * v_[i] * v_[j] * v_[k]: E_[i, j, k],\n",
    "    λ_[j] * ξ_[j] * ξ_[k] * E2_dot * v_[i] * v_[k]: λ_[k] * ξ_[j] * ξ_[k] * E_dot_[i, j]\n",
    "})"
   ]
  },
  {
   "cell_type": "code",
   "execution_count": 30,
   "id": "0f54e1f2-38a1-4816-b710-fc3b4de51995",
   "metadata": {},
   "outputs": [
    {
     "data": {
      "text/latex": [
       "$\\displaystyle \\frac{{E}_{Idx\\left(i\\right),Idx\\left(j\\right),Idx\\left(k\\right)} {\\xi}_{Idx\\left(j\\right)} {\\xi}_{Idx\\left(k\\right)}}{2} + {\\dot{E}}_{Idx\\left(i\\right),Idx\\left(j\\right)} {\\lambda}_{Idx\\left(k\\right)} {\\xi}_{Idx\\left(j\\right)} {\\xi}_{Idx\\left(k\\right)}=0$"
      ],
      "text/plain": [
       "<IPython.core.display.Math object>"
      ]
     },
     "metadata": {},
     "output_type": "display_data"
    }
   ],
   "source": [
    "#| code-fold: true\n",
    "display_latex_equation(lhs1, 0)"
   ]
  },
  {
   "cell_type": "markdown",
   "id": "29080532-a31c-402c-8f84-5ad0567fb890",
   "metadata": {},
   "source": [
    "which also reads"
   ]
  },
  {
   "cell_type": "markdown",
   "id": "a5c7829f-c93e-4073-aa13-8a9efbd5332f",
   "metadata": {},
   "source": [
    "$$\n",
    "\\xi_j \\, \\xi_k \\, \\bigl( \\tfrac{1}{2} E_{ijk} + \\lambda_k \\, \\dot{E}_{ij} \\bigr) = 0,\n",
    "$$ {#eq-20230115101130}"
   ]
  },
  {
   "cell_type": "markdown",
   "id": "959b0b57-bfc4-4ec9-a5cf-fabbff51c48f",
   "metadata": {},
   "source": [
    "for all $\\xi_1, \\ldots, \\xi_m \\in \\reals$."
   ]
  },
  {
   "cell_type": "raw",
   "id": "69102d86-feb3-4e97-a84c-aa8e6f583b5f",
   "metadata": {},
   "source": [
    "::: {.callout-note}"
   ]
  },
  {
   "cell_type": "markdown",
   "id": "a02df911-c46a-4e05-a58b-3a657a21240e",
   "metadata": {},
   "source": [
    "Eq. (@eq-20230115101130) results from an asymptotic expansion w.r.t. the $\\xi_i$. As such it needs only be satisfied for all $\\xi_1, \\ldots, \\xi_m$ *small enough*. However, this equation is homogeneous of degree 2 w.r.t. the $\\xi_i$. Therefore, it indeed holds for all $\\xi_1, \\ldots, \\xi_m \\in \\reals$."
   ]
  },
  {
   "cell_type": "raw",
   "id": "130d77c5-3d98-4023-9ed8-0230b2a98f15",
   "metadata": {},
   "source": [
    ":::"
   ]
  },
  {
   "cell_type": "markdown",
   "id": "3d94e1e6-0560-4855-8d4e-2c68931282fb",
   "metadata": {},
   "source": [
    "Turning now to the term of third-order in $\\xi_i$, the expression with unique indices is **hudge**. Using in each term standard index names ($j$, $k$, $l$) reduces the expression considerably (since many terms that are actually symmetric in these three indices cancel out)."
   ]
  },
  {
   "cell_type": "code",
   "execution_count": 31,
   "id": "5d228c10-e220-4097-9794-24b7e8e79821",
   "metadata": {
    "tags": []
   },
   "outputs": [],
   "source": [
    "_λ = Idx(r\"\\lambda\")\n",
    "\n",
    "lhs2 = res_v.coeff(t, 3)\n",
    "lhs2 = lhs2.subs(E2 * v_[i], 0).expand()\n",
    "\n",
    "terms = lhs2.args\n",
    "lhs2 = 0\n",
    "for term in terms:\n",
    "    lhs2 += standardize_indices(term)\n",
    "\n",
    "lhs2 = lhs2.subs(w_is_symmetric).subs(λ_is_symmetric)\n",
    "    \n",
    "λl_vj_wkλ = λ_[l] * v_[j] * w_[k, _λ]\n",
    "vj_wkl = v_[j] * w_[k, l]\n",
    "\n",
    "lhs2 = lhs2.subs({\n",
    "    λ_[k, l] * v_[j]: λ_[j, k] * v_[l],\n",
    "    λ_[j, l] * v_[k]: λ_[j, k] * v_[l],\n",
    "    λ_[j] * v_[k] * w_[l, _λ]: λl_vj_wkλ,\n",
    "    λ_[j] * v_[l] * w_[k, _λ]: λl_vj_wkλ,\n",
    "    λ_[k] * v_[j] * w_[l, _λ]: λl_vj_wkλ,\n",
    "    λ_[k] * v_[l] * w_[j, _λ]: λl_vj_wkλ,\n",
    "    v_[k] * w_[j, l]: vj_wkl,\n",
    "    v_[l] * w_[j, k]: vj_wkl,\n",
    "})"
   ]
  },
  {
   "cell_type": "markdown",
   "id": "c33ac351-8daa-4221-a535-e6b0c361e0f7",
   "metadata": {},
   "source": [
    "And we get the second equation  (which is homogeneous of degree 3 w.r.t. the $\\xi_i$ and must therefore hold even for large values of these parameters)"
   ]
  },
  {
   "cell_type": "code",
   "execution_count": 32,
   "id": "a72be8c7-3350-4386-bed4-249d6920e163",
   "metadata": {},
   "outputs": [
    {
     "data": {
      "text/latex": [
       "$\\displaystyle \\E_{3} {\\lambda}_{Idx\\left(l\\right)} {\\xi}_{Idx\\left(j\\right)} {\\xi}_{Idx\\left(k\\right)} {\\xi}_{Idx\\left(l\\right)} {v}_{Idx\\left(i\\right)} {v}_{Idx\\left(j\\right)} {w}_{Idx\\left(k\\right),Idx\\left(\\lambda\\right)} + \\frac{\\E_{3} {\\xi}_{Idx\\left(j\\right)} {\\xi}_{Idx\\left(k\\right)} {\\xi}_{Idx\\left(l\\right)} {v}_{Idx\\left(i\\right)} {v}_{Idx\\left(j\\right)} {w}_{Idx\\left(k\\right),Idx\\left(l\\right)}}{2} + \\frac{\\E_{4} {\\xi}_{Idx\\left(j\\right)} {\\xi}_{Idx\\left(k\\right)} {\\xi}_{Idx\\left(l\\right)} {v}_{Idx\\left(i\\right)} {v}_{Idx\\left(j\\right)} {v}_{Idx\\left(k\\right)} {v}_{Idx\\left(l\\right)}}{6} + \\frac{\\ddot{\\E}_2 {\\lambda}_{Idx\\left(j\\right)} {\\lambda}_{Idx\\left(k\\right)} {\\xi}_{Idx\\left(j\\right)} {\\xi}_{Idx\\left(k\\right)} {\\xi}_{Idx\\left(l\\right)} {v}_{Idx\\left(i\\right)} {v}_{Idx\\left(l\\right)}}{2} + \\frac{\\dot{\\E}_2 {\\lambda}_{Idx\\left(j\\right),Idx\\left(k\\right)} {\\xi}_{Idx\\left(j\\right)} {\\xi}_{Idx\\left(k\\right)} {\\xi}_{Idx\\left(l\\right)} {v}_{Idx\\left(i\\right)} {v}_{Idx\\left(l\\right)}}{2} + \\dot{\\E}_2 {\\lambda}_{Idx\\left(j\\right)} {\\lambda}_{Idx\\left(k\\right)} {\\xi}_{Idx\\left(j\\right)} {\\xi}_{Idx\\left(k\\right)} {\\xi}_{Idx\\left(l\\right)} {v}_{Idx\\left(i\\right)} {w}_{Idx\\left(l\\right),Idx\\left(\\lambda\\right)} + \\frac{\\dot{\\E}_2 {\\lambda}_{Idx\\left(j\\right)} {\\xi}_{Idx\\left(j\\right)} {\\xi}_{Idx\\left(k\\right)} {\\xi}_{Idx\\left(l\\right)} {v}_{Idx\\left(i\\right)} {w}_{Idx\\left(k\\right),Idx\\left(l\\right)}}{2} + \\frac{\\dot{\\E}_3 {\\lambda}_{Idx\\left(j\\right)} {\\xi}_{Idx\\left(j\\right)} {\\xi}_{Idx\\left(k\\right)} {\\xi}_{Idx\\left(l\\right)} {v}_{Idx\\left(i\\right)} {v}_{Idx\\left(k\\right)} {v}_{Idx\\left(l\\right)}}{2}=0$"
      ],
      "text/plain": [
       "<IPython.core.display.Math object>"
      ]
     },
     "metadata": {},
     "output_type": "display_data"
    }
   ],
   "source": [
    "#| code-fold: true\n",
    "display_latex_equation(lhs2, 0)"
   ]
  },
  {
   "cell_type": "markdown",
   "id": "87a455c3-8416-4b86-b53b-63afaac99e2d",
   "metadata": {},
   "source": [
    "$$\n",
    "\\begin{aligned}[b]\n",
    "\\xi_j \\, \\xi_k \\, \\xi_l \\, \\bigl[\n",
    "\\tfrac{1}{2} \\E_3(v_i, v_j, w_{kl})\n",
    "+ \\lambda_l \\, \\E_3(v_i, v_j, w_{k\\lambda})\n",
    "+ \\tfrac{1}{6} \\E_4(v_i, v_j, v_k, v_l) &\\\\\n",
    "+ \\tfrac{1}{2} \\lambda_l \\, \\dot{\\E}_2(v_i, w_{jk})\n",
    "+ \\lambda_k \\, \\lambda_l \\, \\dot{\\E}_2(v_i, w_{j\\lambda})\n",
    "+ \\tfrac{1}{2} \\lambda_{kl} \\, \\dot{\\E}_2(v_i, v_j) &\\\\\n",
    "+ \\tfrac{1}{2} \\lambda_l \\, \\dot{\\E}_3(v_i, v_j, v_k)\n",
    "+ \\tfrac{1}{2} \\lambda_k \\, \\lambda_l \\, \\ddot{\\E}_2(v_i, v_j)\n",
    "\\bigr] &= 0,\n",
    "\\end{aligned}\n",
    "$$ {#eq-20230115101147}\n",
    "for all $\\xi_1, \\ldots, \\xi_m \\in \\reals$."
   ]
  },
  {
   "cell_type": "markdown",
   "id": "a4b88112-e8a5-4509-a486-eae0613253bf",
   "metadata": {},
   "source": [
    "## Simplification of the bifurcation equations"
   ]
  },
  {
   "cell_type": "markdown",
   "id": "8668fcd7-2d42-483f-9a14-83344ac6ffef",
   "metadata": {},
   "source": [
    "In this section, Eqs. (@eq-20230115101130) and (@eq-20230115101147) are simplified to deliver the bifurcation equations (@eq-20230125062336) and (@eq-20230124205642)."
   ]
  },
  {
   "cell_type": "markdown",
   "id": "5921f043-66e4-499e-9bcb-81389b2ca807",
   "metadata": {},
   "source": [
    "### Parametrization of the bifurcated branch"
   ]
  },
  {
   "cell_type": "markdown",
   "id": "6d0d4489-4551-4dcf-8511-0e195ceec3ed",
   "metadata": {},
   "source": [
    "A parametrization of the bifurcated branch is first introduced. The bifurcated branch is a curve $(u, \\lambda) \\in \\reals ^ {m + 1}$, which is parametrized by $\\eta$: $[u(\\eta), \\lambda(\\eta)]$, with $u(0) = u_0$ and $\\lambda(0) = \\lambda_0$; primed quantities denoting derivatives with respect to $\\eta$, we introduce"
   ]
  },
  {
   "cell_type": "markdown",
   "id": "5a95190f-a2d2-46db-b557-6d9585c4fb43",
   "metadata": {},
   "source": [
    "$$\n",
    "\\order[1]{\\xi_i} = \\xi_i'(0), \\quad \\order[2]{\\xi_i} = \\xi_i''(0), \\quad \\ldots, \\quad \\order[1]{\\lambda} = \\lambda'(0), \\quad \\ldots\n",
    "$$"
   ]
  },
  {
   "cell_type": "markdown",
   "id": "89ac341a-2862-4f52-b90b-85ba59b04b65",
   "metadata": {},
   "source": [
    "In @sec-20230102030125, $\\lambda$ was defined as a function of $\\xi_1, \\ldots, \\xi_m$. Therefore, from the chain rule"
   ]
  },
  {
   "cell_type": "markdown",
   "id": "d5ab2497-b131-48a0-ad0b-fe66e9650780",
   "metadata": {},
   "source": [
    "$$\n",
    "\\lambda'(\\eta) = \\frac{\\partial\\lambda}{\\partial\\xi_i} \\, \\xi_i'(\\eta) \\quad \\text{and} \\quad \\lambda''(\\eta)  = \\frac{\\partial^2\\lambda}{\\partial\\xi_i \\, \\partial\\xi_j} \\, \\xi_i'(\\eta) \\, \\xi_j'(\\eta) + \\frac{\\partial\\lambda}{\\partial\\xi_i} \\, \\xi_i''(\\eta)\n",
    "$$"
   ]
  },
  {
   "cell_type": "markdown",
   "id": "5205223d-6782-4301-b12d-57a5ab5c34de",
   "metadata": {},
   "source": [
    "and, at $\\eta = 0$"
   ]
  },
  {
   "cell_type": "markdown",
   "id": "2a6a8c2b-cfe3-435d-9fa7-0d98d40f6c9b",
   "metadata": {},
   "source": [
    "$$\n",
    "\\order[1]{\\lambda} = \\lambda_i \\, \\order[1]{\\xi_i} \\quad \\text{and} \\quad \\order[2]{\\lambda} = \\lambda_{ij} \\, \\order[1]{\\xi_i} \\, \\order[1]{\\xi_j} + \\lambda_i \\, \\order[2]{\\xi_i}.\n",
    "$$ {#eq-20230116205753}"
   ]
  },
  {
   "cell_type": "code",
   "execution_count": 33,
   "id": "f09175a0-abed-495f-865d-0d393bdaa160",
   "metadata": {},
   "outputs": [],
   "source": [
    "#| code-fold: true\n",
    "\n",
    "ξ1_ = IndexedBase(r\"{\\order[1]{\\xi}}\")\n",
    "ξ2_ = IndexedBase(r\"{\\order[2]{\\xi}}\")\n",
    "λ1, λ2 = symbols(r\"{\\order[1]{\\lambda}} {\\order[2]{\\lambda}}\")"
   ]
  },
  {
   "cell_type": "code",
   "execution_count": 87,
   "id": "7c70cc1c-a4c9-4aa6-976b-3b7fc99505ad",
   "metadata": {},
   "outputs": [],
   "source": [
    "rules = dict()\n",
    "\n",
    "rules[\"λ⁽¹⁾\"] = {\n",
    "    λ_[i] * ξ1_[i]: λ1,\n",
    "    λ_[j] * ξ1_[j]: λ1,\n",
    "    λ_[k] * ξ1_[k]: λ1,\n",
    "    λ_[l] * ξ1_[l]: λ1,\n",
    "}\n",
    "\n",
    "rules[r\"\\dot{E}_ij\"] = {\n",
    "    E2_dot * v_[i] * v_[j]: E_dot_[i, j],\n",
    "    E2_dot * v_[i] * v_[k]: E_dot_[i, k],\n",
    "    E2_dot * v_[i] * v_[l]: E_dot_[i, l],\n",
    "    E2_dot * v_[j] * v_[k]: E_dot_[j, k],\n",
    "    E2_dot * v_[j] * v_[l]: E_dot_[j, l],\n",
    "    E2_dot * v_[k] * v_[l]: E_dot_[k, l],\n",
    "}\n",
    "\n",
    "rules[r\"\\ddot{E}_ij\"] = {\n",
    "    E2_ddot * v_[i] * v_[j]: (E_ddot_[i, j]\n",
    "                              - E2_dot * v_[i] * w_[j, _λ]\n",
    "                              - E2_dot * v_[j] * w_[i, _λ]),\n",
    "    E2_ddot * v_[i] * v_[k]: (E_ddot_[i, k]\n",
    "                              - E2_dot * v_[i] * w_[k, _λ]\n",
    "                              - E2_dot * v_[k] * w_[i, _λ]),\n",
    "    E2_ddot * v_[i] * v_[l]: (E_ddot_[i, l]\n",
    "                              - E2_dot * v_[i] * w_[l, _λ]\n",
    "                              - E2_dot * v_[l] * w_[i, _λ]),\n",
    "}\n",
    "\n",
    "rules[r\"E_ijk\"] = {\n",
    "    E3 * v_[i] * v_[j] * v_[k]: E_[i, j, k],\n",
    "    E3 * v_[i] * v_[j] * v_[l]: E_[i, j, l],\n",
    "    E3 * v_[i] * v_[k] * v_[l]: E_[i, k, l],\n",
    "}\n",
    "\n",
    "rules[r\"\\dot{E}_ijk\"] = {\n",
    "    E3_dot * v_[i] * v_[j] * v_[k]: (E_dot_[i, j, k] - E2_dot * v_[i] * w_[j, k] \n",
    "                                     - E2_dot * v_[j] * w_[i, k] - E2_dot * v_[k] * w_[i, j]),\n",
    "    E3_dot * v_[i] * v_[j] * v_[l]: (E_dot_[i, j, l] - E2_dot * v_[i] * w_[j, l] \n",
    "                                     - E2_dot * v_[j] * w_[i, l] - E2_dot * v_[l] * w_[i, j]),\n",
    "    E3_dot * v_[i] * v_[k] * v_[l]: (E_dot_[i, k, l] - E2_dot * v_[i] * w_[k, l] \n",
    "                                     - E2_dot * v_[k] * w_[i, l] - E2_dot * v_[l] * w_[i, k]),\n",
    "}\n",
    "\n",
    "rules[\"E_ijkl\"] = {\n",
    "    E4 * v_[i] * v_[j] * v_[k] * v_[l]: (E_[i, j, k, l]\n",
    "                                         - E3 * v_[i] * v_[j] * w_[k, l] \n",
    "                                         - E3 * v_[i] * v_[k] * w_[j, l] \n",
    "                                         - E3 * v_[i] * v_[l] * w_[j, k])\n",
    "}"
   ]
  },
  {
   "cell_type": "markdown",
   "id": "5c73ac55-5120-41c0-96f1-24eb22dd6eea",
   "metadata": {},
   "source": [
    "### Simplification of the first bifurcation equation"
   ]
  },
  {
   "cell_type": "markdown",
   "id": "af5b2bf6-3ff1-4b31-b8e9-63da638446c3",
   "metadata": {},
   "source": [
    "We first observe that, for fixed $i = 1, \\ldots, m$, Eq. (@eq-20230115101130) is of the form $L_{jk} \\, \\xi_j \\, \\xi_k = 0$ for all $\\xi_1, \\ldots, \\xi_m$. Derivation with respect to $\\xi_l$ leads to"
   ]
  },
  {
   "cell_type": "markdown",
   "id": "df272aba-f266-41d0-a4f4-11417d5b518d",
   "metadata": {},
   "source": [
    "$$\n",
    "0 = L_{jk} \\, \\delta_{jl} \\, \\xi_k + L_{jk} \\, \\xi_j \\, \\delta_{kl} = L_{lk} \\, \\xi_k + L_{jl} \\, \\xi_j = \\bigl(L_{kl} +L_{lk} \\bigr) \\, \\xi_l,\n",
    "$$"
   ]
  },
  {
   "cell_type": "markdown",
   "id": "580f6ff7-0009-4b5e-b692-e0de389a067d",
   "metadata": {},
   "source": [
    "for all $\\xi_1, \\ldots, \\xi_m \\in \\reals$. The above identity leads to: $L_{kl} + L_{lk} = 0$. Application to\n",
    "Eq. (@eq-20230115101130) delivers the following identity, to be used below"
   ]
  },
  {
   "cell_type": "markdown",
   "id": "405c244a-a29a-4e26-9045-55626ff8a724",
   "metadata": {},
   "source": [
    "$$\n",
    "E_{ijk} + \\lambda_k \\, \\dot{E}_{ij} + \\lambda_j \\, \\dot{E}_{ik} = 0.\n",
    "$$ {#eq-20230120210008}"
   ]
  },
  {
   "cell_type": "markdown",
   "id": "9820bee9-f43e-4ae5-9bdf-2862333a97fc",
   "metadata": {},
   "source": [
    "Eq. (@eq-20230115101130) holds for all $\\xi_1, \\ldots, \\xi_m$. In particular, it holds for $\\xi_i = \\order[1]{\\xi_i}$ and using\n",
    "Eq. (@eq-20230116205753) delivers"
   ]
  },
  {
   "cell_type": "code",
   "execution_count": 88,
   "id": "be21a78d-66ae-47d2-866d-f0739c45ca37",
   "metadata": {},
   "outputs": [],
   "source": [
    "lhs1a = lhs1.subs(ξ_, ξ1_).subs(rules[\"λ⁽¹⁾\"])"
   ]
  },
  {
   "cell_type": "code",
   "execution_count": 89,
   "id": "c15e84ef-22f0-4762-9fa2-a187c3026f0e",
   "metadata": {},
   "outputs": [
    {
     "data": {
      "text/latex": [
       "$\\displaystyle {\\order[1]{\\lambda}} {\\dot{E}}_{Idx\\left(i\\right),Idx\\left(j\\right)} {{\\order[1]{\\xi}}}_{Idx\\left(j\\right)} + \\frac{{E}_{Idx\\left(i\\right),Idx\\left(j\\right),Idx\\left(k\\right)} {{\\order[1]{\\xi}}}_{Idx\\left(j\\right)} {{\\order[1]{\\xi}}}_{Idx\\left(k\\right)}}{2}=0$"
      ],
      "text/plain": [
       "<IPython.core.display.Math object>"
      ]
     },
     "metadata": {},
     "output_type": "display_data"
    }
   ],
   "source": [
    "#| code-fold: true\n",
    "display_latex_equation(lhs1a, 0)"
   ]
  },
  {
   "cell_type": "markdown",
   "id": "b9dc8afb-7825-4619-b9e1-56ac174a30a6",
   "metadata": {},
   "source": [
    "which coincides with the **first bifurcation equation** (@eq-20230125062336)."
   ]
  },
  {
   "cell_type": "code",
   "execution_count": 90,
   "id": "29d376c8-12ab-445a-8beb-3eeb7612dc6a",
   "metadata": {},
   "outputs": [],
   "source": [
    "#| code-fold: true\n",
    "expected = E_[i, j, k] * ξ1_[j] * ξ1_[k] / 2 + λ1 * E_dot_[i, j] * ξ1_[j]\n",
    "\n",
    "assert lhs1a - expected == 0"
   ]
  },
  {
   "cell_type": "markdown",
   "id": "b2d477b6-f01c-49d7-86a2-41016f4d1c0d",
   "metadata": {},
   "source": [
    "### Simplification of the second bifurcation equation"
   ]
  },
  {
   "cell_type": "markdown",
   "id": "aab04d49-6b93-47a3-a83a-3f40a53f0995",
   "metadata": {},
   "source": [
    "We first recognize $\\dot{E}_{ij}$ defined by (@eq-20230125062505) and plug Eq. (@eq-20230116205753)"
   ]
  },
  {
   "cell_type": "code",
   "execution_count": 149,
   "id": "c68b7c1f-bf3f-4dc6-a2e8-f5330bdf4faf",
   "metadata": {},
   "outputs": [],
   "source": [
    "lhs2a = lhs2.subs(ξ_, ξ1_).subs(rules[\"λ⁽¹⁾\"]).expand()"
   ]
  },
  {
   "cell_type": "code",
   "execution_count": 150,
   "id": "97cd8b9c-94b0-4ad8-89f0-0c47464baed5",
   "metadata": {},
   "outputs": [
    {
     "data": {
      "text/latex": [
       "$\\displaystyle \\frac{\\E_{3} {\\order[1]{\\lambda}} {v}_{Idx\\left(i\\right)} {v}_{Idx\\left(j\\right)} {w}_{Idx\\left(k\\right),Idx\\left(\\lambda\\right)} {{\\order[1]{\\xi}}}_{Idx\\left(j\\right)} {{\\order[1]{\\xi}}}_{Idx\\left(k\\right)}}{6} + \\frac{\\E_{3} {\\order[1]{\\lambda}} {v}_{Idx\\left(i\\right)} {v}_{Idx\\left(j\\right)} {w}_{Idx\\left(l\\right),Idx\\left(\\lambda\\right)} {{\\order[1]{\\xi}}}_{Idx\\left(j\\right)} {{\\order[1]{\\xi}}}_{Idx\\left(l\\right)}}{6} + \\frac{\\E_{3} {\\order[1]{\\lambda}} {v}_{Idx\\left(i\\right)} {v}_{Idx\\left(k\\right)} {w}_{Idx\\left(j\\right),Idx\\left(\\lambda\\right)} {{\\order[1]{\\xi}}}_{Idx\\left(j\\right)} {{\\order[1]{\\xi}}}_{Idx\\left(k\\right)}}{6} + \\frac{\\E_{3} {\\order[1]{\\lambda}} {v}_{Idx\\left(i\\right)} {v}_{Idx\\left(k\\right)} {w}_{Idx\\left(l\\right),Idx\\left(\\lambda\\right)} {{\\order[1]{\\xi}}}_{Idx\\left(k\\right)} {{\\order[1]{\\xi}}}_{Idx\\left(l\\right)}}{6} + \\frac{\\E_{3} {\\order[1]{\\lambda}} {v}_{Idx\\left(i\\right)} {v}_{Idx\\left(l\\right)} {w}_{Idx\\left(j\\right),Idx\\left(\\lambda\\right)} {{\\order[1]{\\xi}}}_{Idx\\left(j\\right)} {{\\order[1]{\\xi}}}_{Idx\\left(l\\right)}}{6} + \\frac{\\E_{3} {\\order[1]{\\lambda}} {v}_{Idx\\left(i\\right)} {v}_{Idx\\left(l\\right)} {w}_{Idx\\left(k\\right),Idx\\left(\\lambda\\right)} {{\\order[1]{\\xi}}}_{Idx\\left(k\\right)} {{\\order[1]{\\xi}}}_{Idx\\left(l\\right)}}{6} - \\frac{\\E_{3} {v}_{Idx\\left(i\\right)} {v}_{Idx\\left(j\\right)} {w}_{Idx\\left(k\\right),Idx\\left(l\\right)} {{\\order[1]{\\xi}}}_{Idx\\left(j\\right)} {{\\order[1]{\\xi}}}_{Idx\\left(k\\right)} {{\\order[1]{\\xi}}}_{Idx\\left(l\\right)}}{12} + \\frac{\\E_{3} {v}_{Idx\\left(i\\right)} {v}_{Idx\\left(j\\right)} {w}_{Idx\\left(l\\right),Idx\\left(k\\right)} {{\\order[1]{\\xi}}}_{Idx\\left(j\\right)} {{\\order[1]{\\xi}}}_{Idx\\left(k\\right)} {{\\order[1]{\\xi}}}_{Idx\\left(l\\right)}}{12} - \\frac{\\E_{3} {v}_{Idx\\left(i\\right)} {v}_{Idx\\left(k\\right)} {w}_{Idx\\left(j\\right),Idx\\left(l\\right)} {{\\order[1]{\\xi}}}_{Idx\\left(j\\right)} {{\\order[1]{\\xi}}}_{Idx\\left(k\\right)} {{\\order[1]{\\xi}}}_{Idx\\left(l\\right)}}{12} + \\frac{\\E_{3} {v}_{Idx\\left(i\\right)} {v}_{Idx\\left(k\\right)} {w}_{Idx\\left(l\\right),Idx\\left(j\\right)} {{\\order[1]{\\xi}}}_{Idx\\left(j\\right)} {{\\order[1]{\\xi}}}_{Idx\\left(k\\right)} {{\\order[1]{\\xi}}}_{Idx\\left(l\\right)}}{12} - \\frac{\\E_{3} {v}_{Idx\\left(i\\right)} {v}_{Idx\\left(l\\right)} {w}_{Idx\\left(j\\right),Idx\\left(k\\right)} {{\\order[1]{\\xi}}}_{Idx\\left(j\\right)} {{\\order[1]{\\xi}}}_{Idx\\left(k\\right)} {{\\order[1]{\\xi}}}_{Idx\\left(l\\right)}}{12} + \\frac{\\E_{3} {v}_{Idx\\left(i\\right)} {v}_{Idx\\left(l\\right)} {w}_{Idx\\left(k\\right),Idx\\left(j\\right)} {{\\order[1]{\\xi}}}_{Idx\\left(j\\right)} {{\\order[1]{\\xi}}}_{Idx\\left(k\\right)} {{\\order[1]{\\xi}}}_{Idx\\left(l\\right)}}{12} + \\frac{\\ddot{\\E}_2 {\\order[1]{\\lambda}}^{2} {v}_{Idx\\left(i\\right)} {v}_{Idx\\left(j\\right)} {{\\order[1]{\\xi}}}_{Idx\\left(j\\right)}}{6} + \\frac{\\ddot{\\E}_2 {\\order[1]{\\lambda}}^{2} {v}_{Idx\\left(i\\right)} {v}_{Idx\\left(k\\right)} {{\\order[1]{\\xi}}}_{Idx\\left(k\\right)}}{6} + \\frac{\\ddot{\\E}_2 {\\order[1]{\\lambda}}^{2} {v}_{Idx\\left(i\\right)} {v}_{Idx\\left(l\\right)} {{\\order[1]{\\xi}}}_{Idx\\left(l\\right)}}{6} + \\frac{\\dot{\\E}_2 {\\order[1]{\\lambda}}^{2} {v}_{Idx\\left(i\\right)} {w}_{Idx\\left(j\\right),Idx\\left(\\lambda\\right)} {{\\order[1]{\\xi}}}_{Idx\\left(j\\right)}}{3} + \\frac{\\dot{\\E}_2 {\\order[1]{\\lambda}}^{2} {v}_{Idx\\left(i\\right)} {w}_{Idx\\left(k\\right),Idx\\left(\\lambda\\right)} {{\\order[1]{\\xi}}}_{Idx\\left(k\\right)}}{3} + \\frac{\\dot{\\E}_2 {\\order[1]{\\lambda}}^{2} {v}_{Idx\\left(i\\right)} {w}_{Idx\\left(l\\right),Idx\\left(\\lambda\\right)} {{\\order[1]{\\xi}}}_{Idx\\left(l\\right)}}{3} - \\frac{\\dot{\\E}_2 {\\order[1]{\\lambda}} {v}_{Idx\\left(i\\right)} {w}_{Idx\\left(j\\right),Idx\\left(k\\right)} {{\\order[1]{\\xi}}}_{Idx\\left(j\\right)} {{\\order[1]{\\xi}}}_{Idx\\left(k\\right)}}{12} - \\frac{\\dot{\\E}_2 {\\order[1]{\\lambda}} {v}_{Idx\\left(i\\right)} {w}_{Idx\\left(j\\right),Idx\\left(l\\right)} {{\\order[1]{\\xi}}}_{Idx\\left(j\\right)} {{\\order[1]{\\xi}}}_{Idx\\left(l\\right)}}{12} + \\frac{\\dot{\\E}_2 {\\order[1]{\\lambda}} {v}_{Idx\\left(i\\right)} {w}_{Idx\\left(k\\right),Idx\\left(j\\right)} {{\\order[1]{\\xi}}}_{Idx\\left(j\\right)} {{\\order[1]{\\xi}}}_{Idx\\left(k\\right)}}{12} - \\frac{\\dot{\\E}_2 {\\order[1]{\\lambda}} {v}_{Idx\\left(i\\right)} {w}_{Idx\\left(k\\right),Idx\\left(l\\right)} {{\\order[1]{\\xi}}}_{Idx\\left(k\\right)} {{\\order[1]{\\xi}}}_{Idx\\left(l\\right)}}{12} + \\frac{\\dot{\\E}_2 {\\order[1]{\\lambda}} {v}_{Idx\\left(i\\right)} {w}_{Idx\\left(l\\right),Idx\\left(j\\right)} {{\\order[1]{\\xi}}}_{Idx\\left(j\\right)} {{\\order[1]{\\xi}}}_{Idx\\left(l\\right)}}{12} + \\frac{\\dot{\\E}_2 {\\order[1]{\\lambda}} {v}_{Idx\\left(i\\right)} {w}_{Idx\\left(l\\right),Idx\\left(k\\right)} {{\\order[1]{\\xi}}}_{Idx\\left(k\\right)} {{\\order[1]{\\xi}}}_{Idx\\left(l\\right)}}{12} - \\frac{\\dot{\\E}_2 {\\order[1]{\\lambda}} {v}_{Idx\\left(j\\right)} {w}_{Idx\\left(i\\right),Idx\\left(k\\right)} {{\\order[1]{\\xi}}}_{Idx\\left(j\\right)} {{\\order[1]{\\xi}}}_{Idx\\left(k\\right)}}{6} - \\frac{\\dot{\\E}_2 {\\order[1]{\\lambda}} {v}_{Idx\\left(j\\right)} {w}_{Idx\\left(i\\right),Idx\\left(l\\right)} {{\\order[1]{\\xi}}}_{Idx\\left(j\\right)} {{\\order[1]{\\xi}}}_{Idx\\left(l\\right)}}{6} - \\frac{\\dot{\\E}_2 {\\order[1]{\\lambda}} {v}_{Idx\\left(k\\right)} {w}_{Idx\\left(i\\right),Idx\\left(j\\right)} {{\\order[1]{\\xi}}}_{Idx\\left(j\\right)} {{\\order[1]{\\xi}}}_{Idx\\left(k\\right)}}{6} - \\frac{\\dot{\\E}_2 {\\order[1]{\\lambda}} {v}_{Idx\\left(k\\right)} {w}_{Idx\\left(i\\right),Idx\\left(l\\right)} {{\\order[1]{\\xi}}}_{Idx\\left(k\\right)} {{\\order[1]{\\xi}}}_{Idx\\left(l\\right)}}{6} - \\frac{\\dot{\\E}_2 {\\order[1]{\\lambda}} {v}_{Idx\\left(l\\right)} {w}_{Idx\\left(i\\right),Idx\\left(j\\right)} {{\\order[1]{\\xi}}}_{Idx\\left(j\\right)} {{\\order[1]{\\xi}}}_{Idx\\left(l\\right)}}{6} - \\frac{\\dot{\\E}_2 {\\order[1]{\\lambda}} {v}_{Idx\\left(l\\right)} {w}_{Idx\\left(i\\right),Idx\\left(k\\right)} {{\\order[1]{\\xi}}}_{Idx\\left(k\\right)} {{\\order[1]{\\xi}}}_{Idx\\left(l\\right)}}{6} + \\frac{\\dot{\\E}_2 {\\lambda}_{Idx\\left(j\\right),Idx\\left(k\\right)} {v}_{Idx\\left(i\\right)} {v}_{Idx\\left(l\\right)} {{\\order[1]{\\xi}}}_{Idx\\left(j\\right)} {{\\order[1]{\\xi}}}_{Idx\\left(k\\right)} {{\\order[1]{\\xi}}}_{Idx\\left(l\\right)}}{12} + \\frac{\\dot{\\E}_2 {\\lambda}_{Idx\\left(j\\right),Idx\\left(l\\right)} {v}_{Idx\\left(i\\right)} {v}_{Idx\\left(k\\right)} {{\\order[1]{\\xi}}}_{Idx\\left(j\\right)} {{\\order[1]{\\xi}}}_{Idx\\left(k\\right)} {{\\order[1]{\\xi}}}_{Idx\\left(l\\right)}}{12} + \\frac{\\dot{\\E}_2 {\\lambda}_{Idx\\left(k\\right),Idx\\left(j\\right)} {v}_{Idx\\left(i\\right)} {v}_{Idx\\left(l\\right)} {{\\order[1]{\\xi}}}_{Idx\\left(j\\right)} {{\\order[1]{\\xi}}}_{Idx\\left(k\\right)} {{\\order[1]{\\xi}}}_{Idx\\left(l\\right)}}{12} + \\frac{\\dot{\\E}_2 {\\lambda}_{Idx\\left(k\\right),Idx\\left(l\\right)} {v}_{Idx\\left(i\\right)} {v}_{Idx\\left(j\\right)} {{\\order[1]{\\xi}}}_{Idx\\left(j\\right)} {{\\order[1]{\\xi}}}_{Idx\\left(k\\right)} {{\\order[1]{\\xi}}}_{Idx\\left(l\\right)}}{12} + \\frac{\\dot{\\E}_2 {\\lambda}_{Idx\\left(l\\right),Idx\\left(j\\right)} {v}_{Idx\\left(i\\right)} {v}_{Idx\\left(k\\right)} {{\\order[1]{\\xi}}}_{Idx\\left(j\\right)} {{\\order[1]{\\xi}}}_{Idx\\left(k\\right)} {{\\order[1]{\\xi}}}_{Idx\\left(l\\right)}}{12} + \\frac{\\dot{\\E}_2 {\\lambda}_{Idx\\left(l\\right),Idx\\left(k\\right)} {v}_{Idx\\left(i\\right)} {v}_{Idx\\left(j\\right)} {{\\order[1]{\\xi}}}_{Idx\\left(j\\right)} {{\\order[1]{\\xi}}}_{Idx\\left(k\\right)} {{\\order[1]{\\xi}}}_{Idx\\left(l\\right)}}{12} + \\frac{{\\order[1]{\\lambda}} {\\dot{E}}_{Idx\\left(i\\right),Idx\\left(j\\right),Idx\\left(k\\right)} {{\\order[1]{\\xi}}}_{Idx\\left(j\\right)} {{\\order[1]{\\xi}}}_{Idx\\left(k\\right)}}{6} + \\frac{{\\order[1]{\\lambda}} {\\dot{E}}_{Idx\\left(i\\right),Idx\\left(j\\right),Idx\\left(l\\right)} {{\\order[1]{\\xi}}}_{Idx\\left(j\\right)} {{\\order[1]{\\xi}}}_{Idx\\left(l\\right)}}{6} + \\frac{{\\order[1]{\\lambda}} {\\dot{E}}_{Idx\\left(i\\right),Idx\\left(k\\right),Idx\\left(l\\right)} {{\\order[1]{\\xi}}}_{Idx\\left(k\\right)} {{\\order[1]{\\xi}}}_{Idx\\left(l\\right)}}{6} + \\frac{{E}_{Idx\\left(i\\right),Idx\\left(j\\right),Idx\\left(k\\right),Idx\\left(l\\right)} {{\\order[1]{\\xi}}}_{Idx\\left(j\\right)} {{\\order[1]{\\xi}}}_{Idx\\left(k\\right)} {{\\order[1]{\\xi}}}_{Idx\\left(l\\right)}}{6}$"
      ],
      "text/plain": [
       "\\E_3*{\\order[1]{\\lambda}}*v[i]*v[j]*w[k, \\lambda]*{\\order[1]{\\xi}}[j]*{\\order[1]{\\xi}}[k]/6 + \\E_3*{\\order[1]{\\lambda}}*v[i]*v[j]*w[l, \\lambda]*{\\order[1]{\\xi}}[j]*{\\order[1]{\\xi}}[l]/6 + \\E_3*{\\order[1]{\\lambda}}*v[i]*v[k]*w[j, \\lambda]*{\\order[1]{\\xi}}[j]*{\\order[1]{\\xi}}[k]/6 + \\E_3*{\\order[1]{\\lambda}}*v[i]*v[k]*w[l, \\lambda]*{\\order[1]{\\xi}}[k]*{\\order[1]{\\xi}}[l]/6 + \\E_3*{\\order[1]{\\lambda}}*v[i]*v[l]*w[j, \\lambda]*{\\order[1]{\\xi}}[j]*{\\order[1]{\\xi}}[l]/6 + \\E_3*{\\order[1]{\\lambda}}*v[i]*v[l]*w[k, \\lambda]*{\\order[1]{\\xi}}[k]*{\\order[1]{\\xi}}[l]/6 - \\E_3*v[i]*v[j]*w[k, l]*{\\order[1]{\\xi}}[j]*{\\order[1]{\\xi}}[k]*{\\order[1]{\\xi}}[l]/12 + \\E_3*v[i]*v[j]*w[l, k]*{\\order[1]{\\xi}}[j]*{\\order[1]{\\xi}}[k]*{\\order[1]{\\xi}}[l]/12 - \\E_3*v[i]*v[k]*w[j, l]*{\\order[1]{\\xi}}[j]*{\\order[1]{\\xi}}[k]*{\\order[1]{\\xi}}[l]/12 + \\E_3*v[i]*v[k]*w[l, j]*{\\order[1]{\\xi}}[j]*{\\order[1]{\\xi}}[k]*{\\order[1]{\\xi}}[l]/12 - \\E_3*v[i]*v[l]*w[j, k]*{\\order[1]{\\xi}}[j]*{\\order[1]{\\xi}}[k]*{\\order[1]{\\xi}}[l]/12 + \\E_3*v[i]*v[l]*w[k, j]*{\\order[1]{\\xi}}[j]*{\\order[1]{\\xi}}[k]*{\\order[1]{\\xi}}[l]/12 + \\ddot{\\E}_2*{\\order[1]{\\lambda}}**2*v[i]*v[j]*{\\order[1]{\\xi}}[j]/6 + \\ddot{\\E}_2*{\\order[1]{\\lambda}}**2*v[i]*v[k]*{\\order[1]{\\xi}}[k]/6 + \\ddot{\\E}_2*{\\order[1]{\\lambda}}**2*v[i]*v[l]*{\\order[1]{\\xi}}[l]/6 + \\dot{\\E}_2*{\\order[1]{\\lambda}}**2*v[i]*w[j, \\lambda]*{\\order[1]{\\xi}}[j]/3 + \\dot{\\E}_2*{\\order[1]{\\lambda}}**2*v[i]*w[k, \\lambda]*{\\order[1]{\\xi}}[k]/3 + \\dot{\\E}_2*{\\order[1]{\\lambda}}**2*v[i]*w[l, \\lambda]*{\\order[1]{\\xi}}[l]/3 - \\dot{\\E}_2*{\\order[1]{\\lambda}}*v[i]*w[j, k]*{\\order[1]{\\xi}}[j]*{\\order[1]{\\xi}}[k]/12 - \\dot{\\E}_2*{\\order[1]{\\lambda}}*v[i]*w[j, l]*{\\order[1]{\\xi}}[j]*{\\order[1]{\\xi}}[l]/12 + \\dot{\\E}_2*{\\order[1]{\\lambda}}*v[i]*w[k, j]*{\\order[1]{\\xi}}[j]*{\\order[1]{\\xi}}[k]/12 - \\dot{\\E}_2*{\\order[1]{\\lambda}}*v[i]*w[k, l]*{\\order[1]{\\xi}}[k]*{\\order[1]{\\xi}}[l]/12 + \\dot{\\E}_2*{\\order[1]{\\lambda}}*v[i]*w[l, j]*{\\order[1]{\\xi}}[j]*{\\order[1]{\\xi}}[l]/12 + \\dot{\\E}_2*{\\order[1]{\\lambda}}*v[i]*w[l, k]*{\\order[1]{\\xi}}[k]*{\\order[1]{\\xi}}[l]/12 - \\dot{\\E}_2*{\\order[1]{\\lambda}}*v[j]*w[i, k]*{\\order[1]{\\xi}}[j]*{\\order[1]{\\xi}}[k]/6 - \\dot{\\E}_2*{\\order[1]{\\lambda}}*v[j]*w[i, l]*{\\order[1]{\\xi}}[j]*{\\order[1]{\\xi}}[l]/6 - \\dot{\\E}_2*{\\order[1]{\\lambda}}*v[k]*w[i, j]*{\\order[1]{\\xi}}[j]*{\\order[1]{\\xi}}[k]/6 - \\dot{\\E}_2*{\\order[1]{\\lambda}}*v[k]*w[i, l]*{\\order[1]{\\xi}}[k]*{\\order[1]{\\xi}}[l]/6 - \\dot{\\E}_2*{\\order[1]{\\lambda}}*v[l]*w[i, j]*{\\order[1]{\\xi}}[j]*{\\order[1]{\\xi}}[l]/6 - \\dot{\\E}_2*{\\order[1]{\\lambda}}*v[l]*w[i, k]*{\\order[1]{\\xi}}[k]*{\\order[1]{\\xi}}[l]/6 + \\dot{\\E}_2*\\lambda[j, k]*v[i]*v[l]*{\\order[1]{\\xi}}[j]*{\\order[1]{\\xi}}[k]*{\\order[1]{\\xi}}[l]/12 + \\dot{\\E}_2*\\lambda[j, l]*v[i]*v[k]*{\\order[1]{\\xi}}[j]*{\\order[1]{\\xi}}[k]*{\\order[1]{\\xi}}[l]/12 + \\dot{\\E}_2*\\lambda[k, j]*v[i]*v[l]*{\\order[1]{\\xi}}[j]*{\\order[1]{\\xi}}[k]*{\\order[1]{\\xi}}[l]/12 + \\dot{\\E}_2*\\lambda[k, l]*v[i]*v[j]*{\\order[1]{\\xi}}[j]*{\\order[1]{\\xi}}[k]*{\\order[1]{\\xi}}[l]/12 + \\dot{\\E}_2*\\lambda[l, j]*v[i]*v[k]*{\\order[1]{\\xi}}[j]*{\\order[1]{\\xi}}[k]*{\\order[1]{\\xi}}[l]/12 + \\dot{\\E}_2*\\lambda[l, k]*v[i]*v[j]*{\\order[1]{\\xi}}[j]*{\\order[1]{\\xi}}[k]*{\\order[1]{\\xi}}[l]/12 + {\\order[1]{\\lambda}}*\\dot{E}[i, j, k]*{\\order[1]{\\xi}}[j]*{\\order[1]{\\xi}}[k]/6 + {\\order[1]{\\lambda}}*\\dot{E}[i, j, l]*{\\order[1]{\\xi}}[j]*{\\order[1]{\\xi}}[l]/6 + {\\order[1]{\\lambda}}*\\dot{E}[i, k, l]*{\\order[1]{\\xi}}[k]*{\\order[1]{\\xi}}[l]/6 + E[i, j, k, l]*{\\order[1]{\\xi}}[j]*{\\order[1]{\\xi}}[k]*{\\order[1]{\\xi}}[l]/6"
      ]
     },
     "execution_count": 150,
     "metadata": {},
     "output_type": "execute_result"
    }
   ],
   "source": [
    "lhs2a = lhs2.subs(ξ_, ξ1_)\n",
    "lhs2b = 0\n",
    "for term in lhs2a.args:\n",
    "    lhs2b += symmetrize(term)\n",
    "\n",
    "lhs2b = lhs2b.subs(rules[\"λ⁽¹⁾\"])\n",
    "names = [\"E_ijkl\", \"E_ijk\", \"\\dot{E}_ijk\"]\n",
    "for name in names:\n",
    "    lhs2b = lhs2b.subs(rules[name]).expand()\n",
    "lhs2b"
   ]
  },
  {
   "cell_type": "markdown",
   "id": "fe1f3e9a-f197-49d3-bfb8-cd1bf2d4a0d4",
   "metadata": {},
   "source": [
    "The term in $\\order[1]{\\xi}_j \\, \\order[1]{\\xi}_k \\, \\order[1]{\\xi}_l$ reads"
   ]
  },
  {
   "cell_type": "code",
   "execution_count": 151,
   "id": "2b3542b1-51fa-4db5-8f3f-9dd8517b0183",
   "metadata": {},
   "outputs": [
    {
     "data": {
      "text/latex": [
       "$\\displaystyle \\frac{\\E_{3} {\\order[1]{\\lambda}} {v}_{Idx\\left(i\\right)} {v}_{Idx\\left(j\\right)} {w}_{Idx\\left(k\\right),Idx\\left(\\lambda\\right)} {{\\order[1]{\\xi}}}_{Idx\\left(j\\right)} {{\\order[1]{\\xi}}}_{Idx\\left(k\\right)}}{6} + \\frac{\\E_{3} {\\order[1]{\\lambda}} {v}_{Idx\\left(i\\right)} {v}_{Idx\\left(j\\right)} {w}_{Idx\\left(l\\right),Idx\\left(\\lambda\\right)} {{\\order[1]{\\xi}}}_{Idx\\left(j\\right)} {{\\order[1]{\\xi}}}_{Idx\\left(l\\right)}}{6} + \\frac{\\E_{3} {\\order[1]{\\lambda}} {v}_{Idx\\left(i\\right)} {v}_{Idx\\left(k\\right)} {w}_{Idx\\left(j\\right),Idx\\left(\\lambda\\right)} {{\\order[1]{\\xi}}}_{Idx\\left(j\\right)} {{\\order[1]{\\xi}}}_{Idx\\left(k\\right)}}{6} + \\frac{\\E_{3} {\\order[1]{\\lambda}} {v}_{Idx\\left(i\\right)} {v}_{Idx\\left(l\\right)} {w}_{Idx\\left(j\\right),Idx\\left(\\lambda\\right)} {{\\order[1]{\\xi}}}_{Idx\\left(j\\right)} {{\\order[1]{\\xi}}}_{Idx\\left(l\\right)}}{6} + \\frac{\\ddot{\\E}_2 {\\order[1]{\\lambda}}^{2} {v}_{Idx\\left(i\\right)} {v}_{Idx\\left(j\\right)} {{\\order[1]{\\xi}}}_{Idx\\left(j\\right)}}{6} + \\frac{\\ddot{\\E}_2 {\\order[1]{\\lambda}}^{2} {v}_{Idx\\left(i\\right)} {v}_{Idx\\left(k\\right)} {{\\order[1]{\\xi}}}_{Idx\\left(k\\right)}}{6} + \\frac{\\ddot{\\E}_2 {\\order[1]{\\lambda}}^{2} {v}_{Idx\\left(i\\right)} {v}_{Idx\\left(l\\right)} {{\\order[1]{\\xi}}}_{Idx\\left(l\\right)}}{6} + \\frac{\\dot{\\E}_2 {\\order[1]{\\lambda}}^{2} {v}_{Idx\\left(i\\right)} {w}_{Idx\\left(j\\right),Idx\\left(\\lambda\\right)} {{\\order[1]{\\xi}}}_{Idx\\left(j\\right)}}{3} + \\frac{\\dot{\\E}_2 {\\order[1]{\\lambda}}^{2} {v}_{Idx\\left(i\\right)} {w}_{Idx\\left(k\\right),Idx\\left(\\lambda\\right)} {{\\order[1]{\\xi}}}_{Idx\\left(k\\right)}}{3} + \\frac{\\dot{\\E}_2 {\\order[1]{\\lambda}}^{2} {v}_{Idx\\left(i\\right)} {w}_{Idx\\left(l\\right),Idx\\left(\\lambda\\right)} {{\\order[1]{\\xi}}}_{Idx\\left(l\\right)}}{3} - \\frac{\\dot{\\E}_2 {\\order[1]{\\lambda}} {v}_{Idx\\left(j\\right)} {w}_{Idx\\left(i\\right),Idx\\left(k\\right)} {{\\order[1]{\\xi}}}_{Idx\\left(j\\right)} {{\\order[1]{\\xi}}}_{Idx\\left(k\\right)}}{6} - \\frac{\\dot{\\E}_2 {\\order[1]{\\lambda}} {v}_{Idx\\left(j\\right)} {w}_{Idx\\left(i\\right),Idx\\left(l\\right)} {{\\order[1]{\\xi}}}_{Idx\\left(j\\right)} {{\\order[1]{\\xi}}}_{Idx\\left(l\\right)}}{6} - \\frac{\\dot{\\E}_2 {\\order[1]{\\lambda}} {v}_{Idx\\left(k\\right)} {w}_{Idx\\left(i\\right),Idx\\left(j\\right)} {{\\order[1]{\\xi}}}_{Idx\\left(j\\right)} {{\\order[1]{\\xi}}}_{Idx\\left(k\\right)}}{6} - \\frac{\\dot{\\E}_2 {\\order[1]{\\lambda}} {v}_{Idx\\left(l\\right)} {w}_{Idx\\left(i\\right),Idx\\left(j\\right)} {{\\order[1]{\\xi}}}_{Idx\\left(j\\right)} {{\\order[1]{\\xi}}}_{Idx\\left(l\\right)}}{6} + \\frac{\\dot{\\E}_2 {\\lambda}_{Idx\\left(j\\right),Idx\\left(k\\right)} {v}_{Idx\\left(i\\right)} {v}_{Idx\\left(l\\right)} {{\\order[1]{\\xi}}}_{Idx\\left(j\\right)} {{\\order[1]{\\xi}}}_{Idx\\left(k\\right)} {{\\order[1]{\\xi}}}_{Idx\\left(l\\right)}}{6} + \\frac{\\dot{\\E}_2 {\\lambda}_{Idx\\left(j\\right),Idx\\left(l\\right)} {v}_{Idx\\left(i\\right)} {v}_{Idx\\left(k\\right)} {{\\order[1]{\\xi}}}_{Idx\\left(j\\right)} {{\\order[1]{\\xi}}}_{Idx\\left(k\\right)} {{\\order[1]{\\xi}}}_{Idx\\left(l\\right)}}{6} + \\frac{\\dot{\\E}_2 {\\lambda}_{Idx\\left(k\\right),Idx\\left(l\\right)} {v}_{Idx\\left(i\\right)} {v}_{Idx\\left(j\\right)} {{\\order[1]{\\xi}}}_{Idx\\left(j\\right)} {{\\order[1]{\\xi}}}_{Idx\\left(k\\right)} {{\\order[1]{\\xi}}}_{Idx\\left(l\\right)}}{6} + \\frac{{\\order[1]{\\lambda}} {\\dot{E}}_{Idx\\left(i\\right),Idx\\left(j\\right),Idx\\left(k\\right)} {{\\order[1]{\\xi}}}_{Idx\\left(j\\right)} {{\\order[1]{\\xi}}}_{Idx\\left(k\\right)}}{6} + \\frac{{\\order[1]{\\lambda}} {\\dot{E}}_{Idx\\left(i\\right),Idx\\left(j\\right),Idx\\left(l\\right)} {{\\order[1]{\\xi}}}_{Idx\\left(j\\right)} {{\\order[1]{\\xi}}}_{Idx\\left(l\\right)}}{6} + \\frac{{\\order[1]{\\lambda}} {\\dot{E}}_{Idx\\left(i\\right),Idx\\left(k\\right),Idx\\left(l\\right)} {{\\order[1]{\\xi}}}_{Idx\\left(k\\right)} {{\\order[1]{\\xi}}}_{Idx\\left(l\\right)}}{6} + \\frac{{E}_{Idx\\left(i\\right),Idx\\left(j\\right),Idx\\left(k\\right),Idx\\left(l\\right)} {{\\order[1]{\\xi}}}_{Idx\\left(j\\right)} {{\\order[1]{\\xi}}}_{Idx\\left(k\\right)} {{\\order[1]{\\xi}}}_{Idx\\left(l\\right)}}{6}$"
      ],
      "text/plain": [
       "\\E_3*{\\order[1]{\\lambda}}*v[i]*v[j]*w[k, \\lambda]*{\\order[1]{\\xi}}[j]*{\\order[1]{\\xi}}[k]/6 + \\E_3*{\\order[1]{\\lambda}}*v[i]*v[j]*w[l, \\lambda]*{\\order[1]{\\xi}}[j]*{\\order[1]{\\xi}}[l]/6 + \\E_3*{\\order[1]{\\lambda}}*v[i]*v[k]*w[j, \\lambda]*{\\order[1]{\\xi}}[j]*{\\order[1]{\\xi}}[k]/6 + \\E_3*{\\order[1]{\\lambda}}*v[i]*v[l]*w[j, \\lambda]*{\\order[1]{\\xi}}[j]*{\\order[1]{\\xi}}[l]/6 + \\ddot{\\E}_2*{\\order[1]{\\lambda}}**2*v[i]*v[j]*{\\order[1]{\\xi}}[j]/6 + \\ddot{\\E}_2*{\\order[1]{\\lambda}}**2*v[i]*v[k]*{\\order[1]{\\xi}}[k]/6 + \\ddot{\\E}_2*{\\order[1]{\\lambda}}**2*v[i]*v[l]*{\\order[1]{\\xi}}[l]/6 + \\dot{\\E}_2*{\\order[1]{\\lambda}}**2*v[i]*w[j, \\lambda]*{\\order[1]{\\xi}}[j]/3 + \\dot{\\E}_2*{\\order[1]{\\lambda}}**2*v[i]*w[k, \\lambda]*{\\order[1]{\\xi}}[k]/3 + \\dot{\\E}_2*{\\order[1]{\\lambda}}**2*v[i]*w[l, \\lambda]*{\\order[1]{\\xi}}[l]/3 - \\dot{\\E}_2*{\\order[1]{\\lambda}}*v[j]*w[i, k]*{\\order[1]{\\xi}}[j]*{\\order[1]{\\xi}}[k]/6 - \\dot{\\E}_2*{\\order[1]{\\lambda}}*v[j]*w[i, l]*{\\order[1]{\\xi}}[j]*{\\order[1]{\\xi}}[l]/6 - \\dot{\\E}_2*{\\order[1]{\\lambda}}*v[k]*w[i, j]*{\\order[1]{\\xi}}[j]*{\\order[1]{\\xi}}[k]/6 - \\dot{\\E}_2*{\\order[1]{\\lambda}}*v[l]*w[i, j]*{\\order[1]{\\xi}}[j]*{\\order[1]{\\xi}}[l]/6 + \\dot{\\E}_2*\\lambda[j, k]*v[i]*v[l]*{\\order[1]{\\xi}}[j]*{\\order[1]{\\xi}}[k]*{\\order[1]{\\xi}}[l]/6 + \\dot{\\E}_2*\\lambda[j, l]*v[i]*v[k]*{\\order[1]{\\xi}}[j]*{\\order[1]{\\xi}}[k]*{\\order[1]{\\xi}}[l]/6 + \\dot{\\E}_2*\\lambda[k, l]*v[i]*v[j]*{\\order[1]{\\xi}}[j]*{\\order[1]{\\xi}}[k]*{\\order[1]{\\xi}}[l]/6 + {\\order[1]{\\lambda}}*\\dot{E}[i, j, k]*{\\order[1]{\\xi}}[j]*{\\order[1]{\\xi}}[k]/6 + {\\order[1]{\\lambda}}*\\dot{E}[i, j, l]*{\\order[1]{\\xi}}[j]*{\\order[1]{\\xi}}[l]/6 + {\\order[1]{\\lambda}}*\\dot{E}[i, k, l]*{\\order[1]{\\xi}}[k]*{\\order[1]{\\xi}}[l]/6 + E[i, j, k, l]*{\\order[1]{\\xi}}[j]*{\\order[1]{\\xi}}[k]*{\\order[1]{\\xi}}[l]/6"
      ]
     },
     "execution_count": 151,
     "metadata": {},
     "output_type": "execute_result"
    }
   ],
   "source": [
    "lhs2c = lhs2b.subs({\n",
    "    E3 * v_[i] * v_[k] * w_[l, _λ]: E2_dot * w_[i, k] * v_[l],\n",
    "    E3 * v_[i] * v_[l] * w_[k, _λ]: E2_dot * w_[i, l] * v_[k]\n",
    "}).subs(w_is_symmetric).subs(λ_is_symmetric).expand()\n",
    "\n",
    "lhs2c"
   ]
  },
  {
   "cell_type": "markdown",
   "id": "5ee2c088-b924-4de3-8263-52b62b87aa20",
   "metadata": {},
   "source": [
    "The variational problems (@eq-20230107180410) and (@eq-20230107180501) are used to transform $\\E_3(v_i, v_k, w_{k\\lambda})$ and $\\E_3(v_i, v_l, w_{k\\lambda})$ as follows"
   ]
  },
  {
   "cell_type": "markdown",
   "id": "89b25d90-787e-46e7-9216-49d342d67e95",
   "metadata": {},
   "source": [
    "$$\n",
    "\\E3(v_i, v_j, w_{k\\lambda}) = -\\E_2(w_{ij}, w_{k\\lambda}) = \\dot{\\E}_2(w_{ij}, v_k)\n",
    "$$"
   ]
  },
  {
   "cell_type": "code",
   "execution_count": 152,
   "id": "c8fb2a46-66ac-4b0e-b143-98541902d16c",
   "metadata": {},
   "outputs": [
    {
     "data": {
      "text/latex": [
       "$\\displaystyle \\frac{\\ddot{\\E}_2 {\\order[1]{\\lambda}}^{2} {v}_{Idx\\left(i\\right)} {v}_{Idx\\left(j\\right)} {{\\order[1]{\\xi}}}_{Idx\\left(j\\right)}}{6} + \\frac{\\ddot{\\E}_2 {\\order[1]{\\lambda}}^{2} {v}_{Idx\\left(i\\right)} {v}_{Idx\\left(k\\right)} {{\\order[1]{\\xi}}}_{Idx\\left(k\\right)}}{6} + \\frac{\\ddot{\\E}_2 {\\order[1]{\\lambda}}^{2} {v}_{Idx\\left(i\\right)} {v}_{Idx\\left(l\\right)} {{\\order[1]{\\xi}}}_{Idx\\left(l\\right)}}{6} + \\frac{\\dot{\\E}_2 {\\order[1]{\\lambda}}^{2} {v}_{Idx\\left(i\\right)} {w}_{Idx\\left(j\\right),Idx\\left(\\lambda\\right)} {{\\order[1]{\\xi}}}_{Idx\\left(j\\right)}}{3} + \\frac{\\dot{\\E}_2 {\\order[1]{\\lambda}}^{2} {v}_{Idx\\left(i\\right)} {w}_{Idx\\left(k\\right),Idx\\left(\\lambda\\right)} {{\\order[1]{\\xi}}}_{Idx\\left(k\\right)}}{3} + \\frac{\\dot{\\E}_2 {\\order[1]{\\lambda}}^{2} {v}_{Idx\\left(i\\right)} {w}_{Idx\\left(l\\right),Idx\\left(\\lambda\\right)} {{\\order[1]{\\xi}}}_{Idx\\left(l\\right)}}{3} + \\frac{\\dot{\\E}_2 {\\lambda}_{Idx\\left(j\\right),Idx\\left(k\\right)} {v}_{Idx\\left(i\\right)} {v}_{Idx\\left(l\\right)} {{\\order[1]{\\xi}}}_{Idx\\left(j\\right)} {{\\order[1]{\\xi}}}_{Idx\\left(k\\right)} {{\\order[1]{\\xi}}}_{Idx\\left(l\\right)}}{6} + \\frac{\\dot{\\E}_2 {\\lambda}_{Idx\\left(j\\right),Idx\\left(l\\right)} {v}_{Idx\\left(i\\right)} {v}_{Idx\\left(k\\right)} {{\\order[1]{\\xi}}}_{Idx\\left(j\\right)} {{\\order[1]{\\xi}}}_{Idx\\left(k\\right)} {{\\order[1]{\\xi}}}_{Idx\\left(l\\right)}}{6} + \\frac{\\dot{\\E}_2 {\\lambda}_{Idx\\left(k\\right),Idx\\left(l\\right)} {v}_{Idx\\left(i\\right)} {v}_{Idx\\left(j\\right)} {{\\order[1]{\\xi}}}_{Idx\\left(j\\right)} {{\\order[1]{\\xi}}}_{Idx\\left(k\\right)} {{\\order[1]{\\xi}}}_{Idx\\left(l\\right)}}{6} + \\frac{{\\order[1]{\\lambda}} {\\dot{E}}_{Idx\\left(i\\right),Idx\\left(j\\right),Idx\\left(k\\right)} {{\\order[1]{\\xi}}}_{Idx\\left(j\\right)} {{\\order[1]{\\xi}}}_{Idx\\left(k\\right)}}{6} + \\frac{{\\order[1]{\\lambda}} {\\dot{E}}_{Idx\\left(i\\right),Idx\\left(j\\right),Idx\\left(l\\right)} {{\\order[1]{\\xi}}}_{Idx\\left(j\\right)} {{\\order[1]{\\xi}}}_{Idx\\left(l\\right)}}{6} + \\frac{{\\order[1]{\\lambda}} {\\dot{E}}_{Idx\\left(i\\right),Idx\\left(k\\right),Idx\\left(l\\right)} {{\\order[1]{\\xi}}}_{Idx\\left(k\\right)} {{\\order[1]{\\xi}}}_{Idx\\left(l\\right)}}{6} + \\frac{{E}_{Idx\\left(i\\right),Idx\\left(j\\right),Idx\\left(k\\right),Idx\\left(l\\right)} {{\\order[1]{\\xi}}}_{Idx\\left(j\\right)} {{\\order[1]{\\xi}}}_{Idx\\left(k\\right)} {{\\order[1]{\\xi}}}_{Idx\\left(l\\right)}}{6}$"
      ],
      "text/plain": [
       "\\ddot{\\E}_2*{\\order[1]{\\lambda}}**2*v[i]*v[j]*{\\order[1]{\\xi}}[j]/6 + \\ddot{\\E}_2*{\\order[1]{\\lambda}}**2*v[i]*v[k]*{\\order[1]{\\xi}}[k]/6 + \\ddot{\\E}_2*{\\order[1]{\\lambda}}**2*v[i]*v[l]*{\\order[1]{\\xi}}[l]/6 + \\dot{\\E}_2*{\\order[1]{\\lambda}}**2*v[i]*w[j, \\lambda]*{\\order[1]{\\xi}}[j]/3 + \\dot{\\E}_2*{\\order[1]{\\lambda}}**2*v[i]*w[k, \\lambda]*{\\order[1]{\\xi}}[k]/3 + \\dot{\\E}_2*{\\order[1]{\\lambda}}**2*v[i]*w[l, \\lambda]*{\\order[1]{\\xi}}[l]/3 + \\dot{\\E}_2*\\lambda[j, k]*v[i]*v[l]*{\\order[1]{\\xi}}[j]*{\\order[1]{\\xi}}[k]*{\\order[1]{\\xi}}[l]/6 + \\dot{\\E}_2*\\lambda[j, l]*v[i]*v[k]*{\\order[1]{\\xi}}[j]*{\\order[1]{\\xi}}[k]*{\\order[1]{\\xi}}[l]/6 + \\dot{\\E}_2*\\lambda[k, l]*v[i]*v[j]*{\\order[1]{\\xi}}[j]*{\\order[1]{\\xi}}[k]*{\\order[1]{\\xi}}[l]/6 + {\\order[1]{\\lambda}}*\\dot{E}[i, j, k]*{\\order[1]{\\xi}}[j]*{\\order[1]{\\xi}}[k]/6 + {\\order[1]{\\lambda}}*\\dot{E}[i, j, l]*{\\order[1]{\\xi}}[j]*{\\order[1]{\\xi}}[l]/6 + {\\order[1]{\\lambda}}*\\dot{E}[i, k, l]*{\\order[1]{\\xi}}[k]*{\\order[1]{\\xi}}[l]/6 + E[i, j, k, l]*{\\order[1]{\\xi}}[j]*{\\order[1]{\\xi}}[k]*{\\order[1]{\\xi}}[l]/6"
      ]
     },
     "execution_count": 152,
     "metadata": {},
     "output_type": "execute_result"
    }
   ],
   "source": [
    "lhs2d = lhs2c.subs({\n",
    "    E3 * v_[i] * v_[j] * w_[k, _λ]: E2_dot * w_[i, k] * v_[j],\n",
    "    E3 * v_[i] * v_[k] * w_[j, _λ]: E2_dot * w_[i, j] * v_[k],\n",
    "    E3 * v_[i] * v_[k] * w_[l, _λ]: E2_dot * w_[i, k] * v_[l],\n",
    "    E3 * v_[i] * v_[l] * w_[k, _λ]: E2_dot * w_[i, l] * v_[k],\n",
    "    E3 * v_[i] * v_[j] * w_[l, _λ]: E2_dot * w_[i, l] * v_[j],\n",
    "    E3 * v_[i] * v_[l] * w_[j, _λ]: E2_dot * w_[i, j] * v_[l],\n",
    "}).expand()\n",
    "\n",
    "lhs2d"
   ]
  },
  {
   "cell_type": "markdown",
   "id": "77a38c6a-4f72-419f-8d6a-f94a244a1849",
   "metadata": {},
   "source": [
    "$$\n",
    "2\\dot{\\E}_2(v_i, w_{l\\lambda})\n",
    "= \\dot{\\E}_2(v_i, w_{l\\lambda}) -\\E_2(w_{i\\lambda}, w_{l\\lambda})\n",
    "= \\dot{\\E}_2(v_i, w_{l\\lambda}) + \\E_2(v_l, w_{i\\lambda})\n",
    "= \\ddot{E}_{il} - \\ddot{E}_2(v_i, v_l),\n",
    "$$"
   ]
  },
  {
   "cell_type": "markdown",
   "id": "4a0794d0-8a82-4263-a8bd-10d5a28ef1ee",
   "metadata": {},
   "source": [
    "where $\\ddot{E}_{ij}$ is defined by Eq. (@eq-20230124211207). "
   ]
  },
  {
   "cell_type": "code",
   "execution_count": 153,
   "id": "ce0d29ba-da81-4be9-8073-8b6c7940d410",
   "metadata": {},
   "outputs": [
    {
     "data": {
      "text/latex": [
       "$\\displaystyle \\frac{\\dot{\\E}_2 {\\lambda}_{Idx\\left(j\\right),Idx\\left(k\\right)} {v}_{Idx\\left(i\\right)} {v}_{Idx\\left(l\\right)} {{\\order[1]{\\xi}}}_{Idx\\left(j\\right)} {{\\order[1]{\\xi}}}_{Idx\\left(k\\right)} {{\\order[1]{\\xi}}}_{Idx\\left(l\\right)}}{6} + \\frac{\\dot{\\E}_2 {\\lambda}_{Idx\\left(j\\right),Idx\\left(l\\right)} {v}_{Idx\\left(i\\right)} {v}_{Idx\\left(k\\right)} {{\\order[1]{\\xi}}}_{Idx\\left(j\\right)} {{\\order[1]{\\xi}}}_{Idx\\left(k\\right)} {{\\order[1]{\\xi}}}_{Idx\\left(l\\right)}}{6} + \\frac{\\dot{\\E}_2 {\\lambda}_{Idx\\left(k\\right),Idx\\left(l\\right)} {v}_{Idx\\left(i\\right)} {v}_{Idx\\left(j\\right)} {{\\order[1]{\\xi}}}_{Idx\\left(j\\right)} {{\\order[1]{\\xi}}}_{Idx\\left(k\\right)} {{\\order[1]{\\xi}}}_{Idx\\left(l\\right)}}{6} + \\frac{{\\order[1]{\\lambda}}^{2} {\\ddot{E}}_{Idx\\left(i\\right),Idx\\left(j\\right)} {{\\order[1]{\\xi}}}_{Idx\\left(j\\right)}}{6} + \\frac{{\\order[1]{\\lambda}}^{2} {\\ddot{E}}_{Idx\\left(i\\right),Idx\\left(k\\right)} {{\\order[1]{\\xi}}}_{Idx\\left(k\\right)}}{6} + \\frac{{\\order[1]{\\lambda}}^{2} {\\ddot{E}}_{Idx\\left(i\\right),Idx\\left(l\\right)} {{\\order[1]{\\xi}}}_{Idx\\left(l\\right)}}{6} + \\frac{{\\order[1]{\\lambda}} {\\dot{E}}_{Idx\\left(i\\right),Idx\\left(j\\right),Idx\\left(k\\right)} {{\\order[1]{\\xi}}}_{Idx\\left(j\\right)} {{\\order[1]{\\xi}}}_{Idx\\left(k\\right)}}{6} + \\frac{{\\order[1]{\\lambda}} {\\dot{E}}_{Idx\\left(i\\right),Idx\\left(j\\right),Idx\\left(l\\right)} {{\\order[1]{\\xi}}}_{Idx\\left(j\\right)} {{\\order[1]{\\xi}}}_{Idx\\left(l\\right)}}{6} + \\frac{{\\order[1]{\\lambda}} {\\dot{E}}_{Idx\\left(i\\right),Idx\\left(k\\right),Idx\\left(l\\right)} {{\\order[1]{\\xi}}}_{Idx\\left(k\\right)} {{\\order[1]{\\xi}}}_{Idx\\left(l\\right)}}{6} + \\frac{{E}_{Idx\\left(i\\right),Idx\\left(j\\right),Idx\\left(k\\right),Idx\\left(l\\right)} {{\\order[1]{\\xi}}}_{Idx\\left(j\\right)} {{\\order[1]{\\xi}}}_{Idx\\left(k\\right)} {{\\order[1]{\\xi}}}_{Idx\\left(l\\right)}}{6}$"
      ],
      "text/plain": [
       "\\dot{\\E}_2*\\lambda[j, k]*v[i]*v[l]*{\\order[1]{\\xi}}[j]*{\\order[1]{\\xi}}[k]*{\\order[1]{\\xi}}[l]/6 + \\dot{\\E}_2*\\lambda[j, l]*v[i]*v[k]*{\\order[1]{\\xi}}[j]*{\\order[1]{\\xi}}[k]*{\\order[1]{\\xi}}[l]/6 + \\dot{\\E}_2*\\lambda[k, l]*v[i]*v[j]*{\\order[1]{\\xi}}[j]*{\\order[1]{\\xi}}[k]*{\\order[1]{\\xi}}[l]/6 + {\\order[1]{\\lambda}}**2*\\ddot{E}[i, j]*{\\order[1]{\\xi}}[j]/6 + {\\order[1]{\\lambda}}**2*\\ddot{E}[i, k]*{\\order[1]{\\xi}}[k]/6 + {\\order[1]{\\lambda}}**2*\\ddot{E}[i, l]*{\\order[1]{\\xi}}[l]/6 + {\\order[1]{\\lambda}}*\\dot{E}[i, j, k]*{\\order[1]{\\xi}}[j]*{\\order[1]{\\xi}}[k]/6 + {\\order[1]{\\lambda}}*\\dot{E}[i, j, l]*{\\order[1]{\\xi}}[j]*{\\order[1]{\\xi}}[l]/6 + {\\order[1]{\\lambda}}*\\dot{E}[i, k, l]*{\\order[1]{\\xi}}[k]*{\\order[1]{\\xi}}[l]/6 + E[i, j, k, l]*{\\order[1]{\\xi}}[j]*{\\order[1]{\\xi}}[k]*{\\order[1]{\\xi}}[l]/6"
      ]
     },
     "execution_count": 153,
     "metadata": {},
     "output_type": "execute_result"
    }
   ],
   "source": [
    "lhs2e = lhs2d.subs({\n",
    "    E2_dot * v_[i] * w_[j, _λ]: (E_ddot_[i, j] - E2_ddot * v_[i] * v_[j]) / 2,\n",
    "    E2_dot * v_[i] * w_[k, _λ]: (E_ddot_[i, k] - E2_ddot * v_[i] * v_[k]) / 2,\n",
    "    E2_dot * v_[i] * w_[l, _λ]: (E_ddot_[i, l] - E2_ddot * v_[i] * v_[l]) / 2,\n",
    "}).subs(rules[r\"\\ddot{E}_ij\"]).expand()\n",
    "lhs2e"
   ]
  },
  {
   "cell_type": "markdown",
   "id": "998a92ff-ef1f-49e5-8ae4-db247799cf85",
   "metadata": {},
   "source": [
    "Upon susbtitution of $\\order[1]{\\xi}_j \\, \\order[1]{\\xi}_k \\, \\lambda_{jk}$ with $\\order[2]{\\lambda} - \\lambda_k \\, \\order[2]{\\xi_k}$ \\[see Eq. (@eq-20230116205753)\\]"
   ]
  },
  {
   "cell_type": "code",
   "execution_count": 165,
   "id": "cbca7dc5-b4e9-4653-a8cf-0474cc044c23",
   "metadata": {},
   "outputs": [
    {
     "data": {
      "text/latex": [
       "$\\displaystyle \\frac{{\\order[1]{\\lambda}}^{2} {\\ddot{E}}_{Idx\\left(i\\right),Idx\\left(j\\right)} {{\\order[1]{\\xi}}}_{Idx\\left(j\\right)}}{6} + \\frac{{\\order[1]{\\lambda}}^{2} {\\ddot{E}}_{Idx\\left(i\\right),Idx\\left(k\\right)} {{\\order[1]{\\xi}}}_{Idx\\left(k\\right)}}{6} + \\frac{{\\order[1]{\\lambda}}^{2} {\\ddot{E}}_{Idx\\left(i\\right),Idx\\left(l\\right)} {{\\order[1]{\\xi}}}_{Idx\\left(l\\right)}}{6} + \\frac{{\\order[1]{\\lambda}} {\\dot{E}}_{Idx\\left(i\\right),Idx\\left(j\\right),Idx\\left(k\\right)} {{\\order[1]{\\xi}}}_{Idx\\left(j\\right)} {{\\order[1]{\\xi}}}_{Idx\\left(k\\right)}}{6} + \\frac{{\\order[1]{\\lambda}} {\\dot{E}}_{Idx\\left(i\\right),Idx\\left(j\\right),Idx\\left(l\\right)} {{\\order[1]{\\xi}}}_{Idx\\left(j\\right)} {{\\order[1]{\\xi}}}_{Idx\\left(l\\right)}}{6} + \\frac{{\\order[1]{\\lambda}} {\\dot{E}}_{Idx\\left(i\\right),Idx\\left(k\\right),Idx\\left(l\\right)} {{\\order[1]{\\xi}}}_{Idx\\left(k\\right)} {{\\order[1]{\\xi}}}_{Idx\\left(l\\right)}}{6} + \\frac{{\\order[2]{\\lambda}} {\\dot{E}}_{Idx\\left(i\\right),Idx\\left(j\\right)} {{\\order[1]{\\xi}}}_{Idx\\left(j\\right)}}{6} + \\frac{{\\order[2]{\\lambda}} {\\dot{E}}_{Idx\\left(i\\right),Idx\\left(k\\right)} {{\\order[1]{\\xi}}}_{Idx\\left(k\\right)}}{6} + \\frac{{\\order[2]{\\lambda}} {\\dot{E}}_{Idx\\left(i\\right),Idx\\left(l\\right)} {{\\order[1]{\\xi}}}_{Idx\\left(l\\right)}}{6} + \\frac{{E}_{Idx\\left(i\\right),Idx\\left(j\\right),Idx\\left(k\\right),Idx\\left(l\\right)} {{\\order[1]{\\xi}}}_{Idx\\left(j\\right)} {{\\order[1]{\\xi}}}_{Idx\\left(k\\right)} {{\\order[1]{\\xi}}}_{Idx\\left(l\\right)}}{6} - \\frac{{\\dot{E}}_{Idx\\left(i\\right),Idx\\left(j\\right)} {\\lambda}_{Idx\\left(k\\right)} {{\\order[1]{\\xi}}}_{Idx\\left(j\\right)} {{\\order[2]{\\xi}}}_{Idx\\left(k\\right)}}{6} - \\frac{{\\dot{E}}_{Idx\\left(i\\right),Idx\\left(k\\right)} {\\lambda}_{Idx\\left(j\\right)} {{\\order[1]{\\xi}}}_{Idx\\left(k\\right)} {{\\order[2]{\\xi}}}_{Idx\\left(j\\right)}}{6} - \\frac{{\\dot{E}}_{Idx\\left(i\\right),Idx\\left(l\\right)} {\\lambda}_{Idx\\left(j\\right)} {{\\order[1]{\\xi}}}_{Idx\\left(l\\right)} {{\\order[2]{\\xi}}}_{Idx\\left(j\\right)}}{6}$"
      ],
      "text/plain": [
       "{\\order[1]{\\lambda}}**2*\\ddot{E}[i, j]*{\\order[1]{\\xi}}[j]/6 + {\\order[1]{\\lambda}}**2*\\ddot{E}[i, k]*{\\order[1]{\\xi}}[k]/6 + {\\order[1]{\\lambda}}**2*\\ddot{E}[i, l]*{\\order[1]{\\xi}}[l]/6 + {\\order[1]{\\lambda}}*\\dot{E}[i, j, k]*{\\order[1]{\\xi}}[j]*{\\order[1]{\\xi}}[k]/6 + {\\order[1]{\\lambda}}*\\dot{E}[i, j, l]*{\\order[1]{\\xi}}[j]*{\\order[1]{\\xi}}[l]/6 + {\\order[1]{\\lambda}}*\\dot{E}[i, k, l]*{\\order[1]{\\xi}}[k]*{\\order[1]{\\xi}}[l]/6 + {\\order[2]{\\lambda}}*\\dot{E}[i, j]*{\\order[1]{\\xi}}[j]/6 + {\\order[2]{\\lambda}}*\\dot{E}[i, k]*{\\order[1]{\\xi}}[k]/6 + {\\order[2]{\\lambda}}*\\dot{E}[i, l]*{\\order[1]{\\xi}}[l]/6 + E[i, j, k, l]*{\\order[1]{\\xi}}[j]*{\\order[1]{\\xi}}[k]*{\\order[1]{\\xi}}[l]/6 - \\dot{E}[i, j]*\\lambda[k]*{\\order[1]{\\xi}}[j]*{\\order[2]{\\xi}}[k]/6 - \\dot{E}[i, k]*\\lambda[j]*{\\order[1]{\\xi}}[k]*{\\order[2]{\\xi}}[j]/6 - \\dot{E}[i, l]*\\lambda[j]*{\\order[1]{\\xi}}[l]*{\\order[2]{\\xi}}[j]/6"
      ]
     },
     "execution_count": 165,
     "metadata": {},
     "output_type": "execute_result"
    }
   ],
   "source": [
    "(lhs2f := lhs2e.subs({\n",
    "    ξ1_[j] * ξ1_[k] * λ_[j, k]: λ2 - λ_[j] * ξ2_[j],\n",
    "    ξ1_[j] * ξ1_[l] * λ_[j, l]: λ2 - λ_[j] * ξ2_[j],\n",
    "    ξ1_[k] * ξ1_[l] * λ_[k, l]: λ2 - λ_[k] * ξ2_[k]\n",
    "}).subs(rules[r\"\\dot{E}_ij\"]).expand())"
   ]
  },
  {
   "cell_type": "markdown",
   "id": "aaccffa0-0f80-434b-bbe7-afb2320b10fd",
   "metadata": {},
   "source": [
    "Finally, we use Eq. (@eq-20230120210008)"
   ]
  },
  {
   "cell_type": "code",
   "execution_count": 166,
   "id": "e9fecf02-eadf-4313-9467-02e3f53a9e9f",
   "metadata": {},
   "outputs": [
    {
     "data": {
      "text/latex": [
       "$\\displaystyle \\frac{{\\order[1]{\\lambda}}^{2} {\\ddot{E}}_{Idx\\left(i\\right),Idx\\left(j\\right)} {{\\order[1]{\\xi}}}_{Idx\\left(j\\right)}}{6} + \\frac{{\\order[1]{\\lambda}}^{2} {\\ddot{E}}_{Idx\\left(i\\right),Idx\\left(k\\right)} {{\\order[1]{\\xi}}}_{Idx\\left(k\\right)}}{6} + \\frac{{\\order[1]{\\lambda}}^{2} {\\ddot{E}}_{Idx\\left(i\\right),Idx\\left(l\\right)} {{\\order[1]{\\xi}}}_{Idx\\left(l\\right)}}{6} + \\frac{{\\order[1]{\\lambda}} {\\dot{E}}_{Idx\\left(i\\right),Idx\\left(j\\right),Idx\\left(k\\right)} {{\\order[1]{\\xi}}}_{Idx\\left(j\\right)} {{\\order[1]{\\xi}}}_{Idx\\left(k\\right)}}{6} + \\frac{{\\order[1]{\\lambda}} {\\dot{E}}_{Idx\\left(i\\right),Idx\\left(j\\right),Idx\\left(l\\right)} {{\\order[1]{\\xi}}}_{Idx\\left(j\\right)} {{\\order[1]{\\xi}}}_{Idx\\left(l\\right)}}{6} + \\frac{{\\order[1]{\\lambda}} {\\dot{E}}_{Idx\\left(i\\right),Idx\\left(k\\right),Idx\\left(l\\right)} {{\\order[1]{\\xi}}}_{Idx\\left(k\\right)} {{\\order[1]{\\xi}}}_{Idx\\left(l\\right)}}{6} + \\frac{{\\order[2]{\\lambda}} {\\dot{E}}_{Idx\\left(i\\right),Idx\\left(j\\right)} {{\\order[1]{\\xi}}}_{Idx\\left(j\\right)}}{6} + \\frac{{\\order[2]{\\lambda}} {\\dot{E}}_{Idx\\left(i\\right),Idx\\left(k\\right)} {{\\order[1]{\\xi}}}_{Idx\\left(k\\right)}}{6} + \\frac{{\\order[2]{\\lambda}} {\\dot{E}}_{Idx\\left(i\\right),Idx\\left(l\\right)} {{\\order[1]{\\xi}}}_{Idx\\left(l\\right)}}{6} + \\frac{{E}_{Idx\\left(i\\right),Idx\\left(j\\right),Idx\\left(k\\right),Idx\\left(l\\right)} {{\\order[1]{\\xi}}}_{Idx\\left(j\\right)} {{\\order[1]{\\xi}}}_{Idx\\left(k\\right)} {{\\order[1]{\\xi}}}_{Idx\\left(l\\right)}}{6} + \\frac{{E}_{Idx\\left(i\\right),Idx\\left(j\\right),Idx\\left(k\\right)} {{\\order[1]{\\xi}}}_{Idx\\left(j\\right)} {{\\order[2]{\\xi}}}_{Idx\\left(k\\right)}}{6} + \\frac{{E}_{Idx\\left(i\\right),Idx\\left(j\\right),Idx\\left(k\\right)} {{\\order[1]{\\xi}}}_{Idx\\left(k\\right)} {{\\order[2]{\\xi}}}_{Idx\\left(j\\right)}}{6} + \\frac{{E}_{Idx\\left(i\\right),Idx\\left(j\\right),Idx\\left(l\\right)} {{\\order[1]{\\xi}}}_{Idx\\left(l\\right)} {{\\order[2]{\\xi}}}_{Idx\\left(j\\right)}}{6} + \\frac{{\\dot{E}}_{Idx\\left(i\\right),Idx\\left(j\\right)} {\\lambda}_{Idx\\left(k\\right)} {{\\order[1]{\\xi}}}_{Idx\\left(k\\right)} {{\\order[2]{\\xi}}}_{Idx\\left(j\\right)}}{6} + \\frac{{\\dot{E}}_{Idx\\left(i\\right),Idx\\left(j\\right)} {\\lambda}_{Idx\\left(l\\right)} {{\\order[1]{\\xi}}}_{Idx\\left(l\\right)} {{\\order[2]{\\xi}}}_{Idx\\left(j\\right)}}{6} + \\frac{{\\dot{E}}_{Idx\\left(i\\right),Idx\\left(k\\right)} {\\lambda}_{Idx\\left(j\\right)} {{\\order[1]{\\xi}}}_{Idx\\left(j\\right)} {{\\order[2]{\\xi}}}_{Idx\\left(k\\right)}}{6}$"
      ],
      "text/plain": [
       "{\\order[1]{\\lambda}}**2*\\ddot{E}[i, j]*{\\order[1]{\\xi}}[j]/6 + {\\order[1]{\\lambda}}**2*\\ddot{E}[i, k]*{\\order[1]{\\xi}}[k]/6 + {\\order[1]{\\lambda}}**2*\\ddot{E}[i, l]*{\\order[1]{\\xi}}[l]/6 + {\\order[1]{\\lambda}}*\\dot{E}[i, j, k]*{\\order[1]{\\xi}}[j]*{\\order[1]{\\xi}}[k]/6 + {\\order[1]{\\lambda}}*\\dot{E}[i, j, l]*{\\order[1]{\\xi}}[j]*{\\order[1]{\\xi}}[l]/6 + {\\order[1]{\\lambda}}*\\dot{E}[i, k, l]*{\\order[1]{\\xi}}[k]*{\\order[1]{\\xi}}[l]/6 + {\\order[2]{\\lambda}}*\\dot{E}[i, j]*{\\order[1]{\\xi}}[j]/6 + {\\order[2]{\\lambda}}*\\dot{E}[i, k]*{\\order[1]{\\xi}}[k]/6 + {\\order[2]{\\lambda}}*\\dot{E}[i, l]*{\\order[1]{\\xi}}[l]/6 + E[i, j, k, l]*{\\order[1]{\\xi}}[j]*{\\order[1]{\\xi}}[k]*{\\order[1]{\\xi}}[l]/6 + E[i, j, k]*{\\order[1]{\\xi}}[j]*{\\order[2]{\\xi}}[k]/6 + E[i, j, k]*{\\order[1]{\\xi}}[k]*{\\order[2]{\\xi}}[j]/6 + E[i, j, l]*{\\order[1]{\\xi}}[l]*{\\order[2]{\\xi}}[j]/6 + \\dot{E}[i, j]*\\lambda[k]*{\\order[1]{\\xi}}[k]*{\\order[2]{\\xi}}[j]/6 + \\dot{E}[i, j]*\\lambda[l]*{\\order[1]{\\xi}}[l]*{\\order[2]{\\xi}}[j]/6 + \\dot{E}[i, k]*\\lambda[j]*{\\order[1]{\\xi}}[j]*{\\order[2]{\\xi}}[k]/6"
      ]
     },
     "execution_count": 166,
     "metadata": {},
     "output_type": "execute_result"
    }
   ],
   "source": [
    "(lhs2g := lhs2f.subs({\n",
    "    λ_[j] * ξ2_[j] * E_dot_[i, k]: -(E_[i, j, k] + λ_[k] * E_dot_[i, j]) * ξ2_[j],\n",
    "    λ_[j] * ξ2_[j] * E_dot_[i, l]: -(E_[i, j, l] + λ_[l] * E_dot_[i, j]) * ξ2_[j],\n",
    "    λ_[k] * ξ2_[k] * E_dot_[i, j]: -(E_[i, j, k] + λ_[j] * E_dot_[i, k]) * ξ2_[k],\n",
    "    λ_[k] * ξ2_[k] * E_dot_[i, l]: -(E_[i, k, l] + λ_[l] * E_dot_[i, k]) * ξ2_[k],\n",
    "    λ_[l] * ξ2_[l] * E_dot_[i, j]: -(E_[i, j, l] + λ_[j] * E_dot_[i, l]) * ξ2_[l],\n",
    "    λ_[l] * ξ2_[l] * E_dot_[i, k]: -(E_[i, k, l] + λ_[k] * E_dot_[i, l]) * ξ2_[l],\n",
    "}).subs(rules[\"λ⁽¹⁾\"]).expand())"
   ]
  },
  {
   "cell_type": "code",
   "execution_count": 167,
   "id": "c1765c09-1cd8-4f85-8d95-f1e2e3cdbc5d",
   "metadata": {},
   "outputs": [
    {
     "data": {
      "text/latex": [
       "$\\displaystyle \\frac{{\\order[1]{\\lambda}}^{2} {\\ddot{E}}_{Idx\\left(i\\right),Idx\\left(j\\right)} {{\\order[1]{\\xi}}}_{Idx\\left(j\\right)}}{2} + \\frac{{\\order[1]{\\lambda}} {\\dot{E}}_{Idx\\left(i\\right),Idx\\left(j\\right),Idx\\left(k\\right)} {{\\order[1]{\\xi}}}_{Idx\\left(j\\right)} {{\\order[1]{\\xi}}}_{Idx\\left(k\\right)}}{2} + \\frac{{\\order[1]{\\lambda}} {\\dot{E}}_{Idx\\left(i\\right),Idx\\left(j\\right)} {{\\order[1]{\\xi}}}_{Idx\\left(j\\right)}}{6} + \\frac{{\\order[1]{\\lambda}} {\\dot{E}}_{Idx\\left(i\\right),Idx\\left(j\\right)} {{\\order[2]{\\xi}}}_{Idx\\left(j\\right)}}{3} + \\frac{{\\order[2]{\\lambda}} {\\dot{E}}_{Idx\\left(i\\right),Idx\\left(j\\right)} {{\\order[1]{\\xi}}}_{Idx\\left(j\\right)}}{2} + \\frac{{E}_{Idx\\left(i\\right),Idx\\left(j\\right),Idx\\left(k\\right),Idx\\left(l\\right)} {{\\order[1]{\\xi}}}_{Idx\\left(j\\right)} {{\\order[1]{\\xi}}}_{Idx\\left(k\\right)} {{\\order[1]{\\xi}}}_{Idx\\left(l\\right)}}{6} + \\frac{{E}_{Idx\\left(i\\right),Idx\\left(j\\right),Idx\\left(k\\right)} {{\\order[1]{\\xi}}}_{Idx\\left(j\\right)} {{\\order[2]{\\xi}}}_{Idx\\left(k\\right)}}{2}$"
      ],
      "text/plain": [
       "{\\order[1]{\\lambda}}**2*\\ddot{E}[i, j]*{\\order[1]{\\xi}}[j]/2 + {\\order[1]{\\lambda}}*\\dot{E}[i, j, k]*{\\order[1]{\\xi}}[j]*{\\order[1]{\\xi}}[k]/2 + {\\order[1]{\\lambda}}*\\dot{E}[i, j]*{\\order[1]{\\xi}}[j]/6 + {\\order[1]{\\lambda}}*\\dot{E}[i, j]*{\\order[2]{\\xi}}[j]/3 + {\\order[2]{\\lambda}}*\\dot{E}[i, j]*{\\order[1]{\\xi}}[j]/2 + E[i, j, k, l]*{\\order[1]{\\xi}}[j]*{\\order[1]{\\xi}}[k]*{\\order[1]{\\xi}}[l]/6 + E[i, j, k]*{\\order[1]{\\xi}}[j]*{\\order[2]{\\xi}}[k]/2"
      ]
     },
     "execution_count": 167,
     "metadata": {},
     "output_type": "execute_result"
    }
   ],
   "source": [
    "(lhs2h := lhs2g.subs({\n",
    "    E_dot_[i, k] * ξ1_[k] : E_dot_[i, j] * ξ1_[j],\n",
    "    E_dot_[i, l] * ξ1_[l] : E_dot_[i, j] * ξ1_[j],\n",
    "    E_dot_[i, k] * ξ2_[k] : E_dot_[i, j] * ξ1_[j],\n",
    "    E_dot_[i, l] * ξ2_[l] : E_dot_[i, j] * ξ1_[j],\n",
    "    E_ddot_[i, k] * ξ1_[k] : E_ddot_[i, j] * ξ1_[j],\n",
    "    E_ddot_[i, l] * ξ1_[l] : E_ddot_[i, j] * ξ1_[j],\n",
    "    E_[i, j, k] * ξ1_[k] * ξ2_[j]: E_[i, j, k] * ξ1_[j] * ξ2_[k],\n",
    "    E_[i, j, l] * ξ1_[j] * ξ2_[l]: E_[i, j, k] * ξ1_[j] * ξ2_[k],\n",
    "    E_[i, j, l] * ξ1_[l] * ξ2_[j]: E_[i, j, k] * ξ1_[j] * ξ2_[k],\n",
    "    E_[i, k, l] * ξ1_[k] * ξ2_[l]: E_[i, j, k] * ξ1_[j] * ξ2_[k],\n",
    "    E_[i, k, l] * ξ1_[l] * ξ2_[k]: E_[i, j, k] * ξ1_[j] * ξ2_[k],\n",
    "    E_dot_[i, j, l] * ξ1_[j] * ξ1_[l]: E_dot_[i, j, k] * ξ1_[j] * ξ1_[k],\n",
    "    E_dot_[i, k, l] * ξ1_[k] * ξ1_[l]: E_dot_[i, j, k] * ξ1_[j] * ξ1_[k],\n",
    "}).expand().subs(rules[\"λ⁽¹⁾\"]))"
   ]
  },
  {
   "cell_type": "markdown",
   "id": "d948207e-ae2d-4ddf-b14f-2d4171b93c34",
   "metadata": {},
   "source": [
    "and Eq. (@eq-20230124205642) is retrieved."
   ]
  },
  {
   "cell_type": "markdown",
   "id": "233b33de-ee14-4fd1-bbdd-91106ab17d0e",
   "metadata": {},
   "source": [
    "## Taylor expansion of the bifurcated branch\n",
    "\n",
    "We now turn to $w$, which was defined in @sec-20230102030010 as an implicit function of $\\xi_1, \\ldots, \\xi_m$ and\n",
    "$\\lambda$. It is now defined as a function of the arc parameter $\\eta$ as follows: $w(n) = w[\\xi_1(\\eta), \\ldots, \\xi_m(\\eta), \\lambda(\\eta)]$.\n",
    "From the chain rule\n",
    "$$\n",
    "w'(\\eta) = \\frac{\\partial w}{\\partial \\xi_i} \\, \\xi_i' + \\frac{\\partial w}{\\partial \\lambda} \\, \\lambda'\n",
    "$$\n",
    "and\n",
    "$$\n",
    "w''(\\eta) = \\frac{\\partial^2 w}{\\partial \\xi_i \\, \\partial \\xi_j} \\, \\xi_i' \\, \\xi_j'\n",
    "+ 2\\frac{\\partial w}{\\partial \\xi_i \\, \\partial \\lambda} \\, \\xi_i' \\, \\lambda'\n",
    "+ \\frac{\\partial w}{\\partial \\xi_i} \\, \\xi_i''\n",
    "+ \\frac{\\partial^2 w}{\\partial \\lambda^2} \\, \\lambda^{'2}\n",
    "+ \\frac{\\partial w}{\\partial \\lambda} \\, \\lambda''.\n",
    "$$\n",
    "\n",
    "At $\\eta = 0$, the above identities reduce to\n",
    "$$\n",
    "w'(0) = 0\n",
    "\\quad \\text{and} \\quad\n",
    "w''(0) = \\order[1]{\\xi_i} \\, \\order[1]{\\xi_j} \\, w_{ij}  + 2 \\order[1]{\\lambda} \\, \\order[1]{\\xi_i} \\, w_{i\\lambda}\n",
    "$$\n",
    "\n",
    "We deduce from the above the Taylor expansion (@eq-20230528174310) of the bifurcated branch as $\\eta \\to 0$."
   ]
  }
 ],
 "metadata": {
  "kernelspec": {
   "display_name": "Python 3 (ipykernel)",
   "language": "python",
   "name": "python3"
  },
  "language_info": {
   "codemirror_mode": {
    "name": "ipython",
    "version": 3
   },
   "file_extension": ".py",
   "mimetype": "text/x-python",
   "name": "python",
   "nbconvert_exporter": "python",
   "pygments_lexer": "ipython3",
   "version": "3.10.6"
  },
  "toc-autonumbering": false,
  "toc-showtags": false
 },
 "nbformat": 4,
 "nbformat_minor": 5
}
