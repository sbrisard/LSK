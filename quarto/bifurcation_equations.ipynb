{
 "cells": [
  {
   "cell_type": "markdown",
   "id": "80f2c8c2-295e-4194-a81a-27a3adfbb4f7",
   "metadata": {
    "tags": []
   },
   "source": [
    "# Bifurcation equations {#sec-20230102153124}"
   ]
  },
  {
   "cell_type": "markdown",
   "id": "8cb9627a-0521-44e1-b0c4-cb2e90e408f4",
   "metadata": {},
   "source": [
    "This notebook uses $\\LaTeX\\newcommand{\\D}{\\mathrm{d}}\\newcommand{\\E}{\\mathcal{E}}\\newcommand{\\order}[2][1]{#2^{(#1)}}\\newcommand{\\reals}{\\mathbb{R}}$ custom macros."
   ]
  },
  {
   "cell_type": "markdown",
   "id": "6c755e9c-24e0-437a-8b51-8b2d97bd91ce",
   "metadata": {},
   "source": [
    "In this chapter, the bifurcation analysis of the perfect system is performed symbolically. The starting point is the symbolic expression of the energy $(u, \\lambda) \\mapsto \\E(u, \\lambda)$ that was derived in @sec-20230208081549."
   ]
  },
  {
   "cell_type": "markdown",
   "id": "62ad2dfb-1006-4f94-a4a1-2c61a719a6d7",
   "metadata": {},
   "source": [
    "To begin with, we perform the relevant initializations and retrieve the expression of the energy."
   ]
  },
  {
   "cell_type": "code",
   "execution_count": 1,
   "id": "0c4aa7ee-185d-46b8-af94-d18604b761aa",
   "metadata": {},
   "outputs": [],
   "source": [
    "import itertools\n",
    "\n",
    "from lsk import *\n",
    "from sympy import *"
   ]
  },
  {
   "cell_type": "code",
   "execution_count": 2,
   "id": "9d0026fc-3d66-4623-b110-daddc24381a4",
   "metadata": {},
   "outputs": [],
   "source": [
    "VERBOSE = False\n",
    "\n",
    "E_ij_dot, E_il_dot = symbols(r\"\\dot{E}_{ij} \\dot{E}_{il}\")\n",
    "E_il_ddot = symbols(r\"\\ddot{E}_{il}\")\n",
    "E_ijk, E_ijl = symbols(r\"E_{ijk} E_{ijl}\")\n",
    "E_ijk_dot = symbols(r\"\\dot{E}_{ijk}\")\n",
    "E_ijkl = symbols(r\"E_{ijkl}\")\n",
    "\n",
    "t, λ = symbols(r\"t \\lambda\")\n",
    "u, u_hat, w_hat = symbols(r\"u \\hat{u} \\hat{w}\")"
   ]
  },
  {
   "cell_type": "code",
   "execution_count": 52,
   "id": "1f61d116-2bd1-4f72-aeb8-cab168fe317e",
   "metadata": {},
   "outputs": [],
   "source": [
    "v = IndexedBase(\"v\")\n",
    "ξ = IndexedBase(r\"\\xi\")\n",
    "w = IndexedBase(\"w\")\n",
    "w_λ = IndexedBase(r\"w_\\lambda{}\")\n",
    "E_dot = IndexedBase(\"\\dot{E}\")\n",
    "E_ddot = IndexedBase(\"\\ddot{E}\")\n",
    "E_ = IndexedBase(\"E\")"
   ]
  },
  {
   "cell_type": "code",
   "execution_count": 4,
   "id": "3ccfb49a-12ee-4a9c-af45-02dc8ca56a26",
   "metadata": {},
   "outputs": [],
   "source": [
    "i = Idx(\"i\")\n",
    "j = Idx(\"j\")\n",
    "k = Idx(\"k\")\n",
    "l = Idx(\"l\")"
   ]
  },
  {
   "cell_type": "code",
   "execution_count": 5,
   "id": "3ae7695e-4107-45e1-93c0-cf968d260060",
   "metadata": {},
   "outputs": [],
   "source": [
    "__index_number = itertools.count()\n",
    "\n",
    "def new_index():\n",
    "    return Idx(r\"i_{\" + str(next(__index_number)) + \"}\")\n",
    "    #return Symbol(r\"i_{\" + str(next(__index_number)) + \"}\")"
   ]
  },
  {
   "cell_type": "code",
   "execution_count": 35,
   "id": "d3259236-2e05-4b32-99a8-df9967b7f504",
   "metadata": {},
   "outputs": [],
   "source": [
    "w_is_symmetric = {\n",
    "    w[j, i]: w[i, j],\n",
    "    w[k, i]: w[i, k],\n",
    "    w[k, j]: w[j, k],\n",
    "    w[l, i]: w[i, l],\n",
    "    w[l, j]: w[j, l],\n",
    "    w[l, k]: w[k, l]\n",
    "}\n",
    "\n",
    "λ_is_symmetric = {\n",
    "    λ[j, i]: λ[i, j],\n",
    "    λ[k, i]: λ[i, k],\n",
    "    λ[k, j]: λ[j, k],\n",
    "    λ[l, i]: λ[i, l],\n",
    "    λ[l, j]: λ[j, l],\n",
    "    λ[l, k]: λ[k, l]\n",
    "}"
   ]
  },
  {
   "cell_type": "code",
   "execution_count": 39,
   "id": "6ca14585-e729-461b-9601-bcd1cad50564",
   "metadata": {},
   "outputs": [],
   "source": [
    "def symmetrize(expr):\n",
    "    if not expr.is_Mul:\n",
    "        raise ValueError()\n",
    "    struct = get_contraction_structure(expr)\n",
    "    indices = next(iter(struct))\n",
    "    if len(indices) == 3:\n",
    "        j, k, l = indices\n",
    "        # Assign temporary indices\n",
    "        jj = new_index()\n",
    "        kk = new_index()\n",
    "        ll = new_index()\n",
    "        expr = expr.subs({j: jj, k: kk, l: ll})\n",
    "        return (expr.subs({jj: j, kk: k, ll: l})\n",
    "                + expr.subs({jj: j, kk: l, ll: k})\n",
    "                + expr.subs({jj: k, kk: l, ll: j})\n",
    "                + expr.subs({jj: k, kk: j, ll: l})\n",
    "                + expr.subs({jj: l, kk: j, ll: k})\n",
    "                + expr.subs({jj: l, kk: k, ll: j})) / 6\n",
    "    else:\n",
    "        raise ValueError()"
   ]
  },
  {
   "cell_type": "code",
   "execution_count": 40,
   "id": "3ece1d1e-c153-4691-b2cb-e49c5c84049c",
   "metadata": {},
   "outputs": [],
   "source": [
    "def standardize_indices(expr):\n",
    "    if not expr.is_Mul:\n",
    "        raise ValueError()\n",
    "    struct = get_contraction_structure(expr)\n",
    "    indices = next(iter(struct))\n",
    "    if len(indices) == 3:\n",
    "        j, k, l = indices\n",
    "        return expr.subs({j: Idx(\"j\"), k: Idx(\"k\"), l: Idx(\"l\")})\n",
    "    else:\n",
    "        raise ValueError()"
   ]
  },
  {
   "cell_type": "code",
   "execution_count": 6,
   "id": "a746c5f0-f5f7-4d9a-ada3-dd851d190b08",
   "metadata": {},
   "outputs": [],
   "source": [
    "u_star = create_u_star()\n",
    "E = create_E().expand()"
   ]
  },
  {
   "cell_type": "code",
   "execution_count": 7,
   "id": "caf1fde4-c198-4630-8721-afe95fcc7ffe",
   "metadata": {},
   "outputs": [
    {
     "data": {
      "text/latex": [
       "$\\displaystyle u^\\star(\\lambda)=\\frac{\\ddddot{u}_0 \\lambda^{4}}{24} + \\frac{\\dddot{u}_0 \\lambda^{3}}{6} + \\frac{\\ddot{u}_0 \\lambda^{2}}{2} + \\dot{u}_0 \\lambda$"
      ],
      "text/plain": [
       "<IPython.core.display.Math object>"
      ]
     },
     "metadata": {},
     "output_type": "display_data"
    },
    {
     "data": {
      "text/latex": [
       "$\\displaystyle \\E(u, \\lambda)=- \\frac{\\E_{2} \\dddot{u}_0 \\lambda^{3} u}{6} - \\frac{\\E_{2} \\ddot{u}_0 \\lambda^{2} u}{2} - \\E_{2} \\dot{u}_0 \\lambda u + \\frac{\\E_{2} u^{2}}{2} + \\frac{\\E_{3} \\ddot{u}_0 \\dot{u}_0 \\lambda^{3} u}{2} - \\frac{\\E_{3} \\ddot{u}_0 \\lambda^{2} u^{2}}{4} + \\frac{\\E_{3} \\dot{u}_0^{2} \\lambda^{2} u}{2} - \\frac{\\E_{3} \\dot{u}_0 \\lambda u^{2}}{2} + \\frac{\\E_{3} u^{3}}{6} - \\frac{\\E_{4} \\dot{u}_0^{3} \\lambda^{3} u}{6} + \\frac{\\E_{4} \\dot{u}_0^{2} \\lambda^{2} u^{2}}{4} - \\frac{\\E_{4} \\dot{u}_0 \\lambda u^{3}}{6} + \\frac{\\E_{4} u^{4}}{24} + \\frac{\\E_{\\lambda\\lambda\\lambda\\lambda} \\lambda^{4}}{24} + \\frac{\\E_{\\lambda\\lambda\\lambda} \\lambda^{3}}{6} + \\frac{\\E_{\\lambda\\lambda} \\lambda^{2}}{2} + \\E_{\\lambda} \\lambda - \\frac{\\ddot{\\E}_2 \\dot{u}_0 \\lambda^{3} u}{2} + \\frac{\\ddot{\\E}_2 \\lambda^{2} u^{2}}{4} - \\frac{\\ddot{u}_0 \\dot{\\E}_2 \\lambda^{3} u}{2} - \\dot{\\E}_2 \\dot{u}_0 \\lambda^{2} u + \\frac{\\dot{\\E}_2 \\lambda u^{2}}{2} + \\frac{\\dot{\\E}_3 \\dot{u}_0^{2} \\lambda^{3} u}{2} - \\frac{\\dot{\\E}_3 \\dot{u}_0 \\lambda^{2} u^{2}}{2} + \\frac{\\dot{\\E}_3 \\lambda u^{3}}{6}$"
      ],
      "text/plain": [
       "<IPython.core.display.Math object>"
      ]
     },
     "metadata": {},
     "output_type": "display_data"
    }
   ],
   "source": [
    "#| code-fold: true\n",
    "display_latex_equation(r\"u^\\star(\\lambda)\", u_star)\n",
    "display_latex_equation(r\"\\E(u, \\lambda)\", E)"
   ]
  },
  {
   "cell_type": "markdown",
   "id": "f382cfbb-6e4a-4fb8-b2b5-5d384f60e060",
   "metadata": {},
   "source": [
    "## Outline of the strategy"
   ]
  },
  {
   "cell_type": "markdown",
   "id": "ff0d4b51-491a-486a-8ab9-5c133ecb1f9f",
   "metadata": {},
   "source": [
    "In this section, we show that, besides the fundamental branch $u^\\ast(\\lambda)$, other (bifurcated) equilibrium branches may pass through the critical point $(u_0, \\lambda_0)$. The starting point is the characterization of an equilibrium by the stationarity of the energy, which defines all equilibrium branches as implicit functions, which can be expanded with respect to some perturbation parameter."
   ]
  },
  {
   "cell_type": "markdown",
   "id": "dbab2d0c-472a-49ab-8ffa-d660996e9dbf",
   "metadata": {},
   "source": [
    "The approach adopted here relies on the Lyapunov–Schmidt decomposition (see below). Note that other approaches are possible, see e.g. @chak2018."
   ]
  },
  {
   "cell_type": "markdown",
   "id": "0e118269-d4a8-48e5-af66-bd2495cd6128",
   "metadata": {},
   "source": [
    "For a given value of $\\lambda$ (close to the critical value $\\lambda_0$), we seek an equilibrium point $u$ of the\n",
    "system, such that\n",
    "\n",
    "$$\n",
    "\\E_{,u}(u, \\lambda; \\hat{u}) = 0 \\quad \\text{for all} \\quad \\hat{u} \\in U.\n",
    "$$ {#eq-20230102025737}"
   ]
  },
  {
   "cell_type": "code",
   "execution_count": 8,
   "id": "5d157a60-3d5b-4fb7-987c-97e8015c6766",
   "metadata": {},
   "outputs": [
    {
     "data": {
      "text/latex": [
       "$\\displaystyle - \\frac{\\E_{2} \\dddot{u}_0 \\hat{u} \\lambda^{3}}{6} - \\frac{\\E_{2} \\ddot{u}_0 \\hat{u} \\lambda^{2}}{2} - \\E_{2} \\dot{u}_0 \\hat{u} \\lambda + \\E_{2} \\hat{u} u + \\frac{\\E_{3} \\ddot{u}_0 \\dot{u}_0 \\hat{u} \\lambda^{3}}{2} - \\frac{\\E_{3} \\ddot{u}_0 \\hat{u} \\lambda^{2} u}{2} + \\frac{\\E_{3} \\dot{u}_0^{2} \\hat{u} \\lambda^{2}}{2} - \\E_{3} \\dot{u}_0 \\hat{u} \\lambda u + \\frac{\\E_{3} \\hat{u} u^{2}}{2} - \\frac{\\E_{4} \\dot{u}_0^{3} \\hat{u} \\lambda^{3}}{6} + \\frac{\\E_{4} \\dot{u}_0^{2} \\hat{u} \\lambda^{2} u}{2} - \\frac{\\E_{4} \\dot{u}_0 \\hat{u} \\lambda u^{2}}{2} + \\frac{\\E_{4} \\hat{u} u^{3}}{6} - \\frac{\\ddot{\\E}_2 \\dot{u}_0 \\hat{u} \\lambda^{3}}{2} + \\frac{\\ddot{\\E}_2 \\hat{u} \\lambda^{2} u}{2} - \\frac{\\ddot{u}_0 \\dot{\\E}_2 \\hat{u} \\lambda^{3}}{2} - \\dot{\\E}_2 \\dot{u}_0 \\hat{u} \\lambda^{2} + \\dot{\\E}_2 \\hat{u} \\lambda u + \\frac{\\dot{\\E}_3 \\dot{u}_0^{2} \\hat{u} \\lambda^{3}}{2} - \\dot{\\E}_3 \\dot{u}_0 \\hat{u} \\lambda^{2} u + \\frac{\\dot{\\E}_3 \\hat{u} \\lambda u^{2}}{2} = 0$"
      ],
      "text/plain": [
       "Eq(-\\E_2*\\dddot{u}_0*\\hat{u}*\\lambda**3/6 - \\E_2*\\ddot{u}_0*\\hat{u}*\\lambda**2/2 - \\E_2*\\dot{u}_0*\\hat{u}*\\lambda + \\E_2*\\hat{u}*u + \\E_3*\\ddot{u}_0*\\dot{u}_0*\\hat{u}*\\lambda**3/2 - \\E_3*\\ddot{u}_0*\\hat{u}*\\lambda**2*u/2 + \\E_3*\\dot{u}_0**2*\\hat{u}*\\lambda**2/2 - \\E_3*\\dot{u}_0*\\hat{u}*\\lambda*u + \\E_3*\\hat{u}*u**2/2 - \\E_4*\\dot{u}_0**3*\\hat{u}*\\lambda**3/6 + \\E_4*\\dot{u}_0**2*\\hat{u}*\\lambda**2*u/2 - \\E_4*\\dot{u}_0*\\hat{u}*\\lambda*u**2/2 + \\E_4*\\hat{u}*u**3/6 - \\ddot{\\E}_2*\\dot{u}_0*\\hat{u}*\\lambda**3/2 + \\ddot{\\E}_2*\\hat{u}*\\lambda**2*u/2 - \\ddot{u}_0*\\dot{\\E}_2*\\hat{u}*\\lambda**3/2 - \\dot{\\E}_2*\\dot{u}_0*\\hat{u}*\\lambda**2 + \\dot{\\E}_2*\\hat{u}*\\lambda*u + \\dot{\\E}_3*\\dot{u}_0**2*\\hat{u}*\\lambda**3/2 - \\dot{\\E}_3*\\dot{u}_0*\\hat{u}*\\lambda**2*u + \\dot{\\E}_3*\\hat{u}*\\lambda*u**2/2, 0)"
      ]
     },
     "execution_count": 8,
     "metadata": {},
     "output_type": "execute_result"
    }
   ],
   "source": [
    "res = (create_E_u() * u_hat).expand()\n",
    "Eq(res, 0)"
   ]
  },
  {
   "cell_type": "markdown",
   "id": "69db1968-1142-42b6-8c7b-2a99fa467f5e",
   "metadata": {},
   "source": [
    "for all $\\hat{u} \\in U$."
   ]
  },
  {
   "cell_type": "markdown",
   "id": "01d308b0-b343-4474-aa2b-7ab6d31491a8",
   "metadata": {},
   "source": [
    "The equilibrium state $u$ is projected onto the orthogonal subspaces $V$ and $W$.\n",
    "$$\n",
    "u = u^\\ast(\\lambda) + \\xi_i \\, v_i + w, \\quad \\text{with} \\quad w \\in W.\n",
    "$$ {#eq-20220902174235}"
   ]
  },
  {
   "cell_type": "markdown",
   "id": "b38fa1a8-a75a-4f35-8a13-dddb3a8f2676",
   "metadata": {},
   "source": [
    "It follows from the orthogonality of $V$ and $W$ that $\\langle v_i, w \\rangle = 0$ for all $i=1, \\ldots, m$. Analysis of the bifurcated branches therefore reduces to finding $\\xi_1, \\ldots, \\xi_m \\in \\reals$ and $w \\in W$, such that\n",
    "$$\n",
    "\\E_{,u}[u^\\ast(\\lambda) + \\xi_i \\, v_i + w, \\lambda; \\hat{u}] = 0 \\quad \\text{for all} \\quad \\hat{u} \\in U.\n",
    "$$ {#eq-20230107164346}"
   ]
  },
  {
   "cell_type": "markdown",
   "id": "39ffed7d-0756-4078-bdb6-0364246f5811",
   "metadata": {},
   "source": [
    "The method proceeds in three steps\n",
    "\n",
    "1. Eq. (@eq-20230107164346) is first expressed for $\\hat{u} \\in W$ which leads to a definition of $w$ as an implicit function of $\\xi_1, \\ldots, \\xi_m$ and $\\lambda$ (see @sec-20230102030010),\n",
    "2. Eq. (@eq-20230107164346) is then expressed for $\\hat{u} \\in V$ which leads to a definition of $\\lambda$ as an implicit function of $\\xi_1, \\ldots, \\xi_m$ (see @sec-20230102030125),\n",
    "3. finally, a parametrization $\\eta$ of $\\xi_1, \\ldots, \\xi_m$ is introduced and the Taylor expansion of $u$ and $\\lambda$ with respect to $\\eta$ is derived (see @sec-20230102030224)."
   ]
  },
  {
   "cell_type": "markdown",
   "id": "c1a71bee-0226-44ae-a860-e87f0ac012f0",
   "metadata": {},
   "source": [
    "## Elimination of $w$ {#sec-20230102030010}"
   ]
  },
  {
   "cell_type": "markdown",
   "id": "beb5ae1e-e794-4de8-8b54-0b774c4c818f",
   "metadata": {},
   "source": [
    "We first test Eq. (@eq-20230102025737) with $\\hat{w} \\in W$\n",
    "$$\n",
    "\\E_{,u}[u^\\ast(\\lambda) + \\xi_i \\, v_i + w, \\lambda; \\hat{w}] = 0, \\quad \\text{for all} \\quad \\hat{w} \\in W.\n",
    "$$ {#eq-20220825143616}"
   ]
  },
  {
   "cell_type": "markdown",
   "id": "b70f0325-04d5-4506-84d2-53c8da64386c",
   "metadata": {},
   "source": [
    "This defines $w$ as an implicit function of $\\xi_1, \\ldots, \\xi_m$ and $\\lambda$. The following asymptotic expansion about $\\xi_1 = \\cdots = \\xi_m = 0$ and $\\lambda = \\lambda_0$ is postulated\n",
    "$$\n",
    "\\begin{aligned}\n",
    "w(\\xi_1, \\ldots, \\xi_m, \\lambda) ={} & \\xi_i \\, w_i + \\bigl( \\lambda - \\lambda_0 \\bigr) \\, w_\\lambda + \\tfrac{1}{2} \\xi_i \\, \\xi_j \\, w_{ij}\\\\\n",
    "&+ \\tfrac{1}{2} \\bigl( \\lambda - \\lambda_0 \\bigr)^2 w_{\\lambda\\lambda} + \\xi_i \\, \\bigl( \\lambda - \\lambda_0 \\bigr) w_{i\\lambda} + \\cdots,\n",
    "\\end{aligned}\n",
    "$$ {#eq-20230107172048}\n",
    "where $w_i$, $w_\\lambda$, $w_{ij}$, $w_{\\lambda\\lambda}$ and $w_{i\\lambda}$ are elements of $W$ to be defined."
   ]
  },
  {
   "cell_type": "markdown",
   "id": "25cfcd4d-3732-440f-a8dd-ee773f615add",
   "metadata": {},
   "source": [
    "In what follows, Eq. (@eq-20230107172048) is plugged into Eq. (@eq-20220825143616), which then delivers an asymptotic expansion of the stationarity equation. We will nullify the terms of order up to 2 in $\\xi_i$ and $\\lambda$."
   ]
  },
  {
   "cell_type": "markdown",
   "id": "07aa22dd-0c28-41fd-b2a1-1e8b39adc0d0",
   "metadata": {},
   "source": [
    "It is observed that the residual $\\E_{,u}$ involves $\\E_3(u, u, \\hat{u})$ and $\\E_4(u, u, u, \\hat{u})$. Since all terms of $u$ are of order 1 or more in $\\xi_i$ and $\\lambda$, $\\E_4(u, u, u, \\hat{u})$ will not be considered below. However $\\E_3(u, u, \\hat{u})$ will need to be properly defined index-wise. Therefore, we need to defined two equivalent expressions of $u$ with two different set of indices."
   ]
  },
  {
   "cell_type": "code",
   "execution_count": 9,
   "id": "55c84f37-434e-43c0-a832-87aa0fd33f09",
   "metadata": {},
   "outputs": [],
   "source": [
    "def _λ():\n",
    "    return Symbol(r\"\\lambda\")\n",
    "\n",
    "def _w():\n",
    "    i = new_index()\n",
    "    j = new_index()\n",
    "    k = new_index()\n",
    "    l = new_index()\n",
    "    return (t * ξ[i] * w[i] + _λ() * w[Idx(r\"\\lambda\")] \n",
    "            + (t**2 * ξ[j] * ξ[k] * w[j, k]\n",
    "               + 2 * _λ() * t * ξ[l] * w[l, Idx(r\"\\lambda\")]\n",
    "               + _λ() * _λ() * w[Idx(r\"\\lambda\"), Idx(r\"\\lambda\")]) / 2)\n",
    "    \n",
    "def _u():\n",
    "    i = new_index()\n",
    "    return (create_u_star(_λ) + t * ξ[i] * v[i] + _w())"
   ]
  },
  {
   "cell_type": "code",
   "execution_count": 10,
   "id": "469e1620-8f7c-45a0-a5ed-c2fcc5d58862",
   "metadata": {},
   "outputs": [],
   "source": [
    "res_w = expand(create_E_u(u_fun=_u) * w_hat)"
   ]
  },
  {
   "cell_type": "markdown",
   "id": "6f550b36-5628-49fe-b24d-f4a2e8bc9e13",
   "metadata": {},
   "source": [
    "We can then nullify the various coefficients of this polynomial expansion, starting with the terms of order 1 in $\\xi_i$, which delivers the following variational problem"
   ]
  },
  {
   "cell_type": "code",
   "execution_count": 11,
   "id": "f1a788ed-6bd6-417f-aa7c-564f6e249bf8",
   "metadata": {},
   "outputs": [
    {
     "data": {
      "text/latex": [
       "$\\displaystyle \\E_{2} \\hat{w} {\\xi}_{i_{0}} {v}_{i_{0}} + \\E_{2} \\hat{w} {\\xi}_{i_{1}} {w}_{i_{1}} = 0$"
      ],
      "text/plain": [
       "Eq(\\E_2*\\hat{w}*\\xi[i_{0}]*v[i_{0}] + \\E_2*\\hat{w}*\\xi[i_{1}]*w[i_{1}], 0)"
      ]
     },
     "execution_count": 11,
     "metadata": {},
     "output_type": "execute_result"
    }
   ],
   "source": [
    "Eq(res_w.coeff(t, 1).subs(λ, 0), 0)"
   ]
  },
  {
   "cell_type": "markdown",
   "id": "e40bafda-f5da-406d-b86c-788c5a5abbaa",
   "metadata": {},
   "source": [
    "for all $\\hat{w} \\in W$. Since $v_i \\in V$, we have: $\\E_2(v_i, \\bullet) = 0$ and the above variational problem reduces to"
   ]
  },
  {
   "cell_type": "markdown",
   "id": "948a2ccb-e811-430d-8d1a-924bfa6e0252",
   "metadata": {},
   "source": [
    "$$\n",
    "\\E_2(w_i, \\hat{w}) = 0 \\quad \\text{for all} \\quad \\hat{w} \\in W.\n",
    "$$"
   ]
  },
  {
   "cell_type": "markdown",
   "id": "6d279ef6-994a-483b-bc6c-804f7a877b34",
   "metadata": {},
   "source": [
    "As argued in @sec-20230107173921, this leads to $w_i = 0$."
   ]
  },
  {
   "cell_type": "markdown",
   "id": "36a570a7-bdbf-471c-81ac-1e2e962f4a67",
   "metadata": {},
   "source": [
    "Similarly, we find the term or of order 1 in $\\lambda$, and evaluate it at $\\xi_1 = \\cdots = \\xi_m = 0$. Unfortunately, substitutions do not work with indexed quantities. Since all occurences of $\\xi_i$ have been scaled by $t$ so as to keep track of the order of each term, a workaround is to set $t$ to 0. This delivers the following variational problem"
   ]
  },
  {
   "cell_type": "code",
   "execution_count": 12,
   "id": "ddb54699-a00d-4314-8530-776aac801162",
   "metadata": {},
   "outputs": [
    {
     "data": {
      "text/latex": [
       "$\\displaystyle \\E_{2} \\hat{w} {w}_{\\lambda}$"
      ],
      "text/plain": [
       "\\E_2*\\hat{w}*w[\\lambda]"
      ]
     },
     "execution_count": 12,
     "metadata": {},
     "output_type": "execute_result"
    }
   ],
   "source": [
    "res_w.coeff(λ, 1).subs(t, 0)"
   ]
  },
  {
   "cell_type": "markdown",
   "id": "45290af4-9c26-40b9-bee7-24443f205f03",
   "metadata": {},
   "source": [
    "for all $\\hat{w} \\in W$. The same argument leads to $w_\\lambda = 0$."
   ]
  },
  {
   "cell_type": "markdown",
   "id": "ad6dbfce-15a2-448b-a7d8-bcc660e50863",
   "metadata": {},
   "source": [
    "Similarly again, for the term of order 2 in $\\lambda$"
   ]
  },
  {
   "cell_type": "code",
   "execution_count": 13,
   "id": "7d6306f1-5376-4295-b577-9c019fe9e893",
   "metadata": {},
   "outputs": [
    {
     "data": {
      "text/latex": [
       "$\\displaystyle \\frac{\\E_{2} \\hat{w} {w}_{\\lambda,\\lambda}}{2} + \\frac{\\E_{3} \\hat{w} {w}_{\\lambda}^{2}}{2} + \\dot{\\E}_2 \\hat{w} {w}_{\\lambda} = 0$"
      ],
      "text/plain": [
       "Eq(\\E_2*\\hat{w}*w[\\lambda, \\lambda]/2 + \\E_3*\\hat{w}*w[\\lambda]**2/2 + \\dot{\\E}_2*\\hat{w}*w[\\lambda], 0)"
      ]
     },
     "execution_count": 13,
     "metadata": {},
     "output_type": "execute_result"
    }
   ],
   "source": [
    "(eq := Eq(res_w.coeff(λ, 2).subs(t, 0), 0))"
   ]
  },
  {
   "cell_type": "markdown",
   "id": "8815d924-7ebc-4c7e-8d41-1b7d36490cc9",
   "metadata": {},
   "source": [
    "for all $\\hat{w} \\in W$. Since it was found that $w_\\lambda = 0$, the above problem again reduces to $\n",
    "\\E_2(w_{\\lambda\\lambda}, \\hat{w}) = 0$ for all $\\hat{w} \\in W$ and $w_{\\lambda\\lambda} = 0$."
   ]
  },
  {
   "cell_type": "code",
   "execution_count": 14,
   "id": "9c4d2be5-6159-491b-adff-c762a3f0004c",
   "metadata": {},
   "outputs": [
    {
     "data": {
      "text/latex": [
       "$\\displaystyle \\frac{\\E_{2} \\hat{w} {w}_{\\lambda,\\lambda}}{2} = 0$"
      ],
      "text/plain": [
       "Eq(\\E_2*\\hat{w}*w[\\lambda, \\lambda]/2, 0)"
      ]
     },
     "execution_count": 14,
     "metadata": {},
     "output_type": "execute_result"
    }
   ],
   "source": [
    "eq.subs(w[Idx(r\"\\lambda\")], 0)"
   ]
  },
  {
   "cell_type": "markdown",
   "id": "ba36b56c-65b3-476e-b4d8-bd0e54527fb6",
   "metadata": {},
   "source": [
    "To sum up, we have found so far that $w_i = w_\\lambda = w_{\\lambda\\lambda} = 0$. At this point, it is interesting to override the function `_w()`, taking into account all these simplifications. From now on, $w_{ij}$ and $w_{i\\lambda}$ will be defined as two different `IndexedBase` objects."
   ]
  },
  {
   "cell_type": "code",
   "execution_count": 15,
   "id": "b03a12af-6f0a-4781-9c1d-8ed5d759cc20",
   "metadata": {},
   "outputs": [],
   "source": [
    "def _w():\n",
    "    i = new_index()\n",
    "    j = new_index()\n",
    "    k = new_index()\n",
    "    l = new_index()\n",
    "    return t**2 * ξ[j] * ξ[k] * w[j, k] / 2 + _λ() * t * ξ[l] * w_λ[l]"
   ]
  },
  {
   "cell_type": "markdown",
   "id": "3472659d-832a-4922-8305-b5af8ce78f5b",
   "metadata": {},
   "source": [
    "We can then re-evaluate the residual"
   ]
  },
  {
   "cell_type": "code",
   "execution_count": 16,
   "id": "a632c770-847d-451c-8f09-37631546e252",
   "metadata": {
    "tags": []
   },
   "outputs": [],
   "source": [
    "res_w = expand(create_E_u(u_fun=_u) * w_hat)"
   ]
  },
  {
   "cell_type": "markdown",
   "id": "71b28c46-ff72-49ee-822c-ff43f0148852",
   "metadata": {},
   "source": [
    "The $\\xi_i \\, \\xi_j$ terms deliver the following variational problem"
   ]
  },
  {
   "cell_type": "code",
   "execution_count": 17,
   "id": "21a4b7a6-9f4b-4b4e-ba66-66b4b82bc2fa",
   "metadata": {},
   "outputs": [
    {
     "data": {
      "text/latex": [
       "$\\displaystyle \\frac{\\E_{2} \\hat{w} {\\xi}_{i_{52}} {\\xi}_{i_{53}} {w}_{i_{52},i_{53}}}{2} + \\frac{\\E_{3} \\hat{w} {\\xi}_{i_{55}} {\\xi}_{i_{60}} {v}_{i_{55}} {v}_{i_{60}}}{2} = 0$"
      ],
      "text/plain": [
       "Eq(\\E_2*\\hat{w}*\\xi[i_{52}]*\\xi[i_{53}]*w[i_{52}, i_{53}]/2 + \\E_3*\\hat{w}*\\xi[i_{55}]*\\xi[i_{60}]*v[i_{55}]*v[i_{60}]/2, 0)"
      ]
     },
     "execution_count": 17,
     "metadata": {},
     "output_type": "execute_result"
    }
   ],
   "source": [
    "lhs = res_w.coeff(t, 2).subs(λ, 0).expand()\n",
    "Eq(lhs, 0)"
   ]
  },
  {
   "cell_type": "markdown",
   "id": "d8636a18-8618-48e7-a3ab-00b5cb98074c",
   "metadata": {},
   "source": [
    "for all $\\hat{w} \\in W$ and $\\xi_1, \\ldots, \\xi_m \\in \\reals$ (small enough). This variational problem  should be understood as"
   ]
  },
  {
   "cell_type": "markdown",
   "id": "4247a6aa-64d9-4c13-8899-a8823d85d64c",
   "metadata": {},
   "source": [
    "$$\n",
    "\\xi_i \\, \\xi_j \\, \\bigl[ \\E_2(w_{ij}, \\hat{w}) + \\E_3(v_i, v_j, \\hat{w}) \\bigr] = 0\n",
    "\\quad \\text{for all} \\quad \\hat{w} \\in W.\n",
    "$$"
   ]
  },
  {
   "cell_type": "markdown",
   "id": "d9e9c8bb-d334-4ab7-89e7-8b5de10e16b8",
   "metadata": {},
   "source": [
    "for all $\\hat{w} \\in W$ and $\\xi_1, \\ldots, \\xi_m$ *small enough*. Since the above expression is homogeneous in $\\xi_i$, it must in fact vanish *for all* $\\xi_1, \\ldots, \\xi_m$. The resulting variational problem then coincides with (@eq-20230107180410). The $\\xi_i \\, \\xi_j$ term of the asymptotic expansion of $w$ is therefore exactly $w_{ij}$ defined in @sec-20230402152824."
   ]
  },
  {
   "cell_type": "markdown",
   "id": "e2320f2e-8909-457b-8a35-558b86037db4",
   "metadata": {},
   "source": [
    "Finally, the $\\xi_i \\, \\lambda$ terms deliver the following variational problem"
   ]
  },
  {
   "cell_type": "code",
   "execution_count": 18,
   "id": "34cff5f4-3f8c-4825-8ff6-3b9f2d5670e8",
   "metadata": {},
   "outputs": [
    {
     "data": {
      "text/latex": [
       "$\\displaystyle \\E_{2} \\hat{w} {\\xi}_{i_{54}} {w_\\lambda{}}_{i_{54}} + \\frac{\\E_{3} \\dot{u}_0 \\hat{w} {\\xi}_{i_{55}} {v}_{i_{55}}}{2} + \\frac{\\E_{3} \\dot{u}_0 \\hat{w} {\\xi}_{i_{60}} {v}_{i_{60}}}{2} - \\E_{3} \\dot{u}_0 \\hat{w} {\\xi}_{i_{65}} {v}_{i_{65}} + \\dot{\\E}_2 \\hat{w} {\\xi}_{i_{65}} {v}_{i_{65}} = 0$"
      ],
      "text/plain": [
       "Eq(\\E_2*\\hat{w}*\\xi[i_{54}]*w_\\lambda{}[i_{54}] + \\E_3*\\dot{u}_0*\\hat{w}*\\xi[i_{55}]*v[i_{55}]/2 + \\E_3*\\dot{u}_0*\\hat{w}*\\xi[i_{60}]*v[i_{60}]/2 - \\E_3*\\dot{u}_0*\\hat{w}*\\xi[i_{65}]*v[i_{65}] + \\dot{\\E}_2*\\hat{w}*\\xi[i_{65}]*v[i_{65}], 0)"
      ]
     },
     "execution_count": 18,
     "metadata": {},
     "output_type": "execute_result"
    }
   ],
   "source": [
    "lhs = res_w.coeff(t, 1).coeff(λ, 1).subs(λ, 0).expand()\n",
    "Eq(lhs, 0)"
   ]
  },
  {
   "cell_type": "markdown",
   "id": "86743904-5826-40b5-bd8d-3ef46cfa8b0f",
   "metadata": {},
   "source": [
    "In the above expression, each term contains only one summation index, which is renamed $i$. This transformation delivers the following variational problem."
   ]
  },
  {
   "cell_type": "code",
   "execution_count": 19,
   "id": "19ff0470-22fd-40ec-bb46-d745ac897ba9",
   "metadata": {},
   "outputs": [
    {
     "data": {
      "text/latex": [
       "$\\displaystyle \\E_{2} \\hat{w} {\\xi}_{i} {w_\\lambda{}}_{i} + \\dot{\\E}_2 \\hat{w} {\\xi}_{i} {v}_{i} = 0$"
      ],
      "text/plain": [
       "Eq(\\E_2*\\hat{w}*\\xi[i]*w_\\lambda{}[i] + \\dot{\\E}_2*\\hat{w}*\\xi[i]*v[i], 0)"
      ]
     },
     "execution_count": 19,
     "metadata": {},
     "output_type": "execute_result"
    }
   ],
   "source": [
    "terms = lhs.args\n",
    "lhs = 0\n",
    "\n",
    "for term in terms:\n",
    "    d = get_contraction_structure(term)\n",
    "    (i_,), = d.keys()\n",
    "    lhs += term.subs(i_, i)\n",
    "\n",
    "Eq(lhs, 0)"
   ]
  },
  {
   "cell_type": "markdown",
   "id": "38699dbd-63eb-4b4c-b217-3f73efe705d6",
   "metadata": {},
   "source": [
    "for all $\\hat{w} \\in W$ and $\\xi_1, \\ldots, \\xi_m \\in \\reals$. We recognize the variational problem (@eq-20230107180501). In other words, the $\\xi_i \\, \\lambda$ term of the asymptotic expansion of $w$ is $w_{i\\lambda}$ defined in @sec-20230402152824."
   ]
  },
  {
   "cell_type": "markdown",
   "id": "14bf5306-e756-41d4-8a97-995c83f0669c",
   "metadata": {},
   "source": [
    "So far, we have found the following expansion of $w$"
   ]
  },
  {
   "cell_type": "markdown",
   "id": "f2d23d18-08fe-4b8b-9fcb-6fbd5b98daf7",
   "metadata": {},
   "source": [
    "$$\n",
    "w(\\xi_1, \\ldots, \\xi_m, \\lambda) = \\tfrac{1}{2} \\xi_i \\, \\xi_j \\, w_{ij} + \\xi_i \\, \\bigl( \\lambda - \\lambda_0 \\bigr) w_{i\\lambda} + \\cdots,\n",
    "$$"
   ]
  },
  {
   "cell_type": "markdown",
   "id": "1e3fc646-6f21-426a-8764-ec7211ed3ea2",
   "metadata": {},
   "source": [
    "where $w_{ij}$ and $w_{i\\lambda}$ are defined by Eqs. (@eq-20230107180410) and (@eq-20230107180501), respectively."
   ]
  },
  {
   "cell_type": "markdown",
   "id": "18c1e00d-b093-41dd-8880-db7bef2fb49d",
   "metadata": {
    "tags": []
   },
   "source": [
    "## Elimination of $\\lambda$ {#sec-20230102030125}\n",
    "\n",
    "We now test Eq. (@eq-20230102025737) with $\\hat{u} = v_i$ ($i = 1, \\ldots, m$)\n",
    "\n",
    "$$\n",
    "\\E_{,u}[u^\\ast(\\lambda) + \\xi_j \\, v_j + w(\\xi_1, \\ldots, \\xi_m, \\lambda), \\lambda; v_i] = 0, \\quad \\text{for all} \\quad i = 1, \\ldots, m.\n",
    "$$ {#eq-20230110092313}\n",
    "\n",
    "This now defines $\\lambda$ as an implicit function of $\\xi_1, \\ldots, \\xi_m$. The following asymptotic expansion\n",
    "about $\\xi_1 = \\cdots = \\xi_m = 0$ is postulated\n",
    "\n",
    "$$\n",
    "\\lambda(\\xi_1, \\ldots, \\xi_m) = \\xi_i \\, \\lambda_i + \\tfrac{1}{2} \\, \\xi_i \\, \\xi_j \\, \\lambda_{ij} + \\ldots\n",
    "$$ {#eq-20230110091031}\n",
    "\n",
    "where $\\lambda_i$ and $\\lambda_{ij}$ are scalar coefficients to be defined below.\n",
    "\n",
    "We first implement the function `_λ()` that creates (with unique indices) the SymPy expression for the asymptotic expansions of  $(\\xi_1, \\ldots, \\xi_m) \\mapsto \\lambda(\\xi_1, \\ldots, \\xi_m)$ according to Eq. (@eq-20230110091031). Since the functions `_u()` and `_w()` call `_λ()` internally, there is no need to redefine them to implement the asymptotic expansions of $(\\xi_1, \\ldots, \\xi_m, \\lambda) \\mapsto w(\\xi_1, \\ldots, \\xi_m, \\lambda)$ and $(\\xi_1, \\ldots, \\xi_m) \\mapsto u(\\xi_1, \\ldots, \\xi_m)$ according to Eqs. (@eq-20230107172048) and (@eq-20220902174235).\n",
    "\n",
    "Note that we use two different `IndexedBase` objects to define $\\lambda_i$ and $\\lambda_{ij}$. This will make further simplifications simpler. Note also that, although $\\lambda$ is expanded to second-order in $\\xi_i$, we will consider third-order terms of the energy below. Therefore, we must make sure we define the third-order term of $\\lambda$. It will hopefully disappear later on."
   ]
  },
  {
   "cell_type": "code",
   "execution_count": 20,
   "id": "0ff156b3-9bea-4ca9-9bd7-a3a2ea5147ab",
   "metadata": {},
   "outputs": [],
   "source": [
    "λ = IndexedBase(r\"\\lambda\")\n",
    "λ_tilde = Symbol(r\"\\tilde{\\lambda}\")\n",
    "\n",
    "def _λ():\n",
    "    i = new_index()\n",
    "    j = new_index()\n",
    "    k = new_index()\n",
    "    return t * ξ[i] * λ[i] + t**2 / 2 * ξ[j] * ξ[k] * λ[j, k] + t**3 * λ_tilde + O(t**4)"
   ]
  },
  {
   "cell_type": "markdown",
   "id": "4990bb66-f958-436b-9505-4b29bdc1839a",
   "metadata": {},
   "source": [
    "Then, the above expansions are plugged into the general expression of $\\E_{,u}(u, \\lambda; \\bullet)$ and tested with $\\hat{v} \\in V$, see Eq. (@eq-20230110092313)."
   ]
  },
  {
   "cell_type": "code",
   "execution_count": 21,
   "id": "1e0b4a89-94ff-44fa-a96a-cfa23e3174bc",
   "metadata": {},
   "outputs": [],
   "source": [
    "res_v = expand(create_E_u(u_fun=_u, λ_fun=_λ) * v[i]).removeO()"
   ]
  },
  {
   "cell_type": "markdown",
   "id": "58c8c6f8-4ce4-48c0-9f79-bd933697e7fd",
   "metadata": {},
   "source": [
    "We get an asymptotic expansion of the residual with respect to $\\xi_1, \\ldots, \\xi_m$. This residual must vanish for all $\\xi_i$ sufficiently small. Therefore, all coefficients of the expansion `res_v` must be nullified at all orders and for all $\\xi_i$ sufficiently small. Considering the expansion up to third order, we get after simplification only *two* bifurcation equations, since the terms of order 0 and 1 are identically null, as verified below."
   ]
  },
  {
   "cell_type": "code",
   "execution_count": 22,
   "id": "f39736f9-6c5d-43f4-8d70-44fe54886daa",
   "metadata": {},
   "outputs": [],
   "source": [
    "assert res_v.coeff(t, 0) == 0\n",
    "assert res_v.coeff(t, 1).subs(E2 * v[i], 0) == 0"
   ]
  },
  {
   "cell_type": "markdown",
   "id": "f14578c2-821a-4a5e-8965-396688b3b8f1",
   "metadata": {},
   "source": [
    "We now consider the terms of order 2 in $\\xi_i$ and again standardize the indices: each occurence of $\\lambda_a \\, \\xi_a$ is transformed into $\\lambda_j \\, \\xi_j$, the remaining summation index being renamed $k$."
   ]
  },
  {
   "cell_type": "code",
   "execution_count": 23,
   "id": "a786274f-acfb-41a7-a64c-eaf50640b245",
   "metadata": {},
   "outputs": [
    {
     "data": {
      "text/latex": [
       "$\\displaystyle \\frac{\\E_{3} {\\xi}_{j} {\\xi}_{k} {v}_{i} {v}_{j} {v}_{k}}{2} + \\dot{\\E}_2 {\\lambda}_{j} {\\xi}_{j} {\\xi}_{k} {v}_{i} {v}_{k} = 0$"
      ],
      "text/plain": [
       "Eq(\\E_3*\\xi[j]*\\xi[k]*v[i]*v[j]*v[k]/2 + \\dot{\\E}_2*\\lambda[j]*\\xi[j]*\\xi[k]*v[i]*v[k], 0)"
      ]
     },
     "execution_count": 23,
     "metadata": {},
     "output_type": "execute_result"
    }
   ],
   "source": [
    "lhs = res_v.coeff(t, 2).expand().subs(E2 * v[i], 0)\n",
    "\n",
    "terms = lhs.args\n",
    "lhs = 0\n",
    "\n",
    "for term in terms:\n",
    "    indices = next(iter(get_contraction_structure(term).keys()))\n",
    "    i1, i2 = indices\n",
    "    if degree(term, ξ[i1]) == 1 and degree(term, λ[i1]) == 1:\n",
    "        term = term.subs({i1: j, i2: k})\n",
    "    elif degree(term, ξ[i2]) == 1 and degree(term, λ[i2]) == 1:\n",
    "        term = term.subs({i2: j, i1: k})\n",
    "    else:\n",
    "        term = term.subs({i2: j, i1: k})\n",
    "    lhs += term\n",
    "\n",
    "Eq(lhs, 0)"
   ]
  },
  {
   "cell_type": "markdown",
   "id": "3734dc8e-9125-4151-8388-874e1afd0a83",
   "metadata": {},
   "source": [
    "And, introducing the symbols $\\dot{E}_{ij}$ and $E_{ijk}$, defined by Eqs. (@eq-20230125062505) and (@eq-20230125062510), respectively, we get the first equation."
   ]
  },
  {
   "cell_type": "code",
   "execution_count": 24,
   "id": "4573d205-84fa-495c-b277-9ba15c6d18e9",
   "metadata": {},
   "outputs": [
    {
     "data": {
      "text/latex": [
       "$\\displaystyle \\frac{E_{ijk} {\\xi}_{j} {\\xi}_{k}}{2} + \\dot{E}_{ij} {\\lambda}_{k} {\\xi}_{j} {\\xi}_{k} = 0$"
      ],
      "text/plain": [
       "Eq(E_{ijk}*\\xi[j]*\\xi[k]/2 + \\dot{E}_{ij}*\\lambda[k]*\\xi[j]*\\xi[k], 0)"
      ]
     },
     "execution_count": 24,
     "metadata": {},
     "output_type": "execute_result"
    }
   ],
   "source": [
    "lhs = lhs.subs({\n",
    "    E3 * v[i] * v[j] * v[k]: E_ijk,\n",
    "    λ[j] * ξ[j] * ξ[k] * E2_dot * v[i] * v[k]: λ[k] * ξ[j] * ξ[k] * E_ij_dot\n",
    "})\n",
    "(eq1 := Eq(lhs, 0))"
   ]
  },
  {
   "cell_type": "markdown",
   "id": "29080532-a31c-402c-8f84-5ad0567fb890",
   "metadata": {},
   "source": [
    "which also reads"
   ]
  },
  {
   "cell_type": "markdown",
   "id": "a5c7829f-c93e-4073-aa13-8a9efbd5332f",
   "metadata": {},
   "source": [
    "$$\n",
    "\\xi_j \\, \\xi_k \\, \\bigl( \\tfrac{1}{2} E_{ijk} + \\lambda_k \\, \\dot{E}_{ij} \\bigr) = 0,\n",
    "$$ {#eq-20230115101130}"
   ]
  },
  {
   "cell_type": "markdown",
   "id": "959b0b57-bfc4-4ec9-a5cf-fabbff51c48f",
   "metadata": {},
   "source": [
    "for all $\\xi_1, \\ldots, \\xi_m \\in \\reals$."
   ]
  },
  {
   "cell_type": "markdown",
   "id": "b5cf8bcd-5bde-4ffa-89e8-e8f1644432d5",
   "metadata": {},
   "source": [
    "::: {.callout-note}\n",
    "Eq. (@eq-20230115101130) results from an asymptotic expansion w.r.t. the $\\xi_i$. As such it needs only be satisfied for all $\\xi_1, \\ldots, \\xi_m$ *small enough*. However, this equation is homogeneous of degree 2 w.r.t. the $\\xi_i$. Therefore, it indeed holds for all $\\xi_1, \\ldots, \\xi_m \\in \\reals$.\n",
    ":::"
   ]
  },
  {
   "cell_type": "markdown",
   "id": "3d94e1e6-0560-4855-8d4e-2c68931282fb",
   "metadata": {},
   "source": [
    "Turning now to the term of third-order in $\\xi_i$, the expression with unique indices is **hudge**. Using in each term standard index names ($j$, $k$, $l$) reduces the expression considerably (since many terms that are actually symmetric in these three indices cancel out)."
   ]
  },
  {
   "cell_type": "code",
   "execution_count": 44,
   "id": "f89186a7-c903-42d3-a728-4ab2d9d69847",
   "metadata": {},
   "outputs": [
    {
     "data": {
      "text/latex": [
       "$\\displaystyle \\frac{\\E_{3} {\\lambda}_{j} {\\xi}_{j} {\\xi}_{k} {\\xi}_{l} {v}_{i} {v}_{k} {w_\\lambda{}}_{l}}{6} + \\frac{\\E_{3} {\\lambda}_{j} {\\xi}_{j} {\\xi}_{k} {\\xi}_{l} {v}_{i} {v}_{l} {w_\\lambda{}}_{k}}{6} + \\frac{\\E_{3} {\\lambda}_{k} {\\xi}_{j} {\\xi}_{k} {\\xi}_{l} {v}_{i} {v}_{j} {w_\\lambda{}}_{l}}{6} + \\frac{\\E_{3} {\\lambda}_{k} {\\xi}_{j} {\\xi}_{k} {\\xi}_{l} {v}_{i} {v}_{l} {w_\\lambda{}}_{j}}{6} + \\frac{\\E_{3} {\\lambda}_{l} {\\xi}_{j} {\\xi}_{k} {\\xi}_{l} {v}_{i} {v}_{j} {w_\\lambda{}}_{k}}{6} + \\frac{\\E_{3} {\\lambda}_{l} {\\xi}_{j} {\\xi}_{k} {\\xi}_{l} {v}_{i} {v}_{k} {w_\\lambda{}}_{j}}{6} + \\frac{\\E_{3} {\\xi}_{j} {\\xi}_{k} {\\xi}_{l} {v}_{i} {v}_{j} {w}_{k,l}}{6} + \\frac{\\E_{3} {\\xi}_{j} {\\xi}_{k} {\\xi}_{l} {v}_{i} {v}_{k} {w}_{j,l}}{6} + \\frac{\\E_{3} {\\xi}_{j} {\\xi}_{k} {\\xi}_{l} {v}_{i} {v}_{l} {w}_{j,k}}{6} + \\frac{\\E_{4} {\\xi}_{j} {\\xi}_{k} {\\xi}_{l} {v}_{i} {v}_{j} {v}_{k} {v}_{l}}{6} + \\frac{\\ddot{\\E}_2 {\\lambda}_{j} {\\lambda}_{k} {\\xi}_{j} {\\xi}_{k} {\\xi}_{l} {v}_{i} {v}_{l}}{6} + \\frac{\\ddot{\\E}_2 {\\lambda}_{j} {\\lambda}_{l} {\\xi}_{j} {\\xi}_{k} {\\xi}_{l} {v}_{i} {v}_{k}}{6} + \\frac{\\ddot{\\E}_2 {\\lambda}_{k} {\\lambda}_{l} {\\xi}_{j} {\\xi}_{k} {\\xi}_{l} {v}_{i} {v}_{j}}{6} + \\frac{\\dot{\\E}_2 {\\lambda}_{j,k} {\\xi}_{j} {\\xi}_{k} {\\xi}_{l} {v}_{i} {v}_{l}}{6} + \\frac{\\dot{\\E}_2 {\\lambda}_{j,l} {\\xi}_{j} {\\xi}_{k} {\\xi}_{l} {v}_{i} {v}_{k}}{6} + \\frac{\\dot{\\E}_2 {\\lambda}_{j} {\\lambda}_{k} {\\xi}_{j} {\\xi}_{k} {\\xi}_{l} {v}_{i} {w_\\lambda{}}_{l}}{3} + \\frac{\\dot{\\E}_2 {\\lambda}_{j} {\\lambda}_{l} {\\xi}_{j} {\\xi}_{k} {\\xi}_{l} {v}_{i} {w_\\lambda{}}_{k}}{3} + \\frac{\\dot{\\E}_2 {\\lambda}_{j} {\\xi}_{j} {\\xi}_{k} {\\xi}_{l} {v}_{i} {w}_{k,l}}{6} + \\frac{\\dot{\\E}_2 {\\lambda}_{k,l} {\\xi}_{j} {\\xi}_{k} {\\xi}_{l} {v}_{i} {v}_{j}}{6} + \\frac{\\dot{\\E}_2 {\\lambda}_{k} {\\lambda}_{l} {\\xi}_{j} {\\xi}_{k} {\\xi}_{l} {v}_{i} {w_\\lambda{}}_{j}}{3} + \\frac{\\dot{\\E}_2 {\\lambda}_{k} {\\xi}_{j} {\\xi}_{k} {\\xi}_{l} {v}_{i} {w}_{j,l}}{6} + \\frac{\\dot{\\E}_2 {\\lambda}_{l} {\\xi}_{j} {\\xi}_{k} {\\xi}_{l} {v}_{i} {w}_{j,k}}{6} + \\frac{\\dot{\\E}_3 {\\lambda}_{j} {\\xi}_{j} {\\xi}_{k} {\\xi}_{l} {v}_{i} {v}_{k} {v}_{l}}{6} + \\frac{\\dot{\\E}_3 {\\lambda}_{k} {\\xi}_{j} {\\xi}_{k} {\\xi}_{l} {v}_{i} {v}_{j} {v}_{l}}{6} + \\frac{\\dot{\\E}_3 {\\lambda}_{l} {\\xi}_{j} {\\xi}_{k} {\\xi}_{l} {v}_{i} {v}_{j} {v}_{k}}{6} = 0$"
      ],
      "text/plain": [
       "Eq(\\E_3*\\lambda[j]*\\xi[j]*\\xi[k]*\\xi[l]*v[i]*v[k]*w_\\lambda{}[l]/6 + \\E_3*\\lambda[j]*\\xi[j]*\\xi[k]*\\xi[l]*v[i]*v[l]*w_\\lambda{}[k]/6 + \\E_3*\\lambda[k]*\\xi[j]*\\xi[k]*\\xi[l]*v[i]*v[j]*w_\\lambda{}[l]/6 + \\E_3*\\lambda[k]*\\xi[j]*\\xi[k]*\\xi[l]*v[i]*v[l]*w_\\lambda{}[j]/6 + \\E_3*\\lambda[l]*\\xi[j]*\\xi[k]*\\xi[l]*v[i]*v[j]*w_\\lambda{}[k]/6 + \\E_3*\\lambda[l]*\\xi[j]*\\xi[k]*\\xi[l]*v[i]*v[k]*w_\\lambda{}[j]/6 + \\E_3*\\xi[j]*\\xi[k]*\\xi[l]*v[i]*v[j]*w[k, l]/6 + \\E_3*\\xi[j]*\\xi[k]*\\xi[l]*v[i]*v[k]*w[j, l]/6 + \\E_3*\\xi[j]*\\xi[k]*\\xi[l]*v[i]*v[l]*w[j, k]/6 + \\E_4*\\xi[j]*\\xi[k]*\\xi[l]*v[i]*v[j]*v[k]*v[l]/6 + \\ddot{\\E}_2*\\lambda[j]*\\lambda[k]*\\xi[j]*\\xi[k]*\\xi[l]*v[i]*v[l]/6 + \\ddot{\\E}_2*\\lambda[j]*\\lambda[l]*\\xi[j]*\\xi[k]*\\xi[l]*v[i]*v[k]/6 + \\ddot{\\E}_2*\\lambda[k]*\\lambda[l]*\\xi[j]*\\xi[k]*\\xi[l]*v[i]*v[j]/6 + \\dot{\\E}_2*\\lambda[j, k]*\\xi[j]*\\xi[k]*\\xi[l]*v[i]*v[l]/6 + \\dot{\\E}_2*\\lambda[j, l]*\\xi[j]*\\xi[k]*\\xi[l]*v[i]*v[k]/6 + \\dot{\\E}_2*\\lambda[j]*\\lambda[k]*\\xi[j]*\\xi[k]*\\xi[l]*v[i]*w_\\lambda{}[l]/3 + \\dot{\\E}_2*\\lambda[j]*\\lambda[l]*\\xi[j]*\\xi[k]*\\xi[l]*v[i]*w_\\lambda{}[k]/3 + \\dot{\\E}_2*\\lambda[j]*\\xi[j]*\\xi[k]*\\xi[l]*v[i]*w[k, l]/6 + \\dot{\\E}_2*\\lambda[k, l]*\\xi[j]*\\xi[k]*\\xi[l]*v[i]*v[j]/6 + \\dot{\\E}_2*\\lambda[k]*\\lambda[l]*\\xi[j]*\\xi[k]*\\xi[l]*v[i]*w_\\lambda{}[j]/3 + \\dot{\\E}_2*\\lambda[k]*\\xi[j]*\\xi[k]*\\xi[l]*v[i]*w[j, l]/6 + \\dot{\\E}_2*\\lambda[l]*\\xi[j]*\\xi[k]*\\xi[l]*v[i]*w[j, k]/6 + \\dot{\\E}_3*\\lambda[j]*\\xi[j]*\\xi[k]*\\xi[l]*v[i]*v[k]*v[l]/6 + \\dot{\\E}_3*\\lambda[k]*\\xi[j]*\\xi[k]*\\xi[l]*v[i]*v[j]*v[l]/6 + \\dot{\\E}_3*\\lambda[l]*\\xi[j]*\\xi[k]*\\xi[l]*v[i]*v[j]*v[k]/6, 0)"
      ]
     },
     "execution_count": 44,
     "metadata": {},
     "output_type": "execute_result"
    }
   ],
   "source": [
    "lhs = res_v.coeff(t, 3)\n",
    "lhs = lhs.subs(E2 * v[i], 0).expand()\n",
    "\n",
    "terms = lhs.args\n",
    "lhs = 0\n",
    "for term in terms:\n",
    "    lhs += symmetrize(standardize_indices(term))\n",
    "\n",
    "lhs = lhs.subs(w_is_symmetric).subs(λ_is_symmetric)\n",
    "(eq2 := Eq(lhs, 0))"
   ]
  },
  {
   "cell_type": "code",
   "execution_count": 62,
   "id": "d9b59212-f985-488b-b637-d9cf089a373c",
   "metadata": {},
   "outputs": [
    {
     "data": {
      "text/latex": [
       "$\\displaystyle \\begin{align}\\E_{3} {v}_{i} {v}_{j} {v}_{k}&={E}_{i,j,k}&\\dot{\\E}_3 {v}_{i} {v}_{j} {v}_{k}&=- \\dot{\\E}_2 {v}_{i} {w}_{j,k} - \\dot{\\E}_2 {v}_{j} {w}_{i,k} - \\dot{\\E}_2 {v}_{k} {w}_{i,j} + {\\dot{E}}_{i,j,k}\\\\\\end{align}$"
      ],
      "text/plain": [
       "<IPython.core.display.Math object>"
      ]
     },
     "metadata": {},
     "output_type": "display_data"
    },
    {
     "data": {
      "text/latex": [
       "$\\displaystyle \\begin{align}\\dot{\\E}_2 {v}_{i} {v}_{j}&={\\dot{E}}_{i,j}&\\dot{\\E}_2 {v}_{i} {v}_{k}&={\\dot{E}}_{i,k}\\\\\\dot{\\E}_2 {v}_{i} {v}_{l}&={\\dot{E}}_{i,l}&\\ddot{\\E}_2 {v}_{i} {v}_{j}&=- \\dot{\\E}_2 {v}_{i} {w_\\lambda{}}_{j} - \\dot{\\E}_2 {v}_{j} {w_\\lambda{}}_{i} + {\\ddot{E}}_{i,j}\\\\\\ddot{\\E}_2 {v}_{i} {v}_{k}&=- \\dot{\\E}_2 {v}_{i} {w_\\lambda{}}_{k} - \\dot{\\E}_2 {v}_{k} {w_\\lambda{}}_{i} + {\\ddot{E}}_{i,k}&\\ddot{\\E}_2 {v}_{i} {v}_{l}&=- \\dot{\\E}_2 {v}_{i} {w_\\lambda{}}_{l} - \\dot{\\E}_2 {v}_{l} {w_\\lambda{}}_{i} + {\\ddot{E}}_{i,l}\\\\\\E_{3} {v}_{i} {v}_{j} {v}_{k}&={E}_{i,j,k}&\\E_{3} {v}_{i} {v}_{j} {v}_{l}&={E}_{i,j,l}\\\\\\E_{3} {v}_{i} {v}_{k} {v}_{l}&={E}_{i,k,l}&\\dot{\\E}_3 {v}_{i} {v}_{j} {v}_{k}&=- \\dot{\\E}_2 {v}_{i} {w}_{j,k} - \\dot{\\E}_2 {v}_{j} {w}_{i,k} - \\dot{\\E}_2 {v}_{k} {w}_{i,j} + {\\dot{E}}_{i,j,k}\\\\\\dot{\\E}_3 {v}_{i} {v}_{j} {v}_{l}&=- \\dot{\\E}_2 {v}_{i} {w}_{j,l} - \\dot{\\E}_2 {v}_{j} {w}_{i,l} - \\dot{\\E}_2 {v}_{l} {w}_{i,j} + {\\dot{E}}_{i,j,l}&\\dot{\\E}_3 {v}_{i} {v}_{k} {v}_{l}&=- \\dot{\\E}_2 {v}_{i} {w}_{k,l} - \\dot{\\E}_2 {v}_{k} {w}_{i,l} - \\dot{\\E}_2 {v}_{l} {w}_{i,k} + {\\dot{E}}_{i,k,l}\\\\\\E_{4} {v}_{i} {v}_{j} {v}_{k} {v}_{l}&=- \\E_{3} {v}_{i} {v}_{j} {w}_{k,l} - \\E_{3} {v}_{i} {v}_{k} {w}_{j,l} - \\E_{3} {v}_{i} {v}_{l} {w}_{j,k} + {E}_{i,j,k,l}&\\end{align}$"
      ],
      "text/plain": [
       "<IPython.core.display.Math object>"
      ]
     },
     "metadata": {},
     "output_type": "display_data"
    },
    {
     "name": "stdout",
     "output_type": "stream",
     "text": [
      "25\n",
      "28\n"
     ]
    },
    {
     "data": {
      "text/latex": [
       "$\\displaystyle \\frac{\\E_{3} {\\lambda}_{j} {\\xi}_{j} {\\xi}_{k} {\\xi}_{l} {v}_{i} {v}_{k} {w_\\lambda{}}_{l}}{6} + \\frac{\\E_{3} {\\lambda}_{j} {\\xi}_{j} {\\xi}_{k} {\\xi}_{l} {v}_{i} {v}_{l} {w_\\lambda{}}_{k}}{6} + \\frac{\\E_{3} {\\lambda}_{k} {\\xi}_{j} {\\xi}_{k} {\\xi}_{l} {v}_{i} {v}_{j} {w_\\lambda{}}_{l}}{6} + \\frac{\\E_{3} {\\lambda}_{k} {\\xi}_{j} {\\xi}_{k} {\\xi}_{l} {v}_{i} {v}_{l} {w_\\lambda{}}_{j}}{6} + \\frac{\\E_{3} {\\lambda}_{l} {\\xi}_{j} {\\xi}_{k} {\\xi}_{l} {v}_{i} {v}_{j} {w_\\lambda{}}_{k}}{6} + \\frac{\\E_{3} {\\lambda}_{l} {\\xi}_{j} {\\xi}_{k} {\\xi}_{l} {v}_{i} {v}_{k} {w_\\lambda{}}_{j}}{6} + \\frac{\\dot{\\E}_2 {\\lambda}_{j} {\\lambda}_{k} {\\xi}_{j} {\\xi}_{k} {\\xi}_{l} {v}_{i} {w_\\lambda{}}_{l}}{6} - \\frac{\\dot{\\E}_2 {\\lambda}_{j} {\\lambda}_{k} {\\xi}_{j} {\\xi}_{k} {\\xi}_{l} {v}_{l} {w_\\lambda{}}_{i}}{6} + \\frac{\\dot{\\E}_2 {\\lambda}_{j} {\\lambda}_{l} {\\xi}_{j} {\\xi}_{k} {\\xi}_{l} {v}_{i} {w_\\lambda{}}_{k}}{6} - \\frac{\\dot{\\E}_2 {\\lambda}_{j} {\\lambda}_{l} {\\xi}_{j} {\\xi}_{k} {\\xi}_{l} {v}_{k} {w_\\lambda{}}_{i}}{6} - \\frac{\\dot{\\E}_2 {\\lambda}_{j} {\\xi}_{j} {\\xi}_{k} {\\xi}_{l} {v}_{k} {w}_{i,l}}{6} - \\frac{\\dot{\\E}_2 {\\lambda}_{j} {\\xi}_{j} {\\xi}_{k} {\\xi}_{l} {v}_{l} {w}_{i,k}}{6} + \\frac{\\dot{\\E}_2 {\\lambda}_{k} {\\lambda}_{l} {\\xi}_{j} {\\xi}_{k} {\\xi}_{l} {v}_{i} {w_\\lambda{}}_{j}}{6} - \\frac{\\dot{\\E}_2 {\\lambda}_{k} {\\lambda}_{l} {\\xi}_{j} {\\xi}_{k} {\\xi}_{l} {v}_{j} {w_\\lambda{}}_{i}}{6} - \\frac{\\dot{\\E}_2 {\\lambda}_{k} {\\xi}_{j} {\\xi}_{k} {\\xi}_{l} {v}_{j} {w}_{i,l}}{6} - \\frac{\\dot{\\E}_2 {\\lambda}_{k} {\\xi}_{j} {\\xi}_{k} {\\xi}_{l} {v}_{l} {w}_{i,j}}{6} - \\frac{\\dot{\\E}_2 {\\lambda}_{l} {\\xi}_{j} {\\xi}_{k} {\\xi}_{l} {v}_{j} {w}_{i,k}}{6} - \\frac{\\dot{\\E}_2 {\\lambda}_{l} {\\xi}_{j} {\\xi}_{k} {\\xi}_{l} {v}_{k} {w}_{i,j}}{6} + \\frac{{E}_{i,j,k,l} {\\xi}_{j} {\\xi}_{k} {\\xi}_{l}}{6} + \\frac{{\\ddot{E}}_{i,j} {\\lambda}_{k} {\\lambda}_{l} {\\xi}_{j} {\\xi}_{k} {\\xi}_{l}}{6} + \\frac{{\\ddot{E}}_{i,k} {\\lambda}_{j} {\\lambda}_{l} {\\xi}_{j} {\\xi}_{k} {\\xi}_{l}}{6} + \\frac{{\\ddot{E}}_{i,l} {\\lambda}_{j} {\\lambda}_{k} {\\xi}_{j} {\\xi}_{k} {\\xi}_{l}}{6} + \\frac{{\\dot{E}}_{i,j,k} {\\lambda}_{l} {\\xi}_{j} {\\xi}_{k} {\\xi}_{l}}{6} + \\frac{{\\dot{E}}_{i,j,l} {\\lambda}_{k} {\\xi}_{j} {\\xi}_{k} {\\xi}_{l}}{6} + \\frac{{\\dot{E}}_{i,j} {\\lambda}_{k,l} {\\xi}_{j} {\\xi}_{k} {\\xi}_{l}}{6} + \\frac{{\\dot{E}}_{i,k,l} {\\lambda}_{j} {\\xi}_{j} {\\xi}_{k} {\\xi}_{l}}{6} + \\frac{{\\dot{E}}_{i,k} {\\lambda}_{j,l} {\\xi}_{j} {\\xi}_{k} {\\xi}_{l}}{6} + \\frac{{\\dot{E}}_{i,l} {\\lambda}_{j,k} {\\xi}_{j} {\\xi}_{k} {\\xi}_{l}}{6}$"
      ],
      "text/plain": [
       "\\E_3*\\lambda[j]*\\xi[j]*\\xi[k]*\\xi[l]*v[i]*v[k]*w_\\lambda{}[l]/6 + \\E_3*\\lambda[j]*\\xi[j]*\\xi[k]*\\xi[l]*v[i]*v[l]*w_\\lambda{}[k]/6 + \\E_3*\\lambda[k]*\\xi[j]*\\xi[k]*\\xi[l]*v[i]*v[j]*w_\\lambda{}[l]/6 + \\E_3*\\lambda[k]*\\xi[j]*\\xi[k]*\\xi[l]*v[i]*v[l]*w_\\lambda{}[j]/6 + \\E_3*\\lambda[l]*\\xi[j]*\\xi[k]*\\xi[l]*v[i]*v[j]*w_\\lambda{}[k]/6 + \\E_3*\\lambda[l]*\\xi[j]*\\xi[k]*\\xi[l]*v[i]*v[k]*w_\\lambda{}[j]/6 + \\dot{\\E}_2*\\lambda[j]*\\lambda[k]*\\xi[j]*\\xi[k]*\\xi[l]*v[i]*w_\\lambda{}[l]/6 - \\dot{\\E}_2*\\lambda[j]*\\lambda[k]*\\xi[j]*\\xi[k]*\\xi[l]*v[l]*w_\\lambda{}[i]/6 + \\dot{\\E}_2*\\lambda[j]*\\lambda[l]*\\xi[j]*\\xi[k]*\\xi[l]*v[i]*w_\\lambda{}[k]/6 - \\dot{\\E}_2*\\lambda[j]*\\lambda[l]*\\xi[j]*\\xi[k]*\\xi[l]*v[k]*w_\\lambda{}[i]/6 - \\dot{\\E}_2*\\lambda[j]*\\xi[j]*\\xi[k]*\\xi[l]*v[k]*w[i, l]/6 - \\dot{\\E}_2*\\lambda[j]*\\xi[j]*\\xi[k]*\\xi[l]*v[l]*w[i, k]/6 + \\dot{\\E}_2*\\lambda[k]*\\lambda[l]*\\xi[j]*\\xi[k]*\\xi[l]*v[i]*w_\\lambda{}[j]/6 - \\dot{\\E}_2*\\lambda[k]*\\lambda[l]*\\xi[j]*\\xi[k]*\\xi[l]*v[j]*w_\\lambda{}[i]/6 - \\dot{\\E}_2*\\lambda[k]*\\xi[j]*\\xi[k]*\\xi[l]*v[j]*w[i, l]/6 - \\dot{\\E}_2*\\lambda[k]*\\xi[j]*\\xi[k]*\\xi[l]*v[l]*w[i, j]/6 - \\dot{\\E}_2*\\lambda[l]*\\xi[j]*\\xi[k]*\\xi[l]*v[j]*w[i, k]/6 - \\dot{\\E}_2*\\lambda[l]*\\xi[j]*\\xi[k]*\\xi[l]*v[k]*w[i, j]/6 + E[i, j, k, l]*\\xi[j]*\\xi[k]*\\xi[l]/6 + \\ddot{E}[i, j]*\\lambda[k]*\\lambda[l]*\\xi[j]*\\xi[k]*\\xi[l]/6 + \\ddot{E}[i, k]*\\lambda[j]*\\lambda[l]*\\xi[j]*\\xi[k]*\\xi[l]/6 + \\ddot{E}[i, l]*\\lambda[j]*\\lambda[k]*\\xi[j]*\\xi[k]*\\xi[l]/6 + \\dot{E}[i, j, k]*\\lambda[l]*\\xi[j]*\\xi[k]*\\xi[l]/6 + \\dot{E}[i, j, l]*\\lambda[k]*\\xi[j]*\\xi[k]*\\xi[l]/6 + \\dot{E}[i, j]*\\lambda[k, l]*\\xi[j]*\\xi[k]*\\xi[l]/6 + \\dot{E}[i, k, l]*\\lambda[j]*\\xi[j]*\\xi[k]*\\xi[l]/6 + \\dot{E}[i, k]*\\lambda[j, l]*\\xi[j]*\\xi[k]*\\xi[l]/6 + \\dot{E}[i, l]*\\lambda[j, k]*\\xi[j]*\\xi[k]*\\xi[l]/6"
      ]
     },
     "metadata": {},
     "output_type": "display_data"
    }
   ],
   "source": [
    "d = dict()\n",
    "\n",
    "d2 = {\n",
    "    E2_dot * v[i] * v[j]: E_dot[i, j],\n",
    "    E2_ddot * v[i] * v[j]: E_ddot[i, j] - E2_dot * v[i] * w_λ[j] - E2_dot * v[j] * w_λ[i]\n",
    "}\n",
    "\n",
    "d3 = {\n",
    "    E3 * v[i] * v[j] * v[k]: E_[i, j, k],\n",
    "    E3_dot * v[i] * v[j] * v[k]: (E_dot[i, j, k] \n",
    "                                  - E2_dot * v[i] * w[j, k]\n",
    "                                  - E2_dot * v[j] * w[i, k]\n",
    "                                  - E2_dot * v[k] * w[i, j])\n",
    "}\n",
    "\n",
    "display_latex_dict(d3)\n",
    "\n",
    "for x, y in d2.items():\n",
    "    d[x] = y\n",
    "    d[x.subs(j, k)] = y.subs(j, k)\n",
    "    d[x.subs(j, l)] = y.subs(j, l)\n",
    "\n",
    "for x, y in d3.items():\n",
    "    d[x] = y\n",
    "    d[x.subs(k, l)] = y.subs(k, l)\n",
    "    d[x.subs(k, l).subs(j, k)] = y.subs(k, l).subs(j, k)\n",
    "    \n",
    "    \n",
    "d[E4 * v[i] * v[j] * v[k] * v[l]] = (E_[i, j, k, l] \n",
    "                                     - E3 * v[i] * v[j] * w[k, l]\n",
    "                                     - E3 * v[i] * v[k] * w[j, l]\n",
    "                                     - E3 * v[i] * v[l] * w[j, k])\n",
    "\n",
    "display_latex_dict(d)\n",
    "print(len(lhs.args))\n",
    "lhs = lhs.subs(d).expand()\n",
    "print(len(lhs.args))\n",
    "display(lhs)"
   ]
  },
  {
   "cell_type": "markdown",
   "id": "c33ac351-8daa-4221-a535-e6b0c361e0f7",
   "metadata": {},
   "source": [
    "And we get the second equation  (which is homogeneous of degree 3 w.r.t. the $\\xi_i$ and must therefore hold even for large values of these parameters)"
   ]
  },
  {
   "cell_type": "markdown",
   "id": "87a455c3-8416-4b86-b53b-63afaac99e2d",
   "metadata": {},
   "source": [
    "$$\n",
    "\\begin{aligned}[b]\n",
    "\\xi_j \\, \\xi_k \\, \\xi_l \\, \\bigl[\n",
    "\\tfrac{1}{2} \\E_3(v_i, v_j, w_{kl})\n",
    "+ \\lambda_l \\, \\E_3(v_i, v_j, w_{k\\lambda})\n",
    "+ \\tfrac{1}{6} \\E_4(v_i, v_j, v_k, v_l) &\\\\\n",
    "+ \\tfrac{1}{2} \\lambda_l \\, \\dot{\\E}_2(v_i, w_{jk})\n",
    "+ \\lambda_k \\, \\lambda_l \\, \\dot{\\E}_2(v_i, w_{j\\lambda})\n",
    "+ \\tfrac{1}{2} \\lambda_{kl} \\, \\dot{\\E}_2(v_i, v_j) &\\\\\n",
    "+ \\tfrac{1}{2} \\lambda_l \\, \\dot{\\E}_3(v_i, v_j, v_k)\n",
    "+ \\tfrac{1}{2} \\lambda_k \\, \\lambda_l \\, \\ddot{\\E}_2(v_i, v_j)\n",
    "\\bigr] &= 0,\n",
    "\\end{aligned}\n",
    "$$ {#eq-20230115101147}\n",
    "for all $\\xi_1, \\ldots, \\xi_m \\in \\reals$."
   ]
  },
  {
   "cell_type": "code",
   "execution_count": 26,
   "id": "84fac8a3-1307-4901-81df-84a402efcc3c",
   "metadata": {},
   "outputs": [],
   "source": [
    "def get_contraction_structure2(expr):\n",
    "    if not expr.is_Mul:\n",
    "        raise ValueError()\n",
    "    b2i = dict()\n",
    "    i2b = dict()\n",
    "    for factor in term.args:\n",
    "        if factor.is_Indexed:\n",
    "            b = factor.base\n",
    "            b2i[b] = b2i.get(b, []) + list(factor.indices)\n",
    "            for i in factor.indices:\n",
    "                i2b[i] = i2b.get(i, []) + [b,]\n",
    "    return b2i, i2b"
   ]
  },
  {
   "cell_type": "markdown",
   "id": "a4b88112-e8a5-4509-a486-eae0613253bf",
   "metadata": {},
   "source": [
    "## Simplification of the bifurcation equations"
   ]
  },
  {
   "cell_type": "markdown",
   "id": "8668fcd7-2d42-483f-9a14-83344ac6ffef",
   "metadata": {},
   "source": [
    "In this section, Eqs. (@eq-20230115101130) and (@eq-20230115101147) are simplified to deliver the bifurcation equations (@eq-20230125062336) and (@eq-20230124205642)."
   ]
  },
  {
   "cell_type": "markdown",
   "id": "5921f043-66e4-499e-9bcb-81389b2ca807",
   "metadata": {},
   "source": [
    "### Parametrization of the bifurcated branch"
   ]
  },
  {
   "cell_type": "markdown",
   "id": "6d0d4489-4551-4dcf-8511-0e195ceec3ed",
   "metadata": {},
   "source": [
    "A parametrization of the bifurcated branch is first introduced. The bifurcated branch is a curve $(u, \\lambda) \\in \\reals ^ {m + 1}$, which is parametrized by $\\eta$: $[u(\\eta), \\lambda(\\eta)]$, with $u(0) = u_0$ and $\\lambda(0) = \\lambda_0$; primed quantities denoting derivatives with respect to $\\eta$, we introduce"
   ]
  },
  {
   "cell_type": "markdown",
   "id": "5a95190f-a2d2-46db-b557-6d9585c4fb43",
   "metadata": {},
   "source": [
    "$$\n",
    "\\order[1]{\\xi_i} = \\xi_i'(0), \\quad \\order[2]{\\xi_i} = \\xi_i''(0), \\quad \\ldots, \\quad \\order[1]{\\lambda} = \\lambda'(0), \\quad \\ldots\n",
    "$$"
   ]
  },
  {
   "cell_type": "markdown",
   "id": "89ac341a-2862-4f52-b90b-85ba59b04b65",
   "metadata": {},
   "source": [
    "In @sec-20230102030125, $\\lambda$ was defined as a function of $\\xi_1, \\ldots, \\xi_m$. Therefore, from the chain rule"
   ]
  },
  {
   "cell_type": "markdown",
   "id": "d5ab2497-b131-48a0-ad0b-fe66e9650780",
   "metadata": {},
   "source": [
    "$$\n",
    "\\lambda'(\\eta) = \\frac{\\partial\\lambda}{\\partial\\xi_i} \\, \\xi_i'(\\eta) \\quad \\text{and} \\quad \\lambda''(\\eta)  = \\frac{\\partial^2\\lambda}{\\partial\\xi_i \\, \\partial\\xi_j} \\, \\xi_i'(\\eta) \\, \\xi_j'(\\eta) + \\frac{\\partial\\lambda}{\\partial\\xi_i} \\, \\xi_i''(\\eta)\n",
    "$$"
   ]
  },
  {
   "cell_type": "markdown",
   "id": "5205223d-6782-4301-b12d-57a5ab5c34de",
   "metadata": {},
   "source": [
    "and, at $\\eta = 0$"
   ]
  },
  {
   "cell_type": "markdown",
   "id": "2a6a8c2b-cfe3-435d-9fa7-0d98d40f6c9b",
   "metadata": {},
   "source": [
    "$$\n",
    "\\order[1]{\\lambda} = \\lambda_i \\, \\order[1]{\\xi_i} \\quad \\text{and} \\quad \\order[2]{\\lambda} = \\lambda_{ij} \\, \\order[1]{\\xi_i} \\, \\order[1]{\\xi_j} + \\lambda_i \\, \\order[2]{\\xi_i}.\n",
    "$$ {#eq-20230116205753}"
   ]
  },
  {
   "cell_type": "code",
   "execution_count": 27,
   "id": "f09175a0-abed-495f-865d-0d393bdaa160",
   "metadata": {},
   "outputs": [],
   "source": [
    "ξ1 = IndexedBase(r\"{\\order[1]{\\xi}}\")\n",
    "ξ2 = IndexedBase(r\"{\\order[2]{\\xi}}\")\n",
    "λ1, λ2 = symbols(r\"{\\order[1]{\\lambda}} {\\order[2]{\\lambda}}\")"
   ]
  },
  {
   "cell_type": "markdown",
   "id": "5c73ac55-5120-41c0-96f1-24eb22dd6eea",
   "metadata": {},
   "source": [
    "### Simplification of the first bifurcation equation"
   ]
  },
  {
   "cell_type": "markdown",
   "id": "af5b2bf6-3ff1-4b31-b8e9-63da638446c3",
   "metadata": {},
   "source": [
    "We first observe that, for fixed $i = 1, \\ldots, m$, Eq. (@eq-20230115101130) is of the form $L_{jk} \\, \\xi_j \\, \\xi_k = 0$ for all $\\xi_1, \\ldots, \\xi_m$. Derivation with respect to $\\xi_l$ leads to"
   ]
  },
  {
   "cell_type": "markdown",
   "id": "df272aba-f266-41d0-a4f4-11417d5b518d",
   "metadata": {},
   "source": [
    "$$\n",
    "0 = L_{jk} \\, \\delta_{jl} \\, \\xi_k + L_{jk} \\, \\xi_j \\, \\delta_{kl} = L_{lk} \\, \\xi_k + L_{jl} \\, \\xi_j = \\bigl(L_{kl} +L_{lk} \\bigr) \\, \\xi_l,\n",
    "$$"
   ]
  },
  {
   "cell_type": "markdown",
   "id": "580f6ff7-0009-4b5e-b692-e0de389a067d",
   "metadata": {},
   "source": [
    "for all $\\xi_1, \\ldots, \\xi_m \\in \\reals$. The above identity leads to: $L_{kl} + L_{lk} = 0$. Application to\n",
    "Eq. (@eq-20230115101130) delivers the following identity, to be used below"
   ]
  },
  {
   "cell_type": "markdown",
   "id": "405c244a-a29a-4e26-9045-55626ff8a724",
   "metadata": {},
   "source": [
    "$$\n",
    "E_{ijk} + \\lambda_k \\, \\dot{E}_{ij} + \\lambda_j \\, \\dot{E}_{ik} = 0.\n",
    "$$ {#eq-20230120210008}"
   ]
  },
  {
   "cell_type": "markdown",
   "id": "9820bee9-f43e-4ae5-9bdf-2862333a97fc",
   "metadata": {},
   "source": [
    "Eq. (@eq-20230115101130) holds for all $\\xi_1, \\ldots, \\xi_m$. In particular, it holds for $\\xi_i = \\order[1]{\\xi_i}$ and using\n",
    "Eq. (@eq-20230116205753) delivers"
   ]
  },
  {
   "cell_type": "code",
   "execution_count": 28,
   "id": "be21a78d-66ae-47d2-866d-f0739c45ca37",
   "metadata": {},
   "outputs": [
    {
     "data": {
      "text/latex": [
       "$\\displaystyle \\frac{E_{ijk} {{\\order[1]{\\xi}}}_{j} {{\\order[1]{\\xi}}}_{k}}{2} + \\dot{E}_{ij} {\\order[1]{\\lambda}} {{\\order[1]{\\xi}}}_{j} = 0$"
      ],
      "text/plain": [
       "Eq(E_{ijk}*{\\order[1]{\\xi}}[j]*{\\order[1]{\\xi}}[k]/2 + \\dot{E}_{ij}*{\\order[1]{\\lambda}}*{\\order[1]{\\xi}}[j], 0)"
      ]
     },
     "execution_count": 28,
     "metadata": {},
     "output_type": "execute_result"
    }
   ],
   "source": [
    "eq1.subs(ξ, ξ1).subs(λ[k] * ξ1[k], λ1)"
   ]
  },
  {
   "cell_type": "markdown",
   "id": "b9dc8afb-7825-4619-b9e1-56ac174a30a6",
   "metadata": {},
   "source": [
    "which coincides with the **first bifurcation equation** (@eq-20230125062336)."
   ]
  },
  {
   "cell_type": "markdown",
   "id": "b2d477b6-f01c-49d7-86a2-41016f4d1c0d",
   "metadata": {},
   "source": [
    "### Simplification of the second bifurcation equation"
   ]
  },
  {
   "cell_type": "markdown",
   "id": "aab04d49-6b93-47a3-a83a-3f40a53f0995",
   "metadata": {},
   "source": [
    "We first isolate the LHS of this equation, recognize $\\dot{E}_{ij}$ defined by (@eq-20230125062505) and plug Eq. (@eq-20230116205753)"
   ]
  },
  {
   "cell_type": "code",
   "execution_count": 31,
   "id": "aa9b7c02-acdb-4715-8198-d219b8f546a5",
   "metadata": {},
   "outputs": [
    {
     "data": {
      "text/latex": [
       "$\\displaystyle - \\frac{\\E_{3} \\dot{u}_0 {\\lambda}_{j,k} {v}_{i} {v}_{l} {{\\order[1]{\\xi}}}_{j} {{\\order[1]{\\xi}}}_{k} {{\\order[1]{\\xi}}}_{l}}{4} + \\frac{\\E_{3} \\dot{u}_0 {\\lambda}_{k,l} {v}_{i} {v}_{j} {{\\order[1]{\\xi}}}_{j} {{\\order[1]{\\xi}}}_{k} {{\\order[1]{\\xi}}}_{l}}{4} + \\frac{\\E_{3} {\\order[1]{\\lambda}} {v}_{i} {v}_{j} {w_\\lambda{}}_{k} {{\\order[1]{\\xi}}}_{j} {{\\order[1]{\\xi}}}_{k}}{2} + \\frac{\\E_{3} {\\lambda}_{j} {v}_{i} {v}_{k} {w_\\lambda{}}_{l} {{\\order[1]{\\xi}}}_{j} {{\\order[1]{\\xi}}}_{k} {{\\order[1]{\\xi}}}_{l}}{2} + \\frac{\\E_{3} {v}_{i} {v}_{j} {w}_{k,l} {{\\order[1]{\\xi}}}_{j} {{\\order[1]{\\xi}}}_{k} {{\\order[1]{\\xi}}}_{l}}{2} + \\frac{\\E_{4} {v}_{i} {v}_{j} {v}_{k} {v}_{l} {{\\order[1]{\\xi}}}_{j} {{\\order[1]{\\xi}}}_{k} {{\\order[1]{\\xi}}}_{l}}{6} + \\frac{\\ddot{\\E}_2 {\\order[1]{\\lambda}}^{2} {v}_{i} {v}_{j} {{\\order[1]{\\xi}}}_{j}}{2} + \\frac{\\dot{E}_{ij} {\\lambda}_{k,l} {{\\order[1]{\\xi}}}_{j} {{\\order[1]{\\xi}}}_{k} {{\\order[1]{\\xi}}}_{l}}{2} + \\dot{\\E}_2 {\\order[1]{\\lambda}}^{2} {v}_{i} {w_\\lambda{}}_{j} {{\\order[1]{\\xi}}}_{j} + \\frac{\\dot{\\E}_2 {\\order[1]{\\lambda}} {v}_{i} {w}_{j,k} {{\\order[1]{\\xi}}}_{j} {{\\order[1]{\\xi}}}_{k}}{2} + \\frac{\\dot{\\E}_3 {\\order[1]{\\lambda}} {v}_{i} {v}_{j} {v}_{k} {{\\order[1]{\\xi}}}_{j} {{\\order[1]{\\xi}}}_{k}}{2}$"
      ],
      "text/plain": [
       "-\\E_3*\\dot{u}_0*\\lambda[j, k]*v[i]*v[l]*{\\order[1]{\\xi}}[j]*{\\order[1]{\\xi}}[k]*{\\order[1]{\\xi}}[l]/4 + \\E_3*\\dot{u}_0*\\lambda[k, l]*v[i]*v[j]*{\\order[1]{\\xi}}[j]*{\\order[1]{\\xi}}[k]*{\\order[1]{\\xi}}[l]/4 + \\E_3*{\\order[1]{\\lambda}}*v[i]*v[j]*w_\\lambda{}[k]*{\\order[1]{\\xi}}[j]*{\\order[1]{\\xi}}[k]/2 + \\E_3*\\lambda[j]*v[i]*v[k]*w_\\lambda{}[l]*{\\order[1]{\\xi}}[j]*{\\order[1]{\\xi}}[k]*{\\order[1]{\\xi}}[l]/2 + \\E_3*v[i]*v[j]*w[k, l]*{\\order[1]{\\xi}}[j]*{\\order[1]{\\xi}}[k]*{\\order[1]{\\xi}}[l]/2 + \\E_4*v[i]*v[j]*v[k]*v[l]*{\\order[1]{\\xi}}[j]*{\\order[1]{\\xi}}[k]*{\\order[1]{\\xi}}[l]/6 + \\ddot{\\E}_2*{\\order[1]{\\lambda}}**2*v[i]*v[j]*{\\order[1]{\\xi}}[j]/2 + \\dot{E}_{ij}*\\lambda[k, l]*{\\order[1]{\\xi}}[j]*{\\order[1]{\\xi}}[k]*{\\order[1]{\\xi}}[l]/2 + \\dot{\\E}_2*{\\order[1]{\\lambda}}**2*v[i]*w_\\lambda{}[j]*{\\order[1]{\\xi}}[j] + \\dot{\\E}_2*{\\order[1]{\\lambda}}*v[i]*w[j, k]*{\\order[1]{\\xi}}[j]*{\\order[1]{\\xi}}[k]/2 + \\dot{\\E}_3*{\\order[1]{\\lambda}}*v[i]*v[j]*v[k]*{\\order[1]{\\xi}}[j]*{\\order[1]{\\xi}}[k]/2"
      ]
     },
     "execution_count": 31,
     "metadata": {},
     "output_type": "execute_result"
    }
   ],
   "source": [
    "(lhs2 := eq2.lhs.subs({\n",
    "    E2_dot * v[i] * v[j]: E_ij_dot,\n",
    "    ξ: ξ1\n",
    "}).subs({\n",
    "    λ[k] * ξ1[k]: λ1,\n",
    "    λ[l] * ξ1[l]: λ1,    \n",
    "}).expand())"
   ]
  },
  {
   "cell_type": "markdown",
   "id": "fe1f3e9a-f197-49d3-bfb8-cd1bf2d4a0d4",
   "metadata": {},
   "source": [
    "The term in $\\order[1]{\\xi}_j \\, \\order[1]{\\xi}_k \\, \\order[1]{\\xi}_l$ reads"
   ]
  },
  {
   "cell_type": "code",
   "execution_count": 32,
   "id": "2b3542b1-51fa-4db5-8f3f-9dd8517b0183",
   "metadata": {},
   "outputs": [
    {
     "data": {
      "text/latex": [
       "$\\displaystyle - \\frac{\\E_{3} \\dot{u}_0 {\\lambda}_{j,k} {v}_{i} {v}_{l}}{4} + \\frac{\\E_{3} \\dot{u}_0 {\\lambda}_{k,l} {v}_{i} {v}_{j}}{4} + \\frac{\\E_{3} {\\lambda}_{j} {v}_{i} {v}_{k} {w_\\lambda{}}_{l}}{2} + \\frac{\\E_{3} {v}_{i} {v}_{j} {w}_{k,l}}{2} + \\frac{\\E_{4} {v}_{i} {v}_{j} {v}_{k} {v}_{l}}{6} + \\frac{\\dot{E}_{ij} {\\lambda}_{k,l}}{2}$"
      ],
      "text/plain": [
       "-\\E_3*\\dot{u}_0*\\lambda[j, k]*v[i]*v[l]/4 + \\E_3*\\dot{u}_0*\\lambda[k, l]*v[i]*v[j]/4 + \\E_3*\\lambda[j]*v[i]*v[k]*w_\\lambda{}[l]/2 + \\E_3*v[i]*v[j]*w[k, l]/2 + \\E_4*v[i]*v[j]*v[k]*v[l]/6 + \\dot{E}_{ij}*\\lambda[k, l]/2"
      ]
     },
     "execution_count": 32,
     "metadata": {},
     "output_type": "execute_result"
    }
   ],
   "source": [
    "cofactor3 = ξ1[j] * ξ1[k] * ξ1[l]\n",
    "(term3 := lhs2.coeff(ξ1[j]).coeff(ξ1[k]).coeff(ξ1[l]))"
   ]
  },
  {
   "cell_type": "markdown",
   "id": "03ccd33e-af1a-4a94-82ba-f4cf95558a71",
   "metadata": {},
   "source": [
    "Owing to the contraction with $\\order[1]{\\xi}_j$, $\\order[1]{\\xi}_k$ and $\\order[1]{\\xi}_l$, the following symmetrization can be performed"
   ]
  },
  {
   "cell_type": "markdown",
   "id": "27cad02e-bdb7-4699-a658-684fd0529c62",
   "metadata": {},
   "source": [
    "$$\n",
    "\\order[1]{\\xi}_j \\, \\order[1]{\\xi}_k \\, \\order[1]{\\xi}_l \\, \\bigl[ \\E_4(v_i, v_j, v_k, v_l) + 3\\E_3(v_i, v_j, w_{kl}) \\bigr]\n",
    "= E_{ijkl} \\, \\order[1]{\\xi}_j \\, \\order[1]{\\xi}_k \\, \\order[1]{\\xi}_l,\n",
    "$$"
   ]
  },
  {
   "cell_type": "markdown",
   "id": "4aa36053-7e12-4d89-b0a3-583dcc2fd640",
   "metadata": {},
   "source": [
    "where $E_{ijkl}$ is defined by Eq. (@eq-20230124210049)."
   ]
  },
  {
   "cell_type": "code",
   "execution_count": null,
   "id": "662551c5-394d-48ee-bdaf-46df57802380",
   "metadata": {},
   "outputs": [],
   "source": [
    "(term3a := term3.subs(E4 * v[i] * v[j] * v[k] * v[l], E_ijkl - 3 * E3 * v[i] * v[j] * w[k, l]))"
   ]
  },
  {
   "cell_type": "markdown",
   "id": "21a9f40d-0fdf-40f5-b955-3e72f454575b",
   "metadata": {},
   "source": [
    "And the result is plugged back into the LHS of the bifurcation equation."
   ]
  },
  {
   "cell_type": "code",
   "execution_count": null,
   "id": "b02c8deb-9c10-4ea0-a02e-dc9a879c67c2",
   "metadata": {},
   "outputs": [],
   "source": [
    "(lhs2a := expand(lhs2 + cofactor3 * (term3a - term3)))"
   ]
  },
  {
   "cell_type": "markdown",
   "id": "d961b91e-0d58-4fa7-b09d-d96eeb64ea22",
   "metadata": {},
   "source": [
    "We now consider the $\\order[1]{\\xi}_k \\, \\order[1]{\\xi}_l$ term"
   ]
  },
  {
   "cell_type": "code",
   "execution_count": null,
   "id": "4999e973-8456-4c4b-b8b2-7d98a61f9395",
   "metadata": {},
   "outputs": [],
   "source": [
    "cofactor2 = ξ1[j] * ξ1[k]\n",
    "(term2 := lhs2b.coeff(ξ1[j]).coeff(ξ1[k]).coeff(ξ1[l], 0))"
   ]
  },
  {
   "cell_type": "markdown",
   "id": "5ee2c088-b924-4de3-8263-52b62b87aa20",
   "metadata": {},
   "source": [
    "The variational problems (@eq-20230107180410) and (@eq-20230107180501) are used to transform $\\E_3(v_i, v_k, w_{k\\lambda})$ and $\\E_3(v_i, v_l, w_{k\\lambda})$ as follows"
   ]
  },
  {
   "cell_type": "markdown",
   "id": "89b25d90-787e-46e7-9216-49d342d67e95",
   "metadata": {},
   "source": [
    "$$\n",
    "\\E3(v_i, v_j, w_{k\\lambda}) = -\\E_2(w_{ij}, w_{k\\lambda}) = \\dot{\\E}_2(w_{ij}, v_k)\n",
    "$$"
   ]
  },
  {
   "cell_type": "code",
   "execution_count": null,
   "id": "c8fb2a46-66ac-4b0e-b143-98541902d16c",
   "metadata": {},
   "outputs": [],
   "source": [
    "_λ = Idx(r\"\\lambda\")\n",
    "(term2a := term2.subs({\n",
    "    E3 * v[i] * v[k] * w[l, _λ]: E2_dot * w[i, k] * v[l],\n",
    "    E3 * v[i] * v[l] * w[k, _λ]: E2_dot * w[i, l] * v[k]\n",
    "}))"
   ]
  },
  {
   "cell_type": "markdown",
   "id": "9a1f6dc3-fc40-47e8-8f38-41e22848932a",
   "metadata": {},
   "source": [
    "Finally, we introduce the definition (@eq-20230124210649) of $\\dot{E}_{ijk}$"
   ]
  },
  {
   "cell_type": "code",
   "execution_count": null,
   "id": "b34cc1ab-f42f-4af8-afa5-a783c34b2dbf",
   "metadata": {},
   "outputs": [],
   "source": [
    "(term2b := term2a.subs(E3_dot * v[i] * v[j] * v[k],\n",
    "                       E_ijk_dot - E2_dot * v[i] * w[j, k] - E2_dot * v[j] * w[i, k] -E2_dot * v[k] * w[i, j]).expand())"
   ]
  },
  {
   "cell_type": "markdown",
   "id": "f24d2d7b-8555-40a1-828c-e57d5ca2e63b",
   "metadata": {},
   "source": [
    "And the result is plugged back into the LHS of the bifurcation equation."
   ]
  },
  {
   "cell_type": "code",
   "execution_count": null,
   "id": "2cb409a8-ffce-459f-ba05-ce77d603b81f",
   "metadata": {},
   "outputs": [],
   "source": [
    "(lhs2c := expand(lhs2b + cofactor2 * (term2b - term2)))"
   ]
  },
  {
   "cell_type": "markdown",
   "id": "f94ef418-9ad6-4920-8509-5a94be08326e",
   "metadata": {},
   "source": [
    "We now consider the term in $\\bigl[ \\order[1]{\\lambda} \\bigr]^2 \\, \\order[1]{\\xi}_l$"
   ]
  },
  {
   "cell_type": "code",
   "execution_count": null,
   "id": "439a52ff-e3ad-46f7-95e4-de8e6489daf3",
   "metadata": {},
   "outputs": [],
   "source": [
    "cofactor1 = λ1**2 * ξ1[l]\n",
    "(term1 := lhs2c.coeff(ξ1[j], 0).coeff(ξ1[k], 0).coeff(ξ1[l]).coeff(λ1, 2))"
   ]
  },
  {
   "cell_type": "markdown",
   "id": "396e383d-fed1-4c78-adca-45a249411f09",
   "metadata": {},
   "source": [
    "This term is simplified by testing Eq. (@eq-20230107180501), with $\\hat{w} = w_{l\\lambda}$ and $\\hat{w} = w_{i\\lambda}$, successively"
   ]
  },
  {
   "cell_type": "markdown",
   "id": "77a38c6a-4f72-419f-8d6a-f94a244a1849",
   "metadata": {},
   "source": [
    "$$\n",
    "2\\dot{\\E}_2(v_i, w_{l\\lambda})\n",
    "= \\dot{\\E}_2(v_i, w_{l\\lambda}) -\\E_2(w_{i\\lambda}, w_{l\\lambda})\n",
    "= \\dot{\\E}_2(v_i, w_{l\\lambda}) + \\E_2(v_l, w_{i\\lambda})\n",
    "= \\ddot{E}_{il} - \\ddot{E}_2(v_i, v_l),\n",
    "$$"
   ]
  },
  {
   "cell_type": "markdown",
   "id": "4a0794d0-8a82-4263-a8bd-10d5a28ef1ee",
   "metadata": {},
   "source": [
    "where $\\ddot{E}_{ij}$ is defined by Eq. (@eq-20230124211207). "
   ]
  },
  {
   "cell_type": "code",
   "execution_count": null,
   "id": "dd30f5b6-93c3-4199-ad5d-27a7edbfea55",
   "metadata": {},
   "outputs": [],
   "source": [
    "term1a = E_il_ddot / 2"
   ]
  },
  {
   "cell_type": "code",
   "execution_count": null,
   "id": "51ac2ad4-30a1-451c-b834-791850a4f128",
   "metadata": {},
   "outputs": [],
   "source": [
    "(lhs2d := expand(lhs2c + cofactor1 * (term1a - term1)))"
   ]
  },
  {
   "cell_type": "markdown",
   "id": "f64aef6a-ae87-4f86-8e14-891689663617",
   "metadata": {},
   "source": [
    "The definition (@eq-20230125062505) of $\\dot{E}_{il}$ is then substituted"
   ]
  },
  {
   "cell_type": "code",
   "execution_count": null,
   "id": "506a5a37-3962-4e5b-b919-6dfb8db97fcc",
   "metadata": {},
   "outputs": [],
   "source": [
    "(lhs2e := lhs2d.subs(E2_dot * v[i] * v[l], E_il_dot))"
   ]
  },
  {
   "cell_type": "markdown",
   "id": "998a92ff-ef1f-49e5-8ae4-db247799cf85",
   "metadata": {},
   "source": [
    "Upon susbtitution of $\\order[1]{\\xi}_j \\, \\order[1]{\\xi}_k \\, \\lambda_{jk}$ with $\\order[2]{\\lambda} - \\lambda_k \\, \\order[2]{\\xi_k}$ \\[see Eq. (@eq-20230116205753)\\]"
   ]
  },
  {
   "cell_type": "code",
   "execution_count": null,
   "id": "cbca7dc5-b4e9-4653-a8cf-0474cc044c23",
   "metadata": {},
   "outputs": [],
   "source": [
    "(lhs2f := lhs2e.subs(ξ1[j] * ξ1[k] * λ[j, k], λ2 - λ[j] * ξ2[j]).expand())"
   ]
  },
  {
   "cell_type": "markdown",
   "id": "aaccffa0-0f80-434b-bbe7-afb2320b10fd",
   "metadata": {},
   "source": [
    "Finally, we use Eq. (@eq-20230120210008)"
   ]
  },
  {
   "cell_type": "code",
   "execution_count": null,
   "id": "e9fecf02-eadf-4313-9467-02e3f53a9e9f",
   "metadata": {},
   "outputs": [],
   "source": [
    "(lhs2g := lhs2f.subs(λ[j] * E_il_dot, -E_ijl - λ[l] * E_ij_dot).expand())"
   ]
  },
  {
   "cell_type": "markdown",
   "id": "f205946c-4ab1-4dd2-9657-9ee590c4c6bb",
   "metadata": {},
   "source": [
    "Plugging again Eq. (@eq-20230116205753)"
   ]
  },
  {
   "cell_type": "code",
   "execution_count": null,
   "id": "6253dfa9-584c-4b3a-a339-78fb37569103",
   "metadata": {},
   "outputs": [],
   "source": [
    "(lhs2h := lhs2g.subs(λ[l] * ξ1[l], λ1).expand())"
   ]
  },
  {
   "cell_type": "markdown",
   "id": "4a5ee59b-3c1a-4abf-b820-507cfac96231",
   "metadata": {},
   "source": [
    "The second bifurcation equation finally reads"
   ]
  },
  {
   "cell_type": "code",
   "execution_count": null,
   "id": "8b6276f6-0208-4cc8-91c1-264376c0804a",
   "metadata": {},
   "outputs": [],
   "source": [
    "#| code-fold: true\n",
    "display_latex_equation(expand(2 * lhs2h), 0)"
   ]
  },
  {
   "cell_type": "markdown",
   "id": "d948207e-ae2d-4ddf-b14f-2d4171b93c34",
   "metadata": {},
   "source": [
    "and Eq. (@eq-20230124205642) is retrieved."
   ]
  },
  {
   "cell_type": "markdown",
   "id": "233b33de-ee14-4fd1-bbdd-91106ab17d0e",
   "metadata": {},
   "source": [
    "## Taylor expansion of the bifurcated branch\n",
    "\n",
    "We now turn to $w$, which was defined in @sec-20230102030010 as an implicit function of $\\xi_1, \\ldots, \\xi_m$ and\n",
    "$\\lambda$. It is now defined as a function of the arc parameter $\\eta$ as follows: $w(n) = w[\\xi_1(\\eta), \\ldots, \\xi_m(\\eta), \\lambda(\\eta)]$.\n",
    "From the chain rule\n",
    "$$\n",
    "w'(\\eta) = \\frac{\\partial w}{\\partial \\xi_i} \\, \\xi_i' + \\frac{\\partial w}{\\partial \\lambda} \\, \\lambda'\n",
    "$$\n",
    "and\n",
    "$$\n",
    "w''(\\eta) = \\frac{\\partial^2 w}{\\partial \\xi_i \\, \\partial \\xi_j} \\, \\xi_i' \\, \\xi_j'\n",
    "+ 2\\frac{\\partial w}{\\partial \\xi_i \\, \\partial \\lambda} \\, \\xi_i' \\, \\lambda'\n",
    "+ \\frac{\\partial w}{\\partial \\xi_i} \\, \\xi_i''\n",
    "+ \\frac{\\partial^2 w}{\\partial \\lambda^2} \\, \\lambda^{'2}\n",
    "+ \\frac{\\partial w}{\\partial \\lambda} \\, \\lambda''.\n",
    "$$\n",
    "\n",
    "At $\\eta = 0$, the above identities reduce to\n",
    "$$\n",
    "w'(0) = 0\n",
    "\\quad \\text{and} \\quad\n",
    "w''(0) = \\order[1]{\\xi_i} \\, \\order[1]{\\xi_j} \\, w_{ij}  + 2 \\order[1]{\\lambda} \\, \\order[1]{\\xi_i} \\, w_{i\\lambda}\n",
    "$$\n",
    "\n",
    "We deduce from the above the Taylor expansion (@eq-20230528174310) of the bifurcated branch as $\\eta \\to 0$."
   ]
  }
 ],
 "metadata": {
  "kernelspec": {
   "display_name": "Python 3 (ipykernel)",
   "language": "python",
   "name": "python3"
  },
  "language_info": {
   "codemirror_mode": {
    "name": "ipython",
    "version": 3
   },
   "file_extension": ".py",
   "mimetype": "text/x-python",
   "name": "python",
   "nbconvert_exporter": "python",
   "pygments_lexer": "ipython3",
   "version": "3.9.16"
  },
  "toc-autonumbering": false,
  "toc-showtags": false
 },
 "nbformat": 4,
 "nbformat_minor": 5
}
