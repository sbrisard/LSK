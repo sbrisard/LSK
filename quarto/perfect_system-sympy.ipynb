{
 "cells": [
  {
   "cell_type": "markdown",
   "id": "8be474c1-2c79-4a5a-a1c8-6d849c67e906",
   "metadata": {},
   "source": [
    "# Bifurcation equations of the perfect system {#sec-20230102153124}\n",
    "\n",
    "In this notebook, the bifurcation analysis of the perfect system is performed symbolically. This notebook uses custom $\\LaTeX\\newcommand{\\D}{\\mathrm{d}}\\newcommand{\\E}{\\mathcal{E}}$ macros.\n",
    "\n",
    "Symbolic expressions of the energy $(u, \\lambda) \\mapsto \\E(u, \\lambda)$ and of the fundamental path $\\lambda \\mapsto u^\\ast(\\lambda)$ are first constructed in @sec-20230103084732. These expressions are Taylor expansions about the critical point $(u_0, \\lambda_0)$.\n",
    "\n",
    "Without loss of generality, it will be assumed in this notebook that $\\lambda_0 = 0$ and $u_0 = 0$. The general case $\\lambda_0 \\neq 0$ and $u_0 \\neq 0$ is readily recovered through the substitution $\\lambda \\leftrightarrow \\lambda - \\lambda_0$ and $u \\leftrightarrow u - u_0$."
   ]
  },
  {
   "cell_type": "markdown",
   "id": "62ad2dfb-1006-4f94-a4a1-2c61a719a6d7",
   "metadata": {},
   "source": [
    "## Initialization\n",
    "\n",
    "We use the [Python](https://www.python.org) library [SymPy](https://www.sympy.org) (imported as `sp`, here) for symbolic mathematics. We define a few common symbols and useful functions."
   ]
  },
  {
   "cell_type": "code",
   "execution_count": 1,
   "id": "b9a81a96-24f1-4524-88df-cfc59f34cdfb",
   "metadata": {},
   "outputs": [],
   "source": [
    "import sympy as sp\n",
    "\n",
    "def latex(x):\n",
    "    return x if str(x) == x else sp.latex(x)\n",
    "  \n",
    "zero = sp.Integer(0)\n",
    "\n",
    "λ, u, v, u_hat, v_hat, w_hat = sp.symbols(r\"\\lambda u v \\hat{u} \\hat{v} \\hat{w}\")"
   ]
  },
  {
   "cell_type": "markdown",
   "id": "80e88d21-5fc1-42d7-a6fa-195c81b37ec9",
   "metadata": {},
   "source": [
    "The [IPython](https://ipython.org/) library (in particular, [IPython.display.Math](https://ipython.readthedocs.io/en/stable/api/generated/IPython.display.html#IPython.display.Math)) will be used for pretty $\\LaTeX$ output."
   ]
  },
  {
   "cell_type": "code",
   "execution_count": 2,
   "id": "62910a5a-4df6-42fa-95e4-63dbc318ef87",
   "metadata": {},
   "outputs": [],
   "source": [
    "import IPython.display as ipd\n",
    "\n",
    "def display_latex_str(s):\n",
    "    display(ipd.Math(s))\n",
    "\n",
    "def display_latex_dict(d, num_cols=2):\n",
    "    s = \"\\\\begin{align}\"\n",
    "    col = 1\n",
    "    for k, v in d.items():\n",
    "        s += latex(k) + \"&=\" + latex(v)\n",
    "        s += r\"\\\\\" if col % num_cols == 0 else r\"&\"\n",
    "        col += 1\n",
    "    s += \"\\\\end{align}\"\n",
    "    display_latex_str(s)\n",
    "\n",
    "def display_latex_equation(lhs, rhs):\n",
    "    display_latex_str(latex(lhs) + \"=\" + latex(rhs))"
   ]
  },
  {
   "cell_type": "markdown",
   "id": "d7b2761a-f22b-46b8-a717-998d42068c98",
   "metadata": {},
   "source": [
    "## Symbolic expressions of the energy and fundamental path {#sec-20230103084732}"
   ]
  },
  {
   "cell_type": "markdown",
   "id": "18023790-d06d-4a6c-96fd-845ba88d343e",
   "metadata": {},
   "source": [
    "The following developments involve the energy $(u, \\lambda) \\mapsto \\E(u, \\lambda)$ and its differentials at the critical point $(u_0, \\lambda_0)$, as well as the fundamental path $\\lambda \\mapsto u^\\ast(\\lambda)$ and its derivatives at $\\lambda = \\lambda_0$. It will therefore be convenient to express $\\E$ and $u^\\star$ as Taylor expansions with respect to $u$ and $\\lambda$."
   ]
  },
  {
   "cell_type": "markdown",
   "id": "67fbf5f1-5843-403f-aaa6-acd8bb25a181",
   "metadata": {},
   "source": [
    "We start with the Taylor expansion of the energy $\\E$. We define its differentials at the critical point. These differentials are stored in a dictionary. Values are indexed with the order of the differentials with respect to $u$ and $\\lambda$."
   ]
  },
  {
   "cell_type": "raw",
   "id": "f62ce6ac-84b7-41fd-9a90-ca90ccef2059",
   "metadata": {},
   "source": [
    "::: {.callout-note}"
   ]
  },
  {
   "cell_type": "markdown",
   "id": "34c22f28-bd51-4a5b-b669-e54023697161",
   "metadata": {},
   "source": [
    "In the following code blocks, `n` is the total order of the differential, `p` is the order of the differential with respect to $u$ and `q = n - p` is the order of the differential with respect to $\\lambda$."
   ]
  },
  {
   "cell_type": "raw",
   "id": "4a6ea1f6-a6e1-4711-ad80-8fe649dd219b",
   "metadata": {},
   "source": [
    ":::"
   ]
  },
  {
   "cell_type": "code",
   "execution_count": 3,
   "id": "bbb935ff-84da-49c0-bbaf-a80b0330abae",
   "metadata": {},
   "outputs": [],
   "source": [
    "dE = dict()\n",
    "for n in range(1, 5):\n",
    "    for p in range(n + 1):\n",
    "        q = n - p\n",
    "        if q == 0:\n",
    "            dE[p, q] = sp.Symbol(r\"\\E_{}\".format(p))\n",
    "        else:\n",
    "            dE[p, q] = sp.Symbol(r\"\\E_{\" + p * \"u\" + q * \"\\lambda\" + \"}\")\n",
    "            \n",
    "# Remember that the energy is stationary at the critical point (equilibrium)\n",
    "dE[1, 0] = zero"
   ]
  },
  {
   "cell_type": "markdown",
   "id": "0bfbc9f1-8500-490c-9011-9f506b1d6b9c",
   "metadata": {},
   "source": [
    "The dictionary `dE` should be understood as follows: `dE[(2, 1)] == dE[2, 1]` is the symbol $\\E_{uu\\lambda}$, which stands for $\\E_{,uu\\lambda}(u_0, \\lambda_0; \\bullet, \\bullet)$. The following symbols have been defined."
   ]
  },
  {
   "cell_type": "code",
   "execution_count": 4,
   "id": "5652e3f5-b03e-4a4a-92c1-ffd699b7744c",
   "metadata": {},
   "outputs": [
    {
     "data": {
      "text/latex": [
       "$\\displaystyle \\begin{align}\\E_{\\lambda}&=\\E_{,\\lambda}(u_0, \\lambda_0)&0&=\\E_{,u}(u_0, \\lambda_0)&\\E_{\\lambda\\lambda}&=\\E_{,\\lambda\\lambda}(u_0, \\lambda_0)\\\\\\E_{u\\lambda}&=\\E_{,u\\lambda}(u_0, \\lambda_0)&\\E_{2}&=\\E_{,uu}(u_0, \\lambda_0)&\\E_{\\lambda\\lambda\\lambda}&=\\E_{,\\lambda\\lambda\\lambda}(u_0, \\lambda_0)\\\\\\E_{u\\lambda\\lambda}&=\\E_{,u\\lambda\\lambda}(u_0, \\lambda_0)&\\E_{uu\\lambda}&=\\E_{,uu\\lambda}(u_0, \\lambda_0)&\\E_{3}&=\\E_{,uuu}(u_0, \\lambda_0)\\\\\\E_{\\lambda\\lambda\\lambda\\lambda}&=\\E_{,\\lambda\\lambda\\lambda\\lambda}(u_0, \\lambda_0)&\\E_{u\\lambda\\lambda\\lambda}&=\\E_{,u\\lambda\\lambda\\lambda}(u_0, \\lambda_0)&\\E_{uu\\lambda\\lambda}&=\\E_{,uu\\lambda\\lambda}(u_0, \\lambda_0)\\\\\\E_{uuu\\lambda}&=\\E_{,uuu\\lambda}(u_0, \\lambda_0)&\\E_{4}&=\\E_{,uuuu}(u_0, \\lambda_0)&\\end{align}$"
      ],
      "text/plain": [
       "<IPython.core.display.Math object>"
      ]
     },
     "metadata": {},
     "output_type": "display_data"
    }
   ],
   "source": [
    "#| code-fold: true\n",
    "\n",
    "_dict = dict()\n",
    "for n in range(1, 5):\n",
    "    for p in range(n + 1):\n",
    "        q = n - p\n",
    "        _dict[dE[p, q]] = (\"\\\\E_{,\" + p * \"u\" \n",
    "                           + q * \"\\\\lambda\"\n",
    "                           + \"}(u_0, \\lambda_0)\")\n",
    "        \n",
    "display_latex_dict(_dict, num_cols=3)"
   ]
  },
  {
   "cell_type": "markdown",
   "id": "95bb0dfa-de22-4917-940b-5847e7fd2ec2",
   "metadata": {},
   "source": [
    "where\n",
    "\n",
    "- $\\E_\\lambda$, $\\E_{\\lambda\\lambda}$, $\\E_{\\lambda\\lambda\\lambda}$ and $\\E_{\\lambda\\lambda\\lambda\\lambda}$ are *scalar quantities*,\n",
    "- $\\E_{u\\lambda}$, $\\E_{u\\lambda\\lambda}$ and $\\E_{u\\lambda\\lambda\\lambda}$ are *linear forms*,\n",
    "- $\\E_2$, $\\E_{uu\\lambda}$ and $\\E_{uu\\lambda\\lambda}$ are *bilinear forms*,\n",
    "- $\\E_3$ and $\\E_{uuu\\lambda}$ are *trilinear forms*,\n",
    "- $\\E_4$  is a *quadrilinear form*."
   ]
  },
  {
   "cell_type": "raw",
   "id": "408ff340-7912-4073-b028-d756caceed2f",
   "metadata": {},
   "source": [
    "::: {.callout-important}"
   ]
  },
  {
   "cell_type": "markdown",
   "id": "04eabb02-65e3-4cd1-9a69-c8f5dbf4e7ad",
   "metadata": {},
   "source": [
    "Note that all these differentials are defined as SymPy *scalars*. A definition as a SymPy *function* (e.g. `E2 = Function(r\"\\E_2\")`) would be more appropriate. However, SymPy would fail to account for multilinearity or symmetry of these forms. Therefore, we use the following trick: all multi-linear forms are defined as scalars, and the standard multiplication operator `*` means function application. In other words, `E2 * (α * u + β * v) * w` (resp. `E2 * u * v - E2 * v * u`) should be understood as `E2(α * u + β * v, w)` (resp. `E2(u, v) - E2(v, u)`). In both cases, the expressions would are correctly simplified.\n",
    "\n",
    "Whether the symbols in an expression are true scalars or vectors (elements of $U$) should be clear from the context. For example, in the expression: `λ * E2 * u * v`, the first `*` is a true multiplication, while the other `*` refer to function application."
   ]
  },
  {
   "cell_type": "raw",
   "id": "79b89f80-410a-4b35-9e18-8941f8de2485",
   "metadata": {
    "tags": []
   },
   "source": [
    ":::"
   ]
  },
  {
   "cell_type": "markdown",
   "id": "8354a965-9500-43bb-a3a4-5bd4fcfaf952",
   "metadata": {},
   "source": [
    "The energy $\\E(u, \\lambda)$ is now expressed as a Taylor expansion about the critical point."
   ]
  },
  {
   "cell_type": "code",
   "execution_count": 5,
   "id": "ef076813-8918-4530-a8ed-4683d579a008",
   "metadata": {},
   "outputs": [],
   "source": [
    "_f = lambda p, q: sp.binomial(p + q, p) / sp.factorial(p + q)\n",
    "E = sum(_f(p, q) * dE_pq * u**p * λ**q for (p, q), dE_pq in dE.items())"
   ]
  },
  {
   "cell_type": "code",
   "execution_count": 6,
   "id": "247eb0b0-576f-4ede-855f-ed61ff33f804",
   "metadata": {},
   "outputs": [
    {
     "data": {
      "text/latex": [
       "$\\displaystyle \\E(u, \\lambda)=\\frac{\\E_{2} u^{2}}{2} + \\frac{\\E_{3} u^{3}}{6} + \\frac{\\E_{4} u^{4}}{24} + \\frac{\\E_{\\lambda\\lambda\\lambda\\lambda} \\lambda^{4}}{24} + \\frac{\\E_{\\lambda\\lambda\\lambda} \\lambda^{3}}{6} + \\frac{\\E_{\\lambda\\lambda} \\lambda^{2}}{2} + \\E_{\\lambda} \\lambda + \\frac{\\E_{u\\lambda\\lambda\\lambda} \\lambda^{3} u}{6} + \\frac{\\E_{u\\lambda\\lambda} \\lambda^{2} u}{2} + \\E_{u\\lambda} \\lambda u + \\frac{\\E_{uu\\lambda\\lambda} \\lambda^{2} u^{2}}{4} + \\frac{\\E_{uu\\lambda} \\lambda u^{2}}{2} + \\frac{\\E_{uuu\\lambda} \\lambda u^{3}}{6}$"
      ],
      "text/plain": [
       "<IPython.core.display.Math object>"
      ]
     },
     "metadata": {},
     "output_type": "display_data"
    }
   ],
   "source": [
    "#| code-fold: true\n",
    "display_latex_equation(r\"\\E(u, \\lambda)\", E)"
   ]
  },
  {
   "cell_type": "markdown",
   "id": "b8ed499b-24f8-46a0-88e4-ae7017dc67f9",
   "metadata": {},
   "source": [
    "We now turn to the definition of the fundamental path $\\lambda \\mapsto u^\\star(\\lambda)$. We first define in a dictionary the derivatives of $u^\\star$ with respect to $\\lambda$, at $\\lambda = \\lambda_0 = 0$. For example, `du_0[2]` is the symbol $\\ddot{u}_0$, which stands for $\\D^2 u^\\star / \\D \\lambda^2 \\rvert_{\\lambda=\\lambda_0}$."
   ]
  },
  {
   "cell_type": "code",
   "execution_count": 7,
   "id": "4998a2a0-487e-465b-ac03-9521f225c27b",
   "metadata": {},
   "outputs": [],
   "source": [
    "du_0 = {n: sp.Symbol(\"\\\\\" + \"\".join(n * (\"d\",)) + \"ot{u}_0\") for n in range(1, 5)}\n",
    "\n",
    "_dict = {f\"\\\\frac{{\\\\D^{k}u^\\\\ast}}{{\\\\D \\\\lambda^{k}}}\" : v for k, v in du_0.items()}"
   ]
  },
  {
   "cell_type": "code",
   "execution_count": 8,
   "id": "2b605591-25b8-4c19-9830-6904f0c18044",
   "metadata": {},
   "outputs": [
    {
     "data": {
      "text/latex": [
       "$\\displaystyle \\begin{align}\\frac{\\D^1u^\\ast}{\\D \\lambda^1}&=\\dot{u}_0&\\frac{\\D^2u^\\ast}{\\D \\lambda^2}&=\\ddot{u}_0&\\frac{\\D^3u^\\ast}{\\D \\lambda^3}&=\\dddot{u}_0&\\frac{\\D^4u^\\ast}{\\D \\lambda^4}&=\\ddddot{u}_0\\\\\\end{align}$"
      ],
      "text/plain": [
       "<IPython.core.display.Math object>"
      ]
     },
     "metadata": {},
     "output_type": "display_data"
    }
   ],
   "source": [
    "#| code-fold: true\n",
    "display_latex_dict(_dict, num_cols=4)"
   ]
  },
  {
   "cell_type": "markdown",
   "id": "b83cf3ad-4919-4afc-9cfc-e2cdbf36fd2a",
   "metadata": {},
   "source": [
    "The fundamental path is then defined through its Taylor expansion."
   ]
  },
  {
   "cell_type": "code",
   "execution_count": 9,
   "id": "27556541-cc15-4366-ad9c-244f51c07e3b",
   "metadata": {},
   "outputs": [],
   "source": [
    "u_star = sum(λ**n / sp.factorial(n) * v for n, v in du_0.items())"
   ]
  },
  {
   "cell_type": "code",
   "execution_count": 10,
   "id": "963c0803-56a6-4826-b56d-d2ad079cf1c2",
   "metadata": {},
   "outputs": [
    {
     "data": {
      "text/latex": [
       "$\\displaystyle u^\\star(\\lambda)=\\frac{\\ddddot{u}_0 \\lambda^{4}}{24} + \\frac{\\dddot{u}_0 \\lambda^{3}}{6} + \\frac{\\ddot{u}_0 \\lambda^{2}}{2} + \\dot{u}_0 \\lambda$"
      ],
      "text/plain": [
       "<IPython.core.display.Math object>"
      ]
     },
     "metadata": {},
     "output_type": "display_data"
    }
   ],
   "source": [
    "#| code-fold: true\n",
    "display_latex_equation(r\"u^\\star(\\lambda)\", u_star)"
   ]
  },
  {
   "cell_type": "markdown",
   "id": "7e2a3907-bb7e-4f5c-898f-81ea3c8f29d2",
   "metadata": {},
   "source": [
    "It will be assumed in the following that $v, \\hat{v} \\in V$, therefore terms of the form $\\E_2(\\bullet, v)$ and $\\E_2(\\bullet, \\hat{v})$ should vanish. The following function performs this simplification."
   ]
  },
  {
   "cell_type": "code",
   "execution_count": 11,
   "id": "8330cfe6-bcf3-43a0-bf32-3891ce3a5ea7",
   "metadata": {},
   "outputs": [],
   "source": [
    "# Let's define a convenient alias to the Hessian\n",
    "E2 = dE[2, 0]\n",
    "\n",
    "def simplify_E2(expr):\n",
    "    expr = expr.expand()\n",
    "    coeff_E2 = expr.coeff(E2).expand()\n",
    "    coeff_E2_v = coeff_E2.coeff(v)\n",
    "    coeff_E2_v_hat = (coeff_E2 - coeff_E2_v * v).expand().coeff(v_hat)\n",
    "    return (expr - (coeff_E2_v * E2 * v + coeff_E2_v_hat * E2 * v_hat)).expand()\n",
    "\n",
    "assert simplify_E2(E2 * v) == 0\n",
    "assert simplify_E2(E2 * v_hat) == 0\n",
    "assert simplify_E2(3 * v + 4 * v_hat + 5 * v * v_hat + 6 * E2 * v + 7 * E2 * v_hat + 8 * E2 * v * v_hat) == 3 * v + 4 * v_hat + 5 * v * v_hat"
   ]
  },
  {
   "cell_type": "markdown",
   "id": "3bae7c1e-efd2-49d0-b2d5-b0fca5c2ece4",
   "metadata": {},
   "source": [
    "## Elimination of the mixed derivatives of the energy\n",
    "\n",
    "Since the fundamental path $\\lambda \\mapsto u^\\ast(\\lambda)$ is an equilibrium path, the various differentials of the energy at the critical point are not linearly independent. To express the relationships between these forms, we define $\\mathcal R^\\ast(\\lambda; \\bullet)$ as the jacobian of the energy along the fundamental path $u^\\ast(\\lambda)$\n",
    "\n",
    "$$\n",
    "\\mathcal R^\\ast(\\lambda; \\bullet) = \\E_{,u}[u^\\ast(\\lambda), \\lambda; \\bullet].\n",
    "$$"
   ]
  },
  {
   "cell_type": "code",
   "execution_count": 12,
   "id": "94a67263-0e18-4dfd-9683-72aa96e6f821",
   "metadata": {},
   "outputs": [],
   "source": [
    "R_star = (E.diff(u) * u_hat).subs(u, u_star).expand()"
   ]
  },
  {
   "cell_type": "code",
   "execution_count": 13,
   "id": "7a67dc02-6146-413b-808f-8385524667cf",
   "metadata": {},
   "outputs": [
    {
     "data": {
      "text/latex": [
       "$\\displaystyle \\mathcal{R}^\\ast(\\lambda;\\hat{u})=\\lambda \\left(\\E_{2} \\dot{u}_0 \\hat{u} + \\E_{u\\lambda} \\hat{u}\\right) + \\lambda^{2} \\left(\\frac{\\E_{2} \\ddot{u}_0 \\hat{u}}{2} + \\frac{\\E_{3} \\dot{u}_0^{2} \\hat{u}}{2} + \\frac{\\E_{u\\lambda\\lambda} \\hat{u}}{2} + \\E_{uu\\lambda} \\dot{u}_0 \\hat{u}\\right) + \\lambda^{3} \\left(\\frac{\\E_{2} \\dddot{u}_0 \\hat{u}}{6} + \\frac{\\E_{3} \\ddot{u}_0 \\dot{u}_0 \\hat{u}}{2} + \\frac{\\E_{4} \\dot{u}_0^{3} \\hat{u}}{6} + \\frac{\\E_{u\\lambda\\lambda\\lambda} \\hat{u}}{6} + \\frac{\\E_{uu\\lambda\\lambda} \\dot{u}_0 \\hat{u}}{2} + \\frac{\\E_{uu\\lambda} \\ddot{u}_0 \\hat{u}}{2} + \\frac{\\E_{uuu\\lambda} \\dot{u}_0^{2} \\hat{u}}{2}\\right) + \\lambda^{4} \\left(\\frac{\\E_{2} \\ddddot{u}_0 \\hat{u}}{24} + \\frac{\\E_{3} \\dddot{u}_0 \\dot{u}_0 \\hat{u}}{6} + \\frac{\\E_{3} \\ddot{u}_0^{2} \\hat{u}}{8} + \\frac{\\E_{4} \\ddot{u}_0 \\dot{u}_0^{2} \\hat{u}}{4} + \\frac{\\E_{uu\\lambda\\lambda} \\ddot{u}_0 \\hat{u}}{4} + \\frac{\\E_{uu\\lambda} \\dddot{u}_0 \\hat{u}}{6} + \\frac{\\E_{uuu\\lambda} \\ddot{u}_0 \\dot{u}_0 \\hat{u}}{2}\\right) + O\\left(\\lambda^{5}\\right)$"
      ],
      "text/plain": [
       "<IPython.core.display.Math object>"
      ]
     },
     "metadata": {},
     "output_type": "display_data"
    }
   ],
   "source": [
    "#| code-fold: true\n",
    "display_latex_equation(r\"\\mathcal{R}^\\ast(\\lambda;\" + sp.latex(u_hat) + \")\",\n",
    "                       R_star.series(λ, 0, 5))"
   ]
  },
  {
   "cell_type": "markdown",
   "id": "2e8f6a62-61e5-467a-897a-9dba71556081",
   "metadata": {},
   "source": [
    "Of course, since $\\lambda \\mapsto u^\\ast(\\lambda)$ is an equilibrium path, we have $\\mathcal R^\\ast(\\lambda; \\bullet) = 0$ for all $\\lambda$. Therefore, all coefficients of the above polynomial in $\\lambda$ are null, which delivers expressions of $\\E_{u\\lambda}$, $\\E_{u\\lambda\\lambda}$ and $\\E_{u\\lambda\\lambda\\lambda}$"
   ]
  },
  {
   "cell_type": "code",
   "execution_count": 14,
   "id": "0c37537a-78e8-4b62-90d4-f4eef24d557c",
   "metadata": {},
   "outputs": [],
   "source": [
    "mixed1 = dict()\n",
    "\n",
    "for q in range(1, 4):\n",
    "    x = dE[1, q]\n",
    "    eq = R_star.coeff(λ, q)\n",
    "    sol = sp.solve(eq, x)[0]\n",
    "    mixed1[x] = sol"
   ]
  },
  {
   "cell_type": "code",
   "execution_count": 15,
   "id": "7490e41e-6f89-448a-a268-ed1efdb4af52",
   "metadata": {},
   "outputs": [
    {
     "data": {
      "text/latex": [
       "$\\displaystyle \\begin{align}\\E_{u\\lambda}&=- \\E_{2} \\dot{u}_0\\\\\\E_{u\\lambda\\lambda}&=- \\E_{2} \\ddot{u}_0 - \\E_{3} \\dot{u}_0^{2} - 2 \\E_{uu\\lambda} \\dot{u}_0\\\\\\E_{u\\lambda\\lambda\\lambda}&=- \\E_{2} \\dddot{u}_0 - 3 \\E_{3} \\ddot{u}_0 \\dot{u}_0 - \\E_{4} \\dot{u}_0^{3} - 3 \\E_{uu\\lambda\\lambda} \\dot{u}_0 - 3 \\E_{uu\\lambda} \\ddot{u}_0 - 3 \\E_{uuu\\lambda} \\dot{u}_0^{2}\\\\\\end{align}$"
      ],
      "text/plain": [
       "<IPython.core.display.Math object>"
      ]
     },
     "metadata": {},
     "output_type": "display_data"
    }
   ],
   "source": [
    "#| code-fold: true\n",
    "display_latex_dict(mixed1, num_cols=1)"
   ]
  },
  {
   "cell_type": "markdown",
   "id": "46608109-ab87-4e90-b542-269338410536",
   "metadata": {},
   "source": [
    "We want to get rid of the remaining mixed derivatives, namely: $\\E_{uu\\lambda}$, $\\E_{uuu\\lambda}$ and $\\E_{uu\\lambda\\lambda}$. To do so, we introduce the derivatives $\\dot{\\E}_2$, $\\ddot{\\E}_2$ and $\\dot{\\E}_3$ defined in @sec-20230105101657."
   ]
  },
  {
   "cell_type": "code",
   "execution_count": 16,
   "id": "630aafc9-859e-41cf-a622-e66c26376561",
   "metadata": {},
   "outputs": [],
   "source": [
    "E2_dot, E2_ddot, E3_dot = sp.symbols(\"\\dot{\\E}_2 \\ddot{\\E}_2 \\dot{\\E}_3\")\n",
    "\n",
    "E_uu_star = E.diff(u, 2).subs(u, u_star).expand()\n",
    "E_uuu_star = E.diff(u, 3).subs(u, u_star).expand()\n",
    "\n",
    "eqs = [sp.Eq(E2_dot, E_uu_star.coeff(λ, 1)),\n",
    "       sp.Eq(E3_dot, E_uuu_star.coeff(λ, 1)),\n",
    "       sp.Eq(E2_ddot, 2 * E_uu_star.coeff(λ, 2))]\n",
    "\n",
    "unknowns = [dE[2, 1], dE[3, 1], dE[2, 2]] # E_uuλ, E_uuuλ, E_uuλλ\n",
    "\n",
    "mixed2 = dict()\n",
    "for eq, x in zip(eqs, unknowns):\n",
    "    mixed2[x] = sp.solve(eq, x)[0].subs(mixed2).expand()"
   ]
  },
  {
   "cell_type": "markdown",
   "id": "66ad1a18-49a0-4f7b-a940-1c19ac17e2e0",
   "metadata": {},
   "source": [
    "We get the following expressions"
   ]
  },
  {
   "cell_type": "code",
   "execution_count": 17,
   "id": "29d39199-bd28-41a4-a4f4-86b6efecc2bf",
   "metadata": {},
   "outputs": [
    {
     "data": {
      "text/latex": [
       "$\\displaystyle \\begin{align}\\E_{uu\\lambda}&=- \\E_{3} \\dot{u}_0 + \\dot{\\E}_2\\\\\\E_{uuu\\lambda}&=- \\E_{4} \\dot{u}_0 + \\dot{\\E}_3\\\\\\E_{uu\\lambda\\lambda}&=- \\E_{3} \\ddot{u}_0 + \\E_{4} \\dot{u}_0^{2} + \\ddot{\\E}_2 - 2 \\dot{\\E}_3 \\dot{u}_0\\\\\\end{align}$"
      ],
      "text/plain": [
       "<IPython.core.display.Math object>"
      ]
     },
     "metadata": {},
     "output_type": "display_data"
    }
   ],
   "source": [
    "#| code-fold: true\n",
    "display_latex_dict(mixed2, num_cols=1)"
   ]
  },
  {
   "cell_type": "markdown",
   "id": "c283c4c6-5f0f-4fa8-bd94-076af37e9ac1",
   "metadata": {},
   "source": [
    "Combining the above results allows to fully eliminate the mixed derivatives"
   ]
  },
  {
   "cell_type": "code",
   "execution_count": 18,
   "id": "d7aedc79-7cc0-4b3b-8d50-4e6f8bcb01df",
   "metadata": {},
   "outputs": [
    {
     "data": {
      "text/latex": [
       "$\\displaystyle \\begin{align}\\E_{u\\lambda}&=- \\E_{2} \\dot{u}_0\\\\\\E_{u\\lambda\\lambda}&=- \\E_{2} \\ddot{u}_0 + \\E_{3} \\dot{u}_0^{2} - 2 \\dot{\\E}_2 \\dot{u}_0\\\\\\E_{u\\lambda\\lambda\\lambda}&=- \\E_{2} \\dddot{u}_0 + 3 \\E_{3} \\ddot{u}_0 \\dot{u}_0 - \\E_{4} \\dot{u}_0^{3} - 3 \\ddot{\\E}_2 \\dot{u}_0 - 3 \\ddot{u}_0 \\dot{\\E}_2 + 3 \\dot{\\E}_3 \\dot{u}_0^{2}\\\\\\E_{uu\\lambda}&=- \\E_{3} \\dot{u}_0 + \\dot{\\E}_2\\\\\\E_{uuu\\lambda}&=- \\E_{4} \\dot{u}_0 + \\dot{\\E}_3\\\\\\E_{uu\\lambda\\lambda}&=- \\E_{3} \\ddot{u}_0 + \\E_{4} \\dot{u}_0^{2} + \\ddot{\\E}_2 - 2 \\dot{\\E}_3 \\dot{u}_0\\\\\\end{align}$"
      ],
      "text/plain": [
       "<IPython.core.display.Math object>"
      ]
     },
     "metadata": {},
     "output_type": "display_data"
    }
   ],
   "source": [
    "#| code-fold: true\n",
    "\n",
    "mixed = {k: v.subs(mixed2).expand() for k, v in mixed1.items()}\n",
    "mixed.update(mixed2)\n",
    "\n",
    "display_latex_dict(mixed, num_cols=1)"
   ]
  },
  {
   "cell_type": "markdown",
   "id": "16163ade-4d6b-4316-b3e0-ccf0f6135a0b",
   "metadata": {},
   "source": [
    "These expressions can be plugged into the expansion of the energy."
   ]
  },
  {
   "cell_type": "code",
   "execution_count": 19,
   "id": "971cc17d-65eb-4322-b2ee-b09fb2b61f53",
   "metadata": {},
   "outputs": [],
   "source": [
    "E = E.subs(mixed).expand()"
   ]
  },
  {
   "cell_type": "code",
   "execution_count": 20,
   "id": "09fc3888-ea70-45ae-a81e-d560038675b0",
   "metadata": {},
   "outputs": [
    {
     "data": {
      "text/latex": [
       "$\\displaystyle \\E(u, \\lambda)=- \\frac{\\E_{2} \\dddot{u}_0 \\lambda^{3} u}{6} - \\frac{\\E_{2} \\ddot{u}_0 \\lambda^{2} u}{2} - \\E_{2} \\dot{u}_0 \\lambda u + \\frac{\\E_{2} u^{2}}{2} + \\frac{\\E_{3} \\ddot{u}_0 \\dot{u}_0 \\lambda^{3} u}{2} - \\frac{\\E_{3} \\ddot{u}_0 \\lambda^{2} u^{2}}{4} + \\frac{\\E_{3} \\dot{u}_0^{2} \\lambda^{2} u}{2} - \\frac{\\E_{3} \\dot{u}_0 \\lambda u^{2}}{2} + \\frac{\\E_{3} u^{3}}{6} - \\frac{\\E_{4} \\dot{u}_0^{3} \\lambda^{3} u}{6} + \\frac{\\E_{4} \\dot{u}_0^{2} \\lambda^{2} u^{2}}{4} - \\frac{\\E_{4} \\dot{u}_0 \\lambda u^{3}}{6} + \\frac{\\E_{4} u^{4}}{24} + \\frac{\\E_{\\lambda\\lambda\\lambda\\lambda} \\lambda^{4}}{24} + \\frac{\\E_{\\lambda\\lambda\\lambda} \\lambda^{3}}{6} + \\frac{\\E_{\\lambda\\lambda} \\lambda^{2}}{2} + \\E_{\\lambda} \\lambda - \\frac{\\ddot{\\E}_2 \\dot{u}_0 \\lambda^{3} u}{2} + \\frac{\\ddot{\\E}_2 \\lambda^{2} u^{2}}{4} - \\frac{\\ddot{u}_0 \\dot{\\E}_2 \\lambda^{3} u}{2} - \\dot{\\E}_2 \\dot{u}_0 \\lambda^{2} u + \\frac{\\dot{\\E}_2 \\lambda u^{2}}{2} + \\frac{\\dot{\\E}_3 \\dot{u}_0^{2} \\lambda^{3} u}{2} - \\frac{\\dot{\\E}_3 \\dot{u}_0 \\lambda^{2} u^{2}}{2} + \\frac{\\dot{\\E}_3 \\lambda u^{3}}{6}$"
      ],
      "text/plain": [
       "<IPython.core.display.Math object>"
      ]
     },
     "metadata": {},
     "output_type": "display_data"
    }
   ],
   "source": [
    "#| code-fold: true\n",
    "display_latex_equation(r\"\\E(u, \\lambda)\", E)"
   ]
  },
  {
   "cell_type": "raw",
   "id": "ef2f82e7-fe31-446f-9f2c-5e2110d5c76a",
   "metadata": {},
   "source": [
    "::: {.callout-important}"
   ]
  },
  {
   "cell_type": "markdown",
   "id": "953c6371-7a0d-4680-9d7f-77eda79ba992",
   "metadata": {},
   "source": [
    "Start refactoring from here!"
   ]
  },
  {
   "cell_type": "raw",
   "id": "5558f5ab-1a3f-4dde-9687-9d173c18366e",
   "metadata": {},
   "source": [
    ":::"
   ]
  },
  {
   "cell_type": "code",
   "execution_count": 21,
   "id": "5f423f10-0f97-47de-98dd-5b43e9648910",
   "metadata": {},
   "outputs": [
    {
     "ename": "AssertionError",
     "evalue": "",
     "output_type": "error",
     "traceback": [
      "\u001b[1;31m---------------------------------------------------------------------------\u001b[0m",
      "\u001b[1;31mAssertionError\u001b[0m                            Traceback (most recent call last)",
      "Cell \u001b[1;32mIn[21], line 1\u001b[0m\n\u001b[1;32m----> 1\u001b[0m \u001b[38;5;28;01massert\u001b[39;00m \u001b[38;5;28;01mFalse\u001b[39;00m\n",
      "\u001b[1;31mAssertionError\u001b[0m: "
     ]
    }
   ],
   "source": [
    "assert False"
   ]
  },
  {
   "cell_type": "code",
   "execution_count": null,
   "id": "42640847-c8ca-48eb-8ede-9196d394fa75",
   "metadata": {},
   "outputs": [],
   "source": [
    "res = (E.diff(u) * δu).expand()"
   ]
  },
  {
   "cell_type": "code",
   "execution_count": null,
   "id": "bb281fd3-5ade-4d8d-b7b9-b4378376d11b",
   "metadata": {},
   "outputs": [],
   "source": [
    "ξ, w_ξ, w_λ, w_ξξ, w_ξλ, w_λλ = symbols(r\"\\xi w_\\xi w_\\lambda w_{\\xi\\xi} w_{\\xi\\lambda} w_{\\lambda\\lambda}\")\n",
    "\n",
    "w = ξ * w_ξ + λ * w_λ + (ξ**2 * w_ξξ + 2 * ξ * λ * w_ξλ + λ**2 * w_λλ) / 2"
   ]
  },
  {
   "cell_type": "code",
   "execution_count": null,
   "id": "592a3550-aefd-4116-b7d3-878b629bc997",
   "metadata": {},
   "outputs": [],
   "source": [
    "res_w = res.subs({δu: δw, u: u_star + ξ * v + w}).expand()\n",
    "crit = {ξ: 0, λ: 0}"
   ]
  },
  {
   "cell_type": "code",
   "execution_count": null,
   "id": "dd762a83-038d-40a0-b667-8b940dd1c5b1",
   "metadata": {},
   "outputs": [],
   "source": [
    "eq = Eq(simplify_E2(res_w.diff(ξ)), 0).subs(crit)\n",
    "display(eq)"
   ]
  },
  {
   "cell_type": "code",
   "execution_count": null,
   "id": "5a0779dc-4b71-466a-87e4-04d601069557",
   "metadata": {},
   "outputs": [],
   "source": [
    "eq = Eq(res_w.diff(λ), 0).subs(crit)\n",
    "display(eq)"
   ]
  },
  {
   "cell_type": "code",
   "execution_count": null,
   "id": "18da91e8-3967-443d-98ff-16651479ea4c",
   "metadata": {},
   "outputs": [],
   "source": [
    "eq = Eq(res_w.diff(λ, 2), 0).subs(crit).subs(w_λ, 0).expand()\n",
    "display(eq)"
   ]
  },
  {
   "cell_type": "code",
   "execution_count": null,
   "id": "55597915-a3af-434d-906a-b4d40cef0ef6",
   "metadata": {},
   "outputs": [],
   "source": [
    "eq_w_ξξ = Eq(res_w.diff(ξ, 2), 0).subs(crit).subs(w_ξ, 0).expand()\n",
    "display(eq_w_ξξ)"
   ]
  },
  {
   "cell_type": "code",
   "execution_count": null,
   "id": "7acd425f-b71d-406e-91f7-5eafe181de89",
   "metadata": {},
   "outputs": [],
   "source": [
    "eq_w_ξλ = Eq(res_w.diff(ξ, 1, λ, 1), 0).subs(crit).subs({w_ξ: 0, w_λ: 0}).expand()\n",
    "display(eq_w_ξλ)"
   ]
  },
  {
   "cell_type": "markdown",
   "id": "183a90fd-65ce-49a5-a8af-c0f79b4a86b2",
   "metadata": {},
   "source": [
    "## Elimination of $\\lambda$"
   ]
  },
  {
   "cell_type": "code",
   "execution_count": null,
   "id": "dd3af8f3-c36f-4685-9bab-b6efd35f4b34",
   "metadata": {},
   "outputs": [],
   "source": [
    "t = symbols(\"t\")"
   ]
  },
  {
   "cell_type": "code",
   "execution_count": null,
   "id": "1c311c2e-3d76-4ee3-80f5-12b61c13adb1",
   "metadata": {},
   "outputs": [],
   "source": [
    "w_I, w_II = symbols(r\"\\xi_kw_{k\\lambda}, \\xi_i\\xi_jw_{ij}\")\n",
    "w_bif = t * λ * w_I + (t * λ)**2 / 2 * w_II\n",
    "display(w_bif)"
   ]
  },
  {
   "cell_type": "code",
   "execution_count": null,
   "id": "2c547c43-f4f7-4ac3-8cd3-a0d5369b8b77",
   "metadata": {
    "tags": []
   },
   "outputs": [],
   "source": [
    "λ_I, λ_II = symbols(r\"\\xi_{p}\\lambda_{p} \\xi_m\\xi_n\\lambda_{mn}\")\n",
    "λ_bif = t * λ_I + t**2 / 2 * λ_II\n",
    "display(λ_bif)"
   ]
  },
  {
   "cell_type": "code",
   "execution_count": null,
   "id": "25d519f8-1270-486b-bcbb-144787cfae2d",
   "metadata": {},
   "outputs": [],
   "source": [
    "ξv = Symbol(r\"\\xi_{l}v_{l}\")\n",
    "u_bif = u_star + t * ξv + w_bif\n",
    "display(u_bif)"
   ]
  },
  {
   "cell_type": "code",
   "execution_count": null,
   "id": "79e9afe3-5137-41b8-8e17-f3b3c4dde389",
   "metadata": {},
   "outputs": [],
   "source": [
    "res_v = res.subs(δu, δv).subs(u, u_bif).subs(λ, λ_bif).expand()"
   ]
  },
  {
   "cell_type": "code",
   "execution_count": null,
   "id": "5feb9503-b924-4c55-a084-e169f9cc4f3c",
   "metadata": {},
   "outputs": [],
   "source": [
    "assert res_v.coeff(t, 0) == 0"
   ]
  },
  {
   "cell_type": "code",
   "execution_count": null,
   "id": "cb42edac-b60a-4729-b65a-1f077af65b7b",
   "metadata": {},
   "outputs": [],
   "source": [
    "eqs = [Eq(simplify_E2(res_v.coeff(t, k)), 0, evaluate=False) for k in range(4)]\n",
    "    \n",
    "for eq in eqs:\n",
    "    display(eq)"
   ]
  },
  {
   "cell_type": "code",
   "execution_count": null,
   "id": "411cbb72-e72b-4a42-8be7-bb080ecaaf41",
   "metadata": {},
   "outputs": [],
   "source": [
    "del(E_uu_star, E_uuu_star)"
   ]
  },
  {
   "cell_type": "markdown",
   "id": "a7bcdc69-b9b7-46f6-9cfd-d1969bef1489",
   "metadata": {},
   "source": [
    "The first equation should be understood as follows\n",
    "\n",
    "\\begin{equation}\n",
    "\\tfrac{1}{2} \\, \\xi_n \\, \\xi_p \\, E_3(v_n, v_p, \\hat{v}) + \\lambda_n \\, \\xi_n \\, \\xi_p \\, \\dot{E}_2(\\xi_p, \\hat{v}) = 0,\n",
    "\\end{equation}\n",
    "\n",
    "and, testing with $\\hat{v} = v_k$\n",
    "\n",
    "$$\\xi_n \\, \\xi_p \\, E_{npk} + 2\\lambda_n \\, \\xi_n \\, \\xi_p \\, \\dot{E}_{pk} = 0.$${#eq-20221221154153}"
   ]
  }
 ],
 "metadata": {
  "kernelspec": {
   "display_name": "Python 3 (ipykernel)",
   "language": "python",
   "name": "python3"
  },
  "language_info": {
   "codemirror_mode": {
    "name": "ipython",
    "version": 3
   },
   "file_extension": ".py",
   "mimetype": "text/x-python",
   "name": "python",
   "nbconvert_exporter": "python",
   "pygments_lexer": "ipython3",
   "version": "3.9.15"
  }
 },
 "nbformat": 4,
 "nbformat_minor": 5
}
